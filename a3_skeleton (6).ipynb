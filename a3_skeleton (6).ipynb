{
  "cells": [
    {
      "cell_type": "markdown",
      "id": "963690b2",
      "metadata": {
        "id": "963690b2"
      },
      "source": [
        "<a href=\"https://colab.research.google.com/github/vlamen/tue-deeplearning/blob/main/assignments/assignment_2_3/a3_skeleton.ipynb\" target=\"_parent\"><img src=\"https://colab.research.google.com/assets/colab-badge.svg\" alt=\"Open In Colab\"/></a>"
      ]
    },
    {
      "cell_type": "markdown",
      "id": "bd8459f1",
      "metadata": {
        "id": "bd8459f1"
      },
      "source": [
        "# Group Number:\n",
        "\n",
        "# Student 1: Silvia Sultana\n",
        "\n",
        "# Student 2: Nikhil Patni\n",
        "\n",
        "# Student 3: Aishvarya Vishwanathan"
      ]
    },
    {
      "cell_type": "markdown",
      "id": "dde28458",
      "metadata": {
        "id": "dde28458"
      },
      "source": [
        "# Downloading Data and Preliminaries"
      ]
    },
    {
      "cell_type": "code",
      "execution_count": 3,
      "id": "7d0580a5",
      "metadata": {
        "id": "7d0580a5"
      },
      "outputs": [],
      "source": [
        "import pickle\n",
        "import matplotlib.pyplot as plt\n",
        "import matplotlib\n",
        "import numpy as np\n",
        "\n",
        "from zipfile import ZipFile\n",
        "import requests\n",
        "import io"
      ]
    },
    {
      "cell_type": "code",
      "execution_count": 4,
      "id": "8ce00edc",
      "metadata": {
        "id": "8ce00edc"
      },
      "outputs": [],
      "source": [
        "def load_zip(url):\n",
        "    response = requests.get(url)\n",
        "    response.raise_for_status()\n",
        "    zipf = ZipFile(io.BytesIO(response.content))\n",
        "    return {name: zipf.read(name) for name in zipf.namelist()}\n",
        "\n",
        "def load_pickle(zipfile, fn):\n",
        "    return pickle.load(io.BytesIO(zipfile[fn]))"
      ]
    },
    {
      "cell_type": "code",
      "execution_count": 5,
      "id": "bb77a4be",
      "metadata": {
        "id": "bb77a4be"
      },
      "outputs": [],
      "source": [
        "data = load_zip('https://surfdrive.surf.nl/files/index.php/s/cwqGaS22KXgnXtg/download')\n",
        "\n",
        "    \n",
        "\"\"\"\n",
        "simulation_{train, valid, test} is stored as a list of simulations. \n",
        "Each simulation is a numpy array of size (t, 2): For t timesteps an x and y coordinate of our particle.\n",
        "\"\"\"\n",
        "simulation_train = load_pickle(data, 'data/train/simulation.pickle')  # 3.1 + 3.2\n",
        "simulation_valid = load_pickle(data, 'data/valid/simulation.pickle')  # 3.1 + 3.2\n",
        "simulation_test = load_pickle(data, 'data/test/simulation.pickle')  # 3.1 + 3.2\n",
        "\n",
        "\"\"\"\n",
        "charges_{train, valid, test} is stored as a list of simulation-charges. \n",
        "These charges are stored as numpy arrays of size (3,): One value for each charge.\n",
        "\"\"\"\n",
        "charges_train = load_pickle(data, 'data/train/charges.pickle')  # 3.1\n",
        "charges_valid = load_pickle(data, 'data/valid/charges.pickle')  # 3.1\n",
        "charges_test = load_pickle(data, 'data/test/charges.pickle')  # 3.1\n",
        "\n",
        "\"\"\"\n",
        "simulation_continued_{train, valid, test} is stored as a list of simulations. \n",
        "Each simulation is a numpy array of size (t, 2): For t timesteps an x and y coordinate of our particle.\n",
        "\"\"\"\n",
        "simulation_continued_train = load_pickle(data, 'data/train/simulation_continued.pickle')  # 3.2\n",
        "simulation_continued_valid = load_pickle(data, 'data/valid/simulation_continued.pickle')  # 3.2\n",
        "simulation_continued_test = load_pickle(data, 'data/test/simulation_continued.pickle')  # 3.2\n",
        "\n",
        "\"\"\"\n",
        "Note that the indices are shared throughout the different lists, e.g., for the 4th training simulation:\n",
        "simulation_train[3] contains its initial simulation\n",
        "charges_train[3] contains the charges associated with the simulation\n",
        "simulation_continued_train[3] contains the continuation of the simulation \n",
        "                --> simulation_continued_train[3][0] is the state after simulation_train[3][-1]\n",
        "\"\"\"\n",
        "pass"
      ]
    },
    {
      "cell_type": "code",
      "execution_count": 6,
      "id": "10a3438a",
      "metadata": {
        "colab": {
          "base_uri": "https://localhost:8080/"
        },
        "id": "10a3438a",
        "outputId": "4ae3554f-4d65-44bc-85fa-c0e1f5b55e4b"
      },
      "outputs": [
        {
          "output_type": "stream",
          "name": "stdout",
          "text": [
            "Overview of no. datapoints:\n",
            "\n",
            "Task 3.1:\n",
            "800 train, 100 validation, 100 test simulations\n",
            "800 train, 100 validation, 100 test charge pairs\n",
            "\n",
            "Task 3.2:\n",
            "Since len(simulation_continued_train) < len(simulation_train), we can only use a subset of initial simulations\n",
            "We cut simulation_train down to the first 150 samples in simulation_train_task32\n",
            "150 train, 100 validation, 100 test simulations\n",
            "150 train, 100 validation, 100 test continuations\n",
            "\n",
            "For task 3.1, use:\n",
            "simulation_train + charges_train\n",
            "simulation_valid + charges_valid\n",
            "simulation_test + charges_test\n",
            "\n",
            "For task 3.2, use:\n",
            "simulation_train_task32 + simulation_continued_train\n",
            "simulation_valid + simulation_continued_valid\n",
            "simulation_test + simulation_continued_test\n",
            "\n"
          ]
        }
      ],
      "source": [
        "print('Overview of no. datapoints:\\n')\n",
        "\n",
        "print('Task 3.1:')\n",
        "print(f'{len(simulation_train)} train, {len(simulation_valid)} validation, {len(simulation_test)} test simulations')\n",
        "print(f'{len(charges_train)} train, {len(charges_valid)} validation, {len(charges_test)} test charge pairs')\n",
        "print()\n",
        "\n",
        "print('Task 3.2:')\n",
        "print('Since len(simulation_continued_train) < len(simulation_train), we can only use a subset of initial simulations')\n",
        "print('We cut simulation_train down to the first 150 samples in simulation_train_task32')\n",
        "simulation_train_task32 = simulation_train[:150]\n",
        "print(f'{len(simulation_train_task32)} train, {len(simulation_valid)} validation, {len(simulation_test)} test simulations')\n",
        "print(f'{len(simulation_continued_train)} train, {len(simulation_continued_valid)} validation, {len(simulation_continued_test)} test continuations')\n",
        "\n",
        "print(f\"\"\"\n",
        "For task 3.1, use:\n",
        "{chr(10).join([\"simulation_{} + charges_{}\".format(t, t) for t in [\"train\", \"valid\", \"test\"]])}\n",
        "\n",
        "For task 3.2, use:\n",
        "{chr(10).join([\"simulation_{} + simulation_continued_{}\".format(*((t[0], t[1]) if isinstance(t, tuple) else (t, t))) for t in [(\"train_task32\", \"train\"), \"valid\", \"test\"]])}\n",
        "\"\"\")\n"
      ]
    },
    {
      "cell_type": "code",
      "source": [
        "simulation_train[0].shape #so 103 simulation time steps, each has (x,y)coordinates specified"
      ],
      "metadata": {
        "colab": {
          "base_uri": "https://localhost:8080/"
        },
        "id": "D81EXIYWc2-o",
        "outputId": "d4e9c7b2-7c07-4c9a-84cf-b3a9618d7a69"
      },
      "id": "D81EXIYWc2-o",
      "execution_count": 7,
      "outputs": [
        {
          "output_type": "execute_result",
          "data": {
            "text/plain": [
              "(103, 2)"
            ]
          },
          "metadata": {},
          "execution_count": 7
        }
      ]
    },
    {
      "cell_type": "code",
      "source": [
        "charges_train[3] #3 values showing three charges for three particles "
      ],
      "metadata": {
        "colab": {
          "base_uri": "https://localhost:8080/"
        },
        "id": "TVdgAr0NdOpp",
        "outputId": "0c800ff1-5e01-46d4-f43f-0492d7dcb3e8"
      },
      "id": "TVdgAr0NdOpp",
      "execution_count": 8,
      "outputs": [
        {
          "output_type": "execute_result",
          "data": {
            "text/plain": [
              "array([-0.81015605, -0.67512385, -0.16594701])"
            ]
          },
          "metadata": {},
          "execution_count": 8
        }
      ]
    },
    {
      "cell_type": "code",
      "execution_count": 9,
      "id": "3cfafdb3",
      "metadata": {
        "colab": {
          "base_uri": "https://localhost:8080/"
        },
        "id": "3cfafdb3",
        "outputId": "c5dbae9f-faaf-4e94-d651-34b4aad654a6"
      },
      "outputs": [
        {
          "output_type": "stream",
          "name": "stdout",
          "text": [
            "Print some shapes:\n",
            "\n",
            "simulation_train[0].shape: (103, 2) -> (t, 2), (x, y) at every t)\n",
            "charges_train[0].shape: (3,) -> charges for the simulation\n",
            "simulation_continued_train[0].shape: (54, 2) -> (t, 2), (x, y) at every t)\n",
            "----\n",
            "\n",
            "simulation_train[1].shape: (97, 2) -> (t, 2), (x, y) at every t)\n",
            "charges_train[1].shape: (3,) -> charges for the simulation\n",
            "simulation_continued_train[1].shape: (45, 2) -> (t, 2), (x, y) at every t)\n",
            "----\n",
            "\n",
            "simulation_train[2].shape: (99, 2) -> (t, 2), (x, y) at every t)\n",
            "charges_train[2].shape: (3,) -> charges for the simulation\n",
            "simulation_continued_train[2].shape: (47, 2) -> (t, 2), (x, y) at every t)\n",
            "----\n",
            "\n"
          ]
        }
      ],
      "source": [
        "print('Print some shapes:\\n')\n",
        "for i in range(3):\n",
        "    print('simulation_train[{}].shape:'.format(i), simulation_train[i].shape, '-> (t, 2), (x, y) at every t)')\n",
        "    print('charges_train[{}].shape:'.format(i), charges_train[i].shape, '-> charges for the simulation')\n",
        "    print('simulation_continued_train[{}].shape:'.format(i), simulation_continued_train[i].shape, '-> (t, 2), (x, y) at every t)')\n",
        "    print('----\\n')"
      ]
    },
    {
      "cell_type": "code",
      "execution_count": 10,
      "id": "f9106543",
      "metadata": {
        "id": "f9106543"
      },
      "outputs": [],
      "source": [
        "def plot_example(x, x_gt=None, x_pred=None, fn=None):\n",
        "    charge_locations = np.array([[-1.53846154, -1.53846154],\n",
        "                                 [ 1.53846154, -1.53846154],\n",
        "                                 [ 0.        ,  1.53846154]])  # charge locations are fixed\n",
        "    fig = plt.figure()\n",
        "    axes = plt.gca()\n",
        "    axes.set_xlim([-5., 5.])\n",
        "    axes.set_ylim([-5., 5.])\n",
        "    cmap = matplotlib.cm.get_cmap('tab20')\n",
        "    plt.plot(x[:, 0], x[:, 1], color=cmap(0))\n",
        "    plt.plot(x[0, 0], x[0, 1], 'd', color=cmap(1))\n",
        "    fig.set_size_inches(5, 5)\n",
        "    for charge in charge_locations:\n",
        "        plt.plot(charge[0], charge[1], 'd', color='black')\n",
        "    if x_gt is not None:\n",
        "        plt.plot(x_gt[:, 0], x_gt[:, 1], color='red', linewidth=.5)\n",
        "    if x_pred is not None:\n",
        "        plt.plot(x_pred[:, 0], x_pred[:, 1], color='green', linestyle='--')\n",
        "    if fn is None:\n",
        "        plt.show()\n",
        "    else:\n",
        "        plt.savefig(fn)"
      ]
    },
    {
      "cell_type": "code",
      "execution_count": 11,
      "id": "d28681a6",
      "metadata": {
        "colab": {
          "base_uri": "https://localhost:8080/",
          "height": 337
        },
        "id": "d28681a6",
        "outputId": "78060022-eb95-4357-8167-294052b58ac0"
      },
      "outputs": [
        {
          "output_type": "display_data",
          "data": {
            "text/plain": [
              "<Figure size 360x360 with 1 Axes>"
            ],
            "image/png": "[encoded data removed]"
          },
          "metadata": {
            "needs_background": "light"
          }
        },
        {
          "output_type": "stream",
          "name": "stdout",
          "text": [
            "Charges are [-0.44280441 -0.90099678 -0.02730218]\n"
          ]
        }
      ],
      "source": [
        "test_idx = np.random.randint(150)\n",
        "plot_example(simulation_train[test_idx], simulation_continued_train[test_idx])\n",
        "print(f'Charges are {charges_train[test_idx]}')"
      ]
    },
    {
      "cell_type": "code",
      "source": [
        "simulation_train[test_idx].shape"
      ],
      "metadata": {
        "id": "4q3EgEAoe0mj",
        "colab": {
          "base_uri": "https://localhost:8080/"
        },
        "outputId": "eba704df-06b9-4571-8720-1935c560100e"
      },
      "id": "4q3EgEAoe0mj",
      "execution_count": 12,
      "outputs": [
        {
          "output_type": "execute_result",
          "data": {
            "text/plain": [
              "(109, 2)"
            ]
          },
          "metadata": {},
          "execution_count": 12
        }
      ]
    },
    {
      "cell_type": "code",
      "source": [
        "simulation_train[test_idx][:,0] #takes all rows from only first column index 0 is column 1, x coordinate in this case"
      ],
      "metadata": {
        "colab": {
          "base_uri": "https://localhost:8080/"
        },
        "id": "fUQ1U7qSd24q",
        "outputId": "9eca425d-59e4-4dd6-b82a-44faf87de984"
      },
      "id": "fUQ1U7qSd24q",
      "execution_count": 13,
      "outputs": [
        {
          "output_type": "execute_result",
          "data": {
            "text/plain": [
              "array([-8.45913614e-02, -8.58067809e-02, -8.60209338e-02, -8.51840532e-02,\n",
              "       -8.32348470e-02, -8.00872705e-02, -7.55726202e-02, -6.92181202e-02,\n",
              "       -6.10548838e-02, -5.14272154e-02, -4.03605955e-02, -2.78058738e-02,\n",
              "       -1.36851857e-02,  2.10057410e-03,  1.96724826e-02,  3.91779173e-02,\n",
              "        6.07977254e-02,  8.47561981e-02,  1.11333249e-01,  1.40875846e-01,\n",
              "        1.73800485e-01,  2.10570689e-01,  2.51629751e-01,  2.97284828e-01,\n",
              "        3.47581882e-01,  4.02246559e-01,  4.60734699e-01,  5.22356110e-01,\n",
              "        5.86397793e-01,  6.52202928e-01,  7.19204174e-01,  7.86927867e-01,\n",
              "        8.54984665e-01,  9.23055986e-01,  9.90880641e-01,  1.05824328e+00,\n",
              "        1.12496494e+00,  1.19089559e+00,  1.25590822e+00,  1.31989427e+00,\n",
              "        1.38276001e+00,  1.44442372e+00,  1.50481345e+00,  1.56386524e+00,\n",
              "        1.62152167e+00,  1.67773070e+00,  1.73244474e+00,  1.78561988e+00,\n",
              "        1.83721521e+00,  1.88719232e+00,  1.93551483e+00,  1.98214801e+00,\n",
              "        2.02705842e+00,  2.07021369e+00,  2.11158220e+00,  2.15113289e+00,\n",
              "        2.18883507e+00,  2.22465823e+00,  2.25857187e+00,  2.29054536e+00,\n",
              "        2.32054779e+00,  2.34854783e+00,  2.37451360e+00,  2.39841255e+00,\n",
              "        2.42021132e+00,  2.43987558e+00,  2.45736997e+00,  2.47265787e+00,\n",
              "        2.48570135e+00,  2.49646091e+00,  2.50489542e+00,  2.51096187e+00,\n",
              "        2.51461523e+00,  2.51580819e+00,  2.51449097e+00,  2.51061106e+00,\n",
              "        2.50411292e+00,  2.49493767e+00,  2.48302273e+00,  2.46830142e+00,\n",
              "        2.45070247e+00,  2.43014950e+00,  2.40656040e+00,  2.37984653e+00,\n",
              "        2.34991193e+00,  2.31665220e+00,  2.27995324e+00,  2.23968964e+00,\n",
              "        2.19572266e+00,  2.14789755e+00,  2.09604003e+00,  2.03995119e+00,\n",
              "        1.97940006e+00,  1.91411174e+00,  1.84374684e+00,  1.76786114e+00,\n",
              "        1.68581058e+00,  1.59643397e+00,  1.49816830e+00,  1.40310433e+00,\n",
              "        1.31074056e+00,  1.21984006e+00,  1.12985386e+00,  1.04048494e+00,\n",
              "        9.51568581e-01,  8.63020949e-01,  7.74811119e-01,  6.86943480e-01,\n",
              "        5.99445525e-01])"
            ]
          },
          "metadata": {},
          "execution_count": 13
        }
      ]
    },
    {
      "cell_type": "code",
      "source": [
        "simulation_train[test_idx][:,1]  #takes all rows from only second column index 1 is second column, y coordinate value in this case"
      ],
      "metadata": {
        "colab": {
          "base_uri": "https://localhost:8080/"
        },
        "id": "E5dHWJdLfDLg",
        "outputId": "8f76c52f-e2be-49cd-da74-8809afd00cf3"
      },
      "id": "E5dHWJdLfDLg",
      "execution_count": 14,
      "outputs": [
        {
          "output_type": "execute_result",
          "data": {
            "text/plain": [
              "array([ 2.35842533,  2.24892999,  2.13298158,  2.01049904,  1.88138689,\n",
              "        1.74552689,  1.60276737,  1.45321407,  1.29765384,  1.13608379,\n",
              "        0.96833984,  0.79430519,  0.61389726,  0.42706541,  0.23379701,\n",
              "        0.03413053, -0.17182365, -0.38385288, -0.60160043, -0.82451189,\n",
              "       -1.0517741 , -1.28226045, -1.51451093, -1.74678673, -1.97722442,\n",
              "       -2.20405734, -2.42581217, -2.6414009 , -2.85010433, -3.05149696,\n",
              "       -3.245362  , -3.43162073, -3.61028139, -3.78140481, -3.94508208,\n",
              "       -4.10142041, -4.25053415, -4.39253936, -4.52755033, -4.65567764,\n",
              "       -4.77702697, -4.89169851, -4.99978669, -5.10138014, -5.19656182,\n",
              "       -5.28540911, -5.36799411, -5.44438379, -5.51464028, -5.57882107,\n",
              "       -5.63697923, -5.68916364, -5.73541915, -5.77578679, -5.81030387,\n",
              "       -5.83900421, -5.86191816, -5.87907281, -5.89049203, -5.89619654,\n",
              "       -5.89620402, -5.89052913, -5.87918357, -5.86217606, -5.83951241,\n",
              "       -5.81119548, -5.77722516, -5.73759834, -5.69230885, -5.64134743,\n",
              "       -5.58470158, -5.52235547, -5.45428982, -5.38048173, -5.30090446,\n",
              "       -5.21552723, -5.12431491, -5.02722771, -4.92422075, -4.81524363,\n",
              "       -4.70023982, -4.579146  , -4.45189113, -4.31839547, -4.17856919,\n",
              "       -4.0323107 , -3.87950437, -3.72001767, -3.55369717, -3.38036299,\n",
              "       -3.19980089, -3.01175048, -2.81588679, -2.61178991, -2.39889083,\n",
              "       -2.17636355, -1.9428693 , -1.69570147, -1.43050418, -1.17991301,\n",
              "       -0.94360343, -0.71833649, -0.50266254, -0.29574502, -0.09704118,\n",
              "        0.09382958,  0.27715157,  0.45314976,  0.62201176])"
            ]
          },
          "metadata": {},
          "execution_count": 14
        }
      ]
    },
    {
      "cell_type": "code",
      "source": [
        "len(charges_train)\n",
        "charges_train[1].shape"
      ],
      "metadata": {
        "colab": {
          "base_uri": "https://localhost:8080/"
        },
        "id": "pfOttVxzLVA0",
        "outputId": "905ade31-29fb-4477-b5f7-aa2d7de4fbc9"
      },
      "id": "pfOttVxzLVA0",
      "execution_count": 15,
      "outputs": [
        {
          "output_type": "execute_result",
          "data": {
            "text/plain": [
              "(3,)"
            ]
          },
          "metadata": {},
          "execution_count": 15
        }
      ]
    },
    {
      "cell_type": "markdown",
      "id": "883762b1",
      "metadata": {
        "id": "883762b1"
      },
      "source": [
        "# Task 3.1"
      ]
    },
    {
      "cell_type": "markdown",
      "id": "4c1ddabe",
      "metadata": {
        "id": "4c1ddabe"
      },
      "source": [
        "## Data Handling and Preprocessing"
      ]
    },
    {
      "cell_type": "code",
      "source": [
        "import torch\n",
        "from torch.utils.data import DataLoader\n",
        "import torch\n",
        "from torchvision import transforms\n",
        "from torch.utils.data import Dataset, DataLoader,TensorDataset, random_split\n",
        "import numpy as np\n",
        "from PIL import Image\n",
        "from torch.nn.utils.rnn import pad_sequence\n",
        "\n",
        "device=torch.device(\"cuda\" if torch.cuda.is_available()else \"cpu\")\n",
        "\n",
        "class MyDataset(Dataset):\n",
        "  def __init__(self,simulations,charges):\n",
        "\n",
        "    #maximum length of each simulation performed is 110 seconds\n",
        "    max_length=110 \n",
        "\n",
        "    #pad the arrays with zeros so that all sequences have same length\n",
        "    padded_sim=[]\n",
        "    for i in range(len(simulations)):\n",
        "      if len(simulations[i]) != max_length:\n",
        "          x = np.pad(simulations[i],[(0,max_length-len(simulations[i])),(0,0)], 'constant',constant_values = 0) #padding zeros at the end of dimension 1 ie rows \n",
        "      else:\n",
        "          x = simulations[i]\n",
        "      padded_sim.append(x)\n",
        "\n",
        "    data=np.array(padded_sim) #convert list into numpy array data = simulations of all length 110\n",
        "    #shape of data\n",
        "    (n_samples,length,dim)=data.shape\n",
        "    #convert simulations to tensor structure\n",
        "    self.data=torch.FloatTensor(data).view(n_samples,1,-1) #reshape so that \n",
        "    print(\"Dimensions of data\",self.data.shape)\n",
        "    #convert charges to numpy array first\n",
        "    charges=np.array(charges)\n",
        "    self.target=torch.FloatTensor(charges)\n",
        "    print(\"Dimensions of label\",self.target.shape)\n",
        "\n",
        "  def __getitem__(self, index):\n",
        "    X=self.data[index]\n",
        "    Y=self.target[index]\n",
        "    return X,Y\n",
        "\n",
        "  def __len__(self):\n",
        "    return len(self.data)\n",
        "\n",
        "    \n"
      ],
      "metadata": {
        "id": "E0yMwslaDwe8"
      },
      "id": "E0yMwslaDwe8",
      "execution_count": 152,
      "outputs": []
    },
    {
      "cell_type": "code",
      "execution_count": 153,
      "id": "7dd9b7c1",
      "metadata": {
        "id": "7dd9b7c1",
        "colab": {
          "base_uri": "https://localhost:8080/"
        },
        "outputId": "a8dc5aff-562d-4c2d-ac4c-9632fcad98b4"
      },
      "outputs": [
        {
          "output_type": "stream",
          "name": "stdout",
          "text": [
            "Dimensions of data torch.Size([800, 1, 220])\n",
            "Dimensions of label torch.Size([800, 3])\n",
            "Dimensions of data torch.Size([100, 1, 220])\n",
            "Dimensions of label torch.Size([100, 3])\n",
            "Dimensions of data torch.Size([100, 1, 220])\n",
            "Dimensions of label torch.Size([100, 3])\n"
          ]
        }
      ],
      "source": [
        "\n",
        "train_dataset=MyDataset(simulation_train,charges_train)\n",
        "val_dataset = MyDataset(simulation_valid,charges_valid)\n",
        "test_dataset=MyDataset(simulation_test,charges_test)\n",
        "test_loader=torch.utils.data.DataLoader(test_dataset, batch_size=10)\n",
        "train_loader = torch.utils.data.DataLoader(train_dataset, batch_size=32)\n",
        "val_loader = torch.utils.data.DataLoader(val_dataset, batch_size=32)\n"
      ]
    },
    {
      "cell_type": "code",
      "source": [
        "#check how 3rd sample of train dataset looks like\n",
        "X,Y=test_dataset[2]\n",
        "print(X)\n",
        "print(Y)"
      ],
      "metadata": {
        "colab": {
          "base_uri": "https://localhost:8080/"
        },
        "id": "kA-WxqMCnOsV",
        "outputId": "19c7e274-bf36-4250-9dab-e0fa1bc504a0"
      },
      "id": "kA-WxqMCnOsV",
      "execution_count": 154,
      "outputs": [
        {
          "output_type": "stream",
          "name": "stdout",
          "text": [
            "tensor([[ 2.3561, -0.1385,  2.2400, -0.1432,  2.1133, -0.1518,  1.9764, -0.1643,\n",
            "          1.8296, -0.1809,  1.6734, -0.2017,  1.5086, -0.2269,  1.3358, -0.2562,\n",
            "          1.1560, -0.2896,  0.9701, -0.3266,  0.7792, -0.3667,  0.5840, -0.4095,\n",
            "          0.3855, -0.4544,  0.1842, -0.5009, -0.0191, -0.5488, -0.2242, -0.5981,\n",
            "         -0.4307, -0.6488, -0.6382, -0.7016, -0.8466, -0.7571, -1.0554, -0.8164,\n",
            "         -1.2639, -0.8811, -1.4706, -0.9532, -1.6726, -1.0344, -1.8650, -1.1252,\n",
            "         -2.0435, -1.2232, -2.2055, -1.3249, -2.3508, -1.4271, -2.4798, -1.5280,\n",
            "         -2.5931, -1.6260, -2.6913, -1.7203, -2.7752, -1.8102, -2.8451, -1.8954,\n",
            "         -2.9016, -1.9753, -2.9450, -2.0497, -2.9756, -2.1184, -2.9937, -2.1811,\n",
            "         -2.9996, -2.2375, -2.9933, -2.2875, -2.9752, -2.3309, -2.9452, -2.3674,\n",
            "         -2.9037, -2.3967, -2.8505, -2.4187, -2.7859, -2.4330, -2.7098, -2.4393,\n",
            "         -2.6224, -2.4373, -2.5236, -2.4265, -2.4135, -2.4065, -2.2921, -2.3767,\n",
            "         -2.1595, -2.3363, -2.0160, -2.2845, -1.8618, -2.2201, -1.6977, -2.1417,\n",
            "         -1.5254, -2.0474, -1.3484, -1.9358, -1.1722, -1.8073, -1.0016, -1.6662,\n",
            "         -0.8379, -1.5178, -0.6802, -1.3655, -0.5269, -1.2113, -0.3771, -1.0562,\n",
            "         -0.2298, -0.9009, -0.0845, -0.7459,  0.0589, -0.5917,  0.2004, -0.4386,\n",
            "          0.3397, -0.2870,  0.4762, -0.1373,  0.6092,  0.0105,  0.7379,  0.1559,\n",
            "          0.8612,  0.2988,  0.9783,  0.4389,  1.0884,  0.5757,  1.1906,  0.7089,\n",
            "          1.2845,  0.8381,  1.3695,  0.9626,  1.4454,  1.0821,  1.5119,  1.1961,\n",
            "          1.5690,  1.3042,  1.6167,  1.4059,  1.6550,  1.5011,  1.6839,  1.5894,\n",
            "          1.7036,  1.6705,  1.7140,  1.7442,  1.7155,  1.8103,  1.7079,  1.8686,\n",
            "          1.6915,  1.9190,  1.6663,  1.9613,  1.6324,  1.9952,  1.5898,  2.0207,\n",
            "          1.5386,  2.0376,  1.4789,  2.0457,  1.4107,  2.0449,  1.3339,  2.0349,\n",
            "          1.2486,  2.0157,  1.1546,  1.9870,  1.0520,  1.9486,  0.0000,  0.0000,\n",
            "          0.0000,  0.0000,  0.0000,  0.0000,  0.0000,  0.0000,  0.0000,  0.0000,\n",
            "          0.0000,  0.0000,  0.0000,  0.0000,  0.0000,  0.0000,  0.0000,  0.0000,\n",
            "          0.0000,  0.0000,  0.0000,  0.0000,  0.0000,  0.0000,  0.0000,  0.0000,\n",
            "          0.0000,  0.0000,  0.0000,  0.0000]])\n",
            "tensor([-0.9585, -0.6792, -0.7583])\n"
          ]
        }
      ]
    },
    {
      "cell_type": "code",
      "source": [
        "input_dim = next(iter(train_loader))[0].shape[2]\n",
        "input_dim"
      ],
      "metadata": {
        "colab": {
          "base_uri": "https://localhost:8080/"
        },
        "id": "WjBSTAc4u1av",
        "outputId": "5e577cd6-1e6b-4377-d146-24e83380c2d5"
      },
      "id": "WjBSTAc4u1av",
      "execution_count": 155,
      "outputs": [
        {
          "output_type": "execute_result",
          "data": {
            "text/plain": [
              "220"
            ]
          },
          "metadata": {},
          "execution_count": 155
        }
      ]
    },
    {
      "cell_type": "markdown",
      "id": "cc8853f6",
      "metadata": {
        "id": "cc8853f6"
      },
      "source": [
        "## Model Implementation"
      ]
    },
    {
      "cell_type": "code",
      "source": [
        "#3.1 task \n",
        "from torch import nn\n",
        "class LSTM_a2(nn.Module):\n",
        "  def __init__(self,input_dim,hidden_dim,output_dim,device):\n",
        "    super(LSTM_a2,self).__init__()\n",
        "\n",
        "    self.input_dim=input_dim\n",
        "    self.hidden_dim=hidden_dim\n",
        "    self.device=device\n",
        "\n",
        "    self.rnn=nn.LSTMCell(input_dim,hidden_dim)\n",
        "    self.fc1=nn.Linear(hidden_dim,hidden_dim)\n",
        "    self.fc2=nn.Linear(hidden_dim,output_dim)\n",
        "\n",
        "    self.criterion=nn.MSELoss()\n",
        "    #self.optimizer=torch.optim.Adam(self.parameters())\n",
        "  \n",
        "  def forward(self,batch_input):\n",
        "\n",
        "    #shape of input , batch_input: [batch_size, 1,seq_length]\n",
        "    #generate random initial hidden and cell states\n",
        "    hidden_0=torch.randn(batch_input.shape[0],self.hidden_dim).to(self.device)\n",
        "    c_0=torch.randn(batch_input.shape[0],self.hidden_dim).to(self.device)\n",
        "    for i in range(0,220,2):\n",
        "             hidden_1,c_1 = self.rnn(batch_input[:,0,i:i+2],(hidden_0,c_0))\n",
        "            \n",
        "\n",
        "    \n",
        "    h1=nn.ReLU()(self.fc1(hidden_1))\n",
        "    out1=self.fc2(h1)\n",
        "    \n",
        "    return out1\n",
        "\n",
        "  \n",
        "\n",
        "\n"
      ],
      "metadata": {
        "id": "umRscaa2y79N"
      },
      "id": "umRscaa2y79N",
      "execution_count": 156,
      "outputs": []
    },
    {
      "cell_type": "markdown",
      "id": "0e443b7f",
      "metadata": {
        "id": "0e443b7f"
      },
      "source": [
        "## Model Training"
      ]
    },
    {
      "cell_type": "code",
      "execution_count": 157,
      "id": "5a5b0aca",
      "metadata": {
        "id": "5a5b0aca"
      },
      "outputs": [],
      "source": [
        "\n",
        "def save_model_checkpoint(path, model, optimizer, val_loss, val_acc, train_acc, train_loss ):\n",
        "    if path == None:\n",
        "        return print(\"Kindly define a path\")\n",
        "    path = path\n",
        "    \n",
        "    save_dict = {\"model_dict\" : model.state_dict(), \n",
        "                 \"optimizer_dict\": optimizer.state_dict(),\n",
        "                 \"val_loss_dict\": val_loss,\n",
        "                 \"val_acc_dict\": val_acc,\n",
        "                 \"train_acc_dict\": train_acc,\n",
        "                 \"train_loss_dict\": train_loss}\n",
        "    torch.save(save_dict, path)\n",
        "    return print(\"Model Saved to ==> {}\".format(path))"
      ]
    },
    {
      "cell_type": "code",
      "execution_count": 158,
      "id": "58348edd",
      "metadata": {
        "id": "58348edd"
      },
      "outputs": [],
      "source": [
        "# training and validation after every epoch\n",
        "def train(model, train_loader, val_loader, criterion,num_epochs, save_name):\n",
        "    best_val_loss = float(\"Inf\") \n",
        "    train_losses = []\n",
        "    val_losses = []\n",
        "    train_acc = []\n",
        "    val_acc = []\n",
        "    cur_step = 0\n",
        "    train_pred = []\n",
        "    val_pred = []\n",
        "\n",
        "    for epoch in range(num_epochs):\n",
        "        running_loss = 0.0\n",
        "        running_train_acc = 0.0\n",
        "  \n",
        "        model.train()\n",
        "        print(\"Starting epoch \" + str(epoch+1))\n",
        "        for train_data, targets in train_loader:\n",
        "            \n",
        "           \n",
        "            # Forward\n",
        "            input_tensor = train_data.to(device)\n",
        "            outputs = model.forward(input_tensor)\n",
        "            loss = criterion(outputs,targets.to(device))\n",
        "            # loss = loss/60\n",
        "                \n",
        "            # Backward and optimize\n",
        "            optimizer.zero_grad()\n",
        "            loss.backward()\n",
        "            optimizer.step()   \n",
        "            running_loss += loss\n",
        "          \n",
        "\n",
        "        avg_train_loss = running_loss / len(train_loader)\n",
        "        train_losses.append(avg_train_loss)\n",
        "        print(\"Training Pass Completed\")\n",
        "\n",
        "        ########################################|Validation Set|#############################################\n",
        "        val_running_loss = 0.0\n",
        "        with torch.no_grad():\n",
        "            model.eval()\n",
        "            for val_data, val_targets in val_loader:\n",
        "                input_tensor = val_data.to(device)\n",
        "                outputs = model.forward(input_tensor)\n",
        "                loss = criterion(outputs,val_targets.to(device))\n",
        "                # loss = loss/60\n",
        "                val_running_loss += loss\n",
        "\n",
        "        avg_val_loss = val_running_loss / len(val_loader)\n",
        "        val_losses.append(avg_val_loss)\n",
        "\n",
        "        \n",
        "        print('Epoch [{}/{}],Train Loss: {:.4f}, Valid Loss: {:.8f}' \n",
        "            .format(epoch+1, num_epochs, avg_train_loss, avg_val_loss))\n",
        "        if avg_val_loss < best_val_loss:\n",
        "            best_val_loss = avg_val_loss \n",
        "            save_model_checkpoint(save_name, model, optimizer, best_val_loss, 0, 0, avg_train_loss )\n",
        "    \n",
        "    print(\"Finished Training\") \n",
        "    return train_losses, val_losses\n",
        "     "
      ]
    },
    {
      "cell_type": "code",
      "execution_count": 159,
      "id": "176b3ea3",
      "metadata": {
        "id": "176b3ea3",
        "colab": {
          "base_uri": "https://localhost:8080/"
        },
        "outputId": "f450b581-ee0a-4954-9eae-7abedd019abb"
      },
      "outputs": [
        {
          "output_type": "stream",
          "name": "stdout",
          "text": [
            "Starting epoch 1\n",
            "Training Pass Completed\n",
            "Epoch [1/150],Train Loss: 0.1706, Valid Loss: 0.09898302\n",
            "Model Saved to ==> LSTM_1.pt\n",
            "Starting epoch 2\n",
            "Training Pass Completed\n",
            "Epoch [2/150],Train Loss: 0.0897, Valid Loss: 0.09602559\n",
            "Model Saved to ==> LSTM_1.pt\n",
            "Starting epoch 3\n",
            "Training Pass Completed\n",
            "Epoch [3/150],Train Loss: 0.0858, Valid Loss: 0.09240024\n",
            "Model Saved to ==> LSTM_1.pt\n",
            "Starting epoch 4\n",
            "Training Pass Completed\n",
            "Epoch [4/150],Train Loss: 0.0844, Valid Loss: 0.09112674\n",
            "Model Saved to ==> LSTM_1.pt\n",
            "Starting epoch 5\n",
            "Training Pass Completed\n",
            "Epoch [5/150],Train Loss: 0.0852, Valid Loss: 0.09111080\n",
            "Model Saved to ==> LSTM_1.pt\n",
            "Starting epoch 6\n",
            "Training Pass Completed\n",
            "Epoch [6/150],Train Loss: 0.0842, Valid Loss: 0.08934164\n",
            "Model Saved to ==> LSTM_1.pt\n",
            "Starting epoch 7\n",
            "Training Pass Completed\n",
            "Epoch [7/150],Train Loss: 0.0845, Valid Loss: 0.09381448\n",
            "Starting epoch 8\n",
            "Training Pass Completed\n",
            "Epoch [8/150],Train Loss: 0.0838, Valid Loss: 0.09234846\n",
            "Starting epoch 9\n",
            "Training Pass Completed\n",
            "Epoch [9/150],Train Loss: 0.0837, Valid Loss: 0.09359997\n",
            "Starting epoch 10\n",
            "Training Pass Completed\n",
            "Epoch [10/150],Train Loss: 0.0843, Valid Loss: 0.09131575\n",
            "Starting epoch 11\n",
            "Training Pass Completed\n",
            "Epoch [11/150],Train Loss: 0.0834, Valid Loss: 0.09729833\n",
            "Starting epoch 12\n",
            "Training Pass Completed\n",
            "Epoch [12/150],Train Loss: 0.0841, Valid Loss: 0.09189566\n",
            "Starting epoch 13\n",
            "Training Pass Completed\n",
            "Epoch [13/150],Train Loss: 0.0844, Valid Loss: 0.09482215\n",
            "Starting epoch 14\n",
            "Training Pass Completed\n",
            "Epoch [14/150],Train Loss: 0.0842, Valid Loss: 0.09316085\n",
            "Starting epoch 15\n",
            "Training Pass Completed\n",
            "Epoch [15/150],Train Loss: 0.0837, Valid Loss: 0.09273922\n",
            "Starting epoch 16\n",
            "Training Pass Completed\n",
            "Epoch [16/150],Train Loss: 0.0843, Valid Loss: 0.09178434\n",
            "Starting epoch 17\n",
            "Training Pass Completed\n",
            "Epoch [17/150],Train Loss: 0.0838, Valid Loss: 0.09322876\n",
            "Starting epoch 18\n",
            "Training Pass Completed\n",
            "Epoch [18/150],Train Loss: 0.0837, Valid Loss: 0.09075864\n",
            "Starting epoch 19\n",
            "Training Pass Completed\n",
            "Epoch [19/150],Train Loss: 0.0837, Valid Loss: 0.09380808\n",
            "Starting epoch 20\n",
            "Training Pass Completed\n",
            "Epoch [20/150],Train Loss: 0.0833, Valid Loss: 0.09091471\n",
            "Starting epoch 21\n",
            "Training Pass Completed\n",
            "Epoch [21/150],Train Loss: 0.0835, Valid Loss: 0.09093496\n",
            "Starting epoch 22\n",
            "Training Pass Completed\n",
            "Epoch [22/150],Train Loss: 0.0838, Valid Loss: 0.09085843\n",
            "Starting epoch 23\n",
            "Training Pass Completed\n",
            "Epoch [23/150],Train Loss: 0.0835, Valid Loss: 0.09386261\n",
            "Starting epoch 24\n",
            "Training Pass Completed\n",
            "Epoch [24/150],Train Loss: 0.0828, Valid Loss: 0.09698560\n",
            "Starting epoch 25\n",
            "Training Pass Completed\n",
            "Epoch [25/150],Train Loss: 0.0829, Valid Loss: 0.09129385\n",
            "Starting epoch 26\n",
            "Training Pass Completed\n",
            "Epoch [26/150],Train Loss: 0.0836, Valid Loss: 0.09084987\n",
            "Starting epoch 27\n",
            "Training Pass Completed\n",
            "Epoch [27/150],Train Loss: 0.0841, Valid Loss: 0.09040035\n",
            "Starting epoch 28\n",
            "Training Pass Completed\n",
            "Epoch [28/150],Train Loss: 0.0830, Valid Loss: 0.09169046\n",
            "Starting epoch 29\n",
            "Training Pass Completed\n",
            "Epoch [29/150],Train Loss: 0.0828, Valid Loss: 0.09174919\n",
            "Starting epoch 30\n",
            "Training Pass Completed\n",
            "Epoch [30/150],Train Loss: 0.0832, Valid Loss: 0.09187032\n",
            "Starting epoch 31\n",
            "Training Pass Completed\n",
            "Epoch [31/150],Train Loss: 0.0831, Valid Loss: 0.09300123\n",
            "Starting epoch 32\n",
            "Training Pass Completed\n",
            "Epoch [32/150],Train Loss: 0.0833, Valid Loss: 0.09282945\n",
            "Starting epoch 33\n",
            "Training Pass Completed\n",
            "Epoch [33/150],Train Loss: 0.0831, Valid Loss: 0.09171898\n",
            "Starting epoch 34\n",
            "Training Pass Completed\n",
            "Epoch [34/150],Train Loss: 0.0831, Valid Loss: 0.09377296\n",
            "Starting epoch 35\n",
            "Training Pass Completed\n",
            "Epoch [35/150],Train Loss: 0.0830, Valid Loss: 0.09332612\n",
            "Starting epoch 36\n",
            "Training Pass Completed\n",
            "Epoch [36/150],Train Loss: 0.0835, Valid Loss: 0.09398160\n",
            "Starting epoch 37\n",
            "Training Pass Completed\n",
            "Epoch [37/150],Train Loss: 0.0828, Valid Loss: 0.09141196\n",
            "Starting epoch 38\n",
            "Training Pass Completed\n",
            "Epoch [38/150],Train Loss: 0.0832, Valid Loss: 0.08956906\n",
            "Starting epoch 39\n",
            "Training Pass Completed\n",
            "Epoch [39/150],Train Loss: 0.0834, Valid Loss: 0.09152061\n",
            "Starting epoch 40\n",
            "Training Pass Completed\n",
            "Epoch [40/150],Train Loss: 0.0837, Valid Loss: 0.09364601\n",
            "Starting epoch 41\n",
            "Training Pass Completed\n",
            "Epoch [41/150],Train Loss: 0.0833, Valid Loss: 0.09071283\n",
            "Starting epoch 42\n",
            "Training Pass Completed\n",
            "Epoch [42/150],Train Loss: 0.0835, Valid Loss: 0.09200990\n",
            "Starting epoch 43\n",
            "Training Pass Completed\n",
            "Epoch [43/150],Train Loss: 0.0822, Valid Loss: 0.09203526\n",
            "Starting epoch 44\n",
            "Training Pass Completed\n",
            "Epoch [44/150],Train Loss: 0.0827, Valid Loss: 0.09225289\n",
            "Starting epoch 45\n",
            "Training Pass Completed\n",
            "Epoch [45/150],Train Loss: 0.0827, Valid Loss: 0.08895973\n",
            "Model Saved to ==> LSTM_1.pt\n",
            "Starting epoch 46\n",
            "Training Pass Completed\n",
            "Epoch [46/150],Train Loss: 0.0831, Valid Loss: 0.09114573\n",
            "Starting epoch 47\n",
            "Training Pass Completed\n",
            "Epoch [47/150],Train Loss: 0.0833, Valid Loss: 0.09269725\n",
            "Starting epoch 48\n",
            "Training Pass Completed\n",
            "Epoch [48/150],Train Loss: 0.0831, Valid Loss: 0.09140693\n",
            "Starting epoch 49\n",
            "Training Pass Completed\n",
            "Epoch [49/150],Train Loss: 0.0833, Valid Loss: 0.09084891\n",
            "Starting epoch 50\n",
            "Training Pass Completed\n",
            "Epoch [50/150],Train Loss: 0.0831, Valid Loss: 0.09099342\n",
            "Starting epoch 51\n",
            "Training Pass Completed\n",
            "Epoch [51/150],Train Loss: 0.0829, Valid Loss: 0.09155593\n",
            "Starting epoch 52\n",
            "Training Pass Completed\n",
            "Epoch [52/150],Train Loss: 0.0830, Valid Loss: 0.09484042\n",
            "Starting epoch 53\n",
            "Training Pass Completed\n",
            "Epoch [53/150],Train Loss: 0.0830, Valid Loss: 0.09069007\n",
            "Starting epoch 54\n",
            "Training Pass Completed\n",
            "Epoch [54/150],Train Loss: 0.0823, Valid Loss: 0.09374414\n",
            "Starting epoch 55\n",
            "Training Pass Completed\n",
            "Epoch [55/150],Train Loss: 0.0824, Valid Loss: 0.09447891\n",
            "Starting epoch 56\n",
            "Training Pass Completed\n",
            "Epoch [56/150],Train Loss: 0.0832, Valid Loss: 0.09409646\n",
            "Starting epoch 57\n",
            "Training Pass Completed\n",
            "Epoch [57/150],Train Loss: 0.0830, Valid Loss: 0.09172287\n",
            "Starting epoch 58\n",
            "Training Pass Completed\n",
            "Epoch [58/150],Train Loss: 0.0829, Valid Loss: 0.09345124\n",
            "Starting epoch 59\n",
            "Training Pass Completed\n",
            "Epoch [59/150],Train Loss: 0.0830, Valid Loss: 0.08990790\n",
            "Starting epoch 60\n",
            "Training Pass Completed\n",
            "Epoch [60/150],Train Loss: 0.0829, Valid Loss: 0.09083359\n",
            "Starting epoch 61\n",
            "Training Pass Completed\n",
            "Epoch [61/150],Train Loss: 0.0828, Valid Loss: 0.09293288\n",
            "Starting epoch 62\n",
            "Training Pass Completed\n",
            "Epoch [62/150],Train Loss: 0.0825, Valid Loss: 0.09436063\n",
            "Starting epoch 63\n",
            "Training Pass Completed\n",
            "Epoch [63/150],Train Loss: 0.0834, Valid Loss: 0.09287911\n",
            "Starting epoch 64\n",
            "Training Pass Completed\n",
            "Epoch [64/150],Train Loss: 0.0830, Valid Loss: 0.09098783\n",
            "Starting epoch 65\n",
            "Training Pass Completed\n",
            "Epoch [65/150],Train Loss: 0.0826, Valid Loss: 0.09498971\n",
            "Starting epoch 66\n",
            "Training Pass Completed\n",
            "Epoch [66/150],Train Loss: 0.0826, Valid Loss: 0.09043197\n",
            "Starting epoch 67\n",
            "Training Pass Completed\n",
            "Epoch [67/150],Train Loss: 0.0833, Valid Loss: 0.09186338\n",
            "Starting epoch 68\n",
            "Training Pass Completed\n",
            "Epoch [68/150],Train Loss: 0.0831, Valid Loss: 0.09198149\n",
            "Starting epoch 69\n",
            "Training Pass Completed\n",
            "Epoch [69/150],Train Loss: 0.0832, Valid Loss: 0.09167218\n",
            "Starting epoch 70\n",
            "Training Pass Completed\n",
            "Epoch [70/150],Train Loss: 0.0831, Valid Loss: 0.08937597\n",
            "Starting epoch 71\n",
            "Training Pass Completed\n",
            "Epoch [71/150],Train Loss: 0.0829, Valid Loss: 0.09098675\n",
            "Starting epoch 72\n",
            "Training Pass Completed\n",
            "Epoch [72/150],Train Loss: 0.0830, Valid Loss: 0.09181160\n",
            "Starting epoch 73\n",
            "Training Pass Completed\n",
            "Epoch [73/150],Train Loss: 0.0826, Valid Loss: 0.09083767\n",
            "Starting epoch 74\n",
            "Training Pass Completed\n",
            "Epoch [74/150],Train Loss: 0.0833, Valid Loss: 0.09264934\n",
            "Starting epoch 75\n",
            "Training Pass Completed\n",
            "Epoch [75/150],Train Loss: 0.0824, Valid Loss: 0.09196296\n",
            "Starting epoch 76\n",
            "Training Pass Completed\n",
            "Epoch [76/150],Train Loss: 0.0829, Valid Loss: 0.09100085\n",
            "Starting epoch 77\n",
            "Training Pass Completed\n",
            "Epoch [77/150],Train Loss: 0.0828, Valid Loss: 0.09128802\n",
            "Starting epoch 78\n",
            "Training Pass Completed\n",
            "Epoch [78/150],Train Loss: 0.0832, Valid Loss: 0.09315682\n",
            "Starting epoch 79\n",
            "Training Pass Completed\n",
            "Epoch [79/150],Train Loss: 0.0832, Valid Loss: 0.08980507\n",
            "Starting epoch 80\n",
            "Training Pass Completed\n",
            "Epoch [80/150],Train Loss: 0.0829, Valid Loss: 0.08967347\n",
            "Starting epoch 81\n",
            "Training Pass Completed\n",
            "Epoch [81/150],Train Loss: 0.0832, Valid Loss: 0.09126035\n",
            "Starting epoch 82\n",
            "Training Pass Completed\n",
            "Epoch [82/150],Train Loss: 0.0826, Valid Loss: 0.09171627\n",
            "Starting epoch 83\n",
            "Training Pass Completed\n",
            "Epoch [83/150],Train Loss: 0.0829, Valid Loss: 0.09111779\n",
            "Starting epoch 84\n",
            "Training Pass Completed\n",
            "Epoch [84/150],Train Loss: 0.0829, Valid Loss: 0.09072252\n",
            "Starting epoch 85\n",
            "Training Pass Completed\n",
            "Epoch [85/150],Train Loss: 0.0830, Valid Loss: 0.09213168\n",
            "Starting epoch 86\n",
            "Training Pass Completed\n",
            "Epoch [86/150],Train Loss: 0.0823, Valid Loss: 0.09314802\n",
            "Starting epoch 87\n",
            "Training Pass Completed\n",
            "Epoch [87/150],Train Loss: 0.0825, Valid Loss: 0.09056184\n",
            "Starting epoch 88\n",
            "Training Pass Completed\n",
            "Epoch [88/150],Train Loss: 0.0829, Valid Loss: 0.08860664\n",
            "Model Saved to ==> LSTM_1.pt\n",
            "Starting epoch 89\n",
            "Training Pass Completed\n",
            "Epoch [89/150],Train Loss: 0.0825, Valid Loss: 0.08908190\n",
            "Starting epoch 90\n",
            "Training Pass Completed\n",
            "Epoch [90/150],Train Loss: 0.0827, Valid Loss: 0.09059632\n",
            "Starting epoch 91\n",
            "Training Pass Completed\n",
            "Epoch [91/150],Train Loss: 0.0833, Valid Loss: 0.09126015\n",
            "Starting epoch 92\n",
            "Training Pass Completed\n",
            "Epoch [92/150],Train Loss: 0.0830, Valid Loss: 0.09108808\n",
            "Starting epoch 93\n",
            "Training Pass Completed\n",
            "Epoch [93/150],Train Loss: 0.0829, Valid Loss: 0.09303367\n",
            "Starting epoch 94\n",
            "Training Pass Completed\n",
            "Epoch [94/150],Train Loss: 0.0827, Valid Loss: 0.09144506\n",
            "Starting epoch 95\n",
            "Training Pass Completed\n",
            "Epoch [95/150],Train Loss: 0.0829, Valid Loss: 0.09242153\n",
            "Starting epoch 96\n",
            "Training Pass Completed\n",
            "Epoch [96/150],Train Loss: 0.0824, Valid Loss: 0.08991982\n",
            "Starting epoch 97\n",
            "Training Pass Completed\n",
            "Epoch [97/150],Train Loss: 0.0831, Valid Loss: 0.09014466\n",
            "Starting epoch 98\n",
            "Training Pass Completed\n",
            "Epoch [98/150],Train Loss: 0.0827, Valid Loss: 0.09190602\n",
            "Starting epoch 99\n",
            "Training Pass Completed\n",
            "Epoch [99/150],Train Loss: 0.0825, Valid Loss: 0.09179701\n",
            "Starting epoch 100\n",
            "Training Pass Completed\n",
            "Epoch [100/150],Train Loss: 0.0827, Valid Loss: 0.08809707\n",
            "Model Saved to ==> LSTM_1.pt\n",
            "Starting epoch 101\n",
            "Training Pass Completed\n",
            "Epoch [101/150],Train Loss: 0.0829, Valid Loss: 0.09171679\n",
            "Starting epoch 102\n",
            "Training Pass Completed\n",
            "Epoch [102/150],Train Loss: 0.0824, Valid Loss: 0.09184755\n",
            "Starting epoch 103\n",
            "Training Pass Completed\n",
            "Epoch [103/150],Train Loss: 0.0828, Valid Loss: 0.09061971\n",
            "Starting epoch 104\n",
            "Training Pass Completed\n",
            "Epoch [104/150],Train Loss: 0.0825, Valid Loss: 0.09204746\n",
            "Starting epoch 105\n",
            "Training Pass Completed\n",
            "Epoch [105/150],Train Loss: 0.0827, Valid Loss: 0.09046221\n",
            "Starting epoch 106\n",
            "Training Pass Completed\n",
            "Epoch [106/150],Train Loss: 0.0829, Valid Loss: 0.09296110\n",
            "Starting epoch 107\n",
            "Training Pass Completed\n",
            "Epoch [107/150],Train Loss: 0.0828, Valid Loss: 0.09213906\n",
            "Starting epoch 108\n",
            "Training Pass Completed\n",
            "Epoch [108/150],Train Loss: 0.0828, Valid Loss: 0.09220818\n",
            "Starting epoch 109\n",
            "Training Pass Completed\n",
            "Epoch [109/150],Train Loss: 0.0829, Valid Loss: 0.09241844\n",
            "Starting epoch 110\n",
            "Training Pass Completed\n",
            "Epoch [110/150],Train Loss: 0.0825, Valid Loss: 0.09251191\n",
            "Starting epoch 111\n",
            "Training Pass Completed\n",
            "Epoch [111/150],Train Loss: 0.0830, Valid Loss: 0.09161038\n",
            "Starting epoch 112\n",
            "Training Pass Completed\n",
            "Epoch [112/150],Train Loss: 0.0825, Valid Loss: 0.09237462\n",
            "Starting epoch 113\n",
            "Training Pass Completed\n",
            "Epoch [113/150],Train Loss: 0.0827, Valid Loss: 0.08976433\n",
            "Starting epoch 114\n",
            "Training Pass Completed\n",
            "Epoch [114/150],Train Loss: 0.0830, Valid Loss: 0.09202143\n",
            "Starting epoch 115\n",
            "Training Pass Completed\n",
            "Epoch [115/150],Train Loss: 0.0829, Valid Loss: 0.09081178\n",
            "Starting epoch 116\n",
            "Training Pass Completed\n",
            "Epoch [116/150],Train Loss: 0.0829, Valid Loss: 0.09108828\n",
            "Starting epoch 117\n",
            "Training Pass Completed\n",
            "Epoch [117/150],Train Loss: 0.0827, Valid Loss: 0.09187933\n",
            "Starting epoch 118\n",
            "Training Pass Completed\n",
            "Epoch [118/150],Train Loss: 0.0827, Valid Loss: 0.09196557\n",
            "Starting epoch 119\n",
            "Training Pass Completed\n",
            "Epoch [119/150],Train Loss: 0.0827, Valid Loss: 0.09131140\n",
            "Starting epoch 120\n",
            "Training Pass Completed\n",
            "Epoch [120/150],Train Loss: 0.0831, Valid Loss: 0.09342473\n",
            "Starting epoch 121\n",
            "Training Pass Completed\n",
            "Epoch [121/150],Train Loss: 0.0831, Valid Loss: 0.09124538\n",
            "Starting epoch 122\n",
            "Training Pass Completed\n",
            "Epoch [122/150],Train Loss: 0.0830, Valid Loss: 0.09102908\n",
            "Starting epoch 123\n",
            "Training Pass Completed\n",
            "Epoch [123/150],Train Loss: 0.0829, Valid Loss: 0.09056821\n",
            "Starting epoch 124\n",
            "Training Pass Completed\n",
            "Epoch [124/150],Train Loss: 0.0829, Valid Loss: 0.09040642\n",
            "Starting epoch 125\n",
            "Training Pass Completed\n",
            "Epoch [125/150],Train Loss: 0.0823, Valid Loss: 0.09267319\n",
            "Starting epoch 126\n",
            "Training Pass Completed\n",
            "Epoch [126/150],Train Loss: 0.0827, Valid Loss: 0.09166357\n",
            "Starting epoch 127\n",
            "Training Pass Completed\n",
            "Epoch [127/150],Train Loss: 0.0830, Valid Loss: 0.09115491\n",
            "Starting epoch 128\n",
            "Training Pass Completed\n",
            "Epoch [128/150],Train Loss: 0.0827, Valid Loss: 0.09180809\n",
            "Starting epoch 129\n",
            "Training Pass Completed\n",
            "Epoch [129/150],Train Loss: 0.0826, Valid Loss: 0.09121513\n",
            "Starting epoch 130\n",
            "Training Pass Completed\n",
            "Epoch [130/150],Train Loss: 0.0829, Valid Loss: 0.09062437\n",
            "Starting epoch 131\n",
            "Training Pass Completed\n",
            "Epoch [131/150],Train Loss: 0.0828, Valid Loss: 0.09196649\n",
            "Starting epoch 132\n",
            "Training Pass Completed\n",
            "Epoch [132/150],Train Loss: 0.0826, Valid Loss: 0.09118662\n",
            "Starting epoch 133\n",
            "Training Pass Completed\n",
            "Epoch [133/150],Train Loss: 0.0827, Valid Loss: 0.09069081\n",
            "Starting epoch 134\n",
            "Training Pass Completed\n",
            "Epoch [134/150],Train Loss: 0.0828, Valid Loss: 0.09190334\n",
            "Starting epoch 135\n",
            "Training Pass Completed\n",
            "Epoch [135/150],Train Loss: 0.0826, Valid Loss: 0.09154056\n",
            "Starting epoch 136\n",
            "Training Pass Completed\n",
            "Epoch [136/150],Train Loss: 0.0824, Valid Loss: 0.09252033\n",
            "Starting epoch 137\n",
            "Training Pass Completed\n",
            "Epoch [137/150],Train Loss: 0.0828, Valid Loss: 0.09066183\n",
            "Starting epoch 138\n",
            "Training Pass Completed\n",
            "Epoch [138/150],Train Loss: 0.0828, Valid Loss: 0.09103338\n",
            "Starting epoch 139\n",
            "Training Pass Completed\n",
            "Epoch [139/150],Train Loss: 0.0824, Valid Loss: 0.09171044\n",
            "Starting epoch 140\n",
            "Training Pass Completed\n",
            "Epoch [140/150],Train Loss: 0.0825, Valid Loss: 0.09249488\n",
            "Starting epoch 141\n",
            "Training Pass Completed\n",
            "Epoch [141/150],Train Loss: 0.0825, Valid Loss: 0.09111831\n",
            "Starting epoch 142\n",
            "Training Pass Completed\n",
            "Epoch [142/150],Train Loss: 0.0827, Valid Loss: 0.09109580\n",
            "Starting epoch 143\n",
            "Training Pass Completed\n",
            "Epoch [143/150],Train Loss: 0.0831, Valid Loss: 0.09328551\n",
            "Starting epoch 144\n",
            "Training Pass Completed\n",
            "Epoch [144/150],Train Loss: 0.0823, Valid Loss: 0.09278202\n",
            "Starting epoch 145\n",
            "Training Pass Completed\n",
            "Epoch [145/150],Train Loss: 0.0828, Valid Loss: 0.09347668\n",
            "Starting epoch 146\n",
            "Training Pass Completed\n",
            "Epoch [146/150],Train Loss: 0.0826, Valid Loss: 0.08987994\n",
            "Starting epoch 147\n",
            "Training Pass Completed\n",
            "Epoch [147/150],Train Loss: 0.0827, Valid Loss: 0.09015438\n",
            "Starting epoch 148\n",
            "Training Pass Completed\n",
            "Epoch [148/150],Train Loss: 0.0829, Valid Loss: 0.09122947\n",
            "Starting epoch 149\n",
            "Training Pass Completed\n",
            "Epoch [149/150],Train Loss: 0.0826, Valid Loss: 0.09267581\n",
            "Starting epoch 150\n",
            "Training Pass Completed\n",
            "Epoch [150/150],Train Loss: 0.0828, Valid Loss: 0.09163571\n",
            "Finished Training\n"
          ]
        }
      ],
      "source": [
        "\n",
        "from torch.nn import L1Loss\n",
        "\n",
        "model=LSTM_a2(2,256,3,device='cpu')\n",
        "\n",
        "#optimizer=torch.optim.Adagrad(model.parameters(), lr=0.01, lr_decay=0, weight_decay=0, initial_accumulator_value=0, eps=1e-10)\n",
        "#optimizer=torch.optim.RMSprop(model.parameters(), lr=0.01, alpha=0.99, eps=1e-08)\n",
        "optimizer = torch.optim.SGD(model.parameters(), lr=0.01, momentum=0.9)\n",
        "#optimizer = torch.optim.Adam(model.parameters(), lr= 0.001, weight_decay = 0.01)\n",
        "\n",
        "num_epochs = 150\n",
        "save_name = f'LSTM_1.pt'\n",
        "criterion = nn.MSELoss()\n",
        "#criterion=L1Loss()\n",
        "\n",
        "obtained_train_loss, obtained_val_loss = train(model, \n",
        "                                                      train_loader, val_loader, criterion, num_epochs, save_name)"
      ]
    },
    {
      "cell_type": "code",
      "source": [
        "print(min([tensor.detach().item() for tensor in obtained_val_loss]))"
      ],
      "metadata": {
        "colab": {
          "base_uri": "https://localhost:8080/"
        },
        "id": "MN5o92wb4Ffn",
        "outputId": "e2e96242-7a29-40a2-ab2a-92b037e57401"
      },
      "id": "MN5o92wb4Ffn",
      "execution_count": 138,
      "outputs": [
        {
          "output_type": "stream",
          "name": "stdout",
          "text": [
            "0.09090907871723175\n"
          ]
        }
      ]
    },
    {
      "cell_type": "code",
      "source": [
        "val_loss_adagrad=[0.10775696486234665, 0.09990982711315155, 0.09356175363063812, 0.09261330217123032, 0.09110166877508163, 0.09626977890729904, 0.09320446848869324, 0.09535153210163116, 0.0920148491859436, 0.096127450466156, 0.0983283594250679, 0.09121722728013992, 0.09322917461395264, 0.09332352876663208, 0.09810879826545715, 0.09423799812793732, 0.09266828000545502, 0.09509880095720291, 0.09212228655815125, 0.094944067299366, 0.09023258090019226, 0.0931842103600502, 0.09399161487817764, 0.09303907305002213, 0.09374510496854782, 0.0925590768456459, 0.0925554633140564, 0.09466703981161118, 0.08906292915344238, 0.0924035832285881, 0.09407301247119904, 0.09164590388536453, 0.09295303374528885, 0.08733920007944107, 0.09620130062103271, 0.0922817811369896, 0.09552191942930222, 0.09065622836351395, 0.09351206570863724, 0.09633152186870575, 0.09349539130926132, 0.090006522834301, 0.09232228249311447, 0.09217618405818939, 0.09430994838476181, 0.09510460495948792, 0.09720087051391602, 0.09396366029977798, 0.08832370489835739, 0.09244177490472794, 0.0933479368686676, 0.09335318952798843, 0.0905676856637001, 0.09265295416116714, 0.09386637061834335, 0.09579864144325256, 0.09089333564043045, 0.09009724110364914, 0.08936219662427902, 0.09318411350250244, 0.09202060848474503, 0.09120874106884003, 0.09186840802431107, 0.09208668768405914, 0.08917973935604095, 0.09026630222797394, 0.09194076806306839, 0.09493733197450638, 0.09563656151294708, 0.09190733730792999, 0.09238652139902115, 0.0902077853679657, 0.09229909628629684, 0.08977751433849335, 0.09441301971673965, 0.09370480477809906, 0.09389881044626236, 0.09271634370088577, 0.09004056453704834, 0.09366809576749802, 0.09300873428583145, 0.09405921399593353, 0.09198001772165298, 0.0923023372888565, 0.09339451789855957, 0.09404896944761276, 0.09403906762599945, 0.09024978429079056, 0.09204896539449692, 0.09343773126602173, 0.09405837953090668, 0.09104418754577637, 0.09499628096818924, 0.09016826003789902, 0.09426487982273102, 0.09013887494802475, 0.09215015172958374, 0.0932808518409729, 0.0920465737581253, 0.0917765200138092, 0.09194115549325943, 0.0938996747136116, 0.0885835736989975, 0.09126915782690048, 0.09277617931365967, 0.09333697706460953, 0.09050162881612778, 0.09099341928958893, 0.09443147480487823, 0.09495674073696136, 0.09256146848201752, 0.09050930291414261, 0.0913139283657074, 0.09256158024072647, 0.09558137506246567, 0.0926317498087883, 0.09308324009180069, 0.0892009288072586, 0.09329825639724731, 0.08898835629224777, 0.09080056846141815, 0.09171279519796371, 0.09230776131153107, 0.09062528610229492, 0.09183109551668167, 0.09362627565860748, 0.09339401870965958, 0.09265417605638504, 0.09053554385900497, 0.09331195801496506, 0.09056562185287476, 0.09242362529039383, 0.0904649868607521, 0.09264250844717026, 0.09379438310861588, 0.09344030916690826, 0.09234251827001572, 0.0922057256102562, 0.09025966376066208, 0.09066358953714371, 0.09241080284118652, 0.09366975724697113, 0.08974472433328629, 0.09368561208248138, 0.09476951509714127, 0.0916583389043808, 0.0926600843667984, 0.09181084483861923, 0.09187254309654236, 0.09340328723192215]"
      ],
      "metadata": {
        "id": "fDvheas18QPE"
      },
      "id": "fDvheas18QPE",
      "execution_count": 57,
      "outputs": []
    },
    {
      "cell_type": "code",
      "source": [
        "val_loss_adam=[0.12296508997678757, 0.09556609392166138, 0.1006212905049324, 0.10212159156799316, 0.09822243452072144, 0.09847055375576019, 0.09731344133615494, 0.09632331132888794, 0.0935005322098732, 0.09493404626846313, 0.09233900159597397, 0.09604939073324203, 0.09344117343425751, 0.095109723508358, 0.09695472568273544, 0.09572571516036987, 0.09370797872543335, 0.09437590092420578, 0.09653192013502121, 0.095401830971241, 0.09000592678785324, 0.09435334801673889, 0.09389906376600266, 0.09674026072025299, 0.09428450465202332, 0.09316908568143845, 0.0915304645895958, 0.09658324718475342, 0.0914929062128067, 0.09070684760808945, 0.0999055877327919, 0.10278231650590897, 0.09293412417173386, 0.09597516059875488, 0.09299665689468384, 0.09295130521059036, 0.09396441280841827, 0.09401188045740128, 0.09220462292432785, 0.09588828682899475, 0.09624627232551575, 0.094636470079422, 0.09386979043483734, 0.09139809757471085, 0.09461529552936554, 0.09445671737194061, 0.09360909461975098, 0.0912790521979332, 0.09293743222951889, 0.0934622585773468, 0.09521378576755524, 0.09276725351810455, 0.09251800924539566, 0.09393846988677979, 0.09392613172531128, 0.09225927293300629, 0.09252999722957611, 0.09185706824064255, 0.0933009684085846, 0.0904800221323967, 0.09330812096595764, 0.09358543902635574, 0.09154193103313446, 0.09177282452583313, 0.09451105445623398, 0.09463188797235489, 0.09268354624509811, 0.09424841403961182, 0.09198615700006485, 0.08967051655054092, 0.09174946695566177, 0.09271553158760071, 0.09360775351524353, 0.09529147297143936, 0.09440536797046661, 0.09333918243646622, 0.09167390316724777, 0.091200090944767, 0.09384336322546005, 0.09371115267276764, 0.09192340075969696, 0.0943499505519867, 0.09480199962854385, 0.08979517966508865, 0.09202273935079575, 0.09031543880701065, 0.09358120709657669, 0.0909731388092041, 0.08958359062671661, 0.09036674350500107, 0.09372510015964508, 0.09074749797582626, 0.09189340472221375, 0.09246257692575455, 0.09270744770765305, 0.0935666561126709, 0.09313010424375534, 0.09309736639261246, 0.08886104077100754, 0.09333416074514389, 0.09096422046422958, 0.09222117066383362, 0.0919971913099289, 0.0906357392668724, 0.09115485846996307, 0.09003614634275436, 0.09321502596139908, 0.09307845681905746, 0.09226669371128082, 0.09188651293516159, 0.0926167443394661, 0.09275801479816437, 0.09161069989204407, 0.09211697429418564, 0.09208118915557861, 0.09017246216535568, 0.09073369950056076, 0.09175865352153778, 0.09180852770805359, 0.09313041716814041, 0.09311217069625854, 0.09206037223339081, 0.09451041370630264, 0.09364200383424759, 0.09180519729852676, 0.09432439506053925, 0.0910857543349266, 0.09169841557741165, 0.09370984137058258, 0.09234414994716644, 0.09170742332935333, 0.09115937352180481, 0.09203428775072098, 0.09251650422811508, 0.09291784465312958, 0.09297361969947815, 0.0919882208108902, 0.09132539480924606, 0.09229638427495956, 0.09057865291833878, 0.09280334413051605, 0.09103507548570633, 0.09207046777009964, 0.09198334813117981, 0.09328224509954453, 0.09052105247974396, 0.09070400148630142, 0.09186679124832153, 0.09111606329679489, 0.0914120227098465]"
      ],
      "metadata": {
        "id": "R5ekJd7J9CCG"
      },
      "id": "R5ekJd7J9CCG",
      "execution_count": 58,
      "outputs": []
    },
    {
      "cell_type": "code",
      "source": [
        "val_loss_rms=[0.0988837257027626, 0.09208862483501434, 0.09344396740198135, 0.09711971879005432, 0.09507162868976593, 0.09286445379257202, 0.09192182868719101, 0.09472546726465225, 0.09334594011306763, 0.09392701834440231, 0.09608195722103119, 0.09006042778491974, 0.09208842366933823, 0.09570910036563873, 0.08931601792573929, 0.08947623521089554, 0.09273874759674072, 0.09475167840719223, 0.09329439699649811, 0.0933218002319336, 0.09115040302276611, 0.09498972445726395, 0.09067721664905548, 0.09050827473402023, 0.090626060962677, 0.09480041265487671, 0.09368706494569778, 0.0913509875535965, 0.08989205956459045, 0.09190718084573746, 0.09502244740724564, 0.09039454907178879, 0.0940360426902771, 0.0918930247426033, 0.09066776931285858, 0.09146369993686676, 0.09120883047580719, 0.09234746545553207, 0.09167943149805069, 0.09343191981315613, 0.09125420451164246, 0.0956616997718811, 0.09096821397542953, 0.09206687659025192, 0.09132635593414307, 0.09482698887586594, 0.09317934513092041, 0.09172386676073074, 0.0926685556769371, 0.09271682053804398, 0.09182586520910263, 0.09138220548629761, 0.09284266084432602, 0.09079664200544357, 0.09217057377099991, 0.09039860963821411, 0.09445807337760925, 0.09136983007192612, 0.09236463904380798, 0.09093628823757172, 0.09156893938779831, 0.09207524359226227, 0.09128594398498535, 0.09067298471927643, 0.09136123210191727, 0.09163456410169601, 0.09377925097942352, 0.09138384461402893, 0.08954472094774246, 0.08996136486530304, 0.09039847552776337, 0.08839161694049835, 0.08914825320243835, 0.0911293625831604, 0.08995255827903748, 0.09202560782432556, 0.092991404235363, 0.09019885212182999, 0.09109261631965637, 0.09299243241548538, 0.0916011780500412, 0.08998782187700272, 0.09188420325517654, 0.09172309190034866, 0.09188631922006607, 0.09333161264657974, 0.0929393395781517, 0.0902060866355896, 0.09128303825855255, 0.0904221162199974, 0.09135671705007553, 0.09181680530309677, 0.09367779642343521, 0.09348117560148239, 0.09058307111263275, 0.09262412041425705, 0.09262214601039886, 0.09108014404773712, 0.09412475675344467, 0.09338677674531937, 0.09075579047203064, 0.09086599946022034, 0.09076034277677536, 0.09198015183210373, 0.09035269916057587, 0.08855272084474564, 0.08943627029657364, 0.0923495963215828, 0.0919671356678009, 0.09063056111335754, 0.09169074892997742, 0.09205806255340576, 0.09204936772584915, 0.08958767354488373, 0.09224249422550201, 0.09166153520345688, 0.09152254462242126, 0.09100032597780228, 0.0922640860080719, 0.08998118340969086, 0.09160791337490082, 0.09152576327323914, 0.09307628124952316, 0.09271515905857086, 0.09202848374843597, 0.09077396988868713, 0.09122978895902634, 0.09229585528373718, 0.09120296686887741, 0.08976654708385468, 0.09237200021743774, 0.09047801792621613, 0.09079133719205856, 0.09186943620443344, 0.0923333391547203, 0.0911138504743576, 0.09191633015871048, 0.09024529904127121, 0.09212061762809753, 0.09262420982122421, 0.09090067446231842, 0.09361706674098969, 0.09164724498987198, 0.0913097932934761, 0.0913618803024292, 0.09080184251070023, 0.09136763960123062, 0.0892382338643074, 0.08979105949401855, 0.09145296365022659]"
      ],
      "metadata": {
        "id": "bR3XhZTj59TR"
      },
      "id": "bR3XhZTj59TR",
      "execution_count": 59,
      "outputs": []
    },
    {
      "cell_type": "code",
      "source": [
        "#btch size 32\n",
        "val_loss_sgd=[0.09917441755533218, 0.0971212312579155, 0.09351310133934021, 0.09410262852907181, 0.09312011301517487, 0.09407547116279602, 0.0929272472858429, 0.0949389860033989, 0.0942491888999939, 0.0950004979968071, 0.09200269728899002, 0.09433328360319138, 0.09207777678966522, 0.09051712602376938, 0.09165138751268387, 0.09294359385967255, 0.09532535821199417, 0.08864817768335342, 0.08862218260765076, 0.09060294926166534, 0.09394847601652145, 0.08993735909461975, 0.09334416687488556, 0.09206844866275787, 0.09537860006093979, 0.09039304405450821, 0.09137063473463058, 0.09153836965560913, 0.0916115939617157, 0.08908955752849579, 0.0928502008318901, 0.09222683310508728, 0.09182010591030121, 0.09198211133480072, 0.09143495559692383, 0.09354401379823685, 0.08969493955373764, 0.09193620085716248, 0.09425333142280579, 0.09011512994766235, 0.09050146490335464, 0.09176962077617645, 0.09227767586708069, 0.09439055621623993, 0.09420838207006454, 0.09296485036611557, 0.09159029275178909, 0.09071015566587448, 0.09121961146593094, 0.09111123532056808, 0.08985384553670883, 0.09255733340978622, 0.0915253683924675, 0.09426827728748322, 0.08965608477592468, 0.09354428946971893, 0.092104472219944, 0.09280232340097427, 0.09177619218826294, 0.093030646443367, 0.09074875712394714, 0.0901191309094429, 0.09214714914560318, 0.09339792281389236, 0.09059453755617142, 0.09248299896717072, 0.09161704033613205, 0.09132129698991776, 0.09165271371603012, 0.09079200774431229, 0.09166766703128815, 0.09293315559625626, 0.0898880735039711, 0.09053746610879898, 0.09122821688652039, 0.09402376413345337, 0.09111043810844421, 0.0912482813000679, 0.09105625003576279, 0.09291192144155502, 0.09140040725469589, 0.09178835153579712, 0.08978153765201569, 0.09118733555078506, 0.09154986590147018, 0.09171783179044724, 0.09198739379644394, 0.09201928973197937, 0.09222589433193207, 0.0920478031039238, 0.09138604998588562, 0.09231704473495483, 0.09121058881282806, 0.09343033283948898, 0.0891614705324173, 0.0911724716424942, 0.0925518125295639, 0.0919656828045845, 0.09471137076616287, 0.09156688302755356, 0.09170594811439514, 0.09287400543689728, 0.09059429913759232, 0.09174574166536331, 0.09163731336593628, 0.0932878628373146, 0.08897019922733307, 0.09185825288295746, 0.09242774546146393, 0.09104681015014648, 0.09143905341625214, 0.0907173901796341, 0.090238057076931, 0.0915752425789833, 0.09253956377506256, 0.0908249244093895, 0.09092939645051956, 0.0916309505701065, 0.0920465737581253, 0.0915193259716034, 0.09022223204374313, 0.09215531498193741, 0.0923694595694542, 0.09039679914712906, 0.0928473100066185, 0.09175633639097214, 0.09163565188646317, 0.09073693305253983, 0.090929314494133, 0.09055275470018387, 0.09059929847717285, 0.09133899211883545, 0.09074568748474121, 0.09048456698656082, 0.09141881763935089, 0.09139322489500046, 0.09230083227157593, 0.09033191204071045, 0.09185725450515747, 0.08926243335008621, 0.09114501625299454, 0.09094735980033875, 0.09020201861858368, 0.09161797910928726, 0.09292725473642349, 0.09275822341442108, 0.09193868190050125, 0.09122804552316666, 0.09081518650054932, 0.09196557849645615]"
      ],
      "metadata": {
        "id": "HK2ByYvN4Pq-"
      },
      "id": "HK2ByYvN4Pq-",
      "execution_count": 107,
      "outputs": []
    },
    {
      "cell_type": "code",
      "source": [
        "min(val_loss_sgd),min(val_loss_sgd_64)"
      ],
      "metadata": {
        "colab": {
          "base_uri": "https://localhost:8080/"
        },
        "id": "hQZikXJjHlxY",
        "outputId": "9de4ad68-7e41-411e-c982-96b82cdc0df1"
      },
      "id": "hQZikXJjHlxY",
      "execution_count": 114,
      "outputs": [
        {
          "output_type": "execute_result",
          "data": {
            "text/plain": [
              "(0.08862218260765076, 0.09178061783313751)"
            ]
          },
          "metadata": {},
          "execution_count": 114
        }
      ]
    },
    {
      "cell_type": "code",
      "source": [
        "val_loss_sgd_64=[0.12382839620113373, 0.1028372123837471, 0.0979565680027008, 0.09984959661960602, 0.0959034189581871, 0.09708070755004883, 0.09439248591661453, 0.09540762007236481, 0.09417067468166351, 0.09611763060092926, 0.09624640643596649, 0.09644931554794312, 0.09482872486114502, 0.09629341959953308, 0.09604882448911667, 0.09635424613952637, 0.09566663950681686, 0.09459982067346573, 0.09560892730951309, 0.09409362077713013, 0.09673285484313965, 0.09529753029346466, 0.09622733294963837, 0.09432077407836914, 0.09713148325681686, 0.09346701949834824, 0.09436565637588501, 0.09583740681409836, 0.09463179856538773, 0.09450303763151169, 0.09340304881334305, 0.0934324562549591, 0.09681031107902527, 0.09412511438131332, 0.09410850703716278, 0.09386345744132996, 0.09547457098960876, 0.09353050589561462, 0.0961889699101448, 0.09485161304473877, 0.09629405289888382, 0.09445935487747192, 0.09275062382221222, 0.09438042342662811, 0.09630433470010757, 0.09205414354801178, 0.09209941327571869, 0.09650308638811111, 0.09350895136594772, 0.09683491289615631, 0.09417055547237396, 0.09321599453687668, 0.09347814321517944, 0.09537126123905182, 0.09392647445201874, 0.09368206560611725, 0.09531737864017487, 0.09281644225120544, 0.09445759654045105, 0.09466579556465149, 0.09493619948625565, 0.09409664571285248, 0.09548535943031311, 0.09395471215248108, 0.09460532665252686, 0.09484829753637314, 0.0930221676826477, 0.09437549859285355, 0.09363704919815063, 0.09345126152038574, 0.09535086154937744, 0.09361264109611511, 0.09483674168586731, 0.09472835063934326, 0.0959150642156601, 0.09377069771289825, 0.09569565951824188, 0.09342021495103836, 0.09381523728370667, 0.09438661485910416, 0.09333959221839905, 0.09449061751365662, 0.09508773684501648, 0.09414967894554138, 0.09332932531833649, 0.09399956464767456, 0.09266923367977142, 0.09225267171859741, 0.09368294477462769, 0.09477666765451431, 0.09313571453094482, 0.09373486042022705, 0.09357090294361115, 0.09486151486635208, 0.0935693234205246, 0.09219765663146973, 0.0938301533460617, 0.0938015729188919, 0.09426974505186081, 0.09212101995944977, 0.09404444694519043, 0.09533065557479858, 0.09433965384960175, 0.09429355710744858, 0.09443823993206024, 0.0941493958234787, 0.09456571936607361, 0.09380780905485153, 0.09345260262489319, 0.09178061783313751, 0.09346844255924225, 0.0929201990365982, 0.09508082270622253, 0.0930936336517334, 0.09237536042928696, 0.09412530064582825, 0.09378639608621597, 0.09450338035821915, 0.09420166909694672, 0.09491346776485443, 0.09279663860797882, 0.09566393494606018, 0.09424150735139847, 0.09433360397815704, 0.09231531620025635, 0.09365534782409668, 0.09306035935878754, 0.0961783230304718, 0.09358932077884674, 0.09296183288097382, 0.09492890536785126, 0.09258535504341125, 0.09497178345918655, 0.09445056319236755, 0.09417688846588135, 0.0947822630405426, 0.09419289231300354, 0.09342566132545471, 0.0931592509150505, 0.09538472443819046, 0.09440581500530243, 0.09502175450325012, 0.09357576072216034, 0.09371230751276016, 0.09219770133495331, 0.09427250176668167, 0.09498538076877594, 0.09316517412662506, 0.09417396783828735, 0.09330317378044128]"
      ],
      "metadata": {
        "id": "Sss3ttKYAWNm"
      },
      "id": "Sss3ttKYAWNm",
      "execution_count": 108,
      "outputs": []
    },
    {
      "cell_type": "code",
      "source": [
        "val_loss_sgd_128=[0.24403636157512665, 0.11372974514961243, 0.10079863667488098, 0.10403566807508469, 0.09583748877048492, 0.09424053877592087, 0.09111171215772629, 0.09396224468946457, 0.09483135491609573, 0.09391868859529495, 0.09486792236566544, 0.09282085299491882, 0.09054027497768402, 0.0944986492395401, 0.09291540831327438, 0.09337787330150604, 0.0918654128909111, 0.09430444985628128, 0.09408290684223175, 0.093337282538414, 0.09410199522972107, 0.09243263304233551, 0.09521447867155075, 0.0931018590927124, 0.09401513636112213, 0.09490635246038437, 0.09105741232633591, 0.09286899864673615, 0.09525378048419952, 0.09417613595724106, 0.09287621080875397, 0.09227605164051056, 0.09529749304056168, 0.0962533950805664, 0.09306008368730545, 0.09323224425315857, 0.09170438349246979, 0.09181518852710724, 0.09337266534566879, 0.09450715780258179, 0.09331592172384262, 0.09212656319141388, 0.09227513521909714, 0.09319274127483368, 0.09359274804592133, 0.0929960161447525, 0.0911780521273613, 0.09215738624334335, 0.09276389330625534, 0.09454095363616943, 0.09273316711187363, 0.09257322549819946, 0.09065605700016022, 0.0915198028087616, 0.09455099701881409, 0.09100231528282166, 0.09423348307609558, 0.09294698387384415, 0.09453172236680984, 0.09330085664987564, 0.09334590286016464, 0.09343394637107849, 0.09495599567890167, 0.09359580278396606, 0.09362269192934036, 0.09175380319356918, 0.0918542668223381, 0.09187670052051544, 0.09355843812227249, 0.0930003747344017, 0.09239016473293304, 0.09360424429178238, 0.09273840487003326, 0.09317495673894882, 0.09325871616601944, 0.09264617413282394, 0.09282118827104568, 0.09355178475379944, 0.09308241307735443, 0.09296346455812454, 0.09430962055921555, 0.09255312383174896, 0.09370056539773941, 0.09421158581972122, 0.09397987276315689, 0.09131132811307907, 0.09186585992574692, 0.0917208269238472, 0.09290681779384613, 0.0938420370221138, 0.09198078513145447, 0.0944233313202858, 0.09095246344804764, 0.09206485748291016, 0.09370612353086472, 0.09198199957609177, 0.09343869239091873, 0.09198438376188278, 0.09098510444164276, 0.09443891793489456, 0.09267078340053558, 0.09212388843297958, 0.09274086356163025, 0.09363239258527756, 0.09224240481853485, 0.0920913890004158, 0.091832235455513, 0.094285748898983, 0.09090229868888855, 0.09237973392009735, 0.09211568534374237, 0.0943911150097847, 0.09317878633737564, 0.09159746766090393, 0.09352460503578186, 0.09392417222261429, 0.09358137845993042, 0.09351737797260284, 0.09187649935483932, 0.0936518982052803, 0.09201379865407944, 0.09474373608827591, 0.09351635724306107, 0.09247256815433502, 0.0947439968585968, 0.09166949987411499, 0.0931241363286972, 0.09320255368947983, 0.09285381436347961, 0.09321554005146027, 0.09192459285259247, 0.09456176310777664, 0.09316403418779373, 0.09241855144500732, 0.09326160699129105, 0.0927102118730545, 0.09243100136518478, 0.09235604107379913, 0.09176736325025558, 0.09164053946733475, 0.09084242582321167, 0.09365049749612808, 0.0926307961344719, 0.0921798050403595, 0.0928197130560875, 0.0934334322810173, 0.09295140951871872, 0.0927191972732544, 0.0920608788728714, 0.09247997403144836]"
      ],
      "metadata": {
        "id": "25FAC0URB_Ru"
      },
      "id": "25FAC0URB_Ru",
      "execution_count": 109,
      "outputs": []
    },
    {
      "cell_type": "code",
      "source": [
        "val_loss_sgd_4=[0.09487639367580414, 0.09486878663301468, 0.09217602759599686, 0.0927230715751648, 0.09364086389541626, 0.09276862442493439, 0.09182234108448029, 0.09089959412813187, 0.09490347653627396, 0.09338623285293579, 0.09407205879688263, 0.09290885180234909, 0.09195678681135178, 0.09494121372699738, 0.09276942163705826, 0.09291555732488632, 0.09199345856904984, 0.09140957146883011, 0.09145712107419968, 0.09361724555492401, 0.0917515829205513, 0.09385782480239868, 0.09173768013715744, 0.09199076890945435, 0.09144245088100433, 0.09201037138700485, 0.09243299812078476, 0.09333429485559464, 0.09389026463031769, 0.09231024980545044, 0.09242022782564163, 0.09311430156230927, 0.0930042564868927, 0.09128835052251816, 0.09064407646656036, 0.09190136194229126, 0.09142440557479858, 0.09272231161594391, 0.09340348094701767, 0.09212636202573776, 0.0911082774400711, 0.09240463376045227, 0.0920557975769043, 0.09300156682729721, 0.09272588789463043, 0.09049244970083237, 0.09175502508878708, 0.09222967177629471, 0.09107042104005814, 0.09308764338493347, 0.09218171238899231, 0.09295409917831421, 0.09189121425151825, 0.09271260350942612, 0.09138236194849014, 0.0921124815940857, 0.09130103886127472, 0.09223610162734985, 0.09176041930913925, 0.09192895889282227, 0.09041033685207367, 0.09166502207517624, 0.092386893928051, 0.09276697039604187, 0.0920943096280098, 0.09066309779882431, 0.0922507494688034, 0.09221241623163223, 0.0921236127614975, 0.0923033207654953, 0.09240270406007767, 0.09176011383533478, 0.09107377380132675, 0.09183496236801147, 0.09262187778949738, 0.09198835492134094, 0.09256978332996368, 0.09231677651405334, 0.09090600162744522, 0.09189394861459732, 0.09209686517715454, 0.09218940138816833, 0.09123935550451279, 0.09218110144138336, 0.09233912825584412, 0.09275136888027191, 0.09037311375141144, 0.09068377315998077, 0.09173788875341415, 0.09241031855344772, 0.09231418371200562, 0.09290910512208939, 0.09159865975379944, 0.09114180505275726, 0.09113604575395584, 0.09136325865983963, 0.09099559485912323, 0.09123355895280838, 0.09123290330171585, 0.09178833663463593, 0.09162259101867676, 0.09254509210586548, 0.09228456765413284, 0.09195282310247421, 0.0909862145781517, 0.09216784685850143, 0.09087434411048889, 0.09115119278430939, 0.0914512574672699, 0.09288539737462997, 0.09098376333713531, 0.09191813319921494, 0.09035231918096542, 0.09183423221111298, 0.09084878116846085, 0.09162862598896027, 0.09266430884599686, 0.09182838350534439, 0.09128904342651367, 0.09179267287254333, 0.0917850136756897, 0.09191185981035233, 0.09106289595365524, 0.09272745996713638, 0.09134524315595627, 0.0913480594754219, 0.09140634536743164, 0.09125320613384247, 0.09263695776462555, 0.09229391068220139, 0.09117908775806427, 0.09145000576972961, 0.09162741899490356, 0.09171608090400696, 0.090622179210186, 0.09210485219955444, 0.09240173548460007, 0.09138835221529007, 0.09216665476560593, 0.09216026216745377, 0.09250415116548538, 0.09189941734075546, 0.09137456864118576, 0.09183608740568161, 0.09231864660978317, 0.09165048599243164, 0.09239237755537033, 0.09195970743894577, 0.09127096831798553, 0.09152234345674515]"
      ],
      "metadata": {
        "id": "iFCLlJReCcoQ"
      },
      "id": "iFCLlJReCcoQ",
      "execution_count": 111,
      "outputs": []
    },
    {
      "cell_type": "code",
      "source": [
        "#plot validation loss for sgd optimizers for diff batch size\n",
        "\n",
        "plt.plot(range(0,num_epochs),val_loss_sgd_4, label = \"Batch Size=4\")\n",
        "plt.plot(range(0,num_epochs),val_loss_sgd, label = \"Batch Size=32\")\n",
        "plt.plot(range(0,num_epochs),val_loss_sgd_64, label = \"Batch Size=64\")\n",
        "plt.plot(range(0,num_epochs),val_loss_sgd_128, label = \"Batch Size=128\")\n",
        "\n",
        "plt.title('Validation Loss Vs Epochs ', fontsize=14)\n",
        "plt.xlabel('#Epochs', fontsize=14)\n",
        "plt.ylabel('Loss ', fontsize=14)\n",
        "\n",
        "plt.legend()\n",
        "plt.show()"
      ],
      "metadata": {
        "colab": {
          "base_uri": "https://localhost:8080/",
          "height": 300
        },
        "id": "Vi8DxA81CEM0",
        "outputId": "a70e08ea-725c-44b3-a154-0cf944f29301"
      },
      "id": "Vi8DxA81CEM0",
      "execution_count": 112,
      "outputs": [
        {
          "output_type": "display_data",
          "data": {
            "text/plain": [
              "<Figure size 432x288 with 1 Axes>"
            ],
            "image/png": "[encoded data removed]"
          },
          "metadata": {
            "needs_background": "light"
          }
        }
      ]
    },
    {
      "cell_type": "code",
      "source": [
        "#Plotting training loss and validation loss curve\n",
        "\n",
        "converted_train_loss_mse = [tensor.detach().item() for tensor in obtained_train_loss]\n",
        "converted_val_loss_mse = [tensor.detach().item() for tensor in obtained_val_loss]\n",
        "\n",
        "plt.plot(range(0,num_epochs),converted_train_loss_mse, label = \"Training Loss\")\n",
        "plt.plot(range(0,num_epochs),converted_val_loss_mse, label = \"Validation Loss\")\n",
        "plt.title('Loss  Vs Epochs (SGD, batch_size=32,lr=0.01)', fontsize=14)\n",
        "plt.xlabel('#Epochs', fontsize=14)\n",
        "plt.ylabel('Loss ', fontsize=14)\n",
        "\n",
        "plt.legend()\n",
        "plt.show()\n"
      ],
      "metadata": {
        "colab": {
          "base_uri": "https://localhost:8080/",
          "height": 300
        },
        "id": "QbQBBfzV20C9",
        "outputId": "88c12a02-e201-4b5a-b613-8ab67de518bd"
      },
      "id": "QbQBBfzV20C9",
      "execution_count": 166,
      "outputs": [
        {
          "output_type": "display_data",
          "data": {
            "text/plain": [
              "<Figure size 432x288 with 1 Axes>"
            ],
            "image/png": "[encoded data removed]"
          },
          "metadata": {
            "needs_background": "light"
          }
        }
      ]
    },
    {
      "cell_type": "code",
      "source": [
        "#plot validation loss for optimizers against each other with batch size=32 and default LR settings\n",
        "\n",
        "\n",
        "plt.plot(range(0,num_epochs),val_loss_sgd, label = \"SGD\")\n",
        "plt.plot(range(0,num_epochs),val_loss_rms, label = \"RMSProp\")\n",
        "plt.plot(range(0,num_epochs),val_loss_adagrad, label = \"Adagrad\")\n",
        "plt.plot(range(0,num_epochs),val_loss_adam, label = \"Adam\")\n",
        "plt.title('Validation Loss Vs Epochs ', fontsize=14)\n",
        "plt.xlabel('#Epochs', fontsize=14)\n",
        "plt.ylabel('Loss ', fontsize=14)\n",
        "\n",
        "plt.legend()\n",
        "plt.show()\n"
      ],
      "metadata": {
        "colab": {
          "base_uri": "https://localhost:8080/",
          "height": 300
        },
        "id": "7LM6IBKQ6uqg",
        "outputId": "43bdde40-b030-4624-e236-1c5916b0e645"
      },
      "id": "7LM6IBKQ6uqg",
      "execution_count": 61,
      "outputs": [
        {
          "output_type": "display_data",
          "data": {
            "text/plain": [
              "<Figure size 432x288 with 1 Axes>"
            ],
            "image/png": "[encoded data removed]"
          },
          "metadata": {
            "needs_background": "light"
          }
        }
      ]
    },
    {
      "cell_type": "code",
      "source": [
        "print(converted_val_loss_mse)"
      ],
      "metadata": {
        "colab": {
          "base_uri": "https://localhost:8080/"
        },
        "id": "G4_oTTIl6Vaf",
        "outputId": "b5ef7327-0fd8-45bf-f13e-9a689d19d5cd"
      },
      "id": "G4_oTTIl6Vaf",
      "execution_count": 36,
      "outputs": [
        {
          "output_type": "stream",
          "name": "stdout",
          "text": [
            "[0.09917441755533218, 0.0971212312579155, 0.09351310133934021, 0.09410262852907181, 0.09312011301517487, 0.09407547116279602, 0.0929272472858429, 0.0949389860033989, 0.0942491888999939, 0.0950004979968071, 0.09200269728899002, 0.09433328360319138, 0.09207777678966522, 0.09051712602376938, 0.09165138751268387, 0.09294359385967255, 0.09532535821199417, 0.08864817768335342, 0.08862218260765076, 0.09060294926166534, 0.09394847601652145, 0.08993735909461975, 0.09334416687488556, 0.09206844866275787, 0.09537860006093979, 0.09039304405450821, 0.09137063473463058, 0.09153836965560913, 0.0916115939617157, 0.08908955752849579, 0.0928502008318901, 0.09222683310508728, 0.09182010591030121, 0.09198211133480072, 0.09143495559692383, 0.09354401379823685, 0.08969493955373764, 0.09193620085716248, 0.09425333142280579, 0.09011512994766235, 0.09050146490335464, 0.09176962077617645, 0.09227767586708069, 0.09439055621623993, 0.09420838207006454, 0.09296485036611557, 0.09159029275178909, 0.09071015566587448, 0.09121961146593094, 0.09111123532056808, 0.08985384553670883, 0.09255733340978622, 0.0915253683924675, 0.09426827728748322, 0.08965608477592468, 0.09354428946971893, 0.092104472219944, 0.09280232340097427, 0.09177619218826294, 0.093030646443367, 0.09074875712394714, 0.0901191309094429, 0.09214714914560318, 0.09339792281389236, 0.09059453755617142, 0.09248299896717072, 0.09161704033613205, 0.09132129698991776, 0.09165271371603012, 0.09079200774431229, 0.09166766703128815, 0.09293315559625626, 0.0898880735039711, 0.09053746610879898, 0.09122821688652039, 0.09402376413345337, 0.09111043810844421, 0.0912482813000679, 0.09105625003576279, 0.09291192144155502, 0.09140040725469589, 0.09178835153579712, 0.08978153765201569, 0.09118733555078506, 0.09154986590147018, 0.09171783179044724, 0.09198739379644394, 0.09201928973197937, 0.09222589433193207, 0.0920478031039238, 0.09138604998588562, 0.09231704473495483, 0.09121058881282806, 0.09343033283948898, 0.0891614705324173, 0.0911724716424942, 0.0925518125295639, 0.0919656828045845, 0.09471137076616287, 0.09156688302755356, 0.09170594811439514, 0.09287400543689728, 0.09059429913759232, 0.09174574166536331, 0.09163731336593628, 0.0932878628373146, 0.08897019922733307, 0.09185825288295746, 0.09242774546146393, 0.09104681015014648, 0.09143905341625214, 0.0907173901796341, 0.090238057076931, 0.0915752425789833, 0.09253956377506256, 0.0908249244093895, 0.09092939645051956, 0.0916309505701065, 0.0920465737581253, 0.0915193259716034, 0.09022223204374313, 0.09215531498193741, 0.0923694595694542, 0.09039679914712906, 0.0928473100066185, 0.09175633639097214, 0.09163565188646317, 0.09073693305253983, 0.090929314494133, 0.09055275470018387, 0.09059929847717285, 0.09133899211883545, 0.09074568748474121, 0.09048456698656082, 0.09141881763935089, 0.09139322489500046, 0.09230083227157593, 0.09033191204071045, 0.09185725450515747, 0.08926243335008621, 0.09114501625299454, 0.09094735980033875, 0.09020201861858368, 0.09161797910928726, 0.09292725473642349, 0.09275822341442108, 0.09193868190050125, 0.09122804552316666, 0.09081518650054932, 0.09196557849645615]\n"
          ]
        }
      ]
    },
    {
      "cell_type": "code",
      "source": [
        "print(f\"Best Val loss (LSTM_MSE): {min(converted_val_loss_mse)}\")\n",
        "print(f\"Worst Val loss (LSTM_MSE): {max(converted_val_loss_mse)}\")"
      ],
      "metadata": {
        "colab": {
          "base_uri": "https://localhost:8080/"
        },
        "id": "GSYpqcxK291p",
        "outputId": "d03a49db-9acc-4377-eda9-c7076e7e8634"
      },
      "id": "GSYpqcxK291p",
      "execution_count": 62,
      "outputs": [
        {
          "output_type": "stream",
          "name": "stdout",
          "text": [
            "Best Val loss (LSTM_MSE): 0.08886104077100754\n",
            "Worst Val loss (LSTM_MSE): 0.12296508997678757\n"
          ]
        }
      ]
    },
    {
      "cell_type": "markdown",
      "id": "da139d5b",
      "metadata": {
        "id": "da139d5b"
      },
      "source": [
        "## Evaluation"
      ]
    },
    {
      "cell_type": "code",
      "execution_count": 160,
      "id": "ebed03ba",
      "metadata": {
        "id": "ebed03ba",
        "colab": {
          "base_uri": "https://localhost:8080/"
        },
        "outputId": "0422deeb-fbc7-4dfb-9453-7bfd0d3e0171"
      },
      "outputs": [
        {
          "output_type": "stream",
          "name": "stdout",
          "text": [
            "Looking in indexes: https://pypi.org/simple, https://us-python.pkg.dev/colab-wheels/public/simple/\n",
            "Requirement already satisfied: torchmetrics in /usr/local/lib/python3.7/dist-packages (0.9.1)\n",
            "Requirement already satisfied: torch>=1.3.1 in /usr/local/lib/python3.7/dist-packages (from torchmetrics) (1.11.0+cu113)\n",
            "Requirement already satisfied: typing-extensions in /usr/local/lib/python3.7/dist-packages (from torchmetrics) (4.1.1)\n",
            "Requirement already satisfied: numpy>=1.17.2 in /usr/local/lib/python3.7/dist-packages (from torchmetrics) (1.21.6)\n",
            "Requirement already satisfied: packaging in /usr/local/lib/python3.7/dist-packages (from torchmetrics) (21.3)\n",
            "Requirement already satisfied: pyparsing!=3.0.5,>=2.0.2 in /usr/local/lib/python3.7/dist-packages (from packaging->torchmetrics) (3.0.9)\n"
          ]
        }
      ],
      "source": [
        "#todo\n",
        "!pip install torchmetrics"
      ]
    },
    {
      "cell_type": "code",
      "execution_count": 161,
      "id": "17af7ec3",
      "metadata": {
        "id": "17af7ec3"
      },
      "outputs": [],
      "source": [
        "\n",
        "#evaluate on the test set and calculate average test loss \n",
        "from sklearn.metrics import mean_squared_error\n",
        "from torchmetrics import R2Score \n",
        "r2score = R2Score().to(device)\n",
        "criterion = nn.L1Loss()\n",
        "def evaluate(model, test_loader,device='cpu'):\n",
        "    test_running_loss = 0.0\n",
        "    count=0.0\n",
        "    r2_score=0.0\n",
        "    preds = []\n",
        "    actual = []\n",
        "    test_input = []\n",
        "    losses=[]\n",
        "    with torch.no_grad():\n",
        "        model.eval()\n",
        "        for test_data, test_label in test_loader:\n",
        "            input_tensor = test_data.to(device)\n",
        "            test_input.append(input_tensor)\n",
        "            outputs = model.forward(input_tensor)\n",
        "            preds.append(outputs)\n",
        "            actual.append(test_label)\n",
        "            loss = criterion(outputs,test_label.to(device))\n",
        "            losses.append(loss)\n",
        "            test_running_loss += loss\n",
        "            #score = r2score(outputs, test_label)\n",
        "            #r2_score += score\n",
        "            count+=1\n",
        "           \n",
        "            print(f\"MSE Loss after {count} iteration :\", test_running_loss/count)\n",
        "\n",
        "\n",
        "\n",
        "        print(test_running_loss)\n",
        "        avg_test_loss = test_running_loss / len(test_loader)\n",
        "        avg_r2_score = r2_score / len(test_loader)\n",
        "        print(\"Average MSE Test Loss: {:4f}\".format(avg_test_loss))\n",
        "        #print(\"Average R2 score: {:4f}\".format(avg_r2_score))\n",
        "        return preds, actual, test_input,losses\n",
        "\n"
      ]
    },
    {
      "cell_type": "code",
      "execution_count": 162,
      "id": "43a3422e",
      "metadata": {
        "id": "43a3422e",
        "colab": {
          "base_uri": "https://localhost:8080/"
        },
        "outputId": "2fc5bdde-ecf1-423b-dd48-95c1cdd3e37b"
      },
      "outputs": [
        {
          "output_type": "stream",
          "name": "stdout",
          "text": [
            "MSE Loss after 1.0 iteration : tensor(0.2553)\n",
            "MSE Loss after 2.0 iteration : tensor(0.2697)\n",
            "MSE Loss after 3.0 iteration : tensor(0.2433)\n",
            "MSE Loss after 4.0 iteration : tensor(0.2395)\n",
            "MSE Loss after 5.0 iteration : tensor(0.2404)\n",
            "MSE Loss after 6.0 iteration : tensor(0.2464)\n",
            "MSE Loss after 7.0 iteration : tensor(0.2534)\n",
            "MSE Loss after 8.0 iteration : tensor(0.2491)\n",
            "MSE Loss after 9.0 iteration : tensor(0.2470)\n",
            "MSE Loss after 10.0 iteration : tensor(0.2522)\n",
            "tensor(2.5215)\n",
            "Average MSE Test Loss: 0.252150\n",
            "Average R2 score: 0.000000\n"
          ]
        }
      ],
      "source": [
        "preds,actual,input,losses= evaluate(model,test_loader)"
      ]
    },
    {
      "cell_type": "code",
      "source": [
        "best_batch = np.argmin(losses)\n",
        "worst_batch = np.argmax(losses)\n",
        "\n",
        "print(f\"The batch number in the test set with the best test loss is {best_batch}\")\n",
        "print(f\"The batch in the set  with the worst test loss is {worst_batch}\")"
      ],
      "metadata": {
        "colab": {
          "base_uri": "https://localhost:8080/"
        },
        "id": "wK7EgD_L3Qnu",
        "outputId": "24862c85-6a6c-452e-c201-d30f38e28a4f"
      },
      "id": "wK7EgD_L3Qnu",
      "execution_count": 163,
      "outputs": [
        {
          "output_type": "stream",
          "name": "stdout",
          "text": [
            "The batch number in the test set with the best test loss is 2\n",
            "The batch in the set  with the worst test loss is 9\n"
          ]
        }
      ]
    },
    {
      "cell_type": "code",
      "source": [
        "def input_tensor(inp_arr, batch_size, sequence_len, dim):\n",
        "  input_array = []\n",
        "  for i in inp_arr:\n",
        "    input= i.reshape(batch_size, sequence_len, dim)\n",
        "    input_array.append(input)\n",
        "  return input_array\n",
        "\n",
        "input_plot = input_tensor(input, 10,110,2)"
      ],
      "metadata": {
        "id": "zlYAasssutDh"
      },
      "id": "zlYAasssutDh",
      "execution_count": 174,
      "outputs": []
    },
    {
      "cell_type": "code",
      "source": [
        "#Plot the best cases\n",
        "\n",
        "for batch_idx in range(9):\n",
        "    print(f'\\nPlot for simulations in best batch  {best_batch} & corresponding batch number {batch_idx}\\n')\n",
        "    plot_example(input_plot[best_batch][batch_idx])\n",
        "    print(f'Predicted charges : {preds[best_batch][batch_idx]}')\n",
        "    print(f'Actual charges : {actual[best_batch][batch_idx]}')\n",
        "   "
      ],
      "metadata": {
        "colab": {
          "base_uri": "https://localhost:8080/",
          "height": 1000
        },
        "id": "mB6yTMYDuxvb",
        "outputId": "27f8ec75-a1a7-41c7-f1a5-600856081c17"
      },
      "id": "mB6yTMYDuxvb",
      "execution_count": 175,
      "outputs": [
        {
          "output_type": "stream",
          "name": "stdout",
          "text": [
            "\n",
            "Plot for simulations in best batch  2 & corresponding batch number 0\n",
            "\n"
          ]
        },
        {
          "output_type": "display_data",
          "data": {
            "text/plain": [
              "<Figure size 360x360 with 1 Axes>"
            ],
            "image/png": "[encoded data removed]"
          },
          "metadata": {
            "needs_background": "light"
          }
        },
        {
          "output_type": "stream",
          "name": "stdout",
          "text": [
            "Predicted charges : tensor([-0.4888, -0.5105, -0.5385])\n",
            "Actual charges : tensor([-0.5288, -0.4237, -0.4963])\n",
            "\n",
            "Plot for simulations in best batch  2 & corresponding batch number 1\n",
            "\n"
          ]
        },
        {
          "output_type": "display_data",
          "data": {
            "text/plain": [
              "<Figure size 360x360 with 1 Axes>"
            ],
            "image/png": "[encoded data removed]"
          },
          "metadata": {
            "needs_background": "light"
          }
        },
        {
          "output_type": "stream",
          "name": "stdout",
          "text": [
            "Predicted charges : tensor([-0.4887, -0.5133, -0.5377])\n",
            "Actual charges : tensor([-0.5122, -0.5047, -0.5907])\n",
            "\n",
            "Plot for simulations in best batch  2 & corresponding batch number 2\n",
            "\n"
          ]
        },
        {
          "output_type": "display_data",
          "data": {
            "text/plain": [
              "<Figure size 360x360 with 1 Axes>"
            ],
            "image/png": "[encoded data removed]"
          },
          "metadata": {
            "needs_background": "light"
          }
        },
        {
          "output_type": "stream",
          "name": "stdout",
          "text": [
            "Predicted charges : tensor([-0.4662, -0.4993, -0.5404])\n",
            "Actual charges : tensor([-0.8616, -0.1052, -0.4603])\n",
            "\n",
            "Plot for simulations in best batch  2 & corresponding batch number 3\n",
            "\n"
          ]
        },
        {
          "output_type": "display_data",
          "data": {
            "text/plain": [
              "<Figure size 360x360 with 1 Axes>"
            ],
            "image/png": "[encoded data removed]"
          },
          "metadata": {
            "needs_background": "light"
          }
        },
        {
          "output_type": "stream",
          "name": "stdout",
          "text": [
            "Predicted charges : tensor([-0.4703, -0.4721, -0.4893])\n",
            "Actual charges : tensor([-0.5768, -0.7467, -0.7766])\n",
            "\n",
            "Plot for simulations in best batch  2 & corresponding batch number 4\n",
            "\n"
          ]
        },
        {
          "output_type": "display_data",
          "data": {
            "text/plain": [
              "<Figure size 360x360 with 1 Axes>"
            ],
            "image/png": "[encoded data removed]"
          },
          "metadata": {
            "needs_background": "light"
          }
        },
        {
          "output_type": "stream",
          "name": "stdout",
          "text": [
            "Predicted charges : tensor([-0.4489, -0.4874, -0.5055])\n",
            "Actual charges : tensor([-0.3213, -0.7681, -0.1656])\n",
            "\n",
            "Plot for simulations in best batch  2 & corresponding batch number 5\n",
            "\n"
          ]
        },
        {
          "output_type": "display_data",
          "data": {
            "text/plain": [
              "<Figure size 360x360 with 1 Axes>"
            ],
            "image/png": "[encoded data removed]"
          },
          "metadata": {
            "needs_background": "light"
          }
        },
        {
          "output_type": "stream",
          "name": "stdout",
          "text": [
            "Predicted charges : tensor([-0.4793, -0.5096, -0.5410])\n",
            "Actual charges : tensor([-0.1601, -0.9131, -0.5271])\n",
            "\n",
            "Plot for simulations in best batch  2 & corresponding batch number 6\n",
            "\n"
          ]
        },
        {
          "output_type": "display_data",
          "data": {
            "text/plain": [
              "<Figure size 360x360 with 1 Axes>"
            ],
            "image/png": "[encoded data removed]"
          },
          "metadata": {
            "needs_background": "light"
          }
        },
        {
          "output_type": "stream",
          "name": "stdout",
          "text": [
            "Predicted charges : tensor([-0.4633, -0.4689, -0.5023])\n",
            "Actual charges : tensor([-0.2647, -0.2182, -0.0796])\n",
            "\n",
            "Plot for simulations in best batch  2 & corresponding batch number 7\n",
            "\n"
          ]
        },
        {
          "output_type": "display_data",
          "data": {
            "text/plain": [
              "<Figure size 360x360 with 1 Axes>"
            ],
            "image/png": "[encoded data removed]"
          },
          "metadata": {
            "needs_background": "light"
          }
        },
        {
          "output_type": "stream",
          "name": "stdout",
          "text": [
            "Predicted charges : tensor([-0.4845, -0.5228, -0.5514])\n",
            "Actual charges : tensor([-0.3729, -0.4702, -0.1329])\n",
            "\n",
            "Plot for simulations in best batch  2 & corresponding batch number 8\n",
            "\n"
          ]
        },
        {
          "output_type": "display_data",
          "data": {
            "text/plain": [
              "<Figure size 360x360 with 1 Axes>"
            ],
            "image/png": "[encoded data removed]"
          },
          "metadata": {
            "needs_background": "light"
          }
        },
        {
          "output_type": "stream",
          "name": "stdout",
          "text": [
            "Predicted charges : tensor([-0.4718, -0.5180, -0.5111])\n",
            "Actual charges : tensor([-0.2834, -0.9244, -0.6925])\n"
          ]
        }
      ]
    },
    {
      "cell_type": "code",
      "source": [
        "#plot the worst cases\n",
        "\n",
        "for batch_idx in range(9):\n",
        "    print(f'\\nPlot for simulations in worst batch  {best_batch} & corresponding batch number {batch_idx}\\n')\n",
        "    plot_example(input_plot[worst_batch][batch_idx])\n",
        "    print(f'Predicted charges : {preds[worst_batch][batch_idx]}')\n",
        "    print(f'Actual charges : {actual[worst_batch][batch_idx]}')\n",
        "   "
      ],
      "metadata": {
        "colab": {
          "base_uri": "https://localhost:8080/",
          "height": 1000
        },
        "id": "gwdwSpoX3d22",
        "outputId": "bc799ca4-dc18-4e75-955d-d58bacb4473a"
      },
      "id": "gwdwSpoX3d22",
      "execution_count": 176,
      "outputs": [
        {
          "output_type": "stream",
          "name": "stdout",
          "text": [
            "\n",
            "Plot for simulations in worst batch  2 & corresponding batch number 0\n",
            "\n"
          ]
        },
        {
          "output_type": "display_data",
          "data": {
            "text/plain": [
              "<Figure size 360x360 with 1 Axes>"
            ],
            "image/png": "[encoded data removed]"
          },
          "metadata": {
            "needs_background": "light"
          }
        },
        {
          "output_type": "stream",
          "name": "stdout",
          "text": [
            "Predicted charges : tensor([-0.4788, -0.5145, -0.5213])\n",
            "Actual charges : tensor([-0.8942, -0.7843, -0.8215])\n",
            "\n",
            "Plot for simulations in worst batch  2 & corresponding batch number 1\n",
            "\n"
          ]
        },
        {
          "output_type": "display_data",
          "data": {
            "text/plain": [
              "<Figure size 360x360 with 1 Axes>"
            ],
            "image/png": "[encoded data removed]"
          },
          "metadata": {
            "needs_background": "light"
          }
        },
        {
          "output_type": "stream",
          "name": "stdout",
          "text": [
            "Predicted charges : tensor([-0.4878, -0.5029, -0.5328])\n",
            "Actual charges : tensor([-0.1228, -0.0967, -0.2784])\n",
            "\n",
            "Plot for simulations in worst batch  2 & corresponding batch number 2\n",
            "\n"
          ]
        },
        {
          "output_type": "display_data",
          "data": {
            "text/plain": [
              "<Figure size 360x360 with 1 Axes>"
            ],
            "image/png": "[encoded data removed]"
          },
          "metadata": {
            "needs_background": "light"
          }
        },
        {
          "output_type": "stream",
          "name": "stdout",
          "text": [
            "Predicted charges : tensor([-0.4809, -0.4606, -0.5379])\n",
            "Actual charges : tensor([-0.7859, -0.9122, -0.7441])\n",
            "\n",
            "Plot for simulations in worst batch  2 & corresponding batch number 3\n",
            "\n"
          ]
        },
        {
          "output_type": "display_data",
          "data": {
            "text/plain": [
              "<Figure size 360x360 with 1 Axes>"
            ],
            "image/png": "[encoded data removed]"
          },
          "metadata": {
            "needs_background": "light"
          }
        },
        {
          "output_type": "stream",
          "name": "stdout",
          "text": [
            "Predicted charges : tensor([-0.5060, -0.4866, -0.5150])\n",
            "Actual charges : tensor([-0.0629, -0.9295, -0.1001])\n",
            "\n",
            "Plot for simulations in worst batch  2 & corresponding batch number 4\n",
            "\n"
          ]
        },
        {
          "output_type": "display_data",
          "data": {
            "text/plain": [
              "<Figure size 360x360 with 1 Axes>"
            ],
            "image/png": "[encoded data removed]"
          },
          "metadata": {
            "needs_background": "light"
          }
        },
        {
          "output_type": "stream",
          "name": "stdout",
          "text": [
            "Predicted charges : tensor([-0.4638, -0.5381, -0.5548])\n",
            "Actual charges : tensor([-0.6840, -0.0979, -0.9204])\n",
            "\n",
            "Plot for simulations in worst batch  2 & corresponding batch number 5\n",
            "\n"
          ]
        },
        {
          "output_type": "display_data",
          "data": {
            "text/plain": [
              "<Figure size 360x360 with 1 Axes>"
            ],
            "image/png": "[encoded data removed]"
          },
          "metadata": {
            "needs_background": "light"
          }
        },
        {
          "output_type": "stream",
          "name": "stdout",
          "text": [
            "Predicted charges : tensor([-0.4818, -0.4870, -0.5043])\n",
            "Actual charges : tensor([-0.1111, -0.0509, -0.6288])\n",
            "\n",
            "Plot for simulations in worst batch  2 & corresponding batch number 6\n",
            "\n"
          ]
        },
        {
          "output_type": "display_data",
          "data": {
            "text/plain": [
              "<Figure size 360x360 with 1 Axes>"
            ],
            "image/png": "[encoded data removed]"
          },
          "metadata": {
            "needs_background": "light"
          }
        },
        {
          "output_type": "stream",
          "name": "stdout",
          "text": [
            "Predicted charges : tensor([-0.4794, -0.4796, -0.5341])\n",
            "Actual charges : tensor([-0.7054, -0.2375, -0.3324])\n",
            "\n",
            "Plot for simulations in worst batch  2 & corresponding batch number 7\n",
            "\n"
          ]
        },
        {
          "output_type": "display_data",
          "data": {
            "text/plain": [
              "<Figure size 360x360 with 1 Axes>"
            ],
            "image/png": "[encoded data removed]"
          },
          "metadata": {
            "needs_background": "light"
          }
        },
        {
          "output_type": "stream",
          "name": "stdout",
          "text": [
            "Predicted charges : tensor([-0.4790, -0.5134, -0.5411])\n",
            "Actual charges : tensor([-0.0525, -0.3105, -0.8409])\n",
            "\n",
            "Plot for simulations in worst batch  2 & corresponding batch number 8\n",
            "\n"
          ]
        },
        {
          "output_type": "display_data",
          "data": {
            "text/plain": [
              "<Figure size 360x360 with 1 Axes>"
            ],
            "image/png": "[encoded data removed]"
          },
          "metadata": {
            "needs_background": "light"
          }
        },
        {
          "output_type": "stream",
          "name": "stdout",
          "text": [
            "Predicted charges : tensor([-0.4647, -0.4691, -0.5150])\n",
            "Actual charges : tensor([-0.3014, -0.2227, -0.3813])\n"
          ]
        }
      ]
    },
    {
      "cell_type": "markdown",
      "id": "9a59808b",
      "metadata": {
        "id": "9a59808b"
      },
      "source": [
        "# Task 3.2"
      ]
    },
    {
      "cell_type": "markdown",
      "id": "f64a855d",
      "metadata": {
        "id": "f64a855d"
      },
      "source": [
        "## Data Handling and Preprocessing"
      ]
    },
    {
      "cell_type": "code",
      "source": [
        "simulation_test[0][-1,1]#[-2.44181784e+00,  1.23685294e+00]"
      ],
      "metadata": {
        "colab": {
          "base_uri": "https://localhost:8080/"
        },
        "id": "8QcangMr4JNZ",
        "outputId": "58949cbc-ead4-423f-b99e-1005fe7748f4"
      },
      "id": "8QcangMr4JNZ",
      "execution_count": 240,
      "outputs": [
        {
          "output_type": "execute_result",
          "data": {
            "text/plain": [
              "1.236852943008018"
            ]
          },
          "metadata": {},
          "execution_count": 240
        }
      ]
    },
    {
      "cell_type": "code",
      "source": [
        "simulation_train[0][-1][1]"
      ],
      "metadata": {
        "colab": {
          "base_uri": "https://localhost:8080/"
        },
        "id": "qadu9E21KMGR",
        "outputId": "cee09897-e0d8-4d28-dbc9-f6a188756f44"
      },
      "id": "qadu9E21KMGR",
      "execution_count": 241,
      "outputs": [
        {
          "output_type": "execute_result",
          "data": {
            "text/plain": [
              "0.2843197322328459"
            ]
          },
          "metadata": {},
          "execution_count": 241
        }
      ]
    },
    {
      "cell_type": "code",
      "execution_count": 16,
      "id": "5b935865",
      "metadata": {
        "id": "5b935865"
      },
      "outputs": [],
      "source": [
        "#todo\n",
        "#Task 3.2\n",
        "import torch\n",
        "from torch.utils.data import DataLoader\n",
        "import torch\n",
        "from torchvision import transforms\n",
        "from torch.utils.data import Dataset, DataLoader,TensorDataset, random_split\n",
        "import numpy as np\n",
        "\n",
        "from torch.nn.utils.rnn import pad_sequence\n",
        "\n",
        "device=torch.device(\"cuda\" if torch.cuda.is_available()else \"cpu\")\n",
        "\n",
        "class Dataset_Two(Dataset):\n",
        "    def __init__(self, simulations,continued_simulations):\n",
        "\n",
        "        #maximum length of each simulation performed is 110 seconds\n",
        "        max_length=110 \n",
        "        padded_sim = []\n",
        "\n",
        "        for i in range(len(simulations)):\n",
        "          if len(simulations[i]) != max_length:\n",
        "            #  x = np.pad(simulations[i],[(0,max_length-len(simulations[i])),(0,0)], 'constant',constant_values =(simulations[i][-1][0],simulations[i][-1][1]))\n",
        "            x = np.pad(simulations[i],[(0,max_length-len(simulations[i])),(0,0)], 'edge')\n",
        "             #x = np.pad(simulations[i],[(0,max_length-len(simulations[i])),(0,0)], 'constant',constant_values =0 ) #padding zeros at the end of dimension 1 ie rows \n",
        "          else:\n",
        "              x = simulations[i]\n",
        "          padded_sim.append(x)\n",
        "        #print(\"Padded Simulations\",padded_sim[1])\n",
        "\n",
        "        # Create data and target tensors\n",
        "        data = np.array(padded_sim)\n",
        "        (samples,length,dim) = data.shape\n",
        "        self.data = torch.FloatTensor(data).view(samples,1,-1) # reshape so that they are of format (Samples,Channels,Sequence length)\n",
        "        print(\"Length of input data \",len(self.data))\n",
        "        print(\" Shape of input data\",self.data.shape)\n",
        "        \n",
        "        \n",
        "       \n",
        "\n",
        "        padded_len_target = 60#len(max(continued_simulations, key = len))\n",
        "        padded_target_array = []\n",
        "        for j in range(len(continued_simulations)):\n",
        "            diff_targ = padded_len_target - continued_simulations[j].shape[0]\n",
        "            padded_target_array.append(np.pad(continued_simulations[j], [(0, diff_targ), (0,0)], 'edge'))\n",
        "        targets = np.array(padded_target_array)\n",
        "        #print(targets[0])\n",
        "        (tar_samples, tar_length, tar_dim) = targets.shape\n",
        "        self.targets = torch.FloatTensor(targets).view(tar_samples,1,-1)\n",
        "        print(\"Length of targets\",len(self.targets))\n",
        "        print(\"Shape of Target\",self.targets.shape)\n",
        "        \n",
        "    def __getitem__(self, index):\n",
        "        x = self.data[index]\n",
        "        y = self.targets[index]\n",
        "        \n",
        "\n",
        "        return x, y\n",
        "    \n",
        "    def __len__(self):\n",
        "        return len(self.data)"
      ]
    },
    {
      "cell_type": "code",
      "source": [
        "\n",
        "train_dataset_2 = Dataset_Two(simulation_train_task32,simulation_continued_train)\n",
        "train_loader_2 = torch.utils.data.DataLoader(train_dataset_2, batch_size=64)\n",
        "\n",
        "valid_dataset_2 = Dataset_Two(simulation_valid,simulation_continued_valid)\n",
        "valid_loader_2 = torch.utils.data.DataLoader(valid_dataset_2, batch_size=64)\n",
        "\n",
        "test_dataset_2 = Dataset_Two(simulation_test,simulation_continued_test)\n",
        "test_loader_2 = torch.utils.data.DataLoader(test_dataset_2, batch_size=10)"
      ],
      "metadata": {
        "colab": {
          "base_uri": "https://localhost:8080/"
        },
        "id": "qTz9PYWNqFN4",
        "outputId": "d43197bd-08ad-44bf-87e7-e613978a59bb"
      },
      "id": "qTz9PYWNqFN4",
      "execution_count": 17,
      "outputs": [
        {
          "output_type": "stream",
          "name": "stdout",
          "text": [
            "Length of input data  150\n",
            " Shape of input data torch.Size([150, 1, 220])\n",
            "Length of targets 150\n",
            "Shape of Target torch.Size([150, 1, 120])\n",
            "Length of input data  100\n",
            " Shape of input data torch.Size([100, 1, 220])\n",
            "Length of targets 100\n",
            "Shape of Target torch.Size([100, 1, 120])\n",
            "Length of input data  100\n",
            " Shape of input data torch.Size([100, 1, 220])\n",
            "Length of targets 100\n",
            "Shape of Target torch.Size([100, 1, 120])\n"
          ]
        }
      ]
    },
    {
      "cell_type": "markdown",
      "id": "867aabb3",
      "metadata": {
        "id": "867aabb3"
      },
      "source": [
        "## Model Implementation"
      ]
    },
    {
      "cell_type": "code",
      "execution_count": 18,
      "id": "36fe2739",
      "metadata": {
        "id": "36fe2739"
      },
      "outputs": [],
      "source": [
        "#todo\n",
        "#qs. Using the positions of positively charged particle p1 during a simulation up to t = 10±1, continue its trajectory for an additional 4 ± 2 seconds.\n",
        "#LSTM Model\n",
        "#model has two input dimensions(x,y) coordinates=2 and output dimension will be 120(shape of targets)\n",
        "#output is a sequence of 120\n",
        "\n",
        "from torch import nn\n",
        "class LSTM_3_2(nn.Module):\n",
        "\n",
        "    def __init__(self, input_dim,hidden_dim,output_dim,device):\n",
        "        super(LSTM_3_2, self).__init__()\n",
        "        \n",
        "        self.input_dim = input_dim\n",
        "        self.hidden_dim = hidden_dim\n",
        "        self.device = device\n",
        "        \n",
        "        # RNN units using LSTM Cells\n",
        "        self.rnn1 = nn.LSTMCell(input_dim, hidden_dim)\n",
        "        self.rnn2 = nn.LSTMCell(hidden_dim, hidden_dim)\n",
        "        self.fc1 = nn.Linear(hidden_dim, hidden_dim)\n",
        "        self.fc2 = nn.Linear(hidden_dim, output_dim)\n",
        "    \n",
        "    def forward(self, batch_input ):\n",
        "        \n",
        "        # input shapes:\n",
        "        # batch_input: [batch_size, 1,seq_length]\n",
        "        # initial hidden and cell states\n",
        "        hidden_0 = torch.randn(batch_input.shape[0], self.hidden_dim).to(self.device) \n",
        "        c_0=torch.randn(batch_input.shape[0],self.hidden_dim).to(self.device)\n",
        "        \n",
        "        # Feed packed input sequence to lstm \n",
        "        for i in range(0,220,2):\n",
        "            hidden_1,c_1 = self.rnn1(batch_input[:,0,i:i+2],(hidden_0,c_0)) # Pass the i-th compressed sequence step\n",
        "      \n",
        "        #[batch_size, hidden_dim]\n",
        "        #hidden_dim = [10, 256]\n",
        "        hidden_vectors = []\n",
        "        output_vectors = []\n",
        "        \n",
        "        hidden2 = torch.randn(batch_input.shape[0], self.hidden_dim).to(self.device)\n",
        "        #each sequence generated untill\n",
        "        for j in range(0,60):\n",
        "            hidden2,c_2 = self.rnn2(hidden2,( hidden_1,c_1))\n",
        "            hidden_vectors.append(hidden2)\n",
        "            #vector= [10, 256]\n",
        "            #batch =[1,256]\n",
        "        \n",
        "        \n",
        "        for op in range(len(hidden_vectors)):\n",
        "            h1 = nn.ReLU()(self.fc1(hidden_vectors[op]))\n",
        "            h2 = self.fc2(h1) # [10,256] and [256,2]\n",
        "           \n",
        "            \n",
        "\n",
        "            output_vectors.append(h2)\n",
        "            \n",
        "        outputs = torch.stack(output_vectors, dim=1)\n",
        "        \n",
        "        final_output = []\n",
        "        for tens in range(len(outputs)):\n",
        "            t = outputs[tens].view(1,-1) \n",
        "            final_output.append(t)\n",
        "        \n",
        "        model_output = torch.stack(final_output)\n",
        "            \n",
        "        return model_output"
      ]
    },
    {
      "cell_type": "code",
      "source": [
        "# GRUimplementation of same LST structure\n",
        "#we need our model to have input dim = 2 and output_dim = 120 (we need a sequence in the output) \n",
        "\n",
        "class GRURegressor32(nn.Module):\n",
        "\n",
        "    def __init__(self, input_dim,hidden_dim,output_dim,device):\n",
        "        super(GRURegressor32, self).__init__()\n",
        "        \n",
        "        self.input_dim = input_dim\n",
        "        self.hidden_dim = hidden_dim\n",
        "        self.device = device\n",
        "        self.rnn1 = nn.GRUCell(input_dim, hidden_dim)\n",
        "        self.rnn2 = nn.GRUCell(hidden_dim, hidden_dim)\n",
        "        self.fc1 = nn.Linear(hidden_dim, hidden_dim)\n",
        "        self.fc2 = nn.Linear(hidden_dim, output_dim)\n",
        "    \n",
        "    def forward(self, batch_input ):\n",
        "        \n",
        "        # input shapes:\n",
        "        # batch_input: [batch_size, 1,length of sequence]\n",
        "        # Generate initial hidden and cell states\n",
        "        hidden = torch.randn(batch_input.shape[0], self.hidden_dim).to(self.device) \n",
        "        \n",
        "        # Feed packed input sequence to lstm \n",
        "        for i in range(0,220,2):\n",
        "            hidden = self.rnn1(batch_input[:,0,i:i+2],hidden) # Pass the i-th compressed sequence step\n",
        "        # feed output to MLP, apply ReLU nonlinearity\n",
        "        # shape [batch_size, hidden_dim]\n",
        "        #hidden_dim = [10, 256]\n",
        "        \n",
        "        \n",
        "        #hidden vector at time = t\n",
        "        hidden_vectors = []\n",
        "        output_vectors = []\n",
        "        \n",
        "        hidden2 = torch.randn(batch_input.shape[0], self.hidden_dim).to(self.device)\n",
        "        for j in range(0,60):\n",
        "            hidden2 = self.rnn2(hidden, hidden2)\n",
        "            hidden_vectors.append(hidden2)\n",
        "        \n",
        "        \n",
        "        for op in range(len(hidden_vectors)):\n",
        "            h1 = nn.ReLU()(self.fc1(hidden_vectors[op]))\n",
        "            h2 = self.fc2(h1) #fully connected layer operation[10,256] and [256,2]\n",
        "            #h2 has a dimension (10, 2)\n",
        "            #h2 batch =1 has the shape (1,2) and we have 60 time steps.\n",
        "            \n",
        "\n",
        "            output_vectors.append(h2)\n",
        "            \n",
        "        outputs = torch.stack(output_vectors, dim=1)\n",
        "        \n",
        "        final_output = []\n",
        "        for output in range(len(outputs)):\n",
        "            t = outputs[output].view(1,-1)\n",
        "            final_output.append(t)\n",
        "        \n",
        "        model_output = torch.stack(final_output)\n",
        "            \n",
        "        return model_output"
      ],
      "metadata": {
        "id": "G1s5G90hsh6a"
      },
      "id": "G1s5G90hsh6a",
      "execution_count": 19,
      "outputs": []
    },
    {
      "cell_type": "markdown",
      "id": "826fae3f",
      "metadata": {
        "id": "826fae3f"
      },
      "source": [
        "## Model Training"
      ]
    },
    {
      "cell_type": "code",
      "execution_count": 20,
      "id": "db3fce95",
      "metadata": {
        "id": "db3fce95"
      },
      "outputs": [],
      "source": [
        "#todo\n",
        "\n",
        "def save_model_checkpoint(path, model, optimizer, val_loss, val_acc, train_acc, train_loss ):\n",
        "    if path == None:\n",
        "        return print(\"Kindly define a path\")\n",
        "    path = path\n",
        "    \n",
        "    save_dict = {\"model_dict\" : model.state_dict(), \n",
        "                 \"optimizer_dict\": optimizer.state_dict(),\n",
        "                 \"val_loss_dict\": val_loss,\n",
        "                 \"val_acc_dict\": val_acc,\n",
        "                 \"train_acc_dict\": train_acc,\n",
        "                 \"train_loss_dict\": train_loss}\n",
        "    torch.save(save_dict, path)\n",
        "    return print(\"Model Saved to ==> {}\".format(path))"
      ]
    },
    {
      "cell_type": "code",
      "execution_count": 21,
      "id": "41ddb47d",
      "metadata": {
        "id": "41ddb47d"
      },
      "outputs": [],
      "source": [
        "# Check training and validation after each epoch\n",
        "\n",
        "def train(model, train_loader, val_loader, criterion,num_epochs, save_name):\n",
        "    best_val_loss = float(\"Inf\") \n",
        "    train_losses = []\n",
        "    val_losses = []\n",
        "    train_acc = []\n",
        "    val_acc = []\n",
        "    cur_step = 0\n",
        "    train_pred = []\n",
        "    val_pred = []\n",
        "\n",
        "    for epoch in range(num_epochs):\n",
        "        running_loss = 0.0\n",
        "        running_train_acc = 0.0\n",
        "  \n",
        "        model.train()\n",
        "        print(\"Epoch :  \" + str(epoch+1))\n",
        "        for train_data, targets in train_loader:\n",
        "            \n",
        "           \n",
        "            # Forward propagation\n",
        "            input_tensor = train_data.to(device)\n",
        "            outputs = model.forward(input_tensor)\n",
        "            loss = criterion(outputs,targets.to(device))\n",
        "\n",
        "                \n",
        "            # Backward propagation and optimize\n",
        "            optimizer.zero_grad()\n",
        "            loss.backward()\n",
        "            optimizer.step()   \n",
        "            running_loss += loss\n",
        "          \n",
        "\n",
        "        avg_train_loss = running_loss / len(train_loader)\n",
        "        train_losses.append(avg_train_loss)\n",
        "        print(\"Train Pass Completed\")\n",
        "\n",
        "       ##|Validation Set|##\n",
        "\n",
        "        val_running_loss = 0.0\n",
        "        with torch.no_grad():\n",
        "            model.eval()\n",
        "            for val_data, val_targets in val_loader:\n",
        "                input_tensor = val_data.to(device)\n",
        "                outputs = model.forward(input_tensor)\n",
        "                loss = criterion(outputs,val_targets.to(device))\n",
        "               \n",
        "                val_running_loss += loss\n",
        "\n",
        "        avg_val_loss = val_running_loss / len(val_loader)\n",
        "        val_losses.append(avg_val_loss)\n",
        "\n",
        "        \n",
        "        print('Epoch [{}/{}],Train Loss: {:.4f}, Valid Loss: {:.8f}' \n",
        "            .format(epoch+1, num_epochs, avg_train_loss, avg_val_loss))\n",
        "        if avg_val_loss < best_val_loss:\n",
        "            best_val_loss = avg_val_loss \n",
        "            save_model_checkpoint(save_name, model, optimizer, best_val_loss, 0, 0, avg_train_loss )\n",
        "    \n",
        "    print(\"Finished Training\") \n",
        "    return train_losses, val_losses\n",
        "     "
      ]
    },
    {
      "cell_type": "code",
      "execution_count": null,
      "id": "4ee069fc",
      "metadata": {
        "id": "4ee069fc"
      },
      "outputs": [],
      "source": [
        "\n",
        "#device = 'cuda:0'\n",
        "LSTM_3_2 = LSTM_3_2(input_dim=2,hidden_dim=256,output_dim=2,device='cpu')\n",
        "optimizer = torch.optim.SGD(LSTM_3_2.parameters(), lr=0.001, momentum=0.9)\n",
        "#optimizer = torch.optim.Adam(LSTM_3_2.parameters(), lr= 1e-4)\n",
        "num_epochs = 350\n",
        "save_name = f'LSTM_300.pt'\n",
        "criterion = nn.MSELoss()\n",
        "obtained_train_loss_2, obtained_val_loss_2 = train(LSTM_3_2,\n",
        "                                                      train_loader_2, \n",
        "                                                      valid_loader_2, criterion, num_epochs, save_name)\n"
      ]
    },
    {
      "cell_type": "code",
      "source": [
        "#Training on similar GRU Network with similar hyperparameters\n",
        "\n",
        "GRURegressor32=GRURegressor32(input_dim=2,hidden_dim=256,output_dim=2,device='cpu')\n",
        "optimizer = torch.optim.SGD(GRURegressor32.parameters(), lr=0.01, momentum=0.9)\n",
        "#optimizer = torch.optim.Adam(GRU_reg32.parameters(), lr= 1e-4)\n",
        "num_epochs = 350\n",
        "save_name = f'gru_300.pt'\n",
        "criterion = nn.MSELoss()\n",
        "\n",
        "obtained_train_loss_3, obtained_val_loss_3 = train(GRURegressor32, \n",
        "                                                      train_loader_2, \n",
        "                                                      valid_loader_2, criterion, num_epochs, save_name)"
      ],
      "metadata": {
        "colab": {
          "base_uri": "https://localhost:8080/"
        },
        "id": "SkxjOZcOfaf4",
        "outputId": "61c6a1b5-dec3-43d9-b981-32edf5849857"
      },
      "id": "SkxjOZcOfaf4",
      "execution_count": 23,
      "outputs": [
        {
          "output_type": "stream",
          "name": "stdout",
          "text": [
            "Epoch :  1\n",
            "Train Pass Completed\n",
            "Epoch [1/350],Train Loss: 3.1401, Valid Loss: 3.40860558\n",
            "Model Saved to ==> gru_300.pt\n",
            "Epoch :  2\n",
            "Train Pass Completed\n",
            "Epoch [2/350],Train Loss: 3.0958, Valid Loss: 3.36668348\n",
            "Model Saved to ==> gru_300.pt\n",
            "Epoch :  3\n",
            "Train Pass Completed\n",
            "Epoch [3/350],Train Loss: 3.0273, Valid Loss: 3.32345247\n",
            "Model Saved to ==> gru_300.pt\n",
            "Epoch :  4\n",
            "Train Pass Completed\n",
            "Epoch [4/350],Train Loss: 2.9570, Valid Loss: 3.29091811\n",
            "Model Saved to ==> gru_300.pt\n",
            "Epoch :  5\n",
            "Train Pass Completed\n",
            "Epoch [5/350],Train Loss: 2.8944, Valid Loss: 3.26031566\n",
            "Model Saved to ==> gru_300.pt\n",
            "Epoch :  6\n",
            "Train Pass Completed\n",
            "Epoch [6/350],Train Loss: 2.8370, Valid Loss: 3.23382711\n",
            "Model Saved to ==> gru_300.pt\n",
            "Epoch :  7\n",
            "Train Pass Completed\n",
            "Epoch [7/350],Train Loss: 2.7841, Valid Loss: 3.19877815\n",
            "Model Saved to ==> gru_300.pt\n",
            "Epoch :  8\n",
            "Train Pass Completed\n",
            "Epoch [8/350],Train Loss: 2.7380, Valid Loss: 3.16206074\n",
            "Model Saved to ==> gru_300.pt\n",
            "Epoch :  9\n",
            "Train Pass Completed\n",
            "Epoch [9/350],Train Loss: 2.6947, Valid Loss: 3.12151432\n",
            "Model Saved to ==> gru_300.pt\n",
            "Epoch :  10\n",
            "Train Pass Completed\n",
            "Epoch [10/350],Train Loss: 2.6691, Valid Loss: 3.09030867\n",
            "Model Saved to ==> gru_300.pt\n",
            "Epoch :  11\n",
            "Train Pass Completed\n",
            "Epoch [11/350],Train Loss: 2.6596, Valid Loss: 3.06875992\n",
            "Model Saved to ==> gru_300.pt\n",
            "Epoch :  12\n",
            "Train Pass Completed\n",
            "Epoch [12/350],Train Loss: 2.6536, Valid Loss: 3.05319118\n",
            "Model Saved to ==> gru_300.pt\n",
            "Epoch :  13\n",
            "Train Pass Completed\n",
            "Epoch [13/350],Train Loss: 2.6497, Valid Loss: 3.05225134\n",
            "Model Saved to ==> gru_300.pt\n",
            "Epoch :  14\n",
            "Train Pass Completed\n",
            "Epoch [14/350],Train Loss: 2.6419, Valid Loss: 3.03646755\n",
            "Model Saved to ==> gru_300.pt\n",
            "Epoch :  15\n",
            "Train Pass Completed\n",
            "Epoch [15/350],Train Loss: 2.6315, Valid Loss: 3.02665925\n",
            "Model Saved to ==> gru_300.pt\n",
            "Epoch :  16\n",
            "Train Pass Completed\n",
            "Epoch [16/350],Train Loss: 2.6210, Valid Loss: 3.00865602\n",
            "Model Saved to ==> gru_300.pt\n",
            "Epoch :  17\n",
            "Train Pass Completed\n",
            "Epoch [17/350],Train Loss: 2.6074, Valid Loss: 3.00195432\n",
            "Model Saved to ==> gru_300.pt\n",
            "Epoch :  18\n",
            "Train Pass Completed\n",
            "Epoch [18/350],Train Loss: 2.6055, Valid Loss: 2.99957752\n",
            "Model Saved to ==> gru_300.pt\n",
            "Epoch :  19\n",
            "Train Pass Completed\n",
            "Epoch [19/350],Train Loss: 2.6017, Valid Loss: 2.99151421\n",
            "Model Saved to ==> gru_300.pt\n",
            "Epoch :  20\n",
            "Train Pass Completed\n",
            "Epoch [20/350],Train Loss: 2.6081, Valid Loss: 2.98605514\n",
            "Model Saved to ==> gru_300.pt\n",
            "Epoch :  21\n",
            "Train Pass Completed\n",
            "Epoch [21/350],Train Loss: 2.5963, Valid Loss: 2.99141741\n",
            "Epoch :  22\n",
            "Train Pass Completed\n",
            "Epoch [22/350],Train Loss: 2.5922, Valid Loss: 2.98973560\n",
            "Epoch :  23\n",
            "Train Pass Completed\n",
            "Epoch [23/350],Train Loss: 2.5898, Valid Loss: 2.98600578\n",
            "Model Saved to ==> gru_300.pt\n",
            "Epoch :  24\n",
            "Train Pass Completed\n",
            "Epoch [24/350],Train Loss: 2.5897, Valid Loss: 2.99110913\n",
            "Epoch :  25\n",
            "Train Pass Completed\n",
            "Epoch [25/350],Train Loss: 2.5840, Valid Loss: 2.98444223\n",
            "Model Saved to ==> gru_300.pt\n",
            "Epoch :  26\n",
            "Train Pass Completed\n",
            "Epoch [26/350],Train Loss: 2.5797, Valid Loss: 2.98798323\n",
            "Epoch :  27\n",
            "Train Pass Completed\n",
            "Epoch [27/350],Train Loss: 2.5781, Valid Loss: 2.98562479\n",
            "Epoch :  28\n",
            "Train Pass Completed\n",
            "Epoch [28/350],Train Loss: 2.5812, Valid Loss: 2.98196173\n",
            "Model Saved to ==> gru_300.pt\n",
            "Epoch :  29\n",
            "Train Pass Completed\n",
            "Epoch [29/350],Train Loss: 2.5712, Valid Loss: 2.98038483\n",
            "Model Saved to ==> gru_300.pt\n",
            "Epoch :  30\n",
            "Train Pass Completed\n",
            "Epoch [30/350],Train Loss: 2.5669, Valid Loss: 2.98116541\n",
            "Epoch :  31\n",
            "Train Pass Completed\n",
            "Epoch [31/350],Train Loss: 2.5630, Valid Loss: 2.97846556\n",
            "Model Saved to ==> gru_300.pt\n",
            "Epoch :  32\n",
            "Train Pass Completed\n",
            "Epoch [32/350],Train Loss: 2.5644, Valid Loss: 2.97342682\n",
            "Model Saved to ==> gru_300.pt\n",
            "Epoch :  33\n",
            "Train Pass Completed\n",
            "Epoch [33/350],Train Loss: 2.5619, Valid Loss: 2.97380638\n",
            "Epoch :  34\n",
            "Train Pass Completed\n",
            "Epoch [34/350],Train Loss: 2.5597, Valid Loss: 2.97507358\n",
            "Epoch :  35\n",
            "Train Pass Completed\n",
            "Epoch [35/350],Train Loss: 2.5561, Valid Loss: 2.96836996\n",
            "Model Saved to ==> gru_300.pt\n",
            "Epoch :  36\n",
            "Train Pass Completed\n",
            "Epoch [36/350],Train Loss: 2.5533, Valid Loss: 2.96859026\n",
            "Epoch :  37\n",
            "Train Pass Completed\n",
            "Epoch [37/350],Train Loss: 2.5532, Valid Loss: 2.96961784\n",
            "Epoch :  38\n",
            "Train Pass Completed\n",
            "Epoch [38/350],Train Loss: 2.5504, Valid Loss: 2.96534252\n",
            "Model Saved to ==> gru_300.pt\n",
            "Epoch :  39\n",
            "Train Pass Completed\n",
            "Epoch [39/350],Train Loss: 2.5448, Valid Loss: 2.96316195\n",
            "Model Saved to ==> gru_300.pt\n",
            "Epoch :  40\n",
            "Train Pass Completed\n",
            "Epoch [40/350],Train Loss: 2.5464, Valid Loss: 2.96683979\n",
            "Epoch :  41\n",
            "Train Pass Completed\n",
            "Epoch [41/350],Train Loss: 2.5453, Valid Loss: 2.96781611\n",
            "Epoch :  42\n",
            "Train Pass Completed\n",
            "Epoch [42/350],Train Loss: 2.5479, Valid Loss: 2.96486902\n",
            "Epoch :  43\n",
            "Train Pass Completed\n",
            "Epoch [43/350],Train Loss: 2.5377, Valid Loss: 2.96631861\n",
            "Epoch :  44\n",
            "Train Pass Completed\n",
            "Epoch [44/350],Train Loss: 2.5410, Valid Loss: 2.96036005\n",
            "Model Saved to ==> gru_300.pt\n",
            "Epoch :  45\n",
            "Train Pass Completed\n",
            "Epoch [45/350],Train Loss: 2.5326, Valid Loss: 2.96431088\n",
            "Epoch :  46\n",
            "Train Pass Completed\n",
            "Epoch [46/350],Train Loss: 2.5372, Valid Loss: 2.95797443\n",
            "Model Saved to ==> gru_300.pt\n",
            "Epoch :  47\n",
            "Train Pass Completed\n",
            "Epoch [47/350],Train Loss: 2.5356, Valid Loss: 2.95943308\n",
            "Epoch :  48\n",
            "Train Pass Completed\n",
            "Epoch [48/350],Train Loss: 2.5242, Valid Loss: 2.95798874\n",
            "Epoch :  49\n",
            "Train Pass Completed\n",
            "Epoch [49/350],Train Loss: 2.5281, Valid Loss: 2.95809579\n",
            "Epoch :  50\n",
            "Train Pass Completed\n",
            "Epoch [50/350],Train Loss: 2.5244, Valid Loss: 2.96122742\n",
            "Epoch :  51\n",
            "Train Pass Completed\n",
            "Epoch [51/350],Train Loss: 2.5215, Valid Loss: 2.95692825\n",
            "Model Saved to ==> gru_300.pt\n",
            "Epoch :  52\n",
            "Train Pass Completed\n",
            "Epoch [52/350],Train Loss: 2.5146, Valid Loss: 2.94945097\n",
            "Model Saved to ==> gru_300.pt\n",
            "Epoch :  53\n",
            "Train Pass Completed\n",
            "Epoch [53/350],Train Loss: 2.5152, Valid Loss: 2.95450163\n",
            "Epoch :  54\n",
            "Train Pass Completed\n",
            "Epoch [54/350],Train Loss: 2.5139, Valid Loss: 2.95051217\n",
            "Epoch :  55\n",
            "Train Pass Completed\n",
            "Epoch [55/350],Train Loss: 2.5084, Valid Loss: 2.95556164\n",
            "Epoch :  56\n",
            "Train Pass Completed\n",
            "Epoch [56/350],Train Loss: 2.5122, Valid Loss: 2.95105410\n",
            "Epoch :  57\n",
            "Train Pass Completed\n",
            "Epoch [57/350],Train Loss: 2.5096, Valid Loss: 2.95181584\n",
            "Epoch :  58\n",
            "Train Pass Completed\n",
            "Epoch [58/350],Train Loss: 2.5028, Valid Loss: 2.95022440\n",
            "Epoch :  59\n",
            "Train Pass Completed\n",
            "Epoch [59/350],Train Loss: 2.4978, Valid Loss: 2.94571567\n",
            "Model Saved to ==> gru_300.pt\n",
            "Epoch :  60\n",
            "Train Pass Completed\n",
            "Epoch [60/350],Train Loss: 2.4933, Valid Loss: 2.94619083\n",
            "Epoch :  61\n",
            "Train Pass Completed\n",
            "Epoch [61/350],Train Loss: 2.4953, Valid Loss: 2.93852329\n",
            "Model Saved to ==> gru_300.pt\n",
            "Epoch :  62\n",
            "Train Pass Completed\n",
            "Epoch [62/350],Train Loss: 2.4943, Valid Loss: 2.94428205\n",
            "Epoch :  63\n",
            "Train Pass Completed\n",
            "Epoch [63/350],Train Loss: 2.4903, Valid Loss: 2.93686032\n",
            "Model Saved to ==> gru_300.pt\n",
            "Epoch :  64\n",
            "Train Pass Completed\n",
            "Epoch [64/350],Train Loss: 2.4856, Valid Loss: 2.93790197\n",
            "Epoch :  65\n",
            "Train Pass Completed\n",
            "Epoch [65/350],Train Loss: 2.4797, Valid Loss: 2.93265009\n",
            "Model Saved to ==> gru_300.pt\n",
            "Epoch :  66\n",
            "Train Pass Completed\n",
            "Epoch [66/350],Train Loss: 2.4797, Valid Loss: 2.93698215\n",
            "Epoch :  67\n",
            "Train Pass Completed\n",
            "Epoch [67/350],Train Loss: 2.4766, Valid Loss: 2.93468380\n",
            "Epoch :  68\n",
            "Train Pass Completed\n",
            "Epoch [68/350],Train Loss: 2.4712, Valid Loss: 2.93302441\n",
            "Epoch :  69\n",
            "Train Pass Completed\n",
            "Epoch [69/350],Train Loss: 2.4678, Valid Loss: 2.92921138\n",
            "Model Saved to ==> gru_300.pt\n",
            "Epoch :  70\n",
            "Train Pass Completed\n",
            "Epoch [70/350],Train Loss: 2.4676, Valid Loss: 2.93374228\n",
            "Epoch :  71\n",
            "Train Pass Completed\n",
            "Epoch [71/350],Train Loss: 2.4636, Valid Loss: 2.93404222\n",
            "Epoch :  72\n",
            "Train Pass Completed\n",
            "Epoch [72/350],Train Loss: 2.4596, Valid Loss: 2.93288279\n",
            "Epoch :  73\n",
            "Train Pass Completed\n",
            "Epoch [73/350],Train Loss: 2.4539, Valid Loss: 2.93383121\n",
            "Epoch :  74\n",
            "Train Pass Completed\n",
            "Epoch [74/350],Train Loss: 2.4542, Valid Loss: 2.92249632\n",
            "Model Saved to ==> gru_300.pt\n",
            "Epoch :  75\n",
            "Train Pass Completed\n",
            "Epoch [75/350],Train Loss: 2.4457, Valid Loss: 2.92317319\n",
            "Epoch :  76\n",
            "Train Pass Completed\n",
            "Epoch [76/350],Train Loss: 2.4438, Valid Loss: 2.92417288\n",
            "Epoch :  77\n",
            "Train Pass Completed\n",
            "Epoch [77/350],Train Loss: 2.4349, Valid Loss: 2.92612696\n",
            "Epoch :  78\n",
            "Train Pass Completed\n",
            "Epoch [78/350],Train Loss: 2.4376, Valid Loss: 2.91669750\n",
            "Model Saved to ==> gru_300.pt\n",
            "Epoch :  79\n",
            "Train Pass Completed\n",
            "Epoch [79/350],Train Loss: 2.4331, Valid Loss: 2.91720247\n",
            "Epoch :  80\n",
            "Train Pass Completed\n",
            "Epoch [80/350],Train Loss: 2.4249, Valid Loss: 2.91932058\n",
            "Epoch :  81\n",
            "Train Pass Completed\n",
            "Epoch [81/350],Train Loss: 2.4167, Valid Loss: 2.91609764\n",
            "Model Saved to ==> gru_300.pt\n",
            "Epoch :  82\n",
            "Train Pass Completed\n",
            "Epoch [82/350],Train Loss: 2.4165, Valid Loss: 2.90924025\n",
            "Model Saved to ==> gru_300.pt\n",
            "Epoch :  83\n",
            "Train Pass Completed\n",
            "Epoch [83/350],Train Loss: 2.4084, Valid Loss: 2.90910530\n",
            "Model Saved to ==> gru_300.pt\n",
            "Epoch :  84\n",
            "Train Pass Completed\n",
            "Epoch [84/350],Train Loss: 2.4120, Valid Loss: 2.90454912\n",
            "Model Saved to ==> gru_300.pt\n",
            "Epoch :  85\n",
            "Train Pass Completed\n",
            "Epoch [85/350],Train Loss: 2.4004, Valid Loss: 2.91112685\n",
            "Epoch :  86\n",
            "Train Pass Completed\n",
            "Epoch [86/350],Train Loss: 2.4026, Valid Loss: 2.90379715\n",
            "Model Saved to ==> gru_300.pt\n",
            "Epoch :  87\n",
            "Train Pass Completed\n",
            "Epoch [87/350],Train Loss: 2.3949, Valid Loss: 2.90190244\n",
            "Model Saved to ==> gru_300.pt\n",
            "Epoch :  88\n",
            "Train Pass Completed\n",
            "Epoch [88/350],Train Loss: 2.3918, Valid Loss: 2.89916039\n",
            "Model Saved to ==> gru_300.pt\n",
            "Epoch :  89\n",
            "Train Pass Completed\n",
            "Epoch [89/350],Train Loss: 2.3918, Valid Loss: 2.90107346\n",
            "Epoch :  90\n",
            "Train Pass Completed\n",
            "Epoch [90/350],Train Loss: 2.3821, Valid Loss: 2.89831352\n",
            "Model Saved to ==> gru_300.pt\n",
            "Epoch :  91\n",
            "Train Pass Completed\n",
            "Epoch [91/350],Train Loss: 2.3807, Valid Loss: 2.89312458\n",
            "Model Saved to ==> gru_300.pt\n",
            "Epoch :  92\n",
            "Train Pass Completed\n",
            "Epoch [92/350],Train Loss: 2.3734, Valid Loss: 2.89462471\n",
            "Epoch :  93\n",
            "Train Pass Completed\n",
            "Epoch [93/350],Train Loss: 2.3662, Valid Loss: 2.89092541\n",
            "Model Saved to ==> gru_300.pt\n",
            "Epoch :  94\n",
            "Train Pass Completed\n",
            "Epoch [94/350],Train Loss: 2.3601, Valid Loss: 2.89005280\n",
            "Model Saved to ==> gru_300.pt\n",
            "Epoch :  95\n",
            "Train Pass Completed\n",
            "Epoch [95/350],Train Loss: 2.3544, Valid Loss: 2.87945151\n",
            "Model Saved to ==> gru_300.pt\n",
            "Epoch :  96\n",
            "Train Pass Completed\n",
            "Epoch [96/350],Train Loss: 2.3467, Valid Loss: 2.87985563\n",
            "Epoch :  97\n",
            "Train Pass Completed\n",
            "Epoch [97/350],Train Loss: 2.3459, Valid Loss: 2.88364077\n",
            "Epoch :  98\n",
            "Train Pass Completed\n",
            "Epoch [98/350],Train Loss: 2.3367, Valid Loss: 2.87712598\n",
            "Model Saved to ==> gru_300.pt\n",
            "Epoch :  99\n",
            "Train Pass Completed\n",
            "Epoch [99/350],Train Loss: 2.3270, Valid Loss: 2.87537336\n",
            "Model Saved to ==> gru_300.pt\n",
            "Epoch :  100\n",
            "Train Pass Completed\n",
            "Epoch [100/350],Train Loss: 2.3201, Valid Loss: 2.87812948\n",
            "Epoch :  101\n",
            "Train Pass Completed\n",
            "Epoch [101/350],Train Loss: 2.3159, Valid Loss: 2.87153244\n",
            "Model Saved to ==> gru_300.pt\n",
            "Epoch :  102\n",
            "Train Pass Completed\n",
            "Epoch [102/350],Train Loss: 2.3060, Valid Loss: 2.85850334\n",
            "Model Saved to ==> gru_300.pt\n",
            "Epoch :  103\n",
            "Train Pass Completed\n",
            "Epoch [103/350],Train Loss: 2.3043, Valid Loss: 2.86571193\n",
            "Epoch :  104\n",
            "Train Pass Completed\n",
            "Epoch [104/350],Train Loss: 2.2895, Valid Loss: 2.87274456\n",
            "Epoch :  105\n",
            "Train Pass Completed\n",
            "Epoch [105/350],Train Loss: 2.2895, Valid Loss: 2.85655499\n",
            "Model Saved to ==> gru_300.pt\n",
            "Epoch :  106\n",
            "Train Pass Completed\n",
            "Epoch [106/350],Train Loss: 2.2758, Valid Loss: 2.85390759\n",
            "Model Saved to ==> gru_300.pt\n",
            "Epoch :  107\n",
            "Train Pass Completed\n",
            "Epoch [107/350],Train Loss: 2.2607, Valid Loss: 2.85144615\n",
            "Model Saved to ==> gru_300.pt\n",
            "Epoch :  108\n",
            "Train Pass Completed\n",
            "Epoch [108/350],Train Loss: 2.2623, Valid Loss: 2.84250784\n",
            "Model Saved to ==> gru_300.pt\n",
            "Epoch :  109\n",
            "Train Pass Completed\n",
            "Epoch [109/350],Train Loss: 2.2529, Valid Loss: 2.85139680\n",
            "Epoch :  110\n",
            "Train Pass Completed\n",
            "Epoch [110/350],Train Loss: 2.2379, Valid Loss: 2.84722519\n",
            "Epoch :  111\n",
            "Train Pass Completed\n",
            "Epoch [111/350],Train Loss: 2.2272, Valid Loss: 2.82727671\n",
            "Model Saved to ==> gru_300.pt\n",
            "Epoch :  112\n",
            "Train Pass Completed\n",
            "Epoch [112/350],Train Loss: 2.2159, Valid Loss: 2.83504486\n",
            "Epoch :  113\n",
            "Train Pass Completed\n",
            "Epoch [113/350],Train Loss: 2.2018, Valid Loss: 2.81655264\n",
            "Model Saved to ==> gru_300.pt\n",
            "Epoch :  114\n",
            "Train Pass Completed\n",
            "Epoch [114/350],Train Loss: 2.1956, Valid Loss: 2.81273890\n",
            "Model Saved to ==> gru_300.pt\n",
            "Epoch :  115\n",
            "Train Pass Completed\n",
            "Epoch [115/350],Train Loss: 2.1812, Valid Loss: 2.81668663\n",
            "Epoch :  116\n",
            "Train Pass Completed\n",
            "Epoch [116/350],Train Loss: 2.1738, Valid Loss: 2.81084561\n",
            "Model Saved to ==> gru_300.pt\n",
            "Epoch :  117\n",
            "Train Pass Completed\n",
            "Epoch [117/350],Train Loss: 2.1598, Valid Loss: 2.79455590\n",
            "Model Saved to ==> gru_300.pt\n",
            "Epoch :  118\n",
            "Train Pass Completed\n",
            "Epoch [118/350],Train Loss: 2.1308, Valid Loss: 2.77980924\n",
            "Model Saved to ==> gru_300.pt\n",
            "Epoch :  119\n",
            "Train Pass Completed\n",
            "Epoch [119/350],Train Loss: 2.1268, Valid Loss: 2.76590633\n",
            "Model Saved to ==> gru_300.pt\n",
            "Epoch :  120\n",
            "Train Pass Completed\n",
            "Epoch [120/350],Train Loss: 2.1098, Valid Loss: 2.77478933\n",
            "Epoch :  121\n",
            "Train Pass Completed\n",
            "Epoch [121/350],Train Loss: 2.0857, Valid Loss: 2.73711061\n",
            "Model Saved to ==> gru_300.pt\n",
            "Epoch :  122\n",
            "Train Pass Completed\n",
            "Epoch [122/350],Train Loss: 2.0735, Valid Loss: 2.74890184\n",
            "Epoch :  123\n",
            "Train Pass Completed\n",
            "Epoch [123/350],Train Loss: 2.0504, Valid Loss: 2.70357466\n",
            "Model Saved to ==> gru_300.pt\n",
            "Epoch :  124\n",
            "Train Pass Completed\n",
            "Epoch [124/350],Train Loss: 2.0194, Valid Loss: 2.70559216\n",
            "Epoch :  125\n",
            "Train Pass Completed\n",
            "Epoch [125/350],Train Loss: 2.0125, Valid Loss: 2.68971968\n",
            "Model Saved to ==> gru_300.pt\n",
            "Epoch :  126\n",
            "Train Pass Completed\n",
            "Epoch [126/350],Train Loss: 1.9904, Valid Loss: 2.72477627\n",
            "Epoch :  127\n",
            "Train Pass Completed\n",
            "Epoch [127/350],Train Loss: 1.9866, Valid Loss: 2.69542241\n",
            "Epoch :  128\n",
            "Train Pass Completed\n",
            "Epoch [128/350],Train Loss: 1.9674, Valid Loss: 2.74712276\n",
            "Epoch :  129\n",
            "Train Pass Completed\n",
            "Epoch [129/350],Train Loss: 2.0687, Valid Loss: 2.95924020\n",
            "Epoch :  130\n",
            "Train Pass Completed\n",
            "Epoch [130/350],Train Loss: 2.0654, Valid Loss: 2.58886290\n",
            "Model Saved to ==> gru_300.pt\n",
            "Epoch :  131\n",
            "Train Pass Completed\n",
            "Epoch [131/350],Train Loss: 1.9497, Valid Loss: 2.60054755\n",
            "Epoch :  132\n",
            "Train Pass Completed\n",
            "Epoch [132/350],Train Loss: 2.0187, Valid Loss: 2.53732061\n",
            "Model Saved to ==> gru_300.pt\n",
            "Epoch :  133\n",
            "Train Pass Completed\n",
            "Epoch [133/350],Train Loss: 1.9853, Valid Loss: 2.69231343\n",
            "Epoch :  134\n",
            "Train Pass Completed\n",
            "Epoch [134/350],Train Loss: 2.0347, Valid Loss: 2.53226495\n",
            "Model Saved to ==> gru_300.pt\n",
            "Epoch :  135\n",
            "Train Pass Completed\n",
            "Epoch [135/350],Train Loss: 1.9930, Valid Loss: 2.61883116\n",
            "Epoch :  136\n",
            "Train Pass Completed\n",
            "Epoch [136/350],Train Loss: 2.0764, Valid Loss: 2.63890505\n",
            "Epoch :  137\n",
            "Train Pass Completed\n",
            "Epoch [137/350],Train Loss: 1.9713, Valid Loss: 2.66701174\n",
            "Epoch :  138\n",
            "Train Pass Completed\n",
            "Epoch [138/350],Train Loss: 2.0196, Valid Loss: 2.68613386\n",
            "Epoch :  139\n",
            "Train Pass Completed\n",
            "Epoch [139/350],Train Loss: 1.9095, Valid Loss: 2.63166618\n",
            "Epoch :  140\n",
            "Train Pass Completed\n",
            "Epoch [140/350],Train Loss: 1.8684, Valid Loss: 2.51987648\n",
            "Model Saved to ==> gru_300.pt\n",
            "Epoch :  141\n",
            "Train Pass Completed\n",
            "Epoch [141/350],Train Loss: 1.8565, Valid Loss: 2.49533248\n",
            "Model Saved to ==> gru_300.pt\n",
            "Epoch :  142\n",
            "Train Pass Completed\n",
            "Epoch [142/350],Train Loss: 1.8129, Valid Loss: 2.49584866\n",
            "Epoch :  143\n",
            "Train Pass Completed\n",
            "Epoch [143/350],Train Loss: 1.8824, Valid Loss: 2.48271656\n",
            "Model Saved to ==> gru_300.pt\n",
            "Epoch :  144\n",
            "Train Pass Completed\n",
            "Epoch [144/350],Train Loss: 1.8047, Valid Loss: 2.54596949\n",
            "Epoch :  145\n",
            "Train Pass Completed\n",
            "Epoch [145/350],Train Loss: 1.8690, Valid Loss: 2.53607464\n",
            "Epoch :  146\n",
            "Train Pass Completed\n",
            "Epoch [146/350],Train Loss: 1.7873, Valid Loss: 2.39496517\n",
            "Model Saved to ==> gru_300.pt\n",
            "Epoch :  147\n",
            "Train Pass Completed\n",
            "Epoch [147/350],Train Loss: 1.8229, Valid Loss: 2.63219929\n",
            "Epoch :  148\n",
            "Train Pass Completed\n",
            "Epoch [148/350],Train Loss: 1.7888, Valid Loss: 2.44458818\n",
            "Epoch :  149\n",
            "Train Pass Completed\n",
            "Epoch [149/350],Train Loss: 1.7594, Valid Loss: 2.42997074\n",
            "Epoch :  150\n",
            "Train Pass Completed\n",
            "Epoch [150/350],Train Loss: 1.7135, Valid Loss: 2.39966965\n",
            "Epoch :  151\n",
            "Train Pass Completed\n",
            "Epoch [151/350],Train Loss: 1.7589, Valid Loss: 2.71920657\n",
            "Epoch :  152\n",
            "Train Pass Completed\n",
            "Epoch [152/350],Train Loss: 1.9184, Valid Loss: 2.45889378\n",
            "Epoch :  153\n",
            "Train Pass Completed\n",
            "Epoch [153/350],Train Loss: 1.8636, Valid Loss: 2.36773777\n",
            "Model Saved to ==> gru_300.pt\n",
            "Epoch :  154\n",
            "Train Pass Completed\n",
            "Epoch [154/350],Train Loss: 1.9434, Valid Loss: 2.42207098\n",
            "Epoch :  155\n",
            "Train Pass Completed\n",
            "Epoch [155/350],Train Loss: 1.8413, Valid Loss: 2.73275042\n",
            "Epoch :  156\n",
            "Train Pass Completed\n",
            "Epoch [156/350],Train Loss: 1.8295, Valid Loss: 2.31624174\n",
            "Model Saved to ==> gru_300.pt\n",
            "Epoch :  157\n",
            "Train Pass Completed\n",
            "Epoch [157/350],Train Loss: 1.7430, Valid Loss: 2.34382033\n",
            "Epoch :  158\n",
            "Train Pass Completed\n",
            "Epoch [158/350],Train Loss: 1.6911, Valid Loss: 2.34932160\n",
            "Epoch :  159\n",
            "Train Pass Completed\n",
            "Epoch [159/350],Train Loss: 1.6434, Valid Loss: 2.27989054\n",
            "Model Saved to ==> gru_300.pt\n",
            "Epoch :  160\n",
            "Train Pass Completed\n",
            "Epoch [160/350],Train Loss: 1.6644, Valid Loss: 2.50755548\n",
            "Epoch :  161\n",
            "Train Pass Completed\n",
            "Epoch [161/350],Train Loss: 1.5669, Valid Loss: 2.26639175\n",
            "Model Saved to ==> gru_300.pt\n",
            "Epoch :  162\n",
            "Train Pass Completed\n",
            "Epoch [162/350],Train Loss: 1.5626, Valid Loss: 2.34107018\n",
            "Epoch :  163\n",
            "Train Pass Completed\n",
            "Epoch [163/350],Train Loss: 1.5331, Valid Loss: 2.28121185\n",
            "Epoch :  164\n",
            "Train Pass Completed\n",
            "Epoch [164/350],Train Loss: 1.4969, Valid Loss: 2.19960904\n",
            "Model Saved to ==> gru_300.pt\n",
            "Epoch :  165\n",
            "Train Pass Completed\n",
            "Epoch [165/350],Train Loss: 1.4714, Valid Loss: 2.35786867\n",
            "Epoch :  166\n",
            "Train Pass Completed\n",
            "Epoch [166/350],Train Loss: 1.4463, Valid Loss: 2.32113409\n",
            "Epoch :  167\n",
            "Train Pass Completed\n",
            "Epoch [167/350],Train Loss: 1.4993, Valid Loss: 2.40528321\n",
            "Epoch :  168\n",
            "Train Pass Completed\n",
            "Epoch [168/350],Train Loss: 1.5285, Valid Loss: 2.17535853\n",
            "Model Saved to ==> gru_300.pt\n",
            "Epoch :  169\n",
            "Train Pass Completed\n",
            "Epoch [169/350],Train Loss: 1.4970, Valid Loss: 2.26274157\n",
            "Epoch :  170\n",
            "Train Pass Completed\n",
            "Epoch [170/350],Train Loss: 1.4787, Valid Loss: 2.24631691\n",
            "Epoch :  171\n",
            "Train Pass Completed\n",
            "Epoch [171/350],Train Loss: 1.5010, Valid Loss: 2.14743638\n",
            "Model Saved to ==> gru_300.pt\n",
            "Epoch :  172\n",
            "Train Pass Completed\n",
            "Epoch [172/350],Train Loss: 1.4063, Valid Loss: 2.43115544\n",
            "Epoch :  173\n",
            "Train Pass Completed\n",
            "Epoch [173/350],Train Loss: 1.4542, Valid Loss: 2.11974025\n",
            "Model Saved to ==> gru_300.pt\n",
            "Epoch :  174\n",
            "Train Pass Completed\n",
            "Epoch [174/350],Train Loss: 1.3316, Valid Loss: 2.26475430\n",
            "Epoch :  175\n",
            "Train Pass Completed\n",
            "Epoch [175/350],Train Loss: 1.2957, Valid Loss: 2.09819770\n",
            "Model Saved to ==> gru_300.pt\n",
            "Epoch :  176\n",
            "Train Pass Completed\n",
            "Epoch [176/350],Train Loss: 1.3393, Valid Loss: 2.19809389\n",
            "Epoch :  177\n",
            "Train Pass Completed\n",
            "Epoch [177/350],Train Loss: 1.2713, Valid Loss: 2.21537209\n",
            "Epoch :  178\n",
            "Train Pass Completed\n",
            "Epoch [178/350],Train Loss: 1.3489, Valid Loss: 2.13833666\n",
            "Epoch :  179\n",
            "Train Pass Completed\n",
            "Epoch [179/350],Train Loss: 1.3812, Valid Loss: 2.29860759\n",
            "Epoch :  180\n",
            "Train Pass Completed\n",
            "Epoch [180/350],Train Loss: 1.4384, Valid Loss: 2.11590004\n",
            "Epoch :  181\n",
            "Train Pass Completed\n",
            "Epoch [181/350],Train Loss: 1.3398, Valid Loss: 2.28564095\n",
            "Epoch :  182\n",
            "Train Pass Completed\n",
            "Epoch [182/350],Train Loss: 1.3657, Valid Loss: 2.15019608\n",
            "Epoch :  183\n",
            "Train Pass Completed\n",
            "Epoch [183/350],Train Loss: 1.3384, Valid Loss: 2.27654386\n",
            "Epoch :  184\n",
            "Train Pass Completed\n",
            "Epoch [184/350],Train Loss: 1.3310, Valid Loss: 2.11880159\n",
            "Epoch :  185\n",
            "Train Pass Completed\n",
            "Epoch [185/350],Train Loss: 1.4599, Valid Loss: 2.15600920\n",
            "Epoch :  186\n",
            "Train Pass Completed\n",
            "Epoch [186/350],Train Loss: 1.4691, Valid Loss: 2.02599812\n",
            "Model Saved to ==> gru_300.pt\n",
            "Epoch :  187\n",
            "Train Pass Completed\n",
            "Epoch [187/350],Train Loss: 1.3861, Valid Loss: 2.25736475\n",
            "Epoch :  188\n",
            "Train Pass Completed\n",
            "Epoch [188/350],Train Loss: 1.3768, Valid Loss: 2.31430912\n",
            "Epoch :  189\n",
            "Train Pass Completed\n",
            "Epoch [189/350],Train Loss: 1.4714, Valid Loss: 2.15234613\n",
            "Epoch :  190\n",
            "Train Pass Completed\n",
            "Epoch [190/350],Train Loss: 1.2576, Valid Loss: 2.32119989\n",
            "Epoch :  191\n",
            "Train Pass Completed\n",
            "Epoch [191/350],Train Loss: 1.4016, Valid Loss: 2.02943635\n",
            "Epoch :  192\n",
            "Train Pass Completed\n",
            "Epoch [192/350],Train Loss: 1.3016, Valid Loss: 2.18438768\n",
            "Epoch :  193\n",
            "Train Pass Completed\n",
            "Epoch [193/350],Train Loss: 1.3225, Valid Loss: 2.14337063\n",
            "Epoch :  194\n",
            "Train Pass Completed\n",
            "Epoch [194/350],Train Loss: 1.3461, Valid Loss: 2.09255075\n",
            "Epoch :  195\n",
            "Train Pass Completed\n",
            "Epoch [195/350],Train Loss: 1.2822, Valid Loss: 2.32833886\n",
            "Epoch :  196\n",
            "Train Pass Completed\n",
            "Epoch [196/350],Train Loss: 1.3186, Valid Loss: 2.17805600\n",
            "Epoch :  197\n",
            "Train Pass Completed\n",
            "Epoch [197/350],Train Loss: 1.2750, Valid Loss: 2.15150595\n",
            "Epoch :  198\n",
            "Train Pass Completed\n",
            "Epoch [198/350],Train Loss: 1.2804, Valid Loss: 1.97891128\n",
            "Model Saved to ==> gru_300.pt\n",
            "Epoch :  199\n",
            "Train Pass Completed\n",
            "Epoch [199/350],Train Loss: 1.1668, Valid Loss: 2.12564087\n",
            "Epoch :  200\n",
            "Train Pass Completed\n",
            "Epoch [200/350],Train Loss: 1.1910, Valid Loss: 2.11464524\n",
            "Epoch :  201\n",
            "Train Pass Completed\n",
            "Epoch [201/350],Train Loss: 1.1775, Valid Loss: 2.04425550\n",
            "Epoch :  202\n",
            "Train Pass Completed\n",
            "Epoch [202/350],Train Loss: 1.1549, Valid Loss: 2.12160158\n",
            "Epoch :  203\n",
            "Train Pass Completed\n",
            "Epoch [203/350],Train Loss: 1.2116, Valid Loss: 2.09785414\n",
            "Epoch :  204\n",
            "Train Pass Completed\n",
            "Epoch [204/350],Train Loss: 1.2657, Valid Loss: 2.14920473\n",
            "Epoch :  205\n",
            "Train Pass Completed\n",
            "Epoch [205/350],Train Loss: 1.1948, Valid Loss: 2.14628363\n",
            "Epoch :  206\n",
            "Train Pass Completed\n",
            "Epoch [206/350],Train Loss: 1.2717, Valid Loss: 2.05104017\n",
            "Epoch :  207\n",
            "Train Pass Completed\n",
            "Epoch [207/350],Train Loss: 1.2724, Valid Loss: 1.97086143\n",
            "Model Saved to ==> gru_300.pt\n",
            "Epoch :  208\n",
            "Train Pass Completed\n",
            "Epoch [208/350],Train Loss: 1.2499, Valid Loss: 2.08427477\n",
            "Epoch :  209\n",
            "Train Pass Completed\n",
            "Epoch [209/350],Train Loss: 1.1875, Valid Loss: 2.06687546\n",
            "Epoch :  210\n",
            "Train Pass Completed\n",
            "Epoch [210/350],Train Loss: 1.2899, Valid Loss: 1.90925670\n",
            "Model Saved to ==> gru_300.pt\n",
            "Epoch :  211\n",
            "Train Pass Completed\n",
            "Epoch [211/350],Train Loss: 1.1007, Valid Loss: 2.27151489\n",
            "Epoch :  212\n",
            "Train Pass Completed\n",
            "Epoch [212/350],Train Loss: 1.3205, Valid Loss: 2.01659822\n",
            "Epoch :  213\n",
            "Train Pass Completed\n",
            "Epoch [213/350],Train Loss: 1.1314, Valid Loss: 2.26134253\n",
            "Epoch :  214\n",
            "Train Pass Completed\n",
            "Epoch [214/350],Train Loss: 1.3092, Valid Loss: 2.12122512\n",
            "Epoch :  215\n",
            "Train Pass Completed\n",
            "Epoch [215/350],Train Loss: 1.2251, Valid Loss: 2.16193867\n",
            "Epoch :  216\n",
            "Train Pass Completed\n",
            "Epoch [216/350],Train Loss: 1.3151, Valid Loss: 2.11749315\n",
            "Epoch :  217\n",
            "Train Pass Completed\n",
            "Epoch [217/350],Train Loss: 1.2110, Valid Loss: 2.07608175\n",
            "Epoch :  218\n",
            "Train Pass Completed\n",
            "Epoch [218/350],Train Loss: 1.1508, Valid Loss: 2.02503157\n",
            "Epoch :  219\n",
            "Train Pass Completed\n",
            "Epoch [219/350],Train Loss: 1.0863, Valid Loss: 2.01192331\n",
            "Epoch :  220\n",
            "Train Pass Completed\n",
            "Epoch [220/350],Train Loss: 1.0765, Valid Loss: 2.10237646\n",
            "Epoch :  221\n",
            "Train Pass Completed\n",
            "Epoch [221/350],Train Loss: 1.0837, Valid Loss: 1.90035021\n",
            "Model Saved to ==> gru_300.pt\n",
            "Epoch :  222\n",
            "Train Pass Completed\n",
            "Epoch [222/350],Train Loss: 1.0399, Valid Loss: 2.01017499\n",
            "Epoch :  223\n",
            "Train Pass Completed\n",
            "Epoch [223/350],Train Loss: 1.0946, Valid Loss: 2.11320686\n",
            "Epoch :  224\n",
            "Train Pass Completed\n",
            "Epoch [224/350],Train Loss: 1.0105, Valid Loss: 2.05440760\n",
            "Epoch :  225\n",
            "Train Pass Completed\n",
            "Epoch [225/350],Train Loss: 1.0822, Valid Loss: 1.97461629\n",
            "Epoch :  226\n",
            "Train Pass Completed\n",
            "Epoch [226/350],Train Loss: 0.9755, Valid Loss: 2.04648900\n",
            "Epoch :  227\n",
            "Train Pass Completed\n",
            "Epoch [227/350],Train Loss: 0.9937, Valid Loss: 2.02642059\n",
            "Epoch :  228\n",
            "Train Pass Completed\n",
            "Epoch [228/350],Train Loss: 0.9676, Valid Loss: 1.89470875\n",
            "Model Saved to ==> gru_300.pt\n",
            "Epoch :  229\n",
            "Train Pass Completed\n",
            "Epoch [229/350],Train Loss: 0.9436, Valid Loss: 2.00445390\n",
            "Epoch :  230\n",
            "Train Pass Completed\n",
            "Epoch [230/350],Train Loss: 0.9893, Valid Loss: 1.89926672\n",
            "Epoch :  231\n",
            "Train Pass Completed\n",
            "Epoch [231/350],Train Loss: 0.9699, Valid Loss: 1.99708104\n",
            "Epoch :  232\n",
            "Train Pass Completed\n",
            "Epoch [232/350],Train Loss: 0.9739, Valid Loss: 1.92514741\n",
            "Epoch :  233\n",
            "Train Pass Completed\n",
            "Epoch [233/350],Train Loss: 0.9565, Valid Loss: 2.05630636\n",
            "Epoch :  234\n",
            "Train Pass Completed\n",
            "Epoch [234/350],Train Loss: 0.9048, Valid Loss: 2.00539970\n",
            "Epoch :  235\n",
            "Train Pass Completed\n",
            "Epoch [235/350],Train Loss: 1.0128, Valid Loss: 1.84669125\n",
            "Model Saved to ==> gru_300.pt\n",
            "Epoch :  236\n",
            "Train Pass Completed\n",
            "Epoch [236/350],Train Loss: 0.8855, Valid Loss: 1.88611484\n",
            "Epoch :  237\n",
            "Train Pass Completed\n",
            "Epoch [237/350],Train Loss: 0.9852, Valid Loss: 1.98871994\n",
            "Epoch :  238\n",
            "Train Pass Completed\n",
            "Epoch [238/350],Train Loss: 0.8569, Valid Loss: 2.00122619\n",
            "Epoch :  239\n",
            "Train Pass Completed\n",
            "Epoch [239/350],Train Loss: 0.9703, Valid Loss: 1.81712341\n",
            "Model Saved to ==> gru_300.pt\n",
            "Epoch :  240\n",
            "Train Pass Completed\n",
            "Epoch [240/350],Train Loss: 0.8729, Valid Loss: 2.07514477\n",
            "Epoch :  241\n",
            "Train Pass Completed\n",
            "Epoch [241/350],Train Loss: 0.9282, Valid Loss: 2.02191520\n",
            "Epoch :  242\n",
            "Train Pass Completed\n",
            "Epoch [242/350],Train Loss: 0.8791, Valid Loss: 1.91576004\n",
            "Epoch :  243\n",
            "Train Pass Completed\n",
            "Epoch [243/350],Train Loss: 0.8456, Valid Loss: 1.87184095\n",
            "Epoch :  244\n",
            "Train Pass Completed\n",
            "Epoch [244/350],Train Loss: 0.8462, Valid Loss: 1.91744566\n",
            "Epoch :  245\n",
            "Train Pass Completed\n",
            "Epoch [245/350],Train Loss: 0.7883, Valid Loss: 1.94826603\n",
            "Epoch :  246\n",
            "Train Pass Completed\n",
            "Epoch [246/350],Train Loss: 0.7899, Valid Loss: 1.84522378\n",
            "Epoch :  247\n",
            "Train Pass Completed\n",
            "Epoch [247/350],Train Loss: 0.7817, Valid Loss: 1.95286226\n",
            "Epoch :  248\n",
            "Train Pass Completed\n",
            "Epoch [248/350],Train Loss: 0.7815, Valid Loss: 1.90819073\n",
            "Epoch :  249\n",
            "Train Pass Completed\n",
            "Epoch [249/350],Train Loss: 0.7586, Valid Loss: 1.93159151\n",
            "Epoch :  250\n",
            "Train Pass Completed\n",
            "Epoch [250/350],Train Loss: 0.7318, Valid Loss: 1.89123464\n",
            "Epoch :  251\n",
            "Train Pass Completed\n",
            "Epoch [251/350],Train Loss: 0.7315, Valid Loss: 1.89640462\n",
            "Epoch :  252\n",
            "Train Pass Completed\n",
            "Epoch [252/350],Train Loss: 0.7152, Valid Loss: 1.88977849\n",
            "Epoch :  253\n",
            "Train Pass Completed\n",
            "Epoch [253/350],Train Loss: 0.7223, Valid Loss: 1.91420174\n",
            "Epoch :  254\n",
            "Train Pass Completed\n",
            "Epoch [254/350],Train Loss: 0.7283, Valid Loss: 1.87011981\n",
            "Epoch :  255\n",
            "Train Pass Completed\n",
            "Epoch [255/350],Train Loss: 0.7254, Valid Loss: 2.03539753\n",
            "Epoch :  256\n",
            "Train Pass Completed\n",
            "Epoch [256/350],Train Loss: 0.7454, Valid Loss: 2.03593111\n",
            "Epoch :  257\n",
            "Train Pass Completed\n",
            "Epoch [257/350],Train Loss: 0.8340, Valid Loss: 1.88374591\n",
            "Epoch :  258\n",
            "Train Pass Completed\n",
            "Epoch [258/350],Train Loss: 0.7577, Valid Loss: 2.03020096\n",
            "Epoch :  259\n",
            "Train Pass Completed\n",
            "Epoch [259/350],Train Loss: 0.8112, Valid Loss: 1.97089529\n",
            "Epoch :  260\n",
            "Train Pass Completed\n",
            "Epoch [260/350],Train Loss: 0.7659, Valid Loss: 1.94463682\n",
            "Epoch :  261\n",
            "Train Pass Completed\n",
            "Epoch [261/350],Train Loss: 0.8217, Valid Loss: 1.85287023\n",
            "Epoch :  262\n",
            "Train Pass Completed\n",
            "Epoch [262/350],Train Loss: 0.8564, Valid Loss: 1.92388427\n",
            "Epoch :  263\n",
            "Train Pass Completed\n",
            "Epoch [263/350],Train Loss: 0.9119, Valid Loss: 2.10424995\n",
            "Epoch :  264\n",
            "Train Pass Completed\n",
            "Epoch [264/350],Train Loss: 0.9105, Valid Loss: 1.98148072\n",
            "Epoch :  265\n",
            "Train Pass Completed\n",
            "Epoch [265/350],Train Loss: 0.8616, Valid Loss: 2.15573549\n",
            "Epoch :  266\n",
            "Train Pass Completed\n",
            "Epoch [266/350],Train Loss: 0.8279, Valid Loss: 1.86151803\n",
            "Epoch :  267\n",
            "Train Pass Completed\n",
            "Epoch [267/350],Train Loss: 0.8160, Valid Loss: 1.96449280\n",
            "Epoch :  268\n",
            "Train Pass Completed\n",
            "Epoch [268/350],Train Loss: 0.6943, Valid Loss: 2.00872016\n",
            "Epoch :  269\n",
            "Train Pass Completed\n",
            "Epoch [269/350],Train Loss: 0.8313, Valid Loss: 1.86639321\n",
            "Epoch :  270\n",
            "Train Pass Completed\n",
            "Epoch [270/350],Train Loss: 0.7662, Valid Loss: 1.80849695\n",
            "Model Saved to ==> gru_300.pt\n",
            "Epoch :  271\n",
            "Train Pass Completed\n",
            "Epoch [271/350],Train Loss: 0.7999, Valid Loss: 2.00149679\n",
            "Epoch :  272\n",
            "Train Pass Completed\n",
            "Epoch [272/350],Train Loss: 0.7523, Valid Loss: 1.81879342\n",
            "Epoch :  273\n",
            "Train Pass Completed\n",
            "Epoch [273/350],Train Loss: 0.7745, Valid Loss: 1.92596793\n",
            "Epoch :  274\n",
            "Train Pass Completed\n",
            "Epoch [274/350],Train Loss: 0.7217, Valid Loss: 1.88107824\n",
            "Epoch :  275\n",
            "Train Pass Completed\n",
            "Epoch [275/350],Train Loss: 0.8843, Valid Loss: 1.83559632\n",
            "Epoch :  276\n",
            "Train Pass Completed\n",
            "Epoch [276/350],Train Loss: 0.8453, Valid Loss: 2.05591726\n",
            "Epoch :  277\n",
            "Train Pass Completed\n",
            "Epoch [277/350],Train Loss: 0.9814, Valid Loss: 1.82521749\n",
            "Epoch :  278\n",
            "Train Pass Completed\n",
            "Epoch [278/350],Train Loss: 0.8343, Valid Loss: 1.81665778\n",
            "Epoch :  279\n",
            "Train Pass Completed\n",
            "Epoch [279/350],Train Loss: 0.8766, Valid Loss: 1.84337664\n",
            "Epoch :  280\n",
            "Train Pass Completed\n",
            "Epoch [280/350],Train Loss: 0.8190, Valid Loss: 2.10104990\n",
            "Epoch :  281\n",
            "Train Pass Completed\n",
            "Epoch [281/350],Train Loss: 0.9408, Valid Loss: 1.79404116\n",
            "Model Saved to ==> gru_300.pt\n",
            "Epoch :  282\n",
            "Train Pass Completed\n",
            "Epoch [282/350],Train Loss: 0.7438, Valid Loss: 1.99217200\n",
            "Epoch :  283\n",
            "Train Pass Completed\n",
            "Epoch [283/350],Train Loss: 0.8203, Valid Loss: 1.78968215\n",
            "Model Saved to ==> gru_300.pt\n",
            "Epoch :  284\n",
            "Train Pass Completed\n",
            "Epoch [284/350],Train Loss: 0.7037, Valid Loss: 1.91001630\n",
            "Epoch :  285\n",
            "Train Pass Completed\n",
            "Epoch [285/350],Train Loss: 0.7111, Valid Loss: 1.80918431\n",
            "Epoch :  286\n",
            "Train Pass Completed\n",
            "Epoch [286/350],Train Loss: 0.6681, Valid Loss: 1.92493677\n",
            "Epoch :  287\n",
            "Train Pass Completed\n",
            "Epoch [287/350],Train Loss: 0.6677, Valid Loss: 1.73279071\n",
            "Model Saved to ==> gru_300.pt\n",
            "Epoch :  288\n",
            "Train Pass Completed\n",
            "Epoch [288/350],Train Loss: 0.6319, Valid Loss: 1.83456004\n",
            "Epoch :  289\n",
            "Train Pass Completed\n",
            "Epoch [289/350],Train Loss: 0.6137, Valid Loss: 1.84778321\n",
            "Epoch :  290\n",
            "Train Pass Completed\n",
            "Epoch [290/350],Train Loss: 0.6367, Valid Loss: 1.80829859\n",
            "Epoch :  291\n",
            "Train Pass Completed\n",
            "Epoch [291/350],Train Loss: 0.5986, Valid Loss: 1.85575390\n",
            "Epoch :  292\n",
            "Train Pass Completed\n",
            "Epoch [292/350],Train Loss: 0.7282, Valid Loss: 1.80482745\n",
            "Epoch :  293\n",
            "Train Pass Completed\n",
            "Epoch [293/350],Train Loss: 0.7148, Valid Loss: 2.07013726\n",
            "Epoch :  294\n",
            "Train Pass Completed\n",
            "Epoch [294/350],Train Loss: 0.8736, Valid Loss: 1.78376722\n",
            "Epoch :  295\n",
            "Train Pass Completed\n",
            "Epoch [295/350],Train Loss: 0.7131, Valid Loss: 2.05529785\n",
            "Epoch :  296\n",
            "Train Pass Completed\n",
            "Epoch [296/350],Train Loss: 0.6891, Valid Loss: 1.75473356\n",
            "Epoch :  297\n",
            "Train Pass Completed\n",
            "Epoch [297/350],Train Loss: 0.6234, Valid Loss: 1.85319996\n",
            "Epoch :  298\n",
            "Train Pass Completed\n",
            "Epoch [298/350],Train Loss: 0.6033, Valid Loss: 1.83891201\n",
            "Epoch :  299\n",
            "Train Pass Completed\n",
            "Epoch [299/350],Train Loss: 0.5848, Valid Loss: 1.69826567\n",
            "Model Saved to ==> gru_300.pt\n",
            "Epoch :  300\n",
            "Train Pass Completed\n",
            "Epoch [300/350],Train Loss: 0.6164, Valid Loss: 1.81639910\n",
            "Epoch :  301\n",
            "Train Pass Completed\n",
            "Epoch [301/350],Train Loss: 0.5803, Valid Loss: 1.86532092\n",
            "Epoch :  302\n",
            "Train Pass Completed\n",
            "Epoch [302/350],Train Loss: 0.5685, Valid Loss: 2.08565712\n",
            "Epoch :  303\n",
            "Train Pass Completed\n",
            "Epoch [303/350],Train Loss: 0.6165, Valid Loss: 1.72917902\n",
            "Epoch :  304\n",
            "Train Pass Completed\n",
            "Epoch [304/350],Train Loss: 0.5609, Valid Loss: 1.91073656\n",
            "Epoch :  305\n",
            "Train Pass Completed\n",
            "Epoch [305/350],Train Loss: 0.5850, Valid Loss: 1.81944752\n",
            "Epoch :  306\n",
            "Train Pass Completed\n",
            "Epoch [306/350],Train Loss: 0.5598, Valid Loss: 1.92886305\n",
            "Epoch :  307\n",
            "Train Pass Completed\n",
            "Epoch [307/350],Train Loss: 0.5616, Valid Loss: 1.79895830\n",
            "Epoch :  308\n",
            "Train Pass Completed\n",
            "Epoch [308/350],Train Loss: 0.5192, Valid Loss: 1.87652540\n",
            "Epoch :  309\n",
            "Train Pass Completed\n",
            "Epoch [309/350],Train Loss: 0.5398, Valid Loss: 1.84720898\n",
            "Epoch :  310\n",
            "Train Pass Completed\n",
            "Epoch [310/350],Train Loss: 0.5172, Valid Loss: 1.85954273\n",
            "Epoch :  311\n",
            "Train Pass Completed\n",
            "Epoch [311/350],Train Loss: 0.5310, Valid Loss: 1.87271070\n",
            "Epoch :  312\n",
            "Train Pass Completed\n",
            "Epoch [312/350],Train Loss: 0.5374, Valid Loss: 1.85188735\n",
            "Epoch :  313\n",
            "Train Pass Completed\n",
            "Epoch [313/350],Train Loss: 0.5314, Valid Loss: 1.84800124\n",
            "Epoch :  314\n",
            "Train Pass Completed\n",
            "Epoch [314/350],Train Loss: 0.5190, Valid Loss: 1.83489466\n",
            "Epoch :  315\n",
            "Train Pass Completed\n",
            "Epoch [315/350],Train Loss: 0.5372, Valid Loss: 1.86775088\n",
            "Epoch :  316\n",
            "Train Pass Completed\n",
            "Epoch [316/350],Train Loss: 0.5365, Valid Loss: 1.91406059\n",
            "Epoch :  317\n",
            "Train Pass Completed\n",
            "Epoch [317/350],Train Loss: 0.4961, Valid Loss: 1.88216925\n",
            "Epoch :  318\n",
            "Train Pass Completed\n",
            "Epoch [318/350],Train Loss: 0.5085, Valid Loss: 1.85189843\n",
            "Epoch :  319\n",
            "Train Pass Completed\n",
            "Epoch [319/350],Train Loss: 0.5267, Valid Loss: 1.94464350\n",
            "Epoch :  320\n",
            "Train Pass Completed\n",
            "Epoch [320/350],Train Loss: 0.5430, Valid Loss: 1.85576153\n",
            "Epoch :  321\n",
            "Train Pass Completed\n",
            "Epoch [321/350],Train Loss: 0.5321, Valid Loss: 1.81813741\n",
            "Epoch :  322\n",
            "Train Pass Completed\n",
            "Epoch [322/350],Train Loss: 0.5265, Valid Loss: 1.87566757\n",
            "Epoch :  323\n",
            "Train Pass Completed\n",
            "Epoch [323/350],Train Loss: 0.5358, Valid Loss: 1.79536390\n",
            "Epoch :  324\n",
            "Train Pass Completed\n",
            "Epoch [324/350],Train Loss: 0.5149, Valid Loss: 1.80059934\n",
            "Epoch :  325\n",
            "Train Pass Completed\n",
            "Epoch [325/350],Train Loss: 0.4933, Valid Loss: 1.87481225\n",
            "Epoch :  326\n",
            "Train Pass Completed\n",
            "Epoch [326/350],Train Loss: 0.4855, Valid Loss: 1.79144382\n",
            "Epoch :  327\n",
            "Train Pass Completed\n",
            "Epoch [327/350],Train Loss: 0.4828, Valid Loss: 1.81575060\n",
            "Epoch :  328\n",
            "Train Pass Completed\n",
            "Epoch [328/350],Train Loss: 0.4901, Valid Loss: 1.81249261\n",
            "Epoch :  329\n",
            "Train Pass Completed\n",
            "Epoch [329/350],Train Loss: 0.4868, Valid Loss: 1.90904176\n",
            "Epoch :  330\n",
            "Train Pass Completed\n",
            "Epoch [330/350],Train Loss: 0.5451, Valid Loss: 1.78982425\n",
            "Epoch :  331\n",
            "Train Pass Completed\n",
            "Epoch [331/350],Train Loss: 0.5037, Valid Loss: 2.01376724\n",
            "Epoch :  332\n",
            "Train Pass Completed\n",
            "Epoch [332/350],Train Loss: 0.5526, Valid Loss: 1.78808784\n",
            "Epoch :  333\n",
            "Train Pass Completed\n",
            "Epoch [333/350],Train Loss: 0.5091, Valid Loss: 1.90354156\n",
            "Epoch :  334\n",
            "Train Pass Completed\n",
            "Epoch [334/350],Train Loss: 0.5271, Valid Loss: 1.82331061\n",
            "Epoch :  335\n",
            "Train Pass Completed\n",
            "Epoch [335/350],Train Loss: 0.5270, Valid Loss: 1.86968637\n",
            "Epoch :  336\n",
            "Train Pass Completed\n",
            "Epoch [336/350],Train Loss: 0.5428, Valid Loss: 1.78077948\n",
            "Epoch :  337\n",
            "Train Pass Completed\n",
            "Epoch [337/350],Train Loss: 0.5026, Valid Loss: 1.84681582\n",
            "Epoch :  338\n",
            "Train Pass Completed\n",
            "Epoch [338/350],Train Loss: 0.4877, Valid Loss: 1.73167443\n",
            "Epoch :  339\n",
            "Train Pass Completed\n",
            "Epoch [339/350],Train Loss: 0.4647, Valid Loss: 1.86471641\n",
            "Epoch :  340\n",
            "Train Pass Completed\n",
            "Epoch [340/350],Train Loss: 0.4404, Valid Loss: 1.79412270\n",
            "Epoch :  341\n",
            "Train Pass Completed\n",
            "Epoch [341/350],Train Loss: 0.4216, Valid Loss: 1.81896472\n",
            "Epoch :  342\n",
            "Train Pass Completed\n",
            "Epoch [342/350],Train Loss: 0.4083, Valid Loss: 1.81510568\n",
            "Epoch :  343\n",
            "Train Pass Completed\n",
            "Epoch [343/350],Train Loss: 0.3934, Valid Loss: 1.74855924\n",
            "Epoch :  344\n",
            "Train Pass Completed\n",
            "Epoch [344/350],Train Loss: 0.3902, Valid Loss: 1.79144204\n",
            "Epoch :  345\n",
            "Train Pass Completed\n",
            "Epoch [345/350],Train Loss: 0.4098, Valid Loss: 1.77192688\n",
            "Epoch :  346\n",
            "Train Pass Completed\n",
            "Epoch [346/350],Train Loss: 0.3774, Valid Loss: 1.73899221\n",
            "Epoch :  347\n",
            "Train Pass Completed\n",
            "Epoch [347/350],Train Loss: 0.3967, Valid Loss: 1.89145994\n",
            "Epoch :  348\n",
            "Train Pass Completed\n",
            "Epoch [348/350],Train Loss: 0.3884, Valid Loss: 1.85140717\n",
            "Epoch :  349\n",
            "Train Pass Completed\n",
            "Epoch [349/350],Train Loss: 0.4372, Valid Loss: 1.90119076\n",
            "Epoch :  350\n",
            "Train Pass Completed\n",
            "Epoch [350/350],Train Loss: 0.4428, Valid Loss: 1.94675839\n",
            "Finished Training\n"
          ]
        }
      ]
    },
    {
      "cell_type": "code",
      "source": [
        "converted_train_loss_mse = [tensor.detach().item() for tensor in obtained_train_loss_3]\n",
        "converted_val_loss_mse = [tensor.detach().item() for tensor in obtained_val_loss_3]\n",
        "\n",
        "plt.plot(range(0,num_epochs),converted_train_loss_mse, label = \"Training Loss\")\n",
        "plt.plot(range(0,num_epochs),converted_val_loss_mse, label = \"Validation Loss\")\n",
        "plt.title('Loss  Vs Epochs (GRU Network with SGD : batch_size=64,lr=0.01)', fontsize=14)\n",
        "plt.xlabel('#Epochs', fontsize=14)\n",
        "plt.ylabel('Loss ', fontsize=14)\n",
        "\n",
        "plt.legend()\n",
        "plt.show()\n"
      ],
      "metadata": {
        "colab": {
          "base_uri": "https://localhost:8080/",
          "height": 300
        },
        "id": "B--cucXeijhQ",
        "outputId": "131ef5c6-4ca3-4698-cc5b-8bf4010c2ba1"
      },
      "id": "B--cucXeijhQ",
      "execution_count": 24,
      "outputs": [
        {
          "output_type": "display_data",
          "data": {
            "text/plain": [
              "<Figure size 432x288 with 1 Axes>"
            ],
            "image/png": "[encoded data removed]"
          },
          "metadata": {
            "needs_background": "light"
          }
        }
      ]
    },
    {
      "cell_type": "code",
      "source": [
        "print(f\"Best Val loss (GRU): {min(obtained_val_loss)}\")\n",
        "print(f\"Worst Val loss (GRU: {max(obtained_val_loss)}\")"
      ],
      "metadata": {
        "id": "yuiJD-Eqi4vZ"
      },
      "id": "yuiJD-Eqi4vZ",
      "execution_count": null,
      "outputs": []
    },
    {
      "cell_type": "markdown",
      "id": "c87278a2",
      "metadata": {
        "id": "c87278a2"
      },
      "source": [
        "## Evaluation"
      ]
    },
    {
      "cell_type": "code",
      "source": [
        "!pip install torchmetrics"
      ],
      "metadata": {
        "colab": {
          "base_uri": "https://localhost:8080/"
        },
        "id": "MxHdJXhsfhuV",
        "outputId": "79d3b95a-832e-4cd8-b51a-1602547ccae8"
      },
      "id": "MxHdJXhsfhuV",
      "execution_count": 30,
      "outputs": [
        {
          "output_type": "stream",
          "name": "stdout",
          "text": [
            "Looking in indexes: https://pypi.org/simple, https://us-python.pkg.dev/colab-wheels/public/simple/\n",
            "Collecting torchmetrics\n",
            "  Downloading torchmetrics-0.9.1-py3-none-any.whl (419 kB)\n",
            "\u001b[K     |████████████████████████████████| 419 kB 6.0 MB/s \n",
            "\u001b[?25hRequirement already satisfied: typing-extensions in /usr/local/lib/python3.7/dist-packages (from torchmetrics) (4.1.1)\n",
            "Requirement already satisfied: torch>=1.3.1 in /usr/local/lib/python3.7/dist-packages (from torchmetrics) (1.11.0+cu113)\n",
            "Requirement already satisfied: packaging in /usr/local/lib/python3.7/dist-packages (from torchmetrics) (21.3)\n",
            "Requirement already satisfied: numpy>=1.17.2 in /usr/local/lib/python3.7/dist-packages (from torchmetrics) (1.21.6)\n",
            "Requirement already satisfied: pyparsing!=3.0.5,>=2.0.2 in /usr/local/lib/python3.7/dist-packages (from packaging->torchmetrics) (3.0.9)\n",
            "Installing collected packages: torchmetrics\n",
            "Successfully installed torchmetrics-0.9.1\n"
          ]
        }
      ]
    },
    {
      "cell_type": "code",
      "execution_count": 31,
      "id": "2cbb6137",
      "metadata": {
        "id": "2cbb6137"
      },
      "outputs": [],
      "source": [
        "#todo\n",
        "#task 3.2 evaluation on test data\n",
        "\n",
        "#evaluate on the test set and calculate average test loss \n",
        "from sklearn.metrics import mean_squared_error\n",
        "from torchmetrics import R2Score \n",
        "r2score = R2Score().to(device)\n",
        "def evaluate(model, test_loader,device='cpu'):\n",
        "    test_running_loss = 0.0\n",
        "    count=0.0\n",
        "    r2_score=0.0\n",
        "    preds = []\n",
        "    actual = []\n",
        "    test_input = []\n",
        "    with torch.no_grad():\n",
        "        model.eval()\n",
        "        for test_data, test_label in test_loader:\n",
        "            input_tensor = test_data.to(device)\n",
        "            test_input.append(input_tensor)\n",
        "            outputs = model.forward(input_tensor)\n",
        "            preds.append(outputs)\n",
        "            actual.append(test_label)\n",
        "            loss = criterion(outputs,test_label.to(device))\n",
        "            test_running_loss += loss\n",
        "            #score = r2score(outputs, test_label)\n",
        "            #r2_score += score\n",
        "            count+=1\n",
        "            \n",
        "            print(f\"MSE Loss after {count} iteration :\", test_running_loss/count)\n",
        "\n",
        "\n",
        "\n",
        "        \n",
        "        avg_test_loss = test_running_loss / len(test_loader)\n",
        "        avg_r2_score = r2_score / len(test_loader)\n",
        "        print(\"Average MSE Test Loss: {:4f}\".format(avg_test_loss))\n",
        "        #print(\"Average R2 score: {:4f}\".format(avg_r2_score))\n",
        "        return preds, actual, test_input\n",
        "\n"
      ]
    },
    {
      "cell_type": "code",
      "source": [
        "from sklearn.metrics import mean_squared_error\n",
        "from torchmetrics import R2Score \n",
        "r2score = R2Score().to(device)\n",
        "criterion = nn.MSELoss()\n",
        "def evaluate(model, test_loader,device='cpu'):\n",
        "    test_running_loss = 0.0\n",
        "    count=0.0\n",
        "    r2_score=0.0\n",
        "    preds = []\n",
        "    actual = []\n",
        "    test_input = []\n",
        "    losses=[]\n",
        "    with torch.no_grad():\n",
        "        model.eval()\n",
        "        for test_data, test_label in test_loader:\n",
        "            input_tensor = test_data.to(device)\n",
        "            test_input.append(input_tensor)\n",
        "            outputs = model.forward(input_tensor)\n",
        "            preds.append(outputs)\n",
        "            actual.append(test_label)\n",
        "            loss = criterion(outputs,test_label.to(device))\n",
        "            \n",
        "            losses.append(loss)\n",
        "            test_running_loss += loss\n",
        "            #score = r2score(outputs, test_label)\n",
        "            #r2_score += score\n",
        "            #count+=1\n",
        "           \n",
        "            #print(f\"RMSE Loss after {count} iteration :\", test_running_loss/count)\n",
        "\n",
        "\n",
        "\n",
        "        print([tensor.detach().item() for tensor in losses])\n",
        "        avg_test_loss = test_running_loss / len(test_loader)\n",
        "        avg_r2_score = r2_score / len(test_loader)\n",
        "        print(\"Average MSE Test Loss: {:4f}\".format(avg_test_loss))\n",
        "        #print(\"Average R2 score: {:4f}\".format(avg_r2_score))\n",
        "        return preds, actual, test_input,losses\n",
        "\n",
        "preds,actual,input,avg_test_loss=evaluate(GRURegressor32,test_loader_2)\n",
        "#print(avg_test_loss)"
      ],
      "metadata": {
        "colab": {
          "base_uri": "https://localhost:8080/"
        },
        "id": "MF19_Eprfn2l",
        "outputId": "73d49546-1a4f-44e0-efba-6a7078df577c"
      },
      "id": "MF19_Eprfn2l",
      "execution_count": 81,
      "outputs": [
        {
          "output_type": "stream",
          "name": "stdout",
          "text": [
            "[1.8966829776763916, 1.0877869129180908, 1.9322518110275269, 2.383786916732788, 1.3906059265136719, 1.663040280342102, 2.9791436195373535, 1.5109806060791016, 1.6429369449615479, 1.71198570728302]\n",
            "Average MSE Test Loss: 1.819920\n"
          ]
        }
      ]
    },
    {
      "cell_type": "code",
      "source": [
        "prediction_model_loss=[1.8778905868530273, 1.2208378314971924, 1.9729394912719727, 2.141270637512207, 1.3517041206359863, 1.6853364706039429, 3.028632879257202, 1.4836313724517822, 1.5931508541107178, 1.9006010293960571]\n"
      ],
      "metadata": {
        "id": "m9QyLoAN3Juw"
      },
      "id": "m9QyLoAN3Juw",
      "execution_count": 74,
      "outputs": []
    },
    {
      "cell_type": "code",
      "source": [
        "best_batch = np.argmin(avg_test_loss)\n",
        "worst_batch = np.argmax(avg_test_loss)\n",
        "\n",
        "print(f\"The batch with the best test loss is {best_batch}\")\n",
        "print(f\"The batch with the worst test loss is {worst_batch}\")"
      ],
      "metadata": {
        "colab": {
          "base_uri": "https://localhost:8080/"
        },
        "id": "bhK91FDIi_XZ",
        "outputId": "d15f3734-9e61-4b9c-af10-29456cd51135"
      },
      "id": "bhK91FDIi_XZ",
      "execution_count": 44,
      "outputs": [
        {
          "output_type": "stream",
          "name": "stdout",
          "text": [
            "The batch with the best test loss is 1\n",
            "The batch with the worst test loss is 6\n"
          ]
        }
      ]
    },
    {
      "cell_type": "code",
      "execution_count": 45,
      "id": "2cf6f4b7",
      "metadata": {
        "id": "2cf6f4b7"
      },
      "outputs": [],
      "source": [
        "def plot_dim(inp_arr, batch_size, sequence_len, dim):\n",
        "  plot_arr = []\n",
        "  for i in inp_arr:\n",
        "     plot= i.reshape(batch_size, sequence_len, dim)\n",
        "     plot_arr.append(plot)\n",
        "  return plot_arr\n",
        "\n",
        "\n",
        "plot_pred = plot_dim(preds, 10,60,2)\n",
        "plot_targets = plot_dim(actual, 10,60,2)\n",
        "plot_input = plot_dim(input, 10,110,2)"
      ]
    },
    {
      "cell_type": "code",
      "execution_count": 46,
      "id": "736c10d8",
      "metadata": {
        "id": "736c10d8",
        "colab": {
          "base_uri": "https://localhost:8080/",
          "height": 1000
        },
        "outputId": "b53cc096-fde0-44e1-fe0f-ee60f9fd02bb"
      },
      "outputs": [
        {
          "output_type": "stream",
          "name": "stdout",
          "text": [
            "\n",
            "Best Case Predictions : 0\n",
            "\n"
          ]
        },
        {
          "output_type": "display_data",
          "data": {
            "text/plain": [
              "<Figure size 360x360 with 1 Axes>"
            ],
            "image/png": "[encoded data removed]"
          },
          "metadata": {
            "needs_background": "light"
          }
        },
        {
          "output_type": "stream",
          "name": "stdout",
          "text": [
            "\n",
            "Best Case Predictions : 1\n",
            "\n"
          ]
        },
        {
          "output_type": "display_data",
          "data": {
            "text/plain": [
              "<Figure size 360x360 with 1 Axes>"
            ],
            "image/png": "[encoded data removed]"
          },
          "metadata": {
            "needs_background": "light"
          }
        },
        {
          "output_type": "stream",
          "name": "stdout",
          "text": [
            "\n",
            "Best Case Predictions : 2\n",
            "\n"
          ]
        },
        {
          "output_type": "display_data",
          "data": {
            "text/plain": [
              "<Figure size 360x360 with 1 Axes>"
            ],
            "image/png": "[encoded data removed]"
          },
          "metadata": {
            "needs_background": "light"
          }
        },
        {
          "output_type": "stream",
          "name": "stdout",
          "text": [
            "\n",
            "Best Case Predictions : 3\n",
            "\n"
          ]
        },
        {
          "output_type": "display_data",
          "data": {
            "text/plain": [
              "<Figure size 360x360 with 1 Axes>"
            ],
            "image/png": "[encoded data removed]"
          },
          "metadata": {
            "needs_background": "light"
          }
        },
        {
          "output_type": "stream",
          "name": "stdout",
          "text": [
            "\n",
            "Best Case Predictions : 4\n",
            "\n"
          ]
        },
        {
          "output_type": "display_data",
          "data": {
            "text/plain": [
              "<Figure size 360x360 with 1 Axes>"
            ],
            "image/png": "[encoded data removed]"
          },
          "metadata": {
            "needs_background": "light"
          }
        },
        {
          "output_type": "stream",
          "name": "stdout",
          "text": [
            "\n",
            "Best Case Predictions : 5\n",
            "\n"
          ]
        },
        {
          "output_type": "display_data",
          "data": {
            "text/plain": [
              "<Figure size 360x360 with 1 Axes>"
            ],
            "image/png": "[encoded data removed]"
          },
          "metadata": {
            "needs_background": "light"
          }
        },
        {
          "output_type": "stream",
          "name": "stdout",
          "text": [
            "\n",
            "Best Case Predictions : 6\n",
            "\n"
          ]
        },
        {
          "output_type": "display_data",
          "data": {
            "text/plain": [
              "<Figure size 360x360 with 1 Axes>"
            ],
            "image/png": "[encoded data removed]"
          },
          "metadata": {
            "needs_background": "light"
          }
        },
        {
          "output_type": "stream",
          "name": "stdout",
          "text": [
            "\n",
            "Best Case Predictions : 7\n",
            "\n"
          ]
        },
        {
          "output_type": "display_data",
          "data": {
            "text/plain": [
              "<Figure size 360x360 with 1 Axes>"
            ],
            "image/png": "[encoded data removed]"
          },
          "metadata": {
            "needs_background": "light"
          }
        },
        {
          "output_type": "stream",
          "name": "stdout",
          "text": [
            "\n",
            "Best Case Predictions : 8\n",
            "\n"
          ]
        },
        {
          "output_type": "display_data",
          "data": {
            "text/plain": [
              "<Figure size 360x360 with 1 Axes>"
            ],
            "image/png": "[encoded data removed]"
          },
          "metadata": {
            "needs_background": "light"
          }
        },
        {
          "output_type": "stream",
          "name": "stdout",
          "text": [
            "\n",
            "Best Case Predictions : 9\n",
            "\n"
          ]
        },
        {
          "output_type": "display_data",
          "data": {
            "text/plain": [
              "<Figure size 360x360 with 1 Axes>"
            ],
            "image/png": "[encoded data removed]"
          },
          "metadata": {
            "needs_background": "light"
          }
        }
      ],
      "source": [
        "#Plotting the best cases.\n",
        "for best_idx in range(0,10):\n",
        "  print(f\"\\nBest Case Predictions : {best_idx}\\n\")\n",
        "  plot_example(x =plot_targets[best_batch][best_idx], x_gt = plot_input[best_batch][best_idx],x_pred = plot_pred[best_batch][best_idx])\n",
        "  "
      ]
    },
    {
      "cell_type": "code",
      "source": [
        "#Plotting the best cases.\n",
        "for worst_idx in range(0,10):\n",
        "  print(f\"\\n Worst Case Predictions : {best_idx}\\n\")\n",
        "  plot_example(x =plot_targets[worst_batch][best_idx], x_gt = plot_input[worst_batch][best_idx],x_pred = plot_pred[worst_batch][best_idx])"
      ],
      "metadata": {
        "colab": {
          "base_uri": "https://localhost:8080/",
          "height": 1000
        },
        "id": "pCnx3XJvzcSV",
        "outputId": "8cbf803a-8350-4589-c1d2-bfec2b766036"
      },
      "id": "pCnx3XJvzcSV",
      "execution_count": 47,
      "outputs": [
        {
          "output_type": "stream",
          "name": "stdout",
          "text": [
            "\n",
            " Worst Case Predictions : 9\n",
            "\n"
          ]
        },
        {
          "output_type": "display_data",
          "data": {
            "text/plain": [
              "<Figure size 360x360 with 1 Axes>"
            ],
            "image/png": "[encoded data removed]"
          },
          "metadata": {
            "needs_background": "light"
          }
        },
        {
          "output_type": "stream",
          "name": "stdout",
          "text": [
            "\n",
            " Worst Case Predictions : 9\n",
            "\n"
          ]
        },
        {
          "output_type": "display_data",
          "data": {
            "text/plain": [
              "<Figure size 360x360 with 1 Axes>"
            ],
            "image/png": "[encoded data removed]"
          },
          "metadata": {
            "needs_background": "light"
          }
        },
        {
          "output_type": "stream",
          "name": "stdout",
          "text": [
            "\n",
            " Worst Case Predictions : 9\n",
            "\n"
          ]
        },
        {
          "output_type": "display_data",
          "data": {
            "text/plain": [
              "<Figure size 360x360 with 1 Axes>"
            ],
            "image/png": "[encoded data removed]"
          },
          "metadata": {
            "needs_background": "light"
          }
        },
        {
          "output_type": "stream",
          "name": "stdout",
          "text": [
            "\n",
            " Worst Case Predictions : 9\n",
            "\n"
          ]
        },
        {
          "output_type": "display_data",
          "data": {
            "text/plain": [
              "<Figure size 360x360 with 1 Axes>"
            ],
            "image/png": "[encoded data removed]"
          },
          "metadata": {
            "needs_background": "light"
          }
        },
        {
          "output_type": "stream",
          "name": "stdout",
          "text": [
            "\n",
            " Worst Case Predictions : 9\n",
            "\n"
          ]
        },
        {
          "output_type": "display_data",
          "data": {
            "text/plain": [
              "<Figure size 360x360 with 1 Axes>"
            ],
            "image/png": "[encoded data removed]"
          },
          "metadata": {
            "needs_background": "light"
          }
        },
        {
          "output_type": "stream",
          "name": "stdout",
          "text": [
            "\n",
            " Worst Case Predictions : 9\n",
            "\n"
          ]
        },
        {
          "output_type": "display_data",
          "data": {
            "text/plain": [
              "<Figure size 360x360 with 1 Axes>"
            ],
            "image/png": "[encoded data removed]"
          },
          "metadata": {
            "needs_background": "light"
          }
        },
        {
          "output_type": "stream",
          "name": "stdout",
          "text": [
            "\n",
            " Worst Case Predictions : 9\n",
            "\n"
          ]
        },
        {
          "output_type": "display_data",
          "data": {
            "text/plain": [
              "<Figure size 360x360 with 1 Axes>"
            ],
            "image/png": "[encoded data removed]"
          },
          "metadata": {
            "needs_background": "light"
          }
        },
        {
          "output_type": "stream",
          "name": "stdout",
          "text": [
            "\n",
            " Worst Case Predictions : 9\n",
            "\n"
          ]
        },
        {
          "output_type": "display_data",
          "data": {
            "text/plain": [
              "<Figure size 360x360 with 1 Axes>"
            ],
            "image/png": "[encoded data removed]"
          },
          "metadata": {
            "needs_background": "light"
          }
        },
        {
          "output_type": "stream",
          "name": "stdout",
          "text": [
            "\n",
            " Worst Case Predictions : 9\n",
            "\n"
          ]
        },
        {
          "output_type": "display_data",
          "data": {
            "text/plain": [
              "<Figure size 360x360 with 1 Axes>"
            ],
            "image/png": "[encoded data removed]"
          },
          "metadata": {
            "needs_background": "light"
          }
        },
        {
          "output_type": "stream",
          "name": "stdout",
          "text": [
            "\n",
            " Worst Case Predictions : 9\n",
            "\n"
          ]
        },
        {
          "output_type": "display_data",
          "data": {
            "text/plain": [
              "<Figure size 360x360 with 1 Axes>"
            ],
            "image/png": "[encoded data removed]"
          },
          "metadata": {
            "needs_background": "light"
          }
        }
      ]
    },
    {
      "cell_type": "markdown",
      "source": [
        "Experimental Task mentioned in Assignment description : \n",
        "\n",
        "\"Compare your model to a simple linear\n",
        "baseline, i.e., extrapolating in the direction between the last 2 timesteps of\n",
        "the input simulation (xti− xt−Δti).\"\n"
      ],
      "metadata": {
        "id": "_WL8oKs9f2kJ"
      },
      "id": "_WL8oKs9f2kJ"
    },
    {
      "cell_type": "code",
      "source": [
        "def linear_baseline(t1,t2):\n",
        "    return t1 + (t1 - t2)"
      ],
      "metadata": {
        "id": "DJT1MmQHA-zL"
      },
      "id": "DJT1MmQHA-zL",
      "execution_count": 40,
      "outputs": []
    },
    {
      "cell_type": "code",
      "source": [
        "#Baseline predictor eval\n",
        "preds = []\n",
        "val_running_loss = 0  \n",
        "for test_data, test_targets in test_loader_2:\n",
        "    t1 = test_data[:,:,-2:]\n",
        "    \n",
        "    t2 = test_data[:,:,-4:-2]\n",
        "    linear_preds = []\n",
        "  \n",
        "    for i in range(20):         \n",
        "        pred = linear_baseline(t1,t2)\n",
        "        t2 = t1\n",
        "        t1 = pred\n",
        "        linear_preds.append(pred)\n",
        "    pred = torch.stack(linear_preds,axis=1).squeeze(2).view(len(test_targets),-1)\n",
        "    #print(pred.shape,test_targets[:,:,:40].view(-1,40).shape)\n",
        "    \n",
        "    loss = torch.mean((test_targets[:,:,:40].view(-1,40) - pred)**2)\n",
        "\n",
        "    print(f\" Average loss for linear baseline  : {loss}\")\n",
        "    val_running_loss += loss\n",
        "print(f\"Total average loss: {val_running_loss/len(test_loader_2)}\")\n",
        "    \n",
        "\n",
        "    "
      ],
      "metadata": {
        "colab": {
          "base_uri": "https://localhost:8080/"
        },
        "id": "PWVHz8kJf2Mc",
        "outputId": "104d912d-86d8-4ac3-f3a4-77513e2acb6c"
      },
      "id": "PWVHz8kJf2Mc",
      "execution_count": 70,
      "outputs": [
        {
          "output_type": "stream",
          "name": "stdout",
          "text": [
            " Average loss for linear baseline : 1.2266186475753784\n",
            " Average loss for linear baseline : 1.098045825958252\n",
            " Average loss for linear baseline : 0.7036644816398621\n",
            " Average loss for linear baseline : 0.8553469777107239\n",
            " Average loss for linear baseline : 1.410868525505066\n",
            " Average loss for linear baseline : 1.4298721551895142\n",
            " Average loss for linear baseline : 0.501125156879425\n",
            " Average loss for linear baseline : 1.3904789686203003\n",
            " Average loss for linear baseline : 0.6801984310150146\n",
            " Average loss for linear baseline : 0.7997604608535767\n",
            "Total average loss: 1.0095980167388916\n"
          ]
        }
      ]
    },
    {
      "cell_type": "code",
      "source": [
        ""
      ],
      "metadata": {
        "id": "ApaH3-kj3xgb"
      },
      "id": "ApaH3-kj3xgb",
      "execution_count": null,
      "outputs": []
    }
  ],
  "metadata": {
    "kernelspec": {
      "display_name": "Python 3",
      "language": "python",
      "name": "python3"
    },
    "language_info": {
      "codemirror_mode": {
        "name": "ipython",
        "version": 3
      },
      "file_extension": ".py",
      "mimetype": "text/x-python",
      "name": "python",
      "nbconvert_exporter": "python",
      "pygments_lexer": "ipython3",
      "version": "3.8.8"
    },
    "colab": {
      "name": "a3_skeleton.ipynb",
      "provenance": [],
      "collapsed_sections": []
    }
  },
  "nbformat": 4,
  "nbformat_minor": 5
}
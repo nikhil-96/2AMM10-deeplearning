{
  "cells": [
    {
      "cell_type": "markdown",
      "id": "963690b2",
      "metadata": {
        "id": "963690b2"
      },
      "source": [
        "<a href=\"https://colab.research.google.com/github/vlamen/tue-deeplearning/blob/main/assignments/assignment_2_3/a3_skeleton.ipynb\" target=\"_parent\"><img src=\"https://colab.research.google.com/assets/colab-badge.svg\" alt=\"Open In Colab\"/></a>"
      ]
    },
    {
      "cell_type": "markdown",
      "id": "bd8459f1",
      "metadata": {
        "id": "bd8459f1"
      },
      "source": [
        "# Group Number:\n",
        "\n",
        "# Student 1:\n",
        "\n",
        "# Student 2:\n",
        "\n",
        "# Student 3:"
      ]
    },
    {
      "cell_type": "markdown",
      "id": "dde28458",
      "metadata": {
        "id": "dde28458"
      },
      "source": [
        "# Downloading Data and Preliminaries"
      ]
    },
    {
      "cell_type": "code",
      "execution_count": 1,
      "id": "7d0580a5",
      "metadata": {
        "id": "7d0580a5"
      },
      "outputs": [],
      "source": [
        "import pickle\n",
        "import matplotlib.pyplot as plt\n",
        "import matplotlib\n",
        "import numpy as np\n",
        "\n",
        "from zipfile import ZipFile\n",
        "import requests\n",
        "import io"
      ]
    },
    {
      "cell_type": "code",
      "execution_count": 2,
      "id": "8ce00edc",
      "metadata": {
        "id": "8ce00edc"
      },
      "outputs": [],
      "source": [
        "def load_zip(url):\n",
        "    response = requests.get(url)\n",
        "    response.raise_for_status()\n",
        "    zipf = ZipFile(io.BytesIO(response.content))\n",
        "    return {name: zipf.read(name) for name in zipf.namelist()}\n",
        "\n",
        "def load_pickle(zipfile, fn):\n",
        "    return pickle.load(io.BytesIO(zipfile[fn]))"
      ]
    },
    {
      "cell_type": "code",
      "execution_count": 3,
      "id": "bb77a4be",
      "metadata": {
        "id": "bb77a4be"
      },
      "outputs": [],
      "source": [
        "data = load_zip('https://surfdrive.surf.nl/files/index.php/s/cwqGaS22KXgnXtg/download')\n",
        "\n",
        "    \n",
        "\"\"\"\n",
        "simulation_{train, valid, test} is stored as a list of simulations. \n",
        "Each simulation is a numpy array of size (t, 2): For t timesteps an x and y coordinate of our particle.\n",
        "\"\"\"\n",
        "simulation_train = load_pickle(data, 'data/train/simulation.pickle')  # 3.1 + 3.2\n",
        "simulation_valid = load_pickle(data, 'data/valid/simulation.pickle')  # 3.1 + 3.2\n",
        "simulation_test = load_pickle(data, 'data/test/simulation.pickle')  # 3.1 + 3.2\n",
        "\n",
        "\"\"\"\n",
        "charges_{train, valid, test} is stored as a list of simulation-charges. \n",
        "These charges are stored as numpy arrays of size (3,): One value for each charge.\n",
        "\"\"\"\n",
        "charges_train = load_pickle(data, 'data/train/charges.pickle')  # 3.1\n",
        "charges_valid = load_pickle(data, 'data/valid/charges.pickle')  # 3.1\n",
        "charges_test = load_pickle(data, 'data/test/charges.pickle')  # 3.1\n",
        "\n",
        "\"\"\"\n",
        "simulation_continued_{train, valid, test} is stored as a list of simulations. \n",
        "Each simulation is a numpy array of size (t, 2): For t timesteps an x and y coordinate of our particle.\n",
        "\"\"\"\n",
        "simulation_continued_train = load_pickle(data, 'data/train/simulation_continued.pickle')  # 3.2\n",
        "simulation_continued_valid = load_pickle(data, 'data/valid/simulation_continued.pickle')  # 3.2\n",
        "simulation_continued_test = load_pickle(data, 'data/test/simulation_continued.pickle')  # 3.2\n",
        "\n",
        "\"\"\"\n",
        "Note that the indices are shared throughout the different lists, e.g., for the 4th training simulation:\n",
        "simulation_train[3] contains its initial simulation\n",
        "charges_train[3] contains the charges associated with the simulation\n",
        "simulation_continued_train[3] contains the continuation of the simulation \n",
        "                --> simulation_continued_train[3][0] is the state after simulation_train[3][-1]\n",
        "\"\"\"\n",
        "pass"
      ]
    },
    {
      "cell_type": "code",
      "execution_count": 4,
      "id": "10a3438a",
      "metadata": {
        "colab": {
          "base_uri": "https://localhost:8080/"
        },
        "id": "10a3438a",
        "outputId": "153e2191-1630-4eaf-9d3e-2de10c758ce7"
      },
      "outputs": [
        {
          "output_type": "stream",
          "name": "stdout",
          "text": [
            "Overview of no. datapoints:\n",
            "\n",
            "Task 3.1:\n",
            "800 train, 100 validation, 100 test simulations\n",
            "800 train, 100 validation, 100 test charge pairs\n",
            "\n",
            "Task 3.2:\n",
            "Since len(simulation_continued_train) < len(simulation_train), we can only use a subset of initial simulations\n",
            "We cut simulation_train down to the first 150 samples in simulation_train_task32\n",
            "150 train, 100 validation, 100 test simulations\n",
            "150 train, 100 validation, 100 test continuations\n",
            "\n",
            "For task 3.1, use:\n",
            "simulation_train + charges_train\n",
            "simulation_valid + charges_valid\n",
            "simulation_test + charges_test\n",
            "\n",
            "For task 3.2, use:\n",
            "simulation_train_task32 + simulation_continued_train\n",
            "simulation_valid + simulation_continued_valid\n",
            "simulation_test + simulation_continued_test\n",
            "\n"
          ]
        }
      ],
      "source": [
        "print('Overview of no. datapoints:\\n')\n",
        "\n",
        "print('Task 3.1:')\n",
        "print(f'{len(simulation_train)} train, {len(simulation_valid)} validation, {len(simulation_test)} test simulations')\n",
        "print(f'{len(charges_train)} train, {len(charges_valid)} validation, {len(charges_test)} test charge pairs')\n",
        "print()\n",
        "\n",
        "print('Task 3.2:')\n",
        "print('Since len(simulation_continued_train) < len(simulation_train), we can only use a subset of initial simulations')\n",
        "print('We cut simulation_train down to the first 150 samples in simulation_train_task32')\n",
        "simulation_train_task32 = simulation_train[:150]\n",
        "print(f'{len(simulation_train_task32)} train, {len(simulation_valid)} validation, {len(simulation_test)} test simulations')\n",
        "print(f'{len(simulation_continued_train)} train, {len(simulation_continued_valid)} validation, {len(simulation_continued_test)} test continuations')\n",
        "\n",
        "print(f\"\"\"\n",
        "For task 3.1, use:\n",
        "{chr(10).join([\"simulation_{} + charges_{}\".format(t, t) for t in [\"train\", \"valid\", \"test\"]])}\n",
        "\n",
        "For task 3.2, use:\n",
        "{chr(10).join([\"simulation_{} + simulation_continued_{}\".format(*((t[0], t[1]) if isinstance(t, tuple) else (t, t))) for t in [(\"train_task32\", \"train\"), \"valid\", \"test\"]])}\n",
        "\"\"\")\n"
      ]
    },
    {
      "cell_type": "code",
      "source": [
        "simulation_train[0].shape #so 103 simulation time steps, each has (x,y)coordinates specified"
      ],
      "metadata": {
        "colab": {
          "base_uri": "https://localhost:8080/"
        },
        "id": "D81EXIYWc2-o",
        "outputId": "a62b43d9-ca5c-40f1-c275-a4e40b79ceb2"
      },
      "id": "D81EXIYWc2-o",
      "execution_count": 5,
      "outputs": [
        {
          "output_type": "execute_result",
          "data": {
            "text/plain": [
              "(103, 2)"
            ]
          },
          "metadata": {},
          "execution_count": 5
        }
      ]
    },
    {
      "cell_type": "code",
      "source": [
        "charges_train[3] #3 values showing three charges for three particles "
      ],
      "metadata": {
        "colab": {
          "base_uri": "https://localhost:8080/"
        },
        "id": "TVdgAr0NdOpp",
        "outputId": "b96425cb-9e17-42e3-88f3-4a7e04968baf"
      },
      "id": "TVdgAr0NdOpp",
      "execution_count": 6,
      "outputs": [
        {
          "output_type": "execute_result",
          "data": {
            "text/plain": [
              "array([-0.81015605, -0.67512385, -0.16594701])"
            ]
          },
          "metadata": {},
          "execution_count": 6
        }
      ]
    },
    {
      "cell_type": "code",
      "execution_count": 7,
      "id": "3cfafdb3",
      "metadata": {
        "colab": {
          "base_uri": "https://localhost:8080/"
        },
        "id": "3cfafdb3",
        "outputId": "c63c5471-cdfe-43c7-8e01-4fd1f4141f45"
      },
      "outputs": [
        {
          "output_type": "stream",
          "name": "stdout",
          "text": [
            "Print some shapes:\n",
            "\n",
            "simulation_train[0].shape: (103, 2) -> (t, 2), (x, y) at every t)\n",
            "charges_train[0].shape: (3,) -> charges for the simulation\n",
            "simulation_continued_train[0].shape: (54, 2) -> (t, 2), (x, y) at every t)\n",
            "----\n",
            "\n",
            "simulation_train[1].shape: (97, 2) -> (t, 2), (x, y) at every t)\n",
            "charges_train[1].shape: (3,) -> charges for the simulation\n",
            "simulation_continued_train[1].shape: (45, 2) -> (t, 2), (x, y) at every t)\n",
            "----\n",
            "\n",
            "simulation_train[2].shape: (99, 2) -> (t, 2), (x, y) at every t)\n",
            "charges_train[2].shape: (3,) -> charges for the simulation\n",
            "simulation_continued_train[2].shape: (47, 2) -> (t, 2), (x, y) at every t)\n",
            "----\n",
            "\n"
          ]
        }
      ],
      "source": [
        "print('Print some shapes:\\n')\n",
        "for i in range(3):\n",
        "    print('simulation_train[{}].shape:'.format(i), simulation_train[i].shape, '-> (t, 2), (x, y) at every t)')\n",
        "    print('charges_train[{}].shape:'.format(i), charges_train[i].shape, '-> charges for the simulation')\n",
        "    print('simulation_continued_train[{}].shape:'.format(i), simulation_continued_train[i].shape, '-> (t, 2), (x, y) at every t)')\n",
        "    print('----\\n')"
      ]
    },
    {
      "cell_type": "code",
      "execution_count": 8,
      "id": "f9106543",
      "metadata": {
        "id": "f9106543"
      },
      "outputs": [],
      "source": [
        "def plot_example(x, x_gt=None, x_pred=None, fn=None):\n",
        "    charge_locations = np.array([[-1.53846154, -1.53846154],\n",
        "                                 [ 1.53846154, -1.53846154],\n",
        "                                 [ 0.        ,  1.53846154]])  # charge locations are fixed\n",
        "    fig = plt.figure()\n",
        "    axes = plt.gca()\n",
        "    axes.set_xlim([-5., 5.])\n",
        "    axes.set_ylim([-5., 5.])\n",
        "    cmap = matplotlib.cm.get_cmap('tab20')\n",
        "    plt.plot(x[:, 0], x[:, 1], color=cmap(0))\n",
        "    plt.plot(x[0, 0], x[0, 1], 'd', color=cmap(1))\n",
        "    fig.set_size_inches(5, 5)\n",
        "    for charge in charge_locations:\n",
        "        plt.plot(charge[0], charge[1], 'd', color='black')\n",
        "    if x_gt is not None:\n",
        "        plt.plot(x_gt[:, 0], x_gt[:, 1], color='red', linewidth=.5)\n",
        "    if x_pred is not None:\n",
        "        plt.plot(x_pred[:, 0], x_pred[:, 1], color='green', linestyle='--')\n",
        "    if fn is None:\n",
        "        plt.show()\n",
        "    else:\n",
        "        plt.savefig(fn)"
      ]
    },
    {
      "cell_type": "code",
      "execution_count": 9,
      "id": "d28681a6",
      "metadata": {
        "colab": {
          "base_uri": "https://localhost:8080/",
          "height": 337
        },
        "id": "d28681a6",
        "outputId": "9f310b8b-7d41-4af1-e6a7-09de73a85ee1"
      },
      "outputs": [
        {
          "output_type": "display_data",
          "data": {
            "text/plain": [
              "<Figure size 360x360 with 1 Axes>"
            ],
            "image/png": "[encoded data removed]"
          },
          "metadata": {
            "needs_background": "light"
          }
        },
        {
          "output_type": "stream",
          "name": "stdout",
          "text": [
            "Charges are [-0.9547532  -0.16984018 -0.93072181]\n"
          ]
        }
      ],
      "source": [
        "test_idx = np.random.randint(150)\n",
        "plot_example(simulation_train[test_idx], simulation_continued_train[test_idx])\n",
        "print(f'Charges are {charges_train[test_idx]}')"
      ]
    },
    {
      "cell_type": "code",
      "source": [
        "simulation_train[test_idx].shape"
      ],
      "metadata": {
        "id": "4q3EgEAoe0mj",
        "colab": {
          "base_uri": "https://localhost:8080/"
        },
        "outputId": "0837099b-85cd-4359-bb1b-ebee63a30fd7"
      },
      "id": "4q3EgEAoe0mj",
      "execution_count": 10,
      "outputs": [
        {
          "output_type": "execute_result",
          "data": {
            "text/plain": [
              "(94, 2)"
            ]
          },
          "metadata": {},
          "execution_count": 10
        }
      ]
    },
    {
      "cell_type": "code",
      "source": [
        "simulation_train[test_idx][0][0]"
      ],
      "metadata": {
        "colab": {
          "base_uri": "https://localhost:8080/"
        },
        "id": "-8xrnC8vfRS4",
        "outputId": "a62c65a5-d8ac-4838-eccf-1700e0e30b0c"
      },
      "id": "-8xrnC8vfRS4",
      "execution_count": 11,
      "outputs": [
        {
          "output_type": "execute_result",
          "data": {
            "text/plain": [
              "-0.12737266774648764"
            ]
          },
          "metadata": {},
          "execution_count": 11
        }
      ]
    },
    {
      "cell_type": "code",
      "source": [
        "simulation_train[test_idx][:,0] #takes all rows from only first column index 0 is column 1, x coordinate in this case"
      ],
      "metadata": {
        "colab": {
          "base_uri": "https://localhost:8080/"
        },
        "id": "fUQ1U7qSd24q",
        "outputId": "ac04fa81-018a-4a04-c121-de4cdf1f9f8f"
      },
      "id": "fUQ1U7qSd24q",
      "execution_count": 12,
      "outputs": [
        {
          "output_type": "execute_result",
          "data": {
            "text/plain": [
              "array([-0.12737267, -0.12257487, -0.12325074, -0.12968564, -0.14215715,\n",
              "       -0.1609162 , -0.18615895, -0.21798903, -0.25637356, -0.30110123,\n",
              "       -0.35175423, -0.4077043 , -0.46813513, -0.53208296, -0.59848193,\n",
              "       -0.66620181, -0.73407284, -0.80089922, -0.86546815, -0.92656336,\n",
              "       -0.98299212, -1.03363062, -1.07748497, -1.1137548 , -1.14188036,\n",
              "       -1.16155791, -1.17272058, -1.17549462, -1.17014656, -1.15703348,\n",
              "       -1.13656329, -1.10916625, -1.07527645, -1.03532081, -0.98971346,\n",
              "       -0.93885369, -0.8831262 , -0.82290289, -0.75854581, -0.69041085,\n",
              "       -0.61885235, -0.54422879, -0.46690987, -0.38728582, -0.30578018,\n",
              "       -0.22286823, -0.13910499, -0.05517026,  0.02805483,  0.10935017,\n",
              "        0.18689957,  0.25783146,  0.31772405,  0.36168888,  0.38833813,\n",
              "        0.40033812,  0.4008972 ,  0.39230854,  0.37606101,  0.35312399,\n",
              "        0.32413891,  0.28953206,  0.24958051,  0.20445075,  0.15422099,\n",
              "        0.09889295,  0.03839712, -0.02740581, -0.09872398, -0.17583087,\n",
              "       -0.25905568, -0.34876368, -0.44532193, -0.54904438, -0.66011005,\n",
              "       -0.77845239, -0.90363262, -1.03473545, -1.17034597, -1.30864868,\n",
              "       -1.44762571, -1.5852732 , -1.7197595 , -1.84949977, -1.97316455,\n",
              "       -2.08965268, -2.19805173, -2.29759896, -2.38764783, -2.46764157,\n",
              "       -2.53709315, -2.59557096, -2.64268916, -2.6781023 ])"
            ]
          },
          "metadata": {},
          "execution_count": 12
        }
      ]
    },
    {
      "cell_type": "code",
      "source": [
        "simulation_train[test_idx][:,1]  #takes all rows from only second column index 1 is second column, y coordinate value in this case"
      ],
      "metadata": {
        "colab": {
          "base_uri": "https://localhost:8080/"
        },
        "id": "E5dHWJdLfDLg",
        "outputId": "bfbf5e72-2545-45ae-e37b-1b298003915f"
      },
      "id": "E5dHWJdLfDLg",
      "execution_count": 13,
      "outputs": [
        {
          "output_type": "execute_result",
          "data": {
            "text/plain": [
              "array([-2.35773793, -2.24492854, -2.12346142, -1.9937707 , -1.85638894,\n",
              "       -1.7119596 , -1.56124207, -1.40510419, -1.24449664, -1.0804072 ,\n",
              "       -0.91379871, -0.7455423 , -0.57636201, -0.40680478, -0.23724107,\n",
              "       -0.06789279,  0.10111953,  0.26971827,  0.43780494,  0.6051961 ,\n",
              "        0.7715655 ,  0.93640233,  1.09899777,  1.25846824,  1.41381304,\n",
              "        1.56399087,  1.70799353,  1.84489983,  1.97390386,  2.09432098,\n",
              "        2.20557936,  2.30720406,  2.398799  ,  2.48002958,  2.55060718,\n",
              "        2.61027603,  2.65880207,  2.69596359,  2.72154315,  2.73532039,\n",
              "        2.73706528,  2.72653148,  2.70344929,  2.66751792,  2.61839641,\n",
              "        2.55569279,  2.47895108,  2.38763639,  2.28112122,  2.15868649,\n",
              "        2.01958855,  1.86337987,  1.69103243,  1.50710089,  1.31909202,\n",
              "        1.13246833,  0.94932541,  0.77008332,  0.59458525,  0.42251033,\n",
              "        0.25351697,  0.08729438, -0.07641724, -0.23781699, -0.39703653,\n",
              "       -0.55413359, -0.70908499, -0.86177878, -1.01200509, -1.15944432,\n",
              "       -1.30365089, -1.44403061, -1.57981134, -1.71001054, -1.83340985,\n",
              "       -1.94855685, -2.05382209, -2.14753418, -2.22818187, -2.29461992,\n",
              "       -2.34619396, -2.38274258, -2.40450499, -2.41199503, -2.40588826,\n",
              "       -2.38694046, -2.35593669, -2.3136634 , -2.26089569, -2.19839393,\n",
              "       -2.12690575, -2.04717125, -1.95992991, -1.86592839])"
            ]
          },
          "metadata": {},
          "execution_count": 13
        }
      ]
    },
    {
      "cell_type": "code",
      "source": [
        "len(charges_train)\n",
        "charges_train[1].shape"
      ],
      "metadata": {
        "colab": {
          "base_uri": "https://localhost:8080/"
        },
        "id": "pfOttVxzLVA0",
        "outputId": "2fe099d4-a6bc-47f8-ff42-e390bd148d0a"
      },
      "id": "pfOttVxzLVA0",
      "execution_count": 14,
      "outputs": [
        {
          "output_type": "execute_result",
          "data": {
            "text/plain": [
              "(3,)"
            ]
          },
          "metadata": {},
          "execution_count": 14
        }
      ]
    },
    {
      "cell_type": "markdown",
      "id": "883762b1",
      "metadata": {
        "id": "883762b1"
      },
      "source": [
        "# Task 3.1"
      ]
    },
    {
      "cell_type": "markdown",
      "id": "4c1ddabe",
      "metadata": {
        "id": "4c1ddabe"
      },
      "source": [
        "## Data Handling and Preprocessing"
      ]
    },
    {
      "cell_type": "code",
      "source": [
        "import torch\n",
        "from torch.utils.data import DataLoader\n",
        "import torch\n",
        "from torchvision import transforms\n",
        "from torch.utils.data import Dataset, DataLoader,TensorDataset, random_split\n",
        "import numpy as np\n",
        "from PIL import Image\n",
        "from torch.nn.utils.rnn import pad_sequence\n",
        "\n",
        "device=torch.device(\"cuda\" if torch.cuda.is_available()else \"cpu\")\n",
        "\n",
        "class MyDataset(Dataset):\n",
        "  def __init__(self,simulations,charges):\n",
        "\n",
        "    #maximum length of each simulation performed is 110 seconds\n",
        "    max_length=110 \n",
        "\n",
        "    #pad the arrays with zeros so that all sequences have same length\n",
        "    padded_sim=[]\n",
        "    for i in range(len(simulations)):\n",
        "      if len(simulations[i]) != max_length:\n",
        "          x = np.pad(simulations[i],[(0,max_length-len(simulations[i])),(0,0)], 'constant',constant_values = 0) #padding zeros at the end of dimension 1 ie rows \n",
        "      else:\n",
        "          x = simulations[i]\n",
        "      padded_sim.append(x)\n",
        "\n",
        "    data=np.array(padded_sim) #convert list into numpy array data = simulations of all length 110\n",
        "    #shape of data\n",
        "    (n_samples,length,dim)=data.shape\n",
        "    #convert simulations to tensor structure\n",
        "    self.data=torch.FloatTensor(data).view(n_samples,1,-1) #reshape so that \n",
        "    print(\"Dimensions of data\",self.data.shape)\n",
        "    #convert charges to numpy array first\n",
        "    charges=np.array(charges)\n",
        "    self.target=torch.FloatTensor(charges)\n",
        "    print(\"Dimensions of label\",self.target.shape)\n",
        "\n",
        "\n",
        "    # #extract the inputs and targets from the new padded simulations all of shape -> (110,2):(time,2)\n",
        "    # for data in range(len(padded_sim)):\n",
        "    #   for target in range(len(padded_sim[data])):\n",
        "    #     self.data = torch.FloatTensor(padded_sim[target])\n",
        "    #     self.target = torch.FloatTensor(charges[target])\n",
        "\n",
        "\n",
        "  def __getitem__(self, index):\n",
        "    X=self.data[index]\n",
        "    Y=self.target[index]\n",
        "    return X,Y\n",
        "\n",
        "  def __len__(self):\n",
        "    return len(self.data)\n",
        "\n",
        "    \n"
      ],
      "metadata": {
        "id": "E0yMwslaDwe8"
      },
      "id": "E0yMwslaDwe8",
      "execution_count": 15,
      "outputs": []
    },
    {
      "cell_type": "code",
      "execution_count": 61,
      "id": "7dd9b7c1",
      "metadata": {
        "id": "7dd9b7c1",
        "colab": {
          "base_uri": "https://localhost:8080/"
        },
        "outputId": "d1314925-2e0f-4457-f953-7151a43fb0e2"
      },
      "outputs": [
        {
          "output_type": "stream",
          "name": "stdout",
          "text": [
            "Dimensions of data torch.Size([800, 1, 220])\n",
            "Dimensions of label torch.Size([800, 3])\n",
            "Dimensions of data torch.Size([100, 1, 220])\n",
            "Dimensions of label torch.Size([100, 3])\n",
            "Dimensions of data torch.Size([100, 1, 220])\n",
            "Dimensions of label torch.Size([100, 3])\n"
          ]
        }
      ],
      "source": [
        "train_dataset=MyDataset(simulation_train,charges_train)\n",
        "val_dataset = MyDataset(simulation_valid,charges_valid)\n",
        "test_dataset=MyDataset(simulation_test,charges_test)\n",
        "test_loader=torch.utils.data.DataLoader(test_dataset, batch_size=10)\n",
        "train_loader = torch.utils.data.DataLoader(train_dataset, batch_size=16)\n",
        "val_loader = torch.utils.data.DataLoader(val_dataset, batch_size=16)\n"
      ]
    },
    {
      "cell_type": "code",
      "source": [
        "#check how 3rd sample of train dataset looks like\n",
        "X,Y=test_dataset[2]\n",
        "print(X)\n",
        "print(Y)"
      ],
      "metadata": {
        "colab": {
          "base_uri": "https://localhost:8080/"
        },
        "id": "kA-WxqMCnOsV",
        "outputId": "988f5eb7-afba-4065-93a6-66f5d03e93eb"
      },
      "id": "kA-WxqMCnOsV",
      "execution_count": 40,
      "outputs": [
        {
          "output_type": "stream",
          "name": "stdout",
          "text": [
            "tensor([[ 2.3561, -0.1385,  2.2400, -0.1432,  2.1133, -0.1518,  1.9764, -0.1643,\n",
            "          1.8296, -0.1809,  1.6734, -0.2017,  1.5086, -0.2269,  1.3358, -0.2562,\n",
            "          1.1560, -0.2896,  0.9701, -0.3266,  0.7792, -0.3667,  0.5840, -0.4095,\n",
            "          0.3855, -0.4544,  0.1842, -0.5009, -0.0191, -0.5488, -0.2242, -0.5981,\n",
            "         -0.4307, -0.6488, -0.6382, -0.7016, -0.8466, -0.7571, -1.0554, -0.8164,\n",
            "         -1.2639, -0.8811, -1.4706, -0.9532, -1.6726, -1.0344, -1.8650, -1.1252,\n",
            "         -2.0435, -1.2232, -2.2055, -1.3249, -2.3508, -1.4271, -2.4798, -1.5280,\n",
            "         -2.5931, -1.6260, -2.6913, -1.7203, -2.7752, -1.8102, -2.8451, -1.8954,\n",
            "         -2.9016, -1.9753, -2.9450, -2.0497, -2.9756, -2.1184, -2.9937, -2.1811,\n",
            "         -2.9996, -2.2375, -2.9933, -2.2875, -2.9752, -2.3309, -2.9452, -2.3674,\n",
            "         -2.9037, -2.3967, -2.8505, -2.4187, -2.7859, -2.4330, -2.7098, -2.4393,\n",
            "         -2.6224, -2.4373, -2.5236, -2.4265, -2.4135, -2.4065, -2.2921, -2.3767,\n",
            "         -2.1595, -2.3363, -2.0160, -2.2845, -1.8618, -2.2201, -1.6977, -2.1417,\n",
            "         -1.5254, -2.0474, -1.3484, -1.9358, -1.1722, -1.8073, -1.0016, -1.6662,\n",
            "         -0.8379, -1.5178, -0.6802, -1.3655, -0.5269, -1.2113, -0.3771, -1.0562,\n",
            "         -0.2298, -0.9009, -0.0845, -0.7459,  0.0589, -0.5917,  0.2004, -0.4386,\n",
            "          0.3397, -0.2870,  0.4762, -0.1373,  0.6092,  0.0105,  0.7379,  0.1559,\n",
            "          0.8612,  0.2988,  0.9783,  0.4389,  1.0884,  0.5757,  1.1906,  0.7089,\n",
            "          1.2845,  0.8381,  1.3695,  0.9626,  1.4454,  1.0821,  1.5119,  1.1961,\n",
            "          1.5690,  1.3042,  1.6167,  1.4059,  1.6550,  1.5011,  1.6839,  1.5894,\n",
            "          1.7036,  1.6705,  1.7140,  1.7442,  1.7155,  1.8103,  1.7079,  1.8686,\n",
            "          1.6915,  1.9190,  1.6663,  1.9613,  1.6324,  1.9952,  1.5898,  2.0207,\n",
            "          1.5386,  2.0376,  1.4789,  2.0457,  1.4107,  2.0449,  1.3339,  2.0349,\n",
            "          1.2486,  2.0157,  1.1546,  1.9870,  1.0520,  1.9486,  0.0000,  0.0000,\n",
            "          0.0000,  0.0000,  0.0000,  0.0000,  0.0000,  0.0000,  0.0000,  0.0000,\n",
            "          0.0000,  0.0000,  0.0000,  0.0000,  0.0000,  0.0000,  0.0000,  0.0000,\n",
            "          0.0000,  0.0000,  0.0000,  0.0000,  0.0000,  0.0000,  0.0000,  0.0000,\n",
            "          0.0000,  0.0000,  0.0000,  0.0000]])\n",
            "tensor([-0.9585, -0.6792, -0.7583])\n"
          ]
        }
      ]
    },
    {
      "cell_type": "code",
      "source": [
        "input_dim = next(iter(train_loader))[0].shape[2]\n",
        "input_dim"
      ],
      "metadata": {
        "colab": {
          "base_uri": "https://localhost:8080/"
        },
        "id": "WjBSTAc4u1av",
        "outputId": "60466fc4-2ac9-4042-f3db-591923b6704e"
      },
      "id": "WjBSTAc4u1av",
      "execution_count": 18,
      "outputs": [
        {
          "output_type": "execute_result",
          "data": {
            "text/plain": [
              "220"
            ]
          },
          "metadata": {},
          "execution_count": 18
        }
      ]
    },
    {
      "cell_type": "markdown",
      "id": "cc8853f6",
      "metadata": {
        "id": "cc8853f6"
      },
      "source": [
        "## Model Implementation"
      ]
    },
    {
      "cell_type": "code",
      "source": [
        "#3.1 task adapted from A2 implementation\n",
        "from torch import nn\n",
        "class LSTM_a2(nn.Module):\n",
        "  def __init__(self,input_dim,hidden_dim,output_dim,device):\n",
        "    super(LSTM_a2,self).__init__()\n",
        "\n",
        "    self.input_dim=input_dim\n",
        "    self.hidden_dim=hidden_dim\n",
        "    self.device=device\n",
        "\n",
        "    self.rnn=nn.LSTMCell(input_dim,hidden_dim)\n",
        "    self.fc1=nn.Linear(hidden_dim,hidden_dim)\n",
        "    self.fc2=nn.Linear(hidden_dim,output_dim)\n",
        "\n",
        "    self.criterion=nn.MSELoss()\n",
        "    #self.optimizer=torch.optim.Adam(self.parameters())\n",
        "  \n",
        "  def forward(self,batch_input):\n",
        "\n",
        "    #shape of input , batch_input: [batch_size, 1,seq_length]\n",
        "    #generate random initial hidden and cell states\n",
        "    hidden_0=torch.randn(batch_input.shape[0],self.hidden_dim).to(self.device)\n",
        "    c_0=torch.randn(batch_input.shape[0],self.hidden_dim).to(self.device)\n",
        "    for i in range(0,220,2):\n",
        "             hidden_1,c_1 = self.rnn(batch_input[:,0,i:i+2],(hidden_0,c_0))\n",
        "            \n",
        "\n",
        "    \n",
        "    h1=nn.ReLU()(self.fc1(hidden_1))\n",
        "    out1=self.fc2(h1)\n",
        "    \n",
        "    return out1\n",
        "\n",
        "  \n",
        "\n",
        "\n"
      ],
      "metadata": {
        "id": "umRscaa2y79N"
      },
      "id": "umRscaa2y79N",
      "execution_count": 19,
      "outputs": []
    },
    {
      "cell_type": "code",
      "source": [
        "model=LSTM_a2(2,256,3,device='cpu')"
      ],
      "metadata": {
        "id": "G6TziwxBwzy2"
      },
      "id": "G6TziwxBwzy2",
      "execution_count": 20,
      "outputs": []
    },
    {
      "cell_type": "code",
      "source": [
        "#todo\n",
        "def save_model_checkpoint(path, model, optimizer, val_loss, val_acc, train_acc, train_loss ):\n",
        "    if path == None:\n",
        "        return print(\"Kindly define a path\")\n",
        "    path = path\n",
        "    \n",
        "    save_dict = {\"model_dict\" : model.state_dict(), \n",
        "                 \"optimizer_dict\": optimizer.state_dict(),\n",
        "                 \"val_loss_dict\": val_loss,\n",
        "                 \"val_acc_dict\": val_acc,\n",
        "                 \"train_acc_dict\": train_acc,\n",
        "                 \"train_loss_dict\": train_loss}\n",
        "    torch.save(save_dict, path)\n",
        "    return print(\"Model Saved to ==> {}\".format(path))"
      ],
      "metadata": {
        "id": "y_lk37H4ww-d"
      },
      "id": "y_lk37H4ww-d",
      "execution_count": 21,
      "outputs": []
    },
    {
      "cell_type": "code",
      "source": [
        "# training and validation after every epoch\n",
        "def train(model, train_loader, val_loader, criterion,num_epochs, save_name):\n",
        "    best_val_loss = float(\"Inf\") \n",
        "    train_losses = []\n",
        "    val_losses = []\n",
        "    train_acc = []\n",
        "    val_acc = []\n",
        "    cur_step = 0\n",
        "    train_pred = []\n",
        "    val_pred = []\n",
        "\n",
        "    for epoch in range(num_epochs):\n",
        "        running_loss = 0.0\n",
        "        running_train_acc = 0.0\n",
        "  \n",
        "        model.train()\n",
        "        print(\"Starting epoch \" + str(epoch+1))\n",
        "        for train_data, targets in train_loader:\n",
        "            \n",
        "           \n",
        "            # Forward\n",
        "            input_tensor = train_data.to(device)\n",
        "            outputs = model.forward(input_tensor)\n",
        "            loss = criterion(outputs,targets.to(device))\n",
        "            # loss = loss/60\n",
        "                \n",
        "            # Backward and optimize\n",
        "            optimizer.zero_grad()\n",
        "            loss.backward()\n",
        "            optimizer.step()   \n",
        "            running_loss += loss\n",
        "          \n",
        "\n",
        "        avg_train_loss = running_loss / len(train_loader)\n",
        "        train_losses.append(avg_train_loss)\n",
        "        print(\"Train Pass Completed\")\n",
        "\n",
        "        ########################################|Validation Set|#############################################\n",
        "        val_running_loss = 0.0\n",
        "        with torch.no_grad():\n",
        "            model.eval()\n",
        "            for val_data, val_targets in val_loader:\n",
        "                input_tensor = val_data.to(device)\n",
        "                outputs = model.forward(input_tensor)\n",
        "                loss = criterion(outputs,val_targets.to(device))\n",
        "                # loss = loss/60\n",
        "                val_running_loss += loss\n",
        "\n",
        "        avg_val_loss = val_running_loss / len(val_loader)\n",
        "        val_losses.append(avg_val_loss)\n",
        "\n",
        "        \n",
        "        print('Epoch [{}/{}],Train Loss: {:.4f}, Valid Loss: {:.8f}' \n",
        "            .format(epoch+1, num_epochs, avg_train_loss, avg_val_loss))\n",
        "        if avg_val_loss < best_val_loss:\n",
        "            best_val_loss = avg_val_loss \n",
        "            save_model_checkpoint(save_name, model, optimizer, best_val_loss, 0, 0, avg_train_loss )\n",
        "    \n",
        "    print(\"Finished Training\") \n",
        "    return train_losses, val_losses\n",
        "     "
      ],
      "metadata": {
        "id": "8g4bFhvNw0Yl"
      },
      "id": "8g4bFhvNw0Yl",
      "execution_count": 25,
      "outputs": []
    },
    {
      "cell_type": "code",
      "source": [
        "#optimizer = torch.optim.SGD(model.parameters(), lr=0.01, momentum=0.9)\n",
        "optimizer = torch.optim.Adam(model.parameters(), lr= 1e-4, weight_decay = 0.01)\n",
        "num_epochs = 300\n",
        "save_name = f'LSTM_1.pt'\n",
        "criterion = nn.MSELoss()\n",
        "# batch_size=32\n",
        "obtained_train_loss, obtained_val_loss = train(model, \n",
        "                                                      train_loader, val_loader, criterion, num_epochs, save_name)"
      ],
      "metadata": {
        "colab": {
          "base_uri": "https://localhost:8080/"
        },
        "id": "rmqw18Yfw6g2",
        "outputId": "03edce63-9560-4508-9561-10727cda8dc3"
      },
      "id": "rmqw18Yfw6g2",
      "execution_count": 26,
      "outputs": [
        {
          "output_type": "stream",
          "name": "stdout",
          "text": [
            "Starting epoch 1\n",
            "Train Pass Completed\n",
            "Epoch [1/300],Train Loss: 0.2168, Valid Loss: 0.21318524\n",
            "Model Saved to ==> LSTM_1.pt\n",
            "Starting epoch 2\n",
            "Train Pass Completed\n",
            "Epoch [2/300],Train Loss: 0.1728, Valid Loss: 0.16879085\n",
            "Model Saved to ==> LSTM_1.pt\n",
            "Starting epoch 3\n",
            "Train Pass Completed\n",
            "Epoch [3/300],Train Loss: 0.1393, Valid Loss: 0.14615776\n",
            "Model Saved to ==> LSTM_1.pt\n",
            "Starting epoch 4\n",
            "Train Pass Completed\n",
            "Epoch [4/300],Train Loss: 0.1187, Valid Loss: 0.12341139\n",
            "Model Saved to ==> LSTM_1.pt\n",
            "Starting epoch 5\n",
            "Train Pass Completed\n",
            "Epoch [5/300],Train Loss: 0.1040, Valid Loss: 0.11137002\n",
            "Model Saved to ==> LSTM_1.pt\n",
            "Starting epoch 6\n",
            "Train Pass Completed\n",
            "Epoch [6/300],Train Loss: 0.0967, Valid Loss: 0.10459571\n",
            "Model Saved to ==> LSTM_1.pt\n",
            "Starting epoch 7\n",
            "Train Pass Completed\n",
            "Epoch [7/300],Train Loss: 0.0927, Valid Loss: 0.10135664\n",
            "Model Saved to ==> LSTM_1.pt\n",
            "Starting epoch 8\n",
            "Train Pass Completed\n",
            "Epoch [8/300],Train Loss: 0.0891, Valid Loss: 0.10063646\n",
            "Model Saved to ==> LSTM_1.pt\n",
            "Starting epoch 9\n",
            "Train Pass Completed\n",
            "Epoch [9/300],Train Loss: 0.0895, Valid Loss: 0.10069520\n",
            "Starting epoch 10\n",
            "Train Pass Completed\n",
            "Epoch [10/300],Train Loss: 0.0876, Valid Loss: 0.09629514\n",
            "Model Saved to ==> LSTM_1.pt\n",
            "Starting epoch 11\n",
            "Train Pass Completed\n",
            "Epoch [11/300],Train Loss: 0.0874, Valid Loss: 0.09403106\n",
            "Model Saved to ==> LSTM_1.pt\n",
            "Starting epoch 12\n",
            "Train Pass Completed\n",
            "Epoch [12/300],Train Loss: 0.0861, Valid Loss: 0.09538882\n",
            "Starting epoch 13\n",
            "Train Pass Completed\n",
            "Epoch [13/300],Train Loss: 0.0873, Valid Loss: 0.09332629\n",
            "Model Saved to ==> LSTM_1.pt\n",
            "Starting epoch 14\n",
            "Train Pass Completed\n",
            "Epoch [14/300],Train Loss: 0.0853, Valid Loss: 0.09691066\n",
            "Starting epoch 15\n",
            "Train Pass Completed\n",
            "Epoch [15/300],Train Loss: 0.0846, Valid Loss: 0.09889201\n",
            "Starting epoch 16\n",
            "Train Pass Completed\n",
            "Epoch [16/300],Train Loss: 0.0854, Valid Loss: 0.09269919\n",
            "Model Saved to ==> LSTM_1.pt\n",
            "Starting epoch 17\n",
            "Train Pass Completed\n",
            "Epoch [17/300],Train Loss: 0.0834, Valid Loss: 0.09557782\n",
            "Starting epoch 18\n",
            "Train Pass Completed\n",
            "Epoch [18/300],Train Loss: 0.0848, Valid Loss: 0.09642429\n",
            "Starting epoch 19\n",
            "Train Pass Completed\n",
            "Epoch [19/300],Train Loss: 0.0846, Valid Loss: 0.09522862\n",
            "Starting epoch 20\n",
            "Train Pass Completed\n",
            "Epoch [20/300],Train Loss: 0.0834, Valid Loss: 0.09208591\n",
            "Model Saved to ==> LSTM_1.pt\n",
            "Starting epoch 21\n",
            "Train Pass Completed\n",
            "Epoch [21/300],Train Loss: 0.0830, Valid Loss: 0.09345599\n",
            "Starting epoch 22\n",
            "Train Pass Completed\n",
            "Epoch [22/300],Train Loss: 0.0841, Valid Loss: 0.09258641\n",
            "Starting epoch 23\n",
            "Train Pass Completed\n",
            "Epoch [23/300],Train Loss: 0.0838, Valid Loss: 0.09126484\n",
            "Model Saved to ==> LSTM_1.pt\n",
            "Starting epoch 24\n",
            "Train Pass Completed\n",
            "Epoch [24/300],Train Loss: 0.0834, Valid Loss: 0.09107941\n",
            "Model Saved to ==> LSTM_1.pt\n",
            "Starting epoch 25\n",
            "Train Pass Completed\n",
            "Epoch [25/300],Train Loss: 0.0831, Valid Loss: 0.09156545\n",
            "Starting epoch 26\n",
            "Train Pass Completed\n",
            "Epoch [26/300],Train Loss: 0.0829, Valid Loss: 0.09416666\n",
            "Starting epoch 27\n",
            "Train Pass Completed\n",
            "Epoch [27/300],Train Loss: 0.0829, Valid Loss: 0.09120091\n",
            "Starting epoch 28\n",
            "Train Pass Completed\n",
            "Epoch [28/300],Train Loss: 0.0831, Valid Loss: 0.09273558\n",
            "Starting epoch 29\n",
            "Train Pass Completed\n",
            "Epoch [29/300],Train Loss: 0.0825, Valid Loss: 0.09056220\n",
            "Model Saved to ==> LSTM_1.pt\n",
            "Starting epoch 30\n",
            "Train Pass Completed\n",
            "Epoch [30/300],Train Loss: 0.0825, Valid Loss: 0.09262999\n",
            "Starting epoch 31\n",
            "Train Pass Completed\n",
            "Epoch [31/300],Train Loss: 0.0825, Valid Loss: 0.09243714\n",
            "Starting epoch 32\n",
            "Train Pass Completed\n",
            "Epoch [32/300],Train Loss: 0.0828, Valid Loss: 0.09241503\n",
            "Starting epoch 33\n",
            "Train Pass Completed\n",
            "Epoch [33/300],Train Loss: 0.0833, Valid Loss: 0.09119462\n",
            "Starting epoch 34\n",
            "Train Pass Completed\n",
            "Epoch [34/300],Train Loss: 0.0830, Valid Loss: 0.09277061\n",
            "Starting epoch 35\n",
            "Train Pass Completed\n",
            "Epoch [35/300],Train Loss: 0.0832, Valid Loss: 0.09115250\n",
            "Starting epoch 36\n",
            "Train Pass Completed\n",
            "Epoch [36/300],Train Loss: 0.0826, Valid Loss: 0.09249673\n",
            "Starting epoch 37\n",
            "Train Pass Completed\n",
            "Epoch [37/300],Train Loss: 0.0831, Valid Loss: 0.08989066\n",
            "Model Saved to ==> LSTM_1.pt\n",
            "Starting epoch 38\n",
            "Train Pass Completed\n",
            "Epoch [38/300],Train Loss: 0.0826, Valid Loss: 0.09101745\n",
            "Starting epoch 39\n",
            "Train Pass Completed\n",
            "Epoch [39/300],Train Loss: 0.0829, Valid Loss: 0.09189744\n",
            "Starting epoch 40\n",
            "Train Pass Completed\n",
            "Epoch [40/300],Train Loss: 0.0827, Valid Loss: 0.09172089\n",
            "Starting epoch 41\n",
            "Train Pass Completed\n",
            "Epoch [41/300],Train Loss: 0.0828, Valid Loss: 0.09152360\n",
            "Starting epoch 42\n",
            "Train Pass Completed\n",
            "Epoch [42/300],Train Loss: 0.0826, Valid Loss: 0.09237271\n",
            "Starting epoch 43\n",
            "Train Pass Completed\n",
            "Epoch [43/300],Train Loss: 0.0832, Valid Loss: 0.09282087\n",
            "Starting epoch 44\n",
            "Train Pass Completed\n",
            "Epoch [44/300],Train Loss: 0.0830, Valid Loss: 0.09262977\n",
            "Starting epoch 45\n",
            "Train Pass Completed\n",
            "Epoch [45/300],Train Loss: 0.0832, Valid Loss: 0.09254314\n",
            "Starting epoch 46\n",
            "Train Pass Completed\n",
            "Epoch [46/300],Train Loss: 0.0830, Valid Loss: 0.09260906\n",
            "Starting epoch 47\n",
            "Train Pass Completed\n",
            "Epoch [47/300],Train Loss: 0.0827, Valid Loss: 0.09187246\n",
            "Starting epoch 48\n",
            "Train Pass Completed\n",
            "Epoch [48/300],Train Loss: 0.0834, Valid Loss: 0.09226698\n",
            "Starting epoch 49\n",
            "Train Pass Completed\n",
            "Epoch [49/300],Train Loss: 0.0823, Valid Loss: 0.09204144\n",
            "Starting epoch 50\n",
            "Train Pass Completed\n",
            "Epoch [50/300],Train Loss: 0.0828, Valid Loss: 0.09305196\n",
            "Starting epoch 51\n",
            "Train Pass Completed\n",
            "Epoch [51/300],Train Loss: 0.0835, Valid Loss: 0.09229970\n",
            "Starting epoch 52\n",
            "Train Pass Completed\n",
            "Epoch [52/300],Train Loss: 0.0831, Valid Loss: 0.09191618\n",
            "Starting epoch 53\n",
            "Train Pass Completed\n",
            "Epoch [53/300],Train Loss: 0.0829, Valid Loss: 0.09111134\n",
            "Starting epoch 54\n",
            "Train Pass Completed\n",
            "Epoch [54/300],Train Loss: 0.0826, Valid Loss: 0.09189689\n",
            "Starting epoch 55\n",
            "Train Pass Completed\n",
            "Epoch [55/300],Train Loss: 0.0824, Valid Loss: 0.09146626\n",
            "Starting epoch 56\n",
            "Train Pass Completed\n",
            "Epoch [56/300],Train Loss: 0.0828, Valid Loss: 0.09275009\n",
            "Starting epoch 57\n",
            "Train Pass Completed\n",
            "Epoch [57/300],Train Loss: 0.0826, Valid Loss: 0.09157310\n",
            "Starting epoch 58\n",
            "Train Pass Completed\n",
            "Epoch [58/300],Train Loss: 0.0825, Valid Loss: 0.09212226\n",
            "Starting epoch 59\n",
            "Train Pass Completed\n",
            "Epoch [59/300],Train Loss: 0.0828, Valid Loss: 0.09132612\n",
            "Starting epoch 60\n",
            "Train Pass Completed\n",
            "Epoch [60/300],Train Loss: 0.0828, Valid Loss: 0.09137742\n",
            "Starting epoch 61\n",
            "Train Pass Completed\n",
            "Epoch [61/300],Train Loss: 0.0827, Valid Loss: 0.09102622\n",
            "Starting epoch 62\n",
            "Train Pass Completed\n",
            "Epoch [62/300],Train Loss: 0.0830, Valid Loss: 0.09228915\n",
            "Starting epoch 63\n",
            "Train Pass Completed\n",
            "Epoch [63/300],Train Loss: 0.0824, Valid Loss: 0.09239835\n",
            "Starting epoch 64\n",
            "Train Pass Completed\n",
            "Epoch [64/300],Train Loss: 0.0828, Valid Loss: 0.09181942\n",
            "Starting epoch 65\n",
            "Train Pass Completed\n",
            "Epoch [65/300],Train Loss: 0.0827, Valid Loss: 0.09116682\n",
            "Starting epoch 66\n",
            "Train Pass Completed\n",
            "Epoch [66/300],Train Loss: 0.0829, Valid Loss: 0.09201957\n",
            "Starting epoch 67\n",
            "Train Pass Completed\n",
            "Epoch [67/300],Train Loss: 0.0828, Valid Loss: 0.09273773\n",
            "Starting epoch 68\n",
            "Train Pass Completed\n",
            "Epoch [68/300],Train Loss: 0.0827, Valid Loss: 0.09282305\n",
            "Starting epoch 69\n",
            "Train Pass Completed\n",
            "Epoch [69/300],Train Loss: 0.0824, Valid Loss: 0.09256972\n",
            "Starting epoch 70\n",
            "Train Pass Completed\n",
            "Epoch [70/300],Train Loss: 0.0827, Valid Loss: 0.09198173\n",
            "Starting epoch 71\n",
            "Train Pass Completed\n",
            "Epoch [71/300],Train Loss: 0.0825, Valid Loss: 0.09205472\n",
            "Starting epoch 72\n",
            "Train Pass Completed\n",
            "Epoch [72/300],Train Loss: 0.0835, Valid Loss: 0.09208221\n",
            "Starting epoch 73\n",
            "Train Pass Completed\n",
            "Epoch [73/300],Train Loss: 0.0828, Valid Loss: 0.09166382\n",
            "Starting epoch 74\n",
            "Train Pass Completed\n",
            "Epoch [74/300],Train Loss: 0.0829, Valid Loss: 0.09084598\n",
            "Starting epoch 75\n",
            "Train Pass Completed\n",
            "Epoch [75/300],Train Loss: 0.0831, Valid Loss: 0.09213474\n",
            "Starting epoch 76\n",
            "Train Pass Completed\n",
            "Epoch [76/300],Train Loss: 0.0825, Valid Loss: 0.09277289\n",
            "Starting epoch 77\n",
            "Train Pass Completed\n",
            "Epoch [77/300],Train Loss: 0.0826, Valid Loss: 0.09120744\n",
            "Starting epoch 78\n",
            "Train Pass Completed\n",
            "Epoch [78/300],Train Loss: 0.0826, Valid Loss: 0.09182759\n",
            "Starting epoch 79\n",
            "Train Pass Completed\n",
            "Epoch [79/300],Train Loss: 0.0823, Valid Loss: 0.09175856\n",
            "Starting epoch 80\n",
            "Train Pass Completed\n",
            "Epoch [80/300],Train Loss: 0.0832, Valid Loss: 0.09238420\n",
            "Starting epoch 81\n",
            "Train Pass Completed\n",
            "Epoch [81/300],Train Loss: 0.0831, Valid Loss: 0.09233079\n",
            "Starting epoch 82\n",
            "Train Pass Completed\n",
            "Epoch [82/300],Train Loss: 0.0825, Valid Loss: 0.09139733\n",
            "Starting epoch 83\n",
            "Train Pass Completed\n",
            "Epoch [83/300],Train Loss: 0.0830, Valid Loss: 0.09176477\n",
            "Starting epoch 84\n",
            "Train Pass Completed\n",
            "Epoch [84/300],Train Loss: 0.0825, Valid Loss: 0.09170448\n",
            "Starting epoch 85\n",
            "Train Pass Completed\n",
            "Epoch [85/300],Train Loss: 0.0828, Valid Loss: 0.09363176\n",
            "Starting epoch 86\n",
            "Train Pass Completed\n",
            "Epoch [86/300],Train Loss: 0.0823, Valid Loss: 0.09131442\n",
            "Starting epoch 87\n",
            "Train Pass Completed\n",
            "Epoch [87/300],Train Loss: 0.0831, Valid Loss: 0.09210277\n",
            "Starting epoch 88\n",
            "Train Pass Completed\n",
            "Epoch [88/300],Train Loss: 0.0829, Valid Loss: 0.09232136\n",
            "Starting epoch 89\n",
            "Train Pass Completed\n",
            "Epoch [89/300],Train Loss: 0.0827, Valid Loss: 0.09286303\n",
            "Starting epoch 90\n",
            "Train Pass Completed\n",
            "Epoch [90/300],Train Loss: 0.0827, Valid Loss: 0.09192044\n",
            "Starting epoch 91\n",
            "Train Pass Completed\n",
            "Epoch [91/300],Train Loss: 0.0826, Valid Loss: 0.09161763\n",
            "Starting epoch 92\n",
            "Train Pass Completed\n",
            "Epoch [92/300],Train Loss: 0.0827, Valid Loss: 0.09144457\n",
            "Starting epoch 93\n",
            "Train Pass Completed\n",
            "Epoch [93/300],Train Loss: 0.0826, Valid Loss: 0.09339540\n",
            "Starting epoch 94\n",
            "Train Pass Completed\n",
            "Epoch [94/300],Train Loss: 0.0822, Valid Loss: 0.09272783\n",
            "Starting epoch 95\n",
            "Train Pass Completed\n",
            "Epoch [95/300],Train Loss: 0.0828, Valid Loss: 0.09014017\n",
            "Starting epoch 96\n",
            "Train Pass Completed\n",
            "Epoch [96/300],Train Loss: 0.0827, Valid Loss: 0.09119312\n",
            "Starting epoch 97\n",
            "Train Pass Completed\n",
            "Epoch [97/300],Train Loss: 0.0826, Valid Loss: 0.09162788\n",
            "Starting epoch 98\n",
            "Train Pass Completed\n",
            "Epoch [98/300],Train Loss: 0.0824, Valid Loss: 0.09174623\n",
            "Starting epoch 99\n",
            "Train Pass Completed\n",
            "Epoch [99/300],Train Loss: 0.0826, Valid Loss: 0.09104488\n",
            "Starting epoch 100\n",
            "Train Pass Completed\n",
            "Epoch [100/300],Train Loss: 0.0824, Valid Loss: 0.09227641\n",
            "Starting epoch 101\n",
            "Train Pass Completed\n",
            "Epoch [101/300],Train Loss: 0.0829, Valid Loss: 0.09126295\n",
            "Starting epoch 102\n",
            "Train Pass Completed\n",
            "Epoch [102/300],Train Loss: 0.0830, Valid Loss: 0.09275617\n",
            "Starting epoch 103\n",
            "Train Pass Completed\n",
            "Epoch [103/300],Train Loss: 0.0826, Valid Loss: 0.09223636\n",
            "Starting epoch 104\n",
            "Train Pass Completed\n",
            "Epoch [104/300],Train Loss: 0.0830, Valid Loss: 0.09109654\n",
            "Starting epoch 105\n",
            "Train Pass Completed\n",
            "Epoch [105/300],Train Loss: 0.0828, Valid Loss: 0.09170824\n",
            "Starting epoch 106\n",
            "Train Pass Completed\n",
            "Epoch [106/300],Train Loss: 0.0827, Valid Loss: 0.09225968\n",
            "Starting epoch 107\n",
            "Train Pass Completed\n",
            "Epoch [107/300],Train Loss: 0.0827, Valid Loss: 0.09126924\n",
            "Starting epoch 108\n",
            "Train Pass Completed\n",
            "Epoch [108/300],Train Loss: 0.0830, Valid Loss: 0.09196464\n",
            "Starting epoch 109\n",
            "Train Pass Completed\n",
            "Epoch [109/300],Train Loss: 0.0826, Valid Loss: 0.09327264\n",
            "Starting epoch 110\n",
            "Train Pass Completed\n",
            "Epoch [110/300],Train Loss: 0.0829, Valid Loss: 0.09187251\n",
            "Starting epoch 111\n",
            "Train Pass Completed\n",
            "Epoch [111/300],Train Loss: 0.0826, Valid Loss: 0.09343950\n",
            "Starting epoch 112\n",
            "Train Pass Completed\n",
            "Epoch [112/300],Train Loss: 0.0825, Valid Loss: 0.09139246\n",
            "Starting epoch 113\n",
            "Train Pass Completed\n",
            "Epoch [113/300],Train Loss: 0.0829, Valid Loss: 0.09247617\n",
            "Starting epoch 114\n",
            "Train Pass Completed\n",
            "Epoch [114/300],Train Loss: 0.0826, Valid Loss: 0.09144606\n",
            "Starting epoch 115\n",
            "Train Pass Completed\n",
            "Epoch [115/300],Train Loss: 0.0830, Valid Loss: 0.09302087\n",
            "Starting epoch 116\n",
            "Train Pass Completed\n",
            "Epoch [116/300],Train Loss: 0.0824, Valid Loss: 0.09124808\n",
            "Starting epoch 117\n",
            "Train Pass Completed\n",
            "Epoch [117/300],Train Loss: 0.0828, Valid Loss: 0.09328372\n",
            "Starting epoch 118\n",
            "Train Pass Completed\n",
            "Epoch [118/300],Train Loss: 0.0826, Valid Loss: 0.09088099\n",
            "Starting epoch 119\n",
            "Train Pass Completed\n",
            "Epoch [119/300],Train Loss: 0.0826, Valid Loss: 0.09305304\n",
            "Starting epoch 120\n",
            "Train Pass Completed\n",
            "Epoch [120/300],Train Loss: 0.0826, Valid Loss: 0.09237371\n",
            "Starting epoch 121\n",
            "Train Pass Completed\n",
            "Epoch [121/300],Train Loss: 0.0827, Valid Loss: 0.09265654\n",
            "Starting epoch 122\n",
            "Train Pass Completed\n",
            "Epoch [122/300],Train Loss: 0.0825, Valid Loss: 0.09133001\n",
            "Starting epoch 123\n",
            "Train Pass Completed\n",
            "Epoch [123/300],Train Loss: 0.0826, Valid Loss: 0.09196092\n",
            "Starting epoch 124\n",
            "Train Pass Completed\n",
            "Epoch [124/300],Train Loss: 0.0831, Valid Loss: 0.09190995\n",
            "Starting epoch 125\n",
            "Train Pass Completed\n",
            "Epoch [125/300],Train Loss: 0.0823, Valid Loss: 0.09248861\n",
            "Starting epoch 126\n",
            "Train Pass Completed\n",
            "Epoch [126/300],Train Loss: 0.0827, Valid Loss: 0.09139299\n",
            "Starting epoch 127\n",
            "Train Pass Completed\n",
            "Epoch [127/300],Train Loss: 0.0829, Valid Loss: 0.09219723\n",
            "Starting epoch 128\n",
            "Train Pass Completed\n",
            "Epoch [128/300],Train Loss: 0.0822, Valid Loss: 0.09244318\n",
            "Starting epoch 129\n",
            "Train Pass Completed\n",
            "Epoch [129/300],Train Loss: 0.0831, Valid Loss: 0.09176487\n",
            "Starting epoch 130\n",
            "Train Pass Completed\n",
            "Epoch [130/300],Train Loss: 0.0827, Valid Loss: 0.09279928\n",
            "Starting epoch 131\n",
            "Train Pass Completed\n",
            "Epoch [131/300],Train Loss: 0.0827, Valid Loss: 0.09074239\n",
            "Starting epoch 132\n",
            "Train Pass Completed\n",
            "Epoch [132/300],Train Loss: 0.0825, Valid Loss: 0.09141248\n",
            "Starting epoch 133\n",
            "Train Pass Completed\n",
            "Epoch [133/300],Train Loss: 0.0831, Valid Loss: 0.09245734\n",
            "Starting epoch 134\n",
            "Train Pass Completed\n",
            "Epoch [134/300],Train Loss: 0.0822, Valid Loss: 0.09053575\n",
            "Starting epoch 135\n",
            "Train Pass Completed\n",
            "Epoch [135/300],Train Loss: 0.0831, Valid Loss: 0.09287135\n",
            "Starting epoch 136\n",
            "Train Pass Completed\n",
            "Epoch [136/300],Train Loss: 0.0827, Valid Loss: 0.09154110\n",
            "Starting epoch 137\n",
            "Train Pass Completed\n",
            "Epoch [137/300],Train Loss: 0.0824, Valid Loss: 0.09290046\n",
            "Starting epoch 138\n",
            "Train Pass Completed\n",
            "Epoch [138/300],Train Loss: 0.0826, Valid Loss: 0.09298845\n",
            "Starting epoch 139\n",
            "Train Pass Completed\n",
            "Epoch [139/300],Train Loss: 0.0832, Valid Loss: 0.09186067\n",
            "Starting epoch 140\n",
            "Train Pass Completed\n",
            "Epoch [140/300],Train Loss: 0.0829, Valid Loss: 0.09108657\n",
            "Starting epoch 141\n",
            "Train Pass Completed\n",
            "Epoch [141/300],Train Loss: 0.0825, Valid Loss: 0.09223609\n",
            "Starting epoch 142\n",
            "Train Pass Completed\n",
            "Epoch [142/300],Train Loss: 0.0825, Valid Loss: 0.09361119\n",
            "Starting epoch 143\n",
            "Train Pass Completed\n",
            "Epoch [143/300],Train Loss: 0.0827, Valid Loss: 0.09127749\n",
            "Starting epoch 144\n",
            "Train Pass Completed\n",
            "Epoch [144/300],Train Loss: 0.0828, Valid Loss: 0.09213091\n",
            "Starting epoch 145\n",
            "Train Pass Completed\n",
            "Epoch [145/300],Train Loss: 0.0825, Valid Loss: 0.09171278\n",
            "Starting epoch 146\n",
            "Train Pass Completed\n",
            "Epoch [146/300],Train Loss: 0.0827, Valid Loss: 0.09167656\n",
            "Starting epoch 147\n",
            "Train Pass Completed\n",
            "Epoch [147/300],Train Loss: 0.0825, Valid Loss: 0.09263496\n",
            "Starting epoch 148\n",
            "Train Pass Completed\n",
            "Epoch [148/300],Train Loss: 0.0826, Valid Loss: 0.09285109\n",
            "Starting epoch 149\n",
            "Train Pass Completed\n",
            "Epoch [149/300],Train Loss: 0.0826, Valid Loss: 0.09340161\n",
            "Starting epoch 150\n",
            "Train Pass Completed\n",
            "Epoch [150/300],Train Loss: 0.0823, Valid Loss: 0.09134663\n",
            "Starting epoch 151\n",
            "Train Pass Completed\n",
            "Epoch [151/300],Train Loss: 0.0829, Valid Loss: 0.09050483\n",
            "Starting epoch 152\n",
            "Train Pass Completed\n",
            "Epoch [152/300],Train Loss: 0.0829, Valid Loss: 0.09159923\n",
            "Starting epoch 153\n",
            "Train Pass Completed\n",
            "Epoch [153/300],Train Loss: 0.0826, Valid Loss: 0.09285642\n",
            "Starting epoch 154\n",
            "Train Pass Completed\n",
            "Epoch [154/300],Train Loss: 0.0825, Valid Loss: 0.09173512\n",
            "Starting epoch 155\n",
            "Train Pass Completed\n",
            "Epoch [155/300],Train Loss: 0.0826, Valid Loss: 0.09152281\n",
            "Starting epoch 156\n",
            "Train Pass Completed\n",
            "Epoch [156/300],Train Loss: 0.0829, Valid Loss: 0.09133910\n",
            "Starting epoch 157\n",
            "Train Pass Completed\n",
            "Epoch [157/300],Train Loss: 0.0824, Valid Loss: 0.09114721\n",
            "Starting epoch 158\n",
            "Train Pass Completed\n",
            "Epoch [158/300],Train Loss: 0.0824, Valid Loss: 0.09161980\n",
            "Starting epoch 159\n",
            "Train Pass Completed\n",
            "Epoch [159/300],Train Loss: 0.0830, Valid Loss: 0.09186475\n",
            "Starting epoch 160\n",
            "Train Pass Completed\n",
            "Epoch [160/300],Train Loss: 0.0828, Valid Loss: 0.09177475\n",
            "Starting epoch 161\n",
            "Train Pass Completed\n",
            "Epoch [161/300],Train Loss: 0.0828, Valid Loss: 0.09334319\n",
            "Starting epoch 162\n",
            "Train Pass Completed\n",
            "Epoch [162/300],Train Loss: 0.0825, Valid Loss: 0.09175897\n",
            "Starting epoch 163\n",
            "Train Pass Completed\n",
            "Epoch [163/300],Train Loss: 0.0829, Valid Loss: 0.09240735\n",
            "Starting epoch 164\n",
            "Train Pass Completed\n",
            "Epoch [164/300],Train Loss: 0.0829, Valid Loss: 0.09198730\n",
            "Starting epoch 165\n",
            "Train Pass Completed\n",
            "Epoch [165/300],Train Loss: 0.0829, Valid Loss: 0.09163896\n",
            "Starting epoch 166\n",
            "Train Pass Completed\n",
            "Epoch [166/300],Train Loss: 0.0829, Valid Loss: 0.09051345\n",
            "Starting epoch 167\n",
            "Train Pass Completed\n",
            "Epoch [167/300],Train Loss: 0.0825, Valid Loss: 0.09160499\n",
            "Starting epoch 168\n",
            "Train Pass Completed\n",
            "Epoch [168/300],Train Loss: 0.0829, Valid Loss: 0.09300478\n",
            "Starting epoch 169\n",
            "Train Pass Completed\n",
            "Epoch [169/300],Train Loss: 0.0828, Valid Loss: 0.09085464\n",
            "Starting epoch 170\n",
            "Train Pass Completed\n",
            "Epoch [170/300],Train Loss: 0.0823, Valid Loss: 0.09190678\n",
            "Starting epoch 171\n",
            "Train Pass Completed\n",
            "Epoch [171/300],Train Loss: 0.0827, Valid Loss: 0.09146012\n",
            "Starting epoch 172\n",
            "Train Pass Completed\n",
            "Epoch [172/300],Train Loss: 0.0825, Valid Loss: 0.09121161\n",
            "Starting epoch 173\n",
            "Train Pass Completed\n",
            "Epoch [173/300],Train Loss: 0.0831, Valid Loss: 0.09172016\n",
            "Starting epoch 174\n",
            "Train Pass Completed\n",
            "Epoch [174/300],Train Loss: 0.0830, Valid Loss: 0.09096304\n",
            "Starting epoch 175\n",
            "Train Pass Completed\n",
            "Epoch [175/300],Train Loss: 0.0826, Valid Loss: 0.09207624\n",
            "Starting epoch 176\n",
            "Train Pass Completed\n",
            "Epoch [176/300],Train Loss: 0.0827, Valid Loss: 0.09180548\n",
            "Starting epoch 177\n",
            "Train Pass Completed\n",
            "Epoch [177/300],Train Loss: 0.0824, Valid Loss: 0.09195039\n",
            "Starting epoch 178\n",
            "Train Pass Completed\n",
            "Epoch [178/300],Train Loss: 0.0828, Valid Loss: 0.09293769\n",
            "Starting epoch 179\n",
            "Train Pass Completed\n",
            "Epoch [179/300],Train Loss: 0.0826, Valid Loss: 0.09185032\n",
            "Starting epoch 180\n",
            "Train Pass Completed\n",
            "Epoch [180/300],Train Loss: 0.0829, Valid Loss: 0.09241051\n",
            "Starting epoch 181\n",
            "Train Pass Completed\n",
            "Epoch [181/300],Train Loss: 0.0827, Valid Loss: 0.09219304\n",
            "Starting epoch 182\n",
            "Train Pass Completed\n",
            "Epoch [182/300],Train Loss: 0.0825, Valid Loss: 0.09172922\n",
            "Starting epoch 183\n",
            "Train Pass Completed\n",
            "Epoch [183/300],Train Loss: 0.0829, Valid Loss: 0.09113974\n",
            "Starting epoch 184\n",
            "Train Pass Completed\n",
            "Epoch [184/300],Train Loss: 0.0823, Valid Loss: 0.09189932\n",
            "Starting epoch 185\n",
            "Train Pass Completed\n",
            "Epoch [185/300],Train Loss: 0.0827, Valid Loss: 0.09221351\n",
            "Starting epoch 186\n",
            "Train Pass Completed\n",
            "Epoch [186/300],Train Loss: 0.0827, Valid Loss: 0.09273195\n",
            "Starting epoch 187\n",
            "Train Pass Completed\n",
            "Epoch [187/300],Train Loss: 0.0821, Valid Loss: 0.09268273\n",
            "Starting epoch 188\n",
            "Train Pass Completed\n",
            "Epoch [188/300],Train Loss: 0.0829, Valid Loss: 0.09154833\n",
            "Starting epoch 189\n",
            "Train Pass Completed\n",
            "Epoch [189/300],Train Loss: 0.0826, Valid Loss: 0.09065754\n",
            "Starting epoch 190\n",
            "Train Pass Completed\n",
            "Epoch [190/300],Train Loss: 0.0827, Valid Loss: 0.09189621\n",
            "Starting epoch 191\n",
            "Train Pass Completed\n",
            "Epoch [191/300],Train Loss: 0.0827, Valid Loss: 0.09224408\n",
            "Starting epoch 192\n",
            "Train Pass Completed\n",
            "Epoch [192/300],Train Loss: 0.0829, Valid Loss: 0.09246229\n",
            "Starting epoch 193\n",
            "Train Pass Completed\n",
            "Epoch [193/300],Train Loss: 0.0825, Valid Loss: 0.09185280\n",
            "Starting epoch 194\n",
            "Train Pass Completed\n",
            "Epoch [194/300],Train Loss: 0.0826, Valid Loss: 0.09059013\n",
            "Starting epoch 195\n",
            "Train Pass Completed\n",
            "Epoch [195/300],Train Loss: 0.0831, Valid Loss: 0.09156601\n",
            "Starting epoch 196\n",
            "Train Pass Completed\n",
            "Epoch [196/300],Train Loss: 0.0828, Valid Loss: 0.09188092\n",
            "Starting epoch 197\n",
            "Train Pass Completed\n",
            "Epoch [197/300],Train Loss: 0.0825, Valid Loss: 0.09224182\n",
            "Starting epoch 198\n",
            "Train Pass Completed\n",
            "Epoch [198/300],Train Loss: 0.0827, Valid Loss: 0.09143329\n",
            "Starting epoch 199\n",
            "Train Pass Completed\n",
            "Epoch [199/300],Train Loss: 0.0825, Valid Loss: 0.09257711\n",
            "Starting epoch 200\n",
            "Train Pass Completed\n",
            "Epoch [200/300],Train Loss: 0.0826, Valid Loss: 0.09293496\n",
            "Starting epoch 201\n",
            "Train Pass Completed\n",
            "Epoch [201/300],Train Loss: 0.0825, Valid Loss: 0.09101687\n",
            "Starting epoch 202\n",
            "Train Pass Completed\n",
            "Epoch [202/300],Train Loss: 0.0829, Valid Loss: 0.09356263\n",
            "Starting epoch 203\n",
            "Train Pass Completed\n",
            "Epoch [203/300],Train Loss: 0.0824, Valid Loss: 0.09118573\n",
            "Starting epoch 204\n",
            "Train Pass Completed\n",
            "Epoch [204/300],Train Loss: 0.0829, Valid Loss: 0.09239565\n",
            "Starting epoch 205\n",
            "Train Pass Completed\n",
            "Epoch [205/300],Train Loss: 0.0825, Valid Loss: 0.09095895\n",
            "Starting epoch 206\n",
            "Train Pass Completed\n",
            "Epoch [206/300],Train Loss: 0.0825, Valid Loss: 0.09187458\n",
            "Starting epoch 207\n",
            "Train Pass Completed\n",
            "Epoch [207/300],Train Loss: 0.0832, Valid Loss: 0.09272742\n",
            "Starting epoch 208\n",
            "Train Pass Completed\n",
            "Epoch [208/300],Train Loss: 0.0823, Valid Loss: 0.09087940\n",
            "Starting epoch 209\n",
            "Train Pass Completed\n",
            "Epoch [209/300],Train Loss: 0.0830, Valid Loss: 0.09196112\n",
            "Starting epoch 210\n",
            "Train Pass Completed\n",
            "Epoch [210/300],Train Loss: 0.0826, Valid Loss: 0.09132646\n",
            "Starting epoch 211\n",
            "Train Pass Completed\n",
            "Epoch [211/300],Train Loss: 0.0827, Valid Loss: 0.09200423\n",
            "Starting epoch 212\n",
            "Train Pass Completed\n",
            "Epoch [212/300],Train Loss: 0.0828, Valid Loss: 0.09292470\n",
            "Starting epoch 213\n",
            "Train Pass Completed\n",
            "Epoch [213/300],Train Loss: 0.0826, Valid Loss: 0.09110715\n",
            "Starting epoch 214\n",
            "Train Pass Completed\n",
            "Epoch [214/300],Train Loss: 0.0824, Valid Loss: 0.09114693\n",
            "Starting epoch 215\n",
            "Train Pass Completed\n",
            "Epoch [215/300],Train Loss: 0.0828, Valid Loss: 0.09197821\n",
            "Starting epoch 216\n",
            "Train Pass Completed\n",
            "Epoch [216/300],Train Loss: 0.0822, Valid Loss: 0.09136646\n",
            "Starting epoch 217\n",
            "Train Pass Completed\n",
            "Epoch [217/300],Train Loss: 0.0830, Valid Loss: 0.09220499\n",
            "Starting epoch 218\n",
            "Train Pass Completed\n",
            "Epoch [218/300],Train Loss: 0.0827, Valid Loss: 0.09272999\n",
            "Starting epoch 219\n",
            "Train Pass Completed\n",
            "Epoch [219/300],Train Loss: 0.0826, Valid Loss: 0.09212323\n",
            "Starting epoch 220\n",
            "Train Pass Completed\n",
            "Epoch [220/300],Train Loss: 0.0826, Valid Loss: 0.09091000\n",
            "Starting epoch 221\n",
            "Train Pass Completed\n",
            "Epoch [221/300],Train Loss: 0.0829, Valid Loss: 0.09192055\n",
            "Starting epoch 222\n",
            "Train Pass Completed\n",
            "Epoch [222/300],Train Loss: 0.0828, Valid Loss: 0.09284955\n",
            "Starting epoch 223\n",
            "Train Pass Completed\n",
            "Epoch [223/300],Train Loss: 0.0828, Valid Loss: 0.09200051\n",
            "Starting epoch 224\n",
            "Train Pass Completed\n",
            "Epoch [224/300],Train Loss: 0.0827, Valid Loss: 0.09067474\n",
            "Starting epoch 225\n",
            "Train Pass Completed\n",
            "Epoch [225/300],Train Loss: 0.0827, Valid Loss: 0.09006601\n",
            "Starting epoch 226\n",
            "Train Pass Completed\n",
            "Epoch [226/300],Train Loss: 0.0824, Valid Loss: 0.09066875\n",
            "Starting epoch 227\n",
            "Train Pass Completed\n",
            "Epoch [227/300],Train Loss: 0.0830, Valid Loss: 0.09230883\n",
            "Starting epoch 228\n",
            "Train Pass Completed\n",
            "Epoch [228/300],Train Loss: 0.0824, Valid Loss: 0.09179842\n",
            "Starting epoch 229\n",
            "Train Pass Completed\n",
            "Epoch [229/300],Train Loss: 0.0829, Valid Loss: 0.09144337\n",
            "Starting epoch 230\n",
            "Train Pass Completed\n",
            "Epoch [230/300],Train Loss: 0.0823, Valid Loss: 0.09219171\n",
            "Starting epoch 231\n",
            "Train Pass Completed\n",
            "Epoch [231/300],Train Loss: 0.0822, Valid Loss: 0.09248333\n",
            "Starting epoch 232\n",
            "Train Pass Completed\n",
            "Epoch [232/300],Train Loss: 0.0830, Valid Loss: 0.09119498\n",
            "Starting epoch 233\n",
            "Train Pass Completed\n",
            "Epoch [233/300],Train Loss: 0.0826, Valid Loss: 0.09295129\n",
            "Starting epoch 234\n",
            "Train Pass Completed\n",
            "Epoch [234/300],Train Loss: 0.0828, Valid Loss: 0.09186826\n",
            "Starting epoch 235\n",
            "Train Pass Completed\n",
            "Epoch [235/300],Train Loss: 0.0824, Valid Loss: 0.09166370\n",
            "Starting epoch 236\n",
            "Train Pass Completed\n",
            "Epoch [236/300],Train Loss: 0.0828, Valid Loss: 0.09278178\n",
            "Starting epoch 237\n",
            "Train Pass Completed\n",
            "Epoch [237/300],Train Loss: 0.0831, Valid Loss: 0.09169841\n",
            "Starting epoch 238\n",
            "Train Pass Completed\n",
            "Epoch [238/300],Train Loss: 0.0825, Valid Loss: 0.09170767\n",
            "Starting epoch 239\n",
            "Train Pass Completed\n",
            "Epoch [239/300],Train Loss: 0.0827, Valid Loss: 0.09145512\n",
            "Starting epoch 240\n",
            "Train Pass Completed\n",
            "Epoch [240/300],Train Loss: 0.0826, Valid Loss: 0.09205345\n",
            "Starting epoch 241\n",
            "Train Pass Completed\n",
            "Epoch [241/300],Train Loss: 0.0829, Valid Loss: 0.09091049\n",
            "Starting epoch 242\n",
            "Train Pass Completed\n",
            "Epoch [242/300],Train Loss: 0.0822, Valid Loss: 0.09202252\n",
            "Starting epoch 243\n",
            "Train Pass Completed\n",
            "Epoch [243/300],Train Loss: 0.0828, Valid Loss: 0.09212426\n",
            "Starting epoch 244\n",
            "Train Pass Completed\n",
            "Epoch [244/300],Train Loss: 0.0824, Valid Loss: 0.09209192\n",
            "Starting epoch 245\n",
            "Train Pass Completed\n",
            "Epoch [245/300],Train Loss: 0.0830, Valid Loss: 0.09315640\n",
            "Starting epoch 246\n",
            "Train Pass Completed\n",
            "Epoch [246/300],Train Loss: 0.0824, Valid Loss: 0.09116600\n",
            "Starting epoch 247\n",
            "Train Pass Completed\n",
            "Epoch [247/300],Train Loss: 0.0829, Valid Loss: 0.09195042\n",
            "Starting epoch 248\n",
            "Train Pass Completed\n",
            "Epoch [248/300],Train Loss: 0.0826, Valid Loss: 0.09291079\n",
            "Starting epoch 249\n",
            "Train Pass Completed\n",
            "Epoch [249/300],Train Loss: 0.0820, Valid Loss: 0.09152827\n",
            "Starting epoch 250\n",
            "Train Pass Completed\n",
            "Epoch [250/300],Train Loss: 0.0832, Valid Loss: 0.09244364\n",
            "Starting epoch 251\n",
            "Train Pass Completed\n",
            "Epoch [251/300],Train Loss: 0.0825, Valid Loss: 0.09188429\n",
            "Starting epoch 252\n",
            "Train Pass Completed\n",
            "Epoch [252/300],Train Loss: 0.0824, Valid Loss: 0.09208388\n",
            "Starting epoch 253\n",
            "Train Pass Completed\n",
            "Epoch [253/300],Train Loss: 0.0829, Valid Loss: 0.09186683\n",
            "Starting epoch 254\n",
            "Train Pass Completed\n",
            "Epoch [254/300],Train Loss: 0.0828, Valid Loss: 0.09162959\n",
            "Starting epoch 255\n",
            "Train Pass Completed\n",
            "Epoch [255/300],Train Loss: 0.0827, Valid Loss: 0.09125777\n",
            "Starting epoch 256\n",
            "Train Pass Completed\n",
            "Epoch [256/300],Train Loss: 0.0828, Valid Loss: 0.09001870\n",
            "Starting epoch 257\n",
            "Train Pass Completed\n",
            "Epoch [257/300],Train Loss: 0.0830, Valid Loss: 0.09197726\n",
            "Starting epoch 258\n",
            "Train Pass Completed\n",
            "Epoch [258/300],Train Loss: 0.0827, Valid Loss: 0.09167206\n",
            "Starting epoch 259\n",
            "Train Pass Completed\n",
            "Epoch [259/300],Train Loss: 0.0823, Valid Loss: 0.09241267\n",
            "Starting epoch 260\n",
            "Train Pass Completed\n",
            "Epoch [260/300],Train Loss: 0.0825, Valid Loss: 0.09209444\n",
            "Starting epoch 261\n",
            "Train Pass Completed\n",
            "Epoch [261/300],Train Loss: 0.0828, Valid Loss: 0.09110773\n",
            "Starting epoch 262\n",
            "Train Pass Completed\n",
            "Epoch [262/300],Train Loss: 0.0827, Valid Loss: 0.09230948\n",
            "Starting epoch 263\n",
            "Train Pass Completed\n",
            "Epoch [263/300],Train Loss: 0.0824, Valid Loss: 0.09248723\n",
            "Starting epoch 264\n",
            "Train Pass Completed\n",
            "Epoch [264/300],Train Loss: 0.0828, Valid Loss: 0.09282527\n",
            "Starting epoch 265\n",
            "Train Pass Completed\n",
            "Epoch [265/300],Train Loss: 0.0825, Valid Loss: 0.09294014\n",
            "Starting epoch 266\n",
            "Train Pass Completed\n",
            "Epoch [266/300],Train Loss: 0.0823, Valid Loss: 0.09162945\n",
            "Starting epoch 267\n",
            "Train Pass Completed\n",
            "Epoch [267/300],Train Loss: 0.0828, Valid Loss: 0.09095768\n",
            "Starting epoch 268\n",
            "Train Pass Completed\n",
            "Epoch [268/300],Train Loss: 0.0824, Valid Loss: 0.09246873\n",
            "Starting epoch 269\n",
            "Train Pass Completed\n",
            "Epoch [269/300],Train Loss: 0.0829, Valid Loss: 0.09166355\n",
            "Starting epoch 270\n",
            "Train Pass Completed\n",
            "Epoch [270/300],Train Loss: 0.0828, Valid Loss: 0.09394164\n",
            "Starting epoch 271\n",
            "Train Pass Completed\n",
            "Epoch [271/300],Train Loss: 0.0825, Valid Loss: 0.09159415\n",
            "Starting epoch 272\n",
            "Train Pass Completed\n",
            "Epoch [272/300],Train Loss: 0.0828, Valid Loss: 0.09256165\n",
            "Starting epoch 273\n",
            "Train Pass Completed\n",
            "Epoch [273/300],Train Loss: 0.0827, Valid Loss: 0.09243732\n",
            "Starting epoch 274\n",
            "Train Pass Completed\n",
            "Epoch [274/300],Train Loss: 0.0820, Valid Loss: 0.09228843\n",
            "Starting epoch 275\n",
            "Train Pass Completed\n",
            "Epoch [275/300],Train Loss: 0.0825, Valid Loss: 0.09332281\n",
            "Starting epoch 276\n",
            "Train Pass Completed\n",
            "Epoch [276/300],Train Loss: 0.0828, Valid Loss: 0.09267713\n",
            "Starting epoch 277\n",
            "Train Pass Completed\n",
            "Epoch [277/300],Train Loss: 0.0824, Valid Loss: 0.09252191\n",
            "Starting epoch 278\n",
            "Train Pass Completed\n",
            "Epoch [278/300],Train Loss: 0.0828, Valid Loss: 0.09101682\n",
            "Starting epoch 279\n",
            "Train Pass Completed\n",
            "Epoch [279/300],Train Loss: 0.0825, Valid Loss: 0.09271856\n",
            "Starting epoch 280\n",
            "Train Pass Completed\n",
            "Epoch [280/300],Train Loss: 0.0828, Valid Loss: 0.09121314\n",
            "Starting epoch 281\n",
            "Train Pass Completed\n",
            "Epoch [281/300],Train Loss: 0.0828, Valid Loss: 0.09178535\n",
            "Starting epoch 282\n",
            "Train Pass Completed\n",
            "Epoch [282/300],Train Loss: 0.0828, Valid Loss: 0.09117862\n",
            "Starting epoch 283\n",
            "Train Pass Completed\n",
            "Epoch [283/300],Train Loss: 0.0825, Valid Loss: 0.09161929\n",
            "Starting epoch 284\n",
            "Train Pass Completed\n",
            "Epoch [284/300],Train Loss: 0.0828, Valid Loss: 0.09185684\n",
            "Starting epoch 285\n",
            "Train Pass Completed\n",
            "Epoch [285/300],Train Loss: 0.0825, Valid Loss: 0.09130456\n",
            "Starting epoch 286\n",
            "Train Pass Completed\n",
            "Epoch [286/300],Train Loss: 0.0823, Valid Loss: 0.09115605\n",
            "Starting epoch 287\n",
            "Train Pass Completed\n",
            "Epoch [287/300],Train Loss: 0.0827, Valid Loss: 0.09217279\n",
            "Starting epoch 288\n",
            "Train Pass Completed\n",
            "Epoch [288/300],Train Loss: 0.0824, Valid Loss: 0.09257539\n",
            "Starting epoch 289\n",
            "Train Pass Completed\n",
            "Epoch [289/300],Train Loss: 0.0824, Valid Loss: 0.09238849\n",
            "Starting epoch 290\n",
            "Train Pass Completed\n",
            "Epoch [290/300],Train Loss: 0.0828, Valid Loss: 0.09173342\n",
            "Starting epoch 291\n",
            "Train Pass Completed\n",
            "Epoch [291/300],Train Loss: 0.0828, Valid Loss: 0.09263722\n",
            "Starting epoch 292\n",
            "Train Pass Completed\n",
            "Epoch [292/300],Train Loss: 0.0823, Valid Loss: 0.09023567\n",
            "Starting epoch 293\n",
            "Train Pass Completed\n",
            "Epoch [293/300],Train Loss: 0.0826, Valid Loss: 0.09160294\n",
            "Starting epoch 294\n",
            "Train Pass Completed\n",
            "Epoch [294/300],Train Loss: 0.0830, Valid Loss: 0.09154229\n",
            "Starting epoch 295\n",
            "Train Pass Completed\n",
            "Epoch [295/300],Train Loss: 0.0825, Valid Loss: 0.08993232\n",
            "Starting epoch 296\n",
            "Train Pass Completed\n",
            "Epoch [296/300],Train Loss: 0.0828, Valid Loss: 0.09022469\n",
            "Starting epoch 297\n",
            "Train Pass Completed\n",
            "Epoch [297/300],Train Loss: 0.0823, Valid Loss: 0.09374551\n",
            "Starting epoch 298\n",
            "Train Pass Completed\n",
            "Epoch [298/300],Train Loss: 0.0827, Valid Loss: 0.09178723\n",
            "Starting epoch 299\n",
            "Train Pass Completed\n",
            "Epoch [299/300],Train Loss: 0.0827, Valid Loss: 0.09177864\n",
            "Starting epoch 300\n",
            "Train Pass Completed\n",
            "Epoch [300/300],Train Loss: 0.0821, Valid Loss: 0.09154553\n",
            "Finished Training\n"
          ]
        }
      ]
    },
    {
      "cell_type": "code",
      "source": [
        "converted_train_loss = [tensor.detach().item() for tensor in obtained_train_loss]\n",
        "converted_val_loss = [tensor.detach().item() for tensor in obtained_val_loss]\n",
        "\n",
        "plt.plot(range(0,num_epochs),converted_train_loss, label = \"Training Loss\")\n",
        "plt.plot(range(0,num_epochs),converted_val_loss, label = \"Validation Loss\")\n",
        "plt.title('Loss  Vs Epochs', fontsize=14)\n",
        "plt.xlabel('#Epochs', fontsize=14)\n",
        "plt.ylabel('Loss ', fontsize=14)\n",
        "\n",
        "plt.legend()\n",
        "plt.show()\n"
      ],
      "metadata": {
        "colab": {
          "base_uri": "https://localhost:8080/",
          "height": 300
        },
        "id": "6GO2svPbABEd",
        "outputId": "2770b80e-71df-4eb3-9541-b45ce5729c21"
      },
      "id": "6GO2svPbABEd",
      "execution_count": 27,
      "outputs": [
        {
          "output_type": "display_data",
          "data": {
            "text/plain": [
              "<Figure size 432x288 with 1 Axes>"
            ],
            "image/png": "[encoded data removed]"
          },
          "metadata": {
            "needs_background": "light"
          }
        }
      ]
    },
    {
      "cell_type": "code",
      "source": [
        "!pip install torchmetrics"
      ],
      "metadata": {
        "colab": {
          "base_uri": "https://localhost:8080/"
        },
        "id": "3M6XgUUti4iv",
        "outputId": "3428aee6-6b1a-4ad5-8761-25ca18042dcf"
      },
      "id": "3M6XgUUti4iv",
      "execution_count": 24,
      "outputs": [
        {
          "output_type": "stream",
          "name": "stdout",
          "text": [
            "Looking in indexes: https://pypi.org/simple, https://us-python.pkg.dev/colab-wheels/public/simple/\n",
            "Collecting torchmetrics\n",
            "  Downloading torchmetrics-0.9.0-py3-none-any.whl (418 kB)\n",
            "\u001b[K     |████████████████████████████████| 418 kB 5.1 MB/s \n",
            "\u001b[?25hRequirement already satisfied: packaging in /usr/local/lib/python3.7/dist-packages (from torchmetrics) (21.3)\n",
            "Requirement already satisfied: typing-extensions in /usr/local/lib/python3.7/dist-packages (from torchmetrics) (4.2.0)\n",
            "Requirement already satisfied: numpy>=1.17.2 in /usr/local/lib/python3.7/dist-packages (from torchmetrics) (1.21.6)\n",
            "Requirement already satisfied: torch>=1.3.1 in /usr/local/lib/python3.7/dist-packages (from torchmetrics) (1.11.0+cu113)\n",
            "Requirement already satisfied: pyparsing!=3.0.5,>=2.0.2 in /usr/local/lib/python3.7/dist-packages (from packaging->torchmetrics) (3.0.9)\n",
            "Installing collected packages: torchmetrics\n",
            "Successfully installed torchmetrics-0.9.0\n"
          ]
        }
      ]
    },
    {
      "cell_type": "code",
      "source": [
        "\n",
        "#evaluate on the test set and calculate average test loss \n",
        "from sklearn.metrics import mean_squared_error\n",
        "from torchmetrics import R2Score \n",
        "r2score = R2Score().to(device)\n",
        "def evaluate(model, test_loader,device='cpu'):\n",
        "    test_running_loss = 0.0\n",
        "    count=0.0\n",
        "    r2_score=0.0\n",
        "    preds = []\n",
        "    actual = []\n",
        "    test_input = []\n",
        "    with torch.no_grad():\n",
        "        model.eval()\n",
        "        for test_data, test_label in test_loader:\n",
        "            input_tensor = test_data.to(device)\n",
        "            test_input.append(input_tensor)\n",
        "            outputs = model.forward(input_tensor)\n",
        "            preds.append(outputs)\n",
        "            actual.append(test_label)\n",
        "            loss = torch.sqrt(criterion(outputs,test_label.to(device)))\n",
        "            test_running_loss += loss\n",
        "            #score = r2score(outputs, test_label)\n",
        "            #r2_score += score\n",
        "            count+=1\n",
        "            \n",
        "            print(f\"RMSE Loss after {count} iteration :\", test_running_loss/count)\n",
        "\n",
        "\n",
        "\n",
        "        \n",
        "        avg_test_loss = test_running_loss / len(test_loader)\n",
        "        avg_r2_score = r2_score / len(test_loader)\n",
        "        print(\"Average RMSE Test Loss: {:4f}\".format(avg_test_loss))\n",
        "        #print(\"Average R2 score: {:4f}\".format(avg_r2_score))\n",
        "        return preds, actual, test_input\n",
        "\n"
      ],
      "metadata": {
        "id": "GUsC7QWgDqUB"
      },
      "id": "GUsC7QWgDqUB",
      "execution_count": 70,
      "outputs": []
    },
    {
      "cell_type": "code",
      "source": [
        "preds,actual, input= evaluate(model,test_loader)"
      ],
      "metadata": {
        "colab": {
          "base_uri": "https://localhost:8080/"
        },
        "id": "Y-yCbc3GrDJh",
        "outputId": "14e7bc69-84e3-49bd-a3e0-474ac6144852"
      },
      "id": "Y-yCbc3GrDJh",
      "execution_count": 71,
      "outputs": [
        {
          "output_type": "stream",
          "name": "stdout",
          "text": [
            "RMSE Loss after 1.0 iteration : tensor(0.2959)\n",
            "RMSE Loss after 2.0 iteration : tensor(0.3016)\n",
            "RMSE Loss after 3.0 iteration : tensor(0.2813)\n",
            "RMSE Loss after 4.0 iteration : tensor(0.2784)\n",
            "RMSE Loss after 5.0 iteration : tensor(0.2776)\n",
            "RMSE Loss after 6.0 iteration : tensor(0.2836)\n",
            "RMSE Loss after 7.0 iteration : tensor(0.2894)\n",
            "RMSE Loss after 8.0 iteration : tensor(0.2862)\n",
            "RMSE Loss after 9.0 iteration : tensor(0.2846)\n",
            "RMSE Loss after 10.0 iteration : tensor(0.2880)\n",
            "Average RMSE Test Loss: 0.288022\n"
          ]
        }
      ]
    },
    {
      "cell_type": "code",
      "source": [
        "#LSTM  done for A2 implementation\n",
        "from torch import nn\n",
        "class LSTM_a2_test(nn.Module):\n",
        "  def __init__(self,input_dim,hidden_dim,output_dim,device):\n",
        "    super(LSTM_a2_test,self).__iniit__()\n",
        "\n",
        "    self.input_dim=input_dim\n",
        "    self.hidden_dim=hidden_dim\n",
        "    self.device=device\n",
        "\n",
        "    self.rnn=nn.LSTMCell(input_dim,hidden_dim)\n",
        "    self.fc1=nn.Linear(hidden_dim,hidden_dim)\n",
        "    self.fc2=nn.Linear(hidden_dim,output_dim)\n",
        "\n",
        "    self.criterion=nn.MSELoss()\n",
        "    self.optimizer=torch.optim.Adam(self.parameters())\n",
        "  \n",
        "  def forward(self,batch_input):\n",
        "\n",
        "    #shape of input , batch_input:[batch_size,seq_length,input_shape]\n",
        "    #generate initial hidden and cell states\n",
        "    hidden_0=torch.randn(batch_input.shape[0],self.hidden_dim).to(self.device)\n",
        "    c_0=torch.randn(batch_input.shape[0],self.hidden_dim).to(self.device)\n",
        "\n",
        "    #feeding input sequence to lstm(same input fed to all lstms)\n",
        "    hidden_1,c_1 = self.rnn(batch_input,(hidden_0,c_0))\n",
        "    hidden_2,c_2 = self.rnn(batch_input,(hidden_1,c_1))\n",
        "    hidden_3,c_3 = self.rnn(batch_input,(hidden_2,c_2))\n",
        "\n",
        "    h1=nn.ReLU()(self.fc1(hidden_1))\n",
        "    out1=self.fc2(h1)\n",
        "    h2=nn.ReLU()(self.fc1(hidden_2))\n",
        "    out2=self.fc2(h2)\n",
        "    h3=nn.ReLU()(self.fc1(hidden_3))\n",
        "    out3=self.fc2(h3)\n",
        "\n",
        "    y_preds = torch.stack((out1,out2,out3),axis=1)\n",
        "    return y_preds\n",
        "\n",
        "  \n",
        "\n",
        "\n"
      ],
      "metadata": {
        "id": "8RV4dvrFQO74"
      },
      "id": "8RV4dvrFQO74",
      "execution_count": null,
      "outputs": []
    },
    {
      "cell_type": "code",
      "execution_count": null,
      "id": "5192ee18",
      "metadata": {
        "id": "5192ee18"
      },
      "outputs": [],
      "source": [
        ""
      ]
    },
    {
      "cell_type": "markdown",
      "id": "0e443b7f",
      "metadata": {
        "id": "0e443b7f"
      },
      "source": [
        "## Model Training"
      ]
    },
    {
      "cell_type": "code",
      "execution_count": null,
      "id": "5a5b0aca",
      "metadata": {
        "id": "5a5b0aca"
      },
      "outputs": [],
      "source": [
        "#todo"
      ]
    },
    {
      "cell_type": "code",
      "execution_count": null,
      "id": "58348edd",
      "metadata": {
        "id": "58348edd"
      },
      "outputs": [],
      "source": [
        ""
      ]
    },
    {
      "cell_type": "code",
      "execution_count": null,
      "id": "176b3ea3",
      "metadata": {
        "id": "176b3ea3"
      },
      "outputs": [],
      "source": [
        ""
      ]
    },
    {
      "cell_type": "markdown",
      "id": "da139d5b",
      "metadata": {
        "id": "da139d5b"
      },
      "source": [
        "## Evaluation"
      ]
    },
    {
      "cell_type": "code",
      "execution_count": null,
      "id": "ebed03ba",
      "metadata": {
        "id": "ebed03ba"
      },
      "outputs": [],
      "source": [
        "#todo"
      ]
    },
    {
      "cell_type": "code",
      "execution_count": null,
      "id": "17af7ec3",
      "metadata": {
        "id": "17af7ec3"
      },
      "outputs": [],
      "source": [
        ""
      ]
    },
    {
      "cell_type": "code",
      "execution_count": null,
      "id": "43a3422e",
      "metadata": {
        "id": "43a3422e"
      },
      "outputs": [],
      "source": [
        ""
      ]
    },
    {
      "cell_type": "markdown",
      "id": "9a59808b",
      "metadata": {
        "id": "9a59808b"
      },
      "source": [
        "# Task 3.2"
      ]
    },
    {
      "cell_type": "markdown",
      "id": "f64a855d",
      "metadata": {
        "id": "f64a855d"
      },
      "source": [
        "## Data Handling and Preprocessing"
      ]
    },
    {
      "cell_type": "code",
      "execution_count": null,
      "id": "5b935865",
      "metadata": {
        "id": "5b935865"
      },
      "outputs": [],
      "source": [
        "#todo\n"
      ]
    },
    {
      "cell_type": "code",
      "execution_count": null,
      "id": "0ec19a8d",
      "metadata": {
        "id": "0ec19a8d"
      },
      "outputs": [],
      "source": [
        ""
      ]
    },
    {
      "cell_type": "code",
      "execution_count": null,
      "id": "8f189d19",
      "metadata": {
        "id": "8f189d19"
      },
      "outputs": [],
      "source": [
        ""
      ]
    },
    {
      "cell_type": "markdown",
      "id": "867aabb3",
      "metadata": {
        "id": "867aabb3"
      },
      "source": [
        "## Model Implementation"
      ]
    },
    {
      "cell_type": "code",
      "execution_count": null,
      "id": "36fe2739",
      "metadata": {
        "id": "36fe2739"
      },
      "outputs": [],
      "source": [
        "#todo"
      ]
    },
    {
      "cell_type": "code",
      "execution_count": null,
      "id": "f80b1ca2",
      "metadata": {
        "id": "f80b1ca2"
      },
      "outputs": [],
      "source": [
        ""
      ]
    },
    {
      "cell_type": "code",
      "execution_count": null,
      "id": "fdbf2800",
      "metadata": {
        "id": "fdbf2800"
      },
      "outputs": [],
      "source": [
        ""
      ]
    },
    {
      "cell_type": "markdown",
      "id": "826fae3f",
      "metadata": {
        "id": "826fae3f"
      },
      "source": [
        "## Model Training"
      ]
    },
    {
      "cell_type": "code",
      "execution_count": null,
      "id": "db3fce95",
      "metadata": {
        "id": "db3fce95"
      },
      "outputs": [],
      "source": [
        "#todo"
      ]
    },
    {
      "cell_type": "code",
      "execution_count": null,
      "id": "41ddb47d",
      "metadata": {
        "id": "41ddb47d"
      },
      "outputs": [],
      "source": [
        ""
      ]
    },
    {
      "cell_type": "code",
      "execution_count": null,
      "id": "4ee069fc",
      "metadata": {
        "id": "4ee069fc"
      },
      "outputs": [],
      "source": [
        ""
      ]
    },
    {
      "cell_type": "markdown",
      "id": "c87278a2",
      "metadata": {
        "id": "c87278a2"
      },
      "source": [
        "## Evaluation"
      ]
    },
    {
      "cell_type": "code",
      "execution_count": null,
      "id": "2cbb6137",
      "metadata": {
        "id": "2cbb6137"
      },
      "outputs": [],
      "source": [
        "#todo"
      ]
    },
    {
      "cell_type": "code",
      "execution_count": null,
      "id": "2cf6f4b7",
      "metadata": {
        "id": "2cf6f4b7"
      },
      "outputs": [],
      "source": [
        ""
      ]
    },
    {
      "cell_type": "code",
      "execution_count": null,
      "id": "736c10d8",
      "metadata": {
        "id": "736c10d8"
      },
      "outputs": [],
      "source": [
        ""
      ]
    }
  ],
  "metadata": {
    "kernelspec": {
      "display_name": "Python 3",
      "language": "python",
      "name": "python3"
    },
    "language_info": {
      "codemirror_mode": {
        "name": "ipython",
        "version": 3
      },
      "file_extension": ".py",
      "mimetype": "text/x-python",
      "name": "python",
      "nbconvert_exporter": "python",
      "pygments_lexer": "ipython3",
      "version": "3.8.8"
    },
    "colab": {
      "name": "a3_skeleton.ipynb",
      "provenance": [],
      "collapsed_sections": [
        "0e443b7f",
        "da139d5b",
        "867aabb3",
        "826fae3f",
        "c87278a2"
      ]
    }
  },
  "nbformat": 4,
  "nbformat_minor": 5
}
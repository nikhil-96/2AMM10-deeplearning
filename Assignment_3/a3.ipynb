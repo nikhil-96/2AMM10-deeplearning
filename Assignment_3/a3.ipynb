{
  "cells": [
    {
      "cell_type": "markdown",
      "id": "963690b2",
      "metadata": {
        "id": "963690b2"
      },
      "source": [
        "<a href=\"https://colab.research.google.com/github/vlamen/tue-deeplearning/blob/main/assignments/assignment_2_3/a3_skeleton.ipynb\" target=\"_parent\"><img src=\"https://colab.research.google.com/assets/colab-badge.svg\" alt=\"Open In Colab\"/></a>"
      ]
    },
    {
      "cell_type": "markdown",
      "id": "bd8459f1",
      "metadata": {
        "id": "bd8459f1"
      },
      "source": [
        "# Group Number: 41\n",
        "\n",
        "# Student 1: Silvia Sultana\n",
        "\n",
        "# Student 2: Nikhil Patni\n",
        "\n",
        "# Student 3: Aishvarya Viswanathan"
      ]
    },
    {
      "cell_type": "markdown",
      "id": "dde28458",
      "metadata": {
        "id": "dde28458"
      },
      "source": [
        "# Downloading Data and Preliminaries"
      ]
    },
    {
      "cell_type": "code",
      "execution_count": 1,
      "id": "7d0580a5",
      "metadata": {
        "id": "7d0580a5"
      },
      "outputs": [],
      "source": [
        "import pickle\n",
        "import matplotlib.pyplot as plt\n",
        "import matplotlib\n",
        "import numpy as np\n",
        "\n",
        "from zipfile import ZipFile\n",
        "import requests\n",
        "import io"
      ]
    },
    {
      "cell_type": "code",
      "execution_count": 2,
      "id": "8ce00edc",
      "metadata": {
        "id": "8ce00edc"
      },
      "outputs": [],
      "source": [
        "def load_zip(url):\n",
        "    response = requests.get(url)\n",
        "    response.raise_for_status()\n",
        "    zipf = ZipFile(io.BytesIO(response.content))\n",
        "    return {name: zipf.read(name) for name in zipf.namelist()}\n",
        "\n",
        "def load_pickle(zipfile, fn):\n",
        "    return pickle.load(io.BytesIO(zipfile[fn]))"
      ]
    },
    {
      "cell_type": "code",
      "execution_count": 3,
      "id": "bb77a4be",
      "metadata": {
        "id": "bb77a4be"
      },
      "outputs": [],
      "source": [
        "data = load_zip('https://surfdrive.surf.nl/files/index.php/s/cwqGaS22KXgnXtg/download')\n",
        "\n",
        "    \n",
        "\"\"\"\n",
        "simulation_{train, valid, test} is stored as a list of simulations. \n",
        "Each simulation is a numpy array of size (t, 2): For t timesteps an x and y coordinate of our particle.\n",
        "\"\"\"\n",
        "simulation_train = load_pickle(data, 'data/train/simulation.pickle')  # 3.1 + 3.2\n",
        "simulation_valid = load_pickle(data, 'data/valid/simulation.pickle')  # 3.1 + 3.2\n",
        "simulation_test = load_pickle(data, 'data/test/simulation.pickle')  # 3.1 + 3.2\n",
        "\n",
        "\"\"\"\n",
        "charges_{train, valid, test} is stored as a list of simulation-charges. \n",
        "These charges are stored as numpy arrays of size (3,): One value for each charge.\n",
        "\"\"\"\n",
        "charges_train = load_pickle(data, 'data/train/charges.pickle')  # 3.1\n",
        "charges_valid = load_pickle(data, 'data/valid/charges.pickle')  # 3.1\n",
        "charges_test = load_pickle(data, 'data/test/charges.pickle')  # 3.1\n",
        "\n",
        "\"\"\"\n",
        "simulation_continued_{train, valid, test} is stored as a list of simulations. \n",
        "Each simulation is a numpy array of size (t, 2): For t timesteps an x and y coordinate of our particle.\n",
        "\"\"\"\n",
        "simulation_continued_train = load_pickle(data, 'data/train/simulation_continued.pickle')  # 3.2\n",
        "simulation_continued_valid = load_pickle(data, 'data/valid/simulation_continued.pickle')  # 3.2\n",
        "simulation_continued_test = load_pickle(data, 'data/test/simulation_continued.pickle')  # 3.2\n",
        "\n",
        "\"\"\"\n",
        "Note that the indices are shared throughout the different lists, e.g., for the 4th training simulation:\n",
        "simulation_train[3] contains its initial simulation\n",
        "charges_train[3] contains the charges associated with the simulation\n",
        "simulation_continued_train[3] contains the continuation of the simulation \n",
        "                --> simulation_continued_train[3][0] is the state after simulation_train[3][-1]\n",
        "\"\"\"\n",
        "pass"
      ]
    },
    {
      "cell_type": "code",
      "execution_count": 4,
      "id": "10a3438a",
      "metadata": {
        "colab": {
          "base_uri": "https://localhost:8080/"
        },
        "id": "10a3438a",
        "outputId": "a7457140-25f8-4aa5-cd5f-daf1ad289505"
      },
      "outputs": [
        {
          "output_type": "stream",
          "name": "stdout",
          "text": [
            "Overview of no. datapoints:\n",
            "\n",
            "Task 3.1:\n",
            "800 train, 100 validation, 100 test simulations\n",
            "800 train, 100 validation, 100 test charge pairs\n",
            "\n",
            "Task 3.2:\n",
            "Since len(simulation_continued_train) < len(simulation_train), we can only use a subset of initial simulations\n",
            "We cut simulation_train down to the first 150 samples in simulation_train_task32\n",
            "150 train, 100 validation, 100 test simulations\n",
            "150 train, 100 validation, 100 test continuations\n",
            "\n",
            "For task 3.1, use:\n",
            "simulation_train + charges_train\n",
            "simulation_valid + charges_valid\n",
            "simulation_test + charges_test\n",
            "\n",
            "For task 3.2, use:\n",
            "simulation_train_task32 + simulation_continued_train\n",
            "simulation_valid + simulation_continued_valid\n",
            "simulation_test + simulation_continued_test\n",
            "\n"
          ]
        }
      ],
      "source": [
        "print('Overview of no. datapoints:\\n')\n",
        "\n",
        "print('Task 3.1:')\n",
        "print(f'{len(simulation_train)} train, {len(simulation_valid)} validation, {len(simulation_test)} test simulations')\n",
        "print(f'{len(charges_train)} train, {len(charges_valid)} validation, {len(charges_test)} test charge pairs')\n",
        "print()\n",
        "\n",
        "print('Task 3.2:')\n",
        "print('Since len(simulation_continued_train) < len(simulation_train), we can only use a subset of initial simulations')\n",
        "print('We cut simulation_train down to the first 150 samples in simulation_train_task32')\n",
        "simulation_train_task32 = simulation_train[:150]\n",
        "print(f'{len(simulation_train_task32)} train, {len(simulation_valid)} validation, {len(simulation_test)} test simulations')\n",
        "print(f'{len(simulation_continued_train)} train, {len(simulation_continued_valid)} validation, {len(simulation_continued_test)} test continuations')\n",
        "\n",
        "print(f\"\"\"\n",
        "For task 3.1, use:\n",
        "{chr(10).join([\"simulation_{} + charges_{}\".format(t, t) for t in [\"train\", \"valid\", \"test\"]])}\n",
        "\n",
        "For task 3.2, use:\n",
        "{chr(10).join([\"simulation_{} + simulation_continued_{}\".format(*((t[0], t[1]) if isinstance(t, tuple) else (t, t))) for t in [(\"train_task32\", \"train\"), \"valid\", \"test\"]])}\n",
        "\"\"\")\n"
      ]
    },
    {
      "cell_type": "code",
      "source": [
        "simulation_train[0].shape #so 103 simulation time steps, each has (x,y)coordinates specified"
      ],
      "metadata": {
        "colab": {
          "base_uri": "https://localhost:8080/"
        },
        "id": "D81EXIYWc2-o",
        "outputId": "3dfd8390-8bab-440f-e66c-efb9188721b3"
      },
      "id": "D81EXIYWc2-o",
      "execution_count": 5,
      "outputs": [
        {
          "output_type": "execute_result",
          "data": {
            "text/plain": [
              "(103, 2)"
            ]
          },
          "metadata": {},
          "execution_count": 5
        }
      ]
    },
    {
      "cell_type": "code",
      "source": [
        "charges_train[3] #3 values showing three charges for three particles "
      ],
      "metadata": {
        "colab": {
          "base_uri": "https://localhost:8080/"
        },
        "id": "TVdgAr0NdOpp",
        "outputId": "94a43692-13a2-4809-be50-257e9cd9040e"
      },
      "id": "TVdgAr0NdOpp",
      "execution_count": 6,
      "outputs": [
        {
          "output_type": "execute_result",
          "data": {
            "text/plain": [
              "array([-0.81015605, -0.67512385, -0.16594701])"
            ]
          },
          "metadata": {},
          "execution_count": 6
        }
      ]
    },
    {
      "cell_type": "code",
      "execution_count": 7,
      "id": "3cfafdb3",
      "metadata": {
        "colab": {
          "base_uri": "https://localhost:8080/"
        },
        "id": "3cfafdb3",
        "outputId": "ace89224-8db5-452c-d58e-829c27ba3ad5"
      },
      "outputs": [
        {
          "output_type": "stream",
          "name": "stdout",
          "text": [
            "Print some shapes:\n",
            "\n",
            "simulation_train[0].shape: (103, 2) -> (t, 2), (x, y) at every t)\n",
            "charges_train[0].shape: (3,) -> charges for the simulation\n",
            "simulation_continued_train[0].shape: (54, 2) -> (t, 2), (x, y) at every t)\n",
            "----\n",
            "\n",
            "simulation_train[1].shape: (97, 2) -> (t, 2), (x, y) at every t)\n",
            "charges_train[1].shape: (3,) -> charges for the simulation\n",
            "simulation_continued_train[1].shape: (45, 2) -> (t, 2), (x, y) at every t)\n",
            "----\n",
            "\n",
            "simulation_train[2].shape: (99, 2) -> (t, 2), (x, y) at every t)\n",
            "charges_train[2].shape: (3,) -> charges for the simulation\n",
            "simulation_continued_train[2].shape: (47, 2) -> (t, 2), (x, y) at every t)\n",
            "----\n",
            "\n"
          ]
        }
      ],
      "source": [
        "print('Print some shapes:\\n')\n",
        "for i in range(3):\n",
        "    print('simulation_train[{}].shape:'.format(i), simulation_train[i].shape, '-> (t, 2), (x, y) at every t)')\n",
        "    print('charges_train[{}].shape:'.format(i), charges_train[i].shape, '-> charges for the simulation')\n",
        "    print('simulation_continued_train[{}].shape:'.format(i), simulation_continued_train[i].shape, '-> (t, 2), (x, y) at every t)')\n",
        "    print('----\\n')"
      ]
    },
    {
      "cell_type": "code",
      "execution_count": 8,
      "id": "f9106543",
      "metadata": {
        "id": "f9106543"
      },
      "outputs": [],
      "source": [
        "def plot_example(x, x_gt=None, x_pred=None, fn=None):\n",
        "    charge_locations = np.array([[-1.53846154, -1.53846154],\n",
        "                                 [ 1.53846154, -1.53846154],\n",
        "                                 [ 0.        ,  1.53846154]])  # charge locations are fixed\n",
        "    fig = plt.figure()\n",
        "    axes = plt.gca()\n",
        "    axes.set_xlim([-5., 5.])\n",
        "    axes.set_ylim([-5., 5.])\n",
        "    cmap = matplotlib.cm.get_cmap('tab20')\n",
        "    plt.plot(x[:, 0], x[:, 1], color=cmap(0))\n",
        "    plt.plot(x[0, 0], x[0, 1], 'd', color=cmap(1))\n",
        "    fig.set_size_inches(5, 5)\n",
        "    for charge in charge_locations:\n",
        "        plt.plot(charge[0], charge[1], 'd', color='black')\n",
        "    if x_gt is not None:\n",
        "        plt.plot(x_gt[:, 0], x_gt[:, 1], color='red', linewidth=.5)\n",
        "    if x_pred is not None:\n",
        "        plt.plot(x_pred[:, 0], x_pred[:, 1], color='green', linestyle='--')\n",
        "    if fn is None:\n",
        "        plt.show()\n",
        "    else:\n",
        "        plt.savefig(fn)"
      ]
    },
    {
      "cell_type": "code",
      "execution_count": 9,
      "id": "d28681a6",
      "metadata": {
        "colab": {
          "base_uri": "https://localhost:8080/",
          "height": 337
        },
        "id": "d28681a6",
        "outputId": "2cc74f55-2174-4056-969c-8b1d9478ea62"
      },
      "outputs": [
        {
          "output_type": "display_data",
          "data": {
            "text/plain": [
              "<Figure size 360x360 with 1 Axes>"
            ],
            "image/png": "[encoded data removed]"
          },
          "metadata": {
            "needs_background": "light"
          }
        },
        {
          "output_type": "stream",
          "name": "stdout",
          "text": [
            "Charges are [-0.71567692 -0.8646266  -0.92353406]\n"
          ]
        }
      ],
      "source": [
        "test_idx = np.random.randint(150)\n",
        "plot_example(simulation_train[test_idx], simulation_continued_train[test_idx])\n",
        "print(f'Charges are {charges_train[test_idx]}')"
      ]
    },
    {
      "cell_type": "code",
      "source": [
        "simulation_train[test_idx].shape"
      ],
      "metadata": {
        "id": "4q3EgEAoe0mj",
        "colab": {
          "base_uri": "https://localhost:8080/"
        },
        "outputId": "02d7673b-56f8-452e-edde-35357ae1109b"
      },
      "id": "4q3EgEAoe0mj",
      "execution_count": 10,
      "outputs": [
        {
          "output_type": "execute_result",
          "data": {
            "text/plain": [
              "(105, 2)"
            ]
          },
          "metadata": {},
          "execution_count": 10
        }
      ]
    },
    {
      "cell_type": "code",
      "source": [
        "simulation_train[test_idx][:,0] #takes all rows from only first column index 0 is column 1, x coordinate in this case"
      ],
      "metadata": {
        "colab": {
          "base_uri": "https://localhost:8080/"
        },
        "id": "fUQ1U7qSd24q",
        "outputId": "8edaff15-756b-48be-83a8-2e9c1bdf342c"
      },
      "id": "fUQ1U7qSd24q",
      "execution_count": 11,
      "outputs": [
        {
          "output_type": "execute_result",
          "data": {
            "text/plain": [
              "array([-2.35600094, -2.23935459, -2.11182211, -1.97370126, -1.82538426,\n",
              "       -1.66737686, -1.50031248, -1.32495593, -1.14219112, -0.95299228,\n",
              "       -0.75838461, -0.55940449, -0.35706761, -0.15234612,  0.05384719,\n",
              "        0.26066789,  0.46733718,  0.67311962,  0.87727384,  1.07897234,\n",
              "        1.2771952 ,  1.47062289,  1.65758983,  1.83617909,  2.00447417,\n",
              "        2.16084767,  2.30412527,  2.4335815 ,  2.54883941,  2.6497552 ,\n",
              "        2.73632604,  2.80862711,  2.86677156,  2.91088619,  2.94109673,\n",
              "        2.95751909,  2.96025402,  2.94938386,  2.92497033,  2.88705299,\n",
              "        2.83564784,  2.7707461 ,  2.69231302,  2.60028698,  2.4945796 ,\n",
              "        2.37507874,  2.24165931,  2.09421563,  1.93275629,  1.75769329,\n",
              "        1.57073274,  1.37684121,  1.1838203 ,  0.99603552,  0.81354954,\n",
              "        0.63524576,  0.46004177,  0.28708998,  0.11578052, -0.05427005,\n",
              "       -0.22321272, -0.39094241, -0.55706923, -0.72090794, -0.88151199,\n",
              "       -1.03776178, -1.18848575, -1.33257383, -1.46905342, -1.59712202,\n",
              "       -1.71614751, -1.82565038, -1.92527895, -2.01478405, -2.09399622,\n",
              "       -2.16280661, -2.22115146, -2.26899998, -2.30634489, -2.33319519,\n",
              "       -2.34957062, -2.35549749, -2.35100544, -2.336125  , -2.31088571,\n",
              "       -2.27531458, -2.22943486, -2.17326506, -2.10681788, -2.0300993 ,\n",
              "       -1.9431075 , -1.84583161, -1.73825022, -1.62032964, -1.49202202,\n",
              "       -1.35326384, -1.20397659, -1.04407407, -0.87348878, -0.69224911,\n",
              "       -0.50068395, -0.29988918, -0.0924345 ,  0.11753649,  0.32573667])"
            ]
          },
          "metadata": {},
          "execution_count": 11
        }
      ]
    },
    {
      "cell_type": "code",
      "source": [
        "simulation_train[test_idx][:,1]  #takes all rows from only second column index 1 is second column, y coordinate value in this case"
      ],
      "metadata": {
        "colab": {
          "base_uri": "https://localhost:8080/"
        },
        "id": "E5dHWJdLfDLg",
        "outputId": "9315df43-f480-463d-9028-a7089947a5ab"
      },
      "id": "E5dHWJdLfDLg",
      "execution_count": 12,
      "outputs": [
        {
          "output_type": "execute_result",
          "data": {
            "text/plain": [
              "array([-0.02607488, -0.02797182, -0.03328763, -0.04213094, -0.05457876,\n",
              "       -0.07065395, -0.09029678, -0.11333486, -0.13946063, -0.16822946,\n",
              "       -0.19908933, -0.23144368, -0.26473571, -0.2985345 , -0.33260434,\n",
              "       -0.36694675, -0.40181459, -0.4377043 , -0.47533215, -0.51559297,\n",
              "       -0.55948708, -0.6079897 , -0.66184958, -0.7213631 , -0.78624717,\n",
              "       -0.85570957, -0.92866756, -1.0039724 , -1.08055051, -1.15745976,\n",
              "       -1.23389461, -1.30916931, -1.38269519, -1.45395886, -1.52250349,\n",
              "       -1.58791331, -1.6498007 , -1.7077953 , -1.76153427, -1.81065322,\n",
              "       -1.85477681, -1.8935085 , -1.92641817, -1.95302604, -1.97278036,\n",
              "       -1.9850243 , -1.98894391, -1.98348143, -1.96718508, -1.93795699,\n",
              "       -1.89280436, -1.82882368, -1.74730841, -1.65377896, -1.55262878,\n",
              "       -1.44617269, -1.33563783, -1.22177944, -1.10517017, -0.98634523,\n",
              "       -0.8658811 , -0.74443272, -0.62273176, -0.50154558, -0.38160915,\n",
              "       -0.26355958, -0.14790349, -0.03502506,  0.07478173,  0.1812782 ,\n",
              "        0.28425545,  0.38352008,  0.47888803,  0.57018271,  0.65723492,\n",
              "        0.73988325,  0.81797414,  0.89136177,  0.95990757,  1.02347958,\n",
              "        1.08195175,  1.13520329,  1.18311802,  1.22558395,  1.26249306,\n",
              "        1.29374127,  1.31922884,  1.33886119,  1.35255021,  1.36021646,\n",
              "        1.36179241,  1.35722713,  1.34649324,  1.32959694,  1.30659297,\n",
              "        1.27760688,  1.24286913,  1.20276812,  1.15793372,  1.10936569,\n",
              "        1.05860493,  1.007836  ,  0.95950164,  0.91505139,  0.87400089])"
            ]
          },
          "metadata": {},
          "execution_count": 12
        }
      ]
    },
    {
      "cell_type": "code",
      "source": [
        "len(charges_train)\n",
        "charges_train[1].shape"
      ],
      "metadata": {
        "colab": {
          "base_uri": "https://localhost:8080/"
        },
        "id": "pfOttVxzLVA0",
        "outputId": "5e33d2cd-d7e0-4136-da98-18323e7b5eba"
      },
      "id": "pfOttVxzLVA0",
      "execution_count": 13,
      "outputs": [
        {
          "output_type": "execute_result",
          "data": {
            "text/plain": [
              "(3,)"
            ]
          },
          "metadata": {},
          "execution_count": 13
        }
      ]
    },
    {
      "cell_type": "markdown",
      "id": "883762b1",
      "metadata": {
        "id": "883762b1"
      },
      "source": [
        "# Task 3.1"
      ]
    },
    {
      "cell_type": "markdown",
      "id": "4c1ddabe",
      "metadata": {
        "id": "4c1ddabe"
      },
      "source": [
        "## Data Handling and Preprocessing"
      ]
    },
    {
      "cell_type": "code",
      "source": [
        "import torch\n",
        "from torch.utils.data import DataLoader\n",
        "import torch\n",
        "from torchvision import transforms\n",
        "from torch.utils.data import Dataset, DataLoader,TensorDataset, random_split\n",
        "import numpy as np\n",
        "from PIL import Image\n",
        "from torch.nn.utils.rnn import pad_sequence\n",
        "\n",
        "device=torch.device(\"cuda\" if torch.cuda.is_available()else \"cpu\")\n",
        "\n",
        "class MyDataset(Dataset):\n",
        "  def __init__(self,simulations,charges):\n",
        "\n",
        "    #maximum length of each simulation performed is 110 seconds\n",
        "    max_length=110 \n",
        "\n",
        "    #pad the arrays with zeros so that all sequences have same length\n",
        "    padded_sim=[]\n",
        "    for i in range(len(simulations)):\n",
        "      if len(simulations[i]) != max_length:\n",
        "          x = np.pad(simulations[i],[(0,max_length-len(simulations[i])),(0,0)], 'constant',constant_values = 0) #padding zeros at the end of dimension 1 ie rows \n",
        "      else:\n",
        "          x = simulations[i]\n",
        "      padded_sim.append(x)\n",
        "\n",
        "    data=np.array(padded_sim) #convert list into numpy array data = simulations of all length 110\n",
        "    #shape of data\n",
        "    (n_samples,length,dim)=data.shape\n",
        "    #convert simulations to tensor structure\n",
        "    self.data=torch.FloatTensor(data).view(n_samples,1,-1) #reshape so that \n",
        "    print(\"Dimensions of data\",self.data.shape)\n",
        "    #convert charges to numpy array first\n",
        "    charges=np.array(charges)\n",
        "    self.target=torch.FloatTensor(charges)\n",
        "    print(\"Dimensions of label\",self.target.shape)\n",
        "\n",
        "  def __getitem__(self, index):\n",
        "    X=self.data[index]\n",
        "    Y=self.target[index]\n",
        "    return X,Y\n",
        "\n",
        "  def __len__(self):\n",
        "    return len(self.data)\n",
        "\n",
        "    \n"
      ],
      "metadata": {
        "id": "E0yMwslaDwe8"
      },
      "id": "E0yMwslaDwe8",
      "execution_count": 14,
      "outputs": []
    },
    {
      "cell_type": "code",
      "execution_count": 15,
      "id": "7dd9b7c1",
      "metadata": {
        "id": "7dd9b7c1",
        "colab": {
          "base_uri": "https://localhost:8080/"
        },
        "outputId": "7c47e57a-8b43-4b4b-f0b6-b0e0fe19fcbc"
      },
      "outputs": [
        {
          "output_type": "stream",
          "name": "stdout",
          "text": [
            "Dimensions of data torch.Size([800, 1, 220])\n",
            "Dimensions of label torch.Size([800, 3])\n",
            "Dimensions of data torch.Size([100, 1, 220])\n",
            "Dimensions of label torch.Size([100, 3])\n",
            "Dimensions of data torch.Size([100, 1, 220])\n",
            "Dimensions of label torch.Size([100, 3])\n"
          ]
        }
      ],
      "source": [
        "\n",
        "train_dataset=MyDataset(simulation_train,charges_train)\n",
        "val_dataset = MyDataset(simulation_valid,charges_valid)\n",
        "test_dataset=MyDataset(simulation_test,charges_test)\n",
        "test_loader=torch.utils.data.DataLoader(test_dataset, batch_size=10)\n",
        "train_loader = torch.utils.data.DataLoader(train_dataset, batch_size=32)\n",
        "val_loader = torch.utils.data.DataLoader(val_dataset, batch_size=32)\n"
      ]
    },
    {
      "cell_type": "code",
      "source": [
        "#check how 3rd sample of train dataset looks like\n",
        "X,Y=test_dataset[2]\n",
        "print(X)\n",
        "print(Y)"
      ],
      "metadata": {
        "colab": {
          "base_uri": "https://localhost:8080/"
        },
        "id": "kA-WxqMCnOsV",
        "outputId": "07a42f96-9040-4e5b-b60a-6131bbc82478"
      },
      "id": "kA-WxqMCnOsV",
      "execution_count": 16,
      "outputs": [
        {
          "output_type": "stream",
          "name": "stdout",
          "text": [
            "tensor([[ 2.3561, -0.1385,  2.2400, -0.1432,  2.1133, -0.1518,  1.9764, -0.1643,\n",
            "          1.8296, -0.1809,  1.6734, -0.2017,  1.5086, -0.2269,  1.3358, -0.2562,\n",
            "          1.1560, -0.2896,  0.9701, -0.3266,  0.7792, -0.3667,  0.5840, -0.4095,\n",
            "          0.3855, -0.4544,  0.1842, -0.5009, -0.0191, -0.5488, -0.2242, -0.5981,\n",
            "         -0.4307, -0.6488, -0.6382, -0.7016, -0.8466, -0.7571, -1.0554, -0.8164,\n",
            "         -1.2639, -0.8811, -1.4706, -0.9532, -1.6726, -1.0344, -1.8650, -1.1252,\n",
            "         -2.0435, -1.2232, -2.2055, -1.3249, -2.3508, -1.4271, -2.4798, -1.5280,\n",
            "         -2.5931, -1.6260, -2.6913, -1.7203, -2.7752, -1.8102, -2.8451, -1.8954,\n",
            "         -2.9016, -1.9753, -2.9450, -2.0497, -2.9756, -2.1184, -2.9937, -2.1811,\n",
            "         -2.9996, -2.2375, -2.9933, -2.2875, -2.9752, -2.3309, -2.9452, -2.3674,\n",
            "         -2.9037, -2.3967, -2.8505, -2.4187, -2.7859, -2.4330, -2.7098, -2.4393,\n",
            "         -2.6224, -2.4373, -2.5236, -2.4265, -2.4135, -2.4065, -2.2921, -2.3767,\n",
            "         -2.1595, -2.3363, -2.0160, -2.2845, -1.8618, -2.2201, -1.6977, -2.1417,\n",
            "         -1.5254, -2.0474, -1.3484, -1.9358, -1.1722, -1.8073, -1.0016, -1.6662,\n",
            "         -0.8379, -1.5178, -0.6802, -1.3655, -0.5269, -1.2113, -0.3771, -1.0562,\n",
            "         -0.2298, -0.9009, -0.0845, -0.7459,  0.0589, -0.5917,  0.2004, -0.4386,\n",
            "          0.3397, -0.2870,  0.4762, -0.1373,  0.6092,  0.0105,  0.7379,  0.1559,\n",
            "          0.8612,  0.2988,  0.9783,  0.4389,  1.0884,  0.5757,  1.1906,  0.7089,\n",
            "          1.2845,  0.8381,  1.3695,  0.9626,  1.4454,  1.0821,  1.5119,  1.1961,\n",
            "          1.5690,  1.3042,  1.6167,  1.4059,  1.6550,  1.5011,  1.6839,  1.5894,\n",
            "          1.7036,  1.6705,  1.7140,  1.7442,  1.7155,  1.8103,  1.7079,  1.8686,\n",
            "          1.6915,  1.9190,  1.6663,  1.9613,  1.6324,  1.9952,  1.5898,  2.0207,\n",
            "          1.5386,  2.0376,  1.4789,  2.0457,  1.4107,  2.0449,  1.3339,  2.0349,\n",
            "          1.2486,  2.0157,  1.1546,  1.9870,  1.0520,  1.9486,  0.0000,  0.0000,\n",
            "          0.0000,  0.0000,  0.0000,  0.0000,  0.0000,  0.0000,  0.0000,  0.0000,\n",
            "          0.0000,  0.0000,  0.0000,  0.0000,  0.0000,  0.0000,  0.0000,  0.0000,\n",
            "          0.0000,  0.0000,  0.0000,  0.0000,  0.0000,  0.0000,  0.0000,  0.0000,\n",
            "          0.0000,  0.0000,  0.0000,  0.0000]])\n",
            "tensor([-0.9585, -0.6792, -0.7583])\n"
          ]
        }
      ]
    },
    {
      "cell_type": "code",
      "source": [
        "input_dim = next(iter(train_loader))[0].shape[2]\n",
        "input_dim"
      ],
      "metadata": {
        "colab": {
          "base_uri": "https://localhost:8080/"
        },
        "id": "WjBSTAc4u1av",
        "outputId": "e02abdb5-b955-473c-b672-dd864a175073"
      },
      "id": "WjBSTAc4u1av",
      "execution_count": 17,
      "outputs": [
        {
          "output_type": "execute_result",
          "data": {
            "text/plain": [
              "220"
            ]
          },
          "metadata": {},
          "execution_count": 17
        }
      ]
    },
    {
      "cell_type": "markdown",
      "id": "cc8853f6",
      "metadata": {
        "id": "cc8853f6"
      },
      "source": [
        "## Model Implementation"
      ]
    },
    {
      "cell_type": "code",
      "source": [
        "#3.1 task \n",
        "from torch import nn\n",
        "class LSTM_a2(nn.Module):\n",
        "  def __init__(self,input_dim,hidden_dim,output_dim,device):\n",
        "    super(LSTM_a2,self).__init__()\n",
        "\n",
        "    self.input_dim=input_dim\n",
        "    self.hidden_dim=hidden_dim\n",
        "    self.device=device\n",
        "\n",
        "    self.rnn=nn.LSTMCell(input_dim,hidden_dim)\n",
        "    self.fc1=nn.Linear(hidden_dim,hidden_dim)\n",
        "    self.fc2=nn.Linear(hidden_dim,output_dim)\n",
        "\n",
        "    self.criterion=nn.MSELoss()\n",
        "    #self.optimizer=torch.optim.Adam(self.parameters())\n",
        "  \n",
        "  def forward(self,batch_input):\n",
        "\n",
        "    #shape of input , batch_input: [batch_size, 1,seq_length]\n",
        "    #generate random initial hidden and cell states\n",
        "    hidden_0=torch.randn(batch_input.shape[0],self.hidden_dim).to(self.device)\n",
        "    c_0=torch.randn(batch_input.shape[0],self.hidden_dim).to(self.device)\n",
        "    for i in range(0,220,2):\n",
        "             hidden_1,c_1 = self.rnn(batch_input[:,0,i:i+2],(hidden_0,c_0))\n",
        "            \n",
        "\n",
        "    \n",
        "    h1=nn.ReLU()(self.fc1(hidden_1))\n",
        "    out1=self.fc2(h1)\n",
        "    \n",
        "    return out1\n",
        "\n",
        "  \n",
        "\n",
        "\n"
      ],
      "metadata": {
        "id": "umRscaa2y79N"
      },
      "id": "umRscaa2y79N",
      "execution_count": 18,
      "outputs": []
    },
    {
      "cell_type": "markdown",
      "id": "0e443b7f",
      "metadata": {
        "id": "0e443b7f"
      },
      "source": [
        "## Model Training"
      ]
    },
    {
      "cell_type": "code",
      "execution_count": 19,
      "id": "5a5b0aca",
      "metadata": {
        "id": "5a5b0aca"
      },
      "outputs": [],
      "source": [
        "\n",
        "def save_model_checkpoint(path, model, optimizer, val_loss, val_acc, train_acc, train_loss ):\n",
        "    if path == None:\n",
        "        return print(\"Kindly define a path\")\n",
        "    path = path\n",
        "    \n",
        "    save_dict = {\"model_dict\" : model.state_dict(), \n",
        "                 \"optimizer_dict\": optimizer.state_dict(),\n",
        "                 \"val_loss_dict\": val_loss,\n",
        "                 \"val_acc_dict\": val_acc,\n",
        "                 \"train_acc_dict\": train_acc,\n",
        "                 \"train_loss_dict\": train_loss}\n",
        "    torch.save(save_dict, path)\n",
        "    return print(\"Model Saved to ==> {}\".format(path))"
      ]
    },
    {
      "cell_type": "code",
      "execution_count": 20,
      "id": "58348edd",
      "metadata": {
        "id": "58348edd"
      },
      "outputs": [],
      "source": [
        "# training and validation after every epoch\n",
        "def train(model, train_loader, val_loader, criterion,num_epochs, save_name):\n",
        "    best_val_loss = float(\"Inf\") \n",
        "    train_losses = []\n",
        "    val_losses = []\n",
        "    train_acc = []\n",
        "    val_acc = []\n",
        "    cur_step = 0\n",
        "    train_pred = []\n",
        "    val_pred = []\n",
        "\n",
        "    for epoch in range(num_epochs):\n",
        "        running_loss = 0.0\n",
        "        running_train_acc = 0.0\n",
        "  \n",
        "        model.train()\n",
        "        print(\"Starting epoch \" + str(epoch+1))\n",
        "        for train_data, targets in train_loader:\n",
        "            \n",
        "           \n",
        "            # Forward\n",
        "            input_tensor = train_data.to(device)\n",
        "            outputs = model.forward(input_tensor)\n",
        "            loss = criterion(outputs,targets.to(device))\n",
        "            # loss = loss/60\n",
        "                \n",
        "            # Backward and optimize\n",
        "            optimizer.zero_grad()\n",
        "            loss.backward()\n",
        "            optimizer.step()   \n",
        "            running_loss += loss\n",
        "          \n",
        "\n",
        "        avg_train_loss = running_loss / len(train_loader)\n",
        "        train_losses.append(avg_train_loss)\n",
        "        print(\"Training Pass Completed\")\n",
        "\n",
        "        ########################################|Validation Set|#############################################\n",
        "        val_running_loss = 0.0\n",
        "        with torch.no_grad():\n",
        "            model.eval()\n",
        "            for val_data, val_targets in val_loader:\n",
        "                input_tensor = val_data.to(device)\n",
        "                outputs = model.forward(input_tensor)\n",
        "                loss = criterion(outputs,val_targets.to(device))\n",
        "                # loss = loss/60\n",
        "                val_running_loss += loss\n",
        "\n",
        "        avg_val_loss = val_running_loss / len(val_loader)\n",
        "        val_losses.append(avg_val_loss)\n",
        "\n",
        "        \n",
        "        print('Epoch [{}/{}],Train Loss: {:.4f}, Valid Loss: {:.8f}' \n",
        "            .format(epoch+1, num_epochs, avg_train_loss, avg_val_loss))\n",
        "        if avg_val_loss < best_val_loss:\n",
        "            best_val_loss = avg_val_loss \n",
        "            save_model_checkpoint(save_name, model, optimizer, best_val_loss, 0, 0, avg_train_loss )\n",
        "    \n",
        "    print(\"Finished Training\") \n",
        "    return train_losses, val_losses\n",
        "     "
      ]
    },
    {
      "cell_type": "code",
      "execution_count": 21,
      "id": "176b3ea3",
      "metadata": {
        "id": "176b3ea3",
        "colab": {
          "base_uri": "https://localhost:8080/"
        },
        "outputId": "e55c4c51-4935-436c-a0fa-2beeb23612ce"
      },
      "outputs": [
        {
          "output_type": "stream",
          "name": "stdout",
          "text": [
            "Starting epoch 1\n",
            "Training Pass Completed\n",
            "Epoch [1/150],Train Loss: 0.1629, Valid Loss: 0.09744691\n",
            "Model Saved to ==> LSTM_1.pt\n",
            "Starting epoch 2\n",
            "Training Pass Completed\n",
            "Epoch [2/150],Train Loss: 0.0896, Valid Loss: 0.09296661\n",
            "Model Saved to ==> LSTM_1.pt\n",
            "Starting epoch 3\n",
            "Training Pass Completed\n",
            "Epoch [3/150],Train Loss: 0.0842, Valid Loss: 0.09512015\n",
            "Starting epoch 4\n",
            "Training Pass Completed\n",
            "Epoch [4/150],Train Loss: 0.0843, Valid Loss: 0.08963707\n",
            "Model Saved to ==> LSTM_1.pt\n",
            "Starting epoch 5\n",
            "Training Pass Completed\n",
            "Epoch [5/150],Train Loss: 0.0849, Valid Loss: 0.08862054\n",
            "Model Saved to ==> LSTM_1.pt\n",
            "Starting epoch 6\n",
            "Training Pass Completed\n",
            "Epoch [6/150],Train Loss: 0.0834, Valid Loss: 0.09306136\n",
            "Starting epoch 7\n",
            "Training Pass Completed\n",
            "Epoch [7/150],Train Loss: 0.0833, Valid Loss: 0.09331287\n",
            "Starting epoch 8\n",
            "Training Pass Completed\n",
            "Epoch [8/150],Train Loss: 0.0844, Valid Loss: 0.09416815\n",
            "Starting epoch 9\n",
            "Training Pass Completed\n",
            "Epoch [9/150],Train Loss: 0.0840, Valid Loss: 0.09164658\n",
            "Starting epoch 10\n",
            "Training Pass Completed\n",
            "Epoch [10/150],Train Loss: 0.0839, Valid Loss: 0.09308996\n",
            "Starting epoch 11\n",
            "Training Pass Completed\n",
            "Epoch [11/150],Train Loss: 0.0836, Valid Loss: 0.09568685\n",
            "Starting epoch 12\n",
            "Training Pass Completed\n",
            "Epoch [12/150],Train Loss: 0.0832, Valid Loss: 0.09347834\n",
            "Starting epoch 13\n",
            "Training Pass Completed\n",
            "Epoch [13/150],Train Loss: 0.0840, Valid Loss: 0.09495221\n",
            "Starting epoch 14\n",
            "Training Pass Completed\n",
            "Epoch [14/150],Train Loss: 0.0837, Valid Loss: 0.09283201\n",
            "Starting epoch 15\n",
            "Training Pass Completed\n",
            "Epoch [15/150],Train Loss: 0.0836, Valid Loss: 0.09355708\n",
            "Starting epoch 16\n",
            "Training Pass Completed\n",
            "Epoch [16/150],Train Loss: 0.0842, Valid Loss: 0.09230145\n",
            "Starting epoch 17\n",
            "Training Pass Completed\n",
            "Epoch [17/150],Train Loss: 0.0839, Valid Loss: 0.09119419\n",
            "Starting epoch 18\n",
            "Training Pass Completed\n",
            "Epoch [18/150],Train Loss: 0.0845, Valid Loss: 0.09258939\n",
            "Starting epoch 19\n",
            "Training Pass Completed\n",
            "Epoch [19/150],Train Loss: 0.0841, Valid Loss: 0.09022631\n",
            "Starting epoch 20\n",
            "Training Pass Completed\n",
            "Epoch [20/150],Train Loss: 0.0830, Valid Loss: 0.09181191\n",
            "Starting epoch 21\n",
            "Training Pass Completed\n",
            "Epoch [21/150],Train Loss: 0.0834, Valid Loss: 0.09277719\n",
            "Starting epoch 22\n",
            "Training Pass Completed\n",
            "Epoch [22/150],Train Loss: 0.0843, Valid Loss: 0.09337940\n",
            "Starting epoch 23\n",
            "Training Pass Completed\n",
            "Epoch [23/150],Train Loss: 0.0835, Valid Loss: 0.09338739\n",
            "Starting epoch 24\n",
            "Training Pass Completed\n",
            "Epoch [24/150],Train Loss: 0.0841, Valid Loss: 0.08986478\n",
            "Starting epoch 25\n",
            "Training Pass Completed\n",
            "Epoch [25/150],Train Loss: 0.0843, Valid Loss: 0.09032840\n",
            "Starting epoch 26\n",
            "Training Pass Completed\n",
            "Epoch [26/150],Train Loss: 0.0835, Valid Loss: 0.09042554\n",
            "Starting epoch 27\n",
            "Training Pass Completed\n",
            "Epoch [27/150],Train Loss: 0.0835, Valid Loss: 0.09016886\n",
            "Starting epoch 28\n",
            "Training Pass Completed\n",
            "Epoch [28/150],Train Loss: 0.0836, Valid Loss: 0.09005284\n",
            "Starting epoch 29\n",
            "Training Pass Completed\n",
            "Epoch [29/150],Train Loss: 0.0837, Valid Loss: 0.09268656\n",
            "Starting epoch 30\n",
            "Training Pass Completed\n",
            "Epoch [30/150],Train Loss: 0.0833, Valid Loss: 0.09287576\n",
            "Starting epoch 31\n",
            "Training Pass Completed\n",
            "Epoch [31/150],Train Loss: 0.0833, Valid Loss: 0.08882833\n",
            "Starting epoch 32\n",
            "Training Pass Completed\n",
            "Epoch [32/150],Train Loss: 0.0827, Valid Loss: 0.09167469\n",
            "Starting epoch 33\n",
            "Training Pass Completed\n",
            "Epoch [33/150],Train Loss: 0.0837, Valid Loss: 0.09490795\n",
            "Starting epoch 34\n",
            "Training Pass Completed\n",
            "Epoch [34/150],Train Loss: 0.0831, Valid Loss: 0.09009500\n",
            "Starting epoch 35\n",
            "Training Pass Completed\n",
            "Epoch [35/150],Train Loss: 0.0830, Valid Loss: 0.09149238\n",
            "Starting epoch 36\n",
            "Training Pass Completed\n",
            "Epoch [36/150],Train Loss: 0.0829, Valid Loss: 0.09394608\n",
            "Starting epoch 37\n",
            "Training Pass Completed\n",
            "Epoch [37/150],Train Loss: 0.0832, Valid Loss: 0.09219004\n",
            "Starting epoch 38\n",
            "Training Pass Completed\n",
            "Epoch [38/150],Train Loss: 0.0831, Valid Loss: 0.09212485\n",
            "Starting epoch 39\n",
            "Training Pass Completed\n",
            "Epoch [39/150],Train Loss: 0.0830, Valid Loss: 0.09306499\n",
            "Starting epoch 40\n",
            "Training Pass Completed\n",
            "Epoch [40/150],Train Loss: 0.0836, Valid Loss: 0.09323500\n",
            "Starting epoch 41\n",
            "Training Pass Completed\n",
            "Epoch [41/150],Train Loss: 0.0828, Valid Loss: 0.09041973\n",
            "Starting epoch 42\n",
            "Training Pass Completed\n",
            "Epoch [42/150],Train Loss: 0.0826, Valid Loss: 0.09193418\n",
            "Starting epoch 43\n",
            "Training Pass Completed\n",
            "Epoch [43/150],Train Loss: 0.0834, Valid Loss: 0.09177801\n",
            "Starting epoch 44\n",
            "Training Pass Completed\n",
            "Epoch [44/150],Train Loss: 0.0841, Valid Loss: 0.08888484\n",
            "Starting epoch 45\n",
            "Training Pass Completed\n",
            "Epoch [45/150],Train Loss: 0.0831, Valid Loss: 0.08932395\n",
            "Starting epoch 46\n",
            "Training Pass Completed\n",
            "Epoch [46/150],Train Loss: 0.0832, Valid Loss: 0.09121212\n",
            "Starting epoch 47\n",
            "Training Pass Completed\n",
            "Epoch [47/150],Train Loss: 0.0831, Valid Loss: 0.09021641\n",
            "Starting epoch 48\n",
            "Training Pass Completed\n",
            "Epoch [48/150],Train Loss: 0.0829, Valid Loss: 0.09078306\n",
            "Starting epoch 49\n",
            "Training Pass Completed\n",
            "Epoch [49/150],Train Loss: 0.0833, Valid Loss: 0.09337141\n",
            "Starting epoch 50\n",
            "Training Pass Completed\n",
            "Epoch [50/150],Train Loss: 0.0829, Valid Loss: 0.09311180\n",
            "Starting epoch 51\n",
            "Training Pass Completed\n",
            "Epoch [51/150],Train Loss: 0.0835, Valid Loss: 0.09237752\n",
            "Starting epoch 52\n",
            "Training Pass Completed\n",
            "Epoch [52/150],Train Loss: 0.0829, Valid Loss: 0.09126536\n",
            "Starting epoch 53\n",
            "Training Pass Completed\n",
            "Epoch [53/150],Train Loss: 0.0833, Valid Loss: 0.09358141\n",
            "Starting epoch 54\n",
            "Training Pass Completed\n",
            "Epoch [54/150],Train Loss: 0.0829, Valid Loss: 0.09200950\n",
            "Starting epoch 55\n",
            "Training Pass Completed\n",
            "Epoch [55/150],Train Loss: 0.0829, Valid Loss: 0.09016604\n",
            "Starting epoch 56\n",
            "Training Pass Completed\n",
            "Epoch [56/150],Train Loss: 0.0833, Valid Loss: 0.09397422\n",
            "Starting epoch 57\n",
            "Training Pass Completed\n",
            "Epoch [57/150],Train Loss: 0.0829, Valid Loss: 0.09242132\n",
            "Starting epoch 58\n",
            "Training Pass Completed\n",
            "Epoch [58/150],Train Loss: 0.0834, Valid Loss: 0.09261285\n",
            "Starting epoch 59\n",
            "Training Pass Completed\n",
            "Epoch [59/150],Train Loss: 0.0823, Valid Loss: 0.09181231\n",
            "Starting epoch 60\n",
            "Training Pass Completed\n",
            "Epoch [60/150],Train Loss: 0.0823, Valid Loss: 0.09155275\n",
            "Starting epoch 61\n",
            "Training Pass Completed\n",
            "Epoch [61/150],Train Loss: 0.0827, Valid Loss: 0.09104916\n",
            "Starting epoch 62\n",
            "Training Pass Completed\n",
            "Epoch [62/150],Train Loss: 0.0834, Valid Loss: 0.09249078\n",
            "Starting epoch 63\n",
            "Training Pass Completed\n",
            "Epoch [63/150],Train Loss: 0.0831, Valid Loss: 0.09065093\n",
            "Starting epoch 64\n",
            "Training Pass Completed\n",
            "Epoch [64/150],Train Loss: 0.0831, Valid Loss: 0.09104417\n",
            "Starting epoch 65\n",
            "Training Pass Completed\n",
            "Epoch [65/150],Train Loss: 0.0826, Valid Loss: 0.09013406\n",
            "Starting epoch 66\n",
            "Training Pass Completed\n",
            "Epoch [66/150],Train Loss: 0.0833, Valid Loss: 0.08938685\n",
            "Starting epoch 67\n",
            "Training Pass Completed\n",
            "Epoch [67/150],Train Loss: 0.0831, Valid Loss: 0.08926822\n",
            "Starting epoch 68\n",
            "Training Pass Completed\n",
            "Epoch [68/150],Train Loss: 0.0826, Valid Loss: 0.09307281\n",
            "Starting epoch 69\n",
            "Training Pass Completed\n",
            "Epoch [69/150],Train Loss: 0.0825, Valid Loss: 0.09156857\n",
            "Starting epoch 70\n",
            "Training Pass Completed\n",
            "Epoch [70/150],Train Loss: 0.0824, Valid Loss: 0.09215606\n",
            "Starting epoch 71\n",
            "Training Pass Completed\n",
            "Epoch [71/150],Train Loss: 0.0831, Valid Loss: 0.09020714\n",
            "Starting epoch 72\n",
            "Training Pass Completed\n",
            "Epoch [72/150],Train Loss: 0.0829, Valid Loss: 0.09206636\n",
            "Starting epoch 73\n",
            "Training Pass Completed\n",
            "Epoch [73/150],Train Loss: 0.0831, Valid Loss: 0.09244199\n",
            "Starting epoch 74\n",
            "Training Pass Completed\n",
            "Epoch [74/150],Train Loss: 0.0825, Valid Loss: 0.09185254\n",
            "Starting epoch 75\n",
            "Training Pass Completed\n",
            "Epoch [75/150],Train Loss: 0.0829, Valid Loss: 0.09178378\n",
            "Starting epoch 76\n",
            "Training Pass Completed\n",
            "Epoch [76/150],Train Loss: 0.0827, Valid Loss: 0.08870268\n",
            "Starting epoch 77\n",
            "Training Pass Completed\n",
            "Epoch [77/150],Train Loss: 0.0830, Valid Loss: 0.09150872\n",
            "Starting epoch 78\n",
            "Training Pass Completed\n",
            "Epoch [78/150],Train Loss: 0.0827, Valid Loss: 0.09001316\n",
            "Starting epoch 79\n",
            "Training Pass Completed\n",
            "Epoch [79/150],Train Loss: 0.0831, Valid Loss: 0.09094344\n",
            "Starting epoch 80\n",
            "Training Pass Completed\n",
            "Epoch [80/150],Train Loss: 0.0830, Valid Loss: 0.09137400\n",
            "Starting epoch 81\n",
            "Training Pass Completed\n",
            "Epoch [81/150],Train Loss: 0.0827, Valid Loss: 0.09184871\n",
            "Starting epoch 82\n",
            "Training Pass Completed\n",
            "Epoch [82/150],Train Loss: 0.0825, Valid Loss: 0.09103264\n",
            "Starting epoch 83\n",
            "Training Pass Completed\n",
            "Epoch [83/150],Train Loss: 0.0828, Valid Loss: 0.08989054\n",
            "Starting epoch 84\n",
            "Training Pass Completed\n",
            "Epoch [84/150],Train Loss: 0.0830, Valid Loss: 0.09150785\n",
            "Starting epoch 85\n",
            "Training Pass Completed\n",
            "Epoch [85/150],Train Loss: 0.0827, Valid Loss: 0.08969329\n",
            "Starting epoch 86\n",
            "Training Pass Completed\n",
            "Epoch [86/150],Train Loss: 0.0829, Valid Loss: 0.09102929\n",
            "Starting epoch 87\n",
            "Training Pass Completed\n",
            "Epoch [87/150],Train Loss: 0.0828, Valid Loss: 0.08901591\n",
            "Starting epoch 88\n",
            "Training Pass Completed\n",
            "Epoch [88/150],Train Loss: 0.0827, Valid Loss: 0.09039276\n",
            "Starting epoch 89\n",
            "Training Pass Completed\n",
            "Epoch [89/150],Train Loss: 0.0827, Valid Loss: 0.09183691\n",
            "Starting epoch 90\n",
            "Training Pass Completed\n",
            "Epoch [90/150],Train Loss: 0.0829, Valid Loss: 0.08970621\n",
            "Starting epoch 91\n",
            "Training Pass Completed\n",
            "Epoch [91/150],Train Loss: 0.0828, Valid Loss: 0.09168781\n",
            "Starting epoch 92\n",
            "Training Pass Completed\n",
            "Epoch [92/150],Train Loss: 0.0829, Valid Loss: 0.08962428\n",
            "Starting epoch 93\n",
            "Training Pass Completed\n",
            "Epoch [93/150],Train Loss: 0.0827, Valid Loss: 0.09026277\n",
            "Starting epoch 94\n",
            "Training Pass Completed\n",
            "Epoch [94/150],Train Loss: 0.0829, Valid Loss: 0.09175669\n",
            "Starting epoch 95\n",
            "Training Pass Completed\n",
            "Epoch [95/150],Train Loss: 0.0827, Valid Loss: 0.09096410\n",
            "Starting epoch 96\n",
            "Training Pass Completed\n",
            "Epoch [96/150],Train Loss: 0.0826, Valid Loss: 0.09222525\n",
            "Starting epoch 97\n",
            "Training Pass Completed\n",
            "Epoch [97/150],Train Loss: 0.0828, Valid Loss: 0.09187141\n",
            "Starting epoch 98\n",
            "Training Pass Completed\n",
            "Epoch [98/150],Train Loss: 0.0826, Valid Loss: 0.09140354\n",
            "Starting epoch 99\n",
            "Training Pass Completed\n",
            "Epoch [99/150],Train Loss: 0.0831, Valid Loss: 0.09210388\n",
            "Starting epoch 100\n",
            "Training Pass Completed\n",
            "Epoch [100/150],Train Loss: 0.0826, Valid Loss: 0.08915909\n",
            "Starting epoch 101\n",
            "Training Pass Completed\n",
            "Epoch [101/150],Train Loss: 0.0830, Valid Loss: 0.09283777\n",
            "Starting epoch 102\n",
            "Training Pass Completed\n",
            "Epoch [102/150],Train Loss: 0.0827, Valid Loss: 0.09163166\n",
            "Starting epoch 103\n",
            "Training Pass Completed\n",
            "Epoch [103/150],Train Loss: 0.0825, Valid Loss: 0.09070563\n",
            "Starting epoch 104\n",
            "Training Pass Completed\n",
            "Epoch [104/150],Train Loss: 0.0827, Valid Loss: 0.09347916\n",
            "Starting epoch 105\n",
            "Training Pass Completed\n",
            "Epoch [105/150],Train Loss: 0.0829, Valid Loss: 0.09304793\n",
            "Starting epoch 106\n",
            "Training Pass Completed\n",
            "Epoch [106/150],Train Loss: 0.0827, Valid Loss: 0.09077791\n",
            "Starting epoch 107\n",
            "Training Pass Completed\n",
            "Epoch [107/150],Train Loss: 0.0825, Valid Loss: 0.09040201\n",
            "Starting epoch 108\n",
            "Training Pass Completed\n",
            "Epoch [108/150],Train Loss: 0.0830, Valid Loss: 0.09088754\n",
            "Starting epoch 109\n",
            "Training Pass Completed\n",
            "Epoch [109/150],Train Loss: 0.0832, Valid Loss: 0.09091498\n",
            "Starting epoch 110\n",
            "Training Pass Completed\n",
            "Epoch [110/150],Train Loss: 0.0830, Valid Loss: 0.09209083\n",
            "Starting epoch 111\n",
            "Training Pass Completed\n",
            "Epoch [111/150],Train Loss: 0.0826, Valid Loss: 0.09034875\n",
            "Starting epoch 112\n",
            "Training Pass Completed\n",
            "Epoch [112/150],Train Loss: 0.0828, Valid Loss: 0.09044296\n",
            "Starting epoch 113\n",
            "Training Pass Completed\n",
            "Epoch [113/150],Train Loss: 0.0828, Valid Loss: 0.09236992\n",
            "Starting epoch 114\n",
            "Training Pass Completed\n",
            "Epoch [114/150],Train Loss: 0.0827, Valid Loss: 0.08948775\n",
            "Starting epoch 115\n",
            "Training Pass Completed\n",
            "Epoch [115/150],Train Loss: 0.0823, Valid Loss: 0.09044549\n",
            "Starting epoch 116\n",
            "Training Pass Completed\n",
            "Epoch [116/150],Train Loss: 0.0821, Valid Loss: 0.09029445\n",
            "Starting epoch 117\n",
            "Training Pass Completed\n",
            "Epoch [117/150],Train Loss: 0.0826, Valid Loss: 0.09072298\n",
            "Starting epoch 118\n",
            "Training Pass Completed\n",
            "Epoch [118/150],Train Loss: 0.0829, Valid Loss: 0.09139811\n",
            "Starting epoch 119\n",
            "Training Pass Completed\n",
            "Epoch [119/150],Train Loss: 0.0828, Valid Loss: 0.09187834\n",
            "Starting epoch 120\n",
            "Training Pass Completed\n",
            "Epoch [120/150],Train Loss: 0.0830, Valid Loss: 0.09165039\n",
            "Starting epoch 121\n",
            "Training Pass Completed\n",
            "Epoch [121/150],Train Loss: 0.0829, Valid Loss: 0.09237704\n",
            "Starting epoch 122\n",
            "Training Pass Completed\n",
            "Epoch [122/150],Train Loss: 0.0827, Valid Loss: 0.09059422\n",
            "Starting epoch 123\n",
            "Training Pass Completed\n",
            "Epoch [123/150],Train Loss: 0.0827, Valid Loss: 0.09101533\n",
            "Starting epoch 124\n",
            "Training Pass Completed\n",
            "Epoch [124/150],Train Loss: 0.0831, Valid Loss: 0.09198548\n",
            "Starting epoch 125\n",
            "Training Pass Completed\n",
            "Epoch [125/150],Train Loss: 0.0828, Valid Loss: 0.08995874\n",
            "Starting epoch 126\n",
            "Training Pass Completed\n",
            "Epoch [126/150],Train Loss: 0.0827, Valid Loss: 0.09295380\n",
            "Starting epoch 127\n",
            "Training Pass Completed\n",
            "Epoch [127/150],Train Loss: 0.0828, Valid Loss: 0.09335418\n",
            "Starting epoch 128\n",
            "Training Pass Completed\n",
            "Epoch [128/150],Train Loss: 0.0826, Valid Loss: 0.09118865\n",
            "Starting epoch 129\n",
            "Training Pass Completed\n",
            "Epoch [129/150],Train Loss: 0.0826, Valid Loss: 0.09246349\n",
            "Starting epoch 130\n",
            "Training Pass Completed\n",
            "Epoch [130/150],Train Loss: 0.0826, Valid Loss: 0.08995257\n",
            "Starting epoch 131\n",
            "Training Pass Completed\n",
            "Epoch [131/150],Train Loss: 0.0826, Valid Loss: 0.09206423\n",
            "Starting epoch 132\n",
            "Training Pass Completed\n",
            "Epoch [132/150],Train Loss: 0.0826, Valid Loss: 0.09083638\n",
            "Starting epoch 133\n",
            "Training Pass Completed\n",
            "Epoch [133/150],Train Loss: 0.0827, Valid Loss: 0.09106672\n",
            "Starting epoch 134\n",
            "Training Pass Completed\n",
            "Epoch [134/150],Train Loss: 0.0820, Valid Loss: 0.09064217\n",
            "Starting epoch 135\n",
            "Training Pass Completed\n",
            "Epoch [135/150],Train Loss: 0.0826, Valid Loss: 0.09202523\n",
            "Starting epoch 136\n",
            "Training Pass Completed\n",
            "Epoch [136/150],Train Loss: 0.0830, Valid Loss: 0.09187422\n",
            "Starting epoch 137\n",
            "Training Pass Completed\n",
            "Epoch [137/150],Train Loss: 0.0822, Valid Loss: 0.09266364\n",
            "Starting epoch 138\n",
            "Training Pass Completed\n",
            "Epoch [138/150],Train Loss: 0.0827, Valid Loss: 0.09052515\n",
            "Starting epoch 139\n",
            "Training Pass Completed\n",
            "Epoch [139/150],Train Loss: 0.0827, Valid Loss: 0.09162679\n",
            "Starting epoch 140\n",
            "Training Pass Completed\n",
            "Epoch [140/150],Train Loss: 0.0821, Valid Loss: 0.09369285\n",
            "Starting epoch 141\n",
            "Training Pass Completed\n",
            "Epoch [141/150],Train Loss: 0.0830, Valid Loss: 0.09199850\n",
            "Starting epoch 142\n",
            "Training Pass Completed\n",
            "Epoch [142/150],Train Loss: 0.0825, Valid Loss: 0.09207040\n",
            "Starting epoch 143\n",
            "Training Pass Completed\n",
            "Epoch [143/150],Train Loss: 0.0826, Valid Loss: 0.09092260\n",
            "Starting epoch 144\n",
            "Training Pass Completed\n",
            "Epoch [144/150],Train Loss: 0.0828, Valid Loss: 0.08734273\n",
            "Model Saved to ==> LSTM_1.pt\n",
            "Starting epoch 145\n",
            "Training Pass Completed\n",
            "Epoch [145/150],Train Loss: 0.0827, Valid Loss: 0.09054060\n",
            "Starting epoch 146\n",
            "Training Pass Completed\n",
            "Epoch [146/150],Train Loss: 0.0828, Valid Loss: 0.09182330\n",
            "Starting epoch 147\n",
            "Training Pass Completed\n",
            "Epoch [147/150],Train Loss: 0.0829, Valid Loss: 0.09186307\n",
            "Starting epoch 148\n",
            "Training Pass Completed\n",
            "Epoch [148/150],Train Loss: 0.0830, Valid Loss: 0.09135877\n",
            "Starting epoch 149\n",
            "Training Pass Completed\n",
            "Epoch [149/150],Train Loss: 0.0825, Valid Loss: 0.09112316\n",
            "Starting epoch 150\n",
            "Training Pass Completed\n",
            "Epoch [150/150],Train Loss: 0.0829, Valid Loss: 0.09107942\n",
            "Finished Training\n"
          ]
        }
      ],
      "source": [
        "\n",
        "from torch.nn import L1Loss\n",
        "\n",
        "model=LSTM_a2(2,256,3,device='cpu')\n",
        "\n",
        "#optimizer=torch.optim.Adagrad(model.parameters(), lr=0.01, lr_decay=0, weight_decay=0, initial_accumulator_value=0, eps=1e-10)\n",
        "#optimizer=torch.optim.RMSprop(model.parameters(), lr=0.01, alpha=0.99, eps=1e-08)\n",
        "optimizer = torch.optim.SGD(model.parameters(), lr=0.01, momentum=0.9)\n",
        "#optimizer = torch.optim.Adam(model.parameters(), lr= 0.001, weight_decay = 0.01)\n",
        "\n",
        "num_epochs = 150\n",
        "save_name = f'LSTM_1.pt'\n",
        "criterion = nn.MSELoss()\n",
        "#criterion=L1Loss()\n",
        "\n",
        "obtained_train_loss, obtained_val_loss = train(model, \n",
        "                                                      train_loader, val_loader, criterion, num_epochs, save_name)"
      ]
    },
    {
      "cell_type": "code",
      "source": [
        "print(min([tensor.detach().item() for tensor in obtained_val_loss]))"
      ],
      "metadata": {
        "colab": {
          "base_uri": "https://localhost:8080/"
        },
        "id": "MN5o92wb4Ffn",
        "outputId": "c146899f-5a59-49d9-c53f-dc71aa7cb6b6"
      },
      "id": "MN5o92wb4Ffn",
      "execution_count": 22,
      "outputs": [
        {
          "output_type": "stream",
          "name": "stdout",
          "text": [
            "0.08734273165464401\n"
          ]
        }
      ]
    },
    {
      "cell_type": "code",
      "source": [
        "val_loss_adagrad=[0.10775696486234665, 0.09990982711315155, 0.09356175363063812, 0.09261330217123032, 0.09110166877508163, 0.09626977890729904, 0.09320446848869324, 0.09535153210163116, 0.0920148491859436, 0.096127450466156, 0.0983283594250679, 0.09121722728013992, 0.09322917461395264, 0.09332352876663208, 0.09810879826545715, 0.09423799812793732, 0.09266828000545502, 0.09509880095720291, 0.09212228655815125, 0.094944067299366, 0.09023258090019226, 0.0931842103600502, 0.09399161487817764, 0.09303907305002213, 0.09374510496854782, 0.0925590768456459, 0.0925554633140564, 0.09466703981161118, 0.08906292915344238, 0.0924035832285881, 0.09407301247119904, 0.09164590388536453, 0.09295303374528885, 0.08733920007944107, 0.09620130062103271, 0.0922817811369896, 0.09552191942930222, 0.09065622836351395, 0.09351206570863724, 0.09633152186870575, 0.09349539130926132, 0.090006522834301, 0.09232228249311447, 0.09217618405818939, 0.09430994838476181, 0.09510460495948792, 0.09720087051391602, 0.09396366029977798, 0.08832370489835739, 0.09244177490472794, 0.0933479368686676, 0.09335318952798843, 0.0905676856637001, 0.09265295416116714, 0.09386637061834335, 0.09579864144325256, 0.09089333564043045, 0.09009724110364914, 0.08936219662427902, 0.09318411350250244, 0.09202060848474503, 0.09120874106884003, 0.09186840802431107, 0.09208668768405914, 0.08917973935604095, 0.09026630222797394, 0.09194076806306839, 0.09493733197450638, 0.09563656151294708, 0.09190733730792999, 0.09238652139902115, 0.0902077853679657, 0.09229909628629684, 0.08977751433849335, 0.09441301971673965, 0.09370480477809906, 0.09389881044626236, 0.09271634370088577, 0.09004056453704834, 0.09366809576749802, 0.09300873428583145, 0.09405921399593353, 0.09198001772165298, 0.0923023372888565, 0.09339451789855957, 0.09404896944761276, 0.09403906762599945, 0.09024978429079056, 0.09204896539449692, 0.09343773126602173, 0.09405837953090668, 0.09104418754577637, 0.09499628096818924, 0.09016826003789902, 0.09426487982273102, 0.09013887494802475, 0.09215015172958374, 0.0932808518409729, 0.0920465737581253, 0.0917765200138092, 0.09194115549325943, 0.0938996747136116, 0.0885835736989975, 0.09126915782690048, 0.09277617931365967, 0.09333697706460953, 0.09050162881612778, 0.09099341928958893, 0.09443147480487823, 0.09495674073696136, 0.09256146848201752, 0.09050930291414261, 0.0913139283657074, 0.09256158024072647, 0.09558137506246567, 0.0926317498087883, 0.09308324009180069, 0.0892009288072586, 0.09329825639724731, 0.08898835629224777, 0.09080056846141815, 0.09171279519796371, 0.09230776131153107, 0.09062528610229492, 0.09183109551668167, 0.09362627565860748, 0.09339401870965958, 0.09265417605638504, 0.09053554385900497, 0.09331195801496506, 0.09056562185287476, 0.09242362529039383, 0.0904649868607521, 0.09264250844717026, 0.09379438310861588, 0.09344030916690826, 0.09234251827001572, 0.0922057256102562, 0.09025966376066208, 0.09066358953714371, 0.09241080284118652, 0.09366975724697113, 0.08974472433328629, 0.09368561208248138, 0.09476951509714127, 0.0916583389043808, 0.0926600843667984, 0.09181084483861923, 0.09187254309654236, 0.09340328723192215]"
      ],
      "metadata": {
        "id": "fDvheas18QPE"
      },
      "id": "fDvheas18QPE",
      "execution_count": 23,
      "outputs": []
    },
    {
      "cell_type": "code",
      "source": [
        "val_loss_adam=[0.12296508997678757, 0.09556609392166138, 0.1006212905049324, 0.10212159156799316, 0.09822243452072144, 0.09847055375576019, 0.09731344133615494, 0.09632331132888794, 0.0935005322098732, 0.09493404626846313, 0.09233900159597397, 0.09604939073324203, 0.09344117343425751, 0.095109723508358, 0.09695472568273544, 0.09572571516036987, 0.09370797872543335, 0.09437590092420578, 0.09653192013502121, 0.095401830971241, 0.09000592678785324, 0.09435334801673889, 0.09389906376600266, 0.09674026072025299, 0.09428450465202332, 0.09316908568143845, 0.0915304645895958, 0.09658324718475342, 0.0914929062128067, 0.09070684760808945, 0.0999055877327919, 0.10278231650590897, 0.09293412417173386, 0.09597516059875488, 0.09299665689468384, 0.09295130521059036, 0.09396441280841827, 0.09401188045740128, 0.09220462292432785, 0.09588828682899475, 0.09624627232551575, 0.094636470079422, 0.09386979043483734, 0.09139809757471085, 0.09461529552936554, 0.09445671737194061, 0.09360909461975098, 0.0912790521979332, 0.09293743222951889, 0.0934622585773468, 0.09521378576755524, 0.09276725351810455, 0.09251800924539566, 0.09393846988677979, 0.09392613172531128, 0.09225927293300629, 0.09252999722957611, 0.09185706824064255, 0.0933009684085846, 0.0904800221323967, 0.09330812096595764, 0.09358543902635574, 0.09154193103313446, 0.09177282452583313, 0.09451105445623398, 0.09463188797235489, 0.09268354624509811, 0.09424841403961182, 0.09198615700006485, 0.08967051655054092, 0.09174946695566177, 0.09271553158760071, 0.09360775351524353, 0.09529147297143936, 0.09440536797046661, 0.09333918243646622, 0.09167390316724777, 0.091200090944767, 0.09384336322546005, 0.09371115267276764, 0.09192340075969696, 0.0943499505519867, 0.09480199962854385, 0.08979517966508865, 0.09202273935079575, 0.09031543880701065, 0.09358120709657669, 0.0909731388092041, 0.08958359062671661, 0.09036674350500107, 0.09372510015964508, 0.09074749797582626, 0.09189340472221375, 0.09246257692575455, 0.09270744770765305, 0.0935666561126709, 0.09313010424375534, 0.09309736639261246, 0.08886104077100754, 0.09333416074514389, 0.09096422046422958, 0.09222117066383362, 0.0919971913099289, 0.0906357392668724, 0.09115485846996307, 0.09003614634275436, 0.09321502596139908, 0.09307845681905746, 0.09226669371128082, 0.09188651293516159, 0.0926167443394661, 0.09275801479816437, 0.09161069989204407, 0.09211697429418564, 0.09208118915557861, 0.09017246216535568, 0.09073369950056076, 0.09175865352153778, 0.09180852770805359, 0.09313041716814041, 0.09311217069625854, 0.09206037223339081, 0.09451041370630264, 0.09364200383424759, 0.09180519729852676, 0.09432439506053925, 0.0910857543349266, 0.09169841557741165, 0.09370984137058258, 0.09234414994716644, 0.09170742332935333, 0.09115937352180481, 0.09203428775072098, 0.09251650422811508, 0.09291784465312958, 0.09297361969947815, 0.0919882208108902, 0.09132539480924606, 0.09229638427495956, 0.09057865291833878, 0.09280334413051605, 0.09103507548570633, 0.09207046777009964, 0.09198334813117981, 0.09328224509954453, 0.09052105247974396, 0.09070400148630142, 0.09186679124832153, 0.09111606329679489, 0.0914120227098465]"
      ],
      "metadata": {
        "id": "R5ekJd7J9CCG"
      },
      "id": "R5ekJd7J9CCG",
      "execution_count": 24,
      "outputs": []
    },
    {
      "cell_type": "code",
      "source": [
        "val_loss_rms=[0.0988837257027626, 0.09208862483501434, 0.09344396740198135, 0.09711971879005432, 0.09507162868976593, 0.09286445379257202, 0.09192182868719101, 0.09472546726465225, 0.09334594011306763, 0.09392701834440231, 0.09608195722103119, 0.09006042778491974, 0.09208842366933823, 0.09570910036563873, 0.08931601792573929, 0.08947623521089554, 0.09273874759674072, 0.09475167840719223, 0.09329439699649811, 0.0933218002319336, 0.09115040302276611, 0.09498972445726395, 0.09067721664905548, 0.09050827473402023, 0.090626060962677, 0.09480041265487671, 0.09368706494569778, 0.0913509875535965, 0.08989205956459045, 0.09190718084573746, 0.09502244740724564, 0.09039454907178879, 0.0940360426902771, 0.0918930247426033, 0.09066776931285858, 0.09146369993686676, 0.09120883047580719, 0.09234746545553207, 0.09167943149805069, 0.09343191981315613, 0.09125420451164246, 0.0956616997718811, 0.09096821397542953, 0.09206687659025192, 0.09132635593414307, 0.09482698887586594, 0.09317934513092041, 0.09172386676073074, 0.0926685556769371, 0.09271682053804398, 0.09182586520910263, 0.09138220548629761, 0.09284266084432602, 0.09079664200544357, 0.09217057377099991, 0.09039860963821411, 0.09445807337760925, 0.09136983007192612, 0.09236463904380798, 0.09093628823757172, 0.09156893938779831, 0.09207524359226227, 0.09128594398498535, 0.09067298471927643, 0.09136123210191727, 0.09163456410169601, 0.09377925097942352, 0.09138384461402893, 0.08954472094774246, 0.08996136486530304, 0.09039847552776337, 0.08839161694049835, 0.08914825320243835, 0.0911293625831604, 0.08995255827903748, 0.09202560782432556, 0.092991404235363, 0.09019885212182999, 0.09109261631965637, 0.09299243241548538, 0.0916011780500412, 0.08998782187700272, 0.09188420325517654, 0.09172309190034866, 0.09188631922006607, 0.09333161264657974, 0.0929393395781517, 0.0902060866355896, 0.09128303825855255, 0.0904221162199974, 0.09135671705007553, 0.09181680530309677, 0.09367779642343521, 0.09348117560148239, 0.09058307111263275, 0.09262412041425705, 0.09262214601039886, 0.09108014404773712, 0.09412475675344467, 0.09338677674531937, 0.09075579047203064, 0.09086599946022034, 0.09076034277677536, 0.09198015183210373, 0.09035269916057587, 0.08855272084474564, 0.08943627029657364, 0.0923495963215828, 0.0919671356678009, 0.09063056111335754, 0.09169074892997742, 0.09205806255340576, 0.09204936772584915, 0.08958767354488373, 0.09224249422550201, 0.09166153520345688, 0.09152254462242126, 0.09100032597780228, 0.0922640860080719, 0.08998118340969086, 0.09160791337490082, 0.09152576327323914, 0.09307628124952316, 0.09271515905857086, 0.09202848374843597, 0.09077396988868713, 0.09122978895902634, 0.09229585528373718, 0.09120296686887741, 0.08976654708385468, 0.09237200021743774, 0.09047801792621613, 0.09079133719205856, 0.09186943620443344, 0.0923333391547203, 0.0911138504743576, 0.09191633015871048, 0.09024529904127121, 0.09212061762809753, 0.09262420982122421, 0.09090067446231842, 0.09361706674098969, 0.09164724498987198, 0.0913097932934761, 0.0913618803024292, 0.09080184251070023, 0.09136763960123062, 0.0892382338643074, 0.08979105949401855, 0.09145296365022659]"
      ],
      "metadata": {
        "id": "bR3XhZTj59TR"
      },
      "id": "bR3XhZTj59TR",
      "execution_count": 25,
      "outputs": []
    },
    {
      "cell_type": "code",
      "source": [
        "#btch size 32\n",
        "val_loss_sgd=[0.09917441755533218, 0.0971212312579155, 0.09351310133934021, 0.09410262852907181, 0.09312011301517487, 0.09407547116279602, 0.0929272472858429, 0.0949389860033989, 0.0942491888999939, 0.0950004979968071, 0.09200269728899002, 0.09433328360319138, 0.09207777678966522, 0.09051712602376938, 0.09165138751268387, 0.09294359385967255, 0.09532535821199417, 0.08864817768335342, 0.08862218260765076, 0.09060294926166534, 0.09394847601652145, 0.08993735909461975, 0.09334416687488556, 0.09206844866275787, 0.09537860006093979, 0.09039304405450821, 0.09137063473463058, 0.09153836965560913, 0.0916115939617157, 0.08908955752849579, 0.0928502008318901, 0.09222683310508728, 0.09182010591030121, 0.09198211133480072, 0.09143495559692383, 0.09354401379823685, 0.08969493955373764, 0.09193620085716248, 0.09425333142280579, 0.09011512994766235, 0.09050146490335464, 0.09176962077617645, 0.09227767586708069, 0.09439055621623993, 0.09420838207006454, 0.09296485036611557, 0.09159029275178909, 0.09071015566587448, 0.09121961146593094, 0.09111123532056808, 0.08985384553670883, 0.09255733340978622, 0.0915253683924675, 0.09426827728748322, 0.08965608477592468, 0.09354428946971893, 0.092104472219944, 0.09280232340097427, 0.09177619218826294, 0.093030646443367, 0.09074875712394714, 0.0901191309094429, 0.09214714914560318, 0.09339792281389236, 0.09059453755617142, 0.09248299896717072, 0.09161704033613205, 0.09132129698991776, 0.09165271371603012, 0.09079200774431229, 0.09166766703128815, 0.09293315559625626, 0.0898880735039711, 0.09053746610879898, 0.09122821688652039, 0.09402376413345337, 0.09111043810844421, 0.0912482813000679, 0.09105625003576279, 0.09291192144155502, 0.09140040725469589, 0.09178835153579712, 0.08978153765201569, 0.09118733555078506, 0.09154986590147018, 0.09171783179044724, 0.09198739379644394, 0.09201928973197937, 0.09222589433193207, 0.0920478031039238, 0.09138604998588562, 0.09231704473495483, 0.09121058881282806, 0.09343033283948898, 0.0891614705324173, 0.0911724716424942, 0.0925518125295639, 0.0919656828045845, 0.09471137076616287, 0.09156688302755356, 0.09170594811439514, 0.09287400543689728, 0.09059429913759232, 0.09174574166536331, 0.09163731336593628, 0.0932878628373146, 0.08897019922733307, 0.09185825288295746, 0.09242774546146393, 0.09104681015014648, 0.09143905341625214, 0.0907173901796341, 0.090238057076931, 0.0915752425789833, 0.09253956377506256, 0.0908249244093895, 0.09092939645051956, 0.0916309505701065, 0.0920465737581253, 0.0915193259716034, 0.09022223204374313, 0.09215531498193741, 0.0923694595694542, 0.09039679914712906, 0.0928473100066185, 0.09175633639097214, 0.09163565188646317, 0.09073693305253983, 0.090929314494133, 0.09055275470018387, 0.09059929847717285, 0.09133899211883545, 0.09074568748474121, 0.09048456698656082, 0.09141881763935089, 0.09139322489500046, 0.09230083227157593, 0.09033191204071045, 0.09185725450515747, 0.08926243335008621, 0.09114501625299454, 0.09094735980033875, 0.09020201861858368, 0.09161797910928726, 0.09292725473642349, 0.09275822341442108, 0.09193868190050125, 0.09122804552316666, 0.09081518650054932, 0.09196557849645615]"
      ],
      "metadata": {
        "id": "HK2ByYvN4Pq-"
      },
      "id": "HK2ByYvN4Pq-",
      "execution_count": 26,
      "outputs": []
    },
    {
      "cell_type": "code",
      "source": [
        "val_loss_sgd_64=[0.12382839620113373, 0.1028372123837471, 0.0979565680027008, 0.09984959661960602, 0.0959034189581871, 0.09708070755004883, 0.09439248591661453, 0.09540762007236481, 0.09417067468166351, 0.09611763060092926, 0.09624640643596649, 0.09644931554794312, 0.09482872486114502, 0.09629341959953308, 0.09604882448911667, 0.09635424613952637, 0.09566663950681686, 0.09459982067346573, 0.09560892730951309, 0.09409362077713013, 0.09673285484313965, 0.09529753029346466, 0.09622733294963837, 0.09432077407836914, 0.09713148325681686, 0.09346701949834824, 0.09436565637588501, 0.09583740681409836, 0.09463179856538773, 0.09450303763151169, 0.09340304881334305, 0.0934324562549591, 0.09681031107902527, 0.09412511438131332, 0.09410850703716278, 0.09386345744132996, 0.09547457098960876, 0.09353050589561462, 0.0961889699101448, 0.09485161304473877, 0.09629405289888382, 0.09445935487747192, 0.09275062382221222, 0.09438042342662811, 0.09630433470010757, 0.09205414354801178, 0.09209941327571869, 0.09650308638811111, 0.09350895136594772, 0.09683491289615631, 0.09417055547237396, 0.09321599453687668, 0.09347814321517944, 0.09537126123905182, 0.09392647445201874, 0.09368206560611725, 0.09531737864017487, 0.09281644225120544, 0.09445759654045105, 0.09466579556465149, 0.09493619948625565, 0.09409664571285248, 0.09548535943031311, 0.09395471215248108, 0.09460532665252686, 0.09484829753637314, 0.0930221676826477, 0.09437549859285355, 0.09363704919815063, 0.09345126152038574, 0.09535086154937744, 0.09361264109611511, 0.09483674168586731, 0.09472835063934326, 0.0959150642156601, 0.09377069771289825, 0.09569565951824188, 0.09342021495103836, 0.09381523728370667, 0.09438661485910416, 0.09333959221839905, 0.09449061751365662, 0.09508773684501648, 0.09414967894554138, 0.09332932531833649, 0.09399956464767456, 0.09266923367977142, 0.09225267171859741, 0.09368294477462769, 0.09477666765451431, 0.09313571453094482, 0.09373486042022705, 0.09357090294361115, 0.09486151486635208, 0.0935693234205246, 0.09219765663146973, 0.0938301533460617, 0.0938015729188919, 0.09426974505186081, 0.09212101995944977, 0.09404444694519043, 0.09533065557479858, 0.09433965384960175, 0.09429355710744858, 0.09443823993206024, 0.0941493958234787, 0.09456571936607361, 0.09380780905485153, 0.09345260262489319, 0.09178061783313751, 0.09346844255924225, 0.0929201990365982, 0.09508082270622253, 0.0930936336517334, 0.09237536042928696, 0.09412530064582825, 0.09378639608621597, 0.09450338035821915, 0.09420166909694672, 0.09491346776485443, 0.09279663860797882, 0.09566393494606018, 0.09424150735139847, 0.09433360397815704, 0.09231531620025635, 0.09365534782409668, 0.09306035935878754, 0.0961783230304718, 0.09358932077884674, 0.09296183288097382, 0.09492890536785126, 0.09258535504341125, 0.09497178345918655, 0.09445056319236755, 0.09417688846588135, 0.0947822630405426, 0.09419289231300354, 0.09342566132545471, 0.0931592509150505, 0.09538472443819046, 0.09440581500530243, 0.09502175450325012, 0.09357576072216034, 0.09371230751276016, 0.09219770133495331, 0.09427250176668167, 0.09498538076877594, 0.09316517412662506, 0.09417396783828735, 0.09330317378044128]"
      ],
      "metadata": {
        "id": "Sss3ttKYAWNm"
      },
      "id": "Sss3ttKYAWNm",
      "execution_count": 27,
      "outputs": []
    },
    {
      "cell_type": "code",
      "source": [
        "val_loss_sgd_128=[0.24403636157512665, 0.11372974514961243, 0.10079863667488098, 0.10403566807508469, 0.09583748877048492, 0.09424053877592087, 0.09111171215772629, 0.09396224468946457, 0.09483135491609573, 0.09391868859529495, 0.09486792236566544, 0.09282085299491882, 0.09054027497768402, 0.0944986492395401, 0.09291540831327438, 0.09337787330150604, 0.0918654128909111, 0.09430444985628128, 0.09408290684223175, 0.093337282538414, 0.09410199522972107, 0.09243263304233551, 0.09521447867155075, 0.0931018590927124, 0.09401513636112213, 0.09490635246038437, 0.09105741232633591, 0.09286899864673615, 0.09525378048419952, 0.09417613595724106, 0.09287621080875397, 0.09227605164051056, 0.09529749304056168, 0.0962533950805664, 0.09306008368730545, 0.09323224425315857, 0.09170438349246979, 0.09181518852710724, 0.09337266534566879, 0.09450715780258179, 0.09331592172384262, 0.09212656319141388, 0.09227513521909714, 0.09319274127483368, 0.09359274804592133, 0.0929960161447525, 0.0911780521273613, 0.09215738624334335, 0.09276389330625534, 0.09454095363616943, 0.09273316711187363, 0.09257322549819946, 0.09065605700016022, 0.0915198028087616, 0.09455099701881409, 0.09100231528282166, 0.09423348307609558, 0.09294698387384415, 0.09453172236680984, 0.09330085664987564, 0.09334590286016464, 0.09343394637107849, 0.09495599567890167, 0.09359580278396606, 0.09362269192934036, 0.09175380319356918, 0.0918542668223381, 0.09187670052051544, 0.09355843812227249, 0.0930003747344017, 0.09239016473293304, 0.09360424429178238, 0.09273840487003326, 0.09317495673894882, 0.09325871616601944, 0.09264617413282394, 0.09282118827104568, 0.09355178475379944, 0.09308241307735443, 0.09296346455812454, 0.09430962055921555, 0.09255312383174896, 0.09370056539773941, 0.09421158581972122, 0.09397987276315689, 0.09131132811307907, 0.09186585992574692, 0.0917208269238472, 0.09290681779384613, 0.0938420370221138, 0.09198078513145447, 0.0944233313202858, 0.09095246344804764, 0.09206485748291016, 0.09370612353086472, 0.09198199957609177, 0.09343869239091873, 0.09198438376188278, 0.09098510444164276, 0.09443891793489456, 0.09267078340053558, 0.09212388843297958, 0.09274086356163025, 0.09363239258527756, 0.09224240481853485, 0.0920913890004158, 0.091832235455513, 0.094285748898983, 0.09090229868888855, 0.09237973392009735, 0.09211568534374237, 0.0943911150097847, 0.09317878633737564, 0.09159746766090393, 0.09352460503578186, 0.09392417222261429, 0.09358137845993042, 0.09351737797260284, 0.09187649935483932, 0.0936518982052803, 0.09201379865407944, 0.09474373608827591, 0.09351635724306107, 0.09247256815433502, 0.0947439968585968, 0.09166949987411499, 0.0931241363286972, 0.09320255368947983, 0.09285381436347961, 0.09321554005146027, 0.09192459285259247, 0.09456176310777664, 0.09316403418779373, 0.09241855144500732, 0.09326160699129105, 0.0927102118730545, 0.09243100136518478, 0.09235604107379913, 0.09176736325025558, 0.09164053946733475, 0.09084242582321167, 0.09365049749612808, 0.0926307961344719, 0.0921798050403595, 0.0928197130560875, 0.0934334322810173, 0.09295140951871872, 0.0927191972732544, 0.0920608788728714, 0.09247997403144836]"
      ],
      "metadata": {
        "id": "25FAC0URB_Ru"
      },
      "id": "25FAC0URB_Ru",
      "execution_count": 28,
      "outputs": []
    },
    {
      "cell_type": "code",
      "source": [
        "val_loss_sgd_4=[0.09487639367580414, 0.09486878663301468, 0.09217602759599686, 0.0927230715751648, 0.09364086389541626, 0.09276862442493439, 0.09182234108448029, 0.09089959412813187, 0.09490347653627396, 0.09338623285293579, 0.09407205879688263, 0.09290885180234909, 0.09195678681135178, 0.09494121372699738, 0.09276942163705826, 0.09291555732488632, 0.09199345856904984, 0.09140957146883011, 0.09145712107419968, 0.09361724555492401, 0.0917515829205513, 0.09385782480239868, 0.09173768013715744, 0.09199076890945435, 0.09144245088100433, 0.09201037138700485, 0.09243299812078476, 0.09333429485559464, 0.09389026463031769, 0.09231024980545044, 0.09242022782564163, 0.09311430156230927, 0.0930042564868927, 0.09128835052251816, 0.09064407646656036, 0.09190136194229126, 0.09142440557479858, 0.09272231161594391, 0.09340348094701767, 0.09212636202573776, 0.0911082774400711, 0.09240463376045227, 0.0920557975769043, 0.09300156682729721, 0.09272588789463043, 0.09049244970083237, 0.09175502508878708, 0.09222967177629471, 0.09107042104005814, 0.09308764338493347, 0.09218171238899231, 0.09295409917831421, 0.09189121425151825, 0.09271260350942612, 0.09138236194849014, 0.0921124815940857, 0.09130103886127472, 0.09223610162734985, 0.09176041930913925, 0.09192895889282227, 0.09041033685207367, 0.09166502207517624, 0.092386893928051, 0.09276697039604187, 0.0920943096280098, 0.09066309779882431, 0.0922507494688034, 0.09221241623163223, 0.0921236127614975, 0.0923033207654953, 0.09240270406007767, 0.09176011383533478, 0.09107377380132675, 0.09183496236801147, 0.09262187778949738, 0.09198835492134094, 0.09256978332996368, 0.09231677651405334, 0.09090600162744522, 0.09189394861459732, 0.09209686517715454, 0.09218940138816833, 0.09123935550451279, 0.09218110144138336, 0.09233912825584412, 0.09275136888027191, 0.09037311375141144, 0.09068377315998077, 0.09173788875341415, 0.09241031855344772, 0.09231418371200562, 0.09290910512208939, 0.09159865975379944, 0.09114180505275726, 0.09113604575395584, 0.09136325865983963, 0.09099559485912323, 0.09123355895280838, 0.09123290330171585, 0.09178833663463593, 0.09162259101867676, 0.09254509210586548, 0.09228456765413284, 0.09195282310247421, 0.0909862145781517, 0.09216784685850143, 0.09087434411048889, 0.09115119278430939, 0.0914512574672699, 0.09288539737462997, 0.09098376333713531, 0.09191813319921494, 0.09035231918096542, 0.09183423221111298, 0.09084878116846085, 0.09162862598896027, 0.09266430884599686, 0.09182838350534439, 0.09128904342651367, 0.09179267287254333, 0.0917850136756897, 0.09191185981035233, 0.09106289595365524, 0.09272745996713638, 0.09134524315595627, 0.0913480594754219, 0.09140634536743164, 0.09125320613384247, 0.09263695776462555, 0.09229391068220139, 0.09117908775806427, 0.09145000576972961, 0.09162741899490356, 0.09171608090400696, 0.090622179210186, 0.09210485219955444, 0.09240173548460007, 0.09138835221529007, 0.09216665476560593, 0.09216026216745377, 0.09250415116548538, 0.09189941734075546, 0.09137456864118576, 0.09183608740568161, 0.09231864660978317, 0.09165048599243164, 0.09239237755537033, 0.09195970743894577, 0.09127096831798553, 0.09152234345674515]"
      ],
      "metadata": {
        "id": "iFCLlJReCcoQ"
      },
      "id": "iFCLlJReCcoQ",
      "execution_count": 29,
      "outputs": []
    },
    {
      "cell_type": "code",
      "source": [
        "#plot validation loss for sgd optimizers for diff batch size\n",
        "\n",
        "plt.plot(range(0,num_epochs),val_loss_sgd_4, label = \"Batch Size=4\")\n",
        "plt.plot(range(0,num_epochs),val_loss_sgd, label = \"Batch Size=32\")\n",
        "plt.plot(range(0,num_epochs),val_loss_sgd_64, label = \"Batch Size=64\")\n",
        "plt.plot(range(0,num_epochs),val_loss_sgd_128, label = \"Batch Size=128\")\n",
        "\n",
        "plt.title('Validation Loss Vs Epochs ', fontsize=14)\n",
        "plt.xlabel('#Epochs', fontsize=14)\n",
        "plt.ylabel('Loss ', fontsize=14)\n",
        "\n",
        "plt.legend()\n",
        "plt.show()"
      ],
      "metadata": {
        "colab": {
          "base_uri": "https://localhost:8080/",
          "height": 300
        },
        "id": "Vi8DxA81CEM0",
        "outputId": "3ce8bcba-e370-4b92-d851-5919c4ec1996"
      },
      "id": "Vi8DxA81CEM0",
      "execution_count": 30,
      "outputs": [
        {
          "output_type": "display_data",
          "data": {
            "text/plain": [
              "<Figure size 432x288 with 1 Axes>"
            ],
            "image/png": "[encoded data removed]"
          },
          "metadata": {
            "needs_background": "light"
          }
        }
      ]
    },
    {
      "cell_type": "code",
      "source": [
        "#Plotting training loss and validation loss curve\n",
        "\n",
        "converted_train_loss_mse = [tensor.detach().item() for tensor in obtained_train_loss]\n",
        "converted_val_loss_mse = [tensor.detach().item() for tensor in obtained_val_loss]\n",
        "\n",
        "plt.plot(range(0,num_epochs),converted_train_loss_mse, label = \"Training Loss\")\n",
        "plt.plot(range(0,num_epochs),converted_val_loss_mse, label = \"Validation Loss\")\n",
        "plt.title('Loss  Vs Epochs (SGD, batch_size=32,lr=0.01)', fontsize=14)\n",
        "plt.xlabel('#Epochs', fontsize=14)\n",
        "plt.ylabel('Loss ', fontsize=14)\n",
        "\n",
        "plt.legend()\n",
        "plt.show()\n"
      ],
      "metadata": {
        "colab": {
          "base_uri": "https://localhost:8080/",
          "height": 300
        },
        "id": "QbQBBfzV20C9",
        "outputId": "d717fac7-40aa-4de4-b8fc-806922323fac"
      },
      "id": "QbQBBfzV20C9",
      "execution_count": 31,
      "outputs": [
        {
          "output_type": "display_data",
          "data": {
            "text/plain": [
              "<Figure size 432x288 with 1 Axes>"
            ],
            "image/png": "[encoded data removed]"
          },
          "metadata": {
            "needs_background": "light"
          }
        }
      ]
    },
    {
      "cell_type": "code",
      "source": [
        "#plot validation loss for optimizers against each other with batch size=32 and default LR settings\n",
        "\n",
        "\n",
        "plt.plot(range(0,num_epochs),val_loss_sgd, label = \"SGD\")\n",
        "plt.plot(range(0,num_epochs),val_loss_rms, label = \"RMSProp\")\n",
        "plt.plot(range(0,num_epochs),val_loss_adagrad, label = \"Adagrad\")\n",
        "plt.plot(range(0,num_epochs),val_loss_adam, label = \"Adam\")\n",
        "plt.title('Validation Loss Vs Epochs ', fontsize=14)\n",
        "plt.xlabel('#Epochs', fontsize=14)\n",
        "plt.ylabel('Loss ', fontsize=14)\n",
        "\n",
        "plt.legend()\n",
        "plt.show()\n"
      ],
      "metadata": {
        "colab": {
          "base_uri": "https://localhost:8080/",
          "height": 300
        },
        "id": "7LM6IBKQ6uqg",
        "outputId": "8773ee7c-91fe-4699-a0fe-1c06627b705f"
      },
      "id": "7LM6IBKQ6uqg",
      "execution_count": 32,
      "outputs": [
        {
          "output_type": "display_data",
          "data": {
            "text/plain": [
              "<Figure size 432x288 with 1 Axes>"
            ],
            "image/png": "[encoded data removed]"
          },
          "metadata": {
            "needs_background": "light"
          }
        }
      ]
    },
    {
      "cell_type": "code",
      "source": [
        "print(converted_val_loss_mse)"
      ],
      "metadata": {
        "colab": {
          "base_uri": "https://localhost:8080/"
        },
        "id": "G4_oTTIl6Vaf",
        "outputId": "6708e116-6acf-49ec-f378-1c44e1924033"
      },
      "id": "G4_oTTIl6Vaf",
      "execution_count": 33,
      "outputs": [
        {
          "output_type": "stream",
          "name": "stdout",
          "text": [
            "[0.09744691103696823, 0.09296660870313644, 0.0951201543211937, 0.08963707089424133, 0.08862054347991943, 0.09306135773658752, 0.09331286698579788, 0.09416814893484116, 0.09164658188819885, 0.09308996051549911, 0.09568684548139572, 0.09347834438085556, 0.09495221078395844, 0.09283201396465302, 0.09355708211660385, 0.09230145066976547, 0.09119419008493423, 0.09258939325809479, 0.09022631496191025, 0.09181191027164459, 0.09277718514204025, 0.09337940067052841, 0.09338738769292831, 0.08986477553844452, 0.0903284028172493, 0.09042554348707199, 0.09016885608434677, 0.09005283564329147, 0.09268655627965927, 0.09287575632333755, 0.08882833272218704, 0.09167469292879105, 0.09490795433521271, 0.09009499847888947, 0.09149238467216492, 0.09394607692956924, 0.09219004213809967, 0.09212484955787659, 0.09306499361991882, 0.09323500096797943, 0.09041973203420639, 0.09193418174982071, 0.09177801012992859, 0.08888483792543411, 0.08932394534349442, 0.09121211618185043, 0.09021640568971634, 0.09078305959701538, 0.09337141364812851, 0.0931117981672287, 0.09237752109766006, 0.09126535803079605, 0.09358140826225281, 0.09200949966907501, 0.09016603976488113, 0.09397421777248383, 0.09242132306098938, 0.0926128476858139, 0.09181230515241623, 0.0915527492761612, 0.09104916453361511, 0.0924907848238945, 0.09065093100070953, 0.09104416519403458, 0.09013406187295914, 0.08938685059547424, 0.08926822245121002, 0.093072809278965, 0.09156856685876846, 0.0921560600399971, 0.09020713716745377, 0.09206636250019073, 0.09244199097156525, 0.09185253828763962, 0.0917837843298912, 0.08870267868041992, 0.09150872379541397, 0.09001316130161285, 0.09094344079494476, 0.0913740023970604, 0.0918487086892128, 0.09103263914585114, 0.08989053964614868, 0.09150785207748413, 0.08969328552484512, 0.09102929383516312, 0.0890159085392952, 0.09039276093244553, 0.09183690696954727, 0.08970621228218079, 0.09168780595064163, 0.08962427824735641, 0.090262770652771, 0.09175668656826019, 0.09096410125494003, 0.09222524613142014, 0.09187141060829163, 0.0914035364985466, 0.09210388362407684, 0.08915909379720688, 0.09283776581287384, 0.09163165837526321, 0.09070563316345215, 0.09347916394472122, 0.09304793179035187, 0.0907779112458229, 0.09040200710296631, 0.09088753908872604, 0.09091497957706451, 0.09209083020687103, 0.0903487503528595, 0.090442955493927, 0.0923699215054512, 0.08948775380849838, 0.09044548869132996, 0.09029445052146912, 0.09072297811508179, 0.09139811247587204, 0.09187833964824677, 0.09165038913488388, 0.09237704426050186, 0.09059421718120575, 0.09101533144712448, 0.09198547899723053, 0.08995874226093292, 0.09295380115509033, 0.09335418045520782, 0.09118865430355072, 0.09246349334716797, 0.08995256572961807, 0.09206423163414001, 0.09083637595176697, 0.09106671810150146, 0.09064216911792755, 0.09202522784471512, 0.09187421947717667, 0.09266363829374313, 0.09052515029907227, 0.09162678569555283, 0.0936928540468216, 0.09199850261211395, 0.09207040071487427, 0.09092260152101517, 0.08734273165464401, 0.09054060280323029, 0.09182330220937729, 0.09186307340860367, 0.09135877341032028, 0.09112315624952316, 0.09107942134141922]\n"
          ]
        }
      ]
    },
    {
      "cell_type": "code",
      "source": [
        "print(f\"Best Val loss (LSTM_MSE): {min(converted_val_loss_mse)}\")\n",
        "print(f\"Worst Val loss (LSTM_MSE): {max(converted_val_loss_mse)}\")"
      ],
      "metadata": {
        "colab": {
          "base_uri": "https://localhost:8080/"
        },
        "id": "GSYpqcxK291p",
        "outputId": "266bd300-8163-4646-8140-7c79f345b1a4"
      },
      "id": "GSYpqcxK291p",
      "execution_count": 34,
      "outputs": [
        {
          "output_type": "stream",
          "name": "stdout",
          "text": [
            "Best Val loss (LSTM_MSE): 0.08734273165464401\n",
            "Worst Val loss (LSTM_MSE): 0.09744691103696823\n"
          ]
        }
      ]
    },
    {
      "cell_type": "markdown",
      "id": "da139d5b",
      "metadata": {
        "id": "da139d5b"
      },
      "source": [
        "## Evaluation"
      ]
    },
    {
      "cell_type": "code",
      "execution_count": 35,
      "id": "ebed03ba",
      "metadata": {
        "id": "ebed03ba",
        "colab": {
          "base_uri": "https://localhost:8080/"
        },
        "outputId": "509294d4-5603-4e43-dfe0-e0e8e77d5343"
      },
      "outputs": [
        {
          "output_type": "stream",
          "name": "stdout",
          "text": [
            "Looking in indexes: https://pypi.org/simple, https://us-python.pkg.dev/colab-wheels/public/simple/\n",
            "Collecting torchmetrics\n",
            "  Downloading torchmetrics-0.9.1-py3-none-any.whl (419 kB)\n",
            "\u001b[K     |████████████████████████████████| 419 kB 7.2 MB/s \n",
            "\u001b[?25hRequirement already satisfied: typing-extensions in /usr/local/lib/python3.7/dist-packages (from torchmetrics) (4.1.1)\n",
            "Requirement already satisfied: packaging in /usr/local/lib/python3.7/dist-packages (from torchmetrics) (21.3)\n",
            "Requirement already satisfied: torch>=1.3.1 in /usr/local/lib/python3.7/dist-packages (from torchmetrics) (1.11.0+cu113)\n",
            "Requirement already satisfied: numpy>=1.17.2 in /usr/local/lib/python3.7/dist-packages (from torchmetrics) (1.21.6)\n",
            "Requirement already satisfied: pyparsing!=3.0.5,>=2.0.2 in /usr/local/lib/python3.7/dist-packages (from packaging->torchmetrics) (3.0.9)\n",
            "Installing collected packages: torchmetrics\n",
            "Successfully installed torchmetrics-0.9.1\n"
          ]
        }
      ],
      "source": [
        "#todo\n",
        "!pip install torchmetrics"
      ]
    },
    {
      "cell_type": "code",
      "execution_count": 36,
      "id": "17af7ec3",
      "metadata": {
        "id": "17af7ec3"
      },
      "outputs": [],
      "source": [
        "\n",
        "#evaluate on the test set and calculate average test loss \n",
        "from sklearn.metrics import mean_squared_error\n",
        "from torchmetrics import R2Score \n",
        "r2score = R2Score().to(device)\n",
        "criterion = nn.L1Loss()\n",
        "def evaluate(model, test_loader,device='cpu'):\n",
        "    test_running_loss = 0.0\n",
        "    count=0.0\n",
        "    r2_score=0.0\n",
        "    preds = []\n",
        "    actual = []\n",
        "    test_input = []\n",
        "    losses=[]\n",
        "    with torch.no_grad():\n",
        "        model.eval()\n",
        "        for test_data, test_label in test_loader:\n",
        "            input_tensor = test_data.to(device)\n",
        "            test_input.append(input_tensor)\n",
        "            outputs = model.forward(input_tensor)\n",
        "            preds.append(outputs)\n",
        "            actual.append(test_label)\n",
        "            loss = criterion(outputs,test_label.to(device))\n",
        "            losses.append(loss)\n",
        "            test_running_loss += loss\n",
        "            #score = r2score(outputs, test_label)\n",
        "            #r2_score += score\n",
        "            count+=1\n",
        "           \n",
        "            print(f\"MSE Loss after {count} iteration :\", test_running_loss/count)\n",
        "\n",
        "\n",
        "\n",
        "        print(test_running_loss)\n",
        "        avg_test_loss = test_running_loss / len(test_loader)\n",
        "        avg_r2_score = r2_score / len(test_loader)\n",
        "        print(\"Average MSE Test Loss: {:4f}\".format(avg_test_loss))\n",
        "        #print(\"Average R2 score: {:4f}\".format(avg_r2_score))\n",
        "        return preds, actual, test_input,losses\n",
        "\n"
      ]
    },
    {
      "cell_type": "code",
      "execution_count": 37,
      "id": "43a3422e",
      "metadata": {
        "id": "43a3422e",
        "colab": {
          "base_uri": "https://localhost:8080/"
        },
        "outputId": "fc01f181-3ec9-4445-c7e8-c811a283c9ec"
      },
      "outputs": [
        {
          "output_type": "stream",
          "name": "stdout",
          "text": [
            "MSE Loss after 1.0 iteration : tensor(0.2495)\n",
            "MSE Loss after 2.0 iteration : tensor(0.2674)\n",
            "MSE Loss after 3.0 iteration : tensor(0.2438)\n",
            "MSE Loss after 4.0 iteration : tensor(0.2396)\n",
            "MSE Loss after 5.0 iteration : tensor(0.2402)\n",
            "MSE Loss after 6.0 iteration : tensor(0.2463)\n",
            "MSE Loss after 7.0 iteration : tensor(0.2527)\n",
            "MSE Loss after 8.0 iteration : tensor(0.2482)\n",
            "MSE Loss after 9.0 iteration : tensor(0.2467)\n",
            "MSE Loss after 10.0 iteration : tensor(0.2513)\n",
            "tensor(2.5132)\n",
            "Average MSE Test Loss: 0.251323\n"
          ]
        }
      ],
      "source": [
        "preds,actual,input,losses= evaluate(model,test_loader)"
      ]
    },
    {
      "cell_type": "code",
      "source": [
        "best_batch = np.argmin(losses)\n",
        "worst_batch = np.argmax(losses)\n",
        "\n",
        "print(f\"The batch number in the test set with the best test loss is {best_batch}\")\n",
        "print(f\"The batch in the set  with the worst test loss is {worst_batch}\")"
      ],
      "metadata": {
        "colab": {
          "base_uri": "https://localhost:8080/"
        },
        "id": "wK7EgD_L3Qnu",
        "outputId": "a27ba4c4-ca00-4882-8588-4455c0decfa0"
      },
      "id": "wK7EgD_L3Qnu",
      "execution_count": 38,
      "outputs": [
        {
          "output_type": "stream",
          "name": "stdout",
          "text": [
            "The batch number in the test set with the best test loss is 2\n",
            "The batch in the set  with the worst test loss is 9\n"
          ]
        }
      ]
    },
    {
      "cell_type": "code",
      "source": [
        "def input_tensor(inp_arr, batch_size, sequence_len, dim):\n",
        "  input_array = []\n",
        "  for i in inp_arr:\n",
        "    input= i.reshape(batch_size, sequence_len, dim)\n",
        "    input_array.append(input)\n",
        "  return input_array\n",
        "\n",
        "input_plot = input_tensor(input, 10,110,2)"
      ],
      "metadata": {
        "id": "zlYAasssutDh"
      },
      "id": "zlYAasssutDh",
      "execution_count": 39,
      "outputs": []
    },
    {
      "cell_type": "code",
      "source": [
        "#Plot the best cases\n",
        "\n",
        "for batch_idx in range(9):\n",
        "    print(f'\\nPlot for simulations in best batch  {best_batch} & corresponding batch number {batch_idx}\\n')\n",
        "    plot_example(input_plot[best_batch][batch_idx])\n",
        "    print(f'Predicted charges : {preds[best_batch][batch_idx]}')\n",
        "    print(f'Actual charges : {actual[best_batch][batch_idx]}')\n",
        "   "
      ],
      "metadata": {
        "colab": {
          "base_uri": "https://localhost:8080/",
          "height": 1000
        },
        "id": "mB6yTMYDuxvb",
        "outputId": "b3bc1d10-ab4e-4a12-f263-82aa174eb171"
      },
      "id": "mB6yTMYDuxvb",
      "execution_count": 40,
      "outputs": [
        {
          "output_type": "stream",
          "name": "stdout",
          "text": [
            "\n",
            "Plot for simulations in best batch  2 & corresponding batch number 0\n",
            "\n"
          ]
        },
        {
          "output_type": "display_data",
          "data": {
            "text/plain": [
              "<Figure size 360x360 with 1 Axes>"
            ],
            "image/png": "[encoded data removed]"
          },
          "metadata": {
            "needs_background": "light"
          }
        },
        {
          "output_type": "stream",
          "name": "stdout",
          "text": [
            "Predicted charges : tensor([-0.4887, -0.4781, -0.5185])\n",
            "Actual charges : tensor([-0.5288, -0.4237, -0.4963])\n",
            "\n",
            "Plot for simulations in best batch  2 & corresponding batch number 1\n",
            "\n"
          ]
        },
        {
          "output_type": "display_data",
          "data": {
            "text/plain": [
              "<Figure size 360x360 with 1 Axes>"
            ],
            "image/png": "[encoded data removed]"
          },
          "metadata": {
            "needs_background": "light"
          }
        },
        {
          "output_type": "stream",
          "name": "stdout",
          "text": [
            "Predicted charges : tensor([-0.4437, -0.5040, -0.5208])\n",
            "Actual charges : tensor([-0.5122, -0.5047, -0.5907])\n",
            "\n",
            "Plot for simulations in best batch  2 & corresponding batch number 2\n",
            "\n"
          ]
        },
        {
          "output_type": "display_data",
          "data": {
            "text/plain": [
              "<Figure size 360x360 with 1 Axes>"
            ],
            "image/png": "[encoded data removed]"
          },
          "metadata": {
            "needs_background": "light"
          }
        },
        {
          "output_type": "stream",
          "name": "stdout",
          "text": [
            "Predicted charges : tensor([-0.4766, -0.5019, -0.5381])\n",
            "Actual charges : tensor([-0.8616, -0.1052, -0.4603])\n",
            "\n",
            "Plot for simulations in best batch  2 & corresponding batch number 3\n",
            "\n"
          ]
        },
        {
          "output_type": "display_data",
          "data": {
            "text/plain": [
              "<Figure size 360x360 with 1 Axes>"
            ],
            "image/png": "[encoded data removed]"
          },
          "metadata": {
            "needs_background": "light"
          }
        },
        {
          "output_type": "stream",
          "name": "stdout",
          "text": [
            "Predicted charges : tensor([-0.4838, -0.5184, -0.5216])\n",
            "Actual charges : tensor([-0.5768, -0.7467, -0.7766])\n",
            "\n",
            "Plot for simulations in best batch  2 & corresponding batch number 4\n",
            "\n"
          ]
        },
        {
          "output_type": "display_data",
          "data": {
            "text/plain": [
              "<Figure size 360x360 with 1 Axes>"
            ],
            "image/png": "[encoded data removed]"
          },
          "metadata": {
            "needs_background": "light"
          }
        },
        {
          "output_type": "stream",
          "name": "stdout",
          "text": [
            "Predicted charges : tensor([-0.4819, -0.4409, -0.5012])\n",
            "Actual charges : tensor([-0.3213, -0.7681, -0.1656])\n",
            "\n",
            "Plot for simulations in best batch  2 & corresponding batch number 5\n",
            "\n"
          ]
        },
        {
          "output_type": "display_data",
          "data": {
            "text/plain": [
              "<Figure size 360x360 with 1 Axes>"
            ],
            "image/png": "[encoded data removed]"
          },
          "metadata": {
            "needs_background": "light"
          }
        },
        {
          "output_type": "stream",
          "name": "stdout",
          "text": [
            "Predicted charges : tensor([-0.5041, -0.4834, -0.5195])\n",
            "Actual charges : tensor([-0.1601, -0.9131, -0.5271])\n",
            "\n",
            "Plot for simulations in best batch  2 & corresponding batch number 6\n",
            "\n"
          ]
        },
        {
          "output_type": "display_data",
          "data": {
            "text/plain": [
              "<Figure size 360x360 with 1 Axes>"
            ],
            "image/png": "[encoded data removed]"
          },
          "metadata": {
            "needs_background": "light"
          }
        },
        {
          "output_type": "stream",
          "name": "stdout",
          "text": [
            "Predicted charges : tensor([-0.4797, -0.4995, -0.5479])\n",
            "Actual charges : tensor([-0.2647, -0.2182, -0.0796])\n",
            "\n",
            "Plot for simulations in best batch  2 & corresponding batch number 7\n",
            "\n"
          ]
        },
        {
          "output_type": "display_data",
          "data": {
            "text/plain": [
              "<Figure size 360x360 with 1 Axes>"
            ],
            "image/png": "[encoded data removed]"
          },
          "metadata": {
            "needs_background": "light"
          }
        },
        {
          "output_type": "stream",
          "name": "stdout",
          "text": [
            "Predicted charges : tensor([-0.5010, -0.5144, -0.5649])\n",
            "Actual charges : tensor([-0.3729, -0.4702, -0.1329])\n",
            "\n",
            "Plot for simulations in best batch  2 & corresponding batch number 8\n",
            "\n"
          ]
        },
        {
          "output_type": "display_data",
          "data": {
            "text/plain": [
              "<Figure size 360x360 with 1 Axes>"
            ],
            "image/png": "[encoded data removed]"
          },
          "metadata": {
            "needs_background": "light"
          }
        },
        {
          "output_type": "stream",
          "name": "stdout",
          "text": [
            "Predicted charges : tensor([-0.4537, -0.4781, -0.5224])\n",
            "Actual charges : tensor([-0.2834, -0.9244, -0.6925])\n"
          ]
        }
      ]
    },
    {
      "cell_type": "code",
      "source": [
        "#plot the worst cases\n",
        "\n",
        "for batch_idx in range(9):\n",
        "    print(f'\\nPlot for simulations in worst batch  {best_batch} & corresponding batch number {batch_idx}\\n')\n",
        "    plot_example(input_plot[worst_batch][batch_idx])\n",
        "    print(f'Predicted charges : {preds[worst_batch][batch_idx]}')\n",
        "    print(f'Actual charges : {actual[worst_batch][batch_idx]}')\n",
        "   "
      ],
      "metadata": {
        "colab": {
          "base_uri": "https://localhost:8080/",
          "height": 1000
        },
        "id": "gwdwSpoX3d22",
        "outputId": "0e9e4200-3c28-43d8-9098-43e22fe9c850"
      },
      "id": "gwdwSpoX3d22",
      "execution_count": 41,
      "outputs": [
        {
          "output_type": "stream",
          "name": "stdout",
          "text": [
            "\n",
            "Plot for simulations in worst batch  2 & corresponding batch number 0\n",
            "\n"
          ]
        },
        {
          "output_type": "display_data",
          "data": {
            "text/plain": [
              "<Figure size 360x360 with 1 Axes>"
            ],
            "image/png": "[encoded data removed]"
          },
          "metadata": {
            "needs_background": "light"
          }
        },
        {
          "output_type": "stream",
          "name": "stdout",
          "text": [
            "Predicted charges : tensor([-0.4712, -0.4540, -0.5251])\n",
            "Actual charges : tensor([-0.8942, -0.7843, -0.8215])\n",
            "\n",
            "Plot for simulations in worst batch  2 & corresponding batch number 1\n",
            "\n"
          ]
        },
        {
          "output_type": "display_data",
          "data": {
            "text/plain": [
              "<Figure size 360x360 with 1 Axes>"
            ],
            "image/png": "[encoded data removed]"
          },
          "metadata": {
            "needs_background": "light"
          }
        },
        {
          "output_type": "stream",
          "name": "stdout",
          "text": [
            "Predicted charges : tensor([-0.4790, -0.4961, -0.5053])\n",
            "Actual charges : tensor([-0.1228, -0.0967, -0.2784])\n",
            "\n",
            "Plot for simulations in worst batch  2 & corresponding batch number 2\n",
            "\n"
          ]
        },
        {
          "output_type": "display_data",
          "data": {
            "text/plain": [
              "<Figure size 360x360 with 1 Axes>"
            ],
            "image/png": "[encoded data removed]"
          },
          "metadata": {
            "needs_background": "light"
          }
        },
        {
          "output_type": "stream",
          "name": "stdout",
          "text": [
            "Predicted charges : tensor([-0.4784, -0.5211, -0.5309])\n",
            "Actual charges : tensor([-0.7859, -0.9122, -0.7441])\n",
            "\n",
            "Plot for simulations in worst batch  2 & corresponding batch number 3\n",
            "\n"
          ]
        },
        {
          "output_type": "display_data",
          "data": {
            "text/plain": [
              "<Figure size 360x360 with 1 Axes>"
            ],
            "image/png": "[encoded data removed]"
          },
          "metadata": {
            "needs_background": "light"
          }
        },
        {
          "output_type": "stream",
          "name": "stdout",
          "text": [
            "Predicted charges : tensor([-0.4683, -0.5070, -0.5227])\n",
            "Actual charges : tensor([-0.0629, -0.9295, -0.1001])\n",
            "\n",
            "Plot for simulations in worst batch  2 & corresponding batch number 4\n",
            "\n"
          ]
        },
        {
          "output_type": "display_data",
          "data": {
            "text/plain": [
              "<Figure size 360x360 with 1 Axes>"
            ],
            "image/png": "[encoded data removed]"
          },
          "metadata": {
            "needs_background": "light"
          }
        },
        {
          "output_type": "stream",
          "name": "stdout",
          "text": [
            "Predicted charges : tensor([-0.5025, -0.4828, -0.5371])\n",
            "Actual charges : tensor([-0.6840, -0.0979, -0.9204])\n",
            "\n",
            "Plot for simulations in worst batch  2 & corresponding batch number 5\n",
            "\n"
          ]
        },
        {
          "output_type": "display_data",
          "data": {
            "text/plain": [
              "<Figure size 360x360 with 1 Axes>"
            ],
            "image/png": "[encoded data removed]"
          },
          "metadata": {
            "needs_background": "light"
          }
        },
        {
          "output_type": "stream",
          "name": "stdout",
          "text": [
            "Predicted charges : tensor([-0.4600, -0.4924, -0.5289])\n",
            "Actual charges : tensor([-0.1111, -0.0509, -0.6288])\n",
            "\n",
            "Plot for simulations in worst batch  2 & corresponding batch number 6\n",
            "\n"
          ]
        },
        {
          "output_type": "display_data",
          "data": {
            "text/plain": [
              "<Figure size 360x360 with 1 Axes>"
            ],
            "image/png": "[encoded data removed]"
          },
          "metadata": {
            "needs_background": "light"
          }
        },
        {
          "output_type": "stream",
          "name": "stdout",
          "text": [
            "Predicted charges : tensor([-0.5145, -0.4983, -0.5609])\n",
            "Actual charges : tensor([-0.7054, -0.2375, -0.3324])\n",
            "\n",
            "Plot for simulations in worst batch  2 & corresponding batch number 7\n",
            "\n"
          ]
        },
        {
          "output_type": "display_data",
          "data": {
            "text/plain": [
              "<Figure size 360x360 with 1 Axes>"
            ],
            "image/png": "[encoded data removed]"
          },
          "metadata": {
            "needs_background": "light"
          }
        },
        {
          "output_type": "stream",
          "name": "stdout",
          "text": [
            "Predicted charges : tensor([-0.4964, -0.4908, -0.5113])\n",
            "Actual charges : tensor([-0.0525, -0.3105, -0.8409])\n",
            "\n",
            "Plot for simulations in worst batch  2 & corresponding batch number 8\n",
            "\n"
          ]
        },
        {
          "output_type": "display_data",
          "data": {
            "text/plain": [
              "<Figure size 360x360 with 1 Axes>"
            ],
            "image/png": "[encoded data removed]"
          },
          "metadata": {
            "needs_background": "light"
          }
        },
        {
          "output_type": "stream",
          "name": "stdout",
          "text": [
            "Predicted charges : tensor([-0.4620, -0.5012, -0.5289])\n",
            "Actual charges : tensor([-0.3014, -0.2227, -0.3813])\n"
          ]
        }
      ]
    },
    {
      "cell_type": "markdown",
      "id": "9a59808b",
      "metadata": {
        "id": "9a59808b"
      },
      "source": [
        "# Task 3.2"
      ]
    },
    {
      "cell_type": "markdown",
      "id": "f64a855d",
      "metadata": {
        "id": "f64a855d"
      },
      "source": [
        "## Data Handling and Preprocessing"
      ]
    },
    {
      "cell_type": "code",
      "source": [
        "simulation_test[0][-1,1]#[-2.44181784e+00,  1.23685294e+00]"
      ],
      "metadata": {
        "colab": {
          "base_uri": "https://localhost:8080/"
        },
        "id": "8QcangMr4JNZ",
        "outputId": "47b208dd-e222-42e2-94f6-77abf7aad1bf"
      },
      "id": "8QcangMr4JNZ",
      "execution_count": 42,
      "outputs": [
        {
          "output_type": "execute_result",
          "data": {
            "text/plain": [
              "1.236852943008018"
            ]
          },
          "metadata": {},
          "execution_count": 42
        }
      ]
    },
    {
      "cell_type": "code",
      "source": [
        "simulation_train[0][-1][1]"
      ],
      "metadata": {
        "colab": {
          "base_uri": "https://localhost:8080/"
        },
        "id": "qadu9E21KMGR",
        "outputId": "b92e1b8c-c2bd-4ee4-f4d4-f3aaef3b6cd1"
      },
      "id": "qadu9E21KMGR",
      "execution_count": 43,
      "outputs": [
        {
          "output_type": "execute_result",
          "data": {
            "text/plain": [
              "0.2843197322328459"
            ]
          },
          "metadata": {},
          "execution_count": 43
        }
      ]
    },
    {
      "cell_type": "code",
      "execution_count": 44,
      "id": "5b935865",
      "metadata": {
        "id": "5b935865"
      },
      "outputs": [],
      "source": [
        "#todo\n",
        "#Task 3.2\n",
        "import torch\n",
        "from torch.utils.data import DataLoader\n",
        "import torch\n",
        "from torchvision import transforms\n",
        "from torch.utils.data import Dataset, DataLoader,TensorDataset, random_split\n",
        "import numpy as np\n",
        "\n",
        "from torch.nn.utils.rnn import pad_sequence\n",
        "\n",
        "device=torch.device(\"cuda\" if torch.cuda.is_available()else \"cpu\")\n",
        "\n",
        "class Dataset_Two(Dataset):\n",
        "    def __init__(self, simulations,continued_simulations):\n",
        "\n",
        "        #maximum length of each simulation performed is 110 seconds\n",
        "        max_length=110 \n",
        "        padded_sim = []\n",
        "\n",
        "        for i in range(len(simulations)):\n",
        "          if len(simulations[i]) != max_length:\n",
        "            #  x = np.pad(simulations[i],[(0,max_length-len(simulations[i])),(0,0)], 'constant',constant_values =(simulations[i][-1][0],simulations[i][-1][1]))\n",
        "            x = np.pad(simulations[i],[(0,max_length-len(simulations[i])),(0,0)], 'edge')\n",
        "             #x = np.pad(simulations[i],[(0,max_length-len(simulations[i])),(0,0)], 'constant',constant_values =0 ) #padding zeros at the end of dimension 1 ie rows \n",
        "          else:\n",
        "              x = simulations[i]\n",
        "          padded_sim.append(x)\n",
        "        #print(\"Padded Simulations\",padded_sim[1])\n",
        "\n",
        "        # Create data and target tensors\n",
        "        data = np.array(padded_sim)\n",
        "        (samples,length,dim) = data.shape\n",
        "        self.data = torch.FloatTensor(data).view(samples,1,-1) # reshape so that they are of format (Samples,Channels,Sequence length)\n",
        "        print(\"Length of input data \",len(self.data))\n",
        "        print(\" Shape of input data\",self.data.shape)\n",
        "        \n",
        "        \n",
        "       \n",
        "\n",
        "        padded_len_target = 60#len(max(continued_simulations, key = len))\n",
        "        padded_target_array = []\n",
        "        for j in range(len(continued_simulations)):\n",
        "            diff_targ = padded_len_target - continued_simulations[j].shape[0]\n",
        "            padded_target_array.append(np.pad(continued_simulations[j], [(0, diff_targ), (0,0)], 'edge'))\n",
        "        targets = np.array(padded_target_array)\n",
        "        #print(targets[0])\n",
        "        (tar_samples, tar_length, tar_dim) = targets.shape\n",
        "        self.targets = torch.FloatTensor(targets).view(tar_samples,1,-1)\n",
        "        print(\"Length of targets\",len(self.targets))\n",
        "        print(\"Shape of Target\",self.targets.shape)\n",
        "        \n",
        "    def __getitem__(self, index):\n",
        "        x = self.data[index]\n",
        "        y = self.targets[index]\n",
        "        \n",
        "\n",
        "        return x, y\n",
        "    \n",
        "    def __len__(self):\n",
        "        return len(self.data)"
      ]
    },
    {
      "cell_type": "code",
      "source": [
        "\n",
        "train_dataset_2 = Dataset_Two(simulation_train_task32,simulation_continued_train)\n",
        "train_loader_2 = torch.utils.data.DataLoader(train_dataset_2, batch_size=64)\n",
        "\n",
        "valid_dataset_2 = Dataset_Two(simulation_valid,simulation_continued_valid)\n",
        "valid_loader_2 = torch.utils.data.DataLoader(valid_dataset_2, batch_size=64)\n",
        "\n",
        "test_dataset_2 = Dataset_Two(simulation_test,simulation_continued_test)\n",
        "test_loader_2 = torch.utils.data.DataLoader(test_dataset_2, batch_size=10)"
      ],
      "metadata": {
        "colab": {
          "base_uri": "https://localhost:8080/"
        },
        "id": "qTz9PYWNqFN4",
        "outputId": "f021e39d-1e13-4502-ecbe-5c7e8cfe7dc7"
      },
      "id": "qTz9PYWNqFN4",
      "execution_count": 45,
      "outputs": [
        {
          "output_type": "stream",
          "name": "stdout",
          "text": [
            "Length of input data  150\n",
            " Shape of input data torch.Size([150, 1, 220])\n",
            "Length of targets 150\n",
            "Shape of Target torch.Size([150, 1, 120])\n",
            "Length of input data  100\n",
            " Shape of input data torch.Size([100, 1, 220])\n",
            "Length of targets 100\n",
            "Shape of Target torch.Size([100, 1, 120])\n",
            "Length of input data  100\n",
            " Shape of input data torch.Size([100, 1, 220])\n",
            "Length of targets 100\n",
            "Shape of Target torch.Size([100, 1, 120])\n"
          ]
        }
      ]
    },
    {
      "cell_type": "markdown",
      "id": "867aabb3",
      "metadata": {
        "id": "867aabb3"
      },
      "source": [
        "## Model Implementation"
      ]
    },
    {
      "cell_type": "code",
      "execution_count": 46,
      "id": "36fe2739",
      "metadata": {
        "id": "36fe2739"
      },
      "outputs": [],
      "source": [
        "#todo\n",
        "#qs. Using the positions of positively charged particle p1 during a simulation up to t = 10±1, continue its trajectory for an additional 4 ± 2 seconds.\n",
        "#LSTM Model\n",
        "#model has two input dimensions(x,y) coordinates=2 and output dimension will be 120(shape of targets)\n",
        "#output is a sequence of 120\n",
        "\n",
        "from torch import nn\n",
        "class LSTM_3_2(nn.Module):\n",
        "\n",
        "    def __init__(self, input_dim,hidden_dim,output_dim,device):\n",
        "        super(LSTM_3_2, self).__init__()\n",
        "        \n",
        "        self.input_dim = input_dim\n",
        "        self.hidden_dim = hidden_dim\n",
        "        self.device = device\n",
        "        \n",
        "        # RNN units using LSTM Cells\n",
        "        self.rnn1 = nn.LSTMCell(input_dim, hidden_dim)\n",
        "        self.rnn2 = nn.LSTMCell(hidden_dim, hidden_dim)\n",
        "        self.fc1 = nn.Linear(hidden_dim, hidden_dim)\n",
        "        self.fc2 = nn.Linear(hidden_dim, output_dim)\n",
        "    \n",
        "    def forward(self, batch_input ):\n",
        "        \n",
        "        # input shapes:\n",
        "        # batch_input: [batch_size, 1,seq_length]\n",
        "        # initial hidden and cell states\n",
        "        hidden_0 = torch.randn(batch_input.shape[0], self.hidden_dim).to(self.device) \n",
        "        c_0=torch.randn(batch_input.shape[0],self.hidden_dim).to(self.device)\n",
        "        \n",
        "        # Feed packed input sequence to lstm \n",
        "        for i in range(0,220,2):\n",
        "            hidden_1,c_1 = self.rnn1(batch_input[:,0,i:i+2],(hidden_0,c_0)) # Pass the i-th compressed sequence step\n",
        "      \n",
        "        #[batch_size, hidden_dim]\n",
        "        #hidden_dim = [10, 256]\n",
        "        hidden_vectors = []\n",
        "        output_vectors = []\n",
        "        \n",
        "        hidden2 = torch.randn(batch_input.shape[0], self.hidden_dim).to(self.device)\n",
        "        #each sequence generated untill\n",
        "        for j in range(0,60):\n",
        "            hidden2,c_2 = self.rnn2(hidden2,( hidden_1,c_1))\n",
        "            hidden_vectors.append(hidden2)\n",
        "            #vector= [10, 256]\n",
        "            #batch =[1,256]\n",
        "        \n",
        "        \n",
        "        for op in range(len(hidden_vectors)):\n",
        "            h1 = nn.ReLU()(self.fc1(hidden_vectors[op]))\n",
        "            h2 = self.fc2(h1) # [10,256] and [256,2]\n",
        "           \n",
        "            \n",
        "\n",
        "            output_vectors.append(h2)\n",
        "            \n",
        "        outputs = torch.stack(output_vectors, dim=1)\n",
        "        \n",
        "        final_output = []\n",
        "        for tens in range(len(outputs)):\n",
        "            t = outputs[tens].view(1,-1) \n",
        "            final_output.append(t)\n",
        "        \n",
        "        model_output = torch.stack(final_output)\n",
        "            \n",
        "        return model_output"
      ]
    },
    {
      "cell_type": "code",
      "source": [
        "# GRUimplementation of same LST structure\n",
        "#we need our model to have input dim = 2 and output_dim = 120 (we need a sequence in the output) \n",
        "\n",
        "class GRURegressor32(nn.Module):\n",
        "\n",
        "    def __init__(self, input_dim,hidden_dim,output_dim,device):\n",
        "        super(GRURegressor32, self).__init__()\n",
        "        \n",
        "        self.input_dim = input_dim\n",
        "        self.hidden_dim = hidden_dim\n",
        "        self.device = device\n",
        "        self.rnn1 = nn.GRUCell(input_dim, hidden_dim)\n",
        "        self.rnn2 = nn.GRUCell(hidden_dim, hidden_dim)\n",
        "        self.fc1 = nn.Linear(hidden_dim, hidden_dim)\n",
        "        self.fc2 = nn.Linear(hidden_dim, output_dim)\n",
        "    \n",
        "    def forward(self, batch_input ):\n",
        "        \n",
        "        # input shapes:\n",
        "        # batch_input: [batch_size, 1,length of sequence]\n",
        "        # Generate initial hidden and cell states\n",
        "        hidden = torch.randn(batch_input.shape[0], self.hidden_dim).to(self.device) \n",
        "        \n",
        "        # Feed packed input sequence to lstm \n",
        "        for i in range(0,220,2):\n",
        "            hidden = self.rnn1(batch_input[:,0,i:i+2],hidden) # Pass the i-th compressed sequence step\n",
        "        # feed output to MLP, apply ReLU nonlinearity\n",
        "        # shape [batch_size, hidden_dim]\n",
        "        #hidden_dim = [10, 256]\n",
        "        \n",
        "        \n",
        "        #hidden vector at time = t\n",
        "        hidden_vectors = []\n",
        "        output_vectors = []\n",
        "        \n",
        "        hidden2 = torch.randn(batch_input.shape[0], self.hidden_dim).to(self.device)\n",
        "        for j in range(0,60):\n",
        "            hidden2 = self.rnn2(hidden, hidden2)\n",
        "            hidden_vectors.append(hidden2)\n",
        "        \n",
        "        \n",
        "        for op in range(len(hidden_vectors)):\n",
        "            h1 = nn.ReLU()(self.fc1(hidden_vectors[op]))\n",
        "            h2 = self.fc2(h1) #fully connected layer operation[10,256] and [256,2]\n",
        "            #h2 has a dimension (10, 2)\n",
        "            #h2 batch =1 has the shape (1,2) and we have 60 time steps.\n",
        "            \n",
        "\n",
        "            output_vectors.append(h2)\n",
        "            \n",
        "        outputs = torch.stack(output_vectors, dim=1)\n",
        "        \n",
        "        final_output = []\n",
        "        for output in range(len(outputs)):\n",
        "            t = outputs[output].view(1,-1)\n",
        "            final_output.append(t)\n",
        "        \n",
        "        model_output = torch.stack(final_output)\n",
        "            \n",
        "        return model_output"
      ],
      "metadata": {
        "id": "G1s5G90hsh6a"
      },
      "id": "G1s5G90hsh6a",
      "execution_count": 47,
      "outputs": []
    },
    {
      "cell_type": "markdown",
      "id": "826fae3f",
      "metadata": {
        "id": "826fae3f"
      },
      "source": [
        "## Model Training"
      ]
    },
    {
      "cell_type": "code",
      "execution_count": 48,
      "id": "db3fce95",
      "metadata": {
        "id": "db3fce95"
      },
      "outputs": [],
      "source": [
        "#todo\n",
        "\n",
        "def save_model_checkpoint(path, model, optimizer, val_loss, val_acc, train_acc, train_loss ):\n",
        "    if path == None:\n",
        "        return print(\"Kindly define a path\")\n",
        "    path = path\n",
        "    \n",
        "    save_dict = {\"model_dict\" : model.state_dict(), \n",
        "                 \"optimizer_dict\": optimizer.state_dict(),\n",
        "                 \"val_loss_dict\": val_loss,\n",
        "                 \"val_acc_dict\": val_acc,\n",
        "                 \"train_acc_dict\": train_acc,\n",
        "                 \"train_loss_dict\": train_loss}\n",
        "    torch.save(save_dict, path)\n",
        "    return print(\"Model Saved to ==> {}\".format(path))"
      ]
    },
    {
      "cell_type": "code",
      "execution_count": 49,
      "id": "41ddb47d",
      "metadata": {
        "id": "41ddb47d"
      },
      "outputs": [],
      "source": [
        "# Check training and validation after each epoch\n",
        "\n",
        "def train(model, train_loader, val_loader, criterion,num_epochs, save_name):\n",
        "    best_val_loss = float(\"Inf\") \n",
        "    train_losses = []\n",
        "    val_losses = []\n",
        "    train_acc = []\n",
        "    val_acc = []\n",
        "    cur_step = 0\n",
        "    train_pred = []\n",
        "    val_pred = []\n",
        "\n",
        "    for epoch in range(num_epochs):\n",
        "        running_loss = 0.0\n",
        "        running_train_acc = 0.0\n",
        "  \n",
        "        model.train()\n",
        "        print(\"Epoch :  \" + str(epoch+1))\n",
        "        for train_data, targets in train_loader:\n",
        "            \n",
        "           \n",
        "            # Forward propagation\n",
        "            input_tensor = train_data.to(device)\n",
        "            outputs = model.forward(input_tensor)\n",
        "            loss = criterion(outputs,targets.to(device))\n",
        "\n",
        "                \n",
        "            # Backward propagation and optimize\n",
        "            optimizer.zero_grad()\n",
        "            loss.backward()\n",
        "            optimizer.step()   \n",
        "            running_loss += loss\n",
        "          \n",
        "\n",
        "        avg_train_loss = running_loss / len(train_loader)\n",
        "        train_losses.append(avg_train_loss)\n",
        "        print(\"Train Pass Completed\")\n",
        "\n",
        "       ##|Validation Set|##\n",
        "\n",
        "        val_running_loss = 0.0\n",
        "        with torch.no_grad():\n",
        "            model.eval()\n",
        "            for val_data, val_targets in val_loader:\n",
        "                input_tensor = val_data.to(device)\n",
        "                outputs = model.forward(input_tensor)\n",
        "                loss = criterion(outputs,val_targets.to(device))\n",
        "               \n",
        "                val_running_loss += loss\n",
        "\n",
        "        avg_val_loss = val_running_loss / len(val_loader)\n",
        "        val_losses.append(avg_val_loss)\n",
        "\n",
        "        \n",
        "        print('Epoch [{}/{}],Train Loss: {:.4f}, Valid Loss: {:.8f}' \n",
        "            .format(epoch+1, num_epochs, avg_train_loss, avg_val_loss))\n",
        "        if avg_val_loss < best_val_loss:\n",
        "            best_val_loss = avg_val_loss \n",
        "            save_model_checkpoint(save_name, model, optimizer, best_val_loss, 0, 0, avg_train_loss )\n",
        "    \n",
        "    print(\"Finished Training\") \n",
        "    return train_losses, val_losses\n",
        "     "
      ]
    },
    {
      "cell_type": "code",
      "execution_count": 50,
      "id": "4ee069fc",
      "metadata": {
        "id": "4ee069fc"
      },
      "outputs": [],
      "source": [
        "\n",
        "# #device = 'cuda:0'\n",
        "# LSTM_3_2 = LSTM_3_2(input_dim=2,hidden_dim=256,output_dim=2,device='cpu')\n",
        "# optimizer = torch.optim.SGD(LSTM_3_2.parameters(), lr=0.001, momentum=0.9)\n",
        "# #optimizer = torch.optim.Adam(LSTM_3_2.parameters(), lr= 1e-4)\n",
        "# num_epochs = 350\n",
        "# save_name = f'LSTM_300.pt'\n",
        "# criterion = nn.MSELoss()\n",
        "# obtained_train_loss_2, obtained_val_loss_2 = train(LSTM_3_2,\n",
        "#                                                       train_loader_2, \n",
        "#                                                       valid_loader_2, criterion, num_epochs, save_name)\n"
      ]
    },
    {
      "cell_type": "code",
      "source": [
        "#Training on similar GRU Network with similar hyperparameters\n",
        "\n",
        "GRURegressor32=GRURegressor32(input_dim=2,hidden_dim=256,output_dim=2,device='cpu')\n",
        "optimizer = torch.optim.SGD(GRURegressor32.parameters(), lr=0.01, momentum=0.9)\n",
        "#optimizer = torch.optim.Adam(GRU_reg32.parameters(), lr= 1e-4)\n",
        "num_epochs = 350\n",
        "save_name = f'gru_300.pt'\n",
        "criterion = nn.MSELoss()\n",
        "\n",
        "obtained_train_loss_3, obtained_val_loss_3 = train(GRURegressor32, \n",
        "                                                      train_loader_2, \n",
        "                                                      valid_loader_2, criterion, num_epochs, save_name)"
      ],
      "metadata": {
        "colab": {
          "base_uri": "https://localhost:8080/"
        },
        "id": "SkxjOZcOfaf4",
        "outputId": "d9434416-5917-4c94-ade4-3f2227e2dcd8"
      },
      "id": "SkxjOZcOfaf4",
      "execution_count": 51,
      "outputs": [
        {
          "output_type": "stream",
          "name": "stdout",
          "text": [
            "Epoch :  1\n",
            "Train Pass Completed\n",
            "Epoch [1/350],Train Loss: 3.1353, Valid Loss: 3.39702415\n",
            "Model Saved to ==> gru_300.pt\n",
            "Epoch :  2\n",
            "Train Pass Completed\n",
            "Epoch [2/350],Train Loss: 3.0897, Valid Loss: 3.35750961\n",
            "Model Saved to ==> gru_300.pt\n",
            "Epoch :  3\n",
            "Train Pass Completed\n",
            "Epoch [3/350],Train Loss: 3.0227, Valid Loss: 3.31465292\n",
            "Model Saved to ==> gru_300.pt\n",
            "Epoch :  4\n",
            "Train Pass Completed\n",
            "Epoch [4/350],Train Loss: 2.9524, Valid Loss: 3.27725840\n",
            "Model Saved to ==> gru_300.pt\n",
            "Epoch :  5\n",
            "Train Pass Completed\n",
            "Epoch [5/350],Train Loss: 2.8914, Valid Loss: 3.24907303\n",
            "Model Saved to ==> gru_300.pt\n",
            "Epoch :  6\n",
            "Train Pass Completed\n",
            "Epoch [6/350],Train Loss: 2.8374, Valid Loss: 3.21593189\n",
            "Model Saved to ==> gru_300.pt\n",
            "Epoch :  7\n",
            "Train Pass Completed\n",
            "Epoch [7/350],Train Loss: 2.7802, Valid Loss: 3.17448807\n",
            "Model Saved to ==> gru_300.pt\n",
            "Epoch :  8\n",
            "Train Pass Completed\n",
            "Epoch [8/350],Train Loss: 2.7309, Valid Loss: 3.13343143\n",
            "Model Saved to ==> gru_300.pt\n",
            "Epoch :  9\n",
            "Train Pass Completed\n",
            "Epoch [9/350],Train Loss: 2.6856, Valid Loss: 3.09463668\n",
            "Model Saved to ==> gru_300.pt\n",
            "Epoch :  10\n",
            "Train Pass Completed\n",
            "Epoch [10/350],Train Loss: 2.6631, Valid Loss: 3.06253529\n",
            "Model Saved to ==> gru_300.pt\n",
            "Epoch :  11\n",
            "Train Pass Completed\n",
            "Epoch [11/350],Train Loss: 2.6523, Valid Loss: 3.04920864\n",
            "Model Saved to ==> gru_300.pt\n",
            "Epoch :  12\n",
            "Train Pass Completed\n",
            "Epoch [12/350],Train Loss: 2.6468, Valid Loss: 3.04819345\n",
            "Model Saved to ==> gru_300.pt\n",
            "Epoch :  13\n",
            "Train Pass Completed\n",
            "Epoch [13/350],Train Loss: 2.6418, Valid Loss: 3.04876900\n",
            "Epoch :  14\n",
            "Train Pass Completed\n",
            "Epoch [14/350],Train Loss: 2.6414, Valid Loss: 3.04109764\n",
            "Model Saved to ==> gru_300.pt\n",
            "Epoch :  15\n",
            "Train Pass Completed\n",
            "Epoch [15/350],Train Loss: 2.6317, Valid Loss: 3.02626467\n",
            "Model Saved to ==> gru_300.pt\n",
            "Epoch :  16\n",
            "Train Pass Completed\n",
            "Epoch [16/350],Train Loss: 2.6159, Valid Loss: 3.00960755\n",
            "Model Saved to ==> gru_300.pt\n",
            "Epoch :  17\n",
            "Train Pass Completed\n",
            "Epoch [17/350],Train Loss: 2.6073, Valid Loss: 2.99304700\n",
            "Model Saved to ==> gru_300.pt\n",
            "Epoch :  18\n",
            "Train Pass Completed\n",
            "Epoch [18/350],Train Loss: 2.6067, Valid Loss: 2.98557949\n",
            "Model Saved to ==> gru_300.pt\n",
            "Epoch :  19\n",
            "Train Pass Completed\n",
            "Epoch [19/350],Train Loss: 2.6037, Valid Loss: 2.98546314\n",
            "Model Saved to ==> gru_300.pt\n",
            "Epoch :  20\n",
            "Train Pass Completed\n",
            "Epoch [20/350],Train Loss: 2.6006, Valid Loss: 2.98310041\n",
            "Model Saved to ==> gru_300.pt\n",
            "Epoch :  21\n",
            "Train Pass Completed\n",
            "Epoch [21/350],Train Loss: 2.6009, Valid Loss: 2.98352051\n",
            "Epoch :  22\n",
            "Train Pass Completed\n",
            "Epoch [22/350],Train Loss: 2.5960, Valid Loss: 2.97819376\n",
            "Model Saved to ==> gru_300.pt\n",
            "Epoch :  23\n",
            "Train Pass Completed\n",
            "Epoch [23/350],Train Loss: 2.5911, Valid Loss: 2.97744417\n",
            "Model Saved to ==> gru_300.pt\n",
            "Epoch :  24\n",
            "Train Pass Completed\n",
            "Epoch [24/350],Train Loss: 2.5875, Valid Loss: 2.98512220\n",
            "Epoch :  25\n",
            "Train Pass Completed\n",
            "Epoch [25/350],Train Loss: 2.5849, Valid Loss: 2.98380995\n",
            "Epoch :  26\n",
            "Train Pass Completed\n",
            "Epoch [26/350],Train Loss: 2.5831, Valid Loss: 2.98263645\n",
            "Epoch :  27\n",
            "Train Pass Completed\n",
            "Epoch [27/350],Train Loss: 2.5785, Valid Loss: 2.97868967\n",
            "Epoch :  28\n",
            "Train Pass Completed\n",
            "Epoch [28/350],Train Loss: 2.5782, Valid Loss: 2.97786736\n",
            "Epoch :  29\n",
            "Train Pass Completed\n",
            "Epoch [29/350],Train Loss: 2.5767, Valid Loss: 2.97739673\n",
            "Model Saved to ==> gru_300.pt\n",
            "Epoch :  30\n",
            "Train Pass Completed\n",
            "Epoch [30/350],Train Loss: 2.5748, Valid Loss: 2.96814013\n",
            "Model Saved to ==> gru_300.pt\n",
            "Epoch :  31\n",
            "Train Pass Completed\n",
            "Epoch [31/350],Train Loss: 2.5715, Valid Loss: 2.96782589\n",
            "Model Saved to ==> gru_300.pt\n",
            "Epoch :  32\n",
            "Train Pass Completed\n",
            "Epoch [32/350],Train Loss: 2.5713, Valid Loss: 2.96878481\n",
            "Epoch :  33\n",
            "Train Pass Completed\n",
            "Epoch [33/350],Train Loss: 2.5628, Valid Loss: 2.96724796\n",
            "Model Saved to ==> gru_300.pt\n",
            "Epoch :  34\n",
            "Train Pass Completed\n",
            "Epoch [34/350],Train Loss: 2.5621, Valid Loss: 2.96762848\n",
            "Epoch :  35\n",
            "Train Pass Completed\n",
            "Epoch [35/350],Train Loss: 2.5620, Valid Loss: 2.96330357\n",
            "Model Saved to ==> gru_300.pt\n",
            "Epoch :  36\n",
            "Train Pass Completed\n",
            "Epoch [36/350],Train Loss: 2.5604, Valid Loss: 2.96387148\n",
            "Epoch :  37\n",
            "Train Pass Completed\n",
            "Epoch [37/350],Train Loss: 2.5542, Valid Loss: 2.96422625\n",
            "Epoch :  38\n",
            "Train Pass Completed\n",
            "Epoch [38/350],Train Loss: 2.5552, Valid Loss: 2.96257401\n",
            "Model Saved to ==> gru_300.pt\n",
            "Epoch :  39\n",
            "Train Pass Completed\n",
            "Epoch [39/350],Train Loss: 2.5550, Valid Loss: 2.95980382\n",
            "Model Saved to ==> gru_300.pt\n",
            "Epoch :  40\n",
            "Train Pass Completed\n",
            "Epoch [40/350],Train Loss: 2.5509, Valid Loss: 2.95679283\n",
            "Model Saved to ==> gru_300.pt\n",
            "Epoch :  41\n",
            "Train Pass Completed\n",
            "Epoch [41/350],Train Loss: 2.5515, Valid Loss: 2.96107125\n",
            "Epoch :  42\n",
            "Train Pass Completed\n",
            "Epoch [42/350],Train Loss: 2.5526, Valid Loss: 2.96128988\n",
            "Epoch :  43\n",
            "Train Pass Completed\n",
            "Epoch [43/350],Train Loss: 2.5520, Valid Loss: 2.95908976\n",
            "Epoch :  44\n",
            "Train Pass Completed\n",
            "Epoch [44/350],Train Loss: 2.5442, Valid Loss: 2.95897031\n",
            "Epoch :  45\n",
            "Train Pass Completed\n",
            "Epoch [45/350],Train Loss: 2.5396, Valid Loss: 2.95383763\n",
            "Model Saved to ==> gru_300.pt\n",
            "Epoch :  46\n",
            "Train Pass Completed\n",
            "Epoch [46/350],Train Loss: 2.5375, Valid Loss: 2.95240664\n",
            "Model Saved to ==> gru_300.pt\n",
            "Epoch :  47\n",
            "Train Pass Completed\n",
            "Epoch [47/350],Train Loss: 2.5398, Valid Loss: 2.95390892\n",
            "Epoch :  48\n",
            "Train Pass Completed\n",
            "Epoch [48/350],Train Loss: 2.5365, Valid Loss: 2.95832205\n",
            "Epoch :  49\n",
            "Train Pass Completed\n",
            "Epoch [49/350],Train Loss: 2.5333, Valid Loss: 2.95117593\n",
            "Model Saved to ==> gru_300.pt\n",
            "Epoch :  50\n",
            "Train Pass Completed\n",
            "Epoch [50/350],Train Loss: 2.5287, Valid Loss: 2.94746828\n",
            "Model Saved to ==> gru_300.pt\n",
            "Epoch :  51\n",
            "Train Pass Completed\n",
            "Epoch [51/350],Train Loss: 2.5312, Valid Loss: 2.95384216\n",
            "Epoch :  52\n",
            "Train Pass Completed\n",
            "Epoch [52/350],Train Loss: 2.5251, Valid Loss: 2.95486975\n",
            "Epoch :  53\n",
            "Train Pass Completed\n",
            "Epoch [53/350],Train Loss: 2.5301, Valid Loss: 2.94982576\n",
            "Epoch :  54\n",
            "Train Pass Completed\n",
            "Epoch [54/350],Train Loss: 2.5206, Valid Loss: 2.94885755\n",
            "Epoch :  55\n",
            "Train Pass Completed\n",
            "Epoch [55/350],Train Loss: 2.5171, Valid Loss: 2.94545031\n",
            "Model Saved to ==> gru_300.pt\n",
            "Epoch :  56\n",
            "Train Pass Completed\n",
            "Epoch [56/350],Train Loss: 2.5188, Valid Loss: 2.94495535\n",
            "Model Saved to ==> gru_300.pt\n",
            "Epoch :  57\n",
            "Train Pass Completed\n",
            "Epoch [57/350],Train Loss: 2.5134, Valid Loss: 2.95254850\n",
            "Epoch :  58\n",
            "Train Pass Completed\n",
            "Epoch [58/350],Train Loss: 2.5128, Valid Loss: 2.94601607\n",
            "Epoch :  59\n",
            "Train Pass Completed\n",
            "Epoch [59/350],Train Loss: 2.5083, Valid Loss: 2.94584084\n",
            "Epoch :  60\n",
            "Train Pass Completed\n",
            "Epoch [60/350],Train Loss: 2.5094, Valid Loss: 2.94802022\n",
            "Epoch :  61\n",
            "Train Pass Completed\n",
            "Epoch [61/350],Train Loss: 2.5013, Valid Loss: 2.94451237\n",
            "Model Saved to ==> gru_300.pt\n",
            "Epoch :  62\n",
            "Train Pass Completed\n",
            "Epoch [62/350],Train Loss: 2.4986, Valid Loss: 2.94065523\n",
            "Model Saved to ==> gru_300.pt\n",
            "Epoch :  63\n",
            "Train Pass Completed\n",
            "Epoch [63/350],Train Loss: 2.4996, Valid Loss: 2.94454622\n",
            "Epoch :  64\n",
            "Train Pass Completed\n",
            "Epoch [64/350],Train Loss: 2.4937, Valid Loss: 2.94516325\n",
            "Epoch :  65\n",
            "Train Pass Completed\n",
            "Epoch [65/350],Train Loss: 2.4887, Valid Loss: 2.94641972\n",
            "Epoch :  66\n",
            "Train Pass Completed\n",
            "Epoch [66/350],Train Loss: 2.4928, Valid Loss: 2.94335079\n",
            "Epoch :  67\n",
            "Train Pass Completed\n",
            "Epoch [67/350],Train Loss: 2.4871, Valid Loss: 2.94246864\n",
            "Epoch :  68\n",
            "Train Pass Completed\n",
            "Epoch [68/350],Train Loss: 2.4818, Valid Loss: 2.94267678\n",
            "Epoch :  69\n",
            "Train Pass Completed\n",
            "Epoch [69/350],Train Loss: 2.4822, Valid Loss: 2.93989038\n",
            "Model Saved to ==> gru_300.pt\n",
            "Epoch :  70\n",
            "Train Pass Completed\n",
            "Epoch [70/350],Train Loss: 2.4754, Valid Loss: 2.94529438\n",
            "Epoch :  71\n",
            "Train Pass Completed\n",
            "Epoch [71/350],Train Loss: 2.4702, Valid Loss: 2.94170475\n",
            "Epoch :  72\n",
            "Train Pass Completed\n",
            "Epoch [72/350],Train Loss: 2.4723, Valid Loss: 2.93970060\n",
            "Model Saved to ==> gru_300.pt\n",
            "Epoch :  73\n",
            "Train Pass Completed\n",
            "Epoch [73/350],Train Loss: 2.4693, Valid Loss: 2.93618393\n",
            "Model Saved to ==> gru_300.pt\n",
            "Epoch :  74\n",
            "Train Pass Completed\n",
            "Epoch [74/350],Train Loss: 2.4623, Valid Loss: 2.93561602\n",
            "Model Saved to ==> gru_300.pt\n",
            "Epoch :  75\n",
            "Train Pass Completed\n",
            "Epoch [75/350],Train Loss: 2.4589, Valid Loss: 2.93732977\n",
            "Epoch :  76\n",
            "Train Pass Completed\n",
            "Epoch [76/350],Train Loss: 2.4568, Valid Loss: 2.93525124\n",
            "Model Saved to ==> gru_300.pt\n",
            "Epoch :  77\n",
            "Train Pass Completed\n",
            "Epoch [77/350],Train Loss: 2.4518, Valid Loss: 2.93212628\n",
            "Model Saved to ==> gru_300.pt\n",
            "Epoch :  78\n",
            "Train Pass Completed\n",
            "Epoch [78/350],Train Loss: 2.4461, Valid Loss: 2.93628287\n",
            "Epoch :  79\n",
            "Train Pass Completed\n",
            "Epoch [79/350],Train Loss: 2.4432, Valid Loss: 2.93038750\n",
            "Model Saved to ==> gru_300.pt\n",
            "Epoch :  80\n",
            "Train Pass Completed\n",
            "Epoch [80/350],Train Loss: 2.4415, Valid Loss: 2.93240690\n",
            "Epoch :  81\n",
            "Train Pass Completed\n",
            "Epoch [81/350],Train Loss: 2.4348, Valid Loss: 2.92198610\n",
            "Model Saved to ==> gru_300.pt\n",
            "Epoch :  82\n",
            "Train Pass Completed\n",
            "Epoch [82/350],Train Loss: 2.4335, Valid Loss: 2.92851400\n",
            "Epoch :  83\n",
            "Train Pass Completed\n",
            "Epoch [83/350],Train Loss: 2.4282, Valid Loss: 2.92696142\n",
            "Epoch :  84\n",
            "Train Pass Completed\n",
            "Epoch [84/350],Train Loss: 2.4292, Valid Loss: 2.92273474\n",
            "Epoch :  85\n",
            "Train Pass Completed\n",
            "Epoch [85/350],Train Loss: 2.4217, Valid Loss: 2.92580509\n",
            "Epoch :  86\n",
            "Train Pass Completed\n",
            "Epoch [86/350],Train Loss: 2.4177, Valid Loss: 2.92369795\n",
            "Epoch :  87\n",
            "Train Pass Completed\n",
            "Epoch [87/350],Train Loss: 2.4142, Valid Loss: 2.91866541\n",
            "Model Saved to ==> gru_300.pt\n",
            "Epoch :  88\n",
            "Train Pass Completed\n",
            "Epoch [88/350],Train Loss: 2.4076, Valid Loss: 2.92048979\n",
            "Epoch :  89\n",
            "Train Pass Completed\n",
            "Epoch [89/350],Train Loss: 2.4071, Valid Loss: 2.91872787\n",
            "Epoch :  90\n",
            "Train Pass Completed\n",
            "Epoch [90/350],Train Loss: 2.4038, Valid Loss: 2.91319036\n",
            "Model Saved to ==> gru_300.pt\n",
            "Epoch :  91\n",
            "Train Pass Completed\n",
            "Epoch [91/350],Train Loss: 2.3959, Valid Loss: 2.91304588\n",
            "Model Saved to ==> gru_300.pt\n",
            "Epoch :  92\n",
            "Train Pass Completed\n",
            "Epoch [92/350],Train Loss: 2.3925, Valid Loss: 2.91591454\n",
            "Epoch :  93\n",
            "Train Pass Completed\n",
            "Epoch [93/350],Train Loss: 2.3824, Valid Loss: 2.90855551\n",
            "Model Saved to ==> gru_300.pt\n",
            "Epoch :  94\n",
            "Train Pass Completed\n",
            "Epoch [94/350],Train Loss: 2.3809, Valid Loss: 2.90889835\n",
            "Epoch :  95\n",
            "Train Pass Completed\n",
            "Epoch [95/350],Train Loss: 2.3767, Valid Loss: 2.90383649\n",
            "Model Saved to ==> gru_300.pt\n",
            "Epoch :  96\n",
            "Train Pass Completed\n",
            "Epoch [96/350],Train Loss: 2.3678, Valid Loss: 2.90631723\n",
            "Epoch :  97\n",
            "Train Pass Completed\n",
            "Epoch [97/350],Train Loss: 2.3720, Valid Loss: 2.89841223\n",
            "Model Saved to ==> gru_300.pt\n",
            "Epoch :  98\n",
            "Train Pass Completed\n",
            "Epoch [98/350],Train Loss: 2.3552, Valid Loss: 2.90401363\n",
            "Epoch :  99\n",
            "Train Pass Completed\n",
            "Epoch [99/350],Train Loss: 2.3560, Valid Loss: 2.89974880\n",
            "Epoch :  100\n",
            "Train Pass Completed\n",
            "Epoch [100/350],Train Loss: 2.3509, Valid Loss: 2.89852262\n",
            "Epoch :  101\n",
            "Train Pass Completed\n",
            "Epoch [101/350],Train Loss: 2.3433, Valid Loss: 2.88563204\n",
            "Model Saved to ==> gru_300.pt\n",
            "Epoch :  102\n",
            "Train Pass Completed\n",
            "Epoch [102/350],Train Loss: 2.3406, Valid Loss: 2.88604808\n",
            "Epoch :  103\n",
            "Train Pass Completed\n",
            "Epoch [103/350],Train Loss: 2.3360, Valid Loss: 2.88556910\n",
            "Model Saved to ==> gru_300.pt\n",
            "Epoch :  104\n",
            "Train Pass Completed\n",
            "Epoch [104/350],Train Loss: 2.3271, Valid Loss: 2.89408922\n",
            "Epoch :  105\n",
            "Train Pass Completed\n",
            "Epoch [105/350],Train Loss: 2.3150, Valid Loss: 2.88544202\n",
            "Model Saved to ==> gru_300.pt\n",
            "Epoch :  106\n",
            "Train Pass Completed\n",
            "Epoch [106/350],Train Loss: 2.3080, Valid Loss: 2.87629604\n",
            "Model Saved to ==> gru_300.pt\n",
            "Epoch :  107\n",
            "Train Pass Completed\n",
            "Epoch [107/350],Train Loss: 2.3132, Valid Loss: 2.88067436\n",
            "Epoch :  108\n",
            "Train Pass Completed\n",
            "Epoch [108/350],Train Loss: 2.2955, Valid Loss: 2.87059498\n",
            "Model Saved to ==> gru_300.pt\n",
            "Epoch :  109\n",
            "Train Pass Completed\n",
            "Epoch [109/350],Train Loss: 2.2862, Valid Loss: 2.87338877\n",
            "Epoch :  110\n",
            "Train Pass Completed\n",
            "Epoch [110/350],Train Loss: 2.2762, Valid Loss: 2.86875463\n",
            "Model Saved to ==> gru_300.pt\n",
            "Epoch :  111\n",
            "Train Pass Completed\n",
            "Epoch [111/350],Train Loss: 2.2726, Valid Loss: 2.86047506\n",
            "Model Saved to ==> gru_300.pt\n",
            "Epoch :  112\n",
            "Train Pass Completed\n",
            "Epoch [112/350],Train Loss: 2.2611, Valid Loss: 2.85334563\n",
            "Model Saved to ==> gru_300.pt\n",
            "Epoch :  113\n",
            "Train Pass Completed\n",
            "Epoch [113/350],Train Loss: 2.2524, Valid Loss: 2.85431576\n",
            "Epoch :  114\n",
            "Train Pass Completed\n",
            "Epoch [114/350],Train Loss: 2.2345, Valid Loss: 2.86703753\n",
            "Epoch :  115\n",
            "Train Pass Completed\n",
            "Epoch [115/350],Train Loss: 2.2278, Valid Loss: 2.84027481\n",
            "Model Saved to ==> gru_300.pt\n",
            "Epoch :  116\n",
            "Train Pass Completed\n",
            "Epoch [116/350],Train Loss: 2.2135, Valid Loss: 2.84211445\n",
            "Epoch :  117\n",
            "Train Pass Completed\n",
            "Epoch [117/350],Train Loss: 2.2063, Valid Loss: 2.83659935\n",
            "Model Saved to ==> gru_300.pt\n",
            "Epoch :  118\n",
            "Train Pass Completed\n",
            "Epoch [118/350],Train Loss: 2.1879, Valid Loss: 2.83432531\n",
            "Model Saved to ==> gru_300.pt\n",
            "Epoch :  119\n",
            "Train Pass Completed\n",
            "Epoch [119/350],Train Loss: 2.1849, Valid Loss: 2.81646371\n",
            "Model Saved to ==> gru_300.pt\n",
            "Epoch :  120\n",
            "Train Pass Completed\n",
            "Epoch [120/350],Train Loss: 2.1751, Valid Loss: 2.79826021\n",
            "Model Saved to ==> gru_300.pt\n",
            "Epoch :  121\n",
            "Train Pass Completed\n",
            "Epoch [121/350],Train Loss: 2.1603, Valid Loss: 2.80670071\n",
            "Epoch :  122\n",
            "Train Pass Completed\n",
            "Epoch [122/350],Train Loss: 2.1369, Valid Loss: 2.79504776\n",
            "Model Saved to ==> gru_300.pt\n",
            "Epoch :  123\n",
            "Train Pass Completed\n",
            "Epoch [123/350],Train Loss: 2.1262, Valid Loss: 2.77332163\n",
            "Model Saved to ==> gru_300.pt\n",
            "Epoch :  124\n",
            "Train Pass Completed\n",
            "Epoch [124/350],Train Loss: 2.1180, Valid Loss: 2.75978279\n",
            "Model Saved to ==> gru_300.pt\n",
            "Epoch :  125\n",
            "Train Pass Completed\n",
            "Epoch [125/350],Train Loss: 2.0799, Valid Loss: 2.78846693\n",
            "Epoch :  126\n",
            "Train Pass Completed\n",
            "Epoch [126/350],Train Loss: 2.0735, Valid Loss: 2.74492168\n",
            "Model Saved to ==> gru_300.pt\n",
            "Epoch :  127\n",
            "Train Pass Completed\n",
            "Epoch [127/350],Train Loss: 2.0497, Valid Loss: 2.74361253\n",
            "Model Saved to ==> gru_300.pt\n",
            "Epoch :  128\n",
            "Train Pass Completed\n",
            "Epoch [128/350],Train Loss: 2.0372, Valid Loss: 2.72895432\n",
            "Model Saved to ==> gru_300.pt\n",
            "Epoch :  129\n",
            "Train Pass Completed\n",
            "Epoch [129/350],Train Loss: 2.0275, Valid Loss: 2.70873642\n",
            "Model Saved to ==> gru_300.pt\n",
            "Epoch :  130\n",
            "Train Pass Completed\n",
            "Epoch [130/350],Train Loss: 1.9908, Valid Loss: 2.70351887\n",
            "Model Saved to ==> gru_300.pt\n",
            "Epoch :  131\n",
            "Train Pass Completed\n",
            "Epoch [131/350],Train Loss: 1.9854, Valid Loss: 2.69993401\n",
            "Model Saved to ==> gru_300.pt\n",
            "Epoch :  132\n",
            "Train Pass Completed\n",
            "Epoch [132/350],Train Loss: 1.9635, Valid Loss: 2.71522331\n",
            "Epoch :  133\n",
            "Train Pass Completed\n",
            "Epoch [133/350],Train Loss: 1.9489, Valid Loss: 2.64268446\n",
            "Model Saved to ==> gru_300.pt\n",
            "Epoch :  134\n",
            "Train Pass Completed\n",
            "Epoch [134/350],Train Loss: 1.9320, Valid Loss: 2.61728597\n",
            "Model Saved to ==> gru_300.pt\n",
            "Epoch :  135\n",
            "Train Pass Completed\n",
            "Epoch [135/350],Train Loss: 2.0071, Valid Loss: 2.74386454\n",
            "Epoch :  136\n",
            "Train Pass Completed\n",
            "Epoch [136/350],Train Loss: 1.9213, Valid Loss: 2.59640932\n",
            "Model Saved to ==> gru_300.pt\n",
            "Epoch :  137\n",
            "Train Pass Completed\n",
            "Epoch [137/350],Train Loss: 1.9003, Valid Loss: 2.61332989\n",
            "Epoch :  138\n",
            "Train Pass Completed\n",
            "Epoch [138/350],Train Loss: 1.8955, Valid Loss: 2.65011215\n",
            "Epoch :  139\n",
            "Train Pass Completed\n",
            "Epoch [139/350],Train Loss: 1.8977, Valid Loss: 2.57346034\n",
            "Model Saved to ==> gru_300.pt\n",
            "Epoch :  140\n",
            "Train Pass Completed\n",
            "Epoch [140/350],Train Loss: 1.9095, Valid Loss: 2.64390898\n",
            "Epoch :  141\n",
            "Train Pass Completed\n",
            "Epoch [141/350],Train Loss: 1.8477, Valid Loss: 2.59431314\n",
            "Epoch :  142\n",
            "Train Pass Completed\n",
            "Epoch [142/350],Train Loss: 1.9168, Valid Loss: 2.63860989\n",
            "Epoch :  143\n",
            "Train Pass Completed\n",
            "Epoch [143/350],Train Loss: 1.9076, Valid Loss: 2.55345893\n",
            "Model Saved to ==> gru_300.pt\n",
            "Epoch :  144\n",
            "Train Pass Completed\n",
            "Epoch [144/350],Train Loss: 1.9081, Valid Loss: 2.58017588\n",
            "Epoch :  145\n",
            "Train Pass Completed\n",
            "Epoch [145/350],Train Loss: 1.9605, Valid Loss: 2.46817636\n",
            "Model Saved to ==> gru_300.pt\n",
            "Epoch :  146\n",
            "Train Pass Completed\n",
            "Epoch [146/350],Train Loss: 1.9127, Valid Loss: 2.86234760\n",
            "Epoch :  147\n",
            "Train Pass Completed\n",
            "Epoch [147/350],Train Loss: 1.9892, Valid Loss: 2.40039468\n",
            "Model Saved to ==> gru_300.pt\n",
            "Epoch :  148\n",
            "Train Pass Completed\n",
            "Epoch [148/350],Train Loss: 1.9162, Valid Loss: 2.80888462\n",
            "Epoch :  149\n",
            "Train Pass Completed\n",
            "Epoch [149/350],Train Loss: 1.9872, Valid Loss: 2.66975784\n",
            "Epoch :  150\n",
            "Train Pass Completed\n",
            "Epoch [150/350],Train Loss: 1.8650, Valid Loss: 2.42811584\n",
            "Epoch :  151\n",
            "Train Pass Completed\n",
            "Epoch [151/350],Train Loss: 1.8477, Valid Loss: 2.60124493\n",
            "Epoch :  152\n",
            "Train Pass Completed\n",
            "Epoch [152/350],Train Loss: 1.7612, Valid Loss: 2.39124918\n",
            "Model Saved to ==> gru_300.pt\n",
            "Epoch :  153\n",
            "Train Pass Completed\n",
            "Epoch [153/350],Train Loss: 1.7574, Valid Loss: 2.36758828\n",
            "Model Saved to ==> gru_300.pt\n",
            "Epoch :  154\n",
            "Train Pass Completed\n",
            "Epoch [154/350],Train Loss: 1.7081, Valid Loss: 2.41402102\n",
            "Epoch :  155\n",
            "Train Pass Completed\n",
            "Epoch [155/350],Train Loss: 1.7245, Valid Loss: 2.41700077\n",
            "Epoch :  156\n",
            "Train Pass Completed\n",
            "Epoch [156/350],Train Loss: 1.7169, Valid Loss: 2.40166521\n",
            "Epoch :  157\n",
            "Train Pass Completed\n",
            "Epoch [157/350],Train Loss: 1.7253, Valid Loss: 2.39170170\n",
            "Epoch :  158\n",
            "Train Pass Completed\n",
            "Epoch [158/350],Train Loss: 1.7031, Valid Loss: 2.44598961\n",
            "Epoch :  159\n",
            "Train Pass Completed\n",
            "Epoch [159/350],Train Loss: 1.6587, Valid Loss: 2.30757141\n",
            "Model Saved to ==> gru_300.pt\n",
            "Epoch :  160\n",
            "Train Pass Completed\n",
            "Epoch [160/350],Train Loss: 1.6238, Valid Loss: 2.35431099\n",
            "Epoch :  161\n",
            "Train Pass Completed\n",
            "Epoch [161/350],Train Loss: 1.6048, Valid Loss: 2.36087394\n",
            "Epoch :  162\n",
            "Train Pass Completed\n",
            "Epoch [162/350],Train Loss: 1.6958, Valid Loss: 2.28925371\n",
            "Model Saved to ==> gru_300.pt\n",
            "Epoch :  163\n",
            "Train Pass Completed\n",
            "Epoch [163/350],Train Loss: 1.5394, Valid Loss: 2.35634804\n",
            "Epoch :  164\n",
            "Train Pass Completed\n",
            "Epoch [164/350],Train Loss: 1.5270, Valid Loss: 2.25890279\n",
            "Model Saved to ==> gru_300.pt\n",
            "Epoch :  165\n",
            "Train Pass Completed\n",
            "Epoch [165/350],Train Loss: 1.5281, Valid Loss: 2.52968502\n",
            "Epoch :  166\n",
            "Train Pass Completed\n",
            "Epoch [166/350],Train Loss: 1.5818, Valid Loss: 2.25888205\n",
            "Model Saved to ==> gru_300.pt\n",
            "Epoch :  167\n",
            "Train Pass Completed\n",
            "Epoch [167/350],Train Loss: 1.4551, Valid Loss: 2.36206889\n",
            "Epoch :  168\n",
            "Train Pass Completed\n",
            "Epoch [168/350],Train Loss: 1.5183, Valid Loss: 2.31525755\n",
            "Epoch :  169\n",
            "Train Pass Completed\n",
            "Epoch [169/350],Train Loss: 1.5043, Valid Loss: 2.33531594\n",
            "Epoch :  170\n",
            "Train Pass Completed\n",
            "Epoch [170/350],Train Loss: 1.5121, Valid Loss: 2.32483768\n",
            "Epoch :  171\n",
            "Train Pass Completed\n",
            "Epoch [171/350],Train Loss: 1.5411, Valid Loss: 2.32959795\n",
            "Epoch :  172\n",
            "Train Pass Completed\n",
            "Epoch [172/350],Train Loss: 1.4415, Valid Loss: 2.35570860\n",
            "Epoch :  173\n",
            "Train Pass Completed\n",
            "Epoch [173/350],Train Loss: 1.5109, Valid Loss: 2.21729827\n",
            "Model Saved to ==> gru_300.pt\n",
            "Epoch :  174\n",
            "Train Pass Completed\n",
            "Epoch [174/350],Train Loss: 1.3749, Valid Loss: 2.43278170\n",
            "Epoch :  175\n",
            "Train Pass Completed\n",
            "Epoch [175/350],Train Loss: 1.4341, Valid Loss: 2.29161310\n",
            "Epoch :  176\n",
            "Train Pass Completed\n",
            "Epoch [176/350],Train Loss: 1.3995, Valid Loss: 2.29495335\n",
            "Epoch :  177\n",
            "Train Pass Completed\n",
            "Epoch [177/350],Train Loss: 1.4028, Valid Loss: 2.24715829\n",
            "Epoch :  178\n",
            "Train Pass Completed\n",
            "Epoch [178/350],Train Loss: 1.4157, Valid Loss: 2.40467405\n",
            "Epoch :  179\n",
            "Train Pass Completed\n",
            "Epoch [179/350],Train Loss: 1.4642, Valid Loss: 2.38209820\n",
            "Epoch :  180\n",
            "Train Pass Completed\n",
            "Epoch [180/350],Train Loss: 1.5250, Valid Loss: 2.16330671\n",
            "Model Saved to ==> gru_300.pt\n",
            "Epoch :  181\n",
            "Train Pass Completed\n",
            "Epoch [181/350],Train Loss: 1.4411, Valid Loss: 2.32229376\n",
            "Epoch :  182\n",
            "Train Pass Completed\n",
            "Epoch [182/350],Train Loss: 1.5359, Valid Loss: 2.22379899\n",
            "Epoch :  183\n",
            "Train Pass Completed\n",
            "Epoch [183/350],Train Loss: 1.5676, Valid Loss: 2.23635340\n",
            "Epoch :  184\n",
            "Train Pass Completed\n",
            "Epoch [184/350],Train Loss: 1.4696, Valid Loss: 2.41476774\n",
            "Epoch :  185\n",
            "Train Pass Completed\n",
            "Epoch [185/350],Train Loss: 1.4801, Valid Loss: 2.31099892\n",
            "Epoch :  186\n",
            "Train Pass Completed\n",
            "Epoch [186/350],Train Loss: 1.3739, Valid Loss: 2.19312549\n",
            "Epoch :  187\n",
            "Train Pass Completed\n",
            "Epoch [187/350],Train Loss: 1.3599, Valid Loss: 2.16682577\n",
            "Epoch :  188\n",
            "Train Pass Completed\n",
            "Epoch [188/350],Train Loss: 1.3468, Valid Loss: 2.09677148\n",
            "Model Saved to ==> gru_300.pt\n",
            "Epoch :  189\n",
            "Train Pass Completed\n",
            "Epoch [189/350],Train Loss: 1.2690, Valid Loss: 2.23806596\n",
            "Epoch :  190\n",
            "Train Pass Completed\n",
            "Epoch [190/350],Train Loss: 1.3162, Valid Loss: 2.12657070\n",
            "Epoch :  191\n",
            "Train Pass Completed\n",
            "Epoch [191/350],Train Loss: 1.2318, Valid Loss: 2.20666361\n",
            "Epoch :  192\n",
            "Train Pass Completed\n",
            "Epoch [192/350],Train Loss: 1.3766, Valid Loss: 2.17674088\n",
            "Epoch :  193\n",
            "Train Pass Completed\n",
            "Epoch [193/350],Train Loss: 1.3646, Valid Loss: 2.26819563\n",
            "Epoch :  194\n",
            "Train Pass Completed\n",
            "Epoch [194/350],Train Loss: 1.3790, Valid Loss: 2.16386247\n",
            "Epoch :  195\n",
            "Train Pass Completed\n",
            "Epoch [195/350],Train Loss: 1.3350, Valid Loss: 2.44685793\n",
            "Epoch :  196\n",
            "Train Pass Completed\n",
            "Epoch [196/350],Train Loss: 1.4413, Valid Loss: 2.07891893\n",
            "Model Saved to ==> gru_300.pt\n",
            "Epoch :  197\n",
            "Train Pass Completed\n",
            "Epoch [197/350],Train Loss: 1.4106, Valid Loss: 2.17393398\n",
            "Epoch :  198\n",
            "Train Pass Completed\n",
            "Epoch [198/350],Train Loss: 1.3591, Valid Loss: 2.06057405\n",
            "Model Saved to ==> gru_300.pt\n",
            "Epoch :  199\n",
            "Train Pass Completed\n",
            "Epoch [199/350],Train Loss: 1.3387, Valid Loss: 2.05246305\n",
            "Model Saved to ==> gru_300.pt\n",
            "Epoch :  200\n",
            "Train Pass Completed\n",
            "Epoch [200/350],Train Loss: 1.3030, Valid Loss: 2.14445972\n",
            "Epoch :  201\n",
            "Train Pass Completed\n",
            "Epoch [201/350],Train Loss: 1.4039, Valid Loss: 2.12197685\n",
            "Epoch :  202\n",
            "Train Pass Completed\n",
            "Epoch [202/350],Train Loss: 1.3665, Valid Loss: 2.16921639\n",
            "Epoch :  203\n",
            "Train Pass Completed\n",
            "Epoch [203/350],Train Loss: 1.3539, Valid Loss: 2.03238702\n",
            "Model Saved to ==> gru_300.pt\n",
            "Epoch :  204\n",
            "Train Pass Completed\n",
            "Epoch [204/350],Train Loss: 1.2729, Valid Loss: 2.32043695\n",
            "Epoch :  205\n",
            "Train Pass Completed\n",
            "Epoch [205/350],Train Loss: 1.4160, Valid Loss: 2.17578149\n",
            "Epoch :  206\n",
            "Train Pass Completed\n",
            "Epoch [206/350],Train Loss: 1.3045, Valid Loss: 2.05452991\n",
            "Epoch :  207\n",
            "Train Pass Completed\n",
            "Epoch [207/350],Train Loss: 1.3205, Valid Loss: 1.94364631\n",
            "Model Saved to ==> gru_300.pt\n",
            "Epoch :  208\n",
            "Train Pass Completed\n",
            "Epoch [208/350],Train Loss: 1.1563, Valid Loss: 2.08109713\n",
            "Epoch :  209\n",
            "Train Pass Completed\n",
            "Epoch [209/350],Train Loss: 1.1902, Valid Loss: 2.13917899\n",
            "Epoch :  210\n",
            "Train Pass Completed\n",
            "Epoch [210/350],Train Loss: 1.1627, Valid Loss: 2.04286337\n",
            "Epoch :  211\n",
            "Train Pass Completed\n",
            "Epoch [211/350],Train Loss: 1.1400, Valid Loss: 2.01741934\n",
            "Epoch :  212\n",
            "Train Pass Completed\n",
            "Epoch [212/350],Train Loss: 1.1036, Valid Loss: 1.95410895\n",
            "Epoch :  213\n",
            "Train Pass Completed\n",
            "Epoch [213/350],Train Loss: 1.0958, Valid Loss: 2.02630520\n",
            "Epoch :  214\n",
            "Train Pass Completed\n",
            "Epoch [214/350],Train Loss: 1.1179, Valid Loss: 2.00740910\n",
            "Epoch :  215\n",
            "Train Pass Completed\n",
            "Epoch [215/350],Train Loss: 1.0609, Valid Loss: 2.06971264\n",
            "Epoch :  216\n",
            "Train Pass Completed\n",
            "Epoch [216/350],Train Loss: 1.1010, Valid Loss: 1.95546842\n",
            "Epoch :  217\n",
            "Train Pass Completed\n",
            "Epoch [217/350],Train Loss: 1.0588, Valid Loss: 1.97447968\n",
            "Epoch :  218\n",
            "Train Pass Completed\n",
            "Epoch [218/350],Train Loss: 1.0029, Valid Loss: 2.00670719\n",
            "Epoch :  219\n",
            "Train Pass Completed\n",
            "Epoch [219/350],Train Loss: 1.0528, Valid Loss: 2.05453944\n",
            "Epoch :  220\n",
            "Train Pass Completed\n",
            "Epoch [220/350],Train Loss: 1.0738, Valid Loss: 1.96402276\n",
            "Epoch :  221\n",
            "Train Pass Completed\n",
            "Epoch [221/350],Train Loss: 1.0511, Valid Loss: 1.94145155\n",
            "Model Saved to ==> gru_300.pt\n",
            "Epoch :  222\n",
            "Train Pass Completed\n",
            "Epoch [222/350],Train Loss: 1.1878, Valid Loss: 2.07513332\n",
            "Epoch :  223\n",
            "Train Pass Completed\n",
            "Epoch [223/350],Train Loss: 1.1830, Valid Loss: 2.24945664\n",
            "Epoch :  224\n",
            "Train Pass Completed\n",
            "Epoch [224/350],Train Loss: 1.3984, Valid Loss: 2.32233000\n",
            "Epoch :  225\n",
            "Train Pass Completed\n",
            "Epoch [225/350],Train Loss: 1.4733, Valid Loss: 2.41984296\n",
            "Epoch :  226\n",
            "Train Pass Completed\n",
            "Epoch [226/350],Train Loss: 1.6301, Valid Loss: 2.07683420\n",
            "Epoch :  227\n",
            "Train Pass Completed\n",
            "Epoch [227/350],Train Loss: 1.4182, Valid Loss: 2.57114172\n",
            "Epoch :  228\n",
            "Train Pass Completed\n",
            "Epoch [228/350],Train Loss: 1.4249, Valid Loss: 2.28674722\n",
            "Epoch :  229\n",
            "Train Pass Completed\n",
            "Epoch [229/350],Train Loss: 1.3015, Valid Loss: 1.91712058\n",
            "Model Saved to ==> gru_300.pt\n",
            "Epoch :  230\n",
            "Train Pass Completed\n",
            "Epoch [230/350],Train Loss: 1.2488, Valid Loss: 1.88847196\n",
            "Model Saved to ==> gru_300.pt\n",
            "Epoch :  231\n",
            "Train Pass Completed\n",
            "Epoch [231/350],Train Loss: 1.1507, Valid Loss: 1.87829900\n",
            "Model Saved to ==> gru_300.pt\n",
            "Epoch :  232\n",
            "Train Pass Completed\n",
            "Epoch [232/350],Train Loss: 1.1169, Valid Loss: 2.12423658\n",
            "Epoch :  233\n",
            "Train Pass Completed\n",
            "Epoch [233/350],Train Loss: 1.0913, Valid Loss: 2.01145577\n",
            "Epoch :  234\n",
            "Train Pass Completed\n",
            "Epoch [234/350],Train Loss: 1.1012, Valid Loss: 1.88272512\n",
            "Epoch :  235\n",
            "Train Pass Completed\n",
            "Epoch [235/350],Train Loss: 1.0349, Valid Loss: 1.80059004\n",
            "Model Saved to ==> gru_300.pt\n",
            "Epoch :  236\n",
            "Train Pass Completed\n",
            "Epoch [236/350],Train Loss: 1.0237, Valid Loss: 1.86267054\n",
            "Epoch :  237\n",
            "Train Pass Completed\n",
            "Epoch [237/350],Train Loss: 0.9689, Valid Loss: 1.87689662\n",
            "Epoch :  238\n",
            "Train Pass Completed\n",
            "Epoch [238/350],Train Loss: 0.9708, Valid Loss: 1.83533227\n",
            "Epoch :  239\n",
            "Train Pass Completed\n",
            "Epoch [239/350],Train Loss: 0.9339, Valid Loss: 1.85803056\n",
            "Epoch :  240\n",
            "Train Pass Completed\n",
            "Epoch [240/350],Train Loss: 0.9987, Valid Loss: 1.79633927\n",
            "Model Saved to ==> gru_300.pt\n",
            "Epoch :  241\n",
            "Train Pass Completed\n",
            "Epoch [241/350],Train Loss: 0.9508, Valid Loss: 1.80805302\n",
            "Epoch :  242\n",
            "Train Pass Completed\n",
            "Epoch [242/350],Train Loss: 0.9783, Valid Loss: 1.89569831\n",
            "Epoch :  243\n",
            "Train Pass Completed\n",
            "Epoch [243/350],Train Loss: 0.9643, Valid Loss: 1.93620062\n",
            "Epoch :  244\n",
            "Train Pass Completed\n",
            "Epoch [244/350],Train Loss: 0.9909, Valid Loss: 1.88591552\n",
            "Epoch :  245\n",
            "Train Pass Completed\n",
            "Epoch [245/350],Train Loss: 1.0365, Valid Loss: 1.82700908\n",
            "Epoch :  246\n",
            "Train Pass Completed\n",
            "Epoch [246/350],Train Loss: 1.0552, Valid Loss: 1.89413393\n",
            "Epoch :  247\n",
            "Train Pass Completed\n",
            "Epoch [247/350],Train Loss: 1.1645, Valid Loss: 1.92327189\n",
            "Epoch :  248\n",
            "Train Pass Completed\n",
            "Epoch [248/350],Train Loss: 1.1822, Valid Loss: 2.02894735\n",
            "Epoch :  249\n",
            "Train Pass Completed\n",
            "Epoch [249/350],Train Loss: 1.0362, Valid Loss: 1.89081335\n",
            "Epoch :  250\n",
            "Train Pass Completed\n",
            "Epoch [250/350],Train Loss: 1.0480, Valid Loss: 1.97480536\n",
            "Epoch :  251\n",
            "Train Pass Completed\n",
            "Epoch [251/350],Train Loss: 0.9246, Valid Loss: 1.93069291\n",
            "Epoch :  252\n",
            "Train Pass Completed\n",
            "Epoch [252/350],Train Loss: 1.1523, Valid Loss: 1.83338785\n",
            "Epoch :  253\n",
            "Train Pass Completed\n",
            "Epoch [253/350],Train Loss: 0.9363, Valid Loss: 2.02534652\n",
            "Epoch :  254\n",
            "Train Pass Completed\n",
            "Epoch [254/350],Train Loss: 0.9700, Valid Loss: 1.81564271\n",
            "Epoch :  255\n",
            "Train Pass Completed\n",
            "Epoch [255/350],Train Loss: 0.9191, Valid Loss: 1.87424195\n",
            "Epoch :  256\n",
            "Train Pass Completed\n",
            "Epoch [256/350],Train Loss: 0.9335, Valid Loss: 1.83729088\n",
            "Epoch :  257\n",
            "Train Pass Completed\n",
            "Epoch [257/350],Train Loss: 0.9342, Valid Loss: 1.86905181\n",
            "Epoch :  258\n",
            "Train Pass Completed\n",
            "Epoch [258/350],Train Loss: 0.9544, Valid Loss: 1.92692924\n",
            "Epoch :  259\n",
            "Train Pass Completed\n",
            "Epoch [259/350],Train Loss: 0.9347, Valid Loss: 1.73518205\n",
            "Model Saved to ==> gru_300.pt\n",
            "Epoch :  260\n",
            "Train Pass Completed\n",
            "Epoch [260/350],Train Loss: 0.9969, Valid Loss: 1.74204099\n",
            "Epoch :  261\n",
            "Train Pass Completed\n",
            "Epoch [261/350],Train Loss: 0.9146, Valid Loss: 1.91214108\n",
            "Epoch :  262\n",
            "Train Pass Completed\n",
            "Epoch [262/350],Train Loss: 0.9961, Valid Loss: 1.84104586\n",
            "Epoch :  263\n",
            "Train Pass Completed\n",
            "Epoch [263/350],Train Loss: 0.9506, Valid Loss: 1.77653122\n",
            "Epoch :  264\n",
            "Train Pass Completed\n",
            "Epoch [264/350],Train Loss: 1.1341, Valid Loss: 1.80902016\n",
            "Epoch :  265\n",
            "Train Pass Completed\n",
            "Epoch [265/350],Train Loss: 1.0563, Valid Loss: 1.88390040\n",
            "Epoch :  266\n",
            "Train Pass Completed\n",
            "Epoch [266/350],Train Loss: 1.1799, Valid Loss: 1.83322001\n",
            "Epoch :  267\n",
            "Train Pass Completed\n",
            "Epoch [267/350],Train Loss: 1.0012, Valid Loss: 2.15111923\n",
            "Epoch :  268\n",
            "Train Pass Completed\n",
            "Epoch [268/350],Train Loss: 1.0372, Valid Loss: 1.79949093\n",
            "Epoch :  269\n",
            "Train Pass Completed\n",
            "Epoch [269/350],Train Loss: 0.8610, Valid Loss: 1.88636541\n",
            "Epoch :  270\n",
            "Train Pass Completed\n",
            "Epoch [270/350],Train Loss: 0.8713, Valid Loss: 1.84122396\n",
            "Epoch :  271\n",
            "Train Pass Completed\n",
            "Epoch [271/350],Train Loss: 0.8666, Valid Loss: 1.75133824\n",
            "Epoch :  272\n",
            "Train Pass Completed\n",
            "Epoch [272/350],Train Loss: 0.8021, Valid Loss: 1.87682521\n",
            "Epoch :  273\n",
            "Train Pass Completed\n",
            "Epoch [273/350],Train Loss: 0.8490, Valid Loss: 1.78808427\n",
            "Epoch :  274\n",
            "Train Pass Completed\n",
            "Epoch [274/350],Train Loss: 0.7791, Valid Loss: 1.88929915\n",
            "Epoch :  275\n",
            "Train Pass Completed\n",
            "Epoch [275/350],Train Loss: 0.8239, Valid Loss: 1.76330018\n",
            "Epoch :  276\n",
            "Train Pass Completed\n",
            "Epoch [276/350],Train Loss: 0.8014, Valid Loss: 1.83836997\n",
            "Epoch :  277\n",
            "Train Pass Completed\n",
            "Epoch [277/350],Train Loss: 0.8195, Valid Loss: 1.85867190\n",
            "Epoch :  278\n",
            "Train Pass Completed\n",
            "Epoch [278/350],Train Loss: 0.8145, Valid Loss: 1.86284459\n",
            "Epoch :  279\n",
            "Train Pass Completed\n",
            "Epoch [279/350],Train Loss: 0.7575, Valid Loss: 1.84400594\n",
            "Epoch :  280\n",
            "Train Pass Completed\n",
            "Epoch [280/350],Train Loss: 0.7714, Valid Loss: 1.82335258\n",
            "Epoch :  281\n",
            "Train Pass Completed\n",
            "Epoch [281/350],Train Loss: 0.7356, Valid Loss: 1.85572743\n",
            "Epoch :  282\n",
            "Train Pass Completed\n",
            "Epoch [282/350],Train Loss: 0.8375, Valid Loss: 1.87838054\n",
            "Epoch :  283\n",
            "Train Pass Completed\n",
            "Epoch [283/350],Train Loss: 0.7834, Valid Loss: 1.86799073\n",
            "Epoch :  284\n",
            "Train Pass Completed\n",
            "Epoch [284/350],Train Loss: 0.8214, Valid Loss: 1.81311393\n",
            "Epoch :  285\n",
            "Train Pass Completed\n",
            "Epoch [285/350],Train Loss: 0.7693, Valid Loss: 1.97768188\n",
            "Epoch :  286\n",
            "Train Pass Completed\n",
            "Epoch [286/350],Train Loss: 0.8287, Valid Loss: 1.76630592\n",
            "Epoch :  287\n",
            "Train Pass Completed\n",
            "Epoch [287/350],Train Loss: 0.7906, Valid Loss: 1.91578650\n",
            "Epoch :  288\n",
            "Train Pass Completed\n",
            "Epoch [288/350],Train Loss: 0.8006, Valid Loss: 1.85308254\n",
            "Epoch :  289\n",
            "Train Pass Completed\n",
            "Epoch [289/350],Train Loss: 0.7402, Valid Loss: 2.00159192\n",
            "Epoch :  290\n",
            "Train Pass Completed\n",
            "Epoch [290/350],Train Loss: 0.7758, Valid Loss: 1.79741526\n",
            "Epoch :  291\n",
            "Train Pass Completed\n",
            "Epoch [291/350],Train Loss: 0.7030, Valid Loss: 1.97971153\n",
            "Epoch :  292\n",
            "Train Pass Completed\n",
            "Epoch [292/350],Train Loss: 0.7321, Valid Loss: 1.80365944\n",
            "Epoch :  293\n",
            "Train Pass Completed\n",
            "Epoch [293/350],Train Loss: 0.6972, Valid Loss: 1.88086605\n",
            "Epoch :  294\n",
            "Train Pass Completed\n",
            "Epoch [294/350],Train Loss: 0.7620, Valid Loss: 1.89581180\n",
            "Epoch :  295\n",
            "Train Pass Completed\n",
            "Epoch [295/350],Train Loss: 0.7892, Valid Loss: 1.89262700\n",
            "Epoch :  296\n",
            "Train Pass Completed\n",
            "Epoch [296/350],Train Loss: 0.9344, Valid Loss: 1.95028102\n",
            "Epoch :  297\n",
            "Train Pass Completed\n",
            "Epoch [297/350],Train Loss: 0.8117, Valid Loss: 1.88187575\n",
            "Epoch :  298\n",
            "Train Pass Completed\n",
            "Epoch [298/350],Train Loss: 0.8322, Valid Loss: 1.85473657\n",
            "Epoch :  299\n",
            "Train Pass Completed\n",
            "Epoch [299/350],Train Loss: 0.7344, Valid Loss: 1.94952893\n",
            "Epoch :  300\n",
            "Train Pass Completed\n",
            "Epoch [300/350],Train Loss: 0.7710, Valid Loss: 1.73762894\n",
            "Epoch :  301\n",
            "Train Pass Completed\n",
            "Epoch [301/350],Train Loss: 0.6737, Valid Loss: 1.83890533\n",
            "Epoch :  302\n",
            "Train Pass Completed\n",
            "Epoch [302/350],Train Loss: 0.6935, Valid Loss: 1.77159345\n",
            "Epoch :  303\n",
            "Train Pass Completed\n",
            "Epoch [303/350],Train Loss: 0.6671, Valid Loss: 1.92702317\n",
            "Epoch :  304\n",
            "Train Pass Completed\n",
            "Epoch [304/350],Train Loss: 0.6588, Valid Loss: 1.77066910\n",
            "Epoch :  305\n",
            "Train Pass Completed\n",
            "Epoch [305/350],Train Loss: 0.7071, Valid Loss: 2.01822639\n",
            "Epoch :  306\n",
            "Train Pass Completed\n",
            "Epoch [306/350],Train Loss: 0.6777, Valid Loss: 1.80706334\n",
            "Epoch :  307\n",
            "Train Pass Completed\n",
            "Epoch [307/350],Train Loss: 0.6839, Valid Loss: 1.93981576\n",
            "Epoch :  308\n",
            "Train Pass Completed\n",
            "Epoch [308/350],Train Loss: 0.7101, Valid Loss: 1.78639460\n",
            "Epoch :  309\n",
            "Train Pass Completed\n",
            "Epoch [309/350],Train Loss: 0.6873, Valid Loss: 1.88175845\n",
            "Epoch :  310\n",
            "Train Pass Completed\n",
            "Epoch [310/350],Train Loss: 0.6740, Valid Loss: 1.79406285\n",
            "Epoch :  311\n",
            "Train Pass Completed\n",
            "Epoch [311/350],Train Loss: 0.6192, Valid Loss: 1.87259865\n",
            "Epoch :  312\n",
            "Train Pass Completed\n",
            "Epoch [312/350],Train Loss: 0.6726, Valid Loss: 1.98054326\n",
            "Epoch :  313\n",
            "Train Pass Completed\n",
            "Epoch [313/350],Train Loss: 0.6714, Valid Loss: 1.84199286\n",
            "Epoch :  314\n",
            "Train Pass Completed\n",
            "Epoch [314/350],Train Loss: 0.6790, Valid Loss: 1.87510562\n",
            "Epoch :  315\n",
            "Train Pass Completed\n",
            "Epoch [315/350],Train Loss: 0.6118, Valid Loss: 1.88569891\n",
            "Epoch :  316\n",
            "Train Pass Completed\n",
            "Epoch [316/350],Train Loss: 0.5864, Valid Loss: 1.84553933\n",
            "Epoch :  317\n",
            "Train Pass Completed\n",
            "Epoch [317/350],Train Loss: 0.6030, Valid Loss: 1.89498234\n",
            "Epoch :  318\n",
            "Train Pass Completed\n",
            "Epoch [318/350],Train Loss: 0.6403, Valid Loss: 1.81064367\n",
            "Epoch :  319\n",
            "Train Pass Completed\n",
            "Epoch [319/350],Train Loss: 0.5949, Valid Loss: 1.89965177\n",
            "Epoch :  320\n",
            "Train Pass Completed\n",
            "Epoch [320/350],Train Loss: 0.5987, Valid Loss: 1.90705943\n",
            "Epoch :  321\n",
            "Train Pass Completed\n",
            "Epoch [321/350],Train Loss: 0.5969, Valid Loss: 1.88957262\n",
            "Epoch :  322\n",
            "Train Pass Completed\n",
            "Epoch [322/350],Train Loss: 0.6261, Valid Loss: 1.91497302\n",
            "Epoch :  323\n",
            "Train Pass Completed\n",
            "Epoch [323/350],Train Loss: 0.6142, Valid Loss: 1.83159602\n",
            "Epoch :  324\n",
            "Train Pass Completed\n",
            "Epoch [324/350],Train Loss: 0.6864, Valid Loss: 2.05197453\n",
            "Epoch :  325\n",
            "Train Pass Completed\n",
            "Epoch [325/350],Train Loss: 0.6209, Valid Loss: 1.81846786\n",
            "Epoch :  326\n",
            "Train Pass Completed\n",
            "Epoch [326/350],Train Loss: 0.6311, Valid Loss: 1.94745040\n",
            "Epoch :  327\n",
            "Train Pass Completed\n",
            "Epoch [327/350],Train Loss: 0.6160, Valid Loss: 1.89188039\n",
            "Epoch :  328\n",
            "Train Pass Completed\n",
            "Epoch [328/350],Train Loss: 0.5673, Valid Loss: 1.89055216\n",
            "Epoch :  329\n",
            "Train Pass Completed\n",
            "Epoch [329/350],Train Loss: 0.5297, Valid Loss: 1.93163121\n",
            "Epoch :  330\n",
            "Train Pass Completed\n",
            "Epoch [330/350],Train Loss: 0.5235, Valid Loss: 1.88783669\n",
            "Epoch :  331\n",
            "Train Pass Completed\n",
            "Epoch [331/350],Train Loss: 0.5350, Valid Loss: 1.88145947\n",
            "Epoch :  332\n",
            "Train Pass Completed\n",
            "Epoch [332/350],Train Loss: 0.4944, Valid Loss: 1.91137338\n",
            "Epoch :  333\n",
            "Train Pass Completed\n",
            "Epoch [333/350],Train Loss: 0.5113, Valid Loss: 1.83211541\n",
            "Epoch :  334\n",
            "Train Pass Completed\n",
            "Epoch [334/350],Train Loss: 0.5061, Valid Loss: 1.81704545\n",
            "Epoch :  335\n",
            "Train Pass Completed\n",
            "Epoch [335/350],Train Loss: 0.5183, Valid Loss: 1.88764644\n",
            "Epoch :  336\n",
            "Train Pass Completed\n",
            "Epoch [336/350],Train Loss: 0.5921, Valid Loss: 1.74319184\n",
            "Epoch :  337\n",
            "Train Pass Completed\n",
            "Epoch [337/350],Train Loss: 0.6139, Valid Loss: 2.12375045\n",
            "Epoch :  338\n",
            "Train Pass Completed\n",
            "Epoch [338/350],Train Loss: 0.5690, Valid Loss: 1.82108116\n",
            "Epoch :  339\n",
            "Train Pass Completed\n",
            "Epoch [339/350],Train Loss: 0.6586, Valid Loss: 1.99412918\n",
            "Epoch :  340\n",
            "Train Pass Completed\n",
            "Epoch [340/350],Train Loss: 0.6886, Valid Loss: 1.90074813\n",
            "Epoch :  341\n",
            "Train Pass Completed\n",
            "Epoch [341/350],Train Loss: 0.6857, Valid Loss: 1.88854980\n",
            "Epoch :  342\n",
            "Train Pass Completed\n",
            "Epoch [342/350],Train Loss: 0.7579, Valid Loss: 1.84584427\n",
            "Epoch :  343\n",
            "Train Pass Completed\n",
            "Epoch [343/350],Train Loss: 0.6507, Valid Loss: 2.01759791\n",
            "Epoch :  344\n",
            "Train Pass Completed\n",
            "Epoch [344/350],Train Loss: 0.7708, Valid Loss: 1.92803764\n",
            "Epoch :  345\n",
            "Train Pass Completed\n",
            "Epoch [345/350],Train Loss: 0.7300, Valid Loss: 1.82852328\n",
            "Epoch :  346\n",
            "Train Pass Completed\n",
            "Epoch [346/350],Train Loss: 0.8295, Valid Loss: 1.83808303\n",
            "Epoch :  347\n",
            "Train Pass Completed\n",
            "Epoch [347/350],Train Loss: 0.6791, Valid Loss: 1.92212057\n",
            "Epoch :  348\n",
            "Train Pass Completed\n",
            "Epoch [348/350],Train Loss: 0.6232, Valid Loss: 1.75271964\n",
            "Epoch :  349\n",
            "Train Pass Completed\n",
            "Epoch [349/350],Train Loss: 0.5969, Valid Loss: 1.89388847\n",
            "Epoch :  350\n",
            "Train Pass Completed\n",
            "Epoch [350/350],Train Loss: 0.6309, Valid Loss: 1.72626579\n",
            "Model Saved to ==> gru_300.pt\n",
            "Finished Training\n"
          ]
        }
      ]
    },
    {
      "cell_type": "code",
      "source": [
        "converted_train_loss_mse = [tensor.detach().item() for tensor in obtained_train_loss_3]\n",
        "converted_val_loss_mse = [tensor.detach().item() for tensor in obtained_val_loss_3]\n",
        "\n",
        "plt.plot(range(0,num_epochs),converted_train_loss_mse, label = \"Training Loss\")\n",
        "plt.plot(range(0,num_epochs),converted_val_loss_mse, label = \"Validation Loss\")\n",
        "plt.title('Loss  Vs Epochs (GRU Network with SGD : batch_size=64,lr=0.01)', fontsize=14)\n",
        "plt.xlabel('#Epochs', fontsize=14)\n",
        "plt.ylabel('Loss ', fontsize=14)\n",
        "\n",
        "plt.legend()\n",
        "plt.show()\n"
      ],
      "metadata": {
        "colab": {
          "base_uri": "https://localhost:8080/",
          "height": 300
        },
        "id": "B--cucXeijhQ",
        "outputId": "0fee2aa9-e370-4093-ec4a-47bb837dc7ac"
      },
      "id": "B--cucXeijhQ",
      "execution_count": 52,
      "outputs": [
        {
          "output_type": "display_data",
          "data": {
            "text/plain": [
              "<Figure size 432x288 with 1 Axes>"
            ],
            "image/png": "[encoded data removed]"
          },
          "metadata": {
            "needs_background": "light"
          }
        }
      ]
    },
    {
      "cell_type": "code",
      "source": [
        "print(f\"Best Val loss (GRU): {min(obtained_val_loss)}\")\n",
        "print(f\"Worst Val loss (GRU: {max(obtained_val_loss)}\")"
      ],
      "metadata": {
        "colab": {
          "base_uri": "https://localhost:8080/"
        },
        "id": "yuiJD-Eqi4vZ",
        "outputId": "595b861f-fae4-45de-c1fa-b67607c43972"
      },
      "id": "yuiJD-Eqi4vZ",
      "execution_count": 53,
      "outputs": [
        {
          "output_type": "stream",
          "name": "stdout",
          "text": [
            "Best Val loss (GRU): 0.08734273165464401\n",
            "Worst Val loss (GRU: 0.09744691103696823\n"
          ]
        }
      ]
    },
    {
      "cell_type": "markdown",
      "id": "c87278a2",
      "metadata": {
        "id": "c87278a2"
      },
      "source": [
        "## Evaluation"
      ]
    },
    {
      "cell_type": "code",
      "source": [
        "!pip install torchmetrics"
      ],
      "metadata": {
        "colab": {
          "base_uri": "https://localhost:8080/"
        },
        "id": "MxHdJXhsfhuV",
        "outputId": "53f9b012-3437-4278-ee12-ce3e0af7170a"
      },
      "id": "MxHdJXhsfhuV",
      "execution_count": 54,
      "outputs": [
        {
          "output_type": "stream",
          "name": "stdout",
          "text": [
            "Looking in indexes: https://pypi.org/simple, https://us-python.pkg.dev/colab-wheels/public/simple/\n",
            "Requirement already satisfied: torchmetrics in /usr/local/lib/python3.7/dist-packages (0.9.1)\n",
            "Requirement already satisfied: packaging in /usr/local/lib/python3.7/dist-packages (from torchmetrics) (21.3)\n",
            "Requirement already satisfied: torch>=1.3.1 in /usr/local/lib/python3.7/dist-packages (from torchmetrics) (1.11.0+cu113)\n",
            "Requirement already satisfied: typing-extensions in /usr/local/lib/python3.7/dist-packages (from torchmetrics) (4.1.1)\n",
            "Requirement already satisfied: numpy>=1.17.2 in /usr/local/lib/python3.7/dist-packages (from torchmetrics) (1.21.6)\n",
            "Requirement already satisfied: pyparsing!=3.0.5,>=2.0.2 in /usr/local/lib/python3.7/dist-packages (from packaging->torchmetrics) (3.0.9)\n"
          ]
        }
      ]
    },
    {
      "cell_type": "code",
      "execution_count": 55,
      "id": "2cbb6137",
      "metadata": {
        "id": "2cbb6137"
      },
      "outputs": [],
      "source": [
        "#todo\n",
        "#task 3.2 evaluation on test data\n",
        "\n",
        "#evaluate on the test set and calculate average test loss \n",
        "from sklearn.metrics import mean_squared_error\n",
        "from torchmetrics import R2Score \n",
        "r2score = R2Score().to(device)\n",
        "def evaluate(model, test_loader,device='cpu'):\n",
        "    test_running_loss = 0.0\n",
        "    count=0.0\n",
        "    r2_score=0.0\n",
        "    preds = []\n",
        "    actual = []\n",
        "    test_input = []\n",
        "    with torch.no_grad():\n",
        "        model.eval()\n",
        "        for test_data, test_label in test_loader:\n",
        "            input_tensor = test_data.to(device)\n",
        "            test_input.append(input_tensor)\n",
        "            outputs = model.forward(input_tensor)\n",
        "            preds.append(outputs)\n",
        "            actual.append(test_label)\n",
        "            loss = criterion(outputs,test_label.to(device))\n",
        "            test_running_loss += loss\n",
        "            #score = r2score(outputs, test_label)\n",
        "            #r2_score += score\n",
        "            count+=1\n",
        "            \n",
        "            print(f\"MSE Loss after {count} iteration :\", test_running_loss/count)\n",
        "\n",
        "\n",
        "\n",
        "        \n",
        "        avg_test_loss = test_running_loss / len(test_loader)\n",
        "        avg_r2_score = r2_score / len(test_loader)\n",
        "        print(\"Average MSE Test Loss: {:4f}\".format(avg_test_loss))\n",
        "        #print(\"Average R2 score: {:4f}\".format(avg_r2_score))\n",
        "        return preds, actual, test_input\n",
        "\n"
      ]
    },
    {
      "cell_type": "code",
      "source": [
        "from sklearn.metrics import mean_squared_error\n",
        "from torchmetrics import R2Score \n",
        "r2score = R2Score().to(device)\n",
        "criterion = nn.MSELoss()\n",
        "def evaluate(model, test_loader,device='cpu'):\n",
        "    test_running_loss = 0.0\n",
        "    count=0.0\n",
        "    r2_score=0.0\n",
        "    preds = []\n",
        "    actual = []\n",
        "    test_input = []\n",
        "    losses=[]\n",
        "    with torch.no_grad():\n",
        "        model.eval()\n",
        "        for test_data, test_label in test_loader:\n",
        "            input_tensor = test_data.to(device)\n",
        "            test_input.append(input_tensor)\n",
        "            outputs = model.forward(input_tensor)\n",
        "            preds.append(outputs)\n",
        "            actual.append(test_label)\n",
        "            loss = criterion(outputs,test_label.to(device))\n",
        "            \n",
        "            losses.append(loss)\n",
        "            test_running_loss += loss\n",
        "            #score = r2score(outputs, test_label)\n",
        "            #r2_score += score\n",
        "            #count+=1\n",
        "           \n",
        "            #print(f\"RMSE Loss after {count} iteration :\", test_running_loss/count)\n",
        "\n",
        "\n",
        "\n",
        "        print([tensor.detach().item() for tensor in losses])\n",
        "        avg_test_loss = test_running_loss / len(test_loader)\n",
        "        avg_r2_score = r2_score / len(test_loader)\n",
        "        print(\"Average MSE Test Loss: {:4f}\".format(avg_test_loss))\n",
        "        #print(\"Average R2 score: {:4f}\".format(avg_r2_score))\n",
        "        return preds, actual, test_input,losses\n",
        "\n",
        "preds,actual,input,avg_test_loss=evaluate(GRURegressor32,test_loader_2)\n",
        "#print(avg_test_loss)"
      ],
      "metadata": {
        "colab": {
          "base_uri": "https://localhost:8080/"
        },
        "id": "MF19_Eprfn2l",
        "outputId": "5cd04809-6e4f-4a76-b12e-26d86b53cb29"
      },
      "id": "MF19_Eprfn2l",
      "execution_count": 56,
      "outputs": [
        {
          "output_type": "stream",
          "name": "stdout",
          "text": [
            "[1.920884609222412, 0.9451115131378174, 1.9987268447875977, 2.9145560264587402, 0.9763132929801941, 1.7682512998580933, 3.0546340942382812, 1.1885310411453247, 1.6749980449676514, 1.7741854190826416]\n",
            "Average MSE Test Loss: 1.821619\n"
          ]
        }
      ]
    },
    {
      "cell_type": "code",
      "source": [
        "prediction_model_loss=[1.8778905868530273, 1.2208378314971924, 1.9729394912719727, 2.141270637512207, 1.3517041206359863, 1.6853364706039429, 3.028632879257202, 1.4836313724517822, 1.5931508541107178, 1.9006010293960571]\n"
      ],
      "metadata": {
        "id": "m9QyLoAN3Juw"
      },
      "id": "m9QyLoAN3Juw",
      "execution_count": 57,
      "outputs": []
    },
    {
      "cell_type": "code",
      "source": [
        "best_batch = np.argmin(avg_test_loss)\n",
        "worst_batch = np.argmax(avg_test_loss)\n",
        "\n",
        "print(f\"The batch with the best test loss is {best_batch}\")\n",
        "print(f\"The batch with the worst test loss is {worst_batch}\")"
      ],
      "metadata": {
        "colab": {
          "base_uri": "https://localhost:8080/"
        },
        "id": "bhK91FDIi_XZ",
        "outputId": "442991ab-66ee-4acc-e57b-0b0da0f5d481"
      },
      "id": "bhK91FDIi_XZ",
      "execution_count": 58,
      "outputs": [
        {
          "output_type": "stream",
          "name": "stdout",
          "text": [
            "The batch with the best test loss is 1\n",
            "The batch with the worst test loss is 6\n"
          ]
        }
      ]
    },
    {
      "cell_type": "code",
      "execution_count": 59,
      "id": "2cf6f4b7",
      "metadata": {
        "id": "2cf6f4b7"
      },
      "outputs": [],
      "source": [
        "def plot_dim(inp_arr, batch_size, sequence_len, dim):\n",
        "  plot_arr = []\n",
        "  for i in inp_arr:\n",
        "     plot= i.reshape(batch_size, sequence_len, dim)\n",
        "     plot_arr.append(plot)\n",
        "  return plot_arr\n",
        "\n",
        "\n",
        "plot_pred = plot_dim(preds, 10,60,2)\n",
        "plot_targets = plot_dim(actual, 10,60,2)\n",
        "plot_input = plot_dim(input, 10,110,2)"
      ]
    },
    {
      "cell_type": "code",
      "execution_count": 60,
      "id": "736c10d8",
      "metadata": {
        "id": "736c10d8",
        "colab": {
          "base_uri": "https://localhost:8080/",
          "height": 1000
        },
        "outputId": "c4d91caf-58d3-4541-ea9b-d60e84631b1d"
      },
      "outputs": [
        {
          "output_type": "stream",
          "name": "stdout",
          "text": [
            "\n",
            "Best Case Predictions : 0\n",
            "\n"
          ]
        },
        {
          "output_type": "display_data",
          "data": {
            "text/plain": [
              "<Figure size 360x360 with 1 Axes>"
            ],
            "image/png": "[encoded data removed]"
          },
          "metadata": {
            "needs_background": "light"
          }
        },
        {
          "output_type": "stream",
          "name": "stdout",
          "text": [
            "\n",
            "Best Case Predictions : 1\n",
            "\n"
          ]
        },
        {
          "output_type": "display_data",
          "data": {
            "text/plain": [
              "<Figure size 360x360 with 1 Axes>"
            ],
            "image/png": "[encoded data removed]"
          },
          "metadata": {
            "needs_background": "light"
          }
        },
        {
          "output_type": "stream",
          "name": "stdout",
          "text": [
            "\n",
            "Best Case Predictions : 2\n",
            "\n"
          ]
        },
        {
          "output_type": "display_data",
          "data": {
            "text/plain": [
              "<Figure size 360x360 with 1 Axes>"
            ],
            "image/png": "[encoded data removed]"
          },
          "metadata": {
            "needs_background": "light"
          }
        },
        {
          "output_type": "stream",
          "name": "stdout",
          "text": [
            "\n",
            "Best Case Predictions : 3\n",
            "\n"
          ]
        },
        {
          "output_type": "display_data",
          "data": {
            "text/plain": [
              "<Figure size 360x360 with 1 Axes>"
            ],
            "image/png": "[encoded data removed]"
          },
          "metadata": {
            "needs_background": "light"
          }
        },
        {
          "output_type": "stream",
          "name": "stdout",
          "text": [
            "\n",
            "Best Case Predictions : 4\n",
            "\n"
          ]
        },
        {
          "output_type": "display_data",
          "data": {
            "text/plain": [
              "<Figure size 360x360 with 1 Axes>"
            ],
            "image/png": "[encoded data removed]"
          },
          "metadata": {
            "needs_background": "light"
          }
        },
        {
          "output_type": "stream",
          "name": "stdout",
          "text": [
            "\n",
            "Best Case Predictions : 5\n",
            "\n"
          ]
        },
        {
          "output_type": "display_data",
          "data": {
            "text/plain": [
              "<Figure size 360x360 with 1 Axes>"
            ],
            "image/png": "[encoded data removed]"
          },
          "metadata": {
            "needs_background": "light"
          }
        },
        {
          "output_type": "stream",
          "name": "stdout",
          "text": [
            "\n",
            "Best Case Predictions : 6\n",
            "\n"
          ]
        },
        {
          "output_type": "display_data",
          "data": {
            "text/plain": [
              "<Figure size 360x360 with 1 Axes>"
            ],
            "image/png": "[encoded data removed]"
          },
          "metadata": {
            "needs_background": "light"
          }
        },
        {
          "output_type": "stream",
          "name": "stdout",
          "text": [
            "\n",
            "Best Case Predictions : 7\n",
            "\n"
          ]
        },
        {
          "output_type": "display_data",
          "data": {
            "text/plain": [
              "<Figure size 360x360 with 1 Axes>"
            ],
            "image/png": "[encoded data removed]"
          },
          "metadata": {
            "needs_background": "light"
          }
        },
        {
          "output_type": "stream",
          "name": "stdout",
          "text": [
            "\n",
            "Best Case Predictions : 8\n",
            "\n"
          ]
        },
        {
          "output_type": "display_data",
          "data": {
            "text/plain": [
              "<Figure size 360x360 with 1 Axes>"
            ],
            "image/png": "[encoded data removed]"
          },
          "metadata": {
            "needs_background": "light"
          }
        },
        {
          "output_type": "stream",
          "name": "stdout",
          "text": [
            "\n",
            "Best Case Predictions : 9\n",
            "\n"
          ]
        },
        {
          "output_type": "display_data",
          "data": {
            "text/plain": [
              "<Figure size 360x360 with 1 Axes>"
            ],
            "image/png": "[encoded data removed]"
          },
          "metadata": {
            "needs_background": "light"
          }
        }
      ],
      "source": [
        "#Plotting the best cases.\n",
        "for best_idx in range(0,10):\n",
        "  print(f\"\\nBest Case Predictions : {best_idx}\\n\")\n",
        "  plot_example(x =plot_targets[best_batch][best_idx], x_gt = plot_input[best_batch][best_idx],x_pred = plot_pred[best_batch][best_idx])\n",
        "  "
      ]
    },
    {
      "cell_type": "code",
      "source": [
        "#Plotting the best cases.\n",
        "for worst_idx in range(0,10):\n",
        "  print(f\"\\n Worst Case Predictions : {best_idx}\\n\")\n",
        "  plot_example(x =plot_targets[worst_batch][best_idx], x_gt = plot_input[worst_batch][best_idx],x_pred = plot_pred[worst_batch][best_idx])"
      ],
      "metadata": {
        "colab": {
          "base_uri": "https://localhost:8080/",
          "height": 1000
        },
        "id": "pCnx3XJvzcSV",
        "outputId": "022e0154-ec7b-44e4-be7e-8c065a4632f3"
      },
      "id": "pCnx3XJvzcSV",
      "execution_count": 61,
      "outputs": [
        {
          "output_type": "stream",
          "name": "stdout",
          "text": [
            "\n",
            " Worst Case Predictions : 9\n",
            "\n"
          ]
        },
        {
          "output_type": "display_data",
          "data": {
            "text/plain": [
              "<Figure size 360x360 with 1 Axes>"
            ],
            "image/png": "[encoded data removed]"
          },
          "metadata": {
            "needs_background": "light"
          }
        },
        {
          "output_type": "stream",
          "name": "stdout",
          "text": [
            "\n",
            " Worst Case Predictions : 9\n",
            "\n"
          ]
        },
        {
          "output_type": "display_data",
          "data": {
            "text/plain": [
              "<Figure size 360x360 with 1 Axes>"
            ],
            "image/png": "[encoded data removed]"
          },
          "metadata": {
            "needs_background": "light"
          }
        },
        {
          "output_type": "stream",
          "name": "stdout",
          "text": [
            "\n",
            " Worst Case Predictions : 9\n",
            "\n"
          ]
        },
        {
          "output_type": "display_data",
          "data": {
            "text/plain": [
              "<Figure size 360x360 with 1 Axes>"
            ],
            "image/png": "[encoded data removed]"
          },
          "metadata": {
            "needs_background": "light"
          }
        },
        {
          "output_type": "stream",
          "name": "stdout",
          "text": [
            "\n",
            " Worst Case Predictions : 9\n",
            "\n"
          ]
        },
        {
          "output_type": "display_data",
          "data": {
            "text/plain": [
              "<Figure size 360x360 with 1 Axes>"
            ],
            "image/png": "[encoded data removed]"
          },
          "metadata": {
            "needs_background": "light"
          }
        },
        {
          "output_type": "stream",
          "name": "stdout",
          "text": [
            "\n",
            " Worst Case Predictions : 9\n",
            "\n"
          ]
        },
        {
          "output_type": "display_data",
          "data": {
            "text/plain": [
              "<Figure size 360x360 with 1 Axes>"
            ],
            "image/png": "[encoded data removed]"
          },
          "metadata": {
            "needs_background": "light"
          }
        },
        {
          "output_type": "stream",
          "name": "stdout",
          "text": [
            "\n",
            " Worst Case Predictions : 9\n",
            "\n"
          ]
        },
        {
          "output_type": "display_data",
          "data": {
            "text/plain": [
              "<Figure size 360x360 with 1 Axes>"
            ],
            "image/png": "[encoded data removed]"
          },
          "metadata": {
            "needs_background": "light"
          }
        },
        {
          "output_type": "stream",
          "name": "stdout",
          "text": [
            "\n",
            " Worst Case Predictions : 9\n",
            "\n"
          ]
        },
        {
          "output_type": "display_data",
          "data": {
            "text/plain": [
              "<Figure size 360x360 with 1 Axes>"
            ],
            "image/png": "[encoded data removed]"
          },
          "metadata": {
            "needs_background": "light"
          }
        },
        {
          "output_type": "stream",
          "name": "stdout",
          "text": [
            "\n",
            " Worst Case Predictions : 9\n",
            "\n"
          ]
        },
        {
          "output_type": "display_data",
          "data": {
            "text/plain": [
              "<Figure size 360x360 with 1 Axes>"
            ],
            "image/png": "[encoded data removed]"
          },
          "metadata": {
            "needs_background": "light"
          }
        },
        {
          "output_type": "stream",
          "name": "stdout",
          "text": [
            "\n",
            " Worst Case Predictions : 9\n",
            "\n"
          ]
        },
        {
          "output_type": "display_data",
          "data": {
            "text/plain": [
              "<Figure size 360x360 with 1 Axes>"
            ],
            "image/png": "[encoded data removed]"
          },
          "metadata": {
            "needs_background": "light"
          }
        },
        {
          "output_type": "stream",
          "name": "stdout",
          "text": [
            "\n",
            " Worst Case Predictions : 9\n",
            "\n"
          ]
        },
        {
          "output_type": "display_data",
          "data": {
            "text/plain": [
              "<Figure size 360x360 with 1 Axes>"
            ],
            "image/png": "[encoded data removed]"
          },
          "metadata": {
            "needs_background": "light"
          }
        }
      ]
    },
    {
      "cell_type": "markdown",
      "source": [
        "Experimental Task mentioned in Assignment description : \n",
        "\n",
        "\"Compare your model to a simple linear\n",
        "baseline, i.e., extrapolating in the direction between the last 2 timesteps of\n",
        "the input simulation (xti− xt−Δti).\"\n"
      ],
      "metadata": {
        "id": "_WL8oKs9f2kJ"
      },
      "id": "_WL8oKs9f2kJ"
    },
    {
      "cell_type": "code",
      "source": [
        "def linear_baseline(t1,t2):\n",
        "    return t1 + (t1 - t2)"
      ],
      "metadata": {
        "id": "DJT1MmQHA-zL"
      },
      "id": "DJT1MmQHA-zL",
      "execution_count": 62,
      "outputs": []
    },
    {
      "cell_type": "code",
      "source": [
        "#Baseline predictor eval\n",
        "preds = []\n",
        "val_running_loss = 0  \n",
        "for test_data, test_targets in test_loader_2:\n",
        "    t1 = test_data[:,:,-2:]\n",
        "    \n",
        "    t2 = test_data[:,:,-4:-2]\n",
        "    linear_preds = []\n",
        "  \n",
        "    for i in range(20):         \n",
        "        pred = linear_baseline(t1,t2)\n",
        "        t2 = t1\n",
        "        t1 = pred\n",
        "        linear_preds.append(pred)\n",
        "    pred = torch.stack(linear_preds,axis=1).squeeze(2).view(len(test_targets),-1)\n",
        "    #print(pred.shape,test_targets[:,:,:40].view(-1,40).shape)\n",
        "    \n",
        "    loss = torch.mean((test_targets[:,:,:40].view(-1,40) - pred)**2)\n",
        "\n",
        "    print(f\" Average loss for linear baseline  : {loss}\")\n",
        "    val_running_loss += loss\n",
        "print(f\"Total average loss: {val_running_loss/len(test_loader_2)}\")\n",
        "    \n",
        "\n",
        "    "
      ],
      "metadata": {
        "colab": {
          "base_uri": "https://localhost:8080/"
        },
        "id": "PWVHz8kJf2Mc",
        "outputId": "9782884a-ffe0-4423-d441-c6975acf4571"
      },
      "id": "PWVHz8kJf2Mc",
      "execution_count": 63,
      "outputs": [
        {
          "output_type": "stream",
          "name": "stdout",
          "text": [
            " Average loss for linear baseline  : 1.2266186475753784\n",
            " Average loss for linear baseline  : 1.098045825958252\n",
            " Average loss for linear baseline  : 0.7036644816398621\n",
            " Average loss for linear baseline  : 0.8553469777107239\n",
            " Average loss for linear baseline  : 1.410868525505066\n",
            " Average loss for linear baseline  : 1.4298721551895142\n",
            " Average loss for linear baseline  : 0.501125156879425\n",
            " Average loss for linear baseline  : 1.3904789686203003\n",
            " Average loss for linear baseline  : 0.6801984310150146\n",
            " Average loss for linear baseline  : 0.7997604608535767\n",
            "Total average loss: 1.0095980167388916\n"
          ]
        }
      ]
    },
    {
      "cell_type": "code",
      "source": [
        ""
      ],
      "metadata": {
        "id": "ApaH3-kj3xgb"
      },
      "id": "ApaH3-kj3xgb",
      "execution_count": 63,
      "outputs": []
    }
  ],
  "metadata": {
    "kernelspec": {
      "display_name": "Python 3",
      "language": "python",
      "name": "python3"
    },
    "language_info": {
      "codemirror_mode": {
        "name": "ipython",
        "version": 3
      },
      "file_extension": ".py",
      "mimetype": "text/x-python",
      "name": "python",
      "nbconvert_exporter": "python",
      "pygments_lexer": "ipython3",
      "version": "3.8.8"
    },
    "colab": {
      "name": "a3.ipynb",
      "provenance": [],
      "collapsed_sections": []
    }
  },
  "nbformat": 4,
  "nbformat_minor": 5
}
{
  "cells": [
    {
      "cell_type": "markdown",
      "id": "06ab2292",
      "metadata": {
        "id": "06ab2292"
      },
      "source": [
        "<a href=\"https://colab.research.google.com/github/vlamen/tue-deeplearning/blob/main/assignments/assignment_1/Assignment_1.ipynb\" target=\"_parent\"><img src=\"https://colab.research.google.com/assets/colab-badge.svg\" alt=\"Open In Colab\"/></a>    "
      ]
    },
    {
      "cell_type": "markdown",
      "id": "b9b20982",
      "metadata": {
        "id": "b9b20982"
      },
      "source": [
        "# Group Number: 41\n",
        "# Student 1: Nikhil Patni\n",
        "# Student 2: Silvia Sultana\n",
        "# Student 3: Aishvarya Viswanathan"
      ]
    },
    {
      "cell_type": "code",
      "execution_count": 1,
      "id": "b49fc2e3",
      "metadata": {
        "id": "b49fc2e3",
        "outputId": "5773b1f7-018d-454d-8291-d124c21eac6b",
        "colab": {
          "base_uri": "https://localhost:8080/"
        }
      },
      "outputs": [
        {
          "output_type": "stream",
          "name": "stdout",
          "text": [
            "Populating the interactive namespace from numpy and matplotlib\n"
          ]
        }
      ],
      "source": [
        "import requests\n",
        "import io\n",
        "import torch\n",
        "import torchvision\n",
        "import torch.nn as nn\n",
        "import torch.nn.functional as F\n",
        "import torchvision.transforms as T\n",
        "import numpy as np\n",
        "%pylab inline"
      ]
    },
    {
      "cell_type": "code",
      "source": [
        "#Applicable only if you are building it on Google Drive\n",
        "from google.colab import drive\n",
        "drive.mount('/content/drive')"
      ],
      "metadata": {
        "colab": {
          "base_uri": "https://localhost:8080/"
        },
        "id": "yi7z_p9OV9bA",
        "outputId": "2fb79f78-0c93-4694-edf3-64dc2ac002c4"
      },
      "id": "yi7z_p9OV9bA",
      "execution_count": 2,
      "outputs": [
        {
          "output_type": "stream",
          "name": "stdout",
          "text": [
            "Mounted at /content/drive\n"
          ]
        }
      ]
    },
    {
      "cell_type": "markdown",
      "source": [
        "## Task ##"
      ],
      "metadata": {
        "id": "LZBuO6q6bIPo"
      },
      "id": "LZBuO6q6bIPo"
    },
    {
      "cell_type": "markdown",
      "id": "25cfb295",
      "metadata": {
        "id": "25cfb295"
      },
      "source": [
        "### Training data set\n",
        "\n",
        "\n",
        "For Assignment 1 you need to use a specific data set prepared using images from the [Omniglot dataset](https://github.com/brendenlake/omniglot). The provided training data set contains images of handwritten characters of size (28,28). \n",
        "\n",
        "\n",
        "\n",
        "For training data, the dataset contains 10000 sets of 6 images each. Each set consists of 5 support images and 1 query image. In each set, the first five columns are support images and the last one is a query image.\n",
        "\n",
        "For training labels, the dataset contains 10000 sets of 5 binary flags for support images. 1 indicates the same character is given in the query image and 0 means not. For example, a label [1,0,0,1,1] means the support images with index 0,3,4 are the same character of query image.\n",
        "\n",
        " \n",
        " \n",
        "The following cell provides code that loads the data from hardcoded URLs.You can use the code in this cell to load the dataset or download the data set from the given URLs to your local drive (or your Google drive) and modify the code to load the data from another location. \n",
        "\n",
        "\n"
      ]
    },
    {
      "cell_type": "code",
      "execution_count": 3,
      "id": "f19f0a40",
      "metadata": {
        "id": "f19f0a40",
        "outputId": "ef85f077-8023-4c2c-9124-eddc78075305",
        "colab": {
          "base_uri": "https://localhost:8080/"
        }
      },
      "outputs": [
        {
          "output_type": "stream",
          "name": "stdout",
          "text": [
            "train_data shape: (10000, 6, 28, 28)\n",
            "train_label shape: (10000, 5)\n",
            "\n"
          ]
        }
      ],
      "source": [
        "def load_numpy_arr_from_url(url):\n",
        "    \"\"\"\n",
        "    Loads a numpy array from surfdrive. \n",
        "    \n",
        "    Input:\n",
        "    url: Download link of dataset \n",
        "    \n",
        "    Outputs:\n",
        "    dataset: numpy array with input features or labels\n",
        "    \"\"\"\n",
        "    \n",
        "    response = requests.get(url)\n",
        "    response.raise_for_status()\n",
        "\n",
        "    return np.load(io.BytesIO(response.content)) \n",
        "    \n",
        "    \n",
        "    \n",
        "#Downloading may take a while..\n",
        "train_data = load_numpy_arr_from_url('https://surfdrive.surf.nl/files/index.php/s/4OXkVie05NPjRKK/download')\n",
        "train_label = load_numpy_arr_from_url('https://surfdrive.surf.nl/files/index.php/s/oMLFw60zpFX82ua/download')\n",
        "\n",
        "print(f\"train_data shape: {train_data.shape}\")\n",
        "print(f\"train_label shape: {train_label.shape}\\n\")"
      ]
    },
    {
      "cell_type": "markdown",
      "id": "cb937392",
      "metadata": {
        "id": "cb937392"
      },
      "source": [
        "Now, we plot the first 5 cases in the training dataset. The last column corresponds with the query images of each task. All other images are support images. The image enclosed in a red box denotes the target image that your model should be able to recognize as the same class as the query image. "
      ]
    },
    {
      "cell_type": "code",
      "execution_count": 4,
      "id": "b1b4bd29",
      "metadata": {
        "id": "b1b4bd29"
      },
      "outputs": [],
      "source": [
        "def plot_case(caseID,train_data,labels):\n",
        "    \"\"\"\n",
        "    Plots a single sample of the query dataset\n",
        "    \n",
        "    Inputs\n",
        "    caseID: Integer between 0 and 99, each corresponding to a single sample in the query dataset \n",
        "    \"\"\"\n",
        "\n",
        "    support_set,queries = np.split(train_data, [5], axis=1)\n",
        "    \n",
        "    f, axes = plt.subplots(1, 6, figsize=(20,5))\n",
        "\n",
        "    # plot anchor image\n",
        "    axes[5].imshow(queries[caseID, 0])\n",
        "    #print(torch.tensor(queries[caseID]).shape)\n",
        "    axes[5].set_title(f\"Query image case {caseID}\", fontsize=15)\n",
        "\n",
        "    # show all test images images \n",
        "    [ax.imshow(support_set[caseID, i]) for i, ax in enumerate(axes[0:-1])]\n",
        "    #print(torch.tensor(support_set[caseID,0]).shape)\n",
        "\n",
        "    # Add the patch to the Axes\n",
        "    for ind in np.where(labels[caseID]==True)[0]:\n",
        "        axes[ind].add_patch(Rectangle((0,0),27,27,linewidth=2, edgecolor='r',facecolor='none'))\n"
      ]
    },
    {
      "cell_type": "code",
      "execution_count": 5,
      "id": "03538ffb",
      "metadata": {
        "id": "03538ffb",
        "outputId": "8166f3ba-03e2-4d1e-c056-a32b9e32c308",
        "colab": {
          "base_uri": "https://localhost:8080/",
          "height": 641
        }
      },
      "outputs": [
        {
          "output_type": "display_data",
          "data": {
            "text/plain": [
              "<Figure size 1440x360 with 6 Axes>"
            ],
            "image/png": "[encoded data removed]"
          },
          "metadata": {
            "needs_background": "light"
          }
        },
        {
          "output_type": "display_data",
          "data": {
            "text/plain": [
              "<Figure size 1440x360 with 6 Axes>"
            ],
            "image/png": "[encoded data removed]"
          },
          "metadata": {
            "needs_background": "light"
          }
        },
        {
          "output_type": "display_data",
          "data": {
            "text/plain": [
              "<Figure size 1440x360 with 6 Axes>"
            ],
            "image/png": "[encoded data removed]"
          },
          "metadata": {
            "needs_background": "light"
          }
        }
      ],
      "source": [
        "[plot_case(caseID,train_data,train_label) for caseID in range(98,101)] ;"
      ]
    },
    {
      "cell_type": "markdown",
      "id": "931f2383",
      "metadata": {
        "id": "931f2383"
      },
      "source": [
        "### Query data set\n",
        "\n",
        "For this task you need to use the following query data set. The dataset contains 1000 sets of 6 images each. The images are also of hand written characters, however these characters are not present in the training data set. The characters in the query data set all come from the Greek alphabet that is not part of the set of alphabets in the training data. \n"
      ]
    },
    {
      "cell_type": "code",
      "execution_count": 6,
      "id": "c9ba78dc",
      "metadata": {
        "id": "c9ba78dc",
        "outputId": "593da808-7060-448c-a302-9600932644a7",
        "colab": {
          "base_uri": "https://localhost:8080/"
        }
      },
      "outputs": [
        {
          "output_type": "stream",
          "name": "stdout",
          "text": [
            "test_data shape: (1000, 6, 28, 28)\n",
            "test_label shape: (1000, 5)\n",
            "\n"
          ]
        }
      ],
      "source": [
        "    \n",
        "#Downloading may take a while..\n",
        "test_data = load_numpy_arr_from_url('https://surfdrive.surf.nl/files/index.php/s/06c34QVUr69CxWY/download')\n",
        "test_label = load_numpy_arr_from_url('https://surfdrive.surf.nl/files/index.php/s/LQIH1CW7lfDXevk/download')\n",
        "\n",
        "print(f\"test_data shape: {test_data.shape}\")\n",
        "print(f\"test_label shape: {test_label.shape}\\n\")"
      ]
    },
    {
      "cell_type": "code",
      "execution_count": 7,
      "id": "03fb3580",
      "metadata": {
        "scrolled": false,
        "id": "03fb3580",
        "outputId": "c1a910ff-f64f-420b-e9af-afc297197d13",
        "colab": {
          "base_uri": "https://localhost:8080/",
          "height": 1000
        }
      },
      "outputs": [
        {
          "output_type": "display_data",
          "data": {
            "text/plain": [
              "<Figure size 1440x360 with 6 Axes>"
            ],
            "image/png": "[encoded data removed]"
          },
          "metadata": {
            "needs_background": "light"
          }
        },
        {
          "output_type": "display_data",
          "data": {
            "text/plain": [
              "<Figure size 1440x360 with 6 Axes>"
            ],
            "image/png": "[encoded data removed]"
          },
          "metadata": {
            "needs_background": "light"
          }
        },
        {
          "output_type": "display_data",
          "data": {
            "text/plain": [
              "<Figure size 1440x360 with 6 Axes>"
            ],
            "image/png": "[encoded data removed]"
          },
          "metadata": {
            "needs_background": "light"
          }
        },
        {
          "output_type": "display_data",
          "data": {
            "text/plain": [
              "<Figure size 1440x360 with 6 Axes>"
            ],
            "image/png": "[encoded data removed]"
          },
          "metadata": {
            "needs_background": "light"
          }
        },
        {
          "output_type": "display_data",
          "data": {
            "text/plain": [
              "<Figure size 1440x360 with 6 Axes>"
            ],
            "image/png": "[encoded data removed]"
          },
          "metadata": {
            "needs_background": "light"
          }
        }
      ],
      "source": [
        "[plot_case(caseID,test_data,test_label) for caseID in range(5)] ;"
      ]
    },
    {
      "cell_type": "markdown",
      "id": "fcc32db2",
      "metadata": {
        "id": "fcc32db2"
      },
      "source": [
        "### Build pytorch dataset and dataload"
      ]
    },
    {
      "cell_type": "code",
      "execution_count": 8,
      "id": "fcf31f45",
      "metadata": {
        "id": "fcf31f45"
      },
      "outputs": [],
      "source": [
        "import torch\n",
        "from torchvision import transforms\n",
        "from torch.utils.data import Dataset, DataLoader,TensorDataset, random_split\n",
        "import numpy as np\n",
        "from PIL import Image\n",
        "\n",
        "\n",
        "class MyDataset(Dataset):\n",
        "    def __init__(self, data, targets):\n",
        "        self.data = torch.FloatTensor(data)\n",
        "        self.targets = torch.LongTensor(targets)\n",
        "\n",
        "        \n",
        "    def __getitem__(self, index):\n",
        "        x = self.data[index]\n",
        "        y = self.targets[index]\n",
        "        \n",
        "\n",
        "        return x, y\n",
        "    \n",
        "    def __len__(self):\n",
        "        return len(self.data)"
      ]
    },
    {
      "cell_type": "markdown",
      "source": [
        "#Transforming and augmenting images > RandomAffine"
      ],
      "metadata": {
        "id": "NkWS1GTTdSvO"
      },
      "id": "NkWS1GTTdSvO"
    },
    {
      "cell_type": "code",
      "source": [
        "from PIL import Image\n",
        "import torchvision.transforms as T\n",
        "\n",
        "def sample_and_transform(train_data,labels,sample_rate=0.5): \n",
        "  idxs = np.random.randint(0,len(train_data),int(len(train_data)*sample_rate))\n",
        "  affine_transformer = T.RandomAffine(degrees=0,translate=(0.1,0.1),scale = (1,1.1),fill=1)\n",
        "  new_samples = []\n",
        "  new_samples_lbls = []\n",
        "  for idx in idxs:\n",
        "    sample = train_data[idx,:]\n",
        "    new_sample = []\n",
        "    new_sample_lbls = []\n",
        "    for id,img in enumerate(sample):\n",
        "      im = Image.fromarray(img)\n",
        "      im = affine_transformer.forward(im)\n",
        "      new_sample.append(np.asarray(im))\n",
        "      if id < 5:\n",
        "        new_sample_lbls.append(labels[idx,id])\n",
        "    new_samples.append(new_sample)\n",
        "    new_samples_lbls.append(new_sample_lbls)\n",
        "  new_samples = np.array(new_samples)\n",
        "  new_samples_lbls = np.array(new_samples_lbls)\n",
        "  # Generate new sample from data augmentation and concatenate to training data\n",
        "  return np.concatenate((train_data,new_samples)),np.concatenate((labels,new_samples_lbls))\n"
      ],
      "metadata": {
        "id": "Qw0rChayrmYS"
      },
      "id": "Qw0rChayrmYS",
      "execution_count": 9,
      "outputs": []
    },
    {
      "cell_type": "markdown",
      "source": [
        "## Build Sample Selector ##"
      ],
      "metadata": {
        "id": "KDCT7xfFdanc"
      },
      "id": "KDCT7xfFdanc"
    },
    {
      "cell_type": "code",
      "source": [
        "from sklearn.model_selection import train_test_split\n",
        "\n",
        "# choose a training dataset size and further divide it into train and validation set 80:20\n",
        "train_data, val_data, train_label, val_label = train_test_split(train_data, train_label, train_size = 0.8, random_state=13)\n",
        "\n",
        "# We do data transformations only on training data.\n",
        "train_data, train_label = sample_and_transform(train_data, train_label, sample_rate = 0.5)\n",
        "\n",
        "train_dataset=MyDataset(train_data,train_label)\n",
        "val_dataset = MyDataset(val_data,val_label)\n",
        "test_dataset=MyDataset(test_data,test_label)\n",
        "\n",
        "\n",
        "train_loader = torch.utils.data.DataLoader(train_dataset, batch_size=64)\n",
        "val_loader = torch.utils.data.DataLoader(val_dataset, batch_size=64)"
      ],
      "metadata": {
        "id": "80dFxIhOsia2"
      },
      "id": "80dFxIhOsia2",
      "execution_count": 93,
      "outputs": []
    },
    {
      "cell_type": "code",
      "source": [
        "test_loader = torch.utils.data.DataLoader(test_dataset, batch_size=10)"
      ],
      "metadata": {
        "id": "4FRe8wG9xUDw"
      },
      "id": "4FRe8wG9xUDw",
      "execution_count": 94,
      "outputs": []
    },
    {
      "cell_type": "markdown",
      "source": [
        "## Model Definition ##"
      ],
      "metadata": {
        "id": "Qdx-n9wQdfkN"
      },
      "id": "Qdx-n9wQdfkN"
    },
    {
      "cell_type": "code",
      "source": [
        "class Net(nn.Module):\n",
        "    def __init__(self):\n",
        "        super(Net, self).__init__()\n",
        "        \n",
        "        # Conv2d(input_channels, output_channels, kernel_size)\n",
        "        self.conv1 = nn.Conv2d(1, 32, 3) \n",
        "        self.conv2 = nn.Conv2d(32, 64, 3)  \n",
        "        self.conv3 = nn.Conv2d(64, 128, 3)\n",
        "        \n",
        "        self.bn1 = nn.BatchNorm2d(32)\n",
        "        self.bn2 = nn.BatchNorm2d(64)\n",
        "        self.bn3 = nn.BatchNorm2d(128)\n",
        "        \n",
        "        self.dropout1 = nn.Dropout(0.1)\n",
        "        self.dropout2 = nn.Dropout(0.4)\n",
        "        self.fc1 = nn.Linear(128 * 3 * 3, 512)\n",
        "        self.flatten = nn.Flatten()\n",
        "        self.fcOut = nn.Linear(512, 1)\n",
        "        self.sigmoid = nn.Sigmoid()\n",
        "\n",
        "    def convs(self, x):\n",
        "        \n",
        "        # out_dim = in_dim - kernel_size + 1\n",
        "        # In = 1, 28,\n",
        "        x = self.bn1(F.relu(self.conv1(x)))\n",
        "        # Out = 32, 26, 26\n",
        "        x = F.max_pool2d(x, (2,2))\n",
        "        # Out = 32, 13, 13\n",
        "        x = self.dropout2(x)\n",
        "        x = self.bn2(F.relu(self.conv2(x)))\n",
        "        # Out = 64, 11, 11\n",
        "        x = F.max_pool2d(x, (2,2))\n",
        "        # Out = 64, 5, 5\n",
        "        x = self.dropout2(x)\n",
        "        x = self.bn3(F.relu(self.conv3(x)))\n",
        "        x = self.dropout2(x)\n",
        "        # Out = 128, 3, 3\n",
        "        return x\n",
        "\n",
        "    def forward(self, x1, x2):\n",
        "        #breakpoint()\n",
        "        x1 = self.convs(x1)\n",
        "\n",
        "        x1 = x1.view(-1, 128 * 3 * 3)\n",
        "        x1 = self.flatten(x1)\n",
        "        x1 = self.sigmoid(self.fc1(x1))\n",
        "        # print(\"final x1\",x1.shape)\n",
        "        x2 = self.convs(x2)\n",
        "\n",
        "        x2 = x2.view(-1, 128 * 3 * 3)\n",
        "        x2 = self.flatten(x2)\n",
        "        x2 = self.sigmoid(self.fc1(x2))\n",
        "        x = torch.abs(x1 - x2)\n",
        "        x = self.sigmoid(self.fcOut(x))\n",
        "        # print(\"final x\",x.shape)\n",
        "        # Return the similarity between two images (0:Dissimilar, 1:Similar)\n",
        "        return x"
      ],
      "metadata": {
        "id": "gCuGm9OPEwy4"
      },
      "id": "gCuGm9OPEwy4",
      "execution_count": 103,
      "outputs": []
    },
    {
      "cell_type": "code",
      "source": [
        "#creating the original network and couting the paramenters of different networks\n",
        "device = torch.device('cuda:0' if torch.cuda.is_available() else 'cpu')\n",
        "siameseNet = Net()\n",
        "siameseNet = siameseNet.to(device)\n",
        "\n",
        "def count_parameters(model):\n",
        "    temp = sum(p.numel() for p in model.parameters() if p.requires_grad)\n",
        "    print(f'The model architecture:\\n\\n', model)\n",
        "    print(f'\\nThe model has {temp:,} trainable parameters')\n",
        "    \n",
        "count_parameters(siameseNet)"
      ],
      "metadata": {
        "id": "2EtD2YG4Ewwz",
        "colab": {
          "base_uri": "https://localhost:8080/"
        },
        "outputId": "d3db3611-04cc-4d5c-af43-b5c355ff5b48"
      },
      "id": "2EtD2YG4Ewwz",
      "execution_count": 104,
      "outputs": [
        {
          "output_type": "stream",
          "name": "stdout",
          "text": [
            "The model architecture:\n",
            "\n",
            " Net(\n",
            "  (conv1): Conv2d(1, 32, kernel_size=(3, 3), stride=(1, 1))\n",
            "  (conv2): Conv2d(32, 64, kernel_size=(3, 3), stride=(1, 1))\n",
            "  (conv3): Conv2d(64, 128, kernel_size=(3, 3), stride=(1, 1))\n",
            "  (bn1): BatchNorm2d(32, eps=1e-05, momentum=0.1, affine=True, track_running_stats=True)\n",
            "  (bn2): BatchNorm2d(64, eps=1e-05, momentum=0.1, affine=True, track_running_stats=True)\n",
            "  (bn3): BatchNorm2d(128, eps=1e-05, momentum=0.1, affine=True, track_running_stats=True)\n",
            "  (dropout1): Dropout(p=0.1, inplace=False)\n",
            "  (dropout2): Dropout(p=0.4, inplace=False)\n",
            "  (fc1): Linear(in_features=1152, out_features=512, bias=True)\n",
            "  (flatten): Flatten(start_dim=1, end_dim=-1)\n",
            "  (fcOut): Linear(in_features=512, out_features=1, bias=True)\n",
            "  (sigmoid): Sigmoid()\n",
            ")\n",
            "\n",
            "The model has 683,969 trainable parameters\n"
          ]
        },
        {
          "output_type": "stream",
          "name": "stderr",
          "text": [
            "/usr/local/lib/python3.7/dist-packages/ipykernel_launcher.py:7: DeprecationWarning: Calling np.sum(generator) is deprecated, and in the future will give a different result. Use np.sum(np.fromiter(generator)) or the python sum builtin instead.\n",
            "  import sys\n"
          ]
        }
      ]
    },
    {
      "cell_type": "markdown",
      "source": [
        "## LOSS function ##"
      ],
      "metadata": {
        "id": "1Cdr47imgpBI"
      },
      "id": "1Cdr47imgpBI"
    },
    {
      "cell_type": "code",
      "source": [
        "# Defining a Binary Cross-Entropy Loss\n",
        "\n",
        "class BCELoss(nn.Module):\n",
        "    \n",
        "    def __init__(self):\n",
        "        super(BCELoss, self).__init__()\n",
        "        \n",
        "    def forward(self, output, label):\n",
        "        loss_fn = torch.nn.BCELoss()\n",
        "        loss = loss_fn(output, label)\n",
        "        return loss"
      ],
      "metadata": {
        "id": "u5ZBFt36gYMz"
      },
      "id": "u5ZBFt36gYMz",
      "execution_count": null,
      "outputs": []
    },
    {
      "cell_type": "code",
      "source": [
        "# saving and loading checkpoint mechanisms\n",
        "def save_checkpoint(save_path, model, optimizer, val_loss):\n",
        "    if save_path==None:\n",
        "        return\n",
        "    save_path = save_path \n",
        "    state_dict = {'model_state_dict': model.state_dict(),\n",
        "                  'optimizer_state_dict': optimizer.state_dict(),\n",
        "                  'val_loss': val_loss}\n",
        "\n",
        "    torch.save(state_dict, save_path)\n",
        "\n",
        "    print(f'Model saved to ==> {save_path}')\n",
        "\n",
        "def load_checkpoint(model, optimizer):\n",
        "    save_path = f'siameseCNN-checkpoint.pt'\n",
        "    state_dict = torch.load(save_path)\n",
        "    model.load_state_dict(state_dict['model_state_dict'])\n",
        "    optimizer.load_state_dict(state_dict['optimizer_state_dict'])\n",
        "    val_loss = state_dict['val_loss']\n",
        "    print(f'Model loaded from <== {save_path}')\n",
        "    \n",
        "    return val_loss"
      ],
      "metadata": {
        "id": "gqOrMzplEwuQ"
      },
      "id": "gqOrMzplEwuQ",
      "execution_count": 105,
      "outputs": []
    },
    {
      "cell_type": "markdown",
      "source": [
        "## Training & Validation ##"
      ],
      "metadata": {
        "id": "G5ZgmBsZdou3"
      },
      "id": "G5ZgmBsZdou3"
    },
    {
      "cell_type": "code",
      "source": [
        "# training and validation after every epoch\n",
        "def train(model, train_loader, val_loader, num_epochs, criterion, save_name):\n",
        "    best_val_loss = float(\"Inf\") \n",
        "    best_val_acc = 0.0\n",
        "    epoch_best = 0\n",
        "    epoch_val_best = 0\n",
        "    train_losses = []\n",
        "    val_losses = []\n",
        "    train_acc = []\n",
        "    val_acc = []\n",
        "    cur_step = 0\n",
        "    for epoch in range(num_epochs):\n",
        "        running_loss = 0.0\n",
        "        tr_acc = []\n",
        "        model.train()\n",
        "        print(\"Starting epoch \" + str(epoch+1))\n",
        "        # ============ Training ============ #\n",
        "        for train_data, labels in train_loader:\n",
        "            #plot_case(99,train_data,labels)\n",
        "            support_set, queries = np.split(train_data, [5], axis=1)\n",
        "            labels = torch.tensor_split(labels, 5, dim=1)\n",
        "            \n",
        "            case_loss = 0.0\n",
        "            curr_train_acc = 0.0\n",
        "            train_accuracy = []\n",
        "            for x in range(5):\n",
        "                img1 = queries.to(device)\n",
        "                x2 = support_set[:,x]\n",
        "                img2 = x2.view(-1,1,28,28).to(device)\n",
        "                #print(\"support\", x2.shape)\n",
        "                #break\n",
        "                #img2 = support_set.to(device)\n",
        "                #labels = labels[:,[0][4]].view(-1,1).to(device)\n",
        "                #print(labels[4].shape)\n",
        "                optimizer.zero_grad()\n",
        "                outputs = model(img1, img2)\n",
        "\n",
        "                # train accuracy calculated over a batch size\n",
        "                curr_train_acc = torch.sum(torch.eq(labels[x].cuda(), torch.round(outputs.cuda())))/64\n",
        "                train_accuracy.append(curr_train_acc)\n",
        "\n",
        "                loss = criterion(outputs, labels[x].float().to(device))\n",
        "                case_loss += loss.item()\n",
        "                # Backward and optimize\n",
        "                loss.backward()\n",
        "                optimizer.step()\n",
        "                \n",
        "            # average out loss per case\n",
        "            case_loss = case_loss/5\n",
        "            running_loss += case_loss\n",
        "            curr_train_acc = torch.mean(torch.stack(train_accuracy))\n",
        "            tr_acc.append(curr_train_acc)\n",
        "\n",
        "        avg_train_loss = running_loss / len(train_loader)\n",
        "        train_losses.append(avg_train_loss)\n",
        "        avg_train_acc = torch.mean(torch.stack(tr_acc))\n",
        "        train_acc.append(avg_train_acc)\n",
        "        \n",
        "        # ============ Validation ============ #\n",
        "        val_running_loss = 0.0\n",
        "        va_acc = []\n",
        "        with torch.no_grad():\n",
        "            model.eval()\n",
        "            for val_data, labels in val_loader:\n",
        "                support_set, queries = np.split(val_data, [5], axis=1)\n",
        "                labels = torch.tensor_split(labels, 5, dim=1)\n",
        "                case_loss = 0.0\n",
        "                curr_val_acc = 0.0\n",
        "                val_accuracy = []\n",
        "                for x in range(5):\n",
        "                    img1 = queries.to(device)\n",
        "                    #img2 = support_set.to(device)\n",
        "                    x2 = support_set[:,x]\n",
        "                    img2 = x2.view(-1,1,28,28).to(device)\n",
        "                    #labels = labels[:,x].view(-1,1).to(device)\n",
        "                    outputs = model(img1, img2)\n",
        "                    #print(\"Outputs:\",outputs)\n",
        "                    #print(\"labels:\",labels[x])\n",
        "                    curr_val_acc = torch.sum(torch.eq(labels[x].cuda(), torch.round(outputs.cuda())))/64 #divide by the len of the batch_size\n",
        "                    val_accuracy.append(curr_val_acc)\n",
        "\n",
        "                    loss = criterion(outputs, labels[x].float().to(device))\n",
        "                    case_loss += loss.item()\n",
        "\n",
        "                case_loss = case_loss/5\n",
        "                val_running_loss += case_loss\n",
        "                curr_val_acc = torch.mean(torch.stack(val_accuracy))\n",
        "                va_acc.append(curr_val_acc)\n",
        "\n",
        "        avg_val_loss = val_running_loss / len(val_loader)\n",
        "        val_losses.append(avg_val_loss)\n",
        "        avg_val_acc = torch.mean(torch.stack(va_acc))\n",
        "        val_acc.append(avg_val_acc)\n",
        "        \n",
        "        print('Epoch [{}/{}], train_loss: {:.4f}, train_acc: {:.4f}, val_loss: {:.4f}, val_acc: {:.4f}'\n",
        "            .format(epoch+1, num_epochs, avg_train_loss, avg_train_acc, avg_val_loss, avg_val_acc))\n",
        "        if avg_val_loss < best_val_loss:\n",
        "            best_val_loss = avg_val_loss\n",
        "            epoch_val_best = epoch+1\n",
        "            save_checkpoint(save_name, model, optimizer, best_val_loss)\n",
        "\n",
        "        if avg_val_acc > best_val_acc:\n",
        "            best_val_acc = avg_val_acc\n",
        "            epoch_best = epoch+1\n",
        "    \n",
        "    print(\"Finished Training\")  \n",
        "    return train_losses, train_acc, val_losses, val_acc, best_val_loss, epoch_val_best, best_val_acc, epoch_best\n"
      ],
      "metadata": {
        "id": "LYe4glInEwr2"
      },
      "id": "LYe4glInEwr2",
      "execution_count": 107,
      "outputs": []
    },
    {
      "cell_type": "markdown",
      "source": [
        "## Evaluation ##"
      ],
      "metadata": {
        "id": "AjTbzptYdsly"
      },
      "id": "AjTbzptYdsly"
    },
    {
      "cell_type": "code",
      "source": [
        "# ============ Testing ============ #\n",
        "def eval(model, test_loader):\n",
        "    with torch.no_grad():\n",
        "        correct = 0\n",
        "        count = 0\n",
        "        test_accuracy = []\n",
        "        for test_data, labels in test_loader:\n",
        "            support_set, queries = np.split(test_data, [5], axis=1)\n",
        "            labels = labels.to(device)\n",
        "            labels = torch.tensor_split(labels, 5, dim=1)\n",
        "            queries = queries.to(device)\n",
        "            #print(labels)\n",
        "            predVal = 0\n",
        "            pred = []\n",
        "            curr_test_acc = 0.0\n",
        "            test_acc = []\n",
        "            for i in range(5):\n",
        "                x2 = support_set[:,i]\n",
        "                testImg = x2.view(-1,1,28,28).to(device)\n",
        "                #print(testImg.shape)\n",
        "                output = model(queries, testImg)\n",
        "                # Rounding the [0,1] output (similarity) and comparing it with label to get the test accuracy. Average over batch size\n",
        "                curr_test_acc = torch.sum(torch.eq(labels[i], torch.round(output)))/10\n",
        "                curr_test_acc = curr_test_acc.float()\n",
        "                test_acc.append(curr_test_acc)\n",
        "\n",
        "            cur_test_acc = torch.mean(torch.stack(test_acc))\n",
        "            test_accuracy.append(cur_test_acc)\n",
        "\n",
        "        avg_test_acc = torch.mean(torch.stack(test_accuracy))\n",
        "        return avg_test_acc"
      ],
      "metadata": {
        "id": "rAG3mxf3ZmLc"
      },
      "id": "rAG3mxf3ZmLc",
      "execution_count": 108,
      "outputs": []
    },
    {
      "cell_type": "code",
      "source": [
        "# class ContrastiveLoss(torch.nn.Module):\n",
        "#     \"\"\"\n",
        "#     Contrastive loss function.\n",
        "#     Based on: http://yann.lecun.com/exdb/publis/pdf/hadsell-chopra-lecun-06.pdf\n",
        "#     \"\"\"\n",
        "\n",
        "#     def __init__(self, margin=2.0):\n",
        "#         super(ContrastiveLoss, self).__init__()\n",
        "#         self.margin = margin\n",
        "\n",
        "#     def forward(self, output1, output2, label):\n",
        "#         euclidean_distance = F.pairwise_distance(output1, output2)\n",
        "#         loss_contrastive = torch.mean((1-label) * torch.pow(euclidean_distance, 2) +\n",
        "#                                       (label) * torch.pow(torch.clamp(self.margin - euclidean_distance, min=0.0), 2))\n",
        "\n",
        "#         return loss_contrastive"
      ],
      "metadata": {
        "id": "6lv1QY41w64B"
      },
      "id": "6lv1QY41w64B",
      "execution_count": 109,
      "outputs": []
    },
    {
      "cell_type": "code",
      "source": [
        "# actual training\n",
        "import torch.optim as optim\n",
        "\n",
        "optimizer = optim.Adam(siameseNet.parameters(), lr=1e-4, weight_decay=6e-5)\n",
        "num_epochs = 200\n",
        "criterion = BCELoss()\n",
        "\n",
        "save_path = 'siameseCNN-checkpoint.pt'\n",
        "train_losses, train_acc, val_losses, val_acc, best_val_loss, epoch_loss, best_val_acc, epoch_acc = train(siameseNet, train_loader, \n",
        "                                                                                  val_loader, num_epochs, criterion, save_path)"
      ],
      "metadata": {
        "id": "_gGd9tNQEwpP",
        "colab": {
          "base_uri": "https://localhost:8080/"
        },
        "outputId": "6ea3414d-65c9-4752-d870-5cbc5fa7ca38"
      },
      "id": "_gGd9tNQEwpP",
      "execution_count": 110,
      "outputs": [
        {
          "output_type": "stream",
          "name": "stdout",
          "text": [
            "Starting epoch 1\n",
            "Epoch [1/200], train_loss: 0.5717, train_acc: 0.6814, val_loss: 0.5436, val_acc: 0.6778\n",
            "Model saved to ==> siameseCNN-checkpoint.pt\n",
            "Starting epoch 2\n",
            "Epoch [2/200], train_loss: 0.4859, train_acc: 0.7602, val_loss: 0.5047, val_acc: 0.7087\n",
            "Model saved to ==> siameseCNN-checkpoint.pt\n",
            "Starting epoch 3\n",
            "Epoch [3/200], train_loss: 0.4347, train_acc: 0.7955, val_loss: 0.4650, val_acc: 0.7370\n",
            "Model saved to ==> siameseCNN-checkpoint.pt\n",
            "Starting epoch 4\n",
            "Epoch [4/200], train_loss: 0.3866, train_acc: 0.8271, val_loss: 0.4501, val_acc: 0.7451\n",
            "Model saved to ==> siameseCNN-checkpoint.pt\n",
            "Starting epoch 5\n",
            "Epoch [5/200], train_loss: 0.3513, train_acc: 0.8467, val_loss: 0.4372, val_acc: 0.7571\n",
            "Model saved to ==> siameseCNN-checkpoint.pt\n",
            "Starting epoch 6\n",
            "Epoch [6/200], train_loss: 0.3252, train_acc: 0.8595, val_loss: 0.4246, val_acc: 0.7602\n",
            "Model saved to ==> siameseCNN-checkpoint.pt\n",
            "Starting epoch 7\n",
            "Epoch [7/200], train_loss: 0.3009, train_acc: 0.8745, val_loss: 0.4164, val_acc: 0.7690\n",
            "Model saved to ==> siameseCNN-checkpoint.pt\n",
            "Starting epoch 8\n",
            "Epoch [8/200], train_loss: 0.2803, train_acc: 0.8852, val_loss: 0.4166, val_acc: 0.7728\n",
            "Starting epoch 9\n",
            "Epoch [9/200], train_loss: 0.2662, train_acc: 0.8907, val_loss: 0.4063, val_acc: 0.7808\n",
            "Model saved to ==> siameseCNN-checkpoint.pt\n",
            "Starting epoch 10\n",
            "Epoch [10/200], train_loss: 0.2516, train_acc: 0.8983, val_loss: 0.3945, val_acc: 0.7925\n",
            "Model saved to ==> siameseCNN-checkpoint.pt\n",
            "Starting epoch 11\n",
            "Epoch [11/200], train_loss: 0.2402, train_acc: 0.9028, val_loss: 0.3886, val_acc: 0.7956\n",
            "Model saved to ==> siameseCNN-checkpoint.pt\n",
            "Starting epoch 12\n",
            "Epoch [12/200], train_loss: 0.2307, train_acc: 0.9068, val_loss: 0.3656, val_acc: 0.8088\n",
            "Model saved to ==> siameseCNN-checkpoint.pt\n",
            "Starting epoch 13\n",
            "Epoch [13/200], train_loss: 0.2221, train_acc: 0.9111, val_loss: 0.3716, val_acc: 0.8105\n",
            "Starting epoch 14\n",
            "Epoch [14/200], train_loss: 0.2120, train_acc: 0.9156, val_loss: 0.3668, val_acc: 0.8145\n",
            "Starting epoch 15\n",
            "Epoch [15/200], train_loss: 0.2075, train_acc: 0.9187, val_loss: 0.3540, val_acc: 0.8235\n",
            "Model saved to ==> siameseCNN-checkpoint.pt\n",
            "Starting epoch 16\n",
            "Epoch [16/200], train_loss: 0.1991, train_acc: 0.9210, val_loss: 0.3442, val_acc: 0.8305\n",
            "Model saved to ==> siameseCNN-checkpoint.pt\n",
            "Starting epoch 17\n",
            "Epoch [17/200], train_loss: 0.1921, train_acc: 0.9242, val_loss: 0.3328, val_acc: 0.8376\n",
            "Model saved to ==> siameseCNN-checkpoint.pt\n",
            "Starting epoch 18\n",
            "Epoch [18/200], train_loss: 0.1874, train_acc: 0.9260, val_loss: 0.3240, val_acc: 0.8418\n",
            "Model saved to ==> siameseCNN-checkpoint.pt\n",
            "Starting epoch 19\n",
            "Epoch [19/200], train_loss: 0.1802, train_acc: 0.9296, val_loss: 0.3203, val_acc: 0.8455\n",
            "Model saved to ==> siameseCNN-checkpoint.pt\n",
            "Starting epoch 20\n",
            "Epoch [20/200], train_loss: 0.1735, train_acc: 0.9324, val_loss: 0.3088, val_acc: 0.8517\n",
            "Model saved to ==> siameseCNN-checkpoint.pt\n",
            "Starting epoch 21\n",
            "Epoch [21/200], train_loss: 0.1699, train_acc: 0.9342, val_loss: 0.2993, val_acc: 0.8550\n",
            "Model saved to ==> siameseCNN-checkpoint.pt\n",
            "Starting epoch 22\n",
            "Epoch [22/200], train_loss: 0.1644, train_acc: 0.9370, val_loss: 0.2999, val_acc: 0.8535\n",
            "Starting epoch 23\n",
            "Epoch [23/200], train_loss: 0.1623, train_acc: 0.9370, val_loss: 0.2946, val_acc: 0.8581\n",
            "Model saved to ==> siameseCNN-checkpoint.pt\n",
            "Starting epoch 24\n",
            "Epoch [24/200], train_loss: 0.1583, train_acc: 0.9389, val_loss: 0.2826, val_acc: 0.8632\n",
            "Model saved to ==> siameseCNN-checkpoint.pt\n",
            "Starting epoch 25\n",
            "Epoch [25/200], train_loss: 0.1542, train_acc: 0.9409, val_loss: 0.2803, val_acc: 0.8661\n",
            "Model saved to ==> siameseCNN-checkpoint.pt\n",
            "Starting epoch 26\n",
            "Epoch [26/200], train_loss: 0.1521, train_acc: 0.9412, val_loss: 0.2795, val_acc: 0.8647\n",
            "Model saved to ==> siameseCNN-checkpoint.pt\n",
            "Starting epoch 27\n",
            "Epoch [27/200], train_loss: 0.1471, train_acc: 0.9434, val_loss: 0.2651, val_acc: 0.8743\n",
            "Model saved to ==> siameseCNN-checkpoint.pt\n",
            "Starting epoch 28\n",
            "Epoch [28/200], train_loss: 0.1453, train_acc: 0.9438, val_loss: 0.2640, val_acc: 0.8751\n",
            "Model saved to ==> siameseCNN-checkpoint.pt\n",
            "Starting epoch 29\n",
            "Epoch [29/200], train_loss: 0.1395, train_acc: 0.9468, val_loss: 0.2569, val_acc: 0.8774\n",
            "Model saved to ==> siameseCNN-checkpoint.pt\n",
            "Starting epoch 30\n",
            "Epoch [30/200], train_loss: 0.1374, train_acc: 0.9469, val_loss: 0.2467, val_acc: 0.8849\n",
            "Model saved to ==> siameseCNN-checkpoint.pt\n",
            "Starting epoch 31\n",
            "Epoch [31/200], train_loss: 0.1323, train_acc: 0.9497, val_loss: 0.2359, val_acc: 0.8897\n",
            "Model saved to ==> siameseCNN-checkpoint.pt\n",
            "Starting epoch 32\n",
            "Epoch [32/200], train_loss: 0.1315, train_acc: 0.9499, val_loss: 0.2436, val_acc: 0.8885\n",
            "Starting epoch 33\n",
            "Epoch [33/200], train_loss: 0.1279, train_acc: 0.9525, val_loss: 0.2381, val_acc: 0.8884\n",
            "Starting epoch 34\n",
            "Epoch [34/200], train_loss: 0.1260, train_acc: 0.9523, val_loss: 0.2353, val_acc: 0.8917\n",
            "Model saved to ==> siameseCNN-checkpoint.pt\n",
            "Starting epoch 35\n",
            "Epoch [35/200], train_loss: 0.1212, train_acc: 0.9542, val_loss: 0.2274, val_acc: 0.8965\n",
            "Model saved to ==> siameseCNN-checkpoint.pt\n",
            "Starting epoch 36\n",
            "Epoch [36/200], train_loss: 0.1207, train_acc: 0.9533, val_loss: 0.2319, val_acc: 0.8939\n",
            "Starting epoch 37\n",
            "Epoch [37/200], train_loss: 0.1195, train_acc: 0.9550, val_loss: 0.2278, val_acc: 0.8958\n",
            "Starting epoch 38\n",
            "Epoch [38/200], train_loss: 0.1171, train_acc: 0.9553, val_loss: 0.2166, val_acc: 0.9007\n",
            "Model saved to ==> siameseCNN-checkpoint.pt\n",
            "Starting epoch 39\n",
            "Epoch [39/200], train_loss: 0.1135, train_acc: 0.9573, val_loss: 0.2126, val_acc: 0.9043\n",
            "Model saved to ==> siameseCNN-checkpoint.pt\n",
            "Starting epoch 40\n",
            "Epoch [40/200], train_loss: 0.1128, train_acc: 0.9578, val_loss: 0.2027, val_acc: 0.9077\n",
            "Model saved to ==> siameseCNN-checkpoint.pt\n",
            "Starting epoch 41\n",
            "Epoch [41/200], train_loss: 0.1103, train_acc: 0.9581, val_loss: 0.2024, val_acc: 0.9074\n",
            "Model saved to ==> siameseCNN-checkpoint.pt\n",
            "Starting epoch 42\n",
            "Epoch [42/200], train_loss: 0.1095, train_acc: 0.9590, val_loss: 0.2018, val_acc: 0.9073\n",
            "Model saved to ==> siameseCNN-checkpoint.pt\n",
            "Starting epoch 43\n",
            "Epoch [43/200], train_loss: 0.1055, train_acc: 0.9604, val_loss: 0.2038, val_acc: 0.9076\n",
            "Starting epoch 44\n",
            "Epoch [44/200], train_loss: 0.1042, train_acc: 0.9609, val_loss: 0.2060, val_acc: 0.9044\n",
            "Starting epoch 45\n",
            "Epoch [45/200], train_loss: 0.1032, train_acc: 0.9615, val_loss: 0.1923, val_acc: 0.9111\n",
            "Model saved to ==> siameseCNN-checkpoint.pt\n",
            "Starting epoch 46\n",
            "Epoch [46/200], train_loss: 0.1005, train_acc: 0.9629, val_loss: 0.1951, val_acc: 0.9105\n",
            "Starting epoch 47\n",
            "Epoch [47/200], train_loss: 0.1009, train_acc: 0.9618, val_loss: 0.1933, val_acc: 0.9118\n",
            "Starting epoch 48\n",
            "Epoch [48/200], train_loss: 0.0978, train_acc: 0.9644, val_loss: 0.1954, val_acc: 0.9121\n",
            "Starting epoch 49\n",
            "Epoch [49/200], train_loss: 0.0957, train_acc: 0.9642, val_loss: 0.1901, val_acc: 0.9135\n",
            "Model saved to ==> siameseCNN-checkpoint.pt\n",
            "Starting epoch 50\n",
            "Epoch [50/200], train_loss: 0.0950, train_acc: 0.9641, val_loss: 0.1876, val_acc: 0.9174\n",
            "Model saved to ==> siameseCNN-checkpoint.pt\n",
            "Starting epoch 51\n",
            "Epoch [51/200], train_loss: 0.0933, train_acc: 0.9654, val_loss: 0.1817, val_acc: 0.9185\n",
            "Model saved to ==> siameseCNN-checkpoint.pt\n",
            "Starting epoch 52\n",
            "Epoch [52/200], train_loss: 0.0908, train_acc: 0.9672, val_loss: 0.1809, val_acc: 0.9180\n",
            "Model saved to ==> siameseCNN-checkpoint.pt\n",
            "Starting epoch 53\n",
            "Epoch [53/200], train_loss: 0.0887, train_acc: 0.9680, val_loss: 0.1738, val_acc: 0.9224\n",
            "Model saved to ==> siameseCNN-checkpoint.pt\n",
            "Starting epoch 54\n",
            "Epoch [54/200], train_loss: 0.0875, train_acc: 0.9672, val_loss: 0.1774, val_acc: 0.9206\n",
            "Starting epoch 55\n",
            "Epoch [55/200], train_loss: 0.0857, train_acc: 0.9684, val_loss: 0.1720, val_acc: 0.9212\n",
            "Model saved to ==> siameseCNN-checkpoint.pt\n",
            "Starting epoch 56\n",
            "Epoch [56/200], train_loss: 0.0847, train_acc: 0.9688, val_loss: 0.1775, val_acc: 0.9208\n",
            "Starting epoch 57\n",
            "Epoch [57/200], train_loss: 0.0840, train_acc: 0.9695, val_loss: 0.1692, val_acc: 0.9229\n",
            "Model saved to ==> siameseCNN-checkpoint.pt\n",
            "Starting epoch 58\n",
            "Epoch [58/200], train_loss: 0.0834, train_acc: 0.9690, val_loss: 0.1780, val_acc: 0.9187\n",
            "Starting epoch 59\n",
            "Epoch [59/200], train_loss: 0.0824, train_acc: 0.9697, val_loss: 0.1714, val_acc: 0.9232\n",
            "Starting epoch 60\n",
            "Epoch [60/200], train_loss: 0.0808, train_acc: 0.9702, val_loss: 0.1603, val_acc: 0.9277\n",
            "Model saved to ==> siameseCNN-checkpoint.pt\n",
            "Starting epoch 61\n",
            "Epoch [61/200], train_loss: 0.0795, train_acc: 0.9705, val_loss: 0.1629, val_acc: 0.9267\n",
            "Starting epoch 62\n",
            "Epoch [62/200], train_loss: 0.0802, train_acc: 0.9703, val_loss: 0.1621, val_acc: 0.9284\n",
            "Starting epoch 63\n",
            "Epoch [63/200], train_loss: 0.0782, train_acc: 0.9720, val_loss: 0.1626, val_acc: 0.9271\n",
            "Starting epoch 64\n",
            "Epoch [64/200], train_loss: 0.0764, train_acc: 0.9722, val_loss: 0.1535, val_acc: 0.9294\n",
            "Model saved to ==> siameseCNN-checkpoint.pt\n",
            "Starting epoch 65\n",
            "Epoch [65/200], train_loss: 0.0745, train_acc: 0.9729, val_loss: 0.1628, val_acc: 0.9266\n",
            "Starting epoch 66\n",
            "Epoch [66/200], train_loss: 0.0759, train_acc: 0.9718, val_loss: 0.1671, val_acc: 0.9252\n",
            "Starting epoch 67\n",
            "Epoch [67/200], train_loss: 0.0736, train_acc: 0.9734, val_loss: 0.1565, val_acc: 0.9301\n",
            "Starting epoch 68\n",
            "Epoch [68/200], train_loss: 0.0734, train_acc: 0.9737, val_loss: 0.1575, val_acc: 0.9276\n",
            "Starting epoch 69\n",
            "Epoch [69/200], train_loss: 0.0722, train_acc: 0.9736, val_loss: 0.1519, val_acc: 0.9304\n",
            "Model saved to ==> siameseCNN-checkpoint.pt\n",
            "Starting epoch 70\n",
            "Epoch [70/200], train_loss: 0.0709, train_acc: 0.9740, val_loss: 0.1488, val_acc: 0.9319\n",
            "Model saved to ==> siameseCNN-checkpoint.pt\n",
            "Starting epoch 71\n",
            "Epoch [71/200], train_loss: 0.0713, train_acc: 0.9740, val_loss: 0.1514, val_acc: 0.9303\n",
            "Starting epoch 72\n",
            "Epoch [72/200], train_loss: 0.0693, train_acc: 0.9751, val_loss: 0.1488, val_acc: 0.9313\n",
            "Model saved to ==> siameseCNN-checkpoint.pt\n",
            "Starting epoch 73\n",
            "Epoch [73/200], train_loss: 0.0704, train_acc: 0.9743, val_loss: 0.1380, val_acc: 0.9371\n",
            "Model saved to ==> siameseCNN-checkpoint.pt\n",
            "Starting epoch 74\n",
            "Epoch [74/200], train_loss: 0.0701, train_acc: 0.9744, val_loss: 0.1466, val_acc: 0.9321\n",
            "Starting epoch 75\n",
            "Epoch [75/200], train_loss: 0.0675, train_acc: 0.9749, val_loss: 0.1462, val_acc: 0.9336\n",
            "Starting epoch 76\n",
            "Epoch [76/200], train_loss: 0.0669, train_acc: 0.9754, val_loss: 0.1518, val_acc: 0.9317\n",
            "Starting epoch 77\n",
            "Epoch [77/200], train_loss: 0.0660, train_acc: 0.9758, val_loss: 0.1395, val_acc: 0.9362\n",
            "Starting epoch 78\n",
            "Epoch [78/200], train_loss: 0.0653, train_acc: 0.9769, val_loss: 0.1396, val_acc: 0.9377\n",
            "Starting epoch 79\n",
            "Epoch [79/200], train_loss: 0.0643, train_acc: 0.9765, val_loss: 0.1403, val_acc: 0.9365\n",
            "Starting epoch 80\n",
            "Epoch [80/200], train_loss: 0.0661, train_acc: 0.9755, val_loss: 0.1394, val_acc: 0.9363\n",
            "Starting epoch 81\n",
            "Epoch [81/200], train_loss: 0.0633, train_acc: 0.9778, val_loss: 0.1505, val_acc: 0.9340\n",
            "Starting epoch 82\n",
            "Epoch [82/200], train_loss: 0.0636, train_acc: 0.9774, val_loss: 0.1345, val_acc: 0.9387\n",
            "Model saved to ==> siameseCNN-checkpoint.pt\n",
            "Starting epoch 83\n",
            "Epoch [83/200], train_loss: 0.0618, train_acc: 0.9782, val_loss: 0.1358, val_acc: 0.9386\n",
            "Starting epoch 84\n",
            "Epoch [84/200], train_loss: 0.0619, train_acc: 0.9778, val_loss: 0.1393, val_acc: 0.9363\n",
            "Starting epoch 85\n",
            "Epoch [85/200], train_loss: 0.0608, train_acc: 0.9776, val_loss: 0.1423, val_acc: 0.9345\n",
            "Starting epoch 86\n",
            "Epoch [86/200], train_loss: 0.0610, train_acc: 0.9778, val_loss: 0.1392, val_acc: 0.9373\n",
            "Starting epoch 87\n",
            "Epoch [87/200], train_loss: 0.0591, train_acc: 0.9785, val_loss: 0.1408, val_acc: 0.9360\n",
            "Starting epoch 88\n",
            "Epoch [88/200], train_loss: 0.0605, train_acc: 0.9778, val_loss: 0.1350, val_acc: 0.9401\n",
            "Starting epoch 89\n",
            "Epoch [89/200], train_loss: 0.0593, train_acc: 0.9786, val_loss: 0.1352, val_acc: 0.9386\n",
            "Starting epoch 90\n",
            "Epoch [90/200], train_loss: 0.0572, train_acc: 0.9799, val_loss: 0.1336, val_acc: 0.9386\n",
            "Model saved to ==> siameseCNN-checkpoint.pt\n",
            "Starting epoch 91\n",
            "Epoch [91/200], train_loss: 0.0579, train_acc: 0.9797, val_loss: 0.1304, val_acc: 0.9404\n",
            "Model saved to ==> siameseCNN-checkpoint.pt\n",
            "Starting epoch 92\n",
            "Epoch [92/200], train_loss: 0.0578, train_acc: 0.9791, val_loss: 0.1329, val_acc: 0.9396\n",
            "Starting epoch 93\n",
            "Epoch [93/200], train_loss: 0.0578, train_acc: 0.9786, val_loss: 0.1274, val_acc: 0.9415\n",
            "Model saved to ==> siameseCNN-checkpoint.pt\n",
            "Starting epoch 94\n",
            "Epoch [94/200], train_loss: 0.0570, train_acc: 0.9796, val_loss: 0.1294, val_acc: 0.9407\n",
            "Starting epoch 95\n",
            "Epoch [95/200], train_loss: 0.0554, train_acc: 0.9804, val_loss: 0.1257, val_acc: 0.9413\n",
            "Model saved to ==> siameseCNN-checkpoint.pt\n",
            "Starting epoch 96\n",
            "Epoch [96/200], train_loss: 0.0552, train_acc: 0.9806, val_loss: 0.1272, val_acc: 0.9424\n",
            "Starting epoch 97\n",
            "Epoch [97/200], train_loss: 0.0528, train_acc: 0.9812, val_loss: 0.1275, val_acc: 0.9411\n",
            "Starting epoch 98\n",
            "Epoch [98/200], train_loss: 0.0540, train_acc: 0.9804, val_loss: 0.1287, val_acc: 0.9410\n",
            "Starting epoch 99\n",
            "Epoch [99/200], train_loss: 0.0545, train_acc: 0.9801, val_loss: 0.1229, val_acc: 0.9438\n",
            "Model saved to ==> siameseCNN-checkpoint.pt\n",
            "Starting epoch 100\n",
            "Epoch [100/200], train_loss: 0.0533, train_acc: 0.9813, val_loss: 0.1271, val_acc: 0.9414\n",
            "Starting epoch 101\n",
            "Epoch [101/200], train_loss: 0.0532, train_acc: 0.9805, val_loss: 0.1276, val_acc: 0.9422\n",
            "Starting epoch 102\n",
            "Epoch [102/200], train_loss: 0.0528, train_acc: 0.9814, val_loss: 0.1262, val_acc: 0.9422\n",
            "Starting epoch 103\n",
            "Epoch [103/200], train_loss: 0.0519, train_acc: 0.9813, val_loss: 0.1271, val_acc: 0.9424\n",
            "Starting epoch 104\n",
            "Epoch [104/200], train_loss: 0.0523, train_acc: 0.9809, val_loss: 0.1217, val_acc: 0.9442\n",
            "Model saved to ==> siameseCNN-checkpoint.pt\n",
            "Starting epoch 105\n",
            "Epoch [105/200], train_loss: 0.0508, train_acc: 0.9817, val_loss: 0.1230, val_acc: 0.9435\n",
            "Starting epoch 106\n",
            "Epoch [106/200], train_loss: 0.0516, train_acc: 0.9813, val_loss: 0.1244, val_acc: 0.9410\n",
            "Starting epoch 107\n",
            "Epoch [107/200], train_loss: 0.0513, train_acc: 0.9813, val_loss: 0.1196, val_acc: 0.9457\n",
            "Model saved to ==> siameseCNN-checkpoint.pt\n",
            "Starting epoch 108\n",
            "Epoch [108/200], train_loss: 0.0507, train_acc: 0.9821, val_loss: 0.1268, val_acc: 0.9403\n",
            "Starting epoch 109\n",
            "Epoch [109/200], train_loss: 0.0516, train_acc: 0.9811, val_loss: 0.1244, val_acc: 0.9437\n",
            "Starting epoch 110\n",
            "Epoch [110/200], train_loss: 0.0498, train_acc: 0.9823, val_loss: 0.1240, val_acc: 0.9438\n",
            "Starting epoch 111\n",
            "Epoch [111/200], train_loss: 0.0509, train_acc: 0.9819, val_loss: 0.1195, val_acc: 0.9447\n",
            "Model saved to ==> siameseCNN-checkpoint.pt\n",
            "Starting epoch 112\n",
            "Epoch [112/200], train_loss: 0.0499, train_acc: 0.9822, val_loss: 0.1201, val_acc: 0.9443\n",
            "Starting epoch 113\n",
            "Epoch [113/200], train_loss: 0.0496, train_acc: 0.9822, val_loss: 0.1231, val_acc: 0.9429\n",
            "Starting epoch 114\n",
            "Epoch [114/200], train_loss: 0.0478, train_acc: 0.9832, val_loss: 0.1219, val_acc: 0.9447\n",
            "Starting epoch 115\n",
            "Epoch [115/200], train_loss: 0.0475, train_acc: 0.9834, val_loss: 0.1241, val_acc: 0.9431\n",
            "Starting epoch 116\n",
            "Epoch [116/200], train_loss: 0.0476, train_acc: 0.9833, val_loss: 0.1176, val_acc: 0.9442\n",
            "Model saved to ==> siameseCNN-checkpoint.pt\n",
            "Starting epoch 117\n",
            "Epoch [117/200], train_loss: 0.0470, train_acc: 0.9837, val_loss: 0.1222, val_acc: 0.9427\n",
            "Starting epoch 118\n",
            "Epoch [118/200], train_loss: 0.0469, train_acc: 0.9833, val_loss: 0.1167, val_acc: 0.9463\n",
            "Model saved to ==> siameseCNN-checkpoint.pt\n",
            "Starting epoch 119\n",
            "Epoch [119/200], train_loss: 0.0464, train_acc: 0.9833, val_loss: 0.1230, val_acc: 0.9433\n",
            "Starting epoch 120\n",
            "Epoch [120/200], train_loss: 0.0470, train_acc: 0.9834, val_loss: 0.1153, val_acc: 0.9465\n",
            "Model saved to ==> siameseCNN-checkpoint.pt\n",
            "Starting epoch 121\n",
            "Epoch [121/200], train_loss: 0.0472, train_acc: 0.9831, val_loss: 0.1198, val_acc: 0.9439\n",
            "Starting epoch 122\n",
            "Epoch [122/200], train_loss: 0.0457, train_acc: 0.9837, val_loss: 0.1178, val_acc: 0.9457\n",
            "Starting epoch 123\n",
            "Epoch [123/200], train_loss: 0.0455, train_acc: 0.9838, val_loss: 0.1204, val_acc: 0.9454\n",
            "Starting epoch 124\n",
            "Epoch [124/200], train_loss: 0.0454, train_acc: 0.9841, val_loss: 0.1166, val_acc: 0.9463\n",
            "Starting epoch 125\n",
            "Epoch [125/200], train_loss: 0.0450, train_acc: 0.9842, val_loss: 0.1172, val_acc: 0.9458\n",
            "Starting epoch 126\n",
            "Epoch [126/200], train_loss: 0.0439, train_acc: 0.9845, val_loss: 0.1162, val_acc: 0.9461\n",
            "Starting epoch 127\n",
            "Epoch [127/200], train_loss: 0.0428, train_acc: 0.9850, val_loss: 0.1136, val_acc: 0.9471\n",
            "Model saved to ==> siameseCNN-checkpoint.pt\n",
            "Starting epoch 128\n",
            "Epoch [128/200], train_loss: 0.0440, train_acc: 0.9845, val_loss: 0.1166, val_acc: 0.9463\n",
            "Starting epoch 129\n",
            "Epoch [129/200], train_loss: 0.0439, train_acc: 0.9842, val_loss: 0.1088, val_acc: 0.9502\n",
            "Model saved to ==> siameseCNN-checkpoint.pt\n",
            "Starting epoch 130\n",
            "Epoch [130/200], train_loss: 0.0439, train_acc: 0.9842, val_loss: 0.1138, val_acc: 0.9481\n",
            "Starting epoch 131\n",
            "Epoch [131/200], train_loss: 0.0442, train_acc: 0.9844, val_loss: 0.1147, val_acc: 0.9475\n",
            "Starting epoch 132\n",
            "Epoch [132/200], train_loss: 0.0441, train_acc: 0.9843, val_loss: 0.1158, val_acc: 0.9470\n",
            "Starting epoch 133\n",
            "Epoch [133/200], train_loss: 0.0416, train_acc: 0.9852, val_loss: 0.1131, val_acc: 0.9479\n",
            "Starting epoch 134\n",
            "Epoch [134/200], train_loss: 0.0433, train_acc: 0.9846, val_loss: 0.1130, val_acc: 0.9479\n",
            "Starting epoch 135\n",
            "Epoch [135/200], train_loss: 0.0435, train_acc: 0.9849, val_loss: 0.1094, val_acc: 0.9484\n",
            "Starting epoch 136\n",
            "Epoch [136/200], train_loss: 0.0420, train_acc: 0.9854, val_loss: 0.1127, val_acc: 0.9473\n",
            "Starting epoch 137\n",
            "Epoch [137/200], train_loss: 0.0414, train_acc: 0.9857, val_loss: 0.1091, val_acc: 0.9497\n",
            "Starting epoch 138\n",
            "Epoch [138/200], train_loss: 0.0413, train_acc: 0.9851, val_loss: 0.1144, val_acc: 0.9482\n",
            "Starting epoch 139\n",
            "Epoch [139/200], train_loss: 0.0434, train_acc: 0.9851, val_loss: 0.1140, val_acc: 0.9471\n",
            "Starting epoch 140\n",
            "Epoch [140/200], train_loss: 0.0418, train_acc: 0.9852, val_loss: 0.1095, val_acc: 0.9502\n",
            "Starting epoch 141\n",
            "Epoch [141/200], train_loss: 0.0410, train_acc: 0.9855, val_loss: 0.1133, val_acc: 0.9493\n",
            "Starting epoch 142\n",
            "Epoch [142/200], train_loss: 0.0415, train_acc: 0.9854, val_loss: 0.1089, val_acc: 0.9498\n",
            "Starting epoch 143\n",
            "Epoch [143/200], train_loss: 0.0409, train_acc: 0.9856, val_loss: 0.1058, val_acc: 0.9511\n",
            "Model saved to ==> siameseCNN-checkpoint.pt\n",
            "Starting epoch 144\n",
            "Epoch [144/200], train_loss: 0.0401, train_acc: 0.9861, val_loss: 0.1073, val_acc: 0.9509\n",
            "Starting epoch 145\n",
            "Epoch [145/200], train_loss: 0.0402, train_acc: 0.9858, val_loss: 0.1120, val_acc: 0.9493\n",
            "Starting epoch 146\n",
            "Epoch [146/200], train_loss: 0.0390, train_acc: 0.9862, val_loss: 0.1122, val_acc: 0.9482\n",
            "Starting epoch 147\n",
            "Epoch [147/200], train_loss: 0.0397, train_acc: 0.9863, val_loss: 0.1147, val_acc: 0.9478\n",
            "Starting epoch 148\n",
            "Epoch [148/200], train_loss: 0.0407, train_acc: 0.9861, val_loss: 0.1070, val_acc: 0.9503\n",
            "Starting epoch 149\n",
            "Epoch [149/200], train_loss: 0.0397, train_acc: 0.9860, val_loss: 0.1120, val_acc: 0.9485\n",
            "Starting epoch 150\n",
            "Epoch [150/200], train_loss: 0.0391, train_acc: 0.9864, val_loss: 0.1157, val_acc: 0.9482\n",
            "Starting epoch 151\n",
            "Epoch [151/200], train_loss: 0.0397, train_acc: 0.9858, val_loss: 0.1113, val_acc: 0.9511\n",
            "Starting epoch 152\n",
            "Epoch [152/200], train_loss: 0.0388, train_acc: 0.9866, val_loss: 0.1135, val_acc: 0.9498\n",
            "Starting epoch 153\n",
            "Epoch [153/200], train_loss: 0.0410, train_acc: 0.9851, val_loss: 0.1094, val_acc: 0.9506\n",
            "Starting epoch 154\n",
            "Epoch [154/200], train_loss: 0.0396, train_acc: 0.9865, val_loss: 0.1071, val_acc: 0.9516\n",
            "Starting epoch 155\n",
            "Epoch [155/200], train_loss: 0.0391, train_acc: 0.9864, val_loss: 0.1078, val_acc: 0.9510\n",
            "Starting epoch 156\n",
            "Epoch [156/200], train_loss: 0.0376, train_acc: 0.9870, val_loss: 0.1119, val_acc: 0.9494\n",
            "Starting epoch 157\n",
            "Epoch [157/200], train_loss: 0.0385, train_acc: 0.9866, val_loss: 0.1121, val_acc: 0.9497\n",
            "Starting epoch 158\n",
            "Epoch [158/200], train_loss: 0.0383, train_acc: 0.9864, val_loss: 0.1119, val_acc: 0.9502\n",
            "Starting epoch 159\n",
            "Epoch [159/200], train_loss: 0.0384, train_acc: 0.9861, val_loss: 0.1067, val_acc: 0.9521\n",
            "Starting epoch 160\n",
            "Epoch [160/200], train_loss: 0.0383, train_acc: 0.9866, val_loss: 0.1043, val_acc: 0.9531\n",
            "Model saved to ==> siameseCNN-checkpoint.pt\n",
            "Starting epoch 161\n",
            "Epoch [161/200], train_loss: 0.0378, train_acc: 0.9863, val_loss: 0.1102, val_acc: 0.9497\n",
            "Starting epoch 162\n",
            "Epoch [162/200], train_loss: 0.0371, train_acc: 0.9868, val_loss: 0.1117, val_acc: 0.9509\n",
            "Starting epoch 163\n",
            "Epoch [163/200], train_loss: 0.0372, train_acc: 0.9866, val_loss: 0.1126, val_acc: 0.9497\n",
            "Starting epoch 164\n",
            "Epoch [164/200], train_loss: 0.0376, train_acc: 0.9870, val_loss: 0.1082, val_acc: 0.9516\n",
            "Starting epoch 165\n",
            "Epoch [165/200], train_loss: 0.0377, train_acc: 0.9868, val_loss: 0.1159, val_acc: 0.9486\n",
            "Starting epoch 166\n",
            "Epoch [166/200], train_loss: 0.0371, train_acc: 0.9866, val_loss: 0.1124, val_acc: 0.9491\n",
            "Starting epoch 167\n",
            "Epoch [167/200], train_loss: 0.0375, train_acc: 0.9871, val_loss: 0.1074, val_acc: 0.9513\n",
            "Starting epoch 168\n",
            "Epoch [168/200], train_loss: 0.0368, train_acc: 0.9872, val_loss: 0.1068, val_acc: 0.9532\n",
            "Starting epoch 169\n",
            "Epoch [169/200], train_loss: 0.0361, train_acc: 0.9872, val_loss: 0.1071, val_acc: 0.9517\n",
            "Starting epoch 170\n",
            "Epoch [170/200], train_loss: 0.0380, train_acc: 0.9871, val_loss: 0.1128, val_acc: 0.9489\n",
            "Starting epoch 171\n",
            "Epoch [171/200], train_loss: 0.0366, train_acc: 0.9874, val_loss: 0.1074, val_acc: 0.9512\n",
            "Starting epoch 172\n",
            "Epoch [172/200], train_loss: 0.0366, train_acc: 0.9873, val_loss: 0.1122, val_acc: 0.9511\n",
            "Starting epoch 173\n",
            "Epoch [173/200], train_loss: 0.0368, train_acc: 0.9875, val_loss: 0.1098, val_acc: 0.9505\n",
            "Starting epoch 174\n",
            "Epoch [174/200], train_loss: 0.0348, train_acc: 0.9875, val_loss: 0.1060, val_acc: 0.9523\n",
            "Starting epoch 175\n",
            "Epoch [175/200], train_loss: 0.0352, train_acc: 0.9882, val_loss: 0.1048, val_acc: 0.9516\n",
            "Starting epoch 176\n",
            "Epoch [176/200], train_loss: 0.0355, train_acc: 0.9876, val_loss: 0.1034, val_acc: 0.9518\n",
            "Model saved to ==> siameseCNN-checkpoint.pt\n",
            "Starting epoch 177\n",
            "Epoch [177/200], train_loss: 0.0349, train_acc: 0.9878, val_loss: 0.1018, val_acc: 0.9535\n",
            "Model saved to ==> siameseCNN-checkpoint.pt\n",
            "Starting epoch 178\n",
            "Epoch [178/200], train_loss: 0.0362, train_acc: 0.9873, val_loss: 0.1050, val_acc: 0.9516\n",
            "Starting epoch 179\n",
            "Epoch [179/200], train_loss: 0.0370, train_acc: 0.9865, val_loss: 0.1040, val_acc: 0.9531\n",
            "Starting epoch 180\n",
            "Epoch [180/200], train_loss: 0.0358, train_acc: 0.9875, val_loss: 0.1106, val_acc: 0.9498\n",
            "Starting epoch 181\n",
            "Epoch [181/200], train_loss: 0.0353, train_acc: 0.9874, val_loss: 0.1051, val_acc: 0.9531\n",
            "Starting epoch 182\n",
            "Epoch [182/200], train_loss: 0.0346, train_acc: 0.9880, val_loss: 0.1091, val_acc: 0.9525\n",
            "Starting epoch 183\n",
            "Epoch [183/200], train_loss: 0.0343, train_acc: 0.9883, val_loss: 0.1060, val_acc: 0.9528\n",
            "Starting epoch 184\n",
            "Epoch [184/200], train_loss: 0.0354, train_acc: 0.9876, val_loss: 0.1078, val_acc: 0.9511\n",
            "Starting epoch 185\n",
            "Epoch [185/200], train_loss: 0.0349, train_acc: 0.9880, val_loss: 0.1030, val_acc: 0.9516\n",
            "Starting epoch 186\n",
            "Epoch [186/200], train_loss: 0.0355, train_acc: 0.9879, val_loss: 0.1044, val_acc: 0.9523\n",
            "Starting epoch 187\n",
            "Epoch [187/200], train_loss: 0.0345, train_acc: 0.9879, val_loss: 0.1049, val_acc: 0.9521\n",
            "Starting epoch 188\n",
            "Epoch [188/200], train_loss: 0.0335, train_acc: 0.9882, val_loss: 0.0998, val_acc: 0.9544\n",
            "Model saved to ==> siameseCNN-checkpoint.pt\n",
            "Starting epoch 189\n",
            "Epoch [189/200], train_loss: 0.0339, train_acc: 0.9879, val_loss: 0.1095, val_acc: 0.9509\n",
            "Starting epoch 190\n",
            "Epoch [190/200], train_loss: 0.0331, train_acc: 0.9887, val_loss: 0.1058, val_acc: 0.9498\n",
            "Starting epoch 191\n",
            "Epoch [191/200], train_loss: 0.0349, train_acc: 0.9877, val_loss: 0.1055, val_acc: 0.9525\n",
            "Starting epoch 192\n",
            "Epoch [192/200], train_loss: 0.0355, train_acc: 0.9872, val_loss: 0.1060, val_acc: 0.9510\n",
            "Starting epoch 193\n",
            "Epoch [193/200], train_loss: 0.0329, train_acc: 0.9886, val_loss: 0.1020, val_acc: 0.9535\n",
            "Starting epoch 194\n",
            "Epoch [194/200], train_loss: 0.0340, train_acc: 0.9880, val_loss: 0.1073, val_acc: 0.9513\n",
            "Starting epoch 195\n",
            "Epoch [195/200], train_loss: 0.0338, train_acc: 0.9882, val_loss: 0.1030, val_acc: 0.9528\n",
            "Starting epoch 196\n",
            "Epoch [196/200], train_loss: 0.0338, train_acc: 0.9881, val_loss: 0.1085, val_acc: 0.9512\n",
            "Starting epoch 197\n",
            "Epoch [197/200], train_loss: 0.0347, train_acc: 0.9878, val_loss: 0.1052, val_acc: 0.9526\n",
            "Starting epoch 198\n",
            "Epoch [198/200], train_loss: 0.0338, train_acc: 0.9881, val_loss: 0.1068, val_acc: 0.9511\n",
            "Starting epoch 199\n",
            "Epoch [199/200], train_loss: 0.0330, train_acc: 0.9884, val_loss: 0.0985, val_acc: 0.9547\n",
            "Model saved to ==> siameseCNN-checkpoint.pt\n",
            "Starting epoch 200\n",
            "Epoch [200/200], train_loss: 0.0331, train_acc: 0.9881, val_loss: 0.0971, val_acc: 0.9547\n",
            "Model saved to ==> siameseCNN-checkpoint.pt\n",
            "Finished Training\n"
          ]
        }
      ]
    },
    {
      "cell_type": "markdown",
      "source": [
        "## Results ##"
      ],
      "metadata": {
        "id": "VCE0UeZ5dzJ_"
      },
      "id": "VCE0UeZ5dzJ_"
    },
    {
      "cell_type": "code",
      "source": [
        "# plotting of training and validation loss\n",
        "plt.xlabel('epoch')\n",
        "plt.ylabel('loss')\n",
        "plt.plot(train_losses, label='Train Loss')\n",
        "plt.plot(val_losses, label=\"Validation Loss\")\n",
        "plt.title(\"Training and Validation Loss [Epoch {}, Min val_loss {:.4f}]\".format(epoch_loss, best_val_loss))\n",
        "plt.legend(bbox_to_anchor=(1.05, 1.0), loc='upper left')\n",
        "plt.show()"
      ],
      "metadata": {
        "colab": {
          "base_uri": "https://localhost:8080/",
          "height": 295
        },
        "id": "AKDhuDazKfyZ",
        "outputId": "782c2476-11e7-4100-e8b1-ae43ff48f5db"
      },
      "id": "AKDhuDazKfyZ",
      "execution_count": 111,
      "outputs": [
        {
          "output_type": "display_data",
          "data": {
            "text/plain": [
              "<Figure size 432x288 with 1 Axes>"
            ],
            "image/png": "[encoded data removed]"
          },
          "metadata": {
            "needs_background": "light"
          }
        }
      ]
    },
    {
      "cell_type": "code",
      "source": [
        "def convert_list_of_tensors(list_input):\n",
        "    converted_tensor_list = []\n",
        "    for tensor in list_input:\n",
        "        converted_tensor_list.append(tensor.to('cpu'))\n",
        "    return converted_tensor_list\n",
        "\n",
        "train_acc = convert_list_of_tensors(train_acc)\n",
        "val_acc = convert_list_of_tensors(val_acc)"
      ],
      "metadata": {
        "id": "CVUHqG5fs_Yi"
      },
      "id": "CVUHqG5fs_Yi",
      "execution_count": 112,
      "outputs": []
    },
    {
      "cell_type": "code",
      "source": [
        "#plotting of training and validation accuracy\n",
        "plt.xlabel('epoch')\n",
        "plt.ylabel('accuracy')\n",
        "plt.plot(train_acc, label='Train Acc')\n",
        "plt.plot(val_acc, label=\"Validation Acc\")\n",
        "plt.title(\"Training and Validation Accuracy [Epoch {}, Max val_acc {:.4f}]\".format(epoch_acc, best_val_acc))\n",
        "plt.legend(bbox_to_anchor=(1.05, 1.0), loc='upper left')\n",
        "plt.show()"
      ],
      "metadata": {
        "colab": {
          "base_uri": "https://localhost:8080/",
          "height": 295
        },
        "id": "C4zD_Ly2Y6eK",
        "outputId": "3c153962-9b72-462e-d378-e5c5408ec287"
      },
      "id": "C4zD_Ly2Y6eK",
      "execution_count": 113,
      "outputs": [
        {
          "output_type": "display_data",
          "data": {
            "text/plain": [
              "<Figure size 432x288 with 1 Axes>"
            ],
            "image/png": "[encoded data removed]"
          },
          "metadata": {
            "needs_background": "light"
          }
        }
      ]
    },
    {
      "cell_type": "markdown",
      "source": [
        "## Accuracy on test data ##"
      ],
      "metadata": {
        "id": "gI6clhkLd4Py"
      },
      "id": "gI6clhkLd4Py"
    },
    {
      "cell_type": "code",
      "source": [
        "# Testing on previously trained Siamese model\n",
        "import torch.optim as optim\n",
        "load_model = Net().to(device)\n",
        "load_optimizer = optim.Adam(siameseNet.parameters(),lr=1e-4,weight_decay=6e-5)\n",
        "\n",
        "best_val_loss = load_checkpoint(load_model, load_optimizer)\n",
        "\n",
        "print('Best val_loss: {:.8f}'.format(best_val_loss))\n",
        "test_acc = eval(load_model, test_loader)\n",
        "print('Accuracy on test data: {:.8f}'.format(test_acc.item()))"
      ],
      "metadata": {
        "id": "_Huu171DEwmc",
        "colab": {
          "base_uri": "https://localhost:8080/"
        },
        "outputId": "005b3bfd-0a78-4dd0-e903-5918e3461d29"
      },
      "id": "_Huu171DEwmc",
      "execution_count": 116,
      "outputs": [
        {
          "output_type": "stream",
          "name": "stdout",
          "text": [
            "Model loaded from <== siameseCNN-checkpoint.pt\n",
            "Best val_loss: 0.09710337\n",
            "Accuracy on test data: 0.91580009\n"
          ]
        }
      ]
    },
    {
      "cell_type": "code",
      "execution_count": 34,
      "id": "64252d3e",
      "metadata": {
        "id": "64252d3e"
      },
      "outputs": [],
      "source": [
        ""
      ]
    }
  ],
  "metadata": {
    "kernelspec": {
      "display_name": "Python 3",
      "language": "python",
      "name": "python3"
    },
    "language_info": {
      "codemirror_mode": {
        "name": "ipython",
        "version": 3
      },
      "file_extension": ".py",
      "mimetype": "text/x-python",
      "name": "python",
      "nbconvert_exporter": "python",
      "pygments_lexer": "ipython3",
      "version": "3.8.8"
    },
    "colab": {
      "name": "Assignment_1-siamese.ipynb",
      "provenance": [],
      "collapsed_sections": [],
      "machine_shape": "hm"
    },
    "accelerator": "GPU"
  },
  "nbformat": 4,
  "nbformat_minor": 5
}
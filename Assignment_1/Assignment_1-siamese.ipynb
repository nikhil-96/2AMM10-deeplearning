{
  "cells": [
    {
      "cell_type": "markdown",
      "id": "06ab2292",
      "metadata": {
        "id": "06ab2292"
      },
      "source": [
        "<a href=\"https://colab.research.google.com/github/vlamen/tue-deeplearning/blob/main/assignments/assignment_1/Assignment_1.ipynb\" target=\"_parent\"><img src=\"https://colab.research.google.com/assets/colab-badge.svg\" alt=\"Open In Colab\"/></a>    "
      ]
    },
    {
      "cell_type": "markdown",
      "id": "b9b20982",
      "metadata": {
        "id": "b9b20982"
      },
      "source": [
        "# Group Number: 41\n",
        "# Student 1: Nikhil Patni\n",
        "# Student 2: Silvia Sultana\n",
        "# Student 3: Aishvarya Viswanathan"
      ]
    },
    {
      "cell_type": "code",
      "execution_count": 3,
      "id": "b49fc2e3",
      "metadata": {
        "id": "b49fc2e3",
        "outputId": "fa7dc353-07f8-499b-e21b-8407f67506cb",
        "colab": {
          "base_uri": "https://localhost:8080/"
        }
      },
      "outputs": [
        {
          "output_type": "stream",
          "name": "stdout",
          "text": [
            "Populating the interactive namespace from numpy and matplotlib\n"
          ]
        }
      ],
      "source": [
        "import requests\n",
        "import io\n",
        "import torch\n",
        "import torchvision\n",
        "import torch.nn as nn\n",
        "import torch.nn.functional as F\n",
        "import torchvision.transforms as T\n",
        "import numpy as np\n",
        "%pylab inline"
      ]
    },
    {
      "cell_type": "code",
      "source": [
        "#Applicable only if you are building it on Google Drive\n",
        "from google.colab import drive\n",
        "drive.mount('/content/drive')"
      ],
      "metadata": {
        "colab": {
          "base_uri": "https://localhost:8080/"
        },
        "id": "yi7z_p9OV9bA",
        "outputId": "452361ea-1b28-4cc4-e983-e5205bb9e826"
      },
      "id": "yi7z_p9OV9bA",
      "execution_count": 4,
      "outputs": [
        {
          "output_type": "stream",
          "name": "stdout",
          "text": [
            "Mounted at /content/drive\n"
          ]
        }
      ]
    },
    {
      "cell_type": "markdown",
      "id": "25cfb295",
      "metadata": {
        "id": "25cfb295"
      },
      "source": [
        "### Training data set\n",
        "\n",
        "\n",
        "For Assignment 1 you need to use a specific data set prepared using images from the [Omniglot dataset](https://github.com/brendenlake/omniglot). The provided training data set contains images of handwritten characters of size (28,28). \n",
        "\n",
        "\n",
        "\n",
        "For training data, the dataset contains 10000 sets of 6 images each. Each set consists of 5 support images and 1 query image. In each set, the first five columns are support images and the last one is a query image.\n",
        "\n",
        "For training labels, the dataset contains 10000 sets of 5 binary flags for support images. 1 indicates the same character is given in the query image and 0 means not. For example, a label [1,0,0,1,1] means the support images with index 0,3,4 are the same character of query image.\n",
        "\n",
        " \n",
        " \n",
        "The following cell provides code that loads the data from hardcoded URLs.You can use the code in this cell to load the dataset or download the data set from the given URLs to your local drive (or your Google drive) and modify the code to load the data from another location. \n",
        "\n",
        "\n"
      ]
    },
    {
      "cell_type": "code",
      "execution_count": 5,
      "id": "f19f0a40",
      "metadata": {
        "id": "f19f0a40",
        "outputId": "90f6bc13-515a-49ff-de1a-43aa16d02588",
        "colab": {
          "base_uri": "https://localhost:8080/"
        }
      },
      "outputs": [
        {
          "output_type": "stream",
          "name": "stdout",
          "text": [
            "train_data shape: (10000, 6, 28, 28)\n",
            "train_label shape: (10000, 5)\n",
            "\n"
          ]
        }
      ],
      "source": [
        "def load_numpy_arr_from_url(url):\n",
        "    \"\"\"\n",
        "    Loads a numpy array from surfdrive. \n",
        "    \n",
        "    Input:\n",
        "    url: Download link of dataset \n",
        "    \n",
        "    Outputs:\n",
        "    dataset: numpy array with input features or labels\n",
        "    \"\"\"\n",
        "    \n",
        "    response = requests.get(url)\n",
        "    response.raise_for_status()\n",
        "\n",
        "    return np.load(io.BytesIO(response.content)) \n",
        "    \n",
        "    \n",
        "    \n",
        "#Downloading may take a while..\n",
        "train_data = load_numpy_arr_from_url('https://surfdrive.surf.nl/files/index.php/s/4OXkVie05NPjRKK/download')\n",
        "train_label = load_numpy_arr_from_url('https://surfdrive.surf.nl/files/index.php/s/oMLFw60zpFX82ua/download')\n",
        "\n",
        "print(f\"train_data shape: {train_data.shape}\")\n",
        "print(f\"train_label shape: {train_label.shape}\\n\")"
      ]
    },
    {
      "cell_type": "markdown",
      "id": "cb937392",
      "metadata": {
        "id": "cb937392"
      },
      "source": [
        "Now, we plot the first 5 cases in the training dataset. The last column corresponds with the query images of each task. All other images are support images. The image enclosed in a red box denotes the target image that your model should be able to recognize as the same class as the query image. "
      ]
    },
    {
      "cell_type": "code",
      "execution_count": 6,
      "id": "b1b4bd29",
      "metadata": {
        "id": "b1b4bd29"
      },
      "outputs": [],
      "source": [
        "def plot_case(caseID,train_data,labels):\n",
        "    \"\"\"\n",
        "    Plots a single sample of the query dataset\n",
        "    \n",
        "    Inputs\n",
        "    caseID: Integer between 0 and 99, each corresponding to a single sample in the query dataset \n",
        "    \"\"\"\n",
        "    \n",
        "\n",
        "    support_set,queries = np.split(train_data, [5], axis=1)\n",
        "    \n",
        "    f, axes = plt.subplots(1, 6, figsize=(20,5))\n",
        "\n",
        "    # plot anchor image\n",
        "    axes[5].imshow(queries[caseID, 0])\n",
        "    print(torch.tensor(queries[caseID]).shape)\n",
        "    axes[5].set_title(f\"Query image case {caseID}\", fontsize=15)\n",
        "\n",
        "    # show all test images images \n",
        "    [ax.imshow(support_set[caseID, i]) for i, ax in enumerate(axes[0:-1])]\n",
        "    print(torch.tensor(support_set[caseID,0]).shape)\n",
        "\n",
        "    # Add the patch to the Axes\n",
        "    for ind in np.where(labels[caseID]==True)[0]:\n",
        "        axes[ind].add_patch(Rectangle((0,0),27,27,linewidth=2, edgecolor='r',facecolor='none'))\n"
      ]
    },
    {
      "cell_type": "code",
      "execution_count": 7,
      "id": "03538ffb",
      "metadata": {
        "id": "03538ffb",
        "outputId": "f875d852-028d-46ae-d63e-5c992c3c6af0",
        "colab": {
          "base_uri": "https://localhost:8080/",
          "height": 745
        }
      },
      "outputs": [
        {
          "output_type": "stream",
          "name": "stdout",
          "text": [
            "torch.Size([1, 28, 28])\n",
            "torch.Size([28, 28])\n",
            "torch.Size([1, 28, 28])\n",
            "torch.Size([28, 28])\n",
            "torch.Size([1, 28, 28])\n",
            "torch.Size([28, 28])\n"
          ]
        },
        {
          "output_type": "display_data",
          "data": {
            "text/plain": [
              "<Figure size 1440x360 with 6 Axes>"
            ],
            "image/png": "[encoded data removed]"
          },
          "metadata": {
            "needs_background": "light"
          }
        },
        {
          "output_type": "display_data",
          "data": {
            "text/plain": [
              "<Figure size 1440x360 with 6 Axes>"
            ],
            "image/png": "[encoded data removed]"
          },
          "metadata": {
            "needs_background": "light"
          }
        },
        {
          "output_type": "display_data",
          "data": {
            "text/plain": [
              "<Figure size 1440x360 with 6 Axes>"
            ],
            "image/png": "[encoded data removed]"
          },
          "metadata": {
            "needs_background": "light"
          }
        }
      ],
      "source": [
        "[plot_case(caseID,train_data,train_label) for caseID in range(98,101)] ;"
      ]
    },
    {
      "cell_type": "markdown",
      "id": "931f2383",
      "metadata": {
        "id": "931f2383"
      },
      "source": [
        "### Query data set\n",
        "\n",
        "For this task you need to use the following query data set. The dataset contains 1000 sets of 6 images each. The images are also of hand written characters, however these characters are not present in the training data set. The characters in the query data set all come from the Greek alphabet that is not part of the set of alphabets in the training data. \n"
      ]
    },
    {
      "cell_type": "code",
      "execution_count": 8,
      "id": "c9ba78dc",
      "metadata": {
        "id": "c9ba78dc",
        "outputId": "23b6afd5-9185-4e5d-c533-478ee2f2f5f5",
        "colab": {
          "base_uri": "https://localhost:8080/"
        }
      },
      "outputs": [
        {
          "output_type": "stream",
          "name": "stdout",
          "text": [
            "test_data shape: (1000, 6, 28, 28)\n",
            "test_label shape: (1000, 5)\n",
            "\n"
          ]
        }
      ],
      "source": [
        "    \n",
        "#Downloading may take a while..\n",
        "test_data = load_numpy_arr_from_url('https://surfdrive.surf.nl/files/index.php/s/06c34QVUr69CxWY/download')\n",
        "test_label = load_numpy_arr_from_url('https://surfdrive.surf.nl/files/index.php/s/LQIH1CW7lfDXevk/download')\n",
        "\n",
        "print(f\"test_data shape: {test_data.shape}\")\n",
        "print(f\"test_label shape: {test_label.shape}\\n\")"
      ]
    },
    {
      "cell_type": "code",
      "execution_count": 9,
      "id": "03fb3580",
      "metadata": {
        "scrolled": false,
        "id": "03fb3580",
        "outputId": "f3e1bc5c-1ab1-43b9-9d53-e0a464706e64",
        "colab": {
          "base_uri": "https://localhost:8080/",
          "height": 1000
        }
      },
      "outputs": [
        {
          "output_type": "stream",
          "name": "stdout",
          "text": [
            "torch.Size([1, 28, 28])\n",
            "torch.Size([28, 28])\n",
            "torch.Size([1, 28, 28])\n",
            "torch.Size([28, 28])\n",
            "torch.Size([1, 28, 28])\n",
            "torch.Size([28, 28])\n",
            "torch.Size([1, 28, 28])\n",
            "torch.Size([28, 28])\n",
            "torch.Size([1, 28, 28])\n",
            "torch.Size([28, 28])\n"
          ]
        },
        {
          "output_type": "display_data",
          "data": {
            "text/plain": [
              "<Figure size 1440x360 with 6 Axes>"
            ],
            "image/png": "[encoded data removed]"
          },
          "metadata": {
            "needs_background": "light"
          }
        },
        {
          "output_type": "display_data",
          "data": {
            "text/plain": [
              "<Figure size 1440x360 with 6 Axes>"
            ],
            "image/png": "[encoded data removed]"
          },
          "metadata": {
            "needs_background": "light"
          }
        },
        {
          "output_type": "display_data",
          "data": {
            "text/plain": [
              "<Figure size 1440x360 with 6 Axes>"
            ],
            "image/png": "[encoded data removed]"
          },
          "metadata": {
            "needs_background": "light"
          }
        },
        {
          "output_type": "display_data",
          "data": {
            "text/plain": [
              "<Figure size 1440x360 with 6 Axes>"
            ],
            "image/png": "[encoded data removed]"
          },
          "metadata": {
            "needs_background": "light"
          }
        },
        {
          "output_type": "display_data",
          "data": {
            "text/plain": [
              "<Figure size 1440x360 with 6 Axes>"
            ],
            "image/png": "[encoded data removed]"
          },
          "metadata": {
            "needs_background": "light"
          }
        }
      ],
      "source": [
        "[plot_case(caseID,test_data,test_label) for caseID in range(5)] ;"
      ]
    },
    {
      "cell_type": "markdown",
      "id": "fcc32db2",
      "metadata": {
        "id": "fcc32db2"
      },
      "source": [
        "### Build pytorch dataset and dataload"
      ]
    },
    {
      "cell_type": "code",
      "execution_count": 10,
      "id": "fcf31f45",
      "metadata": {
        "id": "fcf31f45"
      },
      "outputs": [],
      "source": [
        "import torch\n",
        "from torchvision import transforms\n",
        "from torch.utils.data import Dataset, DataLoader,TensorDataset, random_split\n",
        "import numpy as np\n",
        "from PIL import Image\n",
        "\n",
        "\n",
        "class MyDataset(Dataset):\n",
        "    def __init__(self, data, targets):\n",
        "        self.data = torch.FloatTensor(data)\n",
        "        self.targets = torch.LongTensor(targets)\n",
        "\n",
        "        \n",
        "    def __getitem__(self, index):\n",
        "        x = self.data[index]\n",
        "        y = self.targets[index]\n",
        "        \n",
        "\n",
        "        return x, y\n",
        "    \n",
        "    def __len__(self):\n",
        "        return len(self.data)"
      ]
    },
    {
      "cell_type": "code",
      "execution_count": 28,
      "id": "d3d75da8",
      "metadata": {
        "id": "d3d75da8"
      },
      "outputs": [],
      "source": [
        "# transform = transforms.ToTensor()\n",
        "train_dataset=MyDataset(train_data,train_label)\n",
        "test_dataset=MyDataset(test_data,test_label)"
      ]
    },
    {
      "cell_type": "code",
      "source": [
        "print(train_dataset[:1])"
      ],
      "metadata": {
        "colab": {
          "base_uri": "https://localhost:8080/"
        },
        "id": "hD5hYV3_oyC-",
        "outputId": "729ff31f-1fcf-4001-9930-82fe3d657507"
      },
      "id": "hD5hYV3_oyC-",
      "execution_count": 32,
      "outputs": [
        {
          "output_type": "stream",
          "name": "stdout",
          "text": [
            "(tensor([[[[1., 1., 1.,  ..., 1., 1., 1.],\n",
            "          [1., 1., 1.,  ..., 1., 1., 1.],\n",
            "          [1., 1., 1.,  ..., 1., 1., 1.],\n",
            "          ...,\n",
            "          [1., 1., 1.,  ..., 1., 1., 1.],\n",
            "          [1., 1., 1.,  ..., 1., 1., 1.],\n",
            "          [1., 1., 1.,  ..., 1., 1., 1.]],\n",
            "\n",
            "         [[1., 1., 1.,  ..., 1., 1., 1.],\n",
            "          [1., 1., 1.,  ..., 1., 1., 1.],\n",
            "          [1., 1., 1.,  ..., 1., 1., 1.],\n",
            "          ...,\n",
            "          [1., 1., 1.,  ..., 1., 1., 1.],\n",
            "          [1., 1., 1.,  ..., 1., 1., 1.],\n",
            "          [1., 1., 1.,  ..., 1., 1., 1.]],\n",
            "\n",
            "         [[1., 1., 1.,  ..., 1., 1., 1.],\n",
            "          [1., 1., 1.,  ..., 1., 1., 1.],\n",
            "          [1., 1., 1.,  ..., 1., 1., 1.],\n",
            "          ...,\n",
            "          [1., 1., 1.,  ..., 1., 1., 1.],\n",
            "          [1., 1., 1.,  ..., 1., 1., 1.],\n",
            "          [1., 1., 1.,  ..., 1., 1., 1.]],\n",
            "\n",
            "         [[1., 1., 1.,  ..., 1., 1., 1.],\n",
            "          [1., 1., 1.,  ..., 1., 1., 1.],\n",
            "          [1., 1., 1.,  ..., 1., 1., 1.],\n",
            "          ...,\n",
            "          [1., 1., 1.,  ..., 1., 1., 1.],\n",
            "          [1., 1., 1.,  ..., 1., 1., 1.],\n",
            "          [1., 1., 1.,  ..., 1., 1., 1.]],\n",
            "\n",
            "         [[1., 1., 1.,  ..., 1., 1., 1.],\n",
            "          [1., 1., 1.,  ..., 1., 1., 1.],\n",
            "          [1., 1., 1.,  ..., 1., 1., 1.],\n",
            "          ...,\n",
            "          [1., 1., 1.,  ..., 1., 1., 1.],\n",
            "          [1., 1., 1.,  ..., 1., 1., 1.],\n",
            "          [1., 1., 1.,  ..., 1., 1., 1.]],\n",
            "\n",
            "         [[1., 1., 1.,  ..., 1., 1., 1.],\n",
            "          [1., 1., 1.,  ..., 1., 1., 1.],\n",
            "          [1., 1., 1.,  ..., 1., 1., 1.],\n",
            "          ...,\n",
            "          [1., 1., 1.,  ..., 1., 1., 1.],\n",
            "          [1., 1., 1.,  ..., 1., 1., 1.],\n",
            "          [1., 1., 1.,  ..., 1., 1., 1.]]]]), tensor([[0, 1, 1, 0, 0]]))\n"
          ]
        }
      ]
    },
    {
      "cell_type": "code",
      "source": [
        "# choose a training dataset size and further divide it into train and validation set 80:20\n",
        "dataSize = 10000 # self-defined dataset size\n",
        "TRAIN_PCT = 0.8 # percentage of entire dataset for training\n",
        "train_size = int(dataSize * TRAIN_PCT)\n",
        "val_size = dataSize - train_size\n",
        "\n",
        "train_set, val_set = random_split(train_dataset, [train_size, val_size])\n",
        "train_loader = torch.utils.data.DataLoader(train_set, batch_size=128)\n",
        "val_loader = torch.utils.data.DataLoader(val_set, batch_size=10, shuffle=True)"
      ],
      "metadata": {
        "id": "xD4Jug3QDiUS"
      },
      "id": "xD4Jug3QDiUS",
      "execution_count": 69,
      "outputs": []
    },
    {
      "cell_type": "code",
      "execution_count": 13,
      "id": "d4c1bd77",
      "metadata": {
        "id": "d4c1bd77"
      },
      "outputs": [],
      "source": [
        "# train_loader = torch.utils.data.DataLoader(train_dataset, batch_size=10)"
      ]
    },
    {
      "cell_type": "code",
      "execution_count": 47,
      "id": "2b747c92",
      "metadata": {
        "id": "2b747c92"
      },
      "outputs": [],
      "source": [
        "test_loader = torch.utils.data.DataLoader(test_dataset, batch_size=1)"
      ]
    },
    {
      "cell_type": "code",
      "execution_count": 15,
      "id": "a8ddcb05",
      "metadata": {
        "id": "a8ddcb05",
        "colab": {
          "base_uri": "https://localhost:8080/",
          "height": 332
        },
        "outputId": "3b527d14-50ef-4e2e-9f5d-aa5687b310b8"
      },
      "outputs": [
        {
          "output_type": "stream",
          "name": "stderr",
          "text": [
            "/usr/local/lib/python3.7/dist-packages/ipykernel_launcher.py:16: UserWarning: To copy construct from a tensor, it is recommended to use sourceTensor.clone().detach() or sourceTensor.clone().detach().requires_grad_(True), rather than torch.tensor(sourceTensor).\n",
            "  app.launch_new_instance()\n",
            "/usr/local/lib/python3.7/dist-packages/ipykernel_launcher.py:21: UserWarning: To copy construct from a tensor, it is recommended to use sourceTensor.clone().detach() or sourceTensor.clone().detach().requires_grad_(True), rather than torch.tensor(sourceTensor).\n"
          ]
        },
        {
          "output_type": "stream",
          "name": "stdout",
          "text": [
            "torch.Size([1, 28, 28])\n",
            "torch.Size([28, 28])\n"
          ]
        },
        {
          "output_type": "display_data",
          "data": {
            "text/plain": [
              "<Figure size 1440x360 with 6 Axes>"
            ],
            "image/png": "[encoded data removed]"
          },
          "metadata": {
            "needs_background": "light"
          }
        }
      ],
      "source": [
        "# showing a sample input of a training set\n",
        "count0 = 0\n",
        "count1 = 0\n",
        "for img1, label in val_loader:\n",
        "    if label[0][0] == 1.0:\n",
        "      plot_case(0,img1,label)\n",
        "        # print(img1[0])\n",
        "        # plt.subplots(1, 6, figsize=(20,5))\n",
        "        # plt.imshow(img1[0][0])\n",
        "        #plt.subplot(1,2,2)\n",
        "        #plt.imshow(img2[0][0])\n",
        "        # print(label)\n",
        "      break\n",
        "    # break"
      ]
    },
    {
      "cell_type": "code",
      "source": [
        "#Different network structures, the commented out are the different experimenting structures\n",
        "class Net(nn.Module):\n",
        "    def __init__(self):\n",
        "        super(Net, self).__init__()\n",
        "        \n",
        "        # Conv2d(input_channels, output_channels, kernel_size)\n",
        "        self.conv1 = nn.Conv2d(1, 32, 3) \n",
        "        self.conv2 = nn.Conv2d(32, 64, 3)  \n",
        "        self.conv3 = nn.Conv2d(64, 128, 3)\n",
        "        #self.conv4 = nn.Conv2d(128, 256, 3)\n",
        "        self.bn1 = nn.BatchNorm2d(32)\n",
        "        self.bn2 = nn.BatchNorm2d(64)\n",
        "        self.bn3 = nn.BatchNorm2d(128)\n",
        "        #self.bn4 = nn.BatchNorm2d(256)\n",
        "        self.dropout1 = nn.Dropout(0.1)\n",
        "        self.dropout2 = nn.Dropout(0.4)\n",
        "        self.fc1 = nn.Linear(128 * 3 * 3, 512)\n",
        "        self.fcOut = nn.Linear(512, 1)\n",
        "        self.sigmoid = nn.Sigmoid()\n",
        "\n",
        "    def convs(self, x):\n",
        "        \n",
        "        # out_dim = in_dim - kernel_size + 1\n",
        "        # In = 1, 28,\n",
        "        x = F.relu(self.bn1(self.conv1(x)))\n",
        "        # Out = 32, 26, 26\n",
        "        x = F.max_pool2d(x, (2,2))\n",
        "        # Out = 32, 13, 13\n",
        "        x = self.dropout2(x)\n",
        "        x = F.relu(self.bn2(self.conv2(x)))\n",
        "        # Out = 64, 11, 11\n",
        "        x = F.max_pool2d(x, (2,2))\n",
        "        # Out = 64, 5, 5\n",
        "        x = self.dropout2(x)\n",
        "        x = F.relu(self.bn3(self.conv3(x)))\n",
        "        x = self.dropout2(x)\n",
        "        # Out = 128, 3, 3\n",
        "        return x\n",
        "\n",
        "    def forward(self, x1, x2):\n",
        "        #breakpoint()\n",
        "        x1 = self.convs(x1)\n",
        "\n",
        "        x1 = x1.view(-1, 128 * 3 * 3)\n",
        "        x1 = self.sigmoid(self.fc1(x1))\n",
        "        # print(\"final x1\",x1.shape)\n",
        "        x2 = self.convs(x2)\n",
        "\n",
        "        x2 = x2.view(-1, 128 * 3 * 3)\n",
        "        x2 = self.sigmoid(self.fc1(x2))\n",
        "        # print(\"final x2\",x2.shape)\n",
        "        x = torch.abs(x1 - x2)\n",
        "        x = self.fcOut(x)\n",
        "        # print(\"final x\",x.shape)\n",
        "        # breakpoint()\n",
        "        return x"
      ],
      "metadata": {
        "id": "gCuGm9OPEwy4"
      },
      "id": "gCuGm9OPEwy4",
      "execution_count": 16,
      "outputs": []
    },
    {
      "cell_type": "code",
      "source": [
        "#creating the original network and couting the paramenters of different networks\n",
        "device = torch.device('cuda:0' if torch.cuda.is_available() else 'cpu')\n",
        "siameseNet = Net()\n",
        "siameseNet = siameseNet.to(device)\n",
        "\n",
        "def count_parameters(model):\n",
        "    temp = sum(p.numel() for p in model.parameters() if p.requires_grad)\n",
        "    print(f'The model architecture:\\n\\n', model)\n",
        "    print(f'\\nThe model has {temp:,} trainable parameters')\n",
        "    \n",
        "count_parameters(siameseNet)"
      ],
      "metadata": {
        "id": "2EtD2YG4Ewwz",
        "colab": {
          "base_uri": "https://localhost:8080/"
        },
        "outputId": "860e8b7c-d819-4771-869c-d2fb72eb5632"
      },
      "id": "2EtD2YG4Ewwz",
      "execution_count": 17,
      "outputs": [
        {
          "output_type": "stream",
          "name": "stdout",
          "text": [
            "The model architecture:\n",
            "\n",
            " Net(\n",
            "  (conv1): Conv2d(1, 32, kernel_size=(3, 3), stride=(1, 1))\n",
            "  (conv2): Conv2d(32, 64, kernel_size=(3, 3), stride=(1, 1))\n",
            "  (conv3): Conv2d(64, 128, kernel_size=(3, 3), stride=(1, 1))\n",
            "  (bn1): BatchNorm2d(32, eps=1e-05, momentum=0.1, affine=True, track_running_stats=True)\n",
            "  (bn2): BatchNorm2d(64, eps=1e-05, momentum=0.1, affine=True, track_running_stats=True)\n",
            "  (bn3): BatchNorm2d(128, eps=1e-05, momentum=0.1, affine=True, track_running_stats=True)\n",
            "  (dropout1): Dropout(p=0.1, inplace=False)\n",
            "  (dropout2): Dropout(p=0.4, inplace=False)\n",
            "  (fc1): Linear(in_features=1152, out_features=512, bias=True)\n",
            "  (fcOut): Linear(in_features=512, out_features=1, bias=True)\n",
            "  (sigmoid): Sigmoid()\n",
            ")\n",
            "\n",
            "The model has 683,969 trainable parameters\n"
          ]
        },
        {
          "output_type": "stream",
          "name": "stderr",
          "text": [
            "/usr/local/lib/python3.7/dist-packages/ipykernel_launcher.py:7: DeprecationWarning: Calling np.sum(generator) is deprecated, and in the future will give a different result. Use np.sum(np.fromiter(generator)) or the python sum builtin instead.\n",
            "  import sys\n"
          ]
        }
      ]
    },
    {
      "cell_type": "code",
      "source": [
        "# saving and loading checkpoint mechanisms\n",
        "def save_checkpoint(save_path, model, optimizer, val_loss):\n",
        "    if save_path==None:\n",
        "        return\n",
        "    save_path = save_path \n",
        "    state_dict = {'model_state_dict': model.state_dict(),\n",
        "                  'optimizer_state_dict': optimizer.state_dict(),\n",
        "                  'val_loss': val_loss}\n",
        "\n",
        "    torch.save(state_dict, save_path)\n",
        "\n",
        "    print(f'Model saved to ==> {save_path}')\n",
        "\n",
        "def load_checkpoint(model, optimizer):\n",
        "    save_path = f'siameseNet-batchnorm50.pt'\n",
        "    state_dict = torch.load(save_path)\n",
        "    model.load_state_dict(state_dict['model_state_dict'])\n",
        "    optimizer.load_state_dict(state_dict['optimizer_state_dict'])\n",
        "    val_loss = state_dict['val_loss']\n",
        "    print(f'Model loaded from <== {save_path}')\n",
        "    \n",
        "    return val_loss"
      ],
      "metadata": {
        "id": "gqOrMzplEwuQ"
      },
      "id": "gqOrMzplEwuQ",
      "execution_count": 18,
      "outputs": []
    },
    {
      "cell_type": "code",
      "source": [
        "trans = transforms.Compose([\n",
        "    # transforms.ToPILImage(),\n",
        "    transforms.Grayscale()\n",
        "])"
      ],
      "metadata": {
        "id": "HfXpUK0WqIJE"
      },
      "id": "HfXpUK0WqIJE",
      "execution_count": 19,
      "outputs": []
    },
    {
      "cell_type": "code",
      "source": [
        "# training and validation after every epoch\n",
        "def train(model, train_loader, val_loader, num_epochs, criterion, save_name):\n",
        "    best_val_loss = float(\"Inf\") \n",
        "    train_losses = []\n",
        "    val_losses = []\n",
        "    cur_step = 0\n",
        "    for epoch in range(num_epochs):\n",
        "        running_loss = 0.0\n",
        "        model.train()\n",
        "        print(\"Starting epoch \" + str(epoch+1))\n",
        "        for train_data, labels in train_loader:\n",
        "            #plot_case(99,train_data,labels)\n",
        "            support_set, queries = np.split(train_data, [5], axis=1)\n",
        "            labels = torch.tensor_split(labels, 5, dim=1)\n",
        "            # Forward\n",
        "            case_loss = 0.0\n",
        "            for x in range(5):\n",
        "                img1 = queries.to(device)\n",
        "                x2 = support_set[:,x]\n",
        "                img2 = x2.view(-1,1,28,28).to(device)\n",
        "                #print(\"support\", x2.shape)\n",
        "                #break\n",
        "                #img2 = support_set.to(device)\n",
        "                #labels = labels[:,[0][4]].view(-1,1).to(device)\n",
        "                #print(labels[4].shape)\n",
        "                outputs = model(img1, img2)\n",
        "                loss = criterion(outputs, labels[x].float().to(device))\n",
        "                \n",
        "                # Backward and optimize\n",
        "                optimizer.zero_grad()\n",
        "                loss.backward()\n",
        "                optimizer.step()\n",
        "                case_loss += loss.item()\n",
        "\n",
        "            case_loss = case_loss/5\n",
        "            running_loss += case_loss\n",
        "\n",
        "        avg_train_loss = running_loss / len(train_loader)\n",
        "        train_losses.append(avg_train_loss)\n",
        "        \n",
        "        val_running_loss = 0.0\n",
        "        with torch.no_grad():\n",
        "            model.eval()\n",
        "            for val_data, labels in val_loader:\n",
        "                support_set, queries = np.split(val_data, [5], axis=1)\n",
        "                labels = torch.tensor_split(labels, 5, dim=1)\n",
        "                case_loss = 0.0\n",
        "                for x in range(5):\n",
        "                    img1 = queries.to(device)\n",
        "                    #img2 = support_set.to(device)\n",
        "                    x2 = support_set[:,x]\n",
        "                    img2 = x2.view(-1,1,28,28).to(device)\n",
        "                    #labels = labels[:,x].view(-1,1).to(device)\n",
        "                    outputs = model(img1, img2)\n",
        "                    #print(\"Outputs:\",outputs)\n",
        "                    #print(\"labels:\",labels[x])\n",
        "                    loss = criterion(outputs, labels[x].float().to(device))\n",
        "                    case_loss += loss.item()\n",
        "\n",
        "                case_loss = case_loss/5\n",
        "                val_running_loss += case_loss\n",
        "\n",
        "        avg_val_loss = val_running_loss / len(val_loader)\n",
        "        val_losses.append(avg_val_loss)\n",
        "        \n",
        "        print('Epoch [{}/{}],Train Loss: {:.4f}, Valid Loss: {:.8f}'\n",
        "            .format(epoch+1, num_epochs, avg_train_loss, avg_val_loss))\n",
        "        if avg_val_loss < best_val_loss:\n",
        "            best_val_loss = avg_val_loss\n",
        "            save_checkpoint(save_name, model, optimizer, best_val_loss)\n",
        "    \n",
        "    print(\"Finished Training\")  \n",
        "    return train_losses, val_losses  \n",
        "\n",
        "# evaluation metrics\n",
        "def eval(model, test_loader):\n",
        "    with torch.no_grad():\n",
        "        model.eval()\n",
        "        correct = 0\n",
        "        print('Starting Iteration')\n",
        "        count = 0\n",
        "        for test_data, labels in test_loader:\n",
        "            support_set, queries = np.split(test_data, [5], axis=1)\n",
        "            queries = queries.to(device)\n",
        "            #print(labels)\n",
        "            predVal = 0\n",
        "            pred = []\n",
        "            for i in range(5):\n",
        "                x2 = support_set[:,i]\n",
        "                testImg = x2.view(-1,1,28,28).to(device)\n",
        "                #print(testImg.shape)\n",
        "                output = model(queries, testImg)\n",
        "                #print(output)\n",
        "                if output > 0:\n",
        "                    pred.append(1)\n",
        "                else:\n",
        "                    pred.append(0)\n",
        "            # print(labels[0])\n",
        "            # print(torch.tensor(pred))\n",
        "            if torch.eq(labels[0], torch.tensor(pred)).all():\n",
        "                correct += 1\n",
        "            count += 1\n",
        "            if count % 100 == 0:\n",
        "                print(\"Current Count is: {}\".format(count))\n",
        "                print('Accuracy on 5 way 1-shot: {}'.format(correct/count))"
      ],
      "metadata": {
        "id": "LYe4glInEwr2"
      },
      "id": "LYe4glInEwr2",
      "execution_count": 65,
      "outputs": []
    },
    {
      "cell_type": "code",
      "source": [
        "# actual training\n",
        "import torch.optim as optim\n",
        "\n",
        "optimizer = optim.Adam(siameseNet.parameters(), lr = 0.0006)\n",
        "num_epochs = 80\n",
        "criterion = nn.BCEWithLogitsLoss()\n",
        "save_path = 'siameseNet-batchnorm50.pt'\n",
        "train_losses, val_losses = train(siameseNet, train_loader, val_loader, num_epochs, criterion, save_path)"
      ],
      "metadata": {
        "id": "_gGd9tNQEwpP",
        "colab": {
          "base_uri": "https://localhost:8080/"
        },
        "outputId": "fadccce6-074f-4fa9-f698-9d4ce723d353"
      },
      "id": "_gGd9tNQEwpP",
      "execution_count": 70,
      "outputs": [
        {
          "output_type": "stream",
          "name": "stdout",
          "text": [
            "Starting epoch 1\n",
            "Epoch [1/80],Train Loss: 0.0663, Valid Loss: 0.03161300\n",
            "Model saved to ==> siameseNet-batchnorm50.pt\n",
            "Starting epoch 2\n",
            "Epoch [2/80],Train Loss: 0.0640, Valid Loss: 0.03051967\n",
            "Model saved to ==> siameseNet-batchnorm50.pt\n",
            "Starting epoch 3\n",
            "Epoch [3/80],Train Loss: 0.0568, Valid Loss: 0.03254673\n",
            "Starting epoch 4\n",
            "Epoch [4/80],Train Loss: 0.0578, Valid Loss: 0.03153873\n",
            "Starting epoch 5\n",
            "Epoch [5/80],Train Loss: 0.0530, Valid Loss: 0.03210046\n",
            "Starting epoch 6\n",
            "Epoch [6/80],Train Loss: 0.0504, Valid Loss: 0.03194385\n",
            "Starting epoch 7\n",
            "Epoch [7/80],Train Loss: 0.0488, Valid Loss: 0.03117543\n",
            "Starting epoch 8\n",
            "Epoch [8/80],Train Loss: 0.0483, Valid Loss: 0.03255177\n",
            "Starting epoch 9\n",
            "Epoch [9/80],Train Loss: 0.0468, Valid Loss: 0.03196345\n",
            "Starting epoch 10\n",
            "Epoch [10/80],Train Loss: 0.0465, Valid Loss: 0.03223321\n",
            "Starting epoch 11\n",
            "Epoch [11/80],Train Loss: 0.0459, Valid Loss: 0.02977806\n",
            "Model saved to ==> siameseNet-batchnorm50.pt\n",
            "Starting epoch 12\n",
            "Epoch [12/80],Train Loss: 0.0420, Valid Loss: 0.03025183\n",
            "Starting epoch 13\n",
            "Epoch [13/80],Train Loss: 0.0417, Valid Loss: 0.03017890\n",
            "Starting epoch 14\n",
            "Epoch [14/80],Train Loss: 0.0401, Valid Loss: 0.03189146\n",
            "Starting epoch 15\n",
            "Epoch [15/80],Train Loss: 0.0412, Valid Loss: 0.03205893\n",
            "Starting epoch 16\n",
            "Epoch [16/80],Train Loss: 0.0385, Valid Loss: 0.03337433\n",
            "Starting epoch 17\n",
            "Epoch [17/80],Train Loss: 0.0386, Valid Loss: 0.03315086\n",
            "Starting epoch 18\n",
            "Epoch [18/80],Train Loss: 0.0378, Valid Loss: 0.03303441\n",
            "Starting epoch 19\n",
            "Epoch [19/80],Train Loss: 0.0383, Valid Loss: 0.03510963\n",
            "Starting epoch 20\n",
            "Epoch [20/80],Train Loss: 0.0358, Valid Loss: 0.03296635\n",
            "Starting epoch 21\n",
            "Epoch [21/80],Train Loss: 0.0347, Valid Loss: 0.03204491\n",
            "Starting epoch 22\n",
            "Epoch [22/80],Train Loss: 0.0333, Valid Loss: 0.03278687\n",
            "Starting epoch 23\n",
            "Epoch [23/80],Train Loss: 0.0307, Valid Loss: 0.03496101\n",
            "Starting epoch 24\n",
            "Epoch [24/80],Train Loss: 0.0317, Valid Loss: 0.03533123\n",
            "Starting epoch 25\n",
            "Epoch [25/80],Train Loss: 0.0322, Valid Loss: 0.03461669\n",
            "Starting epoch 26\n",
            "Epoch [26/80],Train Loss: 0.0344, Valid Loss: 0.03469661\n",
            "Starting epoch 27\n",
            "Epoch [27/80],Train Loss: 0.0319, Valid Loss: 0.03313770\n",
            "Starting epoch 28\n",
            "Epoch [28/80],Train Loss: 0.0339, Valid Loss: 0.03274067\n",
            "Starting epoch 29\n",
            "Epoch [29/80],Train Loss: 0.0304, Valid Loss: 0.03538259\n",
            "Starting epoch 30\n",
            "Epoch [30/80],Train Loss: 0.0336, Valid Loss: 0.03393190\n",
            "Starting epoch 31\n",
            "Epoch [31/80],Train Loss: 0.0301, Valid Loss: 0.03181208\n",
            "Starting epoch 32\n",
            "Epoch [32/80],Train Loss: 0.0301, Valid Loss: 0.03558486\n",
            "Starting epoch 33\n",
            "Epoch [33/80],Train Loss: 0.0296, Valid Loss: 0.03309517\n",
            "Starting epoch 34\n",
            "Epoch [34/80],Train Loss: 0.0283, Valid Loss: 0.03471441\n",
            "Starting epoch 35\n",
            "Epoch [35/80],Train Loss: 0.0291, Valid Loss: 0.03438341\n",
            "Starting epoch 36\n",
            "Epoch [36/80],Train Loss: 0.0295, Valid Loss: 0.03451861\n",
            "Starting epoch 37\n",
            "Epoch [37/80],Train Loss: 0.0279, Valid Loss: 0.03533552\n",
            "Starting epoch 38\n",
            "Epoch [38/80],Train Loss: 0.0277, Valid Loss: 0.03536306\n",
            "Starting epoch 39\n",
            "Epoch [39/80],Train Loss: 0.0260, Valid Loss: 0.03659188\n",
            "Starting epoch 40\n",
            "Epoch [40/80],Train Loss: 0.0258, Valid Loss: 0.03678264\n",
            "Starting epoch 41\n",
            "Epoch [41/80],Train Loss: 0.0258, Valid Loss: 0.03496466\n",
            "Starting epoch 42\n",
            "Epoch [42/80],Train Loss: 0.0277, Valid Loss: 0.03659895\n",
            "Starting epoch 43\n",
            "Epoch [43/80],Train Loss: 0.0269, Valid Loss: 0.03544288\n",
            "Starting epoch 44\n",
            "Epoch [44/80],Train Loss: 0.0257, Valid Loss: 0.03612278\n",
            "Starting epoch 45\n",
            "Epoch [45/80],Train Loss: 0.0256, Valid Loss: 0.03424130\n",
            "Starting epoch 46\n",
            "Epoch [46/80],Train Loss: 0.0271, Valid Loss: 0.03428483\n",
            "Starting epoch 47\n",
            "Epoch [47/80],Train Loss: 0.0245, Valid Loss: 0.03514491\n",
            "Starting epoch 48\n",
            "Epoch [48/80],Train Loss: 0.0260, Valid Loss: 0.03668556\n",
            "Starting epoch 49\n",
            "Epoch [49/80],Train Loss: 0.0254, Valid Loss: 0.03464157\n",
            "Starting epoch 50\n",
            "Epoch [50/80],Train Loss: 0.0252, Valid Loss: 0.03953215\n",
            "Starting epoch 51\n",
            "Epoch [51/80],Train Loss: 0.0251, Valid Loss: 0.03441260\n",
            "Starting epoch 52\n",
            "Epoch [52/80],Train Loss: 0.0244, Valid Loss: 0.03572654\n",
            "Starting epoch 53\n",
            "Epoch [53/80],Train Loss: 0.0230, Valid Loss: 0.03735513\n",
            "Starting epoch 54\n",
            "Epoch [54/80],Train Loss: 0.0251, Valid Loss: 0.03758095\n",
            "Starting epoch 55\n",
            "Epoch [55/80],Train Loss: 0.0240, Valid Loss: 0.03874566\n",
            "Starting epoch 56\n",
            "Epoch [56/80],Train Loss: 0.0238, Valid Loss: 0.03873270\n",
            "Starting epoch 57\n",
            "Epoch [57/80],Train Loss: 0.0253, Valid Loss: 0.04132915\n",
            "Starting epoch 58\n",
            "Epoch [58/80],Train Loss: 0.0223, Valid Loss: 0.04291836\n",
            "Starting epoch 59\n",
            "Epoch [59/80],Train Loss: 0.0234, Valid Loss: 0.03928664\n",
            "Starting epoch 60\n",
            "Epoch [60/80],Train Loss: 0.0223, Valid Loss: 0.04023087\n",
            "Starting epoch 61\n",
            "Epoch [61/80],Train Loss: 0.0214, Valid Loss: 0.03859953\n",
            "Starting epoch 62\n",
            "Epoch [62/80],Train Loss: 0.0223, Valid Loss: 0.03988831\n",
            "Starting epoch 63\n",
            "Epoch [63/80],Train Loss: 0.0227, Valid Loss: 0.03980406\n",
            "Starting epoch 64\n",
            "Epoch [64/80],Train Loss: 0.0231, Valid Loss: 0.04048434\n",
            "Starting epoch 65\n",
            "Epoch [65/80],Train Loss: 0.0224, Valid Loss: 0.03917766\n",
            "Starting epoch 66\n",
            "Epoch [66/80],Train Loss: 0.0201, Valid Loss: 0.04171788\n",
            "Starting epoch 67\n",
            "Epoch [67/80],Train Loss: 0.0215, Valid Loss: 0.04136713\n",
            "Starting epoch 68\n",
            "Epoch [68/80],Train Loss: 0.0207, Valid Loss: 0.04224941\n",
            "Starting epoch 69\n",
            "Epoch [69/80],Train Loss: 0.0222, Valid Loss: 0.04243806\n",
            "Starting epoch 70\n",
            "Epoch [70/80],Train Loss: 0.0195, Valid Loss: 0.03981826\n",
            "Starting epoch 71\n",
            "Epoch [71/80],Train Loss: 0.0225, Valid Loss: 0.04213899\n",
            "Starting epoch 72\n",
            "Epoch [72/80],Train Loss: 0.0203, Valid Loss: 0.04445009\n",
            "Starting epoch 73\n",
            "Epoch [73/80],Train Loss: 0.0205, Valid Loss: 0.04272479\n",
            "Starting epoch 74\n",
            "Epoch [74/80],Train Loss: 0.0219, Valid Loss: 0.04264388\n",
            "Starting epoch 75\n",
            "Epoch [75/80],Train Loss: 0.0214, Valid Loss: 0.04581477\n",
            "Starting epoch 76\n",
            "Epoch [76/80],Train Loss: 0.0201, Valid Loss: 0.04241149\n",
            "Starting epoch 77\n",
            "Epoch [77/80],Train Loss: 0.0196, Valid Loss: 0.04224945\n",
            "Starting epoch 78\n",
            "Epoch [78/80],Train Loss: 0.0191, Valid Loss: 0.04472289\n",
            "Starting epoch 79\n",
            "Epoch [79/80],Train Loss: 0.0206, Valid Loss: 0.04233340\n",
            "Starting epoch 80\n",
            "Epoch [80/80],Train Loss: 0.0201, Valid Loss: 0.04441586\n",
            "Finished Training\n"
          ]
        }
      ]
    },
    {
      "cell_type": "code",
      "source": [
        "# Evaluation on previously saved models\n",
        "import torch.optim as optim\n",
        "load_model = Net().to(device)\n",
        "load_optimizer = optim.Adam(load_model.parameters(), lr=0.0006)\n",
        "\n",
        "\n",
        "num_epochs = 10\n",
        "eval_every = 1000\n",
        "total_step = len(train_loader)*num_epochs\n",
        "best_val_loss = load_checkpoint(load_model, load_optimizer)\n",
        "\n",
        "print(best_val_loss)\n",
        "eval(load_model, test_loader)"
      ],
      "metadata": {
        "id": "_Huu171DEwmc",
        "colab": {
          "base_uri": "https://localhost:8080/"
        },
        "outputId": "9e2ccf31-640f-4fb5-8e7b-9d6bd32f2111"
      },
      "id": "_Huu171DEwmc",
      "execution_count": 71,
      "outputs": [
        {
          "output_type": "stream",
          "name": "stdout",
          "text": [
            "Model loaded from <== siameseNet-batchnorm50.pt\n",
            "0.02977806323631739\n",
            "Starting Iteration\n",
            "Current Count is: 100\n",
            "Accuracy on 5 way: 0.69\n",
            "Current Count is: 200\n",
            "Accuracy on 5 way: 0.71\n",
            "Current Count is: 300\n",
            "Accuracy on 5 way: 0.7066666666666667\n",
            "Current Count is: 400\n",
            "Accuracy on 5 way: 0.705\n",
            "Current Count is: 500\n",
            "Accuracy on 5 way: 0.714\n",
            "Current Count is: 600\n",
            "Accuracy on 5 way: 0.725\n",
            "Current Count is: 700\n",
            "Accuracy on 5 way: 0.7185714285714285\n",
            "Current Count is: 800\n",
            "Accuracy on 5 way: 0.72375\n",
            "Current Count is: 900\n",
            "Accuracy on 5 way: 0.7177777777777777\n",
            "Current Count is: 1000\n",
            "Accuracy on 5 way: 0.719\n"
          ]
        }
      ]
    },
    {
      "cell_type": "code",
      "source": [
        ""
      ],
      "metadata": {
        "id": "R8jNmpQREwhP"
      },
      "id": "R8jNmpQREwhP",
      "execution_count": 21,
      "outputs": []
    },
    {
      "cell_type": "code",
      "source": [
        ""
      ],
      "metadata": {
        "id": "zDg7Pw4AEweO"
      },
      "id": "zDg7Pw4AEweO",
      "execution_count": 21,
      "outputs": []
    },
    {
      "cell_type": "code",
      "source": [
        ""
      ],
      "metadata": {
        "id": "QQ1-ov0YEwbX"
      },
      "id": "QQ1-ov0YEwbX",
      "execution_count": 21,
      "outputs": []
    },
    {
      "cell_type": "code",
      "execution_count": 22,
      "id": "1f38e519",
      "metadata": {
        "id": "1f38e519"
      },
      "outputs": [],
      "source": [
        "## Task  ##"
      ]
    },
    {
      "cell_type": "code",
      "execution_count": 23,
      "id": "0b6fdfee",
      "metadata": {
        "id": "0b6fdfee"
      },
      "outputs": [],
      "source": [
        "## Model Definition ##"
      ]
    },
    {
      "cell_type": "code",
      "execution_count": 24,
      "id": "93e6f3fb",
      "metadata": {
        "id": "93e6f3fb"
      },
      "outputs": [],
      "source": [
        "## LOSS Definition ##"
      ]
    },
    {
      "cell_type": "code",
      "execution_count": 25,
      "id": "5f1a9501",
      "metadata": {
        "id": "5f1a9501"
      },
      "outputs": [],
      "source": [
        "## Build Sample Selector ##"
      ]
    },
    {
      "cell_type": "code",
      "execution_count": 26,
      "id": "d2c8f9a6",
      "metadata": {
        "id": "d2c8f9a6"
      },
      "outputs": [],
      "source": [
        "## Training ##"
      ]
    },
    {
      "cell_type": "code",
      "execution_count": 27,
      "id": "64252d3e",
      "metadata": {
        "id": "64252d3e"
      },
      "outputs": [],
      "source": [
        "## Evaluation ##"
      ]
    }
  ],
  "metadata": {
    "kernelspec": {
      "display_name": "Python 3",
      "language": "python",
      "name": "python3"
    },
    "language_info": {
      "codemirror_mode": {
        "name": "ipython",
        "version": 3
      },
      "file_extension": ".py",
      "mimetype": "text/x-python",
      "name": "python",
      "nbconvert_exporter": "python",
      "pygments_lexer": "ipython3",
      "version": "3.8.8"
    },
    "colab": {
      "name": "Assignment_1.ipynb",
      "provenance": [],
      "collapsed_sections": [],
      "machine_shape": "hm"
    },
    "accelerator": "GPU"
  },
  "nbformat": 4,
  "nbformat_minor": 5
}
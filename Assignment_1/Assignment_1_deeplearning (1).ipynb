{
  "cells": [
    {
      "cell_type": "markdown",
      "metadata": {
        "id": "06ab2292"
      },
      "source": [
        "<a href=\"https://colab.research.google.com/github/vlamen/tue-deeplearning/blob/main/assignments/assignment_1/Assignment_1.ipynb\" target=\"_parent\"><img src=\"https://colab.research.google.com/assets/colab-badge.svg\" alt=\"Open In Colab\"/></a>    "
      ],
      "id": "06ab2292"
    },
    {
      "cell_type": "markdown",
      "metadata": {
        "id": "b9b20982"
      },
      "source": [
        "# Group Number:\n",
        "# Student 1:\n",
        "# Student 2:\n",
        "# Student 3:"
      ],
      "id": "b9b20982"
    },
    {
      "cell_type": "code",
      "execution_count": 1,
      "metadata": {
        "colab": {
          "base_uri": "https://localhost:8080/"
        },
        "id": "b49fc2e3",
        "outputId": "bc1ed998-374b-48be-ade5-f7d8e5293669"
      },
      "outputs": [
        {
          "output_type": "stream",
          "name": "stdout",
          "text": [
            "Populating the interactive namespace from numpy and matplotlib\n"
          ]
        }
      ],
      "source": [
        "import requests\n",
        "import io\n",
        "import torch\n",
        "import torch.nn as nn\n",
        "import torch.nn.functional as F\n",
        "import numpy as np\n",
        "%pylab inline"
      ],
      "id": "b49fc2e3"
    },
    {
      "cell_type": "markdown",
      "metadata": {
        "id": "25cfb295"
      },
      "source": [
        "### Training data set\n",
        "\n",
        "\n",
        "For Assignment 1 you need to use a specific data set prepared using images from the [Omniglot dataset](https://github.com/brendenlake/omniglot). The provided training data set contains images of handwritten characters of size (28,28). \n",
        "\n",
        "\n",
        "\n",
        "For training data, the dataset contains 10000 sets of 6 images each. Each set consists of 5 support images and 1 query image. In each set, the first five columns are support images and the last one is a query image.\n",
        "\n",
        "For training labels, the dataset contains 10000 sets of 5 binary flags for support images. 1 indicates the same character is given in the query image and 0 means not. For example, a label [1,0,0,1,1] means the support images with index 0,3,4 are the same character of query image.\n",
        "\n",
        " \n",
        " \n",
        "The following cell provides code that loads the data from hardcoded URLs.You can use the code in this cell to load the dataset or download the data set from the given URLs to your local drive (or your Google drive) and modify the code to load the data from another location. \n",
        "\n",
        "\n"
      ],
      "id": "25cfb295"
    },
    {
      "cell_type": "code",
      "execution_count": 2,
      "metadata": {
        "id": "YpnmljACeBH5"
      },
      "outputs": [],
      "source": [
        "import matplotlib.pyplot  as plt"
      ],
      "id": "YpnmljACeBH5"
    },
    {
      "cell_type": "code",
      "execution_count": 3,
      "metadata": {
        "colab": {
          "base_uri": "https://localhost:8080/"
        },
        "id": "f19f0a40",
        "outputId": "426f7148-4671-4377-82e6-da9021c66ed7"
      },
      "outputs": [
        {
          "output_type": "stream",
          "name": "stdout",
          "text": [
            "train_data shape: (10000, 6, 28, 28)\n",
            "train_label shape: (10000, 5)\n",
            "\n"
          ]
        }
      ],
      "source": [
        "def load_numpy_arr_from_url(url):\n",
        "    \"\"\"\n",
        "    Loads a numpy array from surfdrive. \n",
        "    \n",
        "    Input:\n",
        "    url: Download link of dataset \n",
        "    \n",
        "    Outputs:\n",
        "    dataset: numpy array with input features or labels\n",
        "    \"\"\"\n",
        "    \n",
        "    response = requests.get(url)\n",
        "    response.raise_for_status()\n",
        "\n",
        "    return np.load(io.BytesIO(response.content)) \n",
        "    \n",
        "    \n",
        "    \n",
        "#Downloading may take a while..\n",
        "train_data = load_numpy_arr_from_url('https://surfdrive.surf.nl/files/index.php/s/4OXkVie05NPjRKK/download')\n",
        "train_label = load_numpy_arr_from_url('https://surfdrive.surf.nl/files/index.php/s/oMLFw60zpFX82ua/download')\n",
        "\n",
        "print(f\"train_data shape: {train_data.shape}\")\n",
        "print(f\"train_label shape: {train_label.shape}\\n\")"
      ],
      "id": "f19f0a40"
    },
    {
      "cell_type": "markdown",
      "metadata": {
        "id": "cb937392"
      },
      "source": [
        "Now, we plot the first 5 cases in the training dataset. The last column corresponds with the query images of each task. All other images are support images. The image enclosed in a red box denotes the target image that your model should be able to recognize as the same class as the query image. "
      ],
      "id": "cb937392"
    },
    {
      "cell_type": "code",
      "execution_count": 4,
      "metadata": {
        "id": "b1b4bd29"
      },
      "outputs": [],
      "source": [
        "def plot_case(caseID,train_data,labels):\n",
        "    \"\"\"\n",
        "    Plots a single sample of the query dataset\n",
        "    \n",
        "    Inputs\n",
        "    caseID: Integer between 0 and 99, each corresponding to a single sample in the query dataset \n",
        "    \"\"\"\n",
        "    \n",
        "\n",
        "    support_set,queries = np.split(train_data, [5], axis=1)\n",
        "  \n",
        "    \n",
        "    f, axes = plt.subplots(1, 6, figsize=(20,5))\n",
        "\n",
        "    # plot anchor image\n",
        "    axes[5].imshow(queries[caseID, 0])\n",
        "    axes[5].set_title(f\"Query image case {caseID}\", fontsize=15)\n",
        "\n",
        "    # show all test images images \n",
        "    [ax.imshow(support_set[caseID, i]) for i, ax in enumerate(axes[0:-1])]\n",
        "\n",
        "\n",
        "    # Add the patch to the Axes\n",
        "    for ind in np.where(labels[caseID]==True)[0]:\n",
        "        axes[ind].add_patch(Rectangle((0,0),27,27,linewidth=2, edgecolor='r',facecolor='none'))\n"
      ],
      "id": "b1b4bd29"
    },
    {
      "cell_type": "code",
      "execution_count": 5,
      "metadata": {
        "colab": {
          "base_uri": "https://localhost:8080/",
          "height": 1000
        },
        "id": "03538ffb",
        "outputId": "b7ed3bed-0814-41b0-c533-e044665761bd"
      },
      "outputs": [
        {
          "output_type": "display_data",
          "data": {
            "text/plain": [
              "<Figure size 1440x360 with 6 Axes>"
            ],
            "image/png": "[encoded data removed]"
          },
          "metadata": {
            "needs_background": "light"
          }
        },
        {
          "output_type": "display_data",
          "data": {
            "text/plain": [
              "<Figure size 1440x360 with 6 Axes>"
            ],
            "image/png": "[encoded data removed]"
          },
          "metadata": {
            "needs_background": "light"
          }
        },
        {
          "output_type": "display_data",
          "data": {
            "text/plain": [
              "<Figure size 1440x360 with 6 Axes>"
            ],
            "image/png": "[encoded data removed]"
          },
          "metadata": {
            "needs_background": "light"
          }
        },
        {
          "output_type": "display_data",
          "data": {
            "text/plain": [
              "<Figure size 1440x360 with 6 Axes>"
            ],
            "image/png": "[encoded data removed]"
          },
          "metadata": {
            "needs_background": "light"
          }
        },
        {
          "output_type": "display_data",
          "data": {
            "text/plain": [
              "<Figure size 1440x360 with 6 Axes>"
            ],
            "image/png": "[encoded data removed]"
          },
          "metadata": {
            "needs_background": "light"
          }
        }
      ],
      "source": [
        "[plot_case(caseID,train_data,train_label) for caseID in range(5)] ;"
      ],
      "id": "03538ffb"
    },
    {
      "cell_type": "markdown",
      "metadata": {
        "id": "931f2383"
      },
      "source": [
        "### Query data set\n",
        "\n",
        "For this task you need to use the following query data set. The dataset contains 1000 sets of 6 images each. The images are also of hand written characters, however these characters are not present in the training data set. The characters in the query data set all come from the Greek alphabet that is not part of the set of alphabets in the training data. \n"
      ],
      "id": "931f2383"
    },
    {
      "cell_type": "code",
      "execution_count": 6,
      "metadata": {
        "colab": {
          "base_uri": "https://localhost:8080/"
        },
        "id": "c9ba78dc",
        "outputId": "00324842-f125-4377-df97-4c4b38cb4b28"
      },
      "outputs": [
        {
          "output_type": "stream",
          "name": "stdout",
          "text": [
            "test_data shape: (1000, 6, 28, 28)\n",
            "test_label shape: (1000, 5)\n",
            "\n"
          ]
        }
      ],
      "source": [
        "    \n",
        "#Downloading may take a while..\n",
        "test_data = load_numpy_arr_from_url('https://surfdrive.surf.nl/files/index.php/s/06c34QVUr69CxWY/download')\n",
        "test_label = load_numpy_arr_from_url('https://surfdrive.surf.nl/files/index.php/s/LQIH1CW7lfDXevk/download')\n",
        "\n",
        "print(f\"test_data shape: {test_data.shape}\")\n",
        "print(f\"test_label shape: {test_label.shape}\\n\")"
      ],
      "id": "c9ba78dc"
    },
    {
      "cell_type": "code",
      "execution_count": 7,
      "metadata": {
        "colab": {
          "base_uri": "https://localhost:8080/",
          "height": 1000
        },
        "id": "03fb3580",
        "outputId": "d5df10d1-4c15-46dd-ec58-fea8a80226c2",
        "scrolled": false
      },
      "outputs": [
        {
          "output_type": "display_data",
          "data": {
            "text/plain": [
              "<Figure size 1440x360 with 6 Axes>"
            ],
            "image/png": "[encoded data removed]"
          },
          "metadata": {
            "needs_background": "light"
          }
        },
        {
          "output_type": "display_data",
          "data": {
            "text/plain": [
              "<Figure size 1440x360 with 6 Axes>"
            ],
            "image/png": "[encoded data removed]"
          },
          "metadata": {
            "needs_background": "light"
          }
        },
        {
          "output_type": "display_data",
          "data": {
            "text/plain": [
              "<Figure size 1440x360 with 6 Axes>"
            ],
            "image/png": "[encoded data removed]"
          },
          "metadata": {
            "needs_background": "light"
          }
        },
        {
          "output_type": "display_data",
          "data": {
            "text/plain": [
              "<Figure size 1440x360 with 6 Axes>"
            ],
            "image/png": "[encoded data removed]"
          },
          "metadata": {
            "needs_background": "light"
          }
        },
        {
          "output_type": "display_data",
          "data": {
            "text/plain": [
              "<Figure size 1440x360 with 6 Axes>"
            ],
            "image/png": "[encoded data removed]"
          },
          "metadata": {
            "needs_background": "light"
          }
        }
      ],
      "source": [
        "[plot_case(caseID,test_data,test_label) for caseID in range(5)] ;"
      ],
      "id": "03fb3580"
    },
    {
      "cell_type": "markdown",
      "metadata": {
        "id": "fcc32db2"
      },
      "source": [
        "### Build pytorch dataset and dataload"
      ],
      "id": "fcc32db2"
    },
    {
      "cell_type": "code",
      "execution_count": 8,
      "metadata": {
        "id": "fcf31f45"
      },
      "outputs": [],
      "source": [
        "import torch\n",
        "from torchvision import transforms\n",
        "from torch.utils.data import Dataset, DataLoader,TensorDataset\n",
        "import numpy as np\n",
        "from PIL import Image\n",
        "\n",
        "\n",
        "class MyDataset(Dataset):\n",
        "    def __init__(self, data, targets):\n",
        "        self.data = torch.FloatTensor(data)\n",
        "        self.targets = torch.LongTensor(targets)\n",
        "\n",
        "        \n",
        "    def __getitem__(self, index):\n",
        "        x = self.data[index]\n",
        "        y = self.targets[index]\n",
        "        \n",
        "\n",
        "        return x, y\n",
        "    \n",
        "    def __len__(self):\n",
        "        return len(self.data)"
      ],
      "id": "fcf31f45"
    },
    {
      "cell_type": "code",
      "execution_count": 9,
      "metadata": {
        "id": "d3d75da8"
      },
      "outputs": [],
      "source": [
        "# transform = transforms.ToTensor()\n",
        "train_dataset=MyDataset(train_data,train_label)\n",
        "test_dataset=MyDataset(test_data,test_label)"
      ],
      "id": "d3d75da8"
    },
    {
      "cell_type": "code",
      "execution_count": 10,
      "metadata": {
        "colab": {
          "base_uri": "https://localhost:8080/"
        },
        "id": "0LIkLUl4xute",
        "outputId": "3849ba70-5f9e-4d28-e5ed-294ceed67a77"
      },
      "outputs": [
        {
          "output_type": "stream",
          "name": "stdout",
          "text": [
            "Training data shape  (10000, 6, 28, 28)\n",
            "Testing data shape (1000, 6, 28, 28)\n"
          ]
        }
      ],
      "source": [
        "print(\"Training data shape \",train_data.shape)\n",
        "print(\"Testing data shape\",test_data.shape)"
      ],
      "id": "0LIkLUl4xute"
    },
    {
      "cell_type": "code",
      "execution_count": 11,
      "metadata": {
        "id": "d4c1bd77"
      },
      "outputs": [],
      "source": [
        "train_loader = torch.utils.data.DataLoader(train_dataset, batch_size=64)"
      ],
      "id": "d4c1bd77"
    },
    {
      "cell_type": "code",
      "execution_count": 12,
      "metadata": {
        "colab": {
          "base_uri": "https://localhost:8080/"
        },
        "id": "KR2b0BonfNLc",
        "outputId": "9469a5e4-10ee-4ee5-c154-6a3f73dde93f"
      },
      "outputs": [
        {
          "output_type": "stream",
          "name": "stdout",
          "text": [
            "<torch.utils.data.dataloader.DataLoader object at 0x7f3a4fdfe950>\n"
          ]
        }
      ],
      "source": [
        "print(train_loader)"
      ],
      "id": "KR2b0BonfNLc"
    },
    {
      "cell_type": "code",
      "execution_count": 13,
      "metadata": {
        "id": "2b747c92"
      },
      "outputs": [],
      "source": [
        "test_loader = torch.utils.data.DataLoader(test_dataset, batch_size=64)"
      ],
      "id": "2b747c92"
    },
    {
      "cell_type": "code",
      "execution_count": 13,
      "metadata": {
        "id": "a8ddcb05"
      },
      "outputs": [],
      "source": [
        ""
      ],
      "id": "a8ddcb05"
    },
    {
      "cell_type": "code",
      "execution_count": 14,
      "metadata": {
        "id": "1f38e519"
      },
      "outputs": [],
      "source": [
        "## Task  ##"
      ],
      "id": "1f38e519"
    },
    {
      "cell_type": "code",
      "execution_count": 15,
      "metadata": {
        "id": "gB2k9wyupyRU"
      },
      "outputs": [],
      "source": [
        "class SiameseNetwork(nn.Module):\n",
        "\n",
        "    def __init__(self):\n",
        "        super(SiameseNetwork, self).__init__()\n",
        "\n",
        "        # Setting up the Sequential of CNN Layers\n",
        "        self.cnn1 = nn.Sequential(\n",
        "            nn.Conv2d(1, 96, kernel_size=3,stride=1),\n",
        "            nn.ReLU(inplace=True),\n",
        "            nn.MaxPool2d(2, stride=2),\n",
        "            \n",
        "            nn.Conv2d(96, 256, kernel_size=3, stride=1),\n",
        "            nn.ReLU(inplace=True),\n",
        "            nn.MaxPool2d(2, stride=2),\n",
        "\n",
        "            nn.Conv2d(256, 384, kernel_size=3,stride=1),\n",
        "            nn.ReLU(inplace=True)\n",
        "        )\n",
        "\n",
        "        # Setting up the Fully Connected Layers\n",
        "        self.fc1 = nn.Sequential(\n",
        "            nn.Linear(384 * 3 * 3, 1024),\n",
        "            nn.ReLU(inplace=True),\n",
        "            \n",
        "            nn.Linear(1024, 256),\n",
        "            nn.ReLU(inplace=True),\n",
        "            \n",
        "            nn.Linear(256,2)\n",
        "        )\n",
        "        \n",
        "    def forward_once(self, x):\n",
        "        # This function will be called for both images\n",
        "        # Its output is used to determine the similiarity\n",
        "        output = self.cnn1(x)\n",
        "        output = output.view(output.size()[0], -1)\n",
        "        output = self.fc1(output)\n",
        "        return output\n",
        "\n",
        "    def forward(self, input1, input2):\n",
        "        # In this function we pass in both images and obtain both vectors\n",
        "        # which are returned\n",
        "        output1 = self.forward_once(input1)\n",
        "        #output1 = output1.view(-1, 256 * 3 * 3)\n",
        "        output2 = self.forward_once(input2)\n",
        "        #output2 = output1.view(-1, 256 * 3 * 3)\n",
        "\n",
        "        return output1, output2"
      ],
      "id": "gB2k9wyupyRU"
    },
    {
      "cell_type": "code",
      "execution_count": 16,
      "metadata": {
        "id": "wfdx6SP00Wd-"
      },
      "outputs": [],
      "source": [
        "#Different network structures, the commented out are the different experimenting structures\n",
        "class Net(nn.Module):\n",
        "    def __init__(self):\n",
        "        super(Net, self).__init__()\n",
        "        \n",
        "        # Conv2d(input_channels, output_channels, kernel_size)\n",
        "        self.conv1 = nn.Conv2d(1, 4, 3) \n",
        "        self.conv2 = nn.Conv2d(4, 8, 3)  \n",
        "        self.conv3 = nn.Conv2d(8, 8, 3)\n",
        "       \n",
        "        self.bn1 = nn.BatchNorm2d(4)\n",
        "        self.bn2 = nn.BatchNorm2d(8)\n",
        "        self.bn3 = nn.BatchNorm2d(8)\n",
        "        \n",
        "        self.dropout1 = nn.Dropout(0.1)\n",
        "        self.dropout2 = nn.Dropout(0.4)\n",
        "        self.f_connected1 = nn.Linear(8 * 3 * 3, 500)\n",
        "        self.f_out = nn.Linear(500, 1)\n",
        "        self.sigmoid = nn.Sigmoid()\n",
        "\n",
        "    def forward_once(self, x):\n",
        "        \n",
        "        # out_dim = in_dim - kernel_size + 1  \n",
        "        #1, 28,\n",
        "       \n",
        "        x = F.relu(self.bn1(self.conv1(x)))\n",
        "        # 32, 26, 26\n",
        "        x = F.max_pool2d(x, (2,2))\n",
        "        # 32, 13, 13\n",
        "        x = self.dropout2(x)\n",
        "        x = F.relu(self.bn2(self.conv2(x)))\n",
        "        # 64, 11, 11\n",
        "        x = F.max_pool2d(x, (2,2))\n",
        "        # 64, 5, 5\n",
        "        x = self.dropout2(x)\n",
        "        x = F.relu(self.bn3(self.conv3(x)))\n",
        "        x = self.dropout2(x)\n",
        "        # 128, 3, 3\n",
        "       \n",
        "        return x\n",
        "\n",
        "    def forward(self, input1,input2 ):\n",
        "        \n",
        "        input1 = self.forward_once(input1)\n",
        "        input1 = input1.view(-1, 8 * 3 * 3)\n",
        "        #input1= self.sigmoid(self.f_connected1(input1))\n",
        "  \n",
        "        input2 = self.forward_once(input2)\n",
        "\n",
        "        input2 = input2.view(-1, 8 * 3 * 3)\n",
        "        #input2= self.sigmoid(self.f_connected1(input2))\n",
        "        #x = torch.abs(input1 - input2)\n",
        "        #x = self.f_out(x)\n",
        "        \n",
        "        return input1,input2\n"
      ],
      "id": "wfdx6SP00Wd-"
    },
    {
      "cell_type": "code",
      "execution_count": 17,
      "metadata": {
        "id": "93e6f3fb"
      },
      "outputs": [],
      "source": [
        "## LOSS Definition ##\n",
        "\n",
        "class ContrastiveLoss(torch.nn.Module):\n",
        "    \"\"\"\n",
        "    Contrastive loss function.\n",
        "    Based on: http://yann.lecun.com/exdb/publis/pdf/hadsell-chopra-lecun-06.pdf\n",
        "    \"\"\"\n",
        "\n",
        "    def __init__(self, margin=2.0):\n",
        "        super(ContrastiveLoss, self).__init__()\n",
        "        self.margin = margin\n",
        "\n",
        "    def forward(self, output1, output2, label):\n",
        "        euclidean_distance = F.pairwise_distance(output1, output2, keepdim = True)\n",
        "        loss_contrastive = torch.mean((1-label) * torch.pow(euclidean_distance, 2) +\n",
        "                                      (label) * torch.pow(torch.clamp(self.margin - euclidean_distance, min=0.0), 2))\n",
        "\n",
        "\n",
        "        return loss_contrastive"
      ],
      "id": "93e6f3fb"
    },
    {
      "cell_type": "code",
      "execution_count": 18,
      "metadata": {
        "colab": {
          "base_uri": "https://localhost:8080/"
        },
        "id": "J0HqcBQflGzd",
        "outputId": "49067cea-f90d-4089-ba38-fac01e77d16e"
      },
      "outputs": [
        {
          "output_type": "stream",
          "name": "stdout",
          "text": [
            "The model architecture:\n",
            "\n",
            " SiameseNetwork(\n",
            "  (cnn1): Sequential(\n",
            "    (0): Conv2d(1, 96, kernel_size=(3, 3), stride=(1, 1))\n",
            "    (1): ReLU(inplace=True)\n",
            "    (2): MaxPool2d(kernel_size=2, stride=2, padding=0, dilation=1, ceil_mode=False)\n",
            "    (3): Conv2d(96, 256, kernel_size=(3, 3), stride=(1, 1))\n",
            "    (4): ReLU(inplace=True)\n",
            "    (5): MaxPool2d(kernel_size=2, stride=2, padding=0, dilation=1, ceil_mode=False)\n",
            "    (6): Conv2d(256, 384, kernel_size=(3, 3), stride=(1, 1))\n",
            "    (7): ReLU(inplace=True)\n",
            "  )\n",
            "  (fc1): Sequential(\n",
            "    (0): Linear(in_features=3456, out_features=1024, bias=True)\n",
            "    (1): ReLU(inplace=True)\n",
            "    (2): Linear(in_features=1024, out_features=256, bias=True)\n",
            "    (3): ReLU(inplace=True)\n",
            "    (4): Linear(in_features=256, out_features=2, bias=True)\n",
            "  )\n",
            ")\n",
            "\n",
            "The model has 4,910,402 trainable parameters\n"
          ]
        },
        {
          "output_type": "stream",
          "name": "stderr",
          "text": [
            "/usr/local/lib/python3.7/dist-packages/ipykernel_launcher.py:7: DeprecationWarning: Calling np.sum(generator) is deprecated, and in the future will give a different result. Use np.sum(np.fromiter(generator)) or the python sum builtin instead.\n",
            "  import sys\n"
          ]
        }
      ],
      "source": [
        "#creating the original network and couting the paramenters of different networks\n",
        "device = torch.device('cuda:0' if torch.cuda.is_available() else 'cpu')\n",
        "siameseNet = SiameseNetwork()\n",
        "siameseNet = siameseNet.to(device)\n",
        "\n",
        "def count_parameters(model):\n",
        "    temp = sum(p.numel() for p in model.parameters() if p.requires_grad)\n",
        "    print(f'The model architecture:\\n\\n', model)\n",
        "    print(f'\\nThe model has {temp:,} trainable parameters')\n",
        "    \n",
        "count_parameters(siameseNet)"
      ],
      "id": "J0HqcBQflGzd"
    },
    {
      "cell_type": "code",
      "execution_count": 19,
      "metadata": {
        "id": "1ouw4aZhlHGj"
      },
      "outputs": [],
      "source": [
        "def save_checkpoint(save_path, model, optimizer, val_loss):\n",
        "    if save_path==None:\n",
        "        return\n",
        "    save_path = save_path \n",
        "    state_dict = {'model_state_dict': model.state_dict(),\n",
        "                  'optimizer_state_dict': optimizer.state_dict(),\n",
        "                  'val_loss': val_loss}\n",
        "\n",
        "    torch.save(state_dict, save_path)\n",
        "\n",
        "    print(f'Model saved to ==> {save_path}')\n",
        "\n",
        "def load_checkpoint(model, optimizer):\n",
        "    save_path = f'siameseNet-batchnorm50.pt'\n",
        "    state_dict = torch.load(save_path)\n",
        "    model.load_state_dict(state_dict['model_state_dict'])\n",
        "    optimizer.load_state_dict(state_dict['optimizer_state_dict'])\n",
        "    val_loss = state_dict['val_loss']\n",
        "    print(f'Model loaded from <== {save_path}')\n",
        "    \n",
        "    return val_loss"
      ],
      "id": "1ouw4aZhlHGj"
    },
    {
      "cell_type": "code",
      "execution_count": 20,
      "metadata": {
        "id": "SgQ4usLnlHWq"
      },
      "outputs": [],
      "source": [
        "trans = transforms.Compose([\n",
        "    # transforms.ToPILImage(),\n",
        "    transforms.Grayscale()\n",
        "])"
      ],
      "id": "SgQ4usLnlHWq"
    },
    {
      "cell_type": "code",
      "execution_count": 26,
      "metadata": {
        "id": "-gU2EFR1lHwi"
      },
      "outputs": [],
      "source": [
        "# training and validation after every epoch\n",
        "def train(model, train_loader, val_loader, num_epochs, criterion, save_name):\n",
        "    best_val_loss = float(\"Inf\") \n",
        "    train_losses = []\n",
        "    val_losses = []\n",
        "    cur_step = 0\n",
        "    for epoch in range(num_epochs):\n",
        "        running_loss = 0.0\n",
        "        model.train()\n",
        "        print(\"Starting epoch \" + str(epoch+1))\n",
        "        for train_data, labels in train_loader:\n",
        "            #plot_case(99,train_data,labels)\n",
        "            support_set, queries = np.split(train_data, [5], axis=1)\n",
        "            labels = torch.tensor_split(labels, 5, dim=1)\n",
        "            # Forward\n",
        "            case_loss = 0.0\n",
        "            for x in range(5):\n",
        "                img1 = queries.to(device)\n",
        "                x2 = support_set[:,x]\n",
        "                img2 = x2.view(-1,1,28,28).to(device)\n",
        "                #print(\"support\", x2.shape)\n",
        "                #break\n",
        "                #img2 = support_set.to(device)\n",
        "                #labels = labels[:,[0][4]].view(-1,1).to(device)\n",
        "                #print(labels[4].shape)\n",
        "                output1,output2 = model(img1, img2)\n",
        "                loss = criterion(output1,output2, labels[x].float().to(device))\n",
        "                \n",
        "                # Backward and optimize\n",
        "                optimizer.zero_grad()\n",
        "                loss.backward()\n",
        "                optimizer.step()\n",
        "                case_loss += loss.item()\n",
        "\n",
        "            case_loss = case_loss/5\n",
        "            running_loss += case_loss\n",
        "\n",
        "        avg_train_loss = running_loss / len(train_loader)\n",
        "        train_losses.append(avg_train_loss)\n",
        "        \n",
        "        val_running_loss = 0.0\n",
        "        with torch.no_grad():\n",
        "            model.eval()\n",
        "            for val_data, labels in test_loader:\n",
        "                support_set, queries = np.split(val_data, [5], axis=1)\n",
        "                labels = torch.tensor_split(labels, 5, dim=1)\n",
        "                case_loss = 0.0\n",
        "                for x in range(5):\n",
        "                    img1 = queries.to(device)\n",
        "                    #img2 = support_set.to(device)\n",
        "                    x2 = support_set[:,x]\n",
        "                    img2 = x2.view(-1,1,28,28).to(device)\n",
        "                    #labels = labels[:,x].view(-1,1).to(device)\n",
        "                    output1,output2 = model(img1, img2)\n",
        "                    loss = criterion(output1,output2, labels[x].float().to(device))\n",
        "                    case_loss += loss.item()\n",
        "\n",
        "                case_loss = case_loss/5\n",
        "                val_running_loss += case_loss\n",
        "\n",
        "        avg_val_loss = val_running_loss / len(val_loader)\n",
        "        val_losses.append(avg_val_loss)\n",
        "        \n",
        "        print('Epoch [{}/{}],Train Loss: {:.4f}, Valid Loss: {:.8f}'\n",
        "            .format(epoch+1, num_epochs, avg_train_loss, avg_val_loss))\n",
        "        if avg_val_loss < best_val_loss:\n",
        "            best_val_loss = avg_val_loss\n",
        "            save_checkpoint(save_name, model, optimizer, best_val_loss)\n",
        "    \n",
        "    print(\"Finished Training\")  \n",
        "    return train_losses, val_losses  \n",
        "\n",
        "\n",
        "def eval(model, test_loader):\n",
        "    with torch.no_grad():\n",
        "        model.eval()\n",
        "        correct = 0\n",
        "        print('Starting Iteration')\n",
        "        count = 0\n",
        "        for test_data, labels in test_loader:\n",
        "            support_set, queries = np.split(test_data, [5], axis=1)\n",
        "            queries = queries.to(device)\n",
        "            #print(labels)\n",
        "            predVal = 0\n",
        "            pred = []\n",
        "            for i in range(5):\n",
        "                x2 = support_set[:,i]\n",
        "                testImg = x2.view(-1,1,28,28).to(device)\n",
        "                #print(testImg.shape)\n",
        "                #output = model(queries, testImg)\n",
        "                output1,output2 = model(queries, testImg)\n",
        "                #output=torch.abs(output1 - output2)\n",
        "                #loss = criterion(output1,output2, labels[i].float().to(device))\n",
        "                #print(output)\n",
        "                if output > 0:\n",
        "                    pred.append(1)\n",
        "                else:\n",
        "                    pred.append(0)\n",
        "            # print(labels[0])\n",
        "            # print(torch.tensor(pred))\n",
        "            if torch.eq(labels[0], torch.tensor(pred)).all():\n",
        "                correct += 1\n",
        "            count += 1\n",
        "            if count % 100 == 0:\n",
        "                print(\"Current Count is: {}\".format(count))\n",
        "                print('Accuracy on 5 way 1-shot: {}'.format(correct/count))"
      ],
      "id": "-gU2EFR1lHwi"
    },
    {
      "cell_type": "code",
      "execution_count": 22,
      "metadata": {
        "colab": {
          "base_uri": "https://localhost:8080/"
        },
        "id": "wJQKlTqmlIOk",
        "outputId": "d9c62bf9-df82-4ecb-e9a7-d70088ee0647"
      },
      "outputs": [
        {
          "output_type": "stream",
          "name": "stdout",
          "text": [
            "Starting epoch 1\n",
            "Epoch [1/50],Train Loss: 1.1671, Valid Loss: 1.12762955\n",
            "Model saved to ==> siameseNet-batchnorm50.pt\n",
            "Starting epoch 2\n",
            "Epoch [2/50],Train Loss: 1.1216, Valid Loss: 1.11222653\n",
            "Model saved to ==> siameseNet-batchnorm50.pt\n",
            "Starting epoch 3\n",
            "Epoch [3/50],Train Loss: 1.0772, Valid Loss: 1.09953943\n",
            "Model saved to ==> siameseNet-batchnorm50.pt\n",
            "Starting epoch 4\n",
            "Epoch [4/50],Train Loss: 1.0407, Valid Loss: 1.10819702\n",
            "Starting epoch 5\n",
            "Epoch [5/50],Train Loss: 1.0015, Valid Loss: 1.11951881\n",
            "Starting epoch 6\n",
            "Epoch [6/50],Train Loss: 0.9661, Valid Loss: 1.13126296\n",
            "Starting epoch 7\n",
            "Epoch [7/50],Train Loss: 0.9316, Valid Loss: 1.15735373\n",
            "Starting epoch 8\n",
            "Epoch [8/50],Train Loss: 0.8993, Valid Loss: 1.17810426\n",
            "Starting epoch 9\n",
            "Epoch [9/50],Train Loss: 0.8764, Valid Loss: 1.20975322\n",
            "Starting epoch 10\n",
            "Epoch [10/50],Train Loss: 0.8544, Valid Loss: 1.23837438\n",
            "Starting epoch 11\n",
            "Epoch [11/50],Train Loss: 0.8292, Valid Loss: 1.24321263\n",
            "Starting epoch 12\n",
            "Epoch [12/50],Train Loss: 0.8093, Valid Loss: 1.25827046\n",
            "Starting epoch 13\n",
            "Epoch [13/50],Train Loss: 0.7925, Valid Loss: 1.25032089\n",
            "Starting epoch 14\n",
            "Epoch [14/50],Train Loss: 0.7817, Valid Loss: 1.24895814\n",
            "Starting epoch 15\n",
            "Epoch [15/50],Train Loss: 0.7643, Valid Loss: 1.25419682\n",
            "Starting epoch 16\n",
            "Epoch [16/50],Train Loss: 0.7489, Valid Loss: 1.25808954\n",
            "Starting epoch 17\n",
            "Epoch [17/50],Train Loss: 0.7342, Valid Loss: 1.27225650\n",
            "Starting epoch 18\n",
            "Epoch [18/50],Train Loss: 0.7232, Valid Loss: 1.27554156\n",
            "Starting epoch 19\n",
            "Epoch [19/50],Train Loss: 0.7125, Valid Loss: 1.28446614\n",
            "Starting epoch 20\n",
            "Epoch [20/50],Train Loss: 0.7013, Valid Loss: 1.28415299\n",
            "Starting epoch 21\n",
            "Epoch [21/50],Train Loss: 0.6903, Valid Loss: 1.28409080\n",
            "Starting epoch 22\n",
            "Epoch [22/50],Train Loss: 0.6826, Valid Loss: 1.29251963\n",
            "Starting epoch 23\n",
            "Epoch [23/50],Train Loss: 0.6749, Valid Loss: 1.31147612\n",
            "Starting epoch 24\n",
            "Epoch [24/50],Train Loss: 0.6652, Valid Loss: 1.32750818\n",
            "Starting epoch 25\n",
            "Epoch [25/50],Train Loss: 0.6559, Valid Loss: 1.32995169\n",
            "Starting epoch 26\n",
            "Epoch [26/50],Train Loss: 0.6465, Valid Loss: 1.34551147\n",
            "Starting epoch 27\n",
            "Epoch [27/50],Train Loss: 0.6461, Valid Loss: 1.35827358\n",
            "Starting epoch 28\n",
            "Epoch [28/50],Train Loss: 0.6307, Valid Loss: 1.37275711\n",
            "Starting epoch 29\n",
            "Epoch [29/50],Train Loss: 0.6391, Valid Loss: 1.37000198\n",
            "Starting epoch 30\n",
            "Epoch [30/50],Train Loss: 0.6294, Valid Loss: 1.41986341\n",
            "Starting epoch 31\n",
            "Epoch [31/50],Train Loss: 0.6118, Valid Loss: 1.45300181\n",
            "Starting epoch 32\n",
            "Epoch [32/50],Train Loss: 0.6042, Valid Loss: 1.46338860\n",
            "Starting epoch 33\n",
            "Epoch [33/50],Train Loss: 0.5974, Valid Loss: 1.48639278\n",
            "Starting epoch 34\n",
            "Epoch [34/50],Train Loss: 0.5925, Valid Loss: 1.50688722\n",
            "Starting epoch 35\n",
            "Epoch [35/50],Train Loss: 0.5873, Valid Loss: 1.53758073\n",
            "Starting epoch 36\n",
            "Epoch [36/50],Train Loss: 0.5812, Valid Loss: 1.56193680\n",
            "Starting epoch 37\n",
            "Epoch [37/50],Train Loss: 0.5786, Valid Loss: 1.57974766\n",
            "Starting epoch 38\n",
            "Epoch [38/50],Train Loss: 0.5728, Valid Loss: 1.58648829\n",
            "Starting epoch 39\n",
            "Epoch [39/50],Train Loss: 0.5678, Valid Loss: 1.59014902\n",
            "Starting epoch 40\n",
            "Epoch [40/50],Train Loss: 0.5602, Valid Loss: 1.61786197\n",
            "Starting epoch 41\n",
            "Epoch [41/50],Train Loss: 0.5532, Valid Loss: 1.64922993\n",
            "Starting epoch 42\n",
            "Epoch [42/50],Train Loss: 0.5501, Valid Loss: 1.67344313\n",
            "Starting epoch 43\n",
            "Epoch [43/50],Train Loss: 0.5458, Valid Loss: 1.69639265\n",
            "Starting epoch 44\n",
            "Epoch [44/50],Train Loss: 0.5454, Valid Loss: 1.67829972\n",
            "Starting epoch 45\n",
            "Epoch [45/50],Train Loss: 0.5426, Valid Loss: 1.68171734\n",
            "Starting epoch 46\n",
            "Epoch [46/50],Train Loss: 0.5445, Valid Loss: 1.74502723\n",
            "Starting epoch 47\n",
            "Epoch [47/50],Train Loss: 0.5396, Valid Loss: 1.79123886\n",
            "Starting epoch 48\n",
            "Epoch [48/50],Train Loss: 0.5364, Valid Loss: 1.82233825\n",
            "Starting epoch 49\n",
            "Epoch [49/50],Train Loss: 0.5314, Valid Loss: 1.82699569\n",
            "Starting epoch 50\n",
            "Epoch [50/50],Train Loss: 0.5315, Valid Loss: 1.81603381\n",
            "Finished Training\n"
          ]
        }
      ],
      "source": [
        "# actual training\n",
        "import torch.optim as optim\n",
        "#from pytorch_metric_learning import losses\n",
        "\n",
        "optimizer = optim.Adam(siameseNet.parameters(), lr = 0.0006)\n",
        "num_epochs = 50\n",
        "#criterion = nn.BCEWithLogitsLoss()\n",
        "\n",
        "criterion=ContrastiveLoss()\n",
        "\n",
        "save_path = 'siameseNet-batchnorm50.pt'\n",
        "train_losses, val_losses = train(siameseNet, train_loader, test_loader, num_epochs, criterion, save_path)"
      ],
      "id": "wJQKlTqmlIOk"
    },
    {
      "cell_type": "code",
      "execution_count": 27,
      "metadata": {
        "id": "64252d3e",
        "colab": {
          "base_uri": "https://localhost:8080/",
          "height": 373
        },
        "outputId": "bea0cd41-be7f-45e6-8d1e-a267d1364084"
      },
      "outputs": [
        {
          "output_type": "stream",
          "name": "stdout",
          "text": [
            "Model loaded from <== siameseNet-batchnorm50.pt\n",
            "1.0995394311845303\n",
            "Starting Iteration\n"
          ]
        },
        {
          "output_type": "error",
          "ename": "RuntimeError",
          "evalue": "ignored",
          "traceback": [
            "\u001b[0;31m---------------------------------------------------------------------------\u001b[0m",
            "\u001b[0;31mRuntimeError\u001b[0m                              Traceback (most recent call last)",
            "\u001b[0;32m<ipython-input-27-429dd65c3902>\u001b[0m in \u001b[0;36m<module>\u001b[0;34m()\u001b[0m\n\u001b[1;32m     11\u001b[0m \u001b[0;34m\u001b[0m\u001b[0m\n\u001b[1;32m     12\u001b[0m \u001b[0mprint\u001b[0m\u001b[0;34m(\u001b[0m\u001b[0mbest_val_loss\u001b[0m\u001b[0;34m)\u001b[0m\u001b[0;34m\u001b[0m\u001b[0;34m\u001b[0m\u001b[0m\n\u001b[0;32m---> 13\u001b[0;31m \u001b[0meval\u001b[0m\u001b[0;34m(\u001b[0m\u001b[0mload_model\u001b[0m\u001b[0;34m,\u001b[0m \u001b[0mtest_loader\u001b[0m\u001b[0;34m)\u001b[0m\u001b[0;34m\u001b[0m\u001b[0;34m\u001b[0m\u001b[0m\n\u001b[0m",
            "\u001b[0;32m<ipython-input-26-fd21b7746ec8>\u001b[0m in \u001b[0;36meval\u001b[0;34m(model, test_loader)\u001b[0m\n\u001b[1;32m     93\u001b[0m                 \u001b[0;31m#loss = criterion(output1,output2, labels[i].float().to(device))\u001b[0m\u001b[0;34m\u001b[0m\u001b[0;34m\u001b[0m\u001b[0;34m\u001b[0m\u001b[0m\n\u001b[1;32m     94\u001b[0m                 \u001b[0;31m#print(output)\u001b[0m\u001b[0;34m\u001b[0m\u001b[0;34m\u001b[0m\u001b[0;34m\u001b[0m\u001b[0m\n\u001b[0;32m---> 95\u001b[0;31m                 \u001b[0;32mif\u001b[0m \u001b[0moutput\u001b[0m \u001b[0;34m>\u001b[0m \u001b[0;36m0\u001b[0m\u001b[0;34m:\u001b[0m\u001b[0;34m\u001b[0m\u001b[0;34m\u001b[0m\u001b[0m\n\u001b[0m\u001b[1;32m     96\u001b[0m                     \u001b[0mpred\u001b[0m\u001b[0;34m.\u001b[0m\u001b[0mappend\u001b[0m\u001b[0;34m(\u001b[0m\u001b[0;36m1\u001b[0m\u001b[0;34m)\u001b[0m\u001b[0;34m\u001b[0m\u001b[0;34m\u001b[0m\u001b[0m\n\u001b[1;32m     97\u001b[0m                 \u001b[0;32melse\u001b[0m\u001b[0;34m:\u001b[0m\u001b[0;34m\u001b[0m\u001b[0;34m\u001b[0m\u001b[0m\n",
            "\u001b[0;31mRuntimeError\u001b[0m: Boolean value of Tensor with more than one value is ambiguous"
          ]
        }
      ],
      "source": [
        "## Evaluation ##\n",
        "import torch.optim as optim\n",
        "load_model = SiameseNetwork().to(device)\n",
        "load_optimizer = optim.Adam(load_model.parameters(), lr=0.0006)\n",
        "\n",
        "\n",
        "num_epochs = 10\n",
        "eval_every = 1000\n",
        "total_step = len(train_loader)*num_epochs\n",
        "best_val_loss = load_checkpoint(load_model, load_optimizer)\n",
        "\n",
        "print(best_val_loss)\n",
        "eval(load_model, test_loader)"
      ],
      "id": "64252d3e"
    },
    {
      "cell_type": "code",
      "execution_count": 23,
      "metadata": {
        "id": "_fmJMVLvymW1"
      },
      "outputs": [],
      "source": [
        ""
      ],
      "id": "_fmJMVLvymW1"
    }
  ],
  "metadata": {
    "accelerator": "GPU",
    "colab": {
      "collapsed_sections": [],
      "name": "Assignment_1_deeplearning.ipynb",
      "provenance": []
    },
    "kernelspec": {
      "display_name": "Python 3",
      "language": "python",
      "name": "python3"
    },
    "language_info": {
      "codemirror_mode": {
        "name": "ipython",
        "version": 3
      },
      "file_extension": ".py",
      "mimetype": "text/x-python",
      "name": "python",
      "nbconvert_exporter": "python",
      "pygments_lexer": "ipython3",
      "version": "3.8.8"
    }
  },
  "nbformat": 4,
  "nbformat_minor": 5
}
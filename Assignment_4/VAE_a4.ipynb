{
  "cells": [
    {
      "cell_type": "markdown",
      "metadata": {
        "id": "730fd591"
      },
      "source": [
        "<a href=\"https://colab.research.google.com/github/vlamen/tue-deeplearning/blob/main/assignments/assignment_4/assignment_4_skeleton.ipynb\" target=\"_parent\"><img src=\"https://colab.research.google.com/assets/colab-badge.svg\" alt=\"Open In Colab\"/></a>"
      ]
    },
    {
      "cell_type": "markdown",
      "metadata": {
        "id": "d32f8d18"
      },
      "source": [
        "# Group Number: 41\n",
        "\n",
        "# Student 1: Nikhil Patni\n",
        "\n",
        "# Student 2: Aishvarya Viswanathan\n",
        "\n",
        "# Student 3: Silvia Sultana"
      ]
    },
    {
      "cell_type": "markdown",
      "metadata": {
        "id": "5DqstCg_tPOB"
      },
      "source": [
        "# Imports"
      ]
    },
    {
      "cell_type": "code",
      "execution_count": 1,
      "metadata": {
        "id": "rr6oulEItPOC"
      },
      "outputs": [],
      "source": [
        "import pickle\n",
        "import matplotlib.pyplot as plt\n",
        "import matplotlib\n",
        "import numpy as np\n",
        "\n",
        "from zipfile import ZipFile\n",
        "import requests\n",
        "import io\n",
        "\n",
        "import torch\n",
        "import torch.nn as nn\n",
        "from torch.optim import Adam, SGD\n",
        "import torchvision.transforms as transforms\n",
        "from torch.utils.data import DataLoader, SubsetRandomSampler\n",
        "import numpy as np\n",
        "import seaborn as sn\n",
        "import pandas as pd\n",
        "import matplotlib.pyplot as plt\n",
        "import seaborn as sns\n",
        "from tqdm import tqdm\n",
        "from sklearn.metrics import roc_curve, precision_recall_curve, auc, confusion_matrix, roc_auc_score"
      ]
    },
    {
      "cell_type": "markdown",
      "metadata": {
        "id": "am94Js2HtPOE"
      },
      "source": [
        "# Data loading and inspection"
      ]
    },
    {
      "cell_type": "code",
      "source": [
        "def load_zip(url):\n",
        "    response = requests.get(url)\n",
        "    response.raise_for_status()\n",
        "    zipf = ZipFile(io.BytesIO(response.content))\n",
        "    return {name: zipf.read(name) for name in zipf.namelist()}\n",
        "\n",
        "def load_pickle(zipfile, fn):\n",
        "    return pickle.load(io.BytesIO(zipfile[fn]))"
      ],
      "metadata": {
        "id": "s53F5Jcruqht"
      },
      "execution_count": 2,
      "outputs": []
    },
    {
      "cell_type": "code",
      "source": [
        "# load and inspect data\n",
        "data_location = 'https://surfdrive.surf.nl/files/index.php/s/K3ArFDQJb5USQ6K/download'\n",
        "data_request = requests.get(data_location)\n",
        "full_data = pickle.loads(data_request.content)"
      ],
      "metadata": {
        "id": "8GBc3qZyu0E8"
      },
      "execution_count": 3,
      "outputs": []
    },
    {
      "cell_type": "code",
      "source": [
        "len(full_data['labeled_data']['data'])"
      ],
      "metadata": {
        "colab": {
          "base_uri": "https://localhost:8080/"
        },
        "id": "c8AwN-V6vm40",
        "outputId": "27eb5c68-f51e-4841-e04c-2cdc25c7b8e9"
      },
      "execution_count": 4,
      "outputs": [
        {
          "output_type": "execute_result",
          "data": {
            "text/plain": [
              "2000"
            ]
          },
          "metadata": {},
          "execution_count": 4
        }
      ]
    },
    {
      "cell_type": "code",
      "source": [
        "full_data.keys()"
      ],
      "metadata": {
        "colab": {
          "base_uri": "https://localhost:8080/"
        },
        "id": "jvu1x3QJuKrC",
        "outputId": "ef3d434f-448e-4024-d7b2-f6141d503d6c"
      },
      "execution_count": 5,
      "outputs": [
        {
          "output_type": "execute_result",
          "data": {
            "text/plain": [
              "dict_keys(['unlabeled_data', 'labeled_data', 'representative_set_1', 'representative_set_2'])"
            ]
          },
          "metadata": {},
          "execution_count": 5
        }
      ]
    },
    {
      "cell_type": "code",
      "source": [
        "unlabeled_data = np.array(full_data['unlabeled_data']) / 255.0\n",
        "labeled_data_X = np.array(full_data['labeled_data']['data']) / 255.0\n",
        "labeled_data_y = np.array(full_data['labeled_data']['labels'])\n",
        "representative_set_1_X = np.array(full_data['representative_set_1']['data']) / 255.0\n",
        "representative_set_1_y = np.array(full_data['representative_set_1']['labels'])\n",
        "representative_set_2_X = np.array(full_data['representative_set_2']['data']) / 255.0\n",
        "representative_set_2_y = np.array(full_data['representative_set_2']['labels'])"
      ],
      "metadata": {
        "id": "RMu2p4gKytMg"
      },
      "execution_count": 6,
      "outputs": []
    },
    {
      "cell_type": "code",
      "source": [
        "labeled_data_X.shape, labeled_data_y.shape"
      ],
      "metadata": {
        "colab": {
          "base_uri": "https://localhost:8080/"
        },
        "id": "bH4uF209uKpC",
        "outputId": "9432b5e6-1f74-41aa-d901-ef67b46cfebb"
      },
      "execution_count": 7,
      "outputs": [
        {
          "output_type": "execute_result",
          "data": {
            "text/plain": [
              "((2000, 1, 32, 32), (2000, 5))"
            ]
          },
          "metadata": {},
          "execution_count": 7
        }
      ]
    },
    {
      "cell_type": "code",
      "source": [
        "# labeled_data_y = np.argmax(labeled_data_y, axis=1)\n",
        "# labeled_data_y"
      ],
      "metadata": {
        "id": "yRl_gIPU7DHq"
      },
      "execution_count": 8,
      "outputs": []
    },
    {
      "cell_type": "code",
      "source": [
        "labeled_data_X[0]"
      ],
      "metadata": {
        "colab": {
          "base_uri": "https://localhost:8080/"
        },
        "id": "kBH5-6fguKnJ",
        "outputId": "bd3cc16c-bfd5-49d3-95f8-8a613e35c251"
      },
      "execution_count": 9,
      "outputs": [
        {
          "output_type": "execute_result",
          "data": {
            "text/plain": [
              "array([[[0., 0., 0., ..., 0., 0., 0.],\n",
              "        [0., 0., 0., ..., 0., 0., 0.],\n",
              "        [0., 0., 0., ..., 0., 0., 0.],\n",
              "        ...,\n",
              "        [0., 0., 0., ..., 0., 0., 0.],\n",
              "        [0., 0., 0., ..., 0., 0., 0.],\n",
              "        [0., 0., 0., ..., 0., 0., 0.]]])"
            ]
          },
          "metadata": {},
          "execution_count": 9
        }
      ]
    },
    {
      "cell_type": "code",
      "source": [
        "from torch.utils.data import Dataset, DataLoader,TensorDataset, random_split\n",
        "import numpy as np\n",
        "from PIL import Image\n",
        "\n",
        "class UnlabelDataset(Dataset):\n",
        "    def __init__(self, data):\n",
        "        self.data = torch.FloatTensor(data)\n",
        "\n",
        "      \n",
        "    def __getitem__(self, index):\n",
        "        x = self.data[index]\n",
        "        \n",
        "        return x\n",
        "    \n",
        "    def __len__(self):\n",
        "        return len(self.data)\n",
        "\n",
        "class LabelDataset(Dataset):\n",
        "    def __init__(self, data, targets):\n",
        "        self.data = torch.FloatTensor(data)\n",
        "        self.targets = torch.FloatTensor(targets)\n",
        "\n",
        "        \n",
        "    def __getitem__(self, index):\n",
        "        x = self.data[index]\n",
        "        y = self.targets[index]\n",
        "        \n",
        "\n",
        "        return x, y\n",
        "    \n",
        "    def __len__(self):\n",
        "        return len(self.data)"
      ],
      "metadata": {
        "id": "m8Nf13-1uKlN"
      },
      "execution_count": 10,
      "outputs": []
    },
    {
      "cell_type": "code",
      "source": [
        "unlabeled_dataset = UnlabelDataset(unlabeled_data)\n",
        "labeled_dataset = LabelDataset(labeled_data_X, labeled_data_y)\n",
        "representative_dataset_1 = LabelDataset(representative_set_1_X, representative_set_1_y)\n",
        "representative_dataset_2 = LabelDataset(representative_set_2_X, representative_set_2_y)"
      ],
      "metadata": {
        "id": "DszhkPiYuKiz"
      },
      "execution_count": 11,
      "outputs": []
    },
    {
      "cell_type": "code",
      "source": [
        "len(unlabeled_dataset)"
      ],
      "metadata": {
        "colab": {
          "base_uri": "https://localhost:8080/"
        },
        "id": "OC09zSxQKCc7",
        "outputId": "7bbb5d5e-6cda-4e6a-9dbe-5e299b9c2616"
      },
      "execution_count": 12,
      "outputs": [
        {
          "output_type": "execute_result",
          "data": {
            "text/plain": [
              "26000"
            ]
          },
          "metadata": {},
          "execution_count": 12
        }
      ]
    },
    {
      "cell_type": "code",
      "source": [
        "batch_size = 100\n",
        "kwargs = {'num_workers': 1, 'pin_memory': True}\n",
        "\n",
        "unlabeled_loader = torch.utils.data.DataLoader(unlabeled_dataset, batch_size=batch_size, **kwargs)\n",
        "labeled_loader = torch.utils.data.DataLoader(labeled_dataset, batch_size=batch_size, **kwargs)\n",
        "representative_loader_1 = torch.utils.data.DataLoader(representative_dataset_1, batch_size=4, **kwargs)\n",
        "representative_loader_2 = torch.utils.data.DataLoader(representative_dataset_2, batch_size=4, **kwargs)"
      ],
      "metadata": {
        "id": "dOVwLXwsuKg9"
      },
      "execution_count": 13,
      "outputs": []
    },
    {
      "cell_type": "code",
      "source": [
        "inputs, classes = next(iter(labeled_loader))"
      ],
      "metadata": {
        "id": "GPL1z2ZMuKee"
      },
      "execution_count": 14,
      "outputs": []
    },
    {
      "cell_type": "code",
      "source": [
        "inputs.shape, classes.shape"
      ],
      "metadata": {
        "colab": {
          "base_uri": "https://localhost:8080/"
        },
        "id": "21BV52JAuKc1",
        "outputId": "24caea81-4bb2-4231-df4e-663f690e1718"
      },
      "execution_count": 15,
      "outputs": [
        {
          "output_type": "execute_result",
          "data": {
            "text/plain": [
              "(torch.Size([100, 1, 32, 32]), torch.Size([100, 5]))"
            ]
          },
          "metadata": {},
          "execution_count": 15
        }
      ]
    },
    {
      "cell_type": "code",
      "source": [
        "def show_images(x, ncols=10):\n",
        "    \"\"\" plots first ncols images in a batch \"\"\"\n",
        "    x = x.view(batch_size, 32, 32)\n",
        "\n",
        "    fig, ax = plt.subplots(1, ncols, figsize=(20, 2))\n",
        "    for idx in range(ncols):\n",
        "        ax[idx].imshow(x[idx].cpu().detach().numpy(), cmap=\"Greys\")\n",
        "        ax[idx].axis('off')\n",
        "    plt.show()\n",
        "\n",
        "for loader in [unlabeled_loader, labeled_loader]:\n",
        "    if loader == unlabeled_loader:\n",
        "        for x in loader:\n",
        "            show_images(x)\n",
        "            break\n",
        "    else:\n",
        "        for x, y in loader:\n",
        "            show_images(x)\n",
        "            break"
      ],
      "metadata": {
        "colab": {
          "base_uri": "https://localhost:8080/",
          "height": 233
        },
        "id": "qCyPQAjZuKYY",
        "outputId": "a98924c5-bb8f-4053-b001-ee9bdae21c90"
      },
      "execution_count": 16,
      "outputs": [
        {
          "output_type": "display_data",
          "data": {
            "text/plain": [
              "<Figure size 1440x144 with 10 Axes>"
            ],
            "image/png": "[encoded data removed]"
          },
          "metadata": {
            "needs_background": "light"
          }
        },
        {
          "output_type": "display_data",
          "data": {
            "text/plain": [
              "<Figure size 1440x144 with 10 Axes>"
            ],
            "image/png": "[encoded data removed]"
          },
          "metadata": {
            "needs_background": "light"
          }
        }
      ]
    },
    {
      "cell_type": "code",
      "source": [
        "import torch.nn.functional as F\n",
        "# # hyper parameters\n",
        "latent_dim = 32\n",
        "x_dim = 32*32\n",
        "# hidden_dim = 500\n",
        "\n",
        "lr = 1e-3\n",
        "epochs = 100\n",
        "\n",
        "\n",
        "class Encoder(nn.Module):\n",
        "    def __init__(self, imgChannels=1, featureDim=128*26*26, zDim=latent_dim):\n",
        "        super(Encoder, self).__init__()\n",
        "        # Initializing the 2 convolutional layers and 2 full-connected layers for the encoder\n",
        "        self.encConv1 = nn.Conv2d(imgChannels, 32, 3)\n",
        "        self.encConv2 = nn.Conv2d(32, 64, 3)\n",
        "        self.encConv3 = nn.Conv2d(64, 128, 3)\n",
        "        self.encFC1 = nn.Linear(featureDim, zDim)\n",
        "        self.encFC2 = nn.Linear(featureDim, zDim)\n",
        "        \n",
        "    def forward(self, x):\n",
        "        # Input is fed into 2 convolutional layers sequentially\n",
        "        # The output feature map are fed into 2 fully-connected layers to predict mean (mu) and variance (logVar)\n",
        "        # Mu and logVar are used for generating middle representation z and KL divergence loss\n",
        "        x = F.relu(self.encConv1(x))\n",
        "        x = F.relu(self.encConv2(x))\n",
        "        x = F.relu(self.encConv3(x))\n",
        "        x = x.view(-1, 128*26*26)\n",
        "        mu = self.encFC1(x)\n",
        "        log_sigma = self.encFC2(x)\n",
        "        z = self.reparameterize(mu, log_sigma)\n",
        "\n",
        "        return z, mu, log_sigma\n",
        "    \n",
        "    def reparameterize(self, mu, log_sigma):\n",
        "        sigma = torch.exp(log_sigma)\n",
        "        eps = torch.randn_like(sigma)\n",
        "        z = mu + sigma * eps\n",
        "        \n",
        "        return z\n",
        "\n",
        "\n",
        "class Decoder(nn.Module):\n",
        "    def __init__(self, imgChannels=1, featureDim=128*26*26, zDim=latent_dim):\n",
        "        super(Decoder, self).__init__()\n",
        "        # Initializing the fully-connected layer and 2 convolutional layers for decoder\n",
        "        self.decFC1 = nn.Linear(zDim, featureDim)\n",
        "        self.decConv1 = nn.ConvTranspose2d(128, 64, 3)\n",
        "        self.decConv2 = nn.ConvTranspose2d(64, 32, 3)\n",
        "        self.decConv3 = nn.ConvTranspose2d(32, imgChannels, 3)\n",
        "        self.fc_output = nn.Linear(1*32*32, 32*32)\n",
        "        \n",
        "    def forward(self, z):\n",
        "        # z is fed back into a fully-connected layers and then into two transpose convolutional layers\n",
        "        # The generated output is the same size of the original input\n",
        "        x = F.relu(self.decFC1(z))\n",
        "        x = x.view(-1, 128, 26, 26)\n",
        "        x = F.relu(self.decConv1(x))\n",
        "        x = F.relu(self.decConv2(x))\n",
        "        x = self.decConv3(x)\n",
        "        x = x.view(-1, 1*32*32)\n",
        "\n",
        "        return torch.sigmoid(self.fc_output(x))"
      ],
      "metadata": {
        "id": "skhoj5qcBySX"
      },
      "execution_count": 17,
      "outputs": []
    },
    {
      "cell_type": "code",
      "source": [
        "class VAE(nn.Module):\n",
        "    def __init__(self, encoder, decoder):\n",
        "        super(VAE, self).__init__()\n",
        "        self.encoder = encoder\n",
        "        self.decoder = decoder\n",
        "                \n",
        "    def forward(self, x):\n",
        "        z, mu, log_sigma = self.encoder(x)\n",
        "        x_reconstr = self.decoder(z)\n",
        "        \n",
        "        return x_reconstr, mu, log_sigma\n",
        "\n",
        "DEVICE = torch.device('cuda:0' if torch.cuda.is_available() else 'cpu')\n",
        "\n",
        "encoder = Encoder()\n",
        "decoder = Decoder()\n",
        "\n",
        "vae = VAE(encoder=encoder, decoder=decoder).to(DEVICE)"
      ],
      "metadata": {
        "id": "w0f83E-5ByQD"
      },
      "execution_count": 18,
      "outputs": []
    },
    {
      "cell_type": "code",
      "source": [
        "# import torch.nn.functional as F\n",
        "\n",
        "# \"\"\"\n",
        "# A Convolutional Variational Autoencoder\n",
        "# \"\"\"\n",
        "# class VAE(nn.Module):\n",
        "#     def __init__(self, imgChannels=1, featureDim=64*26*26, zDim=16):\n",
        "#         super(VAE, self).__init__()\n",
        "\n",
        "#         # Initializing the 2 convolutional layers and 2 full-connected layers for the encoder\n",
        "#         self.encConv1 = nn.Conv2d(imgChannels, 16, 3)\n",
        "#         self.encConv2 = nn.Conv2d(16, 32, 3)\n",
        "#         self.encConv3 = nn.Conv2d(32, 64, 3)\n",
        "#         self.encFC1 = nn.Linear(featureDim, zDim)\n",
        "#         self.encFC2 = nn.Linear(featureDim, zDim)\n",
        "\n",
        "#         # Initializing the fully-connected layer and 2 convolutional layers for decoder\n",
        "#         self.decFC1 = nn.Linear(zDim, featureDim)\n",
        "#         self.decConv1 = nn.ConvTranspose2d(64, 32, 3)\n",
        "#         self.decConv2 = nn.ConvTranspose2d(32, 16, 3)\n",
        "#         self.decConv3 = nn.ConvTranspose2d(16, imgChannels, 3)\n",
        "\n",
        "#     def encoder(self, x):\n",
        "\n",
        "#         # Input is fed into 2 convolutional layers sequentially\n",
        "#         # The output feature map are fed into 2 fully-connected layers to predict mean (mu) and variance (logVar)\n",
        "#         # Mu and logVar are used for generating middle representation z and KL divergence loss\n",
        "#         x = F.relu(self.encConv1(x))\n",
        "#         x = F.relu(self.encConv2(x))\n",
        "#         x = F.relu(self.encConv3(x))\n",
        "#         x = x.view(-1, 64*26*26)\n",
        "#         mu = self.encFC1(x)\n",
        "#         log_sigma = self.encFC2(x)\n",
        "#         return mu, log_sigma\n",
        "\n",
        "#     def reparameterize(self, mu, log_sigma):\n",
        "\n",
        "#         #Reparameterization takes in the input mu and logVar and sample the mu + std * eps\n",
        "#         sigma = torch.exp(log_sigma)\n",
        "#         eps = torch.randn_like(sigma)\n",
        "#         return mu + sigma * eps\n",
        "\n",
        "#     def decoder(self, z):\n",
        "\n",
        "#         # z is fed back into a fully-connected layers and then into two transpose convolutional layers\n",
        "#         # The generated output is the same size of the original input\n",
        "#         x = F.relu(self.decFC1(z))\n",
        "#         x = x.view(-1, 64, 26, 26)\n",
        "#         x = F.relu(self.decConv1(x))\n",
        "#         x = F.relu(self.decConv2(x))\n",
        "#         x = torch.sigmoid(self.decConv3(x))\n",
        "#         return x\n",
        "\n",
        "#     def forward(self, x):\n",
        "\n",
        "#         # The entire pipeline of the VAE: encoder -> reparameterization -> decoder\n",
        "#         # output, mu, and logVar are returned for loss computation\n",
        "#         mu, log_sigma = self.encoder(x)\n",
        "#         z = self.reparameterize(mu, log_sigma)\n",
        "#         out = self.decoder(z)\n",
        "#         return out, mu, log_sigma"
      ],
      "metadata": {
        "id": "4Ws6mukZLrDz"
      },
      "execution_count": 19,
      "outputs": []
    },
    {
      "cell_type": "code",
      "source": [
        "def loss_function(x, x_reconstr, mu, log_sigma):\n",
        "    reconstr_loss = nn.functional.mse_loss(x_reconstr, x, reduction='sum')\n",
        "    kl_loss = 0.5 * torch.sum(mu.pow(2) + (2*log_sigma).exp() - 2*log_sigma - 1)\n",
        "    total_loss = reconstr_loss + kl_loss\n",
        "    return total_loss, reconstr_loss, kl_loss"
      ],
      "metadata": {
        "id": "9I8RJg2tByOP"
      },
      "execution_count": 20,
      "outputs": []
    },
    {
      "cell_type": "code",
      "source": [
        "x = next(iter(unlabeled_loader))\n",
        "x.shape"
      ],
      "metadata": {
        "colab": {
          "base_uri": "https://localhost:8080/"
        },
        "id": "zTbmfEwJC--u",
        "outputId": "731829cb-f65a-42e9-b562-0e571453c401"
      },
      "execution_count": 21,
      "outputs": [
        {
          "output_type": "execute_result",
          "data": {
            "text/plain": [
              "torch.Size([100, 1, 32, 32])"
            ]
          },
          "metadata": {},
          "execution_count": 21
        }
      ]
    },
    {
      "cell_type": "code",
      "source": [
        "optimizer = Adam(vae.parameters(), lr=lr)\n",
        "\n",
        "print(\"Training VAE for anomaly detection...\")\n",
        "vae.train()\n",
        "\n",
        "avg_losses = []\n",
        "recons_losses = []\n",
        "kl_losses = []\n",
        "\n",
        "for epoch in range(epochs):\n",
        "    overall_loss = 0.0\n",
        "    overall_reconstr_loss = 0.0\n",
        "    overall_kl_loss = 0.0\n",
        "    for batch_idx, x in enumerate(unlabeled_loader):\n",
        "        x = x.view(batch_size, 1, 32, 32)\n",
        "        x = x.to(DEVICE)\n",
        "\n",
        "        optimizer.zero_grad()\n",
        "\n",
        "        out, mu, log_sigma = vae(x)\n",
        "        # sigma = torch.exp(logVar/2)\n",
        "        # log_sigma = torch.log(sigma)\n",
        "        x = x.view(batch_size, x_dim)\n",
        "        # print(x.shape)\n",
        "        # print(out.shape)\n",
        "        loss, reconstr_loss, kl_loss = loss_function(x, out, mu, log_sigma)\n",
        "        #kl_divergence = 0.5 * torch.sum(-1 - logVar + mu.pow(2) + logVar.exp())\n",
        "        #loss = F.binary_cross_entropy(out, x, size_average=False) + kl_divergence\n",
        "        \n",
        "        overall_loss += loss.item()\n",
        "        overall_reconstr_loss += reconstr_loss.item()\n",
        "        overall_kl_loss += kl_loss.item()\n",
        "        \n",
        "        loss.backward()\n",
        "        optimizer.step()\n",
        "        \n",
        "    n_datapoints = batch_idx * batch_size\n",
        "    avg_losses.append(overall_loss / n_datapoints)\n",
        "    recons_losses.append(overall_reconstr_loss / n_datapoints)\n",
        "    kl_losses.append(overall_kl_loss / n_datapoints)\n",
        "    #print('Epoch {}: Loss {}'.format(epoch, loss))\n",
        "    print(\"\\tEpoch\", epoch + 1, \"\\tAverage Loss: \", overall_loss / n_datapoints, \"\\tReconstruction Loss:\", overall_reconstr_loss / n_datapoints, \"\\tKL Loss:\", overall_kl_loss / n_datapoints)\n",
        "    \n",
        "print(\"Training complete!\")"
      ],
      "metadata": {
        "colab": {
          "base_uri": "https://localhost:8080/"
        },
        "id": "78N5Wg6bByMn",
        "outputId": "014fafda-a6ca-4395-fbf0-03cfd6c4af11"
      },
      "execution_count": 22,
      "outputs": [
        {
          "output_type": "stream",
          "name": "stdout",
          "text": [
            "Training VAE for anomaly detection...\n",
            "\tEpoch 1 \tAverage Loss:  56.304058550389115 \tReconstruction Loss: 52.35754964821127 \tKL Loss: 3.946508930609723\n",
            "\tEpoch 2 \tAverage Loss:  30.38604675057312 \tReconstruction Loss: 24.3488331869118 \tKL Loss: 6.037213589583585\n",
            "\tEpoch 3 \tAverage Loss:  27.50198830387307 \tReconstruction Loss: 21.308154551384533 \tKL Loss: 6.19383382082906\n",
            "\tEpoch 4 \tAverage Loss:  26.268290336932914 \tReconstruction Loss: 19.816176979330056 \tKL Loss: 6.452113305758325\n",
            "\tEpoch 5 \tAverage Loss:  25.642835594383445 \tReconstruction Loss: 19.03864854495958 \tKL Loss: 6.6041869975793315\n",
            "\tEpoch 6 \tAverage Loss:  25.220580281732627 \tReconstruction Loss: 18.52548512344655 \tKL Loss: 6.695095207774041\n",
            "\tEpoch 7 \tAverage Loss:  24.936785997074082 \tReconstruction Loss: 18.1656007650368 \tKL Loss: 6.771185295664666\n",
            "\tEpoch 8 \tAverage Loss:  24.696680187092785 \tReconstruction Loss: 17.869082686376387 \tKL Loss: 6.827597552560931\n",
            "\tEpoch 9 \tAverage Loss:  24.53352240249457 \tReconstruction Loss: 17.643536673880913 \tKL Loss: 6.889985815806739\n",
            "\tEpoch 10 \tAverage Loss:  24.371027436127534 \tReconstruction Loss: 17.429452526431287 \tKL Loss: 6.941574836642586\n",
            "\tEpoch 11 \tAverage Loss:  24.257261807357022 \tReconstruction Loss: 17.281838784236246 \tKL Loss: 6.975423051399614\n",
            "\tEpoch 12 \tAverage Loss:  24.187218437047537 \tReconstruction Loss: 17.171819794997287 \tKL Loss: 7.0153986773987995\n",
            "\tEpoch 13 \tAverage Loss:  24.05954058201617 \tReconstruction Loss: 17.023711818857084 \tKL Loss: 7.03582880557734\n",
            "\tEpoch 14 \tAverage Loss:  23.98884095416566 \tReconstruction Loss: 16.893203459632904 \tKL Loss: 7.095637560516711\n",
            "\tEpoch 15 \tAverage Loss:  23.875043521129946 \tReconstruction Loss: 16.755333525315216 \tKL Loss: 7.119709967535895\n",
            "\tEpoch 16 \tAverage Loss:  23.811327276634895 \tReconstruction Loss: 16.65118280477045 \tKL Loss: 7.160144431802757\n",
            "\tEpoch 17 \tAverage Loss:  23.698595833207648 \tReconstruction Loss: 16.503546590326376 \tKL Loss: 7.195049193393309\n",
            "\tEpoch 18 \tAverage Loss:  23.6865888841548 \tReconstruction Loss: 16.471935526137187 \tKL Loss: 7.21465340986215\n",
            "\tEpoch 19 \tAverage Loss:  23.58361445010859 \tReconstruction Loss: 16.35749772355363 \tKL Loss: 7.22611681139147\n",
            "\tEpoch 20 \tAverage Loss:  23.58651782886402 \tReconstruction Loss: 16.331058359035655 \tKL Loss: 7.255459500463773\n",
            "\tEpoch 21 \tAverage Loss:  23.441910838712598 \tReconstruction Loss: 16.170684649493243 \tKL Loss: 7.271226236350748\n",
            "\tEpoch 22 \tAverage Loss:  23.4586098312319 \tReconstruction Loss: 16.142797729020874 \tKL Loss: 7.315812019731087\n",
            "\tEpoch 23 \tAverage Loss:  23.3990898267827 \tReconstruction Loss: 16.08404993948329 \tKL Loss: 7.315039844881153\n",
            "\tEpoch 24 \tAverage Loss:  23.335186659175918 \tReconstruction Loss: 15.999208423511401 \tKL Loss: 7.335978268656492\n",
            "\tEpoch 25 \tAverage Loss:  23.3175233394667 \tReconstruction Loss: 15.961565106366132 \tKL Loss: 7.355958216604579\n",
            "\tEpoch 26 \tAverage Loss:  23.269985681482265 \tReconstruction Loss: 15.911211979103825 \tKL Loss: 7.358773662316753\n",
            "\tEpoch 27 \tAverage Loss:  23.22315165751689 \tReconstruction Loss: 15.828738466947696 \tKL Loss: 7.394413192925766\n",
            "\tEpoch 28 \tAverage Loss:  23.168624003642314 \tReconstruction Loss: 15.771524102052666 \tKL Loss: 7.397099922798775\n",
            "\tEpoch 29 \tAverage Loss:  23.198066783301158 \tReconstruction Loss: 15.757425824610884 \tKL Loss: 7.440640942194287\n",
            "\tEpoch 30 \tAverage Loss:  23.109907895828307 \tReconstruction Loss: 15.680228799355996 \tKL Loss: 7.4296790894026\n",
            "\tEpoch 31 \tAverage Loss:  23.09479400752594 \tReconstruction Loss: 15.660212095989683 \tKL Loss: 7.4345818785442805\n",
            "\tEpoch 32 \tAverage Loss:  23.05626782038037 \tReconstruction Loss: 15.589817790027752 \tKL Loss: 7.466450025639479\n",
            "\tEpoch 33 \tAverage Loss:  23.094606631952825 \tReconstruction Loss: 15.623887331458132 \tKL Loss: 7.470719321703819\n",
            "\tEpoch 34 \tAverage Loss:  23.013695332295185 \tReconstruction Loss: 15.547499047945825 \tKL Loss: 7.466196317341337\n",
            "\tEpoch 35 \tAverage Loss:  22.98812552787162 \tReconstruction Loss: 15.492805995867519 \tKL Loss: 7.495319529647532\n",
            "\tEpoch 36 \tAverage Loss:  22.947588423209762 \tReconstruction Loss: 15.439993373325892 \tKL Loss: 7.507594927342242\n",
            "\tEpoch 37 \tAverage Loss:  22.913897082943713 \tReconstruction Loss: 15.411298682017676 \tKL Loss: 7.502598393856329\n",
            "\tEpoch 38 \tAverage Loss:  22.907070213524072 \tReconstruction Loss: 15.37145562013604 \tKL Loss: 7.535614638162856\n",
            "\tEpoch 39 \tAverage Loss:  22.85774143528294 \tReconstruction Loss: 15.323298052342242 \tKL Loss: 7.534443319313314\n",
            "\tEpoch 40 \tAverage Loss:  22.853648846600507 \tReconstruction Loss: 15.312636417109074 \tKL Loss: 7.541012431848003\n",
            "\tEpoch 41 \tAverage Loss:  22.836012504901664 \tReconstruction Loss: 15.304388314619027 \tKL Loss: 7.531624253910021\n",
            "\tEpoch 42 \tAverage Loss:  22.78874573460877 \tReconstruction Loss: 15.222056795215975 \tKL Loss: 7.566688904044251\n",
            "\tEpoch 43 \tAverage Loss:  22.73777586476683 \tReconstruction Loss: 15.166904381711511 \tKL Loss: 7.570871485411891\n",
            "\tEpoch 44 \tAverage Loss:  22.788231300147803 \tReconstruction Loss: 15.20898734899101 \tKL Loss: 7.579243920521386\n",
            "\tEpoch 45 \tAverage Loss:  22.74604249932131 \tReconstruction Loss: 15.131682477678572 \tKL Loss: 7.61435999100733\n",
            "\tEpoch 46 \tAverage Loss:  22.77545339459158 \tReconstruction Loss: 15.154207033135256 \tKL Loss: 7.621246347316904\n",
            "\tEpoch 47 \tAverage Loss:  22.69917962622919 \tReconstruction Loss: 15.090873340032276 \tKL Loss: 7.608306229639237\n",
            "\tEpoch 48 \tAverage Loss:  22.69571929106841 \tReconstruction Loss: 15.048519800841579 \tKL Loss: 7.647199516149101\n",
            "\tEpoch 49 \tAverage Loss:  22.668986396936837 \tReconstruction Loss: 15.046397144214527 \tKL Loss: 7.622589302210274\n",
            "\tEpoch 50 \tAverage Loss:  22.598376318736427 \tReconstruction Loss: 14.980992257254464 \tKL Loss: 7.617384042629404\n",
            "\tEpoch 51 \tAverage Loss:  22.62874739363387 \tReconstruction Loss: 14.96490432798172 \tKL Loss: 7.663843169341217\n",
            "\tEpoch 52 \tAverage Loss:  22.603198091367037 \tReconstruction Loss: 14.945628751659026 \tKL Loss: 7.657569290220047\n",
            "\tEpoch 53 \tAverage Loss:  22.582546141635497 \tReconstruction Loss: 14.911337999027207 \tKL Loss: 7.671208187383114\n",
            "\tEpoch 54 \tAverage Loss:  22.61186497515233 \tReconstruction Loss: 14.92670147163067 \tKL Loss: 7.6851635318004945\n",
            "\tEpoch 55 \tAverage Loss:  22.546741637005308 \tReconstruction Loss: 14.902956415713984 \tKL Loss: 7.643785193012488\n",
            "\tEpoch 56 \tAverage Loss:  22.547297551806828 \tReconstruction Loss: 14.874331926618304 \tKL Loss: 7.672965658180502\n",
            "\tEpoch 57 \tAverage Loss:  22.507698121531128 \tReconstruction Loss: 14.84462927858802 \tKL Loss: 7.663068814664274\n",
            "\tEpoch 58 \tAverage Loss:  22.51880071809393 \tReconstruction Loss: 14.830245201081382 \tKL Loss: 7.688555479307432\n",
            "\tEpoch 59 \tAverage Loss:  22.48298404413761 \tReconstruction Loss: 14.798336794348756 \tKL Loss: 7.684647242719143\n",
            "\tEpoch 60 \tAverage Loss:  22.484835101389056 \tReconstruction Loss: 14.773416413413972 \tKL Loss: 7.711418662052817\n",
            "\tEpoch 61 \tAverage Loss:  22.44628091819498 \tReconstruction Loss: 14.742914968365408 \tKL Loss: 7.703365912124457\n",
            "\tEpoch 62 \tAverage Loss:  22.413886511371864 \tReconstruction Loss: 14.723004522728644 \tKL Loss: 7.6908820569837415\n",
            "\tEpoch 63 \tAverage Loss:  22.421710478440215 \tReconstruction Loss: 14.710119364970438 \tKL Loss: 7.7115911228960545\n",
            "\tEpoch 64 \tAverage Loss:  22.445148082129283 \tReconstruction Loss: 14.707922980702522 \tKL Loss: 7.737225080217634\n",
            "\tEpoch 65 \tAverage Loss:  22.3928501297056 \tReconstruction Loss: 14.673452289831685 \tKL Loss: 7.7193978445870535\n",
            "\tEpoch 66 \tAverage Loss:  22.411424852761524 \tReconstruction Loss: 14.685021491916023 \tKL Loss: 7.726403407976894\n",
            "\tEpoch 67 \tAverage Loss:  22.39519902174077 \tReconstruction Loss: 14.658239703675495 \tKL Loss: 7.736959325134984\n",
            "\tEpoch 68 \tAverage Loss:  22.42783121116373 \tReconstruction Loss: 14.682147216796874 \tKL Loss: 7.745683966088019\n",
            "\tEpoch 69 \tAverage Loss:  22.400060002978705 \tReconstruction Loss: 14.6516384522427 \tKL Loss: 7.748421607293678\n",
            "\tEpoch 70 \tAverage Loss:  22.35018047082378 \tReconstruction Loss: 14.591486740996018 \tKL Loss: 7.758693795811716\n",
            "\tEpoch 71 \tAverage Loss:  22.37037534500181 \tReconstruction Loss: 14.609236400707347 \tKL Loss: 7.761138974929868\n",
            "\tEpoch 72 \tAverage Loss:  22.342164872217364 \tReconstruction Loss: 14.569678040729066 \tKL Loss: 7.772486852697424\n",
            "\tEpoch 73 \tAverage Loss:  22.343466297282216 \tReconstruction Loss: 14.566301311949506 \tKL Loss: 7.777164973549861\n",
            "\tEpoch 74 \tAverage Loss:  22.299662534500182 \tReconstruction Loss: 14.552462318449868 \tKL Loss: 7.747200201910895\n",
            "\tEpoch 75 \tAverage Loss:  22.294563162667412 \tReconstruction Loss: 14.503852704022382 \tKL Loss: 7.790710550551249\n",
            "\tEpoch 76 \tAverage Loss:  22.28485187073932 \tReconstruction Loss: 14.511985391152871 \tKL Loss: 7.772866411245928\n",
            "\tEpoch 77 \tAverage Loss:  22.26935763208102 \tReconstruction Loss: 14.477673269146658 \tKL Loss: 7.791684339368666\n",
            "\tEpoch 78 \tAverage Loss:  22.275600915857265 \tReconstruction Loss: 14.487053184951135 \tKL Loss: 7.788547768611245\n",
            "\tEpoch 79 \tAverage Loss:  22.2634837736034 \tReconstruction Loss: 14.451347722233953 \tKL Loss: 7.812136063152298\n",
            "\tEpoch 80 \tAverage Loss:  22.269215988100264 \tReconstruction Loss: 14.457760820425616 \tKL Loss: 7.8114551087604065\n",
            "\tEpoch 81 \tAverage Loss:  22.243815234563524 \tReconstruction Loss: 14.422268957189612 \tKL Loss: 7.8215462703042045\n",
            "\tEpoch 82 \tAverage Loss:  22.20102935908844 \tReconstruction Loss: 14.417797351969716 \tKL Loss: 7.783232000049017\n",
            "\tEpoch 83 \tAverage Loss:  22.213880553963563 \tReconstruction Loss: 14.404467716879827 \tKL Loss: 7.809412841796875\n",
            "\tEpoch 84 \tAverage Loss:  22.177238246372767 \tReconstruction Loss: 14.37697988149282 \tKL Loss: 7.800258395515353\n",
            "\tEpoch 85 \tAverage Loss:  22.19304994796694 \tReconstruction Loss: 14.377858495528173 \tKL Loss: 7.81519151606615\n",
            "\tEpoch 86 \tAverage Loss:  22.20910790638574 \tReconstruction Loss: 14.369433494774071 \tKL Loss: 7.839674331488296\n",
            "\tEpoch 87 \tAverage Loss:  22.17860486358289 \tReconstruction Loss: 14.341115882902992 \tKL Loss: 7.837489046663851\n",
            "\tEpoch 88 \tAverage Loss:  22.182533270051582 \tReconstruction Loss: 14.357807051610763 \tKL Loss: 7.824726274998492\n",
            "\tEpoch 89 \tAverage Loss:  22.1785085694302 \tReconstruction Loss: 14.353427149945704 \tKL Loss: 7.825081296942869\n",
            "\tEpoch 90 \tAverage Loss:  22.13431450685479 \tReconstruction Loss: 14.311057642638453 \tKL Loss: 7.823256885425464\n",
            "\tEpoch 91 \tAverage Loss:  22.164303134049227 \tReconstruction Loss: 14.303317319656431 \tKL Loss: 7.860985828532216\n",
            "\tEpoch 92 \tAverage Loss:  22.15148763177938 \tReconstruction Loss: 14.303515125407214 \tKL Loss: 7.847972598278385\n",
            "\tEpoch 93 \tAverage Loss:  22.148716112527147 \tReconstruction Loss: 14.278526686738356 \tKL Loss: 7.8701894187190815\n",
            "\tEpoch 94 \tAverage Loss:  22.10697817062319 \tReconstruction Loss: 14.245849887450229 \tKL Loss: 7.861128297312379\n",
            "\tEpoch 95 \tAverage Loss:  22.13836462072424 \tReconstruction Loss: 14.270355111494027 \tKL Loss: 7.868009436176551\n",
            "\tEpoch 96 \tAverage Loss:  22.12355628996742 \tReconstruction Loss: 14.264654743680623 \tKL Loss: 7.85890154864337\n",
            "\tEpoch 97 \tAverage Loss:  22.094967205975507 \tReconstruction Loss: 14.231320107949747 \tKL Loss: 7.863647109808609\n",
            "\tEpoch 98 \tAverage Loss:  22.076088193208555 \tReconstruction Loss: 14.218103244148166 \tKL Loss: 7.857984998548353\n",
            "\tEpoch 99 \tAverage Loss:  22.083964424280587 \tReconstruction Loss: 14.213148773075531 \tKL Loss: 7.870815615856509\n",
            "\tEpoch 100 \tAverage Loss:  22.064516262216458 \tReconstruction Loss: 14.203194367986848 \tKL Loss: 7.861321946074144\n",
            "Training complete!\n"
          ]
        }
      ]
    },
    {
      "cell_type": "code",
      "source": [
        "# plotting of losses\n",
        "plt.xlabel('epoch')\n",
        "plt.ylabel('loss')\n",
        "plt.plot(avg_losses, label='Avg Loss')\n",
        "plt.plot(recons_losses, label=\"Reconstruction Loss\")\n",
        "plt.plot(kl_losses, label=\"KL Loss\")\n",
        "plt.legend(bbox_to_anchor=(1.05, 1.0), loc='upper left')\n",
        "plt.show()"
      ],
      "metadata": {
        "id": "8wLVeDAK38Yb",
        "colab": {
          "base_uri": "https://localhost:8080/",
          "height": 279
        },
        "outputId": "0452ea44-50ec-479a-e8c0-13b66168b266"
      },
      "execution_count": 23,
      "outputs": [
        {
          "output_type": "display_data",
          "data": {
            "text/plain": [
              "<Figure size 432x288 with 1 Axes>"
            ],
            "image/png": "[encoded data removed]"
          },
          "metadata": {
            "needs_background": "light"
          }
        }
      ]
    },
    {
      "cell_type": "code",
      "source": [
        "# vae.eval()\n",
        "\n",
        "# representative_elbo_1 = []\n",
        "# representative_elbo_2 = []\n",
        "# representative_rec_1 = []\n",
        "# representative_rec_2 = []\n",
        "\n",
        "# with torch.no_grad():\n",
        "#     for x, _ in representative_loader_1:\n",
        "#         x = x.view(4, 1, 32, 32)\n",
        "#         x = x.to(DEVICE)\n",
        "#         x_rec, mu, log_sigma = vae(x)\n",
        "#         # sigma = torch.exp(logVar/2)\n",
        "#         # log_sigma = torch.log(sigma)\n",
        "#         # print(x.shape)\n",
        "#         # print(x_rec.shape)\n",
        "#         x = x.view(4, x_dim)\n",
        "#         x_rec = x_rec.view(4, x_dim)\n",
        "#         loss, rec, kl = loss_function(x, x_rec, mu, log_sigma)\n",
        "#         representative_elbo_1.append(loss.cpu().numpy())\n",
        "#         representative_rec_1.append(rec.cpu().numpy())\n",
        "\n",
        "# loss_sc = []\n",
        "# for i in representative_elbo_1:\n",
        "#     loss_sc.append((i,i))\n",
        "# plt.scatter(*zip(*loss_sc))\n",
        "# plt.axvline(150)"
      ],
      "metadata": {
        "id": "PQgdpEFfLvUY"
      },
      "execution_count": 24,
      "outputs": []
    },
    {
      "cell_type": "code",
      "source": [
        "# lower_threshold = 0.0\n",
        "# upper_threshold = 150\n",
        "# plt.figure(figsize=(12,6))\n",
        "# plt.title('Loss Distribution')\n",
        "# sns.distplot(representative_elbo_1,bins=100,kde=True, color='blue')\n",
        "# plt.axvline(upper_threshold, 0.0, 10, color='r')\n",
        "# plt.axvline(lower_threshold, 0.0, 10, color='b')"
      ],
      "metadata": {
        "id": "_-dL5_KILvQF"
      },
      "execution_count": 25,
      "outputs": []
    },
    {
      "cell_type": "code",
      "source": [
        ""
      ],
      "metadata": {
        "id": "Fe1fAaVTLvLV"
      },
      "execution_count": 25,
      "outputs": []
    },
    {
      "cell_type": "code",
      "source": [
        ""
      ],
      "metadata": {
        "id": "5OSwLrgmLvHf"
      },
      "execution_count": 25,
      "outputs": []
    },
    {
      "cell_type": "code",
      "source": [
        ""
      ],
      "metadata": {
        "id": "nj8nTBg-LvDh"
      },
      "execution_count": 25,
      "outputs": []
    },
    {
      "cell_type": "code",
      "source": [
        ""
      ],
      "metadata": {
        "id": "LfN3iQm8Lu_G"
      },
      "execution_count": 25,
      "outputs": []
    },
    {
      "cell_type": "code",
      "source": [
        ""
      ],
      "metadata": {
        "id": "2pXB-rAhLu3o"
      },
      "execution_count": 25,
      "outputs": []
    },
    {
      "cell_type": "code",
      "source": [
        "def elbo_elementwise(x, x_reconstr, mu, log_sigma):\n",
        "    reconstr_loss = torch.sum(nn.functional.mse_loss(x_reconstr, x, reduction='none'), dim=1)\n",
        "    constant_term = x_dim * 0.5 * np.log(np.pi)  # assuming sigma=1/sqrt(2)\n",
        "    kl_loss = 0.5 * torch.sum(mu.pow(2) + (2*log_sigma).exp() - 2*log_sigma - 1, dim=1)\n",
        "    elbo = - reconstr_loss - constant_term - kl_loss\n",
        "    return elbo, reconstr_loss, kl_loss"
      ],
      "metadata": {
        "id": "QJvIK40mByK9"
      },
      "execution_count": 26,
      "outputs": []
    },
    {
      "cell_type": "code",
      "source": [
        "vae.eval()\n",
        "\n",
        "representative_elbo_1 = []\n",
        "representative_elbo_2 = []\n",
        "representative_rec_1 = []\n",
        "representative_rec_2 = []\n",
        "\n",
        "with torch.no_grad():\n",
        "    for x, _ in representative_loader_1:\n",
        "        x = x.view(4, 1, 32, 32)\n",
        "        x = x.to(DEVICE)\n",
        "        x_rec, mu, log_sigma = vae(x)\n",
        "        # sigma = torch.exp(logVar/2)\n",
        "        # log_sigma = torch.log(sigma)\n",
        "        # print(x.shape)\n",
        "        # print(x_rec.shape)\n",
        "        x = x.view(4, x_dim)\n",
        "        x_rec = x_rec.view(4, x_dim)\n",
        "        elbo, rec, kl = elbo_elementwise(x, x_rec, mu, log_sigma)\n",
        "        representative_elbo_1.append(elbo.cpu().numpy())\n",
        "        representative_rec_1.append(rec.cpu().numpy())\n",
        "    \n",
        "    for x, _ in representative_loader_2:\n",
        "        x = x.view(4, 1, 32, 32)\n",
        "        x = x.to(DEVICE)\n",
        "        x_rec, mu, log_sigma = vae(x)\n",
        "        # sigma = torch.exp(logVar/2)\n",
        "        # log_sigma = torch.log(sigma)\n",
        "        x = x.view(4, x_dim)\n",
        "        x_rec = x_rec.view(4, x_dim)\n",
        "        elbo, rec, kl = elbo_elementwise(x, x_rec, mu, log_sigma)\n",
        "        representative_elbo_2.append(elbo.cpu().numpy())\n",
        "        representative_rec_2.append(rec.cpu().numpy())\n",
        "    \n",
        "representative_elbo_1 = np.concatenate(representative_elbo_1, 0)\n",
        "representative_elbo_2 = np.concatenate(representative_elbo_2, 0)\n",
        "representative_rec_1 = np.concatenate(representative_rec_1, 0)\n",
        "representative_rec_2 = np.concatenate(representative_rec_2, 0)\n",
        "\n",
        "print('elbo')\n",
        "plt.hist(representative_elbo_1, bins=100)\n",
        "plt.show()\n",
        "\n",
        "print('reconstruction loss')\n",
        "plt.hist(representative_rec_1, bins=100)\n",
        "plt.show()\n",
        "\n",
        "noise = torch.randn((100, 32), device=DEVICE)\n",
        "generated = decoder(noise).cpu()\n",
        "generated = generated.view(100, x_dim)\n",
        "print('generated images')\n",
        "show_images(generated)"
      ],
      "metadata": {
        "id": "rbCAYU3oByIL",
        "colab": {
          "base_uri": "https://localhost:8080/",
          "height": 678
        },
        "outputId": "aa0917ce-9914-4b7a-fe6c-54256c5826ab"
      },
      "execution_count": 27,
      "outputs": [
        {
          "output_type": "stream",
          "name": "stdout",
          "text": [
            "elbo\n"
          ]
        },
        {
          "output_type": "display_data",
          "data": {
            "text/plain": [
              "<Figure size 432x288 with 1 Axes>"
            ],
            "image/png": "[encoded data removed]"
          },
          "metadata": {
            "needs_background": "light"
          }
        },
        {
          "output_type": "stream",
          "name": "stdout",
          "text": [
            "reconstruction loss\n"
          ]
        },
        {
          "output_type": "display_data",
          "data": {
            "text/plain": [
              "<Figure size 432x288 with 1 Axes>"
            ],
            "image/png": "[encoded data removed]"
          },
          "metadata": {
            "needs_background": "light"
          }
        },
        {
          "output_type": "stream",
          "name": "stdout",
          "text": [
            "generated images\n"
          ]
        },
        {
          "output_type": "display_data",
          "data": {
            "text/plain": [
              "<Figure size 1440x144 with 10 Axes>"
            ],
            "image/png": "[encoded data removed]"
          },
          "metadata": {
            "needs_background": "light"
          }
        }
      ]
    },
    {
      "cell_type": "code",
      "source": [
        "representative_elbo_2"
      ],
      "metadata": {
        "id": "_6LO_aSDByF4",
        "colab": {
          "base_uri": "https://localhost:8080/"
        },
        "outputId": "ba9b4ada-b2fb-40fd-b33f-fd7bc4e0d298"
      },
      "execution_count": 28,
      "outputs": [
        {
          "output_type": "execute_result",
          "data": {
            "text/plain": [
              "array([-598.7303 , -615.11743, -602.9394 , ..., -608.07025, -596.02405,\n",
              "       -595.6976 ], dtype=float32)"
            ]
          },
          "metadata": {},
          "execution_count": 28
        }
      ]
    },
    {
      "cell_type": "code",
      "source": [
        "representative_dataset_2[0][1]"
      ],
      "metadata": {
        "id": "U1dzQxLfLhZL",
        "colab": {
          "base_uri": "https://localhost:8080/"
        },
        "outputId": "04a94083-1cad-4e37-95fa-86e81f42e768"
      },
      "execution_count": 29,
      "outputs": [
        {
          "output_type": "execute_result",
          "data": {
            "text/plain": [
              "tensor([1., 0., 0., 0., 0., 0.])"
            ]
          },
          "metadata": {},
          "execution_count": 29
        }
      ]
    },
    {
      "cell_type": "code",
      "source": [
        "representative_labels_1 = []\n",
        "for i in range(len(representative_dataset_1)):\n",
        "    if representative_dataset_1[i][1][5] == 1:\n",
        "        representative_labels_1.append(1)\n",
        "    else:\n",
        "        representative_labels_1.append(0)"
      ],
      "metadata": {
        "id": "FPOdZiATLhIx"
      },
      "execution_count": 30,
      "outputs": []
    },
    {
      "cell_type": "code",
      "source": [
        "scores_1 = - representative_elbo_1\n",
        "scores_1 = (scores_1 - scores_1.min())/(scores_1.max()-scores_1.min())"
      ],
      "metadata": {
        "id": "GOsEweh-LhF_"
      },
      "execution_count": 31,
      "outputs": []
    },
    {
      "cell_type": "code",
      "source": [
        "loss_sc = []\n",
        "for i in scores_1:\n",
        "    loss_sc.append((i,i))\n",
        "plt.scatter(*zip(*loss_sc))\n",
        "plt.axvline(150)"
      ],
      "metadata": {
        "id": "MylNix3Xg3c-",
        "colab": {
          "base_uri": "https://localhost:8080/",
          "height": 283
        },
        "outputId": "50a047b5-13ee-41d4-e141-95c16d1b4565"
      },
      "execution_count": 32,
      "outputs": [
        {
          "output_type": "execute_result",
          "data": {
            "text/plain": [
              "<matplotlib.lines.Line2D at 0x7fb1f1ae5590>"
            ]
          },
          "metadata": {},
          "execution_count": 32
        },
        {
          "output_type": "display_data",
          "data": {
            "text/plain": [
              "<Figure size 432x288 with 1 Axes>"
            ],
            "image/png": "[encoded data removed]"
          },
          "metadata": {
            "needs_background": "light"
          }
        }
      ]
    },
    {
      "cell_type": "code",
      "source": [
        "lower_threshold = 0.0\n",
        "upper_threshold = 0.3\n",
        "plt.figure(figsize=(12,6))\n",
        "plt.title('Loss Distribution')\n",
        "sns.distplot(scores_1,bins=100,kde=True, color='blue')\n",
        "plt.axvline(upper_threshold, 0.0, 10, color='r')\n",
        "# plt.axvline(lower_threshold, 0.0, 10, color='b')"
      ],
      "metadata": {
        "id": "_xEBmgAtjBjy",
        "colab": {
          "base_uri": "https://localhost:8080/",
          "height": 464
        },
        "outputId": "3beb7c9e-7252-43f0-ada9-3723cc1d3550"
      },
      "execution_count": 33,
      "outputs": [
        {
          "output_type": "stream",
          "name": "stderr",
          "text": [
            "/usr/local/lib/python3.7/dist-packages/seaborn/distributions.py:2619: FutureWarning: `distplot` is a deprecated function and will be removed in a future version. Please adapt your code to use either `displot` (a figure-level function with similar flexibility) or `histplot` (an axes-level function for histograms).\n",
            "  warnings.warn(msg, FutureWarning)\n"
          ]
        },
        {
          "output_type": "execute_result",
          "data": {
            "text/plain": [
              "<matplotlib.lines.Line2D at 0x7fb1f1b635d0>"
            ]
          },
          "metadata": {},
          "execution_count": 33
        },
        {
          "output_type": "display_data",
          "data": {
            "text/plain": [
              "<Figure size 864x432 with 1 Axes>"
            ],
            "image/png": "[encoded data removed]"
          },
          "metadata": {
            "needs_background": "light"
          }
        }
      ]
    },
    {
      "cell_type": "code",
      "source": [
        "scores_1_norm = np.where(scores_1 > 0.3, 1, 0)\n",
        "print(confusion_matrix(representative_labels_1, scores_1_norm))"
      ],
      "metadata": {
        "id": "GH4d87Hs7tjq",
        "colab": {
          "base_uri": "https://localhost:8080/"
        },
        "outputId": "308eb102-abdb-4127-e219-d2697bab31cd"
      },
      "execution_count": 34,
      "outputs": [
        {
          "output_type": "stream",
          "name": "stdout",
          "text": [
            "[[998   2]\n",
            " [ 34  18]]\n"
          ]
        }
      ]
    },
    {
      "cell_type": "code",
      "source": [
        "tn, fp, fn, tp = confusion_matrix(representative_labels_1, scores_1_norm).ravel()\n",
        "(tn, fp, fn, tp)"
      ],
      "metadata": {
        "id": "SCOSqIkA-vg3",
        "colab": {
          "base_uri": "https://localhost:8080/"
        },
        "outputId": "2299209e-de37-4443-8cc6-663190c44df6"
      },
      "execution_count": 35,
      "outputs": [
        {
          "output_type": "execute_result",
          "data": {
            "text/plain": [
              "(998, 2, 34, 18)"
            ]
          },
          "metadata": {},
          "execution_count": 35
        }
      ]
    },
    {
      "cell_type": "code",
      "source": [
        "conf = [[tn,fp],[fn,tp]]\n",
        "plt.figure()\n",
        "sns.heatmap(conf,annot=True,annot_kws={\"size\": 16},fmt='g')"
      ],
      "metadata": {
        "id": "wAIamGBPHcBQ",
        "colab": {
          "base_uri": "https://localhost:8080/",
          "height": 283
        },
        "outputId": "abf8f42a-b399-49ec-cd43-27e476eedf0c"
      },
      "execution_count": 36,
      "outputs": [
        {
          "output_type": "execute_result",
          "data": {
            "text/plain": [
              "<matplotlib.axes._subplots.AxesSubplot at 0x7fb1f8195110>"
            ]
          },
          "metadata": {},
          "execution_count": 36
        },
        {
          "output_type": "display_data",
          "data": {
            "text/plain": [
              "<Figure size 432x288 with 2 Axes>"
            ],
            "image/png": "[encoded data removed]"
          },
          "metadata": {
            "needs_background": "light"
          }
        }
      ]
    },
    {
      "cell_type": "code",
      "source": [
        "fpr, tpr, roc_thresholds = roc_curve(representative_labels_1, scores_1)\n",
        "precision, recall, pr_thresholds = precision_recall_curve(representative_labels_1, scores_1)\n",
        "roc_auc = auc(fpr, tpr)\n",
        "pr_auc = auc(recall, precision)\n",
        "\n",
        "print(f'roc_auc={roc_auc}')\n",
        "plt.figure()\n",
        "plt.plot(fpr, tpr, lw=2, label=f'ROC curve (area = {roc_auc:.2f})')\n",
        "plt.plot([0, 1], [0, 1], lw=1, linestyle=\"--\")\n",
        "plt.xlim([0.0, 1.0])\n",
        "plt.ylim([0.0, 1.0])\n",
        "plt.xlabel('False Positive Rate')\n",
        "plt.ylabel('True Positive Rate')\n",
        "plt.title('ROC curve for anomaly detection')\n",
        "plt.legend(loc='lower right')\n",
        "plt.show()\n",
        "\n",
        "\n",
        "print(f'pr_auc={pr_auc}')\n",
        "plt.figure()\n",
        "plt.plot(recall, precision, lw=2, label=f'Precision-Recall curve (area = {pr_auc:.2f})')\n",
        "plt.xlim([0.0, 1.0])\n",
        "plt.ylim([0.0, 1.0])\n",
        "plt.xlabel('Recall')\n",
        "plt.ylabel('Precision')\n",
        "plt.title('Precision-Recall curve for anomaly detection')\n",
        "plt.legend(loc='lower left')\n",
        "plt.show()"
      ],
      "metadata": {
        "id": "u59oJp4dLhDh",
        "colab": {
          "base_uri": "https://localhost:8080/",
          "height": 609
        },
        "outputId": "f5e88d0e-2e0b-4769-d542-fa44bf0b0e08"
      },
      "execution_count": 37,
      "outputs": [
        {
          "output_type": "stream",
          "name": "stdout",
          "text": [
            "roc_auc=0.9214230769230769\n"
          ]
        },
        {
          "output_type": "display_data",
          "data": {
            "text/plain": [
              "<Figure size 432x288 with 1 Axes>"
            ],
            "image/png": "[encoded data removed]"
          },
          "metadata": {
            "needs_background": "light"
          }
        },
        {
          "output_type": "stream",
          "name": "stdout",
          "text": [
            "pr_auc=0.6177449500970102\n"
          ]
        },
        {
          "output_type": "display_data",
          "data": {
            "text/plain": [
              "<Figure size 432x288 with 1 Axes>"
            ],
            "image/png": "[encoded data removed]"
          },
          "metadata": {
            "needs_background": "light"
          }
        }
      ]
    },
    {
      "cell_type": "code",
      "source": [
        "roc_auc_score(representative_labels_1, scores_1)"
      ],
      "metadata": {
        "id": "zcq-74aMLhAs",
        "colab": {
          "base_uri": "https://localhost:8080/"
        },
        "outputId": "965ced56-054f-4de0-fec1-89595245e239"
      },
      "execution_count": 38,
      "outputs": [
        {
          "output_type": "execute_result",
          "data": {
            "text/plain": [
              "0.9214230769230769"
            ]
          },
          "metadata": {},
          "execution_count": 38
        }
      ]
    },
    {
      "cell_type": "code",
      "source": [
        "representative_labels_2 = []\n",
        "for i in range(len(representative_dataset_2)):\n",
        "    if representative_dataset_2[i][1][5] == 1:\n",
        "        representative_labels_2.append(1)\n",
        "    else:\n",
        "        representative_labels_2.append(0)"
      ],
      "metadata": {
        "id": "YcfmygviRtO7"
      },
      "execution_count": 39,
      "outputs": []
    },
    {
      "cell_type": "code",
      "source": [
        "scores_2 = - representative_elbo_2\n",
        "scores_2 = (scores_2 - scores_2.min())/(scores_2.max()-scores_2.min())"
      ],
      "metadata": {
        "id": "iEEtnVZnRs2e"
      },
      "execution_count": 40,
      "outputs": []
    },
    {
      "cell_type": "code",
      "source": [
        "lower_threshold = 0.0\n",
        "upper_threshold = 0.3\n",
        "plt.figure(figsize=(12,6))\n",
        "plt.title('Loss Distribution')\n",
        "sns.distplot(scores_2,bins=100,kde=True, color='blue')\n",
        "plt.axvline(upper_threshold, 0.0, 10, color='r')\n",
        "# plt.axvline(lower_threshold, 0.0, 10, color='b')"
      ],
      "metadata": {
        "colab": {
          "base_uri": "https://localhost:8080/",
          "height": 464
        },
        "id": "q5X2EzCmIwaN",
        "outputId": "b6ed7d75-b1f9-4983-a1c3-b680f1f3b23e"
      },
      "execution_count": 41,
      "outputs": [
        {
          "output_type": "stream",
          "name": "stderr",
          "text": [
            "/usr/local/lib/python3.7/dist-packages/seaborn/distributions.py:2619: FutureWarning: `distplot` is a deprecated function and will be removed in a future version. Please adapt your code to use either `displot` (a figure-level function with similar flexibility) or `histplot` (an axes-level function for histograms).\n",
            "  warnings.warn(msg, FutureWarning)\n"
          ]
        },
        {
          "output_type": "execute_result",
          "data": {
            "text/plain": [
              "<matplotlib.lines.Line2D at 0x7fb1f0e4ba50>"
            ]
          },
          "metadata": {},
          "execution_count": 41
        },
        {
          "output_type": "display_data",
          "data": {
            "text/plain": [
              "<Figure size 864x432 with 1 Axes>"
            ],
            "image/png": "[encoded data removed]"
          },
          "metadata": {
            "needs_background": "light"
          }
        }
      ]
    },
    {
      "cell_type": "code",
      "source": [
        "scores_2_norm = np.where(scores_2 > 0.3, 1, 0)\n",
        "print(confusion_matrix(representative_labels_2, scores_2_norm))"
      ],
      "metadata": {
        "id": "CCFjt0wBHvI1",
        "colab": {
          "base_uri": "https://localhost:8080/"
        },
        "outputId": "b3d15089-4b5d-4d3d-dd1e-4156efc055ee"
      },
      "execution_count": 42,
      "outputs": [
        {
          "output_type": "stream",
          "name": "stdout",
          "text": [
            "[[999   1]\n",
            " [ 38  14]]\n"
          ]
        }
      ]
    },
    {
      "cell_type": "code",
      "source": [
        "fpr, tpr, roc_thresholds = roc_curve(representative_labels_2, scores_2)\n",
        "precision, recall, pr_thresholds = precision_recall_curve(representative_labels_2, scores_2)\n",
        "roc_auc = auc(fpr, tpr)\n",
        "pr_auc = auc(recall, precision)\n",
        "\n",
        "print(f'roc_auc={roc_auc}')\n",
        "plt.figure()\n",
        "plt.plot(fpr, tpr, lw=2, label=f'ROC curve (area = {roc_auc:.2f})')\n",
        "plt.plot([0, 1], [0, 1], lw=1, linestyle=\"--\")\n",
        "plt.xlim([0.0, 1.0])\n",
        "plt.ylim([0.0, 1.0])\n",
        "plt.xlabel('False Positive Rate')\n",
        "plt.ylabel('True Positive Rate')\n",
        "plt.title('ROC curve for anomaly detection')\n",
        "plt.legend(loc='lower right')\n",
        "plt.show()\n",
        "\n",
        "\n",
        "print(f'pr_auc={pr_auc}')\n",
        "plt.figure()\n",
        "plt.plot(recall, precision, lw=2, label=f'Precision-Recall curve (area = {pr_auc:.2f})')\n",
        "plt.xlim([0.0, 1.0])\n",
        "plt.ylim([0.0, 1.0])\n",
        "plt.xlabel('Recall')\n",
        "plt.ylabel('Precision')\n",
        "plt.title('Precision-Recall curve for anomaly detection')\n",
        "plt.legend(loc='lower left')\n",
        "plt.show()"
      ],
      "metadata": {
        "id": "vNIROJZqRsu7",
        "colab": {
          "base_uri": "https://localhost:8080/",
          "height": 609
        },
        "outputId": "348fcf99-2ded-4f17-cb45-ac1e642aba62"
      },
      "execution_count": 43,
      "outputs": [
        {
          "output_type": "stream",
          "name": "stdout",
          "text": [
            "roc_auc=0.9279230769230769\n"
          ]
        },
        {
          "output_type": "display_data",
          "data": {
            "text/plain": [
              "<Figure size 432x288 with 1 Axes>"
            ],
            "image/png": "[encoded data removed]"
          },
          "metadata": {
            "needs_background": "light"
          }
        },
        {
          "output_type": "stream",
          "name": "stdout",
          "text": [
            "pr_auc=0.6291387559840487\n"
          ]
        },
        {
          "output_type": "display_data",
          "data": {
            "text/plain": [
              "<Figure size 432x288 with 1 Axes>"
            ],
            "image/png": "[encoded data removed]"
          },
          "metadata": {
            "needs_background": "light"
          }
        }
      ]
    },
    {
      "cell_type": "code",
      "source": [
        ""
      ],
      "metadata": {
        "id": "Ny-uuvXORsqQ"
      },
      "execution_count": 43,
      "outputs": []
    },
    {
      "cell_type": "markdown",
      "metadata": {
        "id": "gsNW9Be1tPOF"
      },
      "source": [
        "# Data augmentation and pipeline"
      ]
    },
    {
      "cell_type": "code",
      "execution_count": 44,
      "metadata": {
        "id": "kJH7ma_ntPOG"
      },
      "outputs": [],
      "source": [
        "# code for data augmentation pipeline "
      ]
    },
    {
      "cell_type": "markdown",
      "metadata": {
        "id": "q3nO6cYLtPOH"
      },
      "source": [
        "# Model definitions"
      ]
    },
    {
      "cell_type": "code",
      "execution_count": 45,
      "metadata": {
        "id": "SG5jCWY1tPOI"
      },
      "outputs": [],
      "source": [
        "# code for model definitions goes here"
      ]
    },
    {
      "cell_type": "markdown",
      "metadata": {
        "id": "uVd_dcr3tPOJ"
      },
      "source": [
        "# Training and validation loop"
      ]
    },
    {
      "cell_type": "code",
      "execution_count": 46,
      "metadata": {
        "id": "MoLsjObOtPOK"
      },
      "outputs": [],
      "source": [
        "# write your training and validation loop here"
      ]
    },
    {
      "cell_type": "code",
      "execution_count": 47,
      "metadata": {
        "id": "yfL6FWhDtPOK"
      },
      "outputs": [],
      "source": [
        "# perform training"
      ]
    },
    {
      "cell_type": "markdown",
      "metadata": {
        "id": "BaT9i1nLtPOL"
      },
      "source": [
        "# Inspection, Validation, and Analysis\n",
        "\n"
      ]
    },
    {
      "cell_type": "code",
      "execution_count": 48,
      "metadata": {
        "id": "F7jn_eUPtPOL"
      },
      "outputs": [],
      "source": [
        "# Inspect, validate, and analyse your trained model"
      ]
    },
    {
      "cell_type": "code",
      "source": [
        ""
      ],
      "metadata": {
        "id": "2AUviTTFLguj"
      },
      "execution_count": 48,
      "outputs": []
    },
    {
      "cell_type": "markdown",
      "source": [
        "# Task 4.3"
      ],
      "metadata": {
        "id": "rDKdLc22t4D2"
      }
    },
    {
      "cell_type": "code",
      "source": [
        "#vae_encoder = vae.encoder\n",
        "for param in vae.encoder.parameters():\n",
        "    param.requires_grad = False"
      ],
      "metadata": {
        "id": "onfm5J26Xxp8"
      },
      "execution_count": 150,
      "outputs": []
    },
    {
      "cell_type": "code",
      "source": [
        "class VAE4_3(nn.Module):\n",
        "    def __init__(self):\n",
        "        super(VAE4_3, self).__init__()\n",
        "        self.vae = vae.encoder\n",
        "        self.fc = nn.Linear(32, 256)\n",
        "        self.fc1 = nn.Linear(256, 512)\n",
        "        self.fcOut = nn.Linear(512, 5)\n",
        "        self.softmax = nn.Softmax()\n",
        "                \n",
        "    def forward(self, x):\n",
        "        z, mu, log_sigma = self.vae(x)\n",
        "        output = self.fc(z)\n",
        "        output = self.fc1(output)\n",
        "        return self.softmax(self.fcOut(output))\n",
        "\n",
        "DEVICE = torch.device('cuda:0' if torch.cuda.is_available() else 'cpu')\n",
        "\n",
        "vae4_3 = VAE4_3().to(DEVICE)"
      ],
      "metadata": {
        "id": "07uU29AWt765"
      },
      "execution_count": 151,
      "outputs": []
    },
    {
      "cell_type": "code",
      "source": [
        "# from PIL import Image\n",
        "# import torchvision.transforms as T\n",
        "\n",
        "# def sample_and_transform(train_data,labels,sample_rate=0.5): \n",
        "#   idxs = np.random.randint(0,len(train_data),int(len(train_data)*sample_rate))\n",
        "#   affine_transformer = T.RandomAffine(degrees=0,translate=(0.1,0.1),scale = (1,1.1),fill=1)\n",
        "#   new_samples = []\n",
        "#   new_samples_lbls = []\n",
        "#   for idx in idxs:\n",
        "#     sample = train_data[idx,:]\n",
        "#     new_sample = []\n",
        "#     new_sample_lbls = []\n",
        "#     for id,img in enumerate(sample):\n",
        "#       im = Image.fromarray(img)\n",
        "#       im = affine_transformer.forward(im)\n",
        "#       new_sample.append(np.asarray(im))\n",
        "#       if id < 5:\n",
        "#         new_sample_lbls.append(labels[idx,id])\n",
        "#     new_samples.append(new_sample)\n",
        "#     new_samples_lbls.append(new_sample_lbls)\n",
        "#   new_samples = np.array(new_samples)\n",
        "#   new_samples_lbls = np.array(new_samples_lbls)\n",
        "#   # Generate new sample from data augmentation and concatenate to training data\n",
        "#   return np.concatenate((train_data,new_samples)),np.concatenate((labels,new_samples_lbls))"
      ],
      "metadata": {
        "id": "1fAltF4KJZeB"
      },
      "execution_count": 152,
      "outputs": []
    },
    {
      "cell_type": "code",
      "source": [
        "anomaly_1_index = np.argmax(representative_set_1_y, axis=1)\n",
        "rep_1_X = np.delete(representative_set_1_X, np.where(anomaly_1_index==5), axis=0)\n",
        "rep_1_y = np.delete(representative_set_1_y, np.where(anomaly_1_index==5), axis=0)\n",
        "rep_1_y = np.delete(rep_1_y, 5, 1) "
      ],
      "metadata": {
        "id": "--E8oLRXOD2Z"
      },
      "execution_count": 153,
      "outputs": []
    },
    {
      "cell_type": "code",
      "source": [
        "anomaly_2_index = np.argmax(representative_set_2_y, axis=1)\n",
        "rep_2_X = np.delete(representative_set_2_X, np.where(anomaly_2_index==5), axis=0)\n",
        "rep_2_y = np.delete(representative_set_2_y, np.where(anomaly_2_index==5), axis=0)\n",
        "rep_2_y = np.delete(rep_2_y, 5, 1)"
      ],
      "metadata": {
        "id": "j_bCeS6kQHx7"
      },
      "execution_count": 154,
      "outputs": []
    },
    {
      "cell_type": "code",
      "source": [
        "data_X = np.concatenate((labeled_data_X, rep_1_X), axis=0)\n",
        "data_y = np.concatenate((labeled_data_y, rep_1_y), axis=0)"
      ],
      "metadata": {
        "id": "iOSHPEAcQHvn"
      },
      "execution_count": 155,
      "outputs": []
    },
    {
      "cell_type": "code",
      "source": [
        ""
      ],
      "metadata": {
        "id": "GPF053gJQHsZ"
      },
      "execution_count": 155,
      "outputs": []
    },
    {
      "cell_type": "code",
      "source": [
        "from sklearn.model_selection import train_test_split\n",
        "\n",
        "# choose a training dataset size and further divide it into train and validation set 80:20\n",
        "train_data, val_data, train_label, val_label = train_test_split(data_X, data_y, train_size = 0.8, random_state=13)\n",
        "\n",
        "# We do data transformations only on training data.\n",
        "#train_data, train_label = sample_and_transform(train_data, train_label, sample_rate = 0.5)\n",
        "\n",
        "train_dataset=LabelDataset(train_data,train_label)\n",
        "val_dataset = LabelDataset(val_data,val_label)\n",
        "test_dataset = LabelDataset(rep_2_X, rep_2_y)\n",
        "\n",
        "train_loader = torch.utils.data.DataLoader(train_dataset, batch_size=batch_size)\n",
        "val_loader = torch.utils.data.DataLoader(val_dataset, batch_size=batch_size)\n",
        "test_loader = torch.utils.data.DataLoader(test_dataset, batch_size=batch_size)"
      ],
      "metadata": {
        "id": "iuhe_3hBZcBX"
      },
      "execution_count": 156,
      "outputs": []
    },
    {
      "cell_type": "code",
      "source": [
        "class_loss = nn.CrossEntropyLoss()"
      ],
      "metadata": {
        "id": "OGR4d4wm4VFK"
      },
      "execution_count": 157,
      "outputs": []
    },
    {
      "cell_type": "code",
      "source": [
        "optimizer = Adam(vae4_3.parameters(), lr=1e-3)\n",
        "epochs = 100\n",
        "print(\"Training VAE for classification...\")\n",
        "\n",
        "train_losses = []\n",
        "val_losses = []\n",
        "\n",
        "for epoch in range(epochs):\n",
        "    running_loss = 0.0\n",
        "    vae4_3.train()\n",
        "    for img, label in train_loader:\n",
        "        img = img.view(batch_size, 1, 32, 32)\n",
        "        img = img.to(DEVICE)\n",
        "\n",
        "        label = label.to(DEVICE)\n",
        "\n",
        "        output_en = vae4_3(img)\n",
        "        # print(output_en)\n",
        "        # print(label)\n",
        "        # breakpoint()\n",
        "        loss = class_loss(output_en, label)\n",
        "        optimizer.zero_grad()\n",
        "        loss.backward()\n",
        "        optimizer.step()\n",
        "\n",
        "        running_loss += loss.item()\n",
        "        \n",
        "    avg_loss = running_loss/len(train_loader)\n",
        "    train_losses.append(avg_loss)\n",
        "    # recons_losses.append(overall_reconstr_loss / n_datapoints)\n",
        "    # kl_losses.append(overall_kl_loss / n_datapoints)\n",
        "    #print('Epoch {}: Loss {}'.format(epoch, loss))\n",
        "\n",
        "    # ============ Validation ============ #\n",
        "\n",
        "    val_running_loss = 0.0\n",
        "    with torch.no_grad():\n",
        "        vae4_3.eval()\n",
        "        for val_img, label in val_loader:\n",
        "            val_img = val_img.view(batch_size, 1, 32, 32)\n",
        "            val_img = val_img.to(DEVICE)\n",
        "\n",
        "            label = label.to(DEVICE)\n",
        "            output_en = vae4_3(val_img)\n",
        "            # print(output_en)\n",
        "            # print(label)\n",
        "            # breakpoint()\n",
        "            loss = class_loss(output_en, label)\n",
        "\n",
        "            val_running_loss += loss.item()\n",
        "            \n",
        "        avg_val_loss = val_running_loss/len(val_loader)\n",
        "        val_losses.append(avg_val_loss)\n",
        "\n",
        "    print('Epoch [{}/{}], train_loss: {:.4f}, val_loss: {:.4f}'\n",
        "            .format(epoch+1, epochs, avg_loss, avg_val_loss))\n",
        "    \n",
        "print(\"Training complete!\")"
      ],
      "metadata": {
        "id": "WAuxHg6W0_y5",
        "colab": {
          "base_uri": "https://localhost:8080/"
        },
        "outputId": "eabeba5e-4b52-41a6-d0e5-56239292fbf7"
      },
      "execution_count": 158,
      "outputs": [
        {
          "output_type": "stream",
          "name": "stdout",
          "text": [
            "Training VAE for classification...\n"
          ]
        },
        {
          "output_type": "stream",
          "name": "stderr",
          "text": [
            "/usr/local/lib/python3.7/dist-packages/ipykernel_launcher.py:14: UserWarning: Implicit dimension choice for softmax has been deprecated. Change the call to include dim=X as an argument.\n",
            "  \n"
          ]
        },
        {
          "output_type": "stream",
          "name": "stdout",
          "text": [
            "Epoch [1/100], train_loss: 1.3206, val_loss: 1.1471\n",
            "Epoch [2/100], train_loss: 1.1109, val_loss: 1.1001\n",
            "Epoch [3/100], train_loss: 1.0996, val_loss: 1.0984\n",
            "Epoch [4/100], train_loss: 1.0828, val_loss: 1.0902\n",
            "Epoch [5/100], train_loss: 1.0814, val_loss: 1.0749\n",
            "Epoch [6/100], train_loss: 1.0829, val_loss: 1.0875\n",
            "Epoch [7/100], train_loss: 1.0806, val_loss: 1.0755\n",
            "Epoch [8/100], train_loss: 1.0800, val_loss: 1.0635\n",
            "Epoch [9/100], train_loss: 1.0746, val_loss: 1.0877\n",
            "Epoch [10/100], train_loss: 1.0755, val_loss: 1.0752\n",
            "Epoch [11/100], train_loss: 1.0775, val_loss: 1.0915\n",
            "Epoch [12/100], train_loss: 1.0678, val_loss: 1.0964\n",
            "Epoch [13/100], train_loss: 1.0781, val_loss: 1.0663\n",
            "Epoch [14/100], train_loss: 1.0748, val_loss: 1.0818\n",
            "Epoch [15/100], train_loss: 1.0708, val_loss: 1.0682\n",
            "Epoch [16/100], train_loss: 1.0706, val_loss: 1.0683\n",
            "Epoch [17/100], train_loss: 1.0721, val_loss: 1.0442\n",
            "Epoch [18/100], train_loss: 1.0654, val_loss: 1.0596\n",
            "Epoch [19/100], train_loss: 1.0816, val_loss: 1.0670\n",
            "Epoch [20/100], train_loss: 1.0712, val_loss: 1.0724\n",
            "Epoch [21/100], train_loss: 1.0696, val_loss: 1.0841\n",
            "Epoch [22/100], train_loss: 1.0729, val_loss: 1.0805\n",
            "Epoch [23/100], train_loss: 1.0731, val_loss: 1.0562\n",
            "Epoch [24/100], train_loss: 1.0719, val_loss: 1.0682\n",
            "Epoch [25/100], train_loss: 1.0702, val_loss: 1.0925\n",
            "Epoch [26/100], train_loss: 1.0766, val_loss: 1.0785\n",
            "Epoch [27/100], train_loss: 1.0683, val_loss: 1.0630\n",
            "Epoch [28/100], train_loss: 1.0790, val_loss: 1.0672\n",
            "Epoch [29/100], train_loss: 1.0628, val_loss: 1.0524\n",
            "Epoch [30/100], train_loss: 1.0717, val_loss: 1.0655\n",
            "Epoch [31/100], train_loss: 1.0728, val_loss: 1.0771\n",
            "Epoch [32/100], train_loss: 1.0752, val_loss: 1.0703\n",
            "Epoch [33/100], train_loss: 1.0730, val_loss: 1.0806\n",
            "Epoch [34/100], train_loss: 1.0802, val_loss: 1.0631\n",
            "Epoch [35/100], train_loss: 1.0637, val_loss: 1.0764\n",
            "Epoch [36/100], train_loss: 1.0737, val_loss: 1.0745\n",
            "Epoch [37/100], train_loss: 1.0744, val_loss: 1.0793\n",
            "Epoch [38/100], train_loss: 1.0688, val_loss: 1.0742\n",
            "Epoch [39/100], train_loss: 1.0735, val_loss: 1.0681\n",
            "Epoch [40/100], train_loss: 1.0699, val_loss: 1.0770\n",
            "Epoch [41/100], train_loss: 1.0771, val_loss: 1.0580\n",
            "Epoch [42/100], train_loss: 1.0754, val_loss: 1.0696\n",
            "Epoch [43/100], train_loss: 1.0790, val_loss: 1.0759\n",
            "Epoch [44/100], train_loss: 1.0773, val_loss: 1.0642\n",
            "Epoch [45/100], train_loss: 1.0663, val_loss: 1.0736\n",
            "Epoch [46/100], train_loss: 1.0808, val_loss: 1.0641\n",
            "Epoch [47/100], train_loss: 1.0783, val_loss: 1.0718\n",
            "Epoch [48/100], train_loss: 1.0666, val_loss: 1.0901\n",
            "Epoch [49/100], train_loss: 1.0732, val_loss: 1.0594\n",
            "Epoch [50/100], train_loss: 1.0705, val_loss: 1.0674\n",
            "Epoch [51/100], train_loss: 1.0702, val_loss: 1.0581\n",
            "Epoch [52/100], train_loss: 1.0772, val_loss: 1.0742\n",
            "Epoch [53/100], train_loss: 1.0817, val_loss: 1.0592\n",
            "Epoch [54/100], train_loss: 1.0762, val_loss: 1.0785\n",
            "Epoch [55/100], train_loss: 1.0731, val_loss: 1.0898\n",
            "Epoch [56/100], train_loss: 1.0713, val_loss: 1.0607\n",
            "Epoch [57/100], train_loss: 1.0784, val_loss: 1.0750\n",
            "Epoch [58/100], train_loss: 1.0781, val_loss: 1.0727\n",
            "Epoch [59/100], train_loss: 1.0808, val_loss: 1.0881\n",
            "Epoch [60/100], train_loss: 1.0695, val_loss: 1.0735\n",
            "Epoch [61/100], train_loss: 1.0684, val_loss: 1.0577\n",
            "Epoch [62/100], train_loss: 1.0747, val_loss: 1.0672\n",
            "Epoch [63/100], train_loss: 1.0730, val_loss: 1.0704\n",
            "Epoch [64/100], train_loss: 1.0736, val_loss: 1.0626\n",
            "Epoch [65/100], train_loss: 1.0763, val_loss: 1.0790\n",
            "Epoch [66/100], train_loss: 1.0707, val_loss: 1.0703\n",
            "Epoch [67/100], train_loss: 1.0764, val_loss: 1.0819\n",
            "Epoch [68/100], train_loss: 1.0669, val_loss: 1.0716\n",
            "Epoch [69/100], train_loss: 1.0727, val_loss: 1.0634\n",
            "Epoch [70/100], train_loss: 1.0758, val_loss: 1.0822\n",
            "Epoch [71/100], train_loss: 1.0740, val_loss: 1.0729\n",
            "Epoch [72/100], train_loss: 1.0739, val_loss: 1.0786\n",
            "Epoch [73/100], train_loss: 1.0779, val_loss: 1.0648\n",
            "Epoch [74/100], train_loss: 1.0691, val_loss: 1.0585\n",
            "Epoch [75/100], train_loss: 1.0705, val_loss: 1.0767\n",
            "Epoch [76/100], train_loss: 1.0775, val_loss: 1.0832\n",
            "Epoch [77/100], train_loss: 1.0858, val_loss: 1.0644\n",
            "Epoch [78/100], train_loss: 1.0763, val_loss: 1.0722\n",
            "Epoch [79/100], train_loss: 1.0758, val_loss: 1.0577\n",
            "Epoch [80/100], train_loss: 1.0817, val_loss: 1.0896\n",
            "Epoch [81/100], train_loss: 1.0796, val_loss: 1.0748\n",
            "Epoch [82/100], train_loss: 1.0676, val_loss: 1.0495\n",
            "Epoch [83/100], train_loss: 1.0786, val_loss: 1.0705\n",
            "Epoch [84/100], train_loss: 1.0752, val_loss: 1.0738\n",
            "Epoch [85/100], train_loss: 1.0695, val_loss: 1.0877\n",
            "Epoch [86/100], train_loss: 1.0768, val_loss: 1.0887\n",
            "Epoch [87/100], train_loss: 1.0735, val_loss: 1.0840\n",
            "Epoch [88/100], train_loss: 1.0772, val_loss: 1.0690\n",
            "Epoch [89/100], train_loss: 1.0735, val_loss: 1.0513\n",
            "Epoch [90/100], train_loss: 1.0817, val_loss: 1.0636\n",
            "Epoch [91/100], train_loss: 1.0658, val_loss: 1.0647\n",
            "Epoch [92/100], train_loss: 1.0726, val_loss: 1.0658\n",
            "Epoch [93/100], train_loss: 1.0809, val_loss: 1.0736\n",
            "Epoch [94/100], train_loss: 1.0632, val_loss: 1.0789\n",
            "Epoch [95/100], train_loss: 1.0721, val_loss: 1.0826\n",
            "Epoch [96/100], train_loss: 1.0718, val_loss: 1.0631\n",
            "Epoch [97/100], train_loss: 1.0739, val_loss: 1.0620\n",
            "Epoch [98/100], train_loss: 1.0829, val_loss: 1.0756\n",
            "Epoch [99/100], train_loss: 1.0753, val_loss: 1.0639\n",
            "Epoch [100/100], train_loss: 1.0743, val_loss: 1.0837\n",
            "Training complete!\n"
          ]
        }
      ]
    },
    {
      "cell_type": "code",
      "source": [
        "optimizer = Adam(vae4_3.parameters(), lr=1e-3)\n",
        "print(\"Testing VAE for classification...\")\n",
        "\n",
        "avg_test_losses = []\n",
        "test_accuracy = []\n",
        "\n",
        "test_running_loss = 0.0\n",
        "with torch.no_grad():\n",
        "    vae4_3.eval()\n",
        "    for test_img, label in test_loader:\n",
        "        curr_test_acc = 0\n",
        "        test_img = test_img.view(batch_size, 1, 32, 32)\n",
        "        test_img = test_img.to(DEVICE)\n",
        "\n",
        "        label = label.to(DEVICE)\n",
        "\n",
        "        output_en = vae4_3(test_img)\n",
        "       \n",
        "        loss = class_loss(output_en, label)\n",
        "        test_running_loss += loss.item()\n",
        "        output = np.zeros_like(output_en.cpu())\n",
        "        output[np.arange(len(output_en.cpu())), output_en.cpu().argmax(1)] = 1\n",
        "        output = torch.from_numpy(output).to(DEVICE)\n",
        "        for i in range(len(output)):\n",
        "            if(torch.all(output[i].eq(label[i]))):\n",
        "                curr_test_acc += 1\n",
        "        \n",
        "        curr_test_acc = curr_test_acc/batch_size\n",
        "        test_accuracy.append(curr_test_acc)\n",
        "        \n",
        "    avg_test_loss = test_running_loss/len(test_loader)\n",
        "\n",
        "print('avg_test_loss: {:.4f}, avg_test_acc: {:.2f}'\n",
        "        .format(avg_test_loss, np.mean(test_accuracy)))"
      ],
      "metadata": {
        "id": "yAfDWDsa4Amr",
        "colab": {
          "base_uri": "https://localhost:8080/"
        },
        "outputId": "4eb41d09-a561-4605-c5ea-fb342bd9dd57"
      },
      "execution_count": 179,
      "outputs": [
        {
          "output_type": "stream",
          "name": "stdout",
          "text": [
            "Testing VAE for classification...\n",
            "avg_test_loss: 1.0871, avg_test_acc: 0.82\n"
          ]
        },
        {
          "output_type": "stream",
          "name": "stderr",
          "text": [
            "/usr/local/lib/python3.7/dist-packages/ipykernel_launcher.py:14: UserWarning: Implicit dimension choice for softmax has been deprecated. Change the call to include dim=X as an argument.\n",
            "  \n"
          ]
        }
      ]
    },
    {
      "cell_type": "code",
      "source": [
        ""
      ],
      "metadata": {
        "id": "Y1pOVw_Wjp6v"
      },
      "execution_count": 170,
      "outputs": []
    }
  ],
  "metadata": {
    "interpreter": {
      "hash": "93aa0139fa57dda094a7ddd49a7a44ee21342a7ee37e3f7e1205953a77a5c532"
    },
    "kernelspec": {
      "display_name": "Python 3.10.4",
      "language": "python",
      "name": "python3"
    },
    "language_info": {
      "codemirror_mode": {
        "name": "ipython",
        "version": 3
      },
      "file_extension": ".py",
      "mimetype": "text/x-python",
      "name": "python",
      "nbconvert_exporter": "python",
      "pygments_lexer": "ipython3",
      "version": "3.10.4"
    },
    "orig_nbformat": 4,
    "colab": {
      "name": "VAE_a4.ipynb",
      "provenance": [],
      "collapsed_sections": [],
      "machine_shape": "hm"
    },
    "accelerator": "GPU",
    "gpuClass": "standard"
  },
  "nbformat": 4,
  "nbformat_minor": 0
}
{
  "cells": [
    {
      "cell_type": "markdown",
      "id": "730fd591",
      "metadata": {
        "id": "730fd591"
      },
      "source": [
        "<a href=\"https://colab.research.google.com/github/vlamen/tue-deeplearning/blob/main/assignments/assignment_2_3/a2_skeleton.ipynb\" target=\"_parent\"><img src=\"https://colab.research.google.com/assets/colab-badge.svg\" alt=\"Open In Colab\"/></a>"
      ]
    },
    {
      "cell_type": "markdown",
      "id": "d32f8d18",
      "metadata": {
        "id": "d32f8d18"
      },
      "source": [
        "# Group Number:\n",
        "\n",
        "# Student 1:\n",
        "\n",
        "# Student 2:\n",
        "\n",
        "# Student 3:"
      ]
    },
    {
      "cell_type": "markdown",
      "id": "faec2056",
      "metadata": {
        "id": "faec2056"
      },
      "source": [
        "# Downloading Data and Preliminaries"
      ]
    },
    {
      "cell_type": "code",
      "execution_count": 264,
      "id": "7d0580a5",
      "metadata": {
        "id": "7d0580a5"
      },
      "outputs": [],
      "source": [
        "import pickle\n",
        "import matplotlib.pyplot as plt\n",
        "import matplotlib\n",
        "import numpy as np\n",
        "\n",
        "from zipfile import ZipFile\n",
        "import requests\n",
        "import io"
      ]
    },
    {
      "cell_type": "code",
      "execution_count": 265,
      "id": "b0756591",
      "metadata": {
        "id": "b0756591"
      },
      "outputs": [],
      "source": [
        "def load_zip(url):\n",
        "    response = requests.get(url)\n",
        "    response.raise_for_status()\n",
        "    zipf = ZipFile(io.BytesIO(response.content))\n",
        "    return {name: zipf.read(name) for name in zipf.namelist()}\n",
        "\n",
        "def load_array(zipfile, fn):\n",
        "    return np.load(io.BytesIO(zipfile[fn]))"
      ]
    },
    {
      "cell_type": "code",
      "execution_count": 266,
      "id": "bb77a4be",
      "metadata": {
        "id": "bb77a4be",
        "colab": {
          "base_uri": "https://localhost:8080/"
        },
        "outputId": "fc3113dd-d81c-449c-97d5-027773a6b55a"
      },
      "outputs": [
        {
          "output_type": "stream",
          "name": "stdout",
          "text": [
            "Shapes of the training data:\n",
            "\n",
            "positions: (10000, 4, 2, 5)\n",
            "velocities: (10000, 1, 2, 5)\n",
            "charges: (10000, 5, 1)\n"
          ]
        }
      ],
      "source": [
        "\"\"\"\n",
        "This cell loads the training, validation or test data as numpy arrays,\n",
        "with the positions, initial velocities and charge data of the particles.\n",
        "\n",
        "The position arrays are shaped as\n",
        "[simulation id, time point (corresponding to t = 0, 0.5, 1 or 1.5), x/y spatial dimension, particle id].\n",
        "\n",
        "The initial velocity arrays are shaped as\n",
        "[simulation id, 1 (corresponding to t=0), x/y spatial dimension, particle id].\n",
        "\n",
        "The charge arrays are shaped as [simulation id, particle id, 1]\n",
        "\n",
        "\"\"\"\n",
        "\n",
        "data = load_zip('https://surfdrive.surf.nl/files/index.php/s/OIgda2ZRG8v0eqB/download')\n",
        "\n",
        "features = ['positions', 'velocities', 'charges']\n",
        "    \n",
        "positions_train, velocities_train, charges_train = (load_array(data, f'data/train/{f}.npy') for f in features)\n",
        "positions_valid, velocities_valid, charges_valid = (load_array(data, f'data/valid/{f}.npy') for f in features)\n",
        "positions_test, velocities_test, charges_test = (load_array(data, f'data/test/{f}.npy') for f in features)\n",
        "\n",
        "print('Shapes of the training data:\\n')\n",
        "print(f'positions: {positions_train.shape}')\n",
        "print(f'velocities: {velocities_train.shape}')\n",
        "print(f'charges: {charges_train.shape}')"
      ]
    },
    {
      "cell_type": "code",
      "execution_count": 267,
      "id": "1c3ea4cb",
      "metadata": {
        "id": "1c3ea4cb",
        "colab": {
          "base_uri": "https://localhost:8080/"
        },
        "outputId": "78fa83df-f9f1-4043-8aad-b29e244ba9e6"
      },
      "outputs": [
        {
          "output_type": "stream",
          "name": "stdout",
          "text": [
            "An example of retrieving data from the arrays:\n",
            "\n",
            "\n",
            "In simulation 42 of the training set, particle 3 with charge -1.0 had coordinates [ 2.05159559 -1.46130851].\n",
            "The initial velocity of this particle was [ 0.28402364 -0.24784824].\n"
          ]
        }
      ],
      "source": [
        "print('An example of retrieving data from the arrays:\\n\\n')\n",
        "\n",
        "sim_idx = 42\n",
        "t_idx = 2  # t_idx 0, 1, 2, 3 corresponds to t=0, 0.5, 1 and 1.5 respectively\n",
        "spatial_idx = (0,1)  # corresponds to both x and y dimension\n",
        "particle_idx = 3  # corresponds to particle with index 3\n",
        "\n",
        "p = positions_train[sim_idx, t_idx, spatial_idx, particle_idx]\n",
        "v = velocities_train[sim_idx, 0, spatial_idx, particle_idx]  # note: this array contains only the inital velocity -> hence the 0\n",
        "c = charges_train[sim_idx, particle_idx, 0] \n",
        "\n",
        "print(\n",
        "    f'In simulation {sim_idx} of the training set, particle {particle_idx} with charge {c} had coordinates {p}.\\nThe initial velocity of this particle was {v}.'\n",
        ")"
      ]
    },
    {
      "cell_type": "code",
      "execution_count": 268,
      "id": "10a3438a",
      "metadata": {
        "id": "10a3438a",
        "colab": {
          "base_uri": "https://localhost:8080/"
        },
        "outputId": "a68a0d63-970c-4ab8-c580-9832e8cecaa4"
      },
      "outputs": [
        {
          "output_type": "stream",
          "name": "stdout",
          "text": [
            "Overview of no. datapoints:\n",
            "\n",
            "10000 train, 2000 validation, 2000 test simulations\n"
          ]
        }
      ],
      "source": [
        "print('Overview of no. datapoints:\\n')\n",
        "\n",
        "print(f'{len(positions_train)} train, {len(positions_valid)} validation, {len(positions_test)} test simulations')"
      ]
    },
    {
      "cell_type": "code",
      "execution_count": 269,
      "id": "f9106543",
      "metadata": {
        "id": "f9106543"
      },
      "outputs": [],
      "source": [
        "def plot_example(pos, vel):\n",
        "\n",
        "    fig = plt.figure()\n",
        "    axes = plt.gca()\n",
        "    axes.set_xlim([-5., 5.])\n",
        "    axes.set_ylim([-5., 5.])\n",
        "    colors = ['red', 'blue', 'green', 'orange', 'brown']\n",
        "    for i in range(pos.shape[-1]):\n",
        "        plt.plot(pos[0, 0, i], pos[0, 1, i], 'd', color=colors[i])\n",
        "        plt.plot(pos[-1, 0, i], pos[-1, 1, i], 'x', color=colors[i])\n",
        "        plt.plot([pos[0, 0, i], pos[0, 0, i] + vel[0, 0, i]], [pos[0, 1, i], pos[0, 1, i] + vel[0, 1, i]], '--', color=colors[i])\n",
        "    fig.set_size_inches(7, 7)\n",
        "    plt.xlim(np.min(pos)-1, np.max(pos) +1)\n",
        "    plt.ylim(np.min(pos)-1, np.max(pos) +1)\n",
        "    plt.plot([], [], 'd', color='black', label='initial position')\n",
        "    plt.plot([], [], 'x', color='black', label='final position')\n",
        "    plt.plot([], [], '--', color='black', label='initial velocity \\ndirection and magnitude')\n",
        "    plt.legend()\n",
        "    \n",
        "    plt.show()\n",
        "    return"
      ]
    },
    {
      "cell_type": "code",
      "execution_count": 270,
      "id": "d28681a6",
      "metadata": {
        "id": "d28681a6",
        "colab": {
          "base_uri": "https://localhost:8080/",
          "height": 428
        },
        "outputId": "da681510-e7c8-4661-a763-4360285fecee"
      },
      "outputs": [
        {
          "output_type": "display_data",
          "data": {
            "text/plain": [
              "<Figure size 504x504 with 1 Axes>"
            ],
            "image/png": "[encoded data removed]"
          },
          "metadata": {
            "needs_background": "light"
          }
        }
      ],
      "source": [
        "random_idx = np.random.randint(0, 10000)\n",
        "plot_example(positions_train[random_idx], velocities_train[random_idx])"
      ]
    },
    {
      "cell_type": "markdown",
      "id": "059b633c",
      "metadata": {
        "id": "059b633c"
      },
      "source": [
        "# Data Handling and Preprocessing"
      ]
    },
    {
      "cell_type": "code",
      "execution_count": 271,
      "id": "e6ecb529",
      "metadata": {
        "id": "e6ecb529"
      },
      "outputs": [],
      "source": [
        "import pandas as pd\n",
        "import torch\n",
        "from torch.utils.data import Dataset, DataLoader"
      ]
    },
    {
      "cell_type": "code",
      "source": [
        "print(len(positions_train))"
      ],
      "metadata": {
        "colab": {
          "base_uri": "https://localhost:8080/"
        },
        "id": "gFh0QoVEP-Tg",
        "outputId": "ad1ae1bb-e8d2-470c-903e-185879dd9656"
      },
      "id": "gFh0QoVEP-Tg",
      "execution_count": 272,
      "outputs": [
        {
          "output_type": "stream",
          "name": "stdout",
          "text": [
            "10000\n"
          ]
        }
      ]
    },
    {
      "cell_type": "code",
      "execution_count": 273,
      "id": "f8633eb8",
      "metadata": {
        "id": "f8633eb8"
      },
      "outputs": [],
      "source": [
        "# train_data = np.empty((10000, 5, 5))\n",
        "# train_labels = np.empty((10000, 5, 2))\n",
        "# for sim in range(len(positions_train)):\n",
        "#     for i in range(5):\n",
        "#         train_data[sim][i][0] = positions_train[sim][0][0][i]\n",
        "#         train_data[sim][i][1] = positions_train[sim][0][1][i]\n",
        "#         train_data[sim][i][2] = velocities_train[sim][0][0][i]\n",
        "#         train_data[sim][i][3] = velocities_train[sim][0][1][i]\n",
        "#         train_data[sim][i][4] = charges_train[sim][i]\n",
        "#         train_labels[sim][i][0] = positions_train[sim][1][0][i]\n",
        "#         train_labels[sim][i][1] = positions_train[sim][1][1][i]"
      ]
    },
    {
      "cell_type": "code",
      "source": [
        "positions_train.shape"
      ],
      "metadata": {
        "colab": {
          "base_uri": "https://localhost:8080/"
        },
        "id": "W2OJtQfiRCPI",
        "outputId": "11740cb4-1644-48ec-bf5b-a5efb38bc3aa"
      },
      "id": "W2OJtQfiRCPI",
      "execution_count": 274,
      "outputs": [
        {
          "output_type": "execute_result",
          "data": {
            "text/plain": [
              "(10000, 4, 2, 5)"
            ]
          },
          "metadata": {},
          "execution_count": 274
        }
      ]
    },
    {
      "cell_type": "code",
      "source": [
        "import torch\n",
        "from torch.utils.data import Dataset, DataLoader,TensorDataset, random_split\n",
        "import numpy as np\n",
        "\n",
        "class MyDataset(Dataset):\n",
        "    def __init__(self, initial_pos, final_pos, initial_v, charges):\n",
        "        self.initial_pos = torch.FloatTensor(initial_pos)\n",
        "        self.final_pos = torch.FloatTensor(final_pos)\n",
        "        self.initial_v = torch.FloatTensor(initial_v)\n",
        "        self.charges = torch.FloatTensor(charges)\n",
        "        \n",
        "    def __getitem__(self, index):\n",
        "        position = self.initial_pos[index]\n",
        "        final = self.final_pos[index]\n",
        "        velocity = self.initial_v[index]\n",
        "        charge = self.charges[index]\n",
        "\n",
        "        return position, final, velocity, charge\n",
        "   \n",
        "    def __len__(self):\n",
        "        return len(self.initial_pos)"
      ],
      "metadata": {
        "id": "ukdiSChx1dKm"
      },
      "id": "ukdiSChx1dKm",
      "execution_count": 275,
      "outputs": []
    },
    {
      "cell_type": "code",
      "source": [
        "# Dataset Formation and DataLoader\n",
        "initial_pos = positions_train[:,0,:,:]\n",
        "final_pos = positions_train[:,1,:,:]\n",
        "initial_v = velocities_train[:,0,:,:]\n",
        "charges = charges_train[:,:,0]\n",
        "\n",
        "val_initial_pos = positions_valid[:,0,:,:]\n",
        "val_final_pos = positions_valid[:,1,:,:]\n",
        "val_initial_v = velocities_valid[:,0,:,:]\n",
        "val_charges = charges_valid[:,:,0]\n",
        "\n",
        "train_data = MyDataset(initial_pos, final_pos, initial_v, charges)\n",
        "val_data = MyDataset(val_initial_pos, val_final_pos, val_initial_v, val_charges)\n",
        "\n",
        "train_loader = torch.utils.data.DataLoader(train_data, batch_size=1)\n",
        "val_loader = torch.utils.data.DataLoader(val_data, batch_size=1)"
      ],
      "metadata": {
        "id": "W5MiV8t61dHX"
      },
      "id": "W5MiV8t61dHX",
      "execution_count": 276,
      "outputs": []
    },
    {
      "cell_type": "code",
      "source": [
        "next(iter(train_loader))"
      ],
      "metadata": {
        "colab": {
          "base_uri": "https://localhost:8080/"
        },
        "id": "YMM_Z5G6d8jm",
        "outputId": "289e7274-a2fb-4a79-c19d-d77d98733b7b"
      },
      "id": "YMM_Z5G6d8jm",
      "execution_count": 277,
      "outputs": [
        {
          "output_type": "execute_result",
          "data": {
            "text/plain": [
              "[tensor([[[-1.9361,  3.6532, -4.5496, -3.0958,  0.1073],\n",
              "          [-0.2276, -2.7631,  8.2998, -3.0921, -2.8976]]]),\n",
              " tensor([[[-2.3387,  4.4387, -5.1946, -4.0422,  0.4396],\n",
              "          [-0.2173, -2.9732,  9.4907, -3.3710, -3.1883]]]),\n",
              " tensor([[[-0.7878,  1.5892, -1.2906, -1.9173,  0.6539],\n",
              "          [ 0.0267, -0.4211,  2.3834, -0.5785, -0.5676]]]),\n",
              " tensor([[-1.,  1.,  1.,  1., -1.]])]"
            ]
          },
          "metadata": {},
          "execution_count": 277
        }
      ]
    },
    {
      "cell_type": "code",
      "source": [
        "test_initial_pos = positions_test[:,0,:,:]\n",
        "test_final_pos = positions_test[:,1,:,:]\n",
        "test_initial_v = velocities_test[:,0,:,:]\n",
        "test_charges = charges_test[:,:,0]\n",
        "\n",
        "test_data = MyDataset(test_initial_pos, test_final_pos, test_initial_v, test_charges)\n",
        "test_loader = torch.utils.data.DataLoader(test_data, batch_size=1)"
      ],
      "metadata": {
        "id": "p-Mp78gHZ8iy"
      },
      "id": "p-Mp78gHZ8iy",
      "execution_count": 278,
      "outputs": []
    },
    {
      "cell_type": "code",
      "source": [
        "def input_target(position, final, velocity, charge):\n",
        "    initial_x = position[0][0][:]\n",
        "    initial_y = position[0][1][:]\n",
        "    final_x = final[0][0][:]\n",
        "    final_y = final[0][1][:]\n",
        "    v_x = velocity[0][0][:]\n",
        "    v_y = velocity[0][1][:]\n",
        "    ch = charge[0][:]\n",
        "\n",
        "    input = torch.cat((initial_x, initial_y, v_x, v_y, ch))\n",
        "    target = torch.cat((final_x, final_y))\n",
        "\n",
        "    return input, target"
      ],
      "metadata": {
        "id": "zhjlqGrSfDUv"
      },
      "id": "zhjlqGrSfDUv",
      "execution_count": 279,
      "outputs": []
    },
    {
      "cell_type": "markdown",
      "source": [
        "# Model Implementation"
      ],
      "metadata": {
        "id": "g4mXQimACf4e"
      },
      "id": "g4mXQimACf4e"
    },
    {
      "cell_type": "code",
      "source": [
        "import torch.nn as nn\n",
        "from torch import optim\n",
        "import torch\n",
        "import torch.nn.functional as F\n",
        "\n",
        "class MLP(nn.Module):\n",
        "  '''\n",
        "    Multilayer Perceptron for regression.\n",
        "  '''\n",
        "  def __init__(self):\n",
        "    super().__init__()\n",
        "    self.layers = nn.Sequential(\n",
        "      nn.Linear(25, 64),\n",
        "      nn.ReLU(),\n",
        "      nn.Linear(64, 32),\n",
        "      nn.ReLU(),\n",
        "      nn.Linear(32, 10)\n",
        "    )\n",
        "\n",
        "  def forward(self, x):\n",
        "    '''\n",
        "      Forward pass\n",
        "    '''\n",
        "    return self.layers(x)"
      ],
      "metadata": {
        "id": "4pprRqiNTGEC"
      },
      "id": "4pprRqiNTGEC",
      "execution_count": 280,
      "outputs": []
    },
    {
      "cell_type": "code",
      "source": [
        "# Initialize the MLP\n",
        "device = torch.device('cuda:0' if torch.cuda.is_available() else 'cpu')\n",
        "model = MLP()\n",
        "model = model.to(device)\n",
        "\n",
        "# Define the loss function and optimizer"
      ],
      "metadata": {
        "id": "pwJHUz6MTGA0"
      },
      "id": "pwJHUz6MTGA0",
      "execution_count": 281,
      "outputs": []
    },
    {
      "cell_type": "code",
      "source": [
        "# saving and loading checkpoint mechanisms\n",
        "def save_checkpoint(save_path, model, optimizer, val_loss):\n",
        "    if save_path==None:\n",
        "        return\n",
        "    save_path = save_path \n",
        "    state_dict = {'model_state_dict': model.state_dict(),\n",
        "                  'optimizer_state_dict': optimizer.state_dict(),\n",
        "                  'val_loss': val_loss}\n",
        "\n",
        "    torch.save(state_dict, save_path)\n",
        "\n",
        "    print(f'Model saved to ==> {save_path}')\n",
        "\n",
        "def load_checkpoint(model, optimizer):\n",
        "    save_path = f'MLP-checkpoint.pt'\n",
        "    state_dict = torch.load(save_path)\n",
        "    model.load_state_dict(state_dict['model_state_dict'])\n",
        "    optimizer.load_state_dict(state_dict['optimizer_state_dict'])\n",
        "    val_loss = state_dict['val_loss']\n",
        "    print(f'Model loaded from <== {save_path}')\n",
        "    \n",
        "    return val_loss"
      ],
      "metadata": {
        "id": "Rjp7HC9nFmdU"
      },
      "id": "Rjp7HC9nFmdU",
      "execution_count": 282,
      "outputs": []
    },
    {
      "cell_type": "code",
      "source": [
        "print(len(train_loader))"
      ],
      "metadata": {
        "colab": {
          "base_uri": "https://localhost:8080/"
        },
        "id": "46Q4bQA-ufsg",
        "outputId": "0ad29491-5e20-441d-fddd-b378f8ab5b9a"
      },
      "id": "46Q4bQA-ufsg",
      "execution_count": 283,
      "outputs": [
        {
          "output_type": "stream",
          "name": "stdout",
          "text": [
            "10000\n"
          ]
        }
      ]
    },
    {
      "cell_type": "markdown",
      "source": [
        "# Model Training"
      ],
      "metadata": {
        "id": "ioLoui5mhQhe"
      },
      "id": "ioLoui5mhQhe"
    },
    {
      "cell_type": "code",
      "source": [
        "import tqdm, time\n",
        "\n",
        "# training and validation after every epoch\n",
        "def train(model, train_loader, val_loader, num_epochs, criterion, save_name):\n",
        "    best_val_loss = float(\"Inf\") \n",
        "    best_val_acc = 0.0\n",
        "    epoch_best = 0\n",
        "    epoch_val_best = 0\n",
        "    train_losses = []\n",
        "    val_losses = []\n",
        "    train_acc = []\n",
        "    val_acc = []\n",
        "    cur_step = 0\n",
        "    for epoch in range(num_epochs):\n",
        "        start_time = time.time()\n",
        "        running_loss = 0.0\n",
        "        tr_acc = []\n",
        "        model.train()\n",
        "        print(\"Starting epoch \" + str(epoch+1))\n",
        "        # ============ Training ============ #\n",
        "        for position, final, velocity, charge in train_loader:\n",
        "            #plot_case(99,train_data,labels)\n",
        "            initial_pos, target_pos = input_target(position, final, velocity, charge)\n",
        "            initial_pos = initial_pos.to(device)\n",
        "            target_pos = target_pos.to(device)\n",
        "            #case_loss = 0.0\n",
        "            #print(initial_pos)\n",
        "            optimizer.zero_grad()\n",
        "            outputs = model(initial_pos)\n",
        "            loss = criterion(outputs, target_pos)\n",
        "\n",
        "            #case_loss += loss.item()\n",
        "            # Backward and optimize\n",
        "            loss.backward()\n",
        "            optimizer.step()\n",
        "\n",
        "            #print(outputs, target_pos)\n",
        "            running_loss += loss.item()\n",
        "            #print(running_loss)\n",
        "            #breakpoint()\n",
        "\n",
        "        avg_train_loss = running_loss / len(train_loader)\n",
        "        train_losses.append(avg_train_loss)\n",
        "        \n",
        "        # ============ Validation ============ #\n",
        "        val_running_loss = 0.0\n",
        "        va_acc = []\n",
        "        with torch.no_grad():\n",
        "            model.eval()\n",
        "            for position, final, velocity, charge in val_loader:\n",
        "                #case_loss = 0.0\n",
        "                initial_pos, target_pos = input_target(position, final, velocity, charge)\n",
        "                initial_pos = initial_pos.to(device)\n",
        "                target_pos = target_pos.to(device)\n",
        "                outputs = model(initial_pos)\n",
        "                loss = criterion(outputs, target_pos)\n",
        "\n",
        "                #case_loss += loss.item()\n",
        "\n",
        "                val_running_loss += loss.item()\n",
        "\n",
        "        avg_val_loss = val_running_loss / len(val_loader)\n",
        "        val_losses.append(avg_val_loss)\n",
        "        \n",
        "        print('Epoch [{}/{}], train_loss: {:.4f}, val_loss: {:.4f}, elapsed_time: {:.4f}'\n",
        "            .format(epoch+1, num_epochs, avg_train_loss, avg_val_loss, time.time()-start_time))\n",
        "        if avg_val_loss < best_val_loss:\n",
        "            best_val_loss = avg_val_loss\n",
        "            epoch_val_best = epoch+1\n",
        "            save_checkpoint(save_name, model, optimizer, best_val_loss)\n",
        "    \n",
        "    print(\"Finished Training\")  \n",
        "    return train_losses, val_losses, best_val_loss, epoch_val_best"
      ],
      "metadata": {
        "id": "gwNut7gJFmTF"
      },
      "id": "gwNut7gJFmTF",
      "execution_count": 284,
      "outputs": []
    },
    {
      "cell_type": "code",
      "source": [
        "!pip install torchmetrics"
      ],
      "metadata": {
        "colab": {
          "base_uri": "https://localhost:8080/"
        },
        "id": "cMN1rTui5VrA",
        "outputId": "d46f2143-9f8e-4917-ea56-2bc94caff09e"
      },
      "id": "cMN1rTui5VrA",
      "execution_count": 285,
      "outputs": [
        {
          "output_type": "stream",
          "name": "stdout",
          "text": [
            "Looking in indexes: https://pypi.org/simple, https://us-python.pkg.dev/colab-wheels/public/simple/\n",
            "Requirement already satisfied: torchmetrics in /usr/local/lib/python3.7/dist-packages (0.9.0)\n",
            "Requirement already satisfied: numpy>=1.17.2 in /usr/local/lib/python3.7/dist-packages (from torchmetrics) (1.21.6)\n",
            "Requirement already satisfied: torch>=1.3.1 in /usr/local/lib/python3.7/dist-packages (from torchmetrics) (1.11.0+cu113)\n",
            "Requirement already satisfied: packaging in /usr/local/lib/python3.7/dist-packages (from torchmetrics) (21.3)\n",
            "Requirement already satisfied: typing-extensions in /usr/local/lib/python3.7/dist-packages (from torchmetrics) (4.2.0)\n",
            "Requirement already satisfied: pyparsing!=3.0.5,>=2.0.2 in /usr/local/lib/python3.7/dist-packages (from packaging->torchmetrics) (3.0.9)\n"
          ]
        }
      ]
    },
    {
      "cell_type": "markdown",
      "source": [
        "# Evaluation\n",
        "\n"
      ],
      "metadata": {
        "id": "x-9ArLarhS3B"
      },
      "id": "x-9ArLarhS3B"
    },
    {
      "cell_type": "code",
      "source": [
        "from torchmetrics import R2Score\n",
        "r2score = R2Score().to(device)\n",
        "\n",
        "# ============ Testing ============ #\n",
        "def eval(model, test_loader, criterion):\n",
        "    with torch.no_grad():\n",
        "        correct = 0\n",
        "        count = 0\n",
        "        test_loss = 0.0\n",
        "        r2_score = 0.0\n",
        "        for position, final, velocity, charge in test_loader:\n",
        "            initial_pos, target_pos = input_target(position, final, velocity, charge)\n",
        "            initial_pos = initial_pos.to(device)\n",
        "            target_pos = target_pos.to(device)\n",
        "\n",
        "            outputs = model(initial_pos)\n",
        "            rmse_loss = torch.sqrt(criterion(outputs, target_pos))\n",
        "            score = r2score(outputs, target_pos)\n",
        "\n",
        "            #case_loss += loss.item()\n",
        "\n",
        "            test_loss += rmse_loss.item()\n",
        "            r2_score += score\n",
        "            count+=1\n",
        "            if count % 200 == 0:\n",
        "                print(\"Output pos: \", outputs)\n",
        "                print(\"Actual pos: \", target_pos)\n",
        "                print(f\"RMSE Loss after {count} simulations:\", test_loss/count)\n",
        "                print(\"\\n\")\n",
        "\n",
        "    avg_test_loss = test_loss / len(test_loader)\n",
        "    avg_r2_score = r2_score / len(test_loader)\n",
        "    return avg_test_loss, avg_r2_score"
      ],
      "metadata": {
        "id": "bQ7aD4k8N7r-"
      },
      "id": "bQ7aD4k8N7r-",
      "execution_count": 286,
      "outputs": []
    },
    {
      "cell_type": "code",
      "source": [
        "# actual training\n",
        "import torch.optim as optim\n",
        "\n",
        "optimizer = torch.optim.Adam(model.parameters(), lr=1e-4)\n",
        "num_epochs = 20\n",
        "criterion = nn.MSELoss()\n",
        "\n",
        "save_path = 'MLP-checkpoint.pt'\n",
        "train_losses, val_losses, best_val_loss, epoch_loss = train(model, train_loader, val_loader, num_epochs, criterion, save_path)"
      ],
      "metadata": {
        "colab": {
          "base_uri": "https://localhost:8080/"
        },
        "id": "Tkv7f5PcFmPT",
        "outputId": "1f59aa46-46e9-4ea0-9426-ee1059ff7e3b"
      },
      "id": "Tkv7f5PcFmPT",
      "execution_count": 287,
      "outputs": [
        {
          "output_type": "stream",
          "name": "stdout",
          "text": [
            "Starting epoch 1\n",
            "Epoch [1/20], train_loss: 2.9284, val_loss: 0.4159, elapsed_time: 19.3825\n",
            "Model saved to ==> MLP-checkpoint.pt\n",
            "Starting epoch 2\n",
            "Epoch [2/20], train_loss: 0.2127, val_loss: 0.1306, elapsed_time: 17.5819\n",
            "Model saved to ==> MLP-checkpoint.pt\n",
            "Starting epoch 3\n",
            "Epoch [3/20], train_loss: 0.1091, val_loss: 0.0936, elapsed_time: 17.8520\n",
            "Model saved to ==> MLP-checkpoint.pt\n",
            "Starting epoch 4\n",
            "Epoch [4/20], train_loss: 0.0842, val_loss: 0.0771, elapsed_time: 17.7298\n",
            "Model saved to ==> MLP-checkpoint.pt\n",
            "Starting epoch 5\n",
            "Epoch [5/20], train_loss: 0.0704, val_loss: 0.0661, elapsed_time: 17.4892\n",
            "Model saved to ==> MLP-checkpoint.pt\n",
            "Starting epoch 6\n",
            "Epoch [6/20], train_loss: 0.0605, val_loss: 0.0578, elapsed_time: 17.7096\n",
            "Model saved to ==> MLP-checkpoint.pt\n",
            "Starting epoch 7\n",
            "Epoch [7/20], train_loss: 0.0531, val_loss: 0.0512, elapsed_time: 18.1713\n",
            "Model saved to ==> MLP-checkpoint.pt\n",
            "Starting epoch 8\n",
            "Epoch [8/20], train_loss: 0.0475, val_loss: 0.0462, elapsed_time: 17.7920\n",
            "Model saved to ==> MLP-checkpoint.pt\n",
            "Starting epoch 9\n",
            "Epoch [9/20], train_loss: 0.0433, val_loss: 0.0423, elapsed_time: 17.4520\n",
            "Model saved to ==> MLP-checkpoint.pt\n",
            "Starting epoch 10\n",
            "Epoch [10/20], train_loss: 0.0403, val_loss: 0.0395, elapsed_time: 17.6834\n",
            "Model saved to ==> MLP-checkpoint.pt\n",
            "Starting epoch 11\n",
            "Epoch [11/20], train_loss: 0.0383, val_loss: 0.0377, elapsed_time: 17.7047\n",
            "Model saved to ==> MLP-checkpoint.pt\n",
            "Starting epoch 12\n",
            "Epoch [12/20], train_loss: 0.0369, val_loss: 0.0364, elapsed_time: 17.9124\n",
            "Model saved to ==> MLP-checkpoint.pt\n",
            "Starting epoch 13\n",
            "Epoch [13/20], train_loss: 0.0360, val_loss: 0.0357, elapsed_time: 17.5658\n",
            "Model saved to ==> MLP-checkpoint.pt\n",
            "Starting epoch 14\n",
            "Epoch [14/20], train_loss: 0.0355, val_loss: 0.0352, elapsed_time: 17.5268\n",
            "Model saved to ==> MLP-checkpoint.pt\n",
            "Starting epoch 15\n",
            "Epoch [15/20], train_loss: 0.0351, val_loss: 0.0349, elapsed_time: 17.5025\n",
            "Model saved to ==> MLP-checkpoint.pt\n",
            "Starting epoch 16\n",
            "Epoch [16/20], train_loss: 0.0348, val_loss: 0.0347, elapsed_time: 17.7151\n",
            "Model saved to ==> MLP-checkpoint.pt\n",
            "Starting epoch 17\n",
            "Epoch [17/20], train_loss: 0.0346, val_loss: 0.0345, elapsed_time: 17.7719\n",
            "Model saved to ==> MLP-checkpoint.pt\n",
            "Starting epoch 18\n",
            "Epoch [18/20], train_loss: 0.0344, val_loss: 0.0344, elapsed_time: 17.7234\n",
            "Model saved to ==> MLP-checkpoint.pt\n",
            "Starting epoch 19\n",
            "Epoch [19/20], train_loss: 0.0343, val_loss: 0.0343, elapsed_time: 17.3795\n",
            "Model saved to ==> MLP-checkpoint.pt\n",
            "Starting epoch 20\n",
            "Epoch [20/20], train_loss: 0.0343, val_loss: 0.0342, elapsed_time: 18.1591\n",
            "Model saved to ==> MLP-checkpoint.pt\n",
            "Finished Training\n"
          ]
        }
      ]
    },
    {
      "cell_type": "code",
      "source": [
        "# plotting of training and validation loss\n",
        "plt.xlabel('epoch')\n",
        "plt.ylabel('loss')\n",
        "plt.plot(train_losses, label='Train Loss')\n",
        "plt.plot(val_losses, label=\"Validation Loss\")\n",
        "plt.title(\"Training and Validation Loss [Epoch {}, Min val_loss {:.4f}]\".format(epoch_loss, best_val_loss))\n",
        "plt.legend(bbox_to_anchor=(1.05, 1.0), loc='upper left')\n",
        "plt.show()"
      ],
      "metadata": {
        "colab": {
          "base_uri": "https://localhost:8080/",
          "height": 295
        },
        "id": "VkK9eSPeFmL8",
        "outputId": "c6e8f45b-c487-4443-87b1-e6f80e1a3aab"
      },
      "id": "VkK9eSPeFmL8",
      "execution_count": 288,
      "outputs": [
        {
          "output_type": "display_data",
          "data": {
            "text/plain": [
              "<Figure size 432x288 with 1 Axes>"
            ],
            "image/png": "[encoded data removed]"
          },
          "metadata": {
            "needs_background": "light"
          }
        }
      ]
    },
    {
      "cell_type": "code",
      "source": [
        "# Testing on previously trained model\n",
        "import torch.optim as optim\n",
        "load_model = MLP().to(device)\n",
        "load_optimizer = optim.Adam(model.parameters(),lr=1e-4)\n",
        "\n",
        "best_val_loss = load_checkpoint(load_model, load_optimizer)\n",
        "\n",
        "print('Best val_loss: {:.8f}'.format(best_val_loss))\n",
        "\n",
        "test_loss, r2_score = eval(load_model, test_loader, criterion)\n",
        "print('RMSE Loss on test data: {:.8f}'.format(test_loss))\n",
        "print('R2_score: {:.4f}'.format(r2_score))"
      ],
      "metadata": {
        "colab": {
          "base_uri": "https://localhost:8080/"
        },
        "id": "kvJkyI6GFmIQ",
        "outputId": "a05cab46-2a14-44f0-df59-186228fefca2"
      },
      "id": "kvJkyI6GFmIQ",
      "execution_count": 289,
      "outputs": [
        {
          "output_type": "stream",
          "name": "stdout",
          "text": [
            "Model loaded from <== MLP-checkpoint.pt\n",
            "Best val_loss: 0.03424508\n",
            "Output pos:  tensor([ 1.8352,  5.1547, -1.8730, -3.7129, -3.8293,  0.6156, -0.2796, -0.7434,\n",
            "         1.0825,  0.5758], device='cuda:0')\n",
            "Actual pos:  tensor([ 1.9267,  5.2441, -2.0995, -3.6937, -3.7919,  0.5924, -0.2596, -0.6607,\n",
            "         0.4987,  1.0714], device='cuda:0')\n",
            "RMSE Loss after 200 simulations: 0.1766954726912081\n",
            "\n",
            "\n",
            "Output pos:  tensor([-1.1778, -0.4585, -0.0711, -1.6907, -0.2009,  2.5200, -1.1722,  1.4007,\n",
            "        -1.5762,  0.4866], device='cuda:0')\n",
            "Actual pos:  tensor([-1.0491, -0.4990, -0.2193, -1.5453, -0.2531,  2.5525, -1.4089,  0.9582,\n",
            "        -1.2828,  0.8462], device='cuda:0')\n",
            "RMSE Loss after 400 simulations: 0.16851513099856674\n",
            "\n",
            "\n",
            "Output pos:  tensor([ 4.2054, -1.4931, -1.2205,  5.5911, -5.6316,  4.6532, -2.9134, -4.2362,\n",
            "        -1.9394, -0.9225], device='cuda:0')\n",
            "Actual pos:  tensor([ 4.2530, -1.5541, -1.3335,  5.5955, -5.6154,  4.7707, -2.9260, -4.3480,\n",
            "        -1.8959, -1.0358], device='cuda:0')\n",
            "RMSE Loss after 600 simulations: 0.16927644751345117\n",
            "\n",
            "\n",
            "Output pos:  tensor([-2.7480,  2.2598,  2.4516, -0.8975,  2.8268, -0.6036, -0.2355,  0.1820,\n",
            "         3.8415, -0.0257], device='cuda:0')\n",
            "Actual pos:  tensor([-2.7501,  2.4698,  2.5633, -0.9140,  2.4778, -0.5618, -0.1614,  0.1441,\n",
            "         3.8507, -0.2017], device='cuda:0')\n",
            "RMSE Loss after 800 simulations: 0.1690199445048347\n",
            "\n",
            "\n",
            "Output pos:  tensor([ 0.8857,  2.1898, -2.9577,  2.2352, -0.3581, -0.8878, -0.0764,  2.2485,\n",
            "        -0.9158, -2.2499], device='cuda:0')\n",
            "Actual pos:  tensor([ 1.1773,  1.9007, -3.1039,  2.5651, -0.5096, -0.4680, -0.3451,  2.1392,\n",
            "        -0.8558, -2.3910], device='cuda:0')\n",
            "RMSE Loss after 1000 simulations: 0.16895570304244756\n",
            "\n",
            "\n",
            "Output pos:  tensor([ 1.1825,  4.0934,  2.3339, -3.0202, -1.3756, -1.0324,  0.4564, -0.4613,\n",
            "        -2.8022, -0.6672], device='cuda:0')\n",
            "Actual pos:  tensor([ 1.3956,  4.1863,  1.9650, -2.8544, -1.4521, -0.9024,  0.4306, -0.5510,\n",
            "        -2.5314, -0.9581], device='cuda:0')\n",
            "RMSE Loss after 1200 simulations: 0.16985143004606168\n",
            "\n",
            "\n",
            "Output pos:  tensor([-1.0758, -1.2589, -0.9046,  3.6623, -0.8664,  4.0704, -6.1165, -0.9649,\n",
            "         2.1846, -0.2523], device='cuda:0')\n",
            "Actual pos:  tensor([-1.1004, -1.3482, -0.6528,  3.6882, -1.0172,  4.0994, -6.2431, -0.6816,\n",
            "         2.2714, -0.5699], device='cuda:0')\n",
            "RMSE Loss after 1400 simulations: 0.1705330845633788\n",
            "\n",
            "\n",
            "Output pos:  tensor([-6.3046,  3.8992,  2.0203, -0.1568, -1.7806,  5.6668, -3.4570, -3.6071,\n",
            "        -1.2568,  3.1002], device='cuda:0')\n",
            "Actual pos:  tensor([-6.2150,  3.9374,  2.0955, -0.2690, -1.8311,  5.7097, -3.5639, -3.4550,\n",
            "        -1.2218,  2.9855], device='cuda:0')\n",
            "RMSE Loss after 1600 simulations: 0.17010735456598922\n",
            "\n",
            "\n",
            "Output pos:  tensor([ 2.5555,  1.7339,  1.3744, -0.7978,  0.4357, -0.5639, -0.5605,  1.8744,\n",
            "        -1.8420,  3.5585], device='cuda:0')\n",
            "Actual pos:  tensor([ 2.4623,  1.7031,  1.5782, -0.8416,  0.2958, -0.5093, -0.5745,  1.8658,\n",
            "        -1.8218,  3.5361], device='cuda:0')\n",
            "RMSE Loss after 1800 simulations: 0.1695841515571293\n",
            "\n",
            "\n",
            "Output pos:  tensor([ 2.2160, -0.9376, -5.1838, -1.7349,  1.2629,  1.6217, -0.5396, -0.8387,\n",
            "        -0.2766,  1.9599], device='cuda:0')\n",
            "Actual pos:  tensor([ 2.0709, -1.2728, -5.1314, -1.4588,  1.3191,  1.4426, -0.3543, -0.7520,\n",
            "        -0.6451,  2.1942], device='cuda:0')\n",
            "RMSE Loss after 2000 simulations: 0.16897397729661315\n",
            "\n",
            "\n",
            "RMSE Loss on test data: 0.16897398\n",
            "R2_score: 0.9899\n"
          ]
        }
      ]
    },
    {
      "cell_type": "code",
      "execution_count": 289,
      "id": "3a8240f1",
      "metadata": {
        "id": "3a8240f1"
      },
      "outputs": [],
      "source": [
        ""
      ]
    }
  ],
  "metadata": {
    "kernelspec": {
      "display_name": "Python 3",
      "language": "python",
      "name": "python3"
    },
    "language_info": {
      "codemirror_mode": {
        "name": "ipython",
        "version": 3
      },
      "file_extension": ".py",
      "mimetype": "text/x-python",
      "name": "python",
      "nbconvert_exporter": "python",
      "pygments_lexer": "ipython3",
      "version": "3.8.8"
    },
    "colab": {
      "name": "a2_MLP.ipynb",
      "provenance": [],
      "collapsed_sections": [],
      "machine_shape": "hm"
    },
    "accelerator": "GPU"
  },
  "nbformat": 4,
  "nbformat_minor": 5
}
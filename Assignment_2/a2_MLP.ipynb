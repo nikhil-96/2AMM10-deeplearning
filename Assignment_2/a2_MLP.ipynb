{
  "cells": [
    {
      "cell_type": "markdown",
      "id": "730fd591",
      "metadata": {
        "id": "730fd591"
      },
      "source": [
        "<a href=\"https://colab.research.google.com/github/vlamen/tue-deeplearning/blob/main/assignments/assignment_2_3/a2_skeleton.ipynb\" target=\"_parent\"><img src=\"https://colab.research.google.com/assets/colab-badge.svg\" alt=\"Open In Colab\"/></a>"
      ]
    },
    {
      "cell_type": "markdown",
      "id": "d32f8d18",
      "metadata": {
        "id": "d32f8d18"
      },
      "source": [
        "# Group Number: 41\n",
        "\n",
        "# Student 1: Nikhil Patni\n",
        "\n",
        "# Student 2: Silvia Sultana\n",
        "\n",
        "# Student 3: Aishvarya Viswanathan"
      ]
    },
    {
      "cell_type": "markdown",
      "id": "faec2056",
      "metadata": {
        "id": "faec2056"
      },
      "source": [
        "# Downloading Data and Preliminaries"
      ]
    },
    {
      "cell_type": "code",
      "execution_count": 126,
      "id": "7d0580a5",
      "metadata": {
        "id": "7d0580a5"
      },
      "outputs": [],
      "source": [
        "import pickle\n",
        "import matplotlib.pyplot as plt\n",
        "import matplotlib\n",
        "import numpy as np\n",
        "\n",
        "from zipfile import ZipFile\n",
        "import requests\n",
        "import io"
      ]
    },
    {
      "cell_type": "code",
      "execution_count": 127,
      "id": "b0756591",
      "metadata": {
        "id": "b0756591"
      },
      "outputs": [],
      "source": [
        "def load_zip(url):\n",
        "    response = requests.get(url)\n",
        "    response.raise_for_status()\n",
        "    zipf = ZipFile(io.BytesIO(response.content))\n",
        "    return {name: zipf.read(name) for name in zipf.namelist()}\n",
        "\n",
        "def load_array(zipfile, fn):\n",
        "    return np.load(io.BytesIO(zipfile[fn]))"
      ]
    },
    {
      "cell_type": "code",
      "execution_count": 128,
      "id": "bb77a4be",
      "metadata": {
        "id": "bb77a4be",
        "colab": {
          "base_uri": "https://localhost:8080/"
        },
        "outputId": "b722dd5f-c51f-44a8-b656-d5d4b9397e45"
      },
      "outputs": [
        {
          "output_type": "stream",
          "name": "stdout",
          "text": [
            "Shapes of the training data:\n",
            "\n",
            "positions: (10000, 4, 2, 5)\n",
            "velocities: (10000, 1, 2, 5)\n",
            "charges: (10000, 5, 1)\n"
          ]
        }
      ],
      "source": [
        "\"\"\"\n",
        "This cell loads the training, validation or test data as numpy arrays,\n",
        "with the positions, initial velocities and charge data of the particles.\n",
        "\n",
        "The position arrays are shaped as\n",
        "[simulation id, time point (corresponding to t = 0, 0.5, 1 or 1.5), x/y spatial dimension, particle id].\n",
        "\n",
        "The initial velocity arrays are shaped as\n",
        "[simulation id, 1 (corresponding to t=0), x/y spatial dimension, particle id].\n",
        "\n",
        "The charge arrays are shaped as [simulation id, particle id, 1]\n",
        "\n",
        "\"\"\"\n",
        "\n",
        "data = load_zip('https://surfdrive.surf.nl/files/index.php/s/OIgda2ZRG8v0eqB/download')\n",
        "\n",
        "features = ['positions', 'velocities', 'charges']\n",
        "    \n",
        "positions_train, velocities_train, charges_train = (load_array(data, f'data/train/{f}.npy') for f in features)\n",
        "positions_valid, velocities_valid, charges_valid = (load_array(data, f'data/valid/{f}.npy') for f in features)\n",
        "positions_test, velocities_test, charges_test = (load_array(data, f'data/test/{f}.npy') for f in features)\n",
        "\n",
        "print('Shapes of the training data:\\n')\n",
        "print(f'positions: {positions_train.shape}')\n",
        "print(f'velocities: {velocities_train.shape}')\n",
        "print(f'charges: {charges_train.shape}')"
      ]
    },
    {
      "cell_type": "code",
      "execution_count": 129,
      "id": "1c3ea4cb",
      "metadata": {
        "id": "1c3ea4cb",
        "colab": {
          "base_uri": "https://localhost:8080/"
        },
        "outputId": "ad5bb6bd-026d-450c-cdb8-70afb92ab84d"
      },
      "outputs": [
        {
          "output_type": "stream",
          "name": "stdout",
          "text": [
            "An example of retrieving data from the arrays:\n",
            "\n",
            "\n",
            "In simulation 42 of the training set, particle 3 with charge -1.0 had coordinates [ 2.05159559 -1.46130851].\n",
            "The initial velocity of this particle was [ 0.28402364 -0.24784824].\n"
          ]
        }
      ],
      "source": [
        "print('An example of retrieving data from the arrays:\\n\\n')\n",
        "\n",
        "sim_idx = 42\n",
        "t_idx = 2  # t_idx 0, 1, 2, 3 corresponds to t=0, 0.5, 1 and 1.5 respectively\n",
        "spatial_idx = (0,1)  # corresponds to both x and y dimension\n",
        "particle_idx = 3  # corresponds to particle with index 3\n",
        "\n",
        "p = positions_train[sim_idx, t_idx, spatial_idx, particle_idx]\n",
        "v = velocities_train[sim_idx, 0, spatial_idx, particle_idx]  # note: this array contains only the inital velocity -> hence the 0\n",
        "c = charges_train[sim_idx, particle_idx, 0] \n",
        "\n",
        "print(\n",
        "    f'In simulation {sim_idx} of the training set, particle {particle_idx} with charge {c} had coordinates {p}.\\nThe initial velocity of this particle was {v}.'\n",
        ")"
      ]
    },
    {
      "cell_type": "code",
      "execution_count": 130,
      "id": "10a3438a",
      "metadata": {
        "id": "10a3438a",
        "colab": {
          "base_uri": "https://localhost:8080/"
        },
        "outputId": "ee663ebd-a9e9-4e0c-ebb6-041a75976606"
      },
      "outputs": [
        {
          "output_type": "stream",
          "name": "stdout",
          "text": [
            "Overview of no. datapoints:\n",
            "\n",
            "10000 train, 2000 validation, 2000 test simulations\n"
          ]
        }
      ],
      "source": [
        "print('Overview of no. datapoints:\\n')\n",
        "\n",
        "print(f'{len(positions_train)} train, {len(positions_valid)} validation, {len(positions_test)} test simulations')"
      ]
    },
    {
      "cell_type": "code",
      "execution_count": 131,
      "id": "f9106543",
      "metadata": {
        "id": "f9106543"
      },
      "outputs": [],
      "source": [
        "def plot_example(pos, vel):\n",
        "\n",
        "    fig = plt.figure()\n",
        "    axes = plt.gca()\n",
        "    axes.set_xlim([-5., 5.])\n",
        "    axes.set_ylim([-5., 5.])\n",
        "    colors = ['red', 'blue', 'green', 'orange', 'brown']\n",
        "    for i in range(pos.shape[-1]):\n",
        "        plt.plot(pos[0, 0, i], pos[0, 1, i], 'd', color=colors[i])\n",
        "        plt.plot(pos[-1, 0, i], pos[-1, 1, i], 'x', color=colors[i])\n",
        "        plt.plot([pos[0, 0, i], pos[0, 0, i] + vel[0, 0, i]], [pos[0, 1, i], pos[0, 1, i] + vel[0, 1, i]], '--', color=colors[i])\n",
        "    fig.set_size_inches(7, 7)\n",
        "    plt.xlim(np.min(pos)-1, np.max(pos) +1)\n",
        "    plt.ylim(np.min(pos)-1, np.max(pos) +1)\n",
        "    plt.plot([], [], 'd', color='black', label='initial position')\n",
        "    plt.plot([], [], 'x', color='black', label='final position')\n",
        "    plt.plot([], [], '--', color='black', label='initial velocity \\ndirection and magnitude')\n",
        "    plt.legend()\n",
        "    \n",
        "    plt.show()\n",
        "    return"
      ]
    },
    {
      "cell_type": "code",
      "execution_count": 132,
      "id": "d28681a6",
      "metadata": {
        "id": "d28681a6",
        "colab": {
          "base_uri": "https://localhost:8080/",
          "height": 428
        },
        "outputId": "dc67e1e2-31cc-4146-e87a-cf60e2ba842a"
      },
      "outputs": [
        {
          "output_type": "display_data",
          "data": {
            "text/plain": [
              "<Figure size 504x504 with 1 Axes>"
            ],
            "image/png": "[encoded data removed]"
          },
          "metadata": {
            "needs_background": "light"
          }
        }
      ],
      "source": [
        "random_idx = np.random.randint(0, 10000)\n",
        "plot_example(positions_train[random_idx], velocities_train[random_idx])"
      ]
    },
    {
      "cell_type": "markdown",
      "id": "059b633c",
      "metadata": {
        "id": "059b633c"
      },
      "source": [
        "# Data Handling and Preprocessing"
      ]
    },
    {
      "cell_type": "code",
      "execution_count": 133,
      "id": "e6ecb529",
      "metadata": {
        "id": "e6ecb529"
      },
      "outputs": [],
      "source": [
        "import pandas as pd\n",
        "import torch\n",
        "from torch.utils.data import Dataset, DataLoader"
      ]
    },
    {
      "cell_type": "code",
      "source": [
        "print(len(positions_train))"
      ],
      "metadata": {
        "colab": {
          "base_uri": "https://localhost:8080/"
        },
        "id": "gFh0QoVEP-Tg",
        "outputId": "9716b35c-681c-4c77-d31f-218ed4d84854"
      },
      "id": "gFh0QoVEP-Tg",
      "execution_count": 134,
      "outputs": [
        {
          "output_type": "stream",
          "name": "stdout",
          "text": [
            "10000\n"
          ]
        }
      ]
    },
    {
      "cell_type": "code",
      "execution_count": 135,
      "id": "f8633eb8",
      "metadata": {
        "id": "f8633eb8"
      },
      "outputs": [],
      "source": [
        "# train_data = np.empty((10000, 5, 5))\n",
        "# train_labels = np.empty((10000, 5, 2))\n",
        "# for sim in range(len(positions_train)):\n",
        "#     for i in range(5):\n",
        "#         train_data[sim][i][0] = positions_train[sim][0][0][i]\n",
        "#         train_data[sim][i][1] = positions_train[sim][0][1][i]\n",
        "#         train_data[sim][i][2] = velocities_train[sim][0][0][i]\n",
        "#         train_data[sim][i][3] = velocities_train[sim][0][1][i]\n",
        "#         train_data[sim][i][4] = charges_train[sim][i]\n",
        "#         train_labels[sim][i][0] = positions_train[sim][1][0][i]\n",
        "#         train_labels[sim][i][1] = positions_train[sim][1][1][i]"
      ]
    },
    {
      "cell_type": "code",
      "source": [
        "positions_train.shape"
      ],
      "metadata": {
        "colab": {
          "base_uri": "https://localhost:8080/"
        },
        "id": "W2OJtQfiRCPI",
        "outputId": "7ebdf462-a175-42f9-9c0f-c6bc324de4eb"
      },
      "id": "W2OJtQfiRCPI",
      "execution_count": 136,
      "outputs": [
        {
          "output_type": "execute_result",
          "data": {
            "text/plain": [
              "(10000, 4, 2, 5)"
            ]
          },
          "metadata": {},
          "execution_count": 136
        }
      ]
    },
    {
      "cell_type": "code",
      "source": [
        "import torch\n",
        "from torch.utils.data import Dataset, DataLoader,TensorDataset, random_split\n",
        "import numpy as np\n",
        "\n",
        "class MyDataset(Dataset):\n",
        "    def __init__(self, initial_pos, final_pos, initial_v, charges):\n",
        "        self.initial_pos = torch.FloatTensor(initial_pos)\n",
        "        self.final_pos = torch.FloatTensor(final_pos)\n",
        "        self.initial_v = torch.FloatTensor(initial_v)\n",
        "        self.charges = torch.FloatTensor(charges)\n",
        "        \n",
        "    def __getitem__(self, index):\n",
        "        position = self.initial_pos[index]\n",
        "        final = self.final_pos[index]\n",
        "        velocity = self.initial_v[index]\n",
        "        charge = self.charges[index]\n",
        "\n",
        "        return position, final, velocity, charge\n",
        "   \n",
        "    def __len__(self):\n",
        "        return len(self.initial_pos)"
      ],
      "metadata": {
        "id": "ukdiSChx1dKm"
      },
      "id": "ukdiSChx1dKm",
      "execution_count": 137,
      "outputs": []
    },
    {
      "cell_type": "code",
      "source": [
        "# Dataset Formation and DataLoader\n",
        "initial_pos = positions_train[:,0,:,:]\n",
        "final_pos = positions_train[:,1,:,:]\n",
        "initial_v = velocities_train[:,0,:,:]\n",
        "charges = charges_train[:,:,0]\n",
        "\n",
        "val_initial_pos = positions_valid[:,0,:,:]\n",
        "val_final_pos = positions_valid[:,1,:,:]\n",
        "val_initial_v = velocities_valid[:,0,:,:]\n",
        "val_charges = charges_valid[:,:,0]\n",
        "\n",
        "train_data = MyDataset(initial_pos, final_pos, initial_v, charges)\n",
        "val_data = MyDataset(val_initial_pos, val_final_pos, val_initial_v, val_charges)\n",
        "\n",
        "train_loader = torch.utils.data.DataLoader(train_data, batch_size=8)\n",
        "val_loader = torch.utils.data.DataLoader(val_data, batch_size=8)"
      ],
      "metadata": {
        "id": "W5MiV8t61dHX"
      },
      "id": "W5MiV8t61dHX",
      "execution_count": 138,
      "outputs": []
    },
    {
      "cell_type": "code",
      "source": [
        "next(iter(train_loader))"
      ],
      "metadata": {
        "colab": {
          "base_uri": "https://localhost:8080/"
        },
        "id": "YMM_Z5G6d8jm",
        "outputId": "81806afa-393e-4220-b6d6-f2944a3ccc3b"
      },
      "id": "YMM_Z5G6d8jm",
      "execution_count": 139,
      "outputs": [
        {
          "output_type": "execute_result",
          "data": {
            "text/plain": [
              "[tensor([[[-1.9361,  3.6532, -4.5496, -3.0958,  0.1073],\n",
              "          [-0.2276, -2.7631,  8.2998, -3.0921, -2.8976]],\n",
              " \n",
              "         [[-0.1263,  0.2471,  2.7077, -5.7338,  1.5066],\n",
              "          [ 2.7799,  2.3619,  3.6385, -1.2817, -3.4543]],\n",
              " \n",
              "         [[ 3.3470, -1.1958,  0.8698,  2.9774, -1.0611],\n",
              "          [-3.4571,  0.4730,  2.3725, -2.5351,  0.1758]],\n",
              " \n",
              "         [[-3.2892,  1.2890,  3.2644, -3.1801, -2.0062],\n",
              "          [-0.4152, -2.6863,  1.7522, -0.9213,  0.4708]],\n",
              " \n",
              "         [[ 0.9667, -0.4748,  1.6789, -1.3763,  1.0445],\n",
              "          [-0.7228, -1.7157,  0.2298,  3.6835,  0.0638]],\n",
              " \n",
              "         [[ 2.6428,  3.8593,  2.5115, -1.4686,  1.3598],\n",
              "          [ 0.9855,  0.8726, -1.3138,  1.2768, -1.6419]],\n",
              " \n",
              "         [[ 0.1484,  0.5587,  3.4641, -1.0538, -0.3224],\n",
              "          [ 2.0086, -1.1389,  4.9956, -3.0921,  2.9877]],\n",
              " \n",
              "         [[ 0.3704,  1.4087,  0.9847, -5.1987,  3.0423],\n",
              "          [ 1.3492,  3.6293, -5.3249, -0.7860, -1.6906]]]),\n",
              " tensor([[[-2.3387e+00,  4.4387e+00, -5.1946e+00, -4.0422e+00,  4.3962e-01],\n",
              "          [-2.1728e-01, -2.9732e+00,  9.4907e+00, -3.3710e+00, -3.1883e+00]],\n",
              " \n",
              "         [[ 2.0276e-01, -9.2876e-02,  3.1358e+00, -6.6704e+00,  1.7956e+00],\n",
              "          [ 2.8254e+00,  2.5415e+00,  4.2165e+00, -1.4941e+00, -4.1127e+00]],\n",
              " \n",
              "         [[ 3.7362e+00, -2.0556e+00,  1.0896e+00,  3.5704e+00, -1.0391e+00],\n",
              "          [-3.6558e+00,  4.9257e-01,  2.6075e+00, -3.0412e+00,  4.8119e-01]],\n",
              " \n",
              "         [[-3.7235e+00,  1.4284e+00,  3.6755e+00, -3.3953e+00, -2.4529e+00],\n",
              "          [-9.0999e-01, -3.1872e+00,  1.8860e+00, -3.7158e-01,  6.2086e-01]],\n",
              " \n",
              "         [[ 1.4762e+00, -8.0343e-01,  1.7009e+00, -1.3772e+00,  1.2898e+00],\n",
              "          [-8.3605e-01, -2.2455e+00,  3.9631e-03,  4.3557e+00,  5.8860e-01]],\n",
              " \n",
              "         [[ 3.1609e+00,  4.0270e+00,  2.1451e+00, -1.6319e+00,  1.6347e+00],\n",
              "          [ 8.8788e-01,  1.2411e+00, -1.6089e+00,  1.5255e+00, -1.5483e+00]],\n",
              " \n",
              "         [[ 3.9891e-01,  6.8366e-01,  3.9276e+00, -1.5436e+00, -6.7803e-01],\n",
              "          [ 2.3689e+00, -1.2174e+00,  5.8803e+00, -3.8949e+00,  2.9613e+00]],\n",
              " \n",
              "         [[ 3.2670e-01,  1.6731e+00,  1.1440e+00, -6.0651e+00,  3.5464e+00],\n",
              "          [ 1.4712e+00,  4.2690e+00, -6.1018e+00, -8.5101e-01, -2.0581e+00]]]),\n",
              " tensor([[[-7.8778e-01,  1.5892e+00, -1.2906e+00, -1.9173e+00,  6.5388e-01],\n",
              "          [ 2.6745e-02, -4.2110e-01,  2.3834e+00, -5.7854e-01, -5.6755e-01]],\n",
              " \n",
              "         [[ 5.7024e-02, -7.8515e-02,  8.5304e-01, -1.8673e+00,  5.7488e-01],\n",
              "          [-3.4114e-01,  7.9385e-01,  1.1476e+00, -4.2480e-01, -1.3109e+00]],\n",
              " \n",
              "         [[ 8.8020e-01, -2.3681e+00,  4.3961e-01,  1.0840e+00,  6.9268e-01],\n",
              "          [-6.8094e-01,  6.3353e-01,  4.7359e-01, -7.2690e-01,  1.1169e-02]],\n",
              " \n",
              "         [[-5.3143e-01,  2.9121e-01,  8.2574e-01, -7.8909e-01, -8.8795e-01],\n",
              "          [ 2.8612e-02, -1.0002e+00,  2.6060e-01,  8.0578e-02,  3.0618e-01]],\n",
              " \n",
              "         [[ 9.4777e-01, -7.0902e-01,  6.6431e-01,  1.9393e-03, -1.0332e-02],\n",
              "          [-8.9271e-02, -1.1110e+00, -3.5542e-01,  1.3413e+00,  8.7051e-01]],\n",
              " \n",
              "         [[ 8.2333e-01,  5.3276e-01, -4.5460e-01, -3.2046e-01,  2.8122e-01],\n",
              "          [-1.8801e-01,  7.3475e-01, -5.7071e-01,  4.9280e-01,  1.6743e-01]],\n",
              " \n",
              "         [[ 6.0753e-01,  2.7120e-01,  9.2464e-01, -9.9953e-01, -8.1676e-01],\n",
              "          [ 5.7296e-01, -1.3809e-01,  1.7696e+00, -1.6305e+00,  1.0056e-01]],\n",
              " \n",
              "         [[-6.9162e-02,  5.1321e-01,  3.2177e-01, -1.7174e+00,  9.8712e-01],\n",
              "          [ 2.5791e-01,  1.2361e+00, -1.5323e+00, -1.2850e-01, -7.2907e-01]]]),\n",
              " tensor([[-1.,  1.,  1.,  1., -1.],\n",
              "         [ 1., -1., -1., -1., -1.],\n",
              "         [-1.,  1.,  1.,  1., -1.],\n",
              "         [-1., -1., -1.,  1.,  1.],\n",
              "         [ 1., -1., -1.,  1.,  1.],\n",
              "         [ 1., -1., -1.,  1.,  1.],\n",
              "         [ 1., -1., -1.,  1., -1.],\n",
              "         [ 1.,  1.,  1.,  1.,  1.]])]"
            ]
          },
          "metadata": {},
          "execution_count": 139
        }
      ]
    },
    {
      "cell_type": "code",
      "source": [
        "test_initial_pos = positions_test[:,0,:,:]\n",
        "test_final_pos = positions_test[:,1,:,:]\n",
        "test_initial_v = velocities_test[:,0,:,:]\n",
        "test_charges = charges_test[:,:,0]\n",
        "\n",
        "test_data = MyDataset(test_initial_pos, test_final_pos, test_initial_v, test_charges)\n",
        "test_loader = torch.utils.data.DataLoader(test_data, batch_size=5)"
      ],
      "metadata": {
        "id": "p-Mp78gHZ8iy"
      },
      "id": "p-Mp78gHZ8iy",
      "execution_count": 140,
      "outputs": []
    },
    {
      "cell_type": "code",
      "source": [
        "def input_target(position, final, velocity, charge):\n",
        "    initial_x = position[0][0][:]\n",
        "    initial_y = position[0][1][:]\n",
        "    final_x = final[0][0][:]\n",
        "    final_y = final[0][1][:]\n",
        "    v_x = velocity[0][0][:]\n",
        "    v_y = velocity[0][1][:]\n",
        "    ch = charge[0][:]\n",
        "\n",
        "    input = torch.cat((initial_x, initial_y, v_x, v_y, ch))\n",
        "    target = torch.cat((final_x, final_y))\n",
        "\n",
        "    return input, target"
      ],
      "metadata": {
        "id": "zhjlqGrSfDUv"
      },
      "id": "zhjlqGrSfDUv",
      "execution_count": 141,
      "outputs": []
    },
    {
      "cell_type": "markdown",
      "source": [
        "# Model Implementation"
      ],
      "metadata": {
        "id": "g4mXQimACf4e"
      },
      "id": "g4mXQimACf4e"
    },
    {
      "cell_type": "code",
      "source": [
        "import torch.nn as nn\n",
        "from torch import optim\n",
        "import torch\n",
        "import torch.nn.functional as F\n",
        "\n",
        "class MLP(nn.Module):\n",
        "  '''\n",
        "    Multilayer Perceptron for regression.\n",
        "  '''\n",
        "  def __init__(self):\n",
        "    super().__init__()\n",
        "    self.layers = nn.Sequential(\n",
        "      nn.Linear(25, 64),\n",
        "      nn.ReLU(),\n",
        "      nn.Linear(64, 128),\n",
        "      nn.ReLU(),\n",
        "      nn.Linear(128, 256),\n",
        "      nn.ReLU(),\n",
        "      nn.Linear(256, 10)\n",
        "    )\n",
        "\n",
        "  def forward(self, x):\n",
        "    '''\n",
        "      Forward pass\n",
        "    '''\n",
        "    return self.layers(x)"
      ],
      "metadata": {
        "id": "4pprRqiNTGEC"
      },
      "id": "4pprRqiNTGEC",
      "execution_count": 142,
      "outputs": []
    },
    {
      "cell_type": "code",
      "source": [
        "# Initialize the MLP\n",
        "device = torch.device('cuda:0' if torch.cuda.is_available() else 'cpu')\n",
        "model = MLP()\n",
        "model = model.to(device)\n",
        "\n",
        "# Define the loss function and optimizer"
      ],
      "metadata": {
        "id": "pwJHUz6MTGA0"
      },
      "id": "pwJHUz6MTGA0",
      "execution_count": 143,
      "outputs": []
    },
    {
      "cell_type": "code",
      "source": [
        "# saving and loading checkpoint mechanisms\n",
        "def save_checkpoint(save_path, model, optimizer, val_loss):\n",
        "    if save_path==None:\n",
        "        return\n",
        "    save_path = save_path \n",
        "    state_dict = {'model_state_dict': model.state_dict(),\n",
        "                  'optimizer_state_dict': optimizer.state_dict(),\n",
        "                  'val_loss': val_loss}\n",
        "\n",
        "    torch.save(state_dict, save_path)\n",
        "\n",
        "    print(f'Model saved to ==> {save_path}')\n",
        "\n",
        "def load_checkpoint(model, optimizer):\n",
        "    save_path = f'MLP-checkpoint.pt'\n",
        "    state_dict = torch.load(save_path)\n",
        "    model.load_state_dict(state_dict['model_state_dict'])\n",
        "    optimizer.load_state_dict(state_dict['optimizer_state_dict'])\n",
        "    val_loss = state_dict['val_loss']\n",
        "    print(f'Model loaded from <== {save_path}')\n",
        "    \n",
        "    return val_loss"
      ],
      "metadata": {
        "id": "Rjp7HC9nFmdU"
      },
      "id": "Rjp7HC9nFmdU",
      "execution_count": 144,
      "outputs": []
    },
    {
      "cell_type": "code",
      "source": [
        "print(len(train_loader))"
      ],
      "metadata": {
        "colab": {
          "base_uri": "https://localhost:8080/"
        },
        "id": "46Q4bQA-ufsg",
        "outputId": "532d1758-8604-4aa6-a976-9ef5948c51d5"
      },
      "id": "46Q4bQA-ufsg",
      "execution_count": 145,
      "outputs": [
        {
          "output_type": "stream",
          "name": "stdout",
          "text": [
            "1250\n"
          ]
        }
      ]
    },
    {
      "cell_type": "markdown",
      "source": [
        "# Model Training"
      ],
      "metadata": {
        "id": "ioLoui5mhQhe"
      },
      "id": "ioLoui5mhQhe"
    },
    {
      "cell_type": "code",
      "source": [
        "import tqdm, time\n",
        "\n",
        "# training and validation after every epoch\n",
        "def train(model, train_loader, val_loader, num_epochs, criterion, save_name):\n",
        "    best_val_loss = float(\"Inf\") \n",
        "    best_val_acc = 0.0\n",
        "    epoch_best = 0\n",
        "    epoch_val_best = 0\n",
        "    train_losses = []\n",
        "    val_losses = []\n",
        "    train_acc = []\n",
        "    val_acc = []\n",
        "    cur_step = 0\n",
        "    for epoch in range(num_epochs):\n",
        "        start_time = time.time()\n",
        "        running_loss = 0.0\n",
        "        tr_acc = []\n",
        "        model.train()\n",
        "        print(\"Starting epoch \" + str(epoch+1))\n",
        "        # ============ Training ============ #\n",
        "        for position, final, velocity, charge in train_loader:\n",
        "            #plot_case(99,train_data,labels)\n",
        "            initial_pos, target_pos = input_target(position, final, velocity, charge)\n",
        "            initial_pos = initial_pos.to(device)\n",
        "            target_pos = target_pos.to(device)\n",
        "            #case_loss = 0.0\n",
        "            #print(initial_pos)\n",
        "            optimizer.zero_grad()\n",
        "            outputs = model(initial_pos)\n",
        "            loss = torch.sqrt(criterion(outputs, target_pos))\n",
        "\n",
        "            #case_loss += loss.item()\n",
        "            # Backward and optimize\n",
        "            loss.backward()\n",
        "            optimizer.step()\n",
        "\n",
        "            #print(outputs, target_pos)\n",
        "            running_loss += loss.item()\n",
        "            #print(running_loss)\n",
        "            #breakpoint()\n",
        "\n",
        "        avg_train_loss = running_loss / len(train_loader)\n",
        "        train_losses.append(avg_train_loss)\n",
        "        \n",
        "        # ============ Validation ============ #\n",
        "        val_running_loss = 0.0\n",
        "        va_acc = []\n",
        "        with torch.no_grad():\n",
        "            model.eval()\n",
        "            for position, final, velocity, charge in val_loader:\n",
        "                #case_loss = 0.0\n",
        "                initial_pos, target_pos = input_target(position, final, velocity, charge)\n",
        "                initial_pos = initial_pos.to(device)\n",
        "                target_pos = target_pos.to(device)\n",
        "                outputs = model(initial_pos)\n",
        "                loss = torch.sqrt(criterion(outputs, target_pos))\n",
        "\n",
        "                #case_loss += loss.item()\n",
        "\n",
        "                val_running_loss += loss.item()\n",
        "\n",
        "        avg_val_loss = val_running_loss / len(val_loader)\n",
        "        val_losses.append(avg_val_loss)\n",
        "        \n",
        "        print('Epoch [{}/{}], train_loss: {:.4f}, val_loss: {:.4f}, elapsed_time: {:.4f}'\n",
        "            .format(epoch+1, num_epochs, avg_train_loss, avg_val_loss, time.time()-start_time))\n",
        "        if avg_val_loss < best_val_loss:\n",
        "            best_val_loss = avg_val_loss\n",
        "            epoch_val_best = epoch+1\n",
        "            save_checkpoint(save_name, model, optimizer, best_val_loss)\n",
        "    \n",
        "    print(\"Finished Training\")  \n",
        "    return train_losses, val_losses, best_val_loss, epoch_val_best"
      ],
      "metadata": {
        "id": "gwNut7gJFmTF"
      },
      "id": "gwNut7gJFmTF",
      "execution_count": 146,
      "outputs": []
    },
    {
      "cell_type": "code",
      "source": [
        "!pip install torchmetrics"
      ],
      "metadata": {
        "colab": {
          "base_uri": "https://localhost:8080/"
        },
        "id": "cMN1rTui5VrA",
        "outputId": "fd1e6902-ca47-4d0c-b96b-94af875d306b"
      },
      "id": "cMN1rTui5VrA",
      "execution_count": 147,
      "outputs": [
        {
          "output_type": "stream",
          "name": "stdout",
          "text": [
            "Looking in indexes: https://pypi.org/simple, https://us-python.pkg.dev/colab-wheels/public/simple/\n",
            "Requirement already satisfied: torchmetrics in /usr/local/lib/python3.7/dist-packages (0.9.1)\n",
            "Requirement already satisfied: torch>=1.3.1 in /usr/local/lib/python3.7/dist-packages (from torchmetrics) (1.11.0+cu113)\n",
            "Requirement already satisfied: typing-extensions in /usr/local/lib/python3.7/dist-packages (from torchmetrics) (4.2.0)\n",
            "Requirement already satisfied: packaging in /usr/local/lib/python3.7/dist-packages (from torchmetrics) (21.3)\n",
            "Requirement already satisfied: numpy>=1.17.2 in /usr/local/lib/python3.7/dist-packages (from torchmetrics) (1.21.6)\n",
            "Requirement already satisfied: pyparsing!=3.0.5,>=2.0.2 in /usr/local/lib/python3.7/dist-packages (from packaging->torchmetrics) (3.0.9)\n"
          ]
        }
      ]
    },
    {
      "cell_type": "markdown",
      "source": [
        "# Evaluation\n",
        "\n"
      ],
      "metadata": {
        "id": "x-9ArLarhS3B"
      },
      "id": "x-9ArLarhS3B"
    },
    {
      "cell_type": "code",
      "source": [
        "from torchmetrics import R2Score\n",
        "r2score = R2Score().to(device)\n",
        "\n",
        "# ============ Testing ============ #\n",
        "def eval(model, test_loader, criterion):\n",
        "    with torch.no_grad():\n",
        "        correct = 0\n",
        "        count = 0\n",
        "        test_loss = 0.0\n",
        "        r2_score = 0.0\n",
        "        for position, final, velocity, charge in test_loader:\n",
        "            initial_pos, target_pos = input_target(position, final, velocity, charge)\n",
        "            initial_pos = initial_pos.to(device)\n",
        "            target_pos = target_pos.to(device)\n",
        "\n",
        "            outputs = model(initial_pos)\n",
        "            rmse_loss = torch.sqrt(criterion(outputs, target_pos))\n",
        "            score = r2score(outputs, target_pos)\n",
        "\n",
        "            #case_loss += loss.item()\n",
        "\n",
        "            test_loss += rmse_loss.item()\n",
        "            r2_score += score\n",
        "            count+=1\n",
        "            if count % 200 == 0:\n",
        "                print(\"Output pos: \", outputs)\n",
        "                print(\"Actual pos: \", target_pos)\n",
        "                print(f\"RMSE Loss after {count} simulations:\", test_loss/count)\n",
        "                print(\"\\n\")\n",
        "\n",
        "    avg_test_loss = test_loss / len(test_loader)\n",
        "    avg_r2_score = r2_score / len(test_loader)\n",
        "    return avg_test_loss, avg_r2_score"
      ],
      "metadata": {
        "id": "bQ7aD4k8N7r-"
      },
      "id": "bQ7aD4k8N7r-",
      "execution_count": 148,
      "outputs": []
    },
    {
      "cell_type": "code",
      "source": [
        "# actual training\n",
        "import torch.optim as optim\n",
        "\n",
        "optimizer = torch.optim.Adam(model.parameters(), lr=1e-4)\n",
        "num_epochs = 100\n",
        "criterion = nn.MSELoss()\n",
        "\n",
        "save_path = 'MLP-checkpoint.pt'\n",
        "train_losses, val_losses, best_val_loss, epoch_loss = train(model, train_loader, val_loader, num_epochs, criterion, save_path)"
      ],
      "metadata": {
        "colab": {
          "base_uri": "https://localhost:8080/"
        },
        "id": "Tkv7f5PcFmPT",
        "outputId": "ba1af44c-1c5e-4d60-9b6d-71e765d01948"
      },
      "id": "Tkv7f5PcFmPT",
      "execution_count": 149,
      "outputs": [
        {
          "output_type": "stream",
          "name": "stdout",
          "text": [
            "Starting epoch 1\n",
            "Epoch [1/100], train_loss: 1.9784, val_loss: 1.0612, elapsed_time: 2.4927\n",
            "Model saved to ==> MLP-checkpoint.pt\n",
            "Starting epoch 2\n",
            "Epoch [2/100], train_loss: 0.7869, val_loss: 0.6453, elapsed_time: 2.5475\n",
            "Model saved to ==> MLP-checkpoint.pt\n",
            "Starting epoch 3\n",
            "Epoch [3/100], train_loss: 0.5423, val_loss: 0.5098, elapsed_time: 2.4997\n",
            "Model saved to ==> MLP-checkpoint.pt\n",
            "Starting epoch 4\n",
            "Epoch [4/100], train_loss: 0.4509, val_loss: 0.4548, elapsed_time: 2.5080\n",
            "Model saved to ==> MLP-checkpoint.pt\n",
            "Starting epoch 5\n",
            "Epoch [5/100], train_loss: 0.4044, val_loss: 0.4193, elapsed_time: 3.3319\n",
            "Model saved to ==> MLP-checkpoint.pt\n",
            "Starting epoch 6\n",
            "Epoch [6/100], train_loss: 0.3742, val_loss: 0.3963, elapsed_time: 3.1162\n",
            "Model saved to ==> MLP-checkpoint.pt\n",
            "Starting epoch 7\n",
            "Epoch [7/100], train_loss: 0.3525, val_loss: 0.3797, elapsed_time: 2.4999\n",
            "Model saved to ==> MLP-checkpoint.pt\n",
            "Starting epoch 8\n",
            "Epoch [8/100], train_loss: 0.3355, val_loss: 0.3666, elapsed_time: 2.4300\n",
            "Model saved to ==> MLP-checkpoint.pt\n",
            "Starting epoch 9\n",
            "Epoch [9/100], train_loss: 0.3217, val_loss: 0.3568, elapsed_time: 2.4618\n",
            "Model saved to ==> MLP-checkpoint.pt\n",
            "Starting epoch 10\n",
            "Epoch [10/100], train_loss: 0.3101, val_loss: 0.3480, elapsed_time: 2.4787\n",
            "Model saved to ==> MLP-checkpoint.pt\n",
            "Starting epoch 11\n",
            "Epoch [11/100], train_loss: 0.3001, val_loss: 0.3409, elapsed_time: 2.4770\n",
            "Model saved to ==> MLP-checkpoint.pt\n",
            "Starting epoch 12\n",
            "Epoch [12/100], train_loss: 0.2913, val_loss: 0.3346, elapsed_time: 2.4627\n",
            "Model saved to ==> MLP-checkpoint.pt\n",
            "Starting epoch 13\n",
            "Epoch [13/100], train_loss: 0.2835, val_loss: 0.3292, elapsed_time: 2.4778\n",
            "Model saved to ==> MLP-checkpoint.pt\n",
            "Starting epoch 14\n",
            "Epoch [14/100], train_loss: 0.2765, val_loss: 0.3242, elapsed_time: 2.4788\n",
            "Model saved to ==> MLP-checkpoint.pt\n",
            "Starting epoch 15\n",
            "Epoch [15/100], train_loss: 0.2702, val_loss: 0.3199, elapsed_time: 2.4647\n",
            "Model saved to ==> MLP-checkpoint.pt\n",
            "Starting epoch 16\n",
            "Epoch [16/100], train_loss: 0.2644, val_loss: 0.3164, elapsed_time: 2.4488\n",
            "Model saved to ==> MLP-checkpoint.pt\n",
            "Starting epoch 17\n",
            "Epoch [17/100], train_loss: 0.2592, val_loss: 0.3136, elapsed_time: 2.4541\n",
            "Model saved to ==> MLP-checkpoint.pt\n",
            "Starting epoch 18\n",
            "Epoch [18/100], train_loss: 0.2545, val_loss: 0.3113, elapsed_time: 2.4736\n",
            "Model saved to ==> MLP-checkpoint.pt\n",
            "Starting epoch 19\n",
            "Epoch [19/100], train_loss: 0.2501, val_loss: 0.3090, elapsed_time: 2.4948\n",
            "Model saved to ==> MLP-checkpoint.pt\n",
            "Starting epoch 20\n",
            "Epoch [20/100], train_loss: 0.2460, val_loss: 0.3068, elapsed_time: 2.5057\n",
            "Model saved to ==> MLP-checkpoint.pt\n",
            "Starting epoch 21\n",
            "Epoch [21/100], train_loss: 0.2421, val_loss: 0.3045, elapsed_time: 2.4858\n",
            "Model saved to ==> MLP-checkpoint.pt\n",
            "Starting epoch 22\n",
            "Epoch [22/100], train_loss: 0.2385, val_loss: 0.3023, elapsed_time: 2.4922\n",
            "Model saved to ==> MLP-checkpoint.pt\n",
            "Starting epoch 23\n",
            "Epoch [23/100], train_loss: 0.2351, val_loss: 0.3001, elapsed_time: 2.8067\n",
            "Model saved to ==> MLP-checkpoint.pt\n",
            "Starting epoch 24\n",
            "Epoch [24/100], train_loss: 0.2319, val_loss: 0.2983, elapsed_time: 2.5220\n",
            "Model saved to ==> MLP-checkpoint.pt\n",
            "Starting epoch 25\n",
            "Epoch [25/100], train_loss: 0.2290, val_loss: 0.2967, elapsed_time: 2.5127\n",
            "Model saved to ==> MLP-checkpoint.pt\n",
            "Starting epoch 26\n",
            "Epoch [26/100], train_loss: 0.2261, val_loss: 0.2945, elapsed_time: 2.5151\n",
            "Model saved to ==> MLP-checkpoint.pt\n",
            "Starting epoch 27\n",
            "Epoch [27/100], train_loss: 0.2234, val_loss: 0.2938, elapsed_time: 2.4969\n",
            "Model saved to ==> MLP-checkpoint.pt\n",
            "Starting epoch 28\n",
            "Epoch [28/100], train_loss: 0.2209, val_loss: 0.2920, elapsed_time: 2.4978\n",
            "Model saved to ==> MLP-checkpoint.pt\n",
            "Starting epoch 29\n",
            "Epoch [29/100], train_loss: 0.2183, val_loss: 0.2913, elapsed_time: 2.4367\n",
            "Model saved to ==> MLP-checkpoint.pt\n",
            "Starting epoch 30\n",
            "Epoch [30/100], train_loss: 0.2161, val_loss: 0.2900, elapsed_time: 2.4582\n",
            "Model saved to ==> MLP-checkpoint.pt\n",
            "Starting epoch 31\n",
            "Epoch [31/100], train_loss: 0.2138, val_loss: 0.2891, elapsed_time: 2.4870\n",
            "Model saved to ==> MLP-checkpoint.pt\n",
            "Starting epoch 32\n",
            "Epoch [32/100], train_loss: 0.2119, val_loss: 0.2891, elapsed_time: 2.4793\n",
            "Starting epoch 33\n",
            "Epoch [33/100], train_loss: 0.2096, val_loss: 0.2884, elapsed_time: 2.4553\n",
            "Model saved to ==> MLP-checkpoint.pt\n",
            "Starting epoch 34\n",
            "Epoch [34/100], train_loss: 0.2079, val_loss: 0.2884, elapsed_time: 2.5247\n",
            "Model saved to ==> MLP-checkpoint.pt\n",
            "Starting epoch 35\n",
            "Epoch [35/100], train_loss: 0.2057, val_loss: 0.2884, elapsed_time: 2.4841\n",
            "Starting epoch 36\n",
            "Epoch [36/100], train_loss: 0.2041, val_loss: 0.2877, elapsed_time: 2.5663\n",
            "Model saved to ==> MLP-checkpoint.pt\n",
            "Starting epoch 37\n",
            "Epoch [37/100], train_loss: 0.2022, val_loss: 0.2877, elapsed_time: 2.4705\n",
            "Starting epoch 38\n",
            "Epoch [38/100], train_loss: 0.2007, val_loss: 0.2870, elapsed_time: 2.5231\n",
            "Model saved to ==> MLP-checkpoint.pt\n",
            "Starting epoch 39\n",
            "Epoch [39/100], train_loss: 0.1989, val_loss: 0.2865, elapsed_time: 2.4518\n",
            "Model saved to ==> MLP-checkpoint.pt\n",
            "Starting epoch 40\n",
            "Epoch [40/100], train_loss: 0.1976, val_loss: 0.2871, elapsed_time: 2.4729\n",
            "Starting epoch 41\n",
            "Epoch [41/100], train_loss: 0.1958, val_loss: 0.2857, elapsed_time: 2.5560\n",
            "Model saved to ==> MLP-checkpoint.pt\n",
            "Starting epoch 42\n",
            "Epoch [42/100], train_loss: 0.1945, val_loss: 0.2862, elapsed_time: 2.4919\n",
            "Starting epoch 43\n",
            "Epoch [43/100], train_loss: 0.1931, val_loss: 0.2856, elapsed_time: 2.4974\n",
            "Model saved to ==> MLP-checkpoint.pt\n",
            "Starting epoch 44\n",
            "Epoch [44/100], train_loss: 0.1922, val_loss: 0.2865, elapsed_time: 2.4773\n",
            "Starting epoch 45\n",
            "Epoch [45/100], train_loss: 0.1904, val_loss: 0.2857, elapsed_time: 2.4750\n",
            "Starting epoch 46\n",
            "Epoch [46/100], train_loss: 0.1897, val_loss: 0.2853, elapsed_time: 2.4622\n",
            "Model saved to ==> MLP-checkpoint.pt\n",
            "Starting epoch 47\n",
            "Epoch [47/100], train_loss: 0.1884, val_loss: 0.2857, elapsed_time: 2.4786\n",
            "Starting epoch 48\n",
            "Epoch [48/100], train_loss: 0.1871, val_loss: 0.2855, elapsed_time: 2.4688\n",
            "Starting epoch 49\n",
            "Epoch [49/100], train_loss: 0.1864, val_loss: 0.2857, elapsed_time: 2.4644\n",
            "Starting epoch 50\n",
            "Epoch [50/100], train_loss: 0.1848, val_loss: 0.2834, elapsed_time: 2.4835\n",
            "Model saved to ==> MLP-checkpoint.pt\n",
            "Starting epoch 51\n",
            "Epoch [51/100], train_loss: 0.1841, val_loss: 0.2850, elapsed_time: 2.4636\n",
            "Starting epoch 52\n",
            "Epoch [52/100], train_loss: 0.1825, val_loss: 0.2819, elapsed_time: 2.4714\n",
            "Model saved to ==> MLP-checkpoint.pt\n",
            "Starting epoch 53\n",
            "Epoch [53/100], train_loss: 0.1816, val_loss: 0.2859, elapsed_time: 2.4723\n",
            "Starting epoch 54\n",
            "Epoch [54/100], train_loss: 0.1806, val_loss: 0.2816, elapsed_time: 2.4698\n",
            "Model saved to ==> MLP-checkpoint.pt\n",
            "Starting epoch 55\n",
            "Epoch [55/100], train_loss: 0.1794, val_loss: 0.2843, elapsed_time: 2.4701\n",
            "Starting epoch 56\n",
            "Epoch [56/100], train_loss: 0.1787, val_loss: 0.2813, elapsed_time: 2.4912\n",
            "Model saved to ==> MLP-checkpoint.pt\n",
            "Starting epoch 57\n",
            "Epoch [57/100], train_loss: 0.1776, val_loss: 0.2835, elapsed_time: 2.4627\n",
            "Starting epoch 58\n",
            "Epoch [58/100], train_loss: 0.1769, val_loss: 0.2829, elapsed_time: 2.4699\n",
            "Starting epoch 59\n",
            "Epoch [59/100], train_loss: 0.1760, val_loss: 0.2816, elapsed_time: 2.4500\n",
            "Starting epoch 60\n",
            "Epoch [60/100], train_loss: 0.1750, val_loss: 0.2828, elapsed_time: 2.4542\n",
            "Starting epoch 61\n",
            "Epoch [61/100], train_loss: 0.1744, val_loss: 0.2810, elapsed_time: 2.4572\n",
            "Model saved to ==> MLP-checkpoint.pt\n",
            "Starting epoch 62\n",
            "Epoch [62/100], train_loss: 0.1734, val_loss: 0.2823, elapsed_time: 2.4794\n",
            "Starting epoch 63\n",
            "Epoch [63/100], train_loss: 0.1725, val_loss: 0.2803, elapsed_time: 2.4354\n",
            "Model saved to ==> MLP-checkpoint.pt\n",
            "Starting epoch 64\n",
            "Epoch [64/100], train_loss: 0.1714, val_loss: 0.2810, elapsed_time: 2.4472\n",
            "Starting epoch 65\n",
            "Epoch [65/100], train_loss: 0.1707, val_loss: 0.2802, elapsed_time: 2.4553\n",
            "Model saved to ==> MLP-checkpoint.pt\n",
            "Starting epoch 66\n",
            "Epoch [66/100], train_loss: 0.1703, val_loss: 0.2785, elapsed_time: 2.4488\n",
            "Model saved to ==> MLP-checkpoint.pt\n",
            "Starting epoch 67\n",
            "Epoch [67/100], train_loss: 0.1703, val_loss: 0.2809, elapsed_time: 2.4628\n",
            "Starting epoch 68\n",
            "Epoch [68/100], train_loss: 0.1692, val_loss: 0.2788, elapsed_time: 2.5030\n",
            "Starting epoch 69\n",
            "Epoch [69/100], train_loss: 0.1681, val_loss: 0.2806, elapsed_time: 2.4704\n",
            "Starting epoch 70\n",
            "Epoch [70/100], train_loss: 0.1674, val_loss: 0.2804, elapsed_time: 2.4710\n",
            "Starting epoch 71\n",
            "Epoch [71/100], train_loss: 0.1672, val_loss: 0.2799, elapsed_time: 2.4685\n",
            "Starting epoch 72\n",
            "Epoch [72/100], train_loss: 0.1665, val_loss: 0.2810, elapsed_time: 2.4885\n",
            "Starting epoch 73\n",
            "Epoch [73/100], train_loss: 0.1660, val_loss: 0.2798, elapsed_time: 2.4707\n",
            "Starting epoch 74\n",
            "Epoch [74/100], train_loss: 0.1647, val_loss: 0.2793, elapsed_time: 2.4787\n",
            "Starting epoch 75\n",
            "Epoch [75/100], train_loss: 0.1638, val_loss: 0.2802, elapsed_time: 2.4743\n",
            "Starting epoch 76\n",
            "Epoch [76/100], train_loss: 0.1632, val_loss: 0.2787, elapsed_time: 2.4989\n",
            "Starting epoch 77\n",
            "Epoch [77/100], train_loss: 0.1645, val_loss: 0.2792, elapsed_time: 2.4752\n",
            "Starting epoch 78\n",
            "Epoch [78/100], train_loss: 0.1627, val_loss: 0.2783, elapsed_time: 2.4941\n",
            "Model saved to ==> MLP-checkpoint.pt\n",
            "Starting epoch 79\n",
            "Epoch [79/100], train_loss: 0.1620, val_loss: 0.2779, elapsed_time: 2.4722\n",
            "Model saved to ==> MLP-checkpoint.pt\n",
            "Starting epoch 80\n",
            "Epoch [80/100], train_loss: 0.1621, val_loss: 0.2814, elapsed_time: 2.4944\n",
            "Starting epoch 81\n",
            "Epoch [81/100], train_loss: 0.1612, val_loss: 0.2808, elapsed_time: 2.5052\n",
            "Starting epoch 82\n",
            "Epoch [82/100], train_loss: 0.1598, val_loss: 0.2790, elapsed_time: 2.4723\n",
            "Starting epoch 83\n",
            "Epoch [83/100], train_loss: 0.1595, val_loss: 0.2817, elapsed_time: 2.5097\n",
            "Starting epoch 84\n",
            "Epoch [84/100], train_loss: 0.1601, val_loss: 0.2816, elapsed_time: 2.5031\n",
            "Starting epoch 85\n",
            "Epoch [85/100], train_loss: 0.1590, val_loss: 0.2784, elapsed_time: 2.4969\n",
            "Starting epoch 86\n",
            "Epoch [86/100], train_loss: 0.1585, val_loss: 0.2803, elapsed_time: 2.4577\n",
            "Starting epoch 87\n",
            "Epoch [87/100], train_loss: 0.1583, val_loss: 0.2844, elapsed_time: 2.4638\n",
            "Starting epoch 88\n",
            "Epoch [88/100], train_loss: 0.1580, val_loss: 0.2799, elapsed_time: 2.4871\n",
            "Starting epoch 89\n",
            "Epoch [89/100], train_loss: 0.1563, val_loss: 0.2779, elapsed_time: 2.4919\n",
            "Starting epoch 90\n",
            "Epoch [90/100], train_loss: 0.1565, val_loss: 0.2788, elapsed_time: 2.4686\n",
            "Starting epoch 91\n",
            "Epoch [91/100], train_loss: 0.1559, val_loss: 0.2785, elapsed_time: 2.4766\n",
            "Starting epoch 92\n",
            "Epoch [92/100], train_loss: 0.1557, val_loss: 0.2824, elapsed_time: 2.5050\n",
            "Starting epoch 93\n",
            "Epoch [93/100], train_loss: 0.1555, val_loss: 0.2766, elapsed_time: 2.4856\n",
            "Model saved to ==> MLP-checkpoint.pt\n",
            "Starting epoch 94\n",
            "Epoch [94/100], train_loss: 0.1545, val_loss: 0.2810, elapsed_time: 2.5051\n",
            "Starting epoch 95\n",
            "Epoch [95/100], train_loss: 0.1535, val_loss: 0.2819, elapsed_time: 2.4735\n",
            "Starting epoch 96\n",
            "Epoch [96/100], train_loss: 0.1529, val_loss: 0.2798, elapsed_time: 2.4872\n",
            "Starting epoch 97\n",
            "Epoch [97/100], train_loss: 0.1538, val_loss: 0.2748, elapsed_time: 2.4790\n",
            "Model saved to ==> MLP-checkpoint.pt\n",
            "Starting epoch 98\n",
            "Epoch [98/100], train_loss: 0.1525, val_loss: 0.2781, elapsed_time: 2.4616\n",
            "Starting epoch 99\n",
            "Epoch [99/100], train_loss: 0.1517, val_loss: 0.2776, elapsed_time: 2.4774\n",
            "Starting epoch 100\n",
            "Epoch [100/100], train_loss: 0.1518, val_loss: 0.2800, elapsed_time: 2.4816\n",
            "Finished Training\n"
          ]
        }
      ]
    },
    {
      "cell_type": "code",
      "source": [
        "# plotting of training and validation loss\n",
        "plt.xlabel('epoch')\n",
        "plt.ylabel('loss')\n",
        "plt.plot(train_losses, label='Train Loss')\n",
        "plt.plot(val_losses, label=\"Validation Loss\")\n",
        "plt.title(\"Training and Validation Loss [Epoch {}, Min val_loss {:.4f}]\".format(epoch_loss, best_val_loss))\n",
        "plt.legend(bbox_to_anchor=(1.05, 1.0), loc='upper left')\n",
        "plt.show()"
      ],
      "metadata": {
        "colab": {
          "base_uri": "https://localhost:8080/",
          "height": 295
        },
        "id": "VkK9eSPeFmL8",
        "outputId": "6c9876c0-8b13-4918-8c6c-76200950293f"
      },
      "id": "VkK9eSPeFmL8",
      "execution_count": 150,
      "outputs": [
        {
          "output_type": "display_data",
          "data": {
            "text/plain": [
              "<Figure size 432x288 with 1 Axes>"
            ],
            "image/png": "[encoded data removed]"
          },
          "metadata": {
            "needs_background": "light"
          }
        }
      ]
    },
    {
      "cell_type": "code",
      "source": [
        "# Testing on previously trained model\n",
        "import torch.optim as optim\n",
        "load_model = MLP().to(device)\n",
        "load_optimizer = optim.Adam(model.parameters(),lr=1e-4)\n",
        "\n",
        "best_val_loss = load_checkpoint(load_model, load_optimizer)\n",
        "\n",
        "print('Best val_loss: {:.8f}'.format(best_val_loss))\n",
        "\n",
        "test_loss, r2_score = eval(load_model, test_loader, criterion)\n",
        "print('RMSE Loss on test data: {:.8f}'.format(test_loss))\n",
        "print('R2_score: {:.4f}'.format(r2_score))"
      ],
      "metadata": {
        "colab": {
          "base_uri": "https://localhost:8080/"
        },
        "id": "kvJkyI6GFmIQ",
        "outputId": "c1978780-f2df-424d-d850-978f5b0da5fd"
      },
      "id": "kvJkyI6GFmIQ",
      "execution_count": 151,
      "outputs": [
        {
          "output_type": "stream",
          "name": "stdout",
          "text": [
            "Model loaded from <== MLP-checkpoint.pt\n",
            "Best val_loss: 0.27482230\n",
            "Output pos:  tensor([-0.4152,  0.5489,  2.8416,  1.3553, -4.9111,  0.9383,  0.7744,  1.9887,\n",
            "        -1.4649,  3.8900], device='cuda:0')\n",
            "Actual pos:  tensor([-0.1832,  0.5443,  2.7473,  1.3889, -5.0052,  1.2809,  1.0530,  2.1327,\n",
            "        -1.5505,  3.6140], device='cuda:0')\n",
            "RMSE Loss after 200 simulations: 0.2939281141385436\n",
            "\n",
            "\n",
            "Output pos:  tensor([-2.3976,  3.7887, -0.3886, -1.0158,  1.9180, -1.3962, -3.0669,  1.8380,\n",
            "         2.3179, -1.9450], device='cuda:0')\n",
            "Actual pos:  tensor([-2.1900,  3.6610, -0.6610, -0.6277,  1.9556, -1.0905, -2.9526,  2.0430,\n",
            "         2.0230, -2.2324], device='cuda:0')\n",
            "RMSE Loss after 400 simulations: 0.2950818271189928\n",
            "\n",
            "\n",
            "RMSE Loss on test data: 0.29508183\n",
            "R2_score: 0.9811\n"
          ]
        }
      ]
    },
    {
      "cell_type": "code",
      "execution_count": 151,
      "id": "3a8240f1",
      "metadata": {
        "id": "3a8240f1"
      },
      "outputs": [],
      "source": [
        ""
      ]
    }
  ],
  "metadata": {
    "kernelspec": {
      "display_name": "Python 3",
      "language": "python",
      "name": "python3"
    },
    "language_info": {
      "codemirror_mode": {
        "name": "ipython",
        "version": 3
      },
      "file_extension": ".py",
      "mimetype": "text/x-python",
      "name": "python",
      "nbconvert_exporter": "python",
      "pygments_lexer": "ipython3",
      "version": "3.8.8"
    },
    "colab": {
      "name": "a2_MLP.ipynb",
      "provenance": [],
      "collapsed_sections": []
    },
    "accelerator": "GPU"
  },
  "nbformat": 4,
  "nbformat_minor": 5
}
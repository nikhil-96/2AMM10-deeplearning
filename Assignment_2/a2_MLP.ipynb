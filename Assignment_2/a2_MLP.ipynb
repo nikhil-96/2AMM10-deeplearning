{
  "cells": [
    {
      "cell_type": "markdown",
      "id": "730fd591",
      "metadata": {
        "id": "730fd591"
      },
      "source": [
        "<a href=\"https://colab.research.google.com/github/vlamen/tue-deeplearning/blob/main/assignments/assignment_2_3/a2_skeleton.ipynb\" target=\"_parent\"><img src=\"https://colab.research.google.com/assets/colab-badge.svg\" alt=\"Open In Colab\"/></a>"
      ]
    },
    {
      "cell_type": "markdown",
      "id": "d32f8d18",
      "metadata": {
        "id": "d32f8d18"
      },
      "source": [
        "# Group Number: 41\n",
        "\n",
        "# Student 1: Nikhil Patni\n",
        "\n",
        "# Student 2: Silvia Sultana\n",
        "\n",
        "# Student 3: Aishvarya Viswanathan"
      ]
    },
    {
      "cell_type": "markdown",
      "id": "faec2056",
      "metadata": {
        "id": "faec2056"
      },
      "source": [
        "# Downloading Data and Preliminaries"
      ]
    },
    {
      "cell_type": "code",
      "execution_count": 1,
      "id": "7d0580a5",
      "metadata": {
        "id": "7d0580a5"
      },
      "outputs": [],
      "source": [
        "import pickle\n",
        "import matplotlib.pyplot as plt\n",
        "import matplotlib\n",
        "import numpy as np\n",
        "\n",
        "from zipfile import ZipFile\n",
        "import requests\n",
        "import io"
      ]
    },
    {
      "cell_type": "code",
      "execution_count": 2,
      "id": "b0756591",
      "metadata": {
        "id": "b0756591"
      },
      "outputs": [],
      "source": [
        "def load_zip(url):\n",
        "    response = requests.get(url)\n",
        "    response.raise_for_status()\n",
        "    zipf = ZipFile(io.BytesIO(response.content))\n",
        "    return {name: zipf.read(name) for name in zipf.namelist()}\n",
        "\n",
        "def load_array(zipfile, fn):\n",
        "    return np.load(io.BytesIO(zipfile[fn]))"
      ]
    },
    {
      "cell_type": "code",
      "execution_count": 3,
      "id": "bb77a4be",
      "metadata": {
        "id": "bb77a4be",
        "colab": {
          "base_uri": "https://localhost:8080/"
        },
        "outputId": "70f3a8f1-d157-441e-c6e3-c75f80cb41fc"
      },
      "outputs": [
        {
          "output_type": "stream",
          "name": "stdout",
          "text": [
            "Shapes of the training data:\n",
            "\n",
            "positions: (10000, 4, 2, 5)\n",
            "velocities: (10000, 1, 2, 5)\n",
            "charges: (10000, 5, 1)\n"
          ]
        }
      ],
      "source": [
        "\"\"\"\n",
        "This cell loads the training, validation or test data as numpy arrays,\n",
        "with the positions, initial velocities and charge data of the particles.\n",
        "\n",
        "The position arrays are shaped as\n",
        "[simulation id, time point (corresponding to t = 0, 0.5, 1 or 1.5), x/y spatial dimension, particle id].\n",
        "\n",
        "The initial velocity arrays are shaped as\n",
        "[simulation id, 1 (corresponding to t=0), x/y spatial dimension, particle id].\n",
        "\n",
        "The charge arrays are shaped as [simulation id, particle id, 1]\n",
        "\n",
        "\"\"\"\n",
        "\n",
        "data = load_zip('https://surfdrive.surf.nl/files/index.php/s/OIgda2ZRG8v0eqB/download')\n",
        "\n",
        "features = ['positions', 'velocities', 'charges']\n",
        "    \n",
        "positions_train, velocities_train, charges_train = (load_array(data, f'data/train/{f}.npy') for f in features)\n",
        "positions_valid, velocities_valid, charges_valid = (load_array(data, f'data/valid/{f}.npy') for f in features)\n",
        "positions_test, velocities_test, charges_test = (load_array(data, f'data/test/{f}.npy') for f in features)\n",
        "\n",
        "print('Shapes of the training data:\\n')\n",
        "print(f'positions: {positions_train.shape}')\n",
        "print(f'velocities: {velocities_train.shape}')\n",
        "print(f'charges: {charges_train.shape}')"
      ]
    },
    {
      "cell_type": "code",
      "execution_count": 4,
      "id": "1c3ea4cb",
      "metadata": {
        "id": "1c3ea4cb",
        "colab": {
          "base_uri": "https://localhost:8080/"
        },
        "outputId": "e4ea25e1-5134-4f09-bc25-9c68666fdf9d"
      },
      "outputs": [
        {
          "output_type": "stream",
          "name": "stdout",
          "text": [
            "An example of retrieving data from the arrays:\n",
            "\n",
            "\n",
            "In simulation 42 of the training set, particle 3 with charge -1.0 had coordinates [ 2.05159559 -1.46130851].\n",
            "The initial velocity of this particle was [ 0.28402364 -0.24784824].\n"
          ]
        }
      ],
      "source": [
        "print('An example of retrieving data from the arrays:\\n\\n')\n",
        "\n",
        "sim_idx = 42\n",
        "t_idx = 2  # t_idx 0, 1, 2, 3 corresponds to t=0, 0.5, 1 and 1.5 respectively\n",
        "spatial_idx = (0,1)  # corresponds to both x and y dimension\n",
        "particle_idx = 3  # corresponds to particle with index 3\n",
        "\n",
        "p = positions_train[sim_idx, t_idx, spatial_idx, particle_idx]\n",
        "v = velocities_train[sim_idx, 0, spatial_idx, particle_idx]  # note: this array contains only the inital velocity -> hence the 0\n",
        "c = charges_train[sim_idx, particle_idx, 0] \n",
        "\n",
        "print(\n",
        "    f'In simulation {sim_idx} of the training set, particle {particle_idx} with charge {c} had coordinates {p}.\\nThe initial velocity of this particle was {v}.'\n",
        ")"
      ]
    },
    {
      "cell_type": "code",
      "execution_count": 5,
      "id": "10a3438a",
      "metadata": {
        "id": "10a3438a",
        "colab": {
          "base_uri": "https://localhost:8080/"
        },
        "outputId": "cdffdb75-9556-46e5-f601-a5eb2b28f52b"
      },
      "outputs": [
        {
          "output_type": "stream",
          "name": "stdout",
          "text": [
            "Overview of no. datapoints:\n",
            "\n",
            "10000 train, 2000 validation, 2000 test simulations\n"
          ]
        }
      ],
      "source": [
        "print('Overview of no. datapoints:\\n')\n",
        "\n",
        "print(f'{len(positions_train)} train, {len(positions_valid)} validation, {len(positions_test)} test simulations')"
      ]
    },
    {
      "cell_type": "code",
      "execution_count": 6,
      "id": "f9106543",
      "metadata": {
        "id": "f9106543"
      },
      "outputs": [],
      "source": [
        "def plot_example(pos, vel):\n",
        "\n",
        "    fig = plt.figure()\n",
        "    axes = plt.gca()\n",
        "    axes.set_xlim([-5., 5.])\n",
        "    axes.set_ylim([-5., 5.])\n",
        "    colors = ['red', 'blue', 'green', 'orange', 'brown']\n",
        "    for i in range(pos.shape[-1]):\n",
        "        plt.plot(pos[0, 0, i], pos[0, 1, i], 'd', color=colors[i])\n",
        "        plt.plot(pos[-1, 0, i], pos[-1, 1, i], 'x', color=colors[i])\n",
        "        plt.plot([pos[0, 0, i], pos[0, 0, i] + vel[0, 0, i]], [pos[0, 1, i], pos[0, 1, i] + vel[0, 1, i]], '--', color=colors[i])\n",
        "    fig.set_size_inches(7, 7)\n",
        "    plt.xlim(np.min(pos)-1, np.max(pos) +1)\n",
        "    plt.ylim(np.min(pos)-1, np.max(pos) +1)\n",
        "    plt.plot([], [], 'd', color='black', label='initial position')\n",
        "    plt.plot([], [], 'x', color='black', label='final position')\n",
        "    plt.plot([], [], '--', color='black', label='initial velocity \\ndirection and magnitude')\n",
        "    plt.legend()\n",
        "    \n",
        "    plt.show()\n",
        "    return"
      ]
    },
    {
      "cell_type": "code",
      "execution_count": 7,
      "id": "d28681a6",
      "metadata": {
        "id": "d28681a6",
        "colab": {
          "base_uri": "https://localhost:8080/",
          "height": 428
        },
        "outputId": "f3918e45-7aa6-4c2d-bff2-9e51b886e264"
      },
      "outputs": [
        {
          "output_type": "display_data",
          "data": {
            "text/plain": [
              "<Figure size 504x504 with 1 Axes>"
            ],
            "image/png": "[encoded data removed]"
          },
          "metadata": {
            "needs_background": "light"
          }
        }
      ],
      "source": [
        "random_idx = np.random.randint(0, 100)\n",
        "plot_example(positions_train[random_idx], velocities_train[random_idx])"
      ]
    },
    {
      "cell_type": "markdown",
      "id": "059b633c",
      "metadata": {
        "id": "059b633c"
      },
      "source": [
        "# Data Handling and Preprocessing"
      ]
    },
    {
      "cell_type": "code",
      "execution_count": 8,
      "id": "e6ecb529",
      "metadata": {
        "id": "e6ecb529"
      },
      "outputs": [],
      "source": [
        "import pandas as pd\n",
        "import torch\n",
        "from torch.utils.data import Dataset, DataLoader"
      ]
    },
    {
      "cell_type": "code",
      "source": [
        "print(len(positions_train))"
      ],
      "metadata": {
        "colab": {
          "base_uri": "https://localhost:8080/"
        },
        "id": "gFh0QoVEP-Tg",
        "outputId": "02fac6ab-ffdc-432d-a2b3-8e94f90e26aa"
      },
      "id": "gFh0QoVEP-Tg",
      "execution_count": 9,
      "outputs": [
        {
          "output_type": "stream",
          "name": "stdout",
          "text": [
            "10000\n"
          ]
        }
      ]
    },
    {
      "cell_type": "code",
      "source": [
        "positions_train.shape"
      ],
      "metadata": {
        "colab": {
          "base_uri": "https://localhost:8080/"
        },
        "id": "W2OJtQfiRCPI",
        "outputId": "a5cad620-38fe-412d-f109-38f7dc2812ea"
      },
      "id": "W2OJtQfiRCPI",
      "execution_count": 11,
      "outputs": [
        {
          "output_type": "execute_result",
          "data": {
            "text/plain": [
              "(10000, 4, 2, 5)"
            ]
          },
          "metadata": {},
          "execution_count": 11
        }
      ]
    },
    {
      "cell_type": "code",
      "source": [
        "import torch\n",
        "from torch.utils.data import Dataset, DataLoader,TensorDataset, random_split\n",
        "import numpy as np\n",
        "\n",
        "class MyDataset(Dataset):\n",
        "    def __init__(self, initial_pos, final_pos, initial_v, charges):\n",
        "        self.initial_pos = torch.FloatTensor(initial_pos)\n",
        "        self.final_pos = torch.FloatTensor(final_pos)\n",
        "        self.initial_v = torch.FloatTensor(initial_v)\n",
        "        self.charges = torch.FloatTensor(charges)\n",
        "        \n",
        "    def __getitem__(self, index):\n",
        "        position = self.initial_pos[index]\n",
        "        final = self.final_pos[index]\n",
        "        velocity = self.initial_v[index]\n",
        "        charge = self.charges[index]\n",
        "\n",
        "        return position, final, velocity, charge\n",
        "   \n",
        "    def __len__(self):\n",
        "        return len(self.initial_pos)"
      ],
      "metadata": {
        "id": "ukdiSChx1dKm"
      },
      "id": "ukdiSChx1dKm",
      "execution_count": 12,
      "outputs": []
    },
    {
      "cell_type": "code",
      "source": [
        "# Dataset Formation and DataLoader\n",
        "initial_pos = positions_train[:,0,:,:]\n",
        "final_pos_1 = positions_train[:,1,:,:] #prediction for first time step\n",
        "final_pos_2 = positions_train[:,2,:,:] #prediction for second time step\n",
        "final_pos_3 = positions_train[:,3,:,:] #prediction for third time step\n",
        "initial_v = velocities_train[:,0,:,:]\n",
        "charges = charges_train[:,:,0]\n",
        "\n",
        "val_initial_pos = positions_valid[:,0,:,:]\n",
        "val_final_pos_1 = positions_valid[:,1,:,:]\n",
        "val_final_pos_2 = positions_valid[:,2,:,:]\n",
        "val_final_pos_3 = positions_valid[:,3,:,:]\n",
        "val_initial_v = velocities_valid[:,0,:,:]\n",
        "val_charges = charges_valid[:,:,0]\n",
        "\n",
        "#create training data for t=0.5\n",
        "train_data_1 = MyDataset(initial_pos, final_pos_1, initial_v, charges)\n",
        "val_data_1= MyDataset(val_initial_pos, val_final_pos_1, val_initial_v, val_charges)\n",
        "\n",
        "#create training data for t=1.0\n",
        "train_data_2= MyDataset(initial_pos, final_pos_2, initial_v, charges)\n",
        "val_data_2 = MyDataset(val_initial_pos, val_final_pos_2, val_initial_v, val_charges)\n",
        "\n",
        "#create training data for t=1.5\n",
        "train_data_3 = MyDataset(initial_pos, final_pos_3, initial_v, charges)\n",
        "val_data_3= MyDataset(val_initial_pos, val_final_pos_3, val_initial_v, val_charges)\n",
        "\n",
        "#train and valid loader for t=0.5\n",
        "train_loader_1 = torch.utils.data.DataLoader(train_data_1, batch_size=8)\n",
        "val_loader_1 = torch.utils.data.DataLoader(val_data_1, batch_size=8)\n",
        "\n",
        "#train and valid loader for t=1.0\n",
        "train_loader_2 = torch.utils.data.DataLoader(train_data_2, batch_size=8)\n",
        "val_loader_2 = torch.utils.data.DataLoader(val_data_2, batch_size=8)\n",
        "\n",
        "#train and valid loader for t=1.5\n",
        "train_loader_3 = torch.utils.data.DataLoader(train_data_3, batch_size=8)\n",
        "val_loader_3 = torch.utils.data.DataLoader(val_data_3, batch_size=8)"
      ],
      "metadata": {
        "id": "W5MiV8t61dHX"
      },
      "id": "W5MiV8t61dHX",
      "execution_count": 13,
      "outputs": []
    },
    {
      "cell_type": "code",
      "source": [
        "next(iter(train_loader_1))"
      ],
      "metadata": {
        "colab": {
          "base_uri": "https://localhost:8080/"
        },
        "id": "YMM_Z5G6d8jm",
        "outputId": "bdb50ea8-93c4-41f6-c4de-2b2ec04b1f12"
      },
      "id": "YMM_Z5G6d8jm",
      "execution_count": 14,
      "outputs": [
        {
          "output_type": "execute_result",
          "data": {
            "text/plain": [
              "[tensor([[[-1.9361,  3.6532, -4.5496, -3.0958,  0.1073],\n",
              "          [-0.2276, -2.7631,  8.2998, -3.0921, -2.8976]],\n",
              " \n",
              "         [[-0.1263,  0.2471,  2.7077, -5.7338,  1.5066],\n",
              "          [ 2.7799,  2.3619,  3.6385, -1.2817, -3.4543]],\n",
              " \n",
              "         [[ 3.3470, -1.1958,  0.8698,  2.9774, -1.0611],\n",
              "          [-3.4571,  0.4730,  2.3725, -2.5351,  0.1758]],\n",
              " \n",
              "         [[-3.2892,  1.2890,  3.2644, -3.1801, -2.0062],\n",
              "          [-0.4152, -2.6863,  1.7522, -0.9213,  0.4708]],\n",
              " \n",
              "         [[ 0.9667, -0.4748,  1.6789, -1.3763,  1.0445],\n",
              "          [-0.7228, -1.7157,  0.2298,  3.6835,  0.0638]],\n",
              " \n",
              "         [[ 2.6428,  3.8593,  2.5115, -1.4686,  1.3598],\n",
              "          [ 0.9855,  0.8726, -1.3138,  1.2768, -1.6419]],\n",
              " \n",
              "         [[ 0.1484,  0.5587,  3.4641, -1.0538, -0.3224],\n",
              "          [ 2.0086, -1.1389,  4.9956, -3.0921,  2.9877]],\n",
              " \n",
              "         [[ 0.3704,  1.4087,  0.9847, -5.1987,  3.0423],\n",
              "          [ 1.3492,  3.6293, -5.3249, -0.7860, -1.6906]]]),\n",
              " tensor([[[-2.3387e+00,  4.4387e+00, -5.1946e+00, -4.0422e+00,  4.3962e-01],\n",
              "          [-2.1728e-01, -2.9732e+00,  9.4907e+00, -3.3710e+00, -3.1883e+00]],\n",
              " \n",
              "         [[ 2.0276e-01, -9.2876e-02,  3.1358e+00, -6.6704e+00,  1.7956e+00],\n",
              "          [ 2.8254e+00,  2.5415e+00,  4.2165e+00, -1.4941e+00, -4.1127e+00]],\n",
              " \n",
              "         [[ 3.7362e+00, -2.0556e+00,  1.0896e+00,  3.5704e+00, -1.0391e+00],\n",
              "          [-3.6558e+00,  4.9257e-01,  2.6075e+00, -3.0412e+00,  4.8119e-01]],\n",
              " \n",
              "         [[-3.7235e+00,  1.4284e+00,  3.6755e+00, -3.3953e+00, -2.4529e+00],\n",
              "          [-9.0999e-01, -3.1872e+00,  1.8860e+00, -3.7158e-01,  6.2086e-01]],\n",
              " \n",
              "         [[ 1.4762e+00, -8.0343e-01,  1.7009e+00, -1.3772e+00,  1.2898e+00],\n",
              "          [-8.3605e-01, -2.2455e+00,  3.9631e-03,  4.3557e+00,  5.8860e-01]],\n",
              " \n",
              "         [[ 3.1609e+00,  4.0270e+00,  2.1451e+00, -1.6319e+00,  1.6347e+00],\n",
              "          [ 8.8788e-01,  1.2411e+00, -1.6089e+00,  1.5255e+00, -1.5483e+00]],\n",
              " \n",
              "         [[ 3.9891e-01,  6.8366e-01,  3.9276e+00, -1.5436e+00, -6.7803e-01],\n",
              "          [ 2.3689e+00, -1.2174e+00,  5.8803e+00, -3.8949e+00,  2.9613e+00]],\n",
              " \n",
              "         [[ 3.2670e-01,  1.6731e+00,  1.1440e+00, -6.0651e+00,  3.5464e+00],\n",
              "          [ 1.4712e+00,  4.2690e+00, -6.1018e+00, -8.5101e-01, -2.0581e+00]]]),\n",
              " tensor([[[-7.8778e-01,  1.5892e+00, -1.2906e+00, -1.9173e+00,  6.5388e-01],\n",
              "          [ 2.6745e-02, -4.2110e-01,  2.3834e+00, -5.7854e-01, -5.6755e-01]],\n",
              " \n",
              "         [[ 5.7024e-02, -7.8515e-02,  8.5304e-01, -1.8673e+00,  5.7488e-01],\n",
              "          [-3.4114e-01,  7.9385e-01,  1.1476e+00, -4.2480e-01, -1.3109e+00]],\n",
              " \n",
              "         [[ 8.8020e-01, -2.3681e+00,  4.3961e-01,  1.0840e+00,  6.9268e-01],\n",
              "          [-6.8094e-01,  6.3353e-01,  4.7359e-01, -7.2690e-01,  1.1169e-02]],\n",
              " \n",
              "         [[-5.3143e-01,  2.9121e-01,  8.2574e-01, -7.8909e-01, -8.8795e-01],\n",
              "          [ 2.8612e-02, -1.0002e+00,  2.6060e-01,  8.0578e-02,  3.0618e-01]],\n",
              " \n",
              "         [[ 9.4777e-01, -7.0902e-01,  6.6431e-01,  1.9393e-03, -1.0332e-02],\n",
              "          [-8.9271e-02, -1.1110e+00, -3.5542e-01,  1.3413e+00,  8.7051e-01]],\n",
              " \n",
              "         [[ 8.2333e-01,  5.3276e-01, -4.5460e-01, -3.2046e-01,  2.8122e-01],\n",
              "          [-1.8801e-01,  7.3475e-01, -5.7071e-01,  4.9280e-01,  1.6743e-01]],\n",
              " \n",
              "         [[ 6.0753e-01,  2.7120e-01,  9.2464e-01, -9.9953e-01, -8.1676e-01],\n",
              "          [ 5.7296e-01, -1.3809e-01,  1.7696e+00, -1.6305e+00,  1.0056e-01]],\n",
              " \n",
              "         [[-6.9162e-02,  5.1321e-01,  3.2177e-01, -1.7174e+00,  9.8712e-01],\n",
              "          [ 2.5791e-01,  1.2361e+00, -1.5323e+00, -1.2850e-01, -7.2907e-01]]]),\n",
              " tensor([[-1.,  1.,  1.,  1., -1.],\n",
              "         [ 1., -1., -1., -1., -1.],\n",
              "         [-1.,  1.,  1.,  1., -1.],\n",
              "         [-1., -1., -1.,  1.,  1.],\n",
              "         [ 1., -1., -1.,  1.,  1.],\n",
              "         [ 1., -1., -1.,  1.,  1.],\n",
              "         [ 1., -1., -1.,  1., -1.],\n",
              "         [ 1.,  1.,  1.,  1.,  1.]])]"
            ]
          },
          "metadata": {},
          "execution_count": 14
        }
      ]
    },
    {
      "cell_type": "code",
      "source": [
        "#test final position for t=0.5\n",
        "test_initial_pos = positions_test[:,0,:,:]\n",
        "test_final_pos_1= positions_test[:,1,:,:]\n",
        "test_final_pos_2= positions_test[:,2,:,:]\n",
        "test_final_pos_3= positions_test[:,3,:,:]\n",
        "test_initial_v = velocities_test[:,0,:,:]\n",
        "test_charges = charges_test[:,:,0]\n",
        "\n",
        "\n",
        "test_data_1 = MyDataset(test_initial_pos, test_final_pos_1, test_initial_v, test_charges)\n",
        "test_loader_1 = torch.utils.data.DataLoader(test_data_1, batch_size=5)\n",
        "\n",
        "\n",
        "test_data_2 = MyDataset(test_initial_pos, test_final_pos_2, test_initial_v, test_charges)\n",
        "test_loader_2 = torch.utils.data.DataLoader(test_data_2, batch_size=5)\n",
        "\n",
        "test_data_3 = MyDataset(test_initial_pos, test_final_pos_3, test_initial_v, test_charges)\n",
        "test_loader_3 = torch.utils.data.DataLoader(test_data_3, batch_size=5)"
      ],
      "metadata": {
        "id": "p-Mp78gHZ8iy"
      },
      "id": "p-Mp78gHZ8iy",
      "execution_count": 15,
      "outputs": []
    },
    {
      "cell_type": "code",
      "source": [
        "test_initial_pos"
      ],
      "metadata": {
        "colab": {
          "base_uri": "https://localhost:8080/"
        },
        "id": "Gnz6Ahe9NU5l",
        "outputId": "ea512eb8-7f62-4832-ac42-c3087b06cdcf"
      },
      "id": "Gnz6Ahe9NU5l",
      "execution_count": 16,
      "outputs": [
        {
          "output_type": "execute_result",
          "data": {
            "text/plain": [
              "array([[[ 0.859266  ,  0.12506237, -0.04622387,  2.15083051,\n",
              "         -2.911576  ],\n",
              "        [ 0.63971399, -1.39133946, -1.71711858,  2.69405784,\n",
              "          0.53112595]],\n",
              "\n",
              "       [[ 1.0603079 , -0.46967702,  1.30928829, -2.29615764,\n",
              "          1.35007167],\n",
              "        [ 3.64720779, -0.06737261,  1.06247355,  1.49755506,\n",
              "         -3.43051632]],\n",
              "\n",
              "       [[-0.34228439,  1.05395224,  1.25831868, -0.19372056,\n",
              "         -0.67168656],\n",
              "        [ 0.21973615, -1.1958711 , -1.16004567, -1.12452183,\n",
              "          0.13743422]],\n",
              "\n",
              "       ...,\n",
              "\n",
              "       [[ 2.68226549,  2.46473778,  2.7410639 , -6.94159582,\n",
              "         -5.40179594],\n",
              "        [ 0.35901131,  2.88713473,  3.12434091,  3.30314618,\n",
              "         -8.37808934]],\n",
              "\n",
              "       [[-2.06017773,  2.91513419,  1.22734167,  3.16599914,\n",
              "         -0.62989315],\n",
              "        [-5.60472299,  4.43555985,  0.8736154 , -0.71369079,\n",
              "          2.61763016]],\n",
              "\n",
              "       [[ 1.91205721, -0.88604453, -4.65577582, -1.70139281,\n",
              "          1.1810602 ],\n",
              "        [ 1.63717614, -0.52761471, -0.74429396, -0.06607995,\n",
              "          1.53777992]]])"
            ]
          },
          "metadata": {},
          "execution_count": 16
        }
      ]
    },
    {
      "cell_type": "code",
      "source": [
        "def input_target(position, final, velocity, charge):\n",
        "    initial_x = position[0][0][:]\n",
        "    initial_y = position[0][1][:]\n",
        "    final_x = final[0][0][:]\n",
        "    final_y = final[0][1][:]\n",
        "    v_x = velocity[0][0][:]\n",
        "    v_y = velocity[0][1][:]\n",
        "    ch = charge[0][:]\n",
        "\n",
        "    input = torch.cat((initial_x, initial_y, v_x, v_y, ch))\n",
        "    target = torch.cat((final_x, final_y))\n",
        "\n",
        "    return input, target"
      ],
      "metadata": {
        "id": "zhjlqGrSfDUv"
      },
      "id": "zhjlqGrSfDUv",
      "execution_count": 17,
      "outputs": []
    },
    {
      "cell_type": "markdown",
      "source": [
        "# Model Implementation"
      ],
      "metadata": {
        "id": "g4mXQimACf4e"
      },
      "id": "g4mXQimACf4e"
    },
    {
      "cell_type": "code",
      "source": [
        "import torch.nn as nn\n",
        "from torch import optim\n",
        "import torch\n",
        "import torch.nn.functional as F\n",
        "\n",
        "class MLP(nn.Module):\n",
        "  '''\n",
        "    Multilayer Perceptron for regression.\n",
        "  '''\n",
        "  def __init__(self):\n",
        "    super().__init__()\n",
        "    self.layers = nn.Sequential(\n",
        "      nn.Linear(25, 64),\n",
        "      nn.ReLU(),\n",
        "      nn.Linear(64, 128),\n",
        "      nn.ReLU(),\n",
        "      nn.Linear(128, 256),\n",
        "      nn.ReLU(),\n",
        "      nn.Linear(256, 10)\n",
        "    )\n",
        "\n",
        "  def forward(self, x):\n",
        "    '''\n",
        "      Forward pass\n",
        "    '''\n",
        "    return self.layers(x)"
      ],
      "metadata": {
        "id": "4pprRqiNTGEC"
      },
      "id": "4pprRqiNTGEC",
      "execution_count": 18,
      "outputs": []
    },
    {
      "cell_type": "code",
      "source": [
        "# Initialize the MLP\n",
        "device = torch.device('cuda:0' if torch.cuda.is_available() else 'cpu')\n",
        "model = MLP()\n",
        "model = model.to(device)\n",
        "\n",
        "# Define the loss function and optimizer"
      ],
      "metadata": {
        "id": "pwJHUz6MTGA0"
      },
      "id": "pwJHUz6MTGA0",
      "execution_count": 19,
      "outputs": []
    },
    {
      "cell_type": "code",
      "source": [
        "# saving and loading checkpoint mechanisms\n",
        "def save_checkpoint(save_path, model, optimizer, val_loss):\n",
        "    if save_path==None:\n",
        "        return\n",
        "    save_path = save_path \n",
        "    state_dict = {'model_state_dict': model.state_dict(),\n",
        "                  'optimizer_state_dict': optimizer.state_dict(),\n",
        "                  'val_loss': val_loss}\n",
        "\n",
        "    torch.save(state_dict, save_path)\n",
        "\n",
        "    print(f'Model saved to ==> {save_path}')\n",
        "\n",
        "def load_checkpoint(model, optimizer):\n",
        "    save_path = f'MLP-checkpoint_1.pt'\n",
        "    state_dict = torch.load(save_path)\n",
        "    model.load_state_dict(state_dict['model_state_dict'])\n",
        "    optimizer.load_state_dict(state_dict['optimizer_state_dict'])\n",
        "    val_loss = state_dict['val_loss']\n",
        "    print(f'Model loaded from <== {save_path}')\n",
        "    \n",
        "    return val_loss"
      ],
      "metadata": {
        "id": "Rjp7HC9nFmdU"
      },
      "id": "Rjp7HC9nFmdU",
      "execution_count": 20,
      "outputs": []
    },
    {
      "cell_type": "code",
      "source": [
        "print(len(train_loader_1))"
      ],
      "metadata": {
        "colab": {
          "base_uri": "https://localhost:8080/"
        },
        "id": "46Q4bQA-ufsg",
        "outputId": "29ae102e-6494-4703-92c4-94fb547eabe4"
      },
      "id": "46Q4bQA-ufsg",
      "execution_count": 21,
      "outputs": [
        {
          "output_type": "stream",
          "name": "stdout",
          "text": [
            "1250\n"
          ]
        }
      ]
    },
    {
      "cell_type": "markdown",
      "source": [
        "# Model Training"
      ],
      "metadata": {
        "id": "ioLoui5mhQhe"
      },
      "id": "ioLoui5mhQhe"
    },
    {
      "cell_type": "code",
      "source": [
        "import tqdm, time\n",
        "\n",
        "# training and validation after every epoch\n",
        "def train(model, train_loader, val_loader, num_epochs, criterion, save_name):\n",
        "    best_val_loss = float(\"Inf\") \n",
        "    best_val_acc = 0.0\n",
        "    epoch_best = 0\n",
        "    epoch_val_best = 0\n",
        "    train_losses = []\n",
        "    val_losses = []\n",
        "    train_acc = []\n",
        "    val_acc = []\n",
        "    cur_step = 0\n",
        "    for epoch in range(num_epochs):\n",
        "        start_time = time.time()\n",
        "        running_loss = 0.0\n",
        "        tr_acc = []\n",
        "        model.train()\n",
        "        print(\"Starting epoch \" + str(epoch+1))\n",
        "        # ============ Training ============ #\n",
        "        for position, final, velocity, charge in train_loader:\n",
        "            #plot_case(99,train_data,labels)\n",
        "            initial_pos, target_pos = input_target(position, final, velocity, charge)\n",
        "            initial_pos = initial_pos.to(device)\n",
        "            target_pos = target_pos.to(device)\n",
        "            #case_loss = 0.0\n",
        "            #print(initial_pos)\n",
        "            optimizer.zero_grad()\n",
        "            outputs = model(initial_pos)\n",
        "            loss = torch.sqrt(criterion(outputs, target_pos))\n",
        "\n",
        "            #case_loss += loss.item()\n",
        "            # Backward and optimize\n",
        "            loss.backward()\n",
        "            optimizer.step()\n",
        "\n",
        "            #print(outputs, target_pos)\n",
        "            running_loss += loss.item()\n",
        "            #print(running_loss)\n",
        "            #breakpoint()\n",
        "\n",
        "        avg_train_loss = running_loss / len(train_loader)\n",
        "        train_losses.append(avg_train_loss)\n",
        "        \n",
        "        # ============ Validation ============ #\n",
        "        val_running_loss = 0.0\n",
        "        va_acc = []\n",
        "        with torch.no_grad():\n",
        "            model.eval()\n",
        "            for position, final, velocity, charge in val_loader:\n",
        "                #case_loss = 0.0\n",
        "                initial_pos, target_pos = input_target(position, final, velocity, charge)\n",
        "                initial_pos = initial_pos.to(device)\n",
        "                target_pos = target_pos.to(device)\n",
        "                outputs = model(initial_pos)\n",
        "                loss = torch.sqrt(criterion(outputs, target_pos))\n",
        "\n",
        "                #case_loss += loss.item()\n",
        "\n",
        "                val_running_loss += loss.item()\n",
        "\n",
        "        avg_val_loss = val_running_loss / len(val_loader)\n",
        "        val_losses.append(avg_val_loss)\n",
        "        \n",
        "        print('Epoch [{}/{}], train_loss: {:.4f}, val_loss: {:.4f}, elapsed_time: {:.4f}'\n",
        "            .format(epoch+1, num_epochs, avg_train_loss, avg_val_loss, time.time()-start_time))\n",
        "        if avg_val_loss < best_val_loss:\n",
        "            best_val_loss = avg_val_loss\n",
        "            epoch_val_best = epoch+1\n",
        "            save_checkpoint(save_name, model, optimizer, best_val_loss)\n",
        "    \n",
        "    print(\"Finished Training\")  \n",
        "    return train_losses, val_losses, best_val_loss, epoch_val_best"
      ],
      "metadata": {
        "id": "gwNut7gJFmTF"
      },
      "id": "gwNut7gJFmTF",
      "execution_count": 22,
      "outputs": []
    },
    {
      "cell_type": "code",
      "source": [
        "!pip install torchmetrics"
      ],
      "metadata": {
        "colab": {
          "base_uri": "https://localhost:8080/"
        },
        "id": "cMN1rTui5VrA",
        "outputId": "9ebb4e71-20c6-4854-a2b8-fafe0d129655"
      },
      "id": "cMN1rTui5VrA",
      "execution_count": 23,
      "outputs": [
        {
          "output_type": "stream",
          "name": "stdout",
          "text": [
            "Looking in indexes: https://pypi.org/simple, https://us-python.pkg.dev/colab-wheels/public/simple/\n",
            "Collecting torchmetrics\n",
            "  Downloading torchmetrics-0.9.1-py3-none-any.whl (419 kB)\n",
            "\u001b[K     |████████████████████████████████| 419 kB 9.6 MB/s \n",
            "\u001b[?25hRequirement already satisfied: packaging in /usr/local/lib/python3.7/dist-packages (from torchmetrics) (21.3)\n",
            "Requirement already satisfied: typing-extensions in /usr/local/lib/python3.7/dist-packages (from torchmetrics) (4.1.1)\n",
            "Requirement already satisfied: numpy>=1.17.2 in /usr/local/lib/python3.7/dist-packages (from torchmetrics) (1.21.6)\n",
            "Requirement already satisfied: torch>=1.3.1 in /usr/local/lib/python3.7/dist-packages (from torchmetrics) (1.11.0+cu113)\n",
            "Requirement already satisfied: pyparsing!=3.0.5,>=2.0.2 in /usr/local/lib/python3.7/dist-packages (from packaging->torchmetrics) (3.0.9)\n",
            "Installing collected packages: torchmetrics\n",
            "Successfully installed torchmetrics-0.9.1\n"
          ]
        }
      ]
    },
    {
      "cell_type": "markdown",
      "source": [
        "# Evaluation\n",
        "\n"
      ],
      "metadata": {
        "id": "x-9ArLarhS3B"
      },
      "id": "x-9ArLarhS3B"
    },
    {
      "cell_type": "code",
      "source": [
        "def test_input_target(position, final, velocity, charge, time):\n",
        "    initial_x = position[0][0][:]\n",
        "    initial_y = position[0][1][:]\n",
        "    final_x = final[0][0][:]\n",
        "    final_y = final[0][1][:]\n",
        "    v_x = velocity[0][0][:]\n",
        "    v_y = velocity[0][1][:]\n",
        "    ch = charge[0][:]\n",
        "    baseline_x = initial_x + v_x*time\n",
        "    baseline_y = initial_y + v_y*time\n",
        "\n",
        "    input = torch.cat((initial_x, initial_y, v_x, v_y, ch))\n",
        "    target = torch.cat((final_x, final_y))\n",
        "    baseline = torch.cat((baseline_x, baseline_y))\n",
        "\n",
        "    return input, target, baseline"
      ],
      "metadata": {
        "id": "AzQSNrzEROqf"
      },
      "id": "AzQSNrzEROqf",
      "execution_count": 24,
      "outputs": []
    },
    {
      "cell_type": "code",
      "source": [
        "from torchmetrics import R2Score\n",
        "r2score = R2Score().to(device)\n",
        "\n",
        "# ============ Testing ============ #\n",
        "def eval(model, test_loader, criterion, time):\n",
        "    with torch.no_grad():\n",
        "        correct = 0\n",
        "        count = 0\n",
        "        test_loss = 0.0\n",
        "        r2_score = 0.0\n",
        "        test_loss_baseline = 0.0\n",
        "        r2_score_baseline = 0.0\n",
        "        for position, final, velocity, charge in test_loader:\n",
        "            initial_pos, target_pos, baseline_pos = test_input_target(position, final, velocity, charge, time)\n",
        "            initial_pos = initial_pos.to(device)\n",
        "            target_pos = target_pos.to(device)\n",
        "            baseline_pos = baseline_pos.to(device)\n",
        "\n",
        "            outputs = model(initial_pos)\n",
        "            rmse_loss = torch.sqrt(criterion(outputs, target_pos))\n",
        "            score = r2score(outputs, target_pos)\n",
        "            rmse_loss_baseline = torch.sqrt(criterion(outputs, baseline_pos))\n",
        "            score_baseline = r2score(outputs, baseline_pos)\n",
        "\n",
        "            #case_loss += loss.item()\n",
        "\n",
        "            test_loss += rmse_loss.item()\n",
        "            r2_score += score\n",
        "            test_loss_baseline += rmse_loss_baseline.item()\n",
        "            r2_score_baseline += score_baseline\n",
        "            count+=1\n",
        "            if count % 200 == 0:\n",
        "                print(\"Output pos: \", outputs)\n",
        "                print(\"Actual pos: \", target_pos)\n",
        "                print(\"Baseline pos: \", baseline_pos)\n",
        "                print(f\"RMSE Loss after {count} simulations:\", test_loss/count)\n",
        "                print(\"\\n\")\n",
        "\n",
        "    avg_test_loss = test_loss / len(test_loader)\n",
        "    avg_r2_score = r2_score / len(test_loader)\n",
        "    avg_test_loss_baseline = test_loss_baseline / len(test_loader)\n",
        "    avg_r2_score_baseline = r2_score_baseline / len(test_loader)\n",
        "    return avg_test_loss, avg_r2_score, avg_test_loss_baseline, avg_r2_score_baseline"
      ],
      "metadata": {
        "id": "bQ7aD4k8N7r-"
      },
      "id": "bQ7aD4k8N7r-",
      "execution_count": 25,
      "outputs": []
    },
    {
      "cell_type": "markdown",
      "source": [
        "t=0 -> t=0.5"
      ],
      "metadata": {
        "id": "ikPNArumXAn6"
      },
      "id": "ikPNArumXAn6"
    },
    {
      "cell_type": "code",
      "source": [
        "# actual training for different batch sizes \n",
        "import torch.optim as optim\n",
        "\n",
        "optimizer = torch.optim.Adam(model.parameters(), lr=1e-4)\n",
        "num_epochs = 100\n",
        "criterion = nn.MSELoss()\n",
        "\n",
        "save_path = 'MLP-checkpoint_1.pt'\n",
        "train_losses_1, val_losses_1, best_val_loss_1, epoch_loss_1 = train(model, train_loader_1, val_loader_1, num_epochs, criterion, save_path)"
      ],
      "metadata": {
        "colab": {
          "base_uri": "https://localhost:8080/"
        },
        "id": "xnJadGY9H-fM",
        "outputId": "1cb193de-0392-4662-b66f-2ee9cdd266ff"
      },
      "id": "xnJadGY9H-fM",
      "execution_count": 26,
      "outputs": [
        {
          "output_type": "stream",
          "name": "stdout",
          "text": [
            "Starting epoch 1\n",
            "Epoch [1/100], train_loss: 2.0652, val_loss: 1.1642, elapsed_time: 4.0114\n",
            "Model saved to ==> MLP-checkpoint_1.pt\n",
            "Starting epoch 2\n",
            "Epoch [2/100], train_loss: 0.8281, val_loss: 0.6529, elapsed_time: 5.0374\n",
            "Model saved to ==> MLP-checkpoint_1.pt\n",
            "Starting epoch 3\n",
            "Epoch [3/100], train_loss: 0.5706, val_loss: 0.5160, elapsed_time: 4.1260\n",
            "Model saved to ==> MLP-checkpoint_1.pt\n",
            "Starting epoch 4\n",
            "Epoch [4/100], train_loss: 0.4807, val_loss: 0.4574, elapsed_time: 3.6563\n",
            "Model saved to ==> MLP-checkpoint_1.pt\n",
            "Starting epoch 5\n",
            "Epoch [5/100], train_loss: 0.4300, val_loss: 0.4194, elapsed_time: 3.6208\n",
            "Model saved to ==> MLP-checkpoint_1.pt\n",
            "Starting epoch 6\n",
            "Epoch [6/100], train_loss: 0.3948, val_loss: 0.3935, elapsed_time: 3.6230\n",
            "Model saved to ==> MLP-checkpoint_1.pt\n",
            "Starting epoch 7\n",
            "Epoch [7/100], train_loss: 0.3691, val_loss: 0.3749, elapsed_time: 3.6350\n",
            "Model saved to ==> MLP-checkpoint_1.pt\n",
            "Starting epoch 8\n",
            "Epoch [8/100], train_loss: 0.3492, val_loss: 0.3617, elapsed_time: 3.6722\n",
            "Model saved to ==> MLP-checkpoint_1.pt\n",
            "Starting epoch 9\n",
            "Epoch [9/100], train_loss: 0.3335, val_loss: 0.3522, elapsed_time: 3.6430\n",
            "Model saved to ==> MLP-checkpoint_1.pt\n",
            "Starting epoch 10\n",
            "Epoch [10/100], train_loss: 0.3206, val_loss: 0.3446, elapsed_time: 3.6799\n",
            "Model saved to ==> MLP-checkpoint_1.pt\n",
            "Starting epoch 11\n",
            "Epoch [11/100], train_loss: 0.3096, val_loss: 0.3391, elapsed_time: 3.6478\n",
            "Model saved to ==> MLP-checkpoint_1.pt\n",
            "Starting epoch 12\n",
            "Epoch [12/100], train_loss: 0.3001, val_loss: 0.3346, elapsed_time: 4.0022\n",
            "Model saved to ==> MLP-checkpoint_1.pt\n",
            "Starting epoch 13\n",
            "Epoch [13/100], train_loss: 0.2917, val_loss: 0.3301, elapsed_time: 3.6376\n",
            "Model saved to ==> MLP-checkpoint_1.pt\n",
            "Starting epoch 14\n",
            "Epoch [14/100], train_loss: 0.2841, val_loss: 0.3263, elapsed_time: 3.6336\n",
            "Model saved to ==> MLP-checkpoint_1.pt\n",
            "Starting epoch 15\n",
            "Epoch [15/100], train_loss: 0.2771, val_loss: 0.3223, elapsed_time: 3.6776\n",
            "Model saved to ==> MLP-checkpoint_1.pt\n",
            "Starting epoch 16\n",
            "Epoch [16/100], train_loss: 0.2708, val_loss: 0.3185, elapsed_time: 3.6918\n",
            "Model saved to ==> MLP-checkpoint_1.pt\n",
            "Starting epoch 17\n",
            "Epoch [17/100], train_loss: 0.2651, val_loss: 0.3150, elapsed_time: 3.6423\n",
            "Model saved to ==> MLP-checkpoint_1.pt\n",
            "Starting epoch 18\n",
            "Epoch [18/100], train_loss: 0.2599, val_loss: 0.3116, elapsed_time: 3.6370\n",
            "Model saved to ==> MLP-checkpoint_1.pt\n",
            "Starting epoch 19\n",
            "Epoch [19/100], train_loss: 0.2551, val_loss: 0.3085, elapsed_time: 3.6553\n",
            "Model saved to ==> MLP-checkpoint_1.pt\n",
            "Starting epoch 20\n",
            "Epoch [20/100], train_loss: 0.2506, val_loss: 0.3054, elapsed_time: 3.6843\n",
            "Model saved to ==> MLP-checkpoint_1.pt\n",
            "Starting epoch 21\n",
            "Epoch [21/100], train_loss: 0.2465, val_loss: 0.3026, elapsed_time: 3.7158\n",
            "Model saved to ==> MLP-checkpoint_1.pt\n",
            "Starting epoch 22\n",
            "Epoch [22/100], train_loss: 0.2425, val_loss: 0.2999, elapsed_time: 3.6707\n",
            "Model saved to ==> MLP-checkpoint_1.pt\n",
            "Starting epoch 23\n",
            "Epoch [23/100], train_loss: 0.2388, val_loss: 0.2975, elapsed_time: 3.5996\n",
            "Model saved to ==> MLP-checkpoint_1.pt\n",
            "Starting epoch 24\n",
            "Epoch [24/100], train_loss: 0.2353, val_loss: 0.2954, elapsed_time: 4.0559\n",
            "Model saved to ==> MLP-checkpoint_1.pt\n",
            "Starting epoch 25\n",
            "Epoch [25/100], train_loss: 0.2321, val_loss: 0.2931, elapsed_time: 3.6207\n",
            "Model saved to ==> MLP-checkpoint_1.pt\n",
            "Starting epoch 26\n",
            "Epoch [26/100], train_loss: 0.2290, val_loss: 0.2916, elapsed_time: 3.6317\n",
            "Model saved to ==> MLP-checkpoint_1.pt\n",
            "Starting epoch 27\n",
            "Epoch [27/100], train_loss: 0.2261, val_loss: 0.2902, elapsed_time: 3.6332\n",
            "Model saved to ==> MLP-checkpoint_1.pt\n",
            "Starting epoch 28\n",
            "Epoch [28/100], train_loss: 0.2234, val_loss: 0.2890, elapsed_time: 3.5944\n",
            "Model saved to ==> MLP-checkpoint_1.pt\n",
            "Starting epoch 29\n",
            "Epoch [29/100], train_loss: 0.2208, val_loss: 0.2876, elapsed_time: 3.6237\n",
            "Model saved to ==> MLP-checkpoint_1.pt\n",
            "Starting epoch 30\n",
            "Epoch [30/100], train_loss: 0.2183, val_loss: 0.2864, elapsed_time: 3.6370\n",
            "Model saved to ==> MLP-checkpoint_1.pt\n",
            "Starting epoch 31\n",
            "Epoch [31/100], train_loss: 0.2159, val_loss: 0.2858, elapsed_time: 3.6030\n",
            "Model saved to ==> MLP-checkpoint_1.pt\n",
            "Starting epoch 32\n",
            "Epoch [32/100], train_loss: 0.2136, val_loss: 0.2851, elapsed_time: 3.6333\n",
            "Model saved to ==> MLP-checkpoint_1.pt\n",
            "Starting epoch 33\n",
            "Epoch [33/100], train_loss: 0.2115, val_loss: 0.2842, elapsed_time: 3.6589\n",
            "Model saved to ==> MLP-checkpoint_1.pt\n",
            "Starting epoch 34\n",
            "Epoch [34/100], train_loss: 0.2094, val_loss: 0.2837, elapsed_time: 3.6652\n",
            "Model saved to ==> MLP-checkpoint_1.pt\n",
            "Starting epoch 35\n",
            "Epoch [35/100], train_loss: 0.2076, val_loss: 0.2822, elapsed_time: 3.6767\n",
            "Model saved to ==> MLP-checkpoint_1.pt\n",
            "Starting epoch 36\n",
            "Epoch [36/100], train_loss: 0.2057, val_loss: 0.2809, elapsed_time: 3.6888\n",
            "Model saved to ==> MLP-checkpoint_1.pt\n",
            "Starting epoch 37\n",
            "Epoch [37/100], train_loss: 0.2039, val_loss: 0.2806, elapsed_time: 3.6763\n",
            "Model saved to ==> MLP-checkpoint_1.pt\n",
            "Starting epoch 38\n",
            "Epoch [38/100], train_loss: 0.2021, val_loss: 0.2783, elapsed_time: 3.6399\n",
            "Model saved to ==> MLP-checkpoint_1.pt\n",
            "Starting epoch 39\n",
            "Epoch [39/100], train_loss: 0.2004, val_loss: 0.2781, elapsed_time: 3.6078\n",
            "Model saved to ==> MLP-checkpoint_1.pt\n",
            "Starting epoch 40\n",
            "Epoch [40/100], train_loss: 0.1989, val_loss: 0.2765, elapsed_time: 3.6200\n",
            "Model saved to ==> MLP-checkpoint_1.pt\n",
            "Starting epoch 41\n",
            "Epoch [41/100], train_loss: 0.1972, val_loss: 0.2760, elapsed_time: 3.6303\n",
            "Model saved to ==> MLP-checkpoint_1.pt\n",
            "Starting epoch 42\n",
            "Epoch [42/100], train_loss: 0.1958, val_loss: 0.2751, elapsed_time: 3.6120\n",
            "Model saved to ==> MLP-checkpoint_1.pt\n",
            "Starting epoch 43\n",
            "Epoch [43/100], train_loss: 0.1943, val_loss: 0.2729, elapsed_time: 3.6149\n",
            "Model saved to ==> MLP-checkpoint_1.pt\n",
            "Starting epoch 44\n",
            "Epoch [44/100], train_loss: 0.1931, val_loss: 0.2734, elapsed_time: 3.6223\n",
            "Starting epoch 45\n",
            "Epoch [45/100], train_loss: 0.1914, val_loss: 0.2711, elapsed_time: 3.6766\n",
            "Model saved to ==> MLP-checkpoint_1.pt\n",
            "Starting epoch 46\n",
            "Epoch [46/100], train_loss: 0.1902, val_loss: 0.2699, elapsed_time: 3.6627\n",
            "Model saved to ==> MLP-checkpoint_1.pt\n",
            "Starting epoch 47\n",
            "Epoch [47/100], train_loss: 0.1887, val_loss: 0.2691, elapsed_time: 3.6254\n",
            "Model saved to ==> MLP-checkpoint_1.pt\n",
            "Starting epoch 48\n",
            "Epoch [48/100], train_loss: 0.1877, val_loss: 0.2694, elapsed_time: 3.6617\n",
            "Starting epoch 49\n",
            "Epoch [49/100], train_loss: 0.1863, val_loss: 0.2669, elapsed_time: 3.6853\n",
            "Model saved to ==> MLP-checkpoint_1.pt\n",
            "Starting epoch 50\n",
            "Epoch [50/100], train_loss: 0.1852, val_loss: 0.2677, elapsed_time: 3.7029\n",
            "Starting epoch 51\n",
            "Epoch [51/100], train_loss: 0.1844, val_loss: 0.2665, elapsed_time: 3.6693\n",
            "Model saved to ==> MLP-checkpoint_1.pt\n",
            "Starting epoch 52\n",
            "Epoch [52/100], train_loss: 0.1830, val_loss: 0.2654, elapsed_time: 3.6588\n",
            "Model saved to ==> MLP-checkpoint_1.pt\n",
            "Starting epoch 53\n",
            "Epoch [53/100], train_loss: 0.1821, val_loss: 0.2658, elapsed_time: 3.6730\n",
            "Starting epoch 54\n",
            "Epoch [54/100], train_loss: 0.1809, val_loss: 0.2630, elapsed_time: 3.6047\n",
            "Model saved to ==> MLP-checkpoint_1.pt\n",
            "Starting epoch 55\n",
            "Epoch [55/100], train_loss: 0.1801, val_loss: 0.2663, elapsed_time: 4.0100\n",
            "Starting epoch 56\n",
            "Epoch [56/100], train_loss: 0.1792, val_loss: 0.2632, elapsed_time: 3.6750\n",
            "Starting epoch 57\n",
            "Epoch [57/100], train_loss: 0.1782, val_loss: 0.2651, elapsed_time: 3.6897\n",
            "Starting epoch 58\n",
            "Epoch [58/100], train_loss: 0.1769, val_loss: 0.2629, elapsed_time: 3.7370\n",
            "Model saved to ==> MLP-checkpoint_1.pt\n",
            "Starting epoch 59\n",
            "Epoch [59/100], train_loss: 0.1760, val_loss: 0.2628, elapsed_time: 3.7291\n",
            "Model saved to ==> MLP-checkpoint_1.pt\n",
            "Starting epoch 60\n",
            "Epoch [60/100], train_loss: 0.1755, val_loss: 0.2664, elapsed_time: 3.6977\n",
            "Starting epoch 61\n",
            "Epoch [61/100], train_loss: 0.1741, val_loss: 0.2637, elapsed_time: 3.7071\n",
            "Starting epoch 62\n",
            "Epoch [62/100], train_loss: 0.1737, val_loss: 0.2608, elapsed_time: 3.7227\n",
            "Model saved to ==> MLP-checkpoint_1.pt\n",
            "Starting epoch 63\n",
            "Epoch [63/100], train_loss: 0.1726, val_loss: 0.2647, elapsed_time: 3.7018\n",
            "Starting epoch 64\n",
            "Epoch [64/100], train_loss: 0.1717, val_loss: 0.2628, elapsed_time: 3.7127\n",
            "Starting epoch 65\n",
            "Epoch [65/100], train_loss: 0.1708, val_loss: 0.2617, elapsed_time: 3.7217\n",
            "Starting epoch 66\n",
            "Epoch [66/100], train_loss: 0.1705, val_loss: 0.2629, elapsed_time: 3.6983\n",
            "Starting epoch 67\n",
            "Epoch [67/100], train_loss: 0.1687, val_loss: 0.2625, elapsed_time: 3.6367\n",
            "Starting epoch 68\n",
            "Epoch [68/100], train_loss: 0.1685, val_loss: 0.2599, elapsed_time: 3.6886\n",
            "Model saved to ==> MLP-checkpoint_1.pt\n",
            "Starting epoch 69\n",
            "Epoch [69/100], train_loss: 0.1677, val_loss: 0.2619, elapsed_time: 3.7353\n",
            "Starting epoch 70\n",
            "Epoch [70/100], train_loss: 0.1665, val_loss: 0.2611, elapsed_time: 3.6661\n",
            "Starting epoch 71\n",
            "Epoch [71/100], train_loss: 0.1658, val_loss: 0.2618, elapsed_time: 3.7255\n",
            "Starting epoch 72\n",
            "Epoch [72/100], train_loss: 0.1653, val_loss: 0.2600, elapsed_time: 3.6992\n",
            "Starting epoch 73\n",
            "Epoch [73/100], train_loss: 0.1642, val_loss: 0.2595, elapsed_time: 3.6600\n",
            "Model saved to ==> MLP-checkpoint_1.pt\n",
            "Starting epoch 74\n",
            "Epoch [74/100], train_loss: 0.1636, val_loss: 0.2621, elapsed_time: 3.6804\n",
            "Starting epoch 75\n",
            "Epoch [75/100], train_loss: 0.1627, val_loss: 0.2609, elapsed_time: 3.6460\n",
            "Starting epoch 76\n",
            "Epoch [76/100], train_loss: 0.1624, val_loss: 0.2590, elapsed_time: 3.6376\n",
            "Model saved to ==> MLP-checkpoint_1.pt\n",
            "Starting epoch 77\n",
            "Epoch [77/100], train_loss: 0.1619, val_loss: 0.2612, elapsed_time: 3.6773\n",
            "Starting epoch 78\n",
            "Epoch [78/100], train_loss: 0.1609, val_loss: 0.2600, elapsed_time: 3.6605\n",
            "Starting epoch 79\n",
            "Epoch [79/100], train_loss: 0.1604, val_loss: 0.2619, elapsed_time: 3.6092\n",
            "Starting epoch 80\n",
            "Epoch [80/100], train_loss: 0.1597, val_loss: 0.2592, elapsed_time: 3.6656\n",
            "Starting epoch 81\n",
            "Epoch [81/100], train_loss: 0.1596, val_loss: 0.2580, elapsed_time: 3.6670\n",
            "Model saved to ==> MLP-checkpoint_1.pt\n",
            "Starting epoch 82\n",
            "Epoch [82/100], train_loss: 0.1591, val_loss: 0.2599, elapsed_time: 3.6780\n",
            "Starting epoch 83\n",
            "Epoch [83/100], train_loss: 0.1579, val_loss: 0.2593, elapsed_time: 3.6527\n",
            "Starting epoch 84\n",
            "Epoch [84/100], train_loss: 0.1571, val_loss: 0.2601, elapsed_time: 3.7089\n",
            "Starting epoch 85\n",
            "Epoch [85/100], train_loss: 0.1567, val_loss: 0.2596, elapsed_time: 3.7114\n",
            "Starting epoch 86\n",
            "Epoch [86/100], train_loss: 0.1564, val_loss: 0.2588, elapsed_time: 3.6850\n",
            "Starting epoch 87\n",
            "Epoch [87/100], train_loss: 0.1550, val_loss: 0.2601, elapsed_time: 3.6587\n",
            "Starting epoch 88\n",
            "Epoch [88/100], train_loss: 0.1545, val_loss: 0.2592, elapsed_time: 3.6568\n",
            "Starting epoch 89\n",
            "Epoch [89/100], train_loss: 0.1552, val_loss: 0.2594, elapsed_time: 3.6783\n",
            "Starting epoch 90\n",
            "Epoch [90/100], train_loss: 0.1536, val_loss: 0.2588, elapsed_time: 3.6557\n",
            "Starting epoch 91\n",
            "Epoch [91/100], train_loss: 0.1534, val_loss: 0.2578, elapsed_time: 3.6520\n",
            "Model saved to ==> MLP-checkpoint_1.pt\n",
            "Starting epoch 92\n",
            "Epoch [92/100], train_loss: 0.1532, val_loss: 0.2622, elapsed_time: 3.6645\n",
            "Starting epoch 93\n",
            "Epoch [93/100], train_loss: 0.1517, val_loss: 0.2621, elapsed_time: 3.7125\n",
            "Starting epoch 94\n",
            "Epoch [94/100], train_loss: 0.1526, val_loss: 0.2603, elapsed_time: 3.7358\n",
            "Starting epoch 95\n",
            "Epoch [95/100], train_loss: 0.1516, val_loss: 0.2595, elapsed_time: 3.7315\n",
            "Starting epoch 96\n",
            "Epoch [96/100], train_loss: 0.1513, val_loss: 0.2630, elapsed_time: 3.7238\n",
            "Starting epoch 97\n",
            "Epoch [97/100], train_loss: 0.1498, val_loss: 0.2596, elapsed_time: 3.7134\n",
            "Starting epoch 98\n",
            "Epoch [98/100], train_loss: 0.1506, val_loss: 0.2641, elapsed_time: 3.6976\n",
            "Starting epoch 99\n",
            "Epoch [99/100], train_loss: 0.1498, val_loss: 0.2629, elapsed_time: 3.6830\n",
            "Starting epoch 100\n",
            "Epoch [100/100], train_loss: 0.1496, val_loss: 0.2620, elapsed_time: 3.7659\n",
            "Finished Training\n"
          ]
        }
      ]
    },
    {
      "cell_type": "code",
      "source": [
        "# plotting of training and validation loss\n",
        "plt.xlabel('epoch')\n",
        "plt.ylabel('loss')\n",
        "plt.plot(train_losses_1, label='Train Loss(t=0.5)')\n",
        "plt.plot(val_losses_1, label=\"Validation Loss(t=0.5)\")\n",
        "plt.title(\"Training and Validation Loss [Epoch {}, Min val_loss {:.4f}]\".format(epoch_loss_1, best_val_loss_1))\n",
        "plt.legend(loc='upper right')\n",
        "plt.show()"
      ],
      "metadata": {
        "colab": {
          "base_uri": "https://localhost:8080/",
          "height": 295
        },
        "id": "qFvohE-tICOf",
        "outputId": "96dfff02-afe3-4d7a-d27c-923c931a5a33"
      },
      "id": "qFvohE-tICOf",
      "execution_count": 27,
      "outputs": [
        {
          "output_type": "display_data",
          "data": {
            "text/plain": [
              "<Figure size 432x288 with 1 Axes>"
            ],
            "image/png": "[encoded data removed]"
          },
          "metadata": {
            "needs_background": "light"
          }
        }
      ]
    },
    {
      "cell_type": "code",
      "source": [
        "# Testing on previously trained model\n",
        "import torch.optim as optim\n",
        "load_model = MLP().to(device)\n",
        "load_optimizer = optim.Adam(model.parameters(),lr=1e-4)\n",
        "\n",
        "best_val_loss = load_checkpoint(load_model, load_optimizer)\n",
        "\n",
        "print('Best val_loss: {:.8f}'.format(best_val_loss))\n",
        "\n",
        "test_loss, r2_score, test_loss_baseline, r2_score_baseline = eval(load_model, test_loader_1, criterion, 0.5)\n",
        "print('RMSE Loss on test data: {:.4f}, RMSE loss compared with baseline: {:.4f}'.format(test_loss, test_loss_baseline))\n",
        "print('R2_score: {:.4f}, R2_score compared with baseline: {:.4f}'.format(r2_score, r2_score_baseline))"
      ],
      "metadata": {
        "colab": {
          "base_uri": "https://localhost:8080/"
        },
        "id": "u57uk4DsW1ZU",
        "outputId": "2d9c97d5-46bd-406e-a1ac-ddd3e9d14324"
      },
      "id": "u57uk4DsW1ZU",
      "execution_count": 28,
      "outputs": [
        {
          "output_type": "stream",
          "name": "stdout",
          "text": [
            "Model loaded from <== MLP-checkpoint_1.pt\n",
            "Best val_loss: 0.25780349\n",
            "Output pos:  tensor([ 0.0168,  0.5074,  2.7617,  1.5701, -4.9942,  0.9387,  1.1818,  2.1095,\n",
            "        -1.6903,  3.9510], device='cuda:0')\n",
            "Actual pos:  tensor([-0.1832,  0.5443,  2.7473,  1.3889, -5.0052,  1.2809,  1.0530,  2.1327,\n",
            "        -1.5505,  3.6140], device='cuda:0')\n",
            "Baseline pos:  tensor([-0.3589,  0.7272,  2.7361,  1.3901, -5.0023,  1.3473,  0.9892,  2.1130,\n",
            "        -1.5322,  3.6129], device='cuda:0')\n",
            "RMSE Loss after 200 simulations: 0.27221459928900005\n",
            "\n",
            "\n",
            "Output pos:  tensor([-2.1268,  3.7209, -0.4928, -1.0912,  1.8467, -1.5773, -2.9427,  2.0966,\n",
            "         2.3009, -2.1118], device='cuda:0')\n",
            "Actual pos:  tensor([-2.1900,  3.6610, -0.6610, -0.6277,  1.9556, -1.0905, -2.9526,  2.0430,\n",
            "         2.0230, -2.2324], device='cuda:0')\n",
            "Baseline pos:  tensor([-2.1965,  3.6863, -0.1967, -1.0901,  1.9350, -1.0902, -2.9674,  1.6473,\n",
            "         2.4179, -2.2169], device='cuda:0')\n",
            "RMSE Loss after 400 simulations: 0.2739377911575139\n",
            "\n",
            "\n",
            "RMSE Loss on test data: 0.2739, RMSE loss compared with baseline: 0.2621\n",
            "R2_score: 0.9826, R2_score compared with baseline: 0.9845\n"
          ]
        }
      ]
    },
    {
      "cell_type": "markdown",
      "source": [
        "t=0 -> t=1"
      ],
      "metadata": {
        "id": "Imbk1sjrXIta"
      },
      "id": "Imbk1sjrXIta"
    },
    {
      "cell_type": "code",
      "source": [
        "# actual training\n",
        "import torch.optim as optim\n",
        "\n",
        "optimizer = torch.optim.Adam(model.parameters(), lr=1e-4)\n",
        "criterion = nn.MSELoss()\n",
        "\n",
        "save_path = 'MLP-checkpoint_1.pt'\n",
        "train_losses_1, val_losses_1, best_val_loss_1, epoch_loss_1 = train(model, train_loader_2, val_loader_2, num_epochs, criterion, save_path)"
      ],
      "metadata": {
        "id": "Tkv7f5PcFmPT",
        "colab": {
          "base_uri": "https://localhost:8080/"
        },
        "outputId": "11c508c1-23e7-4d18-9f06-9c0acec810b8"
      },
      "id": "Tkv7f5PcFmPT",
      "execution_count": 29,
      "outputs": [
        {
          "output_type": "stream",
          "name": "stdout",
          "text": [
            "Starting epoch 1\n",
            "Epoch [1/100], train_loss: 0.3196, val_loss: 0.4183, elapsed_time: 3.8114\n",
            "Model saved to ==> MLP-checkpoint_1.pt\n",
            "Starting epoch 2\n",
            "Epoch [2/100], train_loss: 0.3036, val_loss: 0.4194, elapsed_time: 4.5919\n",
            "Starting epoch 3\n",
            "Epoch [3/100], train_loss: 0.2982, val_loss: 0.4214, elapsed_time: 4.7670\n",
            "Starting epoch 4\n",
            "Epoch [4/100], train_loss: 0.2944, val_loss: 0.4216, elapsed_time: 3.6669\n",
            "Starting epoch 5\n",
            "Epoch [5/100], train_loss: 0.2912, val_loss: 0.4230, elapsed_time: 3.7173\n",
            "Starting epoch 6\n",
            "Epoch [6/100], train_loss: 0.2887, val_loss: 0.4227, elapsed_time: 3.6831\n",
            "Starting epoch 7\n",
            "Epoch [7/100], train_loss: 0.2866, val_loss: 0.4245, elapsed_time: 3.6879\n",
            "Starting epoch 8\n",
            "Epoch [8/100], train_loss: 0.2842, val_loss: 0.4283, elapsed_time: 3.7264\n",
            "Starting epoch 9\n",
            "Epoch [9/100], train_loss: 0.2827, val_loss: 0.4213, elapsed_time: 3.6781\n",
            "Starting epoch 10\n",
            "Epoch [10/100], train_loss: 0.2811, val_loss: 0.4345, elapsed_time: 3.6854\n",
            "Starting epoch 11\n",
            "Epoch [11/100], train_loss: 0.2788, val_loss: 0.4242, elapsed_time: 3.6690\n",
            "Starting epoch 12\n",
            "Epoch [12/100], train_loss: 0.2777, val_loss: 0.4355, elapsed_time: 3.9194\n",
            "Starting epoch 13\n",
            "Epoch [13/100], train_loss: 0.2756, val_loss: 0.4257, elapsed_time: 3.7981\n",
            "Starting epoch 14\n",
            "Epoch [14/100], train_loss: 0.2740, val_loss: 0.4382, elapsed_time: 3.6899\n",
            "Starting epoch 15\n",
            "Epoch [15/100], train_loss: 0.2726, val_loss: 0.4316, elapsed_time: 3.6790\n",
            "Starting epoch 16\n",
            "Epoch [16/100], train_loss: 0.2711, val_loss: 0.4351, elapsed_time: 3.6658\n",
            "Starting epoch 17\n",
            "Epoch [17/100], train_loss: 0.2700, val_loss: 0.4365, elapsed_time: 3.6759\n",
            "Starting epoch 18\n",
            "Epoch [18/100], train_loss: 0.2693, val_loss: 0.4321, elapsed_time: 3.6731\n",
            "Starting epoch 19\n",
            "Epoch [19/100], train_loss: 0.2680, val_loss: 0.4344, elapsed_time: 3.6648\n",
            "Starting epoch 20\n",
            "Epoch [20/100], train_loss: 0.2662, val_loss: 0.4350, elapsed_time: 3.6723\n",
            "Starting epoch 21\n",
            "Epoch [21/100], train_loss: 0.2653, val_loss: 0.4344, elapsed_time: 3.6838\n",
            "Starting epoch 22\n",
            "Epoch [22/100], train_loss: 0.2642, val_loss: 0.4385, elapsed_time: 3.6605\n",
            "Starting epoch 23\n",
            "Epoch [23/100], train_loss: 0.2637, val_loss: 0.4322, elapsed_time: 3.6630\n",
            "Starting epoch 24\n",
            "Epoch [24/100], train_loss: 0.2618, val_loss: 0.4342, elapsed_time: 3.6781\n",
            "Starting epoch 25\n",
            "Epoch [25/100], train_loss: 0.2617, val_loss: 0.4351, elapsed_time: 3.6727\n",
            "Starting epoch 26\n",
            "Epoch [26/100], train_loss: 0.2602, val_loss: 0.4369, elapsed_time: 3.7064\n",
            "Starting epoch 27\n",
            "Epoch [27/100], train_loss: 0.2589, val_loss: 0.4317, elapsed_time: 3.6965\n",
            "Starting epoch 28\n",
            "Epoch [28/100], train_loss: 0.2589, val_loss: 0.4370, elapsed_time: 3.6576\n",
            "Starting epoch 29\n",
            "Epoch [29/100], train_loss: 0.2576, val_loss: 0.4350, elapsed_time: 3.6706\n",
            "Starting epoch 30\n",
            "Epoch [30/100], train_loss: 0.2562, val_loss: 0.4330, elapsed_time: 3.6657\n",
            "Starting epoch 31\n",
            "Epoch [31/100], train_loss: 0.2564, val_loss: 0.4380, elapsed_time: 3.6786\n",
            "Starting epoch 32\n",
            "Epoch [32/100], train_loss: 0.2550, val_loss: 0.4369, elapsed_time: 3.6679\n",
            "Starting epoch 33\n",
            "Epoch [33/100], train_loss: 0.2532, val_loss: 0.4407, elapsed_time: 3.6634\n",
            "Starting epoch 34\n",
            "Epoch [34/100], train_loss: 0.2527, val_loss: 0.4278, elapsed_time: 3.6990\n",
            "Starting epoch 35\n",
            "Epoch [35/100], train_loss: 0.2518, val_loss: 0.4431, elapsed_time: 3.8058\n",
            "Starting epoch 36\n",
            "Epoch [36/100], train_loss: 0.2513, val_loss: 0.4386, elapsed_time: 3.6857\n",
            "Starting epoch 37\n",
            "Epoch [37/100], train_loss: 0.2506, val_loss: 0.4327, elapsed_time: 3.6675\n",
            "Starting epoch 38\n",
            "Epoch [38/100], train_loss: 0.2491, val_loss: 0.4345, elapsed_time: 3.6827\n",
            "Starting epoch 39\n",
            "Epoch [39/100], train_loss: 0.2482, val_loss: 0.4425, elapsed_time: 3.6489\n",
            "Starting epoch 40\n",
            "Epoch [40/100], train_loss: 0.2481, val_loss: 0.4325, elapsed_time: 3.6771\n",
            "Starting epoch 41\n",
            "Epoch [41/100], train_loss: 0.2470, val_loss: 0.4441, elapsed_time: 3.6714\n",
            "Starting epoch 42\n",
            "Epoch [42/100], train_loss: 0.2457, val_loss: 0.4345, elapsed_time: 3.6739\n",
            "Starting epoch 43\n",
            "Epoch [43/100], train_loss: 0.2442, val_loss: 0.4380, elapsed_time: 3.7019\n",
            "Starting epoch 44\n",
            "Epoch [44/100], train_loss: 0.2443, val_loss: 0.4349, elapsed_time: 3.6438\n",
            "Starting epoch 45\n",
            "Epoch [45/100], train_loss: 0.2423, val_loss: 0.4427, elapsed_time: 3.7034\n",
            "Starting epoch 46\n",
            "Epoch [46/100], train_loss: 0.2428, val_loss: 0.4330, elapsed_time: 3.6782\n",
            "Starting epoch 47\n",
            "Epoch [47/100], train_loss: 0.2414, val_loss: 0.4391, elapsed_time: 3.6985\n",
            "Starting epoch 48\n",
            "Epoch [48/100], train_loss: 0.2412, val_loss: 0.4420, elapsed_time: 3.6876\n",
            "Starting epoch 49\n",
            "Epoch [49/100], train_loss: 0.2399, val_loss: 0.4333, elapsed_time: 3.7136\n",
            "Starting epoch 50\n",
            "Epoch [50/100], train_loss: 0.2392, val_loss: 0.4422, elapsed_time: 3.6772\n",
            "Starting epoch 51\n",
            "Epoch [51/100], train_loss: 0.2378, val_loss: 0.4396, elapsed_time: 3.6992\n",
            "Starting epoch 52\n",
            "Epoch [52/100], train_loss: 0.2373, val_loss: 0.4440, elapsed_time: 3.6996\n",
            "Starting epoch 53\n",
            "Epoch [53/100], train_loss: 0.2370, val_loss: 0.4419, elapsed_time: 3.7239\n",
            "Starting epoch 54\n",
            "Epoch [54/100], train_loss: 0.2364, val_loss: 0.4410, elapsed_time: 3.7942\n",
            "Starting epoch 55\n",
            "Epoch [55/100], train_loss: 0.2352, val_loss: 0.4467, elapsed_time: 3.7553\n",
            "Starting epoch 56\n",
            "Epoch [56/100], train_loss: 0.2340, val_loss: 0.4389, elapsed_time: 3.6683\n",
            "Starting epoch 57\n",
            "Epoch [57/100], train_loss: 0.2334, val_loss: 0.4454, elapsed_time: 3.6808\n",
            "Starting epoch 58\n",
            "Epoch [58/100], train_loss: 0.2333, val_loss: 0.4436, elapsed_time: 3.6328\n",
            "Starting epoch 59\n",
            "Epoch [59/100], train_loss: 0.2318, val_loss: 0.4424, elapsed_time: 3.6364\n",
            "Starting epoch 60\n",
            "Epoch [60/100], train_loss: 0.2325, val_loss: 0.4468, elapsed_time: 3.6809\n",
            "Starting epoch 61\n",
            "Epoch [61/100], train_loss: 0.2307, val_loss: 0.4478, elapsed_time: 3.6749\n",
            "Starting epoch 62\n",
            "Epoch [62/100], train_loss: 0.2306, val_loss: 0.4436, elapsed_time: 3.6734\n",
            "Starting epoch 63\n",
            "Epoch [63/100], train_loss: 0.2297, val_loss: 0.4373, elapsed_time: 3.7009\n",
            "Starting epoch 64\n",
            "Epoch [64/100], train_loss: 0.2292, val_loss: 0.4518, elapsed_time: 3.6747\n",
            "Starting epoch 65\n",
            "Epoch [65/100], train_loss: 0.2277, val_loss: 0.4512, elapsed_time: 3.6968\n",
            "Starting epoch 66\n",
            "Epoch [66/100], train_loss: 0.2278, val_loss: 0.4407, elapsed_time: 3.6856\n",
            "Starting epoch 67\n",
            "Epoch [67/100], train_loss: 0.2271, val_loss: 0.4519, elapsed_time: 3.6794\n",
            "Starting epoch 68\n",
            "Epoch [68/100], train_loss: 0.2252, val_loss: 0.4481, elapsed_time: 3.7161\n",
            "Starting epoch 69\n",
            "Epoch [69/100], train_loss: 0.2257, val_loss: 0.4539, elapsed_time: 3.6719\n",
            "Starting epoch 70\n",
            "Epoch [70/100], train_loss: 0.2244, val_loss: 0.4492, elapsed_time: 3.6785\n",
            "Starting epoch 71\n",
            "Epoch [71/100], train_loss: 0.2246, val_loss: 0.4491, elapsed_time: 3.6721\n",
            "Starting epoch 72\n",
            "Epoch [72/100], train_loss: 0.2238, val_loss: 0.4544, elapsed_time: 3.6569\n",
            "Starting epoch 73\n",
            "Epoch [73/100], train_loss: 0.2232, val_loss: 0.4502, elapsed_time: 3.6637\n",
            "Starting epoch 74\n",
            "Epoch [74/100], train_loss: 0.2224, val_loss: 0.4469, elapsed_time: 3.6428\n",
            "Starting epoch 75\n",
            "Epoch [75/100], train_loss: 0.2215, val_loss: 0.4511, elapsed_time: 3.6721\n",
            "Starting epoch 76\n",
            "Epoch [76/100], train_loss: 0.2206, val_loss: 0.4478, elapsed_time: 3.6740\n",
            "Starting epoch 77\n",
            "Epoch [77/100], train_loss: 0.2194, val_loss: 0.4505, elapsed_time: 3.6524\n",
            "Starting epoch 78\n",
            "Epoch [78/100], train_loss: 0.2199, val_loss: 0.4545, elapsed_time: 3.6974\n",
            "Starting epoch 79\n",
            "Epoch [79/100], train_loss: 0.2193, val_loss: 0.4480, elapsed_time: 3.6839\n",
            "Starting epoch 80\n",
            "Epoch [80/100], train_loss: 0.2180, val_loss: 0.4519, elapsed_time: 3.6595\n",
            "Starting epoch 81\n",
            "Epoch [81/100], train_loss: 0.2170, val_loss: 0.4480, elapsed_time: 3.6680\n",
            "Starting epoch 82\n",
            "Epoch [82/100], train_loss: 0.2168, val_loss: 0.4523, elapsed_time: 3.6520\n",
            "Starting epoch 83\n",
            "Epoch [83/100], train_loss: 0.2165, val_loss: 0.4465, elapsed_time: 3.6718\n",
            "Starting epoch 84\n",
            "Epoch [84/100], train_loss: 0.2171, val_loss: 0.4549, elapsed_time: 3.6783\n",
            "Starting epoch 85\n",
            "Epoch [85/100], train_loss: 0.2161, val_loss: 0.4564, elapsed_time: 3.6470\n",
            "Starting epoch 86\n",
            "Epoch [86/100], train_loss: 0.2147, val_loss: 0.4547, elapsed_time: 3.6839\n",
            "Starting epoch 87\n",
            "Epoch [87/100], train_loss: 0.2151, val_loss: 0.4553, elapsed_time: 3.7025\n",
            "Starting epoch 88\n",
            "Epoch [88/100], train_loss: 0.2140, val_loss: 0.4543, elapsed_time: 3.6615\n",
            "Starting epoch 89\n",
            "Epoch [89/100], train_loss: 0.2129, val_loss: 0.4522, elapsed_time: 3.6351\n",
            "Starting epoch 90\n",
            "Epoch [90/100], train_loss: 0.2133, val_loss: 0.4550, elapsed_time: 3.6842\n",
            "Starting epoch 91\n",
            "Epoch [91/100], train_loss: 0.2117, val_loss: 0.4529, elapsed_time: 3.6856\n",
            "Starting epoch 92\n",
            "Epoch [92/100], train_loss: 0.2123, val_loss: 0.4574, elapsed_time: 3.6701\n",
            "Starting epoch 93\n",
            "Epoch [93/100], train_loss: 0.2112, val_loss: 0.4562, elapsed_time: 3.7827\n",
            "Starting epoch 94\n",
            "Epoch [94/100], train_loss: 0.2110, val_loss: 0.4561, elapsed_time: 3.6469\n",
            "Starting epoch 95\n",
            "Epoch [95/100], train_loss: 0.2099, val_loss: 0.4572, elapsed_time: 3.6592\n",
            "Starting epoch 96\n",
            "Epoch [96/100], train_loss: 0.2085, val_loss: 0.4586, elapsed_time: 3.6570\n",
            "Starting epoch 97\n",
            "Epoch [97/100], train_loss: 0.2082, val_loss: 0.4597, elapsed_time: 3.6817\n",
            "Starting epoch 98\n",
            "Epoch [98/100], train_loss: 0.2076, val_loss: 0.4556, elapsed_time: 3.6772\n",
            "Starting epoch 99\n",
            "Epoch [99/100], train_loss: 0.2073, val_loss: 0.4588, elapsed_time: 3.6457\n",
            "Starting epoch 100\n",
            "Epoch [100/100], train_loss: 0.2070, val_loss: 0.4589, elapsed_time: 3.6599\n",
            "Finished Training\n"
          ]
        }
      ]
    },
    {
      "cell_type": "code",
      "source": [
        "# plotting of training and validation loss\n",
        "plt.xlabel('epoch')\n",
        "plt.ylabel('loss')\n",
        "plt.plot(train_losses_1, label='Train Loss(t=1)')\n",
        "plt.plot(val_losses_1, label=\"Validation Loss(t=1)\")\n",
        "plt.title(\"Training and Validation Loss [Epoch {}, Min val_loss {:.4f}]\".format(epoch_loss_1, best_val_loss_1))\n",
        "plt.legend(loc='upper right')\n",
        "plt.show()"
      ],
      "metadata": {
        "id": "VkK9eSPeFmL8",
        "colab": {
          "base_uri": "https://localhost:8080/",
          "height": 295
        },
        "outputId": "2f67cd33-495b-4a81-d57a-1e6d60a486ed"
      },
      "id": "VkK9eSPeFmL8",
      "execution_count": 30,
      "outputs": [
        {
          "output_type": "display_data",
          "data": {
            "text/plain": [
              "<Figure size 432x288 with 1 Axes>"
            ],
            "image/png": "[encoded data removed]"
          },
          "metadata": {
            "needs_background": "light"
          }
        }
      ]
    },
    {
      "cell_type": "code",
      "source": [
        "# Testing on previously trained model\n",
        "import torch.optim as optim\n",
        "load_model = MLP().to(device)\n",
        "load_optimizer = optim.Adam(model.parameters(),lr=1e-4)\n",
        "\n",
        "best_val_loss = load_checkpoint(load_model, load_optimizer)\n",
        "\n",
        "print('Best val_loss: {:.8f}'.format(best_val_loss))\n",
        "\n",
        "test_loss, r2_score, test_loss_baseline, r2_score_baseline = eval(load_model, test_loader_2, criterion, 1)\n",
        "print('RMSE Loss on test data: {:.4f}, RMSE loss compared with baseline: {:.4f}'.format(test_loss, test_loss_baseline))\n",
        "print('R2_score: {:.4f}, R2_score compared with baseline: {:.4f}'.format(r2_score, r2_score_baseline))"
      ],
      "metadata": {
        "colab": {
          "base_uri": "https://localhost:8080/"
        },
        "id": "KTY755BHXdpx",
        "outputId": "d39258ab-f3c5-4ca5-d469-20b1b77e4402"
      },
      "id": "KTY755BHXdpx",
      "execution_count": 31,
      "outputs": [
        {
          "output_type": "stream",
          "name": "stdout",
          "text": [
            "Model loaded from <== MLP-checkpoint_1.pt\n",
            "Best val_loss: 0.41830563\n",
            "Output pos:  tensor([-0.0359,  0.4712,  2.9832,  1.8261, -5.4901,  1.1578,  1.2313,  2.1766,\n",
            "        -1.9904,  4.4691], device='cuda:0')\n",
            "Actual pos:  tensor([ 0.3558, -0.2007,  3.4183,  1.4193, -5.5438,  1.5030,  1.2700,  2.2479,\n",
            "        -1.6340,  3.8536], device='cuda:0')\n",
            "Baseline pos:  tensor([-0.6233,  0.8033,  3.3763,  1.4254, -5.5328,  1.5768,  1.2014,  2.1829,\n",
            "        -1.5697,  3.8491], device='cuda:0')\n",
            "RMSE Loss after 200 simulations: 0.4346496071666479\n",
            "\n",
            "\n",
            "Output pos:  tensor([-2.3804,  4.2887, -0.6864, -1.2712,  2.1387, -1.4990, -3.3588,  2.2076,\n",
            "         2.7036, -2.3168], device='cuda:0')\n",
            "Actual pos:  tensor([-2.4174,  3.9788, -0.7478, -0.7317,  2.4002, -0.8706, -3.1489,  2.1728,\n",
            "         2.4587, -2.7947], device='cuda:0')\n",
            "Baseline pos:  tensor([-2.4378,  4.0912, -0.0060, -1.4693,  2.3040, -0.8683, -3.2049,  1.6674,\n",
            "         2.9617, -2.7387], device='cuda:0')\n",
            "RMSE Loss after 400 simulations: 0.43335452511906625\n",
            "\n",
            "\n",
            "RMSE Loss on test data: 0.4334, RMSE loss compared with baseline: 0.4889\n",
            "R2_score: 0.9635, R2_score compared with baseline: 0.9542\n"
          ]
        }
      ]
    },
    {
      "cell_type": "markdown",
      "source": [
        "t=0 -> t=1.5"
      ],
      "metadata": {
        "id": "sEP-IJq8XpiV"
      },
      "id": "sEP-IJq8XpiV"
    },
    {
      "cell_type": "code",
      "source": [
        "#training model for predicting position at t=0.5\n",
        "import torch.optim as optim\n",
        "\n",
        "optimizer = torch.optim.Adam(model.parameters(), lr=0.001)\n",
        "criterion = nn.MSELoss()\n",
        "\n",
        "save_path = 'MLP-checkpoint_1.pt'\n",
        "train_losses_1, val_losses_1, best_val_loss_1, epoch_loss_1 = train(model, train_loader_3, val_loader_3, num_epochs, criterion, save_path)"
      ],
      "metadata": {
        "id": "8gQQehQTbvTY",
        "colab": {
          "base_uri": "https://localhost:8080/"
        },
        "outputId": "12bf8e9a-b92c-4d84-add2-b0763232bb25"
      },
      "id": "8gQQehQTbvTY",
      "execution_count": 32,
      "outputs": [
        {
          "output_type": "stream",
          "name": "stdout",
          "text": [
            "Starting epoch 1\n",
            "Epoch [1/100], train_loss: 0.7329, val_loss: 0.8646, elapsed_time: 3.7211\n",
            "Model saved to ==> MLP-checkpoint_1.pt\n",
            "Starting epoch 2\n",
            "Epoch [2/100], train_loss: 0.7013, val_loss: 0.8218, elapsed_time: 3.6528\n",
            "Model saved to ==> MLP-checkpoint_1.pt\n",
            "Starting epoch 3\n",
            "Epoch [3/100], train_loss: 0.6753, val_loss: 0.8087, elapsed_time: 3.7006\n",
            "Model saved to ==> MLP-checkpoint_1.pt\n",
            "Starting epoch 4\n",
            "Epoch [4/100], train_loss: 0.6628, val_loss: 0.8030, elapsed_time: 3.6589\n",
            "Model saved to ==> MLP-checkpoint_1.pt\n",
            "Starting epoch 5\n",
            "Epoch [5/100], train_loss: 0.6502, val_loss: 0.8191, elapsed_time: 3.7026\n",
            "Starting epoch 6\n",
            "Epoch [6/100], train_loss: 0.6412, val_loss: 0.8498, elapsed_time: 3.6993\n",
            "Starting epoch 7\n",
            "Epoch [7/100], train_loss: 0.6289, val_loss: 0.7818, elapsed_time: 3.7151\n",
            "Model saved to ==> MLP-checkpoint_1.pt\n",
            "Starting epoch 8\n",
            "Epoch [8/100], train_loss: 0.6206, val_loss: 0.8371, elapsed_time: 3.6869\n",
            "Starting epoch 9\n",
            "Epoch [9/100], train_loss: 0.6172, val_loss: 0.8452, elapsed_time: 3.7242\n",
            "Starting epoch 10\n",
            "Epoch [10/100], train_loss: 0.6011, val_loss: 0.8076, elapsed_time: 3.7085\n",
            "Starting epoch 11\n",
            "Epoch [11/100], train_loss: 0.5968, val_loss: 0.8191, elapsed_time: 3.6717\n",
            "Starting epoch 12\n",
            "Epoch [12/100], train_loss: 0.5924, val_loss: 0.8299, elapsed_time: 3.6650\n",
            "Starting epoch 13\n",
            "Epoch [13/100], train_loss: 0.5806, val_loss: 0.8267, elapsed_time: 3.6752\n",
            "Starting epoch 14\n",
            "Epoch [14/100], train_loss: 0.5695, val_loss: 0.8010, elapsed_time: 3.6795\n",
            "Starting epoch 15\n",
            "Epoch [15/100], train_loss: 0.5614, val_loss: 0.8367, elapsed_time: 3.6805\n",
            "Starting epoch 16\n",
            "Epoch [16/100], train_loss: 0.5629, val_loss: 0.8258, elapsed_time: 3.6884\n",
            "Starting epoch 17\n",
            "Epoch [17/100], train_loss: 0.5490, val_loss: 0.8014, elapsed_time: 3.6981\n",
            "Starting epoch 18\n",
            "Epoch [18/100], train_loss: 0.5471, val_loss: 0.8113, elapsed_time: 3.6599\n",
            "Starting epoch 19\n",
            "Epoch [19/100], train_loss: 0.5390, val_loss: 0.8602, elapsed_time: 3.6976\n",
            "Starting epoch 20\n",
            "Epoch [20/100], train_loss: 0.5381, val_loss: 0.8380, elapsed_time: 3.6521\n",
            "Starting epoch 21\n",
            "Epoch [21/100], train_loss: 0.5363, val_loss: 0.8428, elapsed_time: 3.6839\n",
            "Starting epoch 22\n",
            "Epoch [22/100], train_loss: 0.5326, val_loss: 0.8450, elapsed_time: 3.7021\n",
            "Starting epoch 23\n",
            "Epoch [23/100], train_loss: 0.5258, val_loss: 0.8318, elapsed_time: 3.6823\n",
            "Starting epoch 24\n",
            "Epoch [24/100], train_loss: 0.5149, val_loss: 0.8672, elapsed_time: 3.6841\n",
            "Starting epoch 25\n",
            "Epoch [25/100], train_loss: 0.5147, val_loss: 0.8689, elapsed_time: 3.6741\n",
            "Starting epoch 26\n",
            "Epoch [26/100], train_loss: 0.5139, val_loss: 0.8420, elapsed_time: 3.6578\n",
            "Starting epoch 27\n",
            "Epoch [27/100], train_loss: 0.5122, val_loss: 0.8021, elapsed_time: 3.6676\n",
            "Starting epoch 28\n",
            "Epoch [28/100], train_loss: 0.5066, val_loss: 0.8344, elapsed_time: 3.6834\n",
            "Starting epoch 29\n",
            "Epoch [29/100], train_loss: 0.4986, val_loss: 0.8419, elapsed_time: 3.6791\n",
            "Starting epoch 30\n",
            "Epoch [30/100], train_loss: 0.4887, val_loss: 0.8453, elapsed_time: 3.7053\n",
            "Starting epoch 31\n",
            "Epoch [31/100], train_loss: 0.4934, val_loss: 0.8446, elapsed_time: 3.6994\n",
            "Starting epoch 32\n",
            "Epoch [32/100], train_loss: 0.4875, val_loss: 0.8576, elapsed_time: 3.6991\n",
            "Starting epoch 33\n",
            "Epoch [33/100], train_loss: 0.4860, val_loss: 0.8482, elapsed_time: 3.6899\n",
            "Starting epoch 34\n",
            "Epoch [34/100], train_loss: 0.4811, val_loss: 0.8328, elapsed_time: 3.6497\n",
            "Starting epoch 35\n",
            "Epoch [35/100], train_loss: 0.4791, val_loss: 0.8639, elapsed_time: 3.7050\n",
            "Starting epoch 36\n",
            "Epoch [36/100], train_loss: 0.4769, val_loss: 0.8576, elapsed_time: 3.6323\n",
            "Starting epoch 37\n",
            "Epoch [37/100], train_loss: 0.4734, val_loss: 0.8355, elapsed_time: 3.7062\n",
            "Starting epoch 38\n",
            "Epoch [38/100], train_loss: 0.4776, val_loss: 0.8389, elapsed_time: 3.6585\n",
            "Starting epoch 39\n",
            "Epoch [39/100], train_loss: 0.4720, val_loss: 0.8467, elapsed_time: 3.6746\n",
            "Starting epoch 40\n",
            "Epoch [40/100], train_loss: 0.4633, val_loss: 0.8627, elapsed_time: 3.6785\n",
            "Starting epoch 41\n",
            "Epoch [41/100], train_loss: 0.4627, val_loss: 0.8465, elapsed_time: 3.6688\n",
            "Starting epoch 42\n",
            "Epoch [42/100], train_loss: 0.4608, val_loss: 0.8634, elapsed_time: 3.6530\n",
            "Starting epoch 43\n",
            "Epoch [43/100], train_loss: 0.4583, val_loss: 0.8501, elapsed_time: 3.6737\n",
            "Starting epoch 44\n",
            "Epoch [44/100], train_loss: 0.4470, val_loss: 0.8587, elapsed_time: 3.7023\n",
            "Starting epoch 45\n",
            "Epoch [45/100], train_loss: 0.4508, val_loss: 0.8348, elapsed_time: 3.6859\n",
            "Starting epoch 46\n",
            "Epoch [46/100], train_loss: 0.4559, val_loss: 0.8342, elapsed_time: 3.6837\n",
            "Starting epoch 47\n",
            "Epoch [47/100], train_loss: 0.4478, val_loss: 0.8608, elapsed_time: 3.6862\n",
            "Starting epoch 48\n",
            "Epoch [48/100], train_loss: 0.4490, val_loss: 0.8649, elapsed_time: 3.7063\n",
            "Starting epoch 49\n",
            "Epoch [49/100], train_loss: 0.4415, val_loss: 0.8362, elapsed_time: 3.6977\n",
            "Starting epoch 50\n",
            "Epoch [50/100], train_loss: 0.4493, val_loss: 0.8419, elapsed_time: 3.7689\n",
            "Starting epoch 51\n",
            "Epoch [51/100], train_loss: 0.4437, val_loss: 0.8362, elapsed_time: 3.7393\n",
            "Starting epoch 52\n",
            "Epoch [52/100], train_loss: 0.4381, val_loss: 0.8485, elapsed_time: 3.7222\n",
            "Starting epoch 53\n",
            "Epoch [53/100], train_loss: 0.4392, val_loss: 0.8290, elapsed_time: 3.7738\n",
            "Starting epoch 54\n",
            "Epoch [54/100], train_loss: 0.4364, val_loss: 0.8553, elapsed_time: 3.7219\n",
            "Starting epoch 55\n",
            "Epoch [55/100], train_loss: 0.4329, val_loss: 0.8514, elapsed_time: 3.6606\n",
            "Starting epoch 56\n",
            "Epoch [56/100], train_loss: 0.4359, val_loss: 0.8358, elapsed_time: 3.6865\n",
            "Starting epoch 57\n",
            "Epoch [57/100], train_loss: 0.4280, val_loss: 0.8420, elapsed_time: 3.6402\n",
            "Starting epoch 58\n",
            "Epoch [58/100], train_loss: 0.4319, val_loss: 0.8154, elapsed_time: 3.6479\n",
            "Starting epoch 59\n",
            "Epoch [59/100], train_loss: 0.4267, val_loss: 0.8334, elapsed_time: 3.6267\n",
            "Starting epoch 60\n",
            "Epoch [60/100], train_loss: 0.4202, val_loss: 0.8795, elapsed_time: 3.6731\n",
            "Starting epoch 61\n",
            "Epoch [61/100], train_loss: 0.4283, val_loss: 0.8290, elapsed_time: 3.6608\n",
            "Starting epoch 62\n",
            "Epoch [62/100], train_loss: 0.4231, val_loss: 0.8675, elapsed_time: 3.6900\n",
            "Starting epoch 63\n",
            "Epoch [63/100], train_loss: 0.4146, val_loss: 0.8577, elapsed_time: 3.6925\n",
            "Starting epoch 64\n",
            "Epoch [64/100], train_loss: 0.4203, val_loss: 0.8675, elapsed_time: 3.6342\n",
            "Starting epoch 65\n",
            "Epoch [65/100], train_loss: 0.4153, val_loss: 0.8494, elapsed_time: 3.6793\n",
            "Starting epoch 66\n",
            "Epoch [66/100], train_loss: 0.4162, val_loss: 0.8454, elapsed_time: 3.6731\n",
            "Starting epoch 67\n",
            "Epoch [67/100], train_loss: 0.4134, val_loss: 0.8423, elapsed_time: 3.7125\n",
            "Starting epoch 68\n",
            "Epoch [68/100], train_loss: 0.4159, val_loss: 0.8904, elapsed_time: 3.6699\n",
            "Starting epoch 69\n",
            "Epoch [69/100], train_loss: 0.4181, val_loss: 0.8743, elapsed_time: 3.6660\n",
            "Starting epoch 70\n",
            "Epoch [70/100], train_loss: 0.4120, val_loss: 0.8626, elapsed_time: 3.6877\n",
            "Starting epoch 71\n",
            "Epoch [71/100], train_loss: 0.4102, val_loss: 0.8376, elapsed_time: 3.6706\n",
            "Starting epoch 72\n",
            "Epoch [72/100], train_loss: 0.4151, val_loss: 0.8339, elapsed_time: 3.6362\n",
            "Starting epoch 73\n",
            "Epoch [73/100], train_loss: 0.4088, val_loss: 0.8314, elapsed_time: 3.6741\n",
            "Starting epoch 74\n",
            "Epoch [74/100], train_loss: 0.4029, val_loss: 0.8521, elapsed_time: 3.7006\n",
            "Starting epoch 75\n",
            "Epoch [75/100], train_loss: 0.4032, val_loss: 0.8578, elapsed_time: 3.6772\n",
            "Starting epoch 76\n",
            "Epoch [76/100], train_loss: 0.4038, val_loss: 0.8232, elapsed_time: 3.6687\n",
            "Starting epoch 77\n",
            "Epoch [77/100], train_loss: 0.4062, val_loss: 0.8406, elapsed_time: 3.6920\n",
            "Starting epoch 78\n",
            "Epoch [78/100], train_loss: 0.4055, val_loss: 0.8960, elapsed_time: 3.6821\n",
            "Starting epoch 79\n",
            "Epoch [79/100], train_loss: 0.4007, val_loss: 0.8433, elapsed_time: 3.6749\n",
            "Starting epoch 80\n",
            "Epoch [80/100], train_loss: 0.4015, val_loss: 0.8425, elapsed_time: 3.6601\n",
            "Starting epoch 81\n",
            "Epoch [81/100], train_loss: 0.3977, val_loss: 0.8696, elapsed_time: 3.6655\n",
            "Starting epoch 82\n",
            "Epoch [82/100], train_loss: 0.3952, val_loss: 0.8340, elapsed_time: 3.6919\n",
            "Starting epoch 83\n",
            "Epoch [83/100], train_loss: 0.4034, val_loss: 0.8639, elapsed_time: 3.6904\n",
            "Starting epoch 84\n",
            "Epoch [84/100], train_loss: 0.3998, val_loss: 0.8253, elapsed_time: 3.6818\n",
            "Starting epoch 85\n",
            "Epoch [85/100], train_loss: 0.3993, val_loss: 0.8706, elapsed_time: 3.6553\n",
            "Starting epoch 86\n",
            "Epoch [86/100], train_loss: 0.3967, val_loss: 0.8702, elapsed_time: 3.6772\n",
            "Starting epoch 87\n",
            "Epoch [87/100], train_loss: 0.3913, val_loss: 0.8397, elapsed_time: 3.6380\n",
            "Starting epoch 88\n",
            "Epoch [88/100], train_loss: 0.3889, val_loss: 0.8414, elapsed_time: 3.6561\n",
            "Starting epoch 89\n",
            "Epoch [89/100], train_loss: 0.3926, val_loss: 0.8421, elapsed_time: 3.6517\n",
            "Starting epoch 90\n",
            "Epoch [90/100], train_loss: 0.3911, val_loss: 0.8357, elapsed_time: 3.6353\n",
            "Starting epoch 91\n",
            "Epoch [91/100], train_loss: 0.3957, val_loss: 0.8734, elapsed_time: 3.6810\n",
            "Starting epoch 92\n",
            "Epoch [92/100], train_loss: 0.3940, val_loss: 0.8634, elapsed_time: 3.6928\n",
            "Starting epoch 93\n",
            "Epoch [93/100], train_loss: 0.3911, val_loss: 0.8507, elapsed_time: 3.6699\n",
            "Starting epoch 94\n",
            "Epoch [94/100], train_loss: 0.3942, val_loss: 0.8682, elapsed_time: 3.6581\n",
            "Starting epoch 95\n",
            "Epoch [95/100], train_loss: 0.3899, val_loss: 0.8427, elapsed_time: 3.6650\n",
            "Starting epoch 96\n",
            "Epoch [96/100], train_loss: 0.3882, val_loss: 0.8570, elapsed_time: 3.6517\n",
            "Starting epoch 97\n",
            "Epoch [97/100], train_loss: 0.3879, val_loss: 0.8515, elapsed_time: 3.6701\n",
            "Starting epoch 98\n",
            "Epoch [98/100], train_loss: 0.3895, val_loss: 0.8482, elapsed_time: 3.6382\n",
            "Starting epoch 99\n",
            "Epoch [99/100], train_loss: 0.3835, val_loss: 0.8186, elapsed_time: 3.6778\n",
            "Starting epoch 100\n",
            "Epoch [100/100], train_loss: 0.3875, val_loss: 0.8463, elapsed_time: 3.6746\n",
            "Finished Training\n"
          ]
        }
      ]
    },
    {
      "cell_type": "code",
      "source": [
        "plt.xlabel('epoch')\n",
        "plt.ylabel('loss')\n",
        "plt.plot(train_losses_1, label='Train Loss(t=1.5)')\n",
        "plt.plot(val_losses_1, label=\"Validation Loss(t=1.5)\")\n",
        "plt.title(\"Training and Validation Loss [Epoch {}, Min val_loss {:.4f}]\".format(epoch_loss_1, best_val_loss_1))\n",
        "plt.legend( loc='upper right')\n",
        "plt.show()"
      ],
      "metadata": {
        "id": "i_Gq0yCIb9Eu",
        "colab": {
          "base_uri": "https://localhost:8080/",
          "height": 295
        },
        "outputId": "49b637bf-043f-4d9c-c18c-5bd566faff02"
      },
      "id": "i_Gq0yCIb9Eu",
      "execution_count": 33,
      "outputs": [
        {
          "output_type": "display_data",
          "data": {
            "text/plain": [
              "<Figure size 432x288 with 1 Axes>"
            ],
            "image/png": "[encoded data removed]"
          },
          "metadata": {
            "needs_background": "light"
          }
        }
      ]
    },
    {
      "cell_type": "code",
      "source": [
        "# Testing on previously trained model\n",
        "import torch.optim as optim\n",
        "load_model = MLP().to(device)\n",
        "load_optimizer = optim.Adam(model.parameters(),lr=1e-4)\n",
        "\n",
        "best_val_loss = load_checkpoint(load_model, load_optimizer)\n",
        "\n",
        "print('Best val_loss: {:.8f}'.format(best_val_loss))\n",
        "\n",
        "test_loss, r2_score, test_loss_baseline, r2_score_baseline = eval(load_model, test_loader_3, criterion, 1.5)\n",
        "print('RMSE Loss on test data: {:.4f}, RMSE loss compared with baseline: {:.4f}'.format(test_loss, test_loss_baseline))\n",
        "print('R2_score: {:.4f}, R2_score compared with baseline: {:.4f}'.format(r2_score, r2_score_baseline))"
      ],
      "metadata": {
        "colab": {
          "base_uri": "https://localhost:8080/"
        },
        "id": "6NAKfytuX1KQ",
        "outputId": "064d5b3c-e945-43a8-e2ee-787d76344d02"
      },
      "id": "6NAKfytuX1KQ",
      "execution_count": 34,
      "outputs": [
        {
          "output_type": "stream",
          "name": "stdout",
          "text": [
            "Model loaded from <== MLP-checkpoint_1.pt\n",
            "Best val_loss: 0.78179713\n",
            "Output pos:  tensor([-0.2293,  1.0885,  2.8630,  2.3574, -5.8970,  1.2922,  0.4080,  3.1776,\n",
            "        -1.9576,  4.3588], device='cuda:0')\n",
            "Actual pos:  tensor([ 0.7452, -0.7940,  4.0934,  1.4494, -6.0883,  1.9828,  1.2282,  2.3744,\n",
            "        -1.7309,  4.0963], device='cuda:0')\n",
            "Baseline pos:  tensor([-0.8877,  0.8794,  4.0165,  1.4607, -6.0632,  1.8063,  1.4136,  2.2528,\n",
            "        -1.6071,  4.0853], device='cuda:0')\n",
            "RMSE Loss after 200 simulations: 0.8125611709058285\n",
            "\n",
            "\n",
            "Output pos:  tensor([-3.0175,  4.1656, -0.4199, -1.5989,  2.7717, -1.5077, -4.4956,  3.8893,\n",
            "         3.5552, -3.2522], device='cuda:0')\n",
            "Actual pos:  tensor([-2.6417,  4.2059, -0.6923, -0.9775,  2.9318, -0.6528, -3.3275,  2.7840,\n",
            "         2.4131, -3.3730], device='cuda:0')\n",
            "Baseline pos:  tensor([-2.6790,  4.4960,  0.1848, -1.8486,  2.6730, -0.6465, -3.4424,  1.6875,\n",
            "         3.5055, -3.2604], device='cuda:0')\n",
            "RMSE Loss after 400 simulations: 0.8109790281206369\n",
            "\n",
            "\n",
            "RMSE Loss on test data: 0.8110, RMSE loss compared with baseline: 0.8834\n",
            "R2_score: 0.9112, R2_score compared with baseline: 0.9054\n"
          ]
        }
      ]
    },
    {
      "cell_type": "code",
      "source": [
        ""
      ],
      "metadata": {
        "id": "cwvHVGroNlle"
      },
      "id": "cwvHVGroNlle",
      "execution_count": 34,
      "outputs": []
    }
  ],
  "metadata": {
    "kernelspec": {
      "display_name": "Python 3",
      "language": "python",
      "name": "python3"
    },
    "language_info": {
      "codemirror_mode": {
        "name": "ipython",
        "version": 3
      },
      "file_extension": ".py",
      "mimetype": "text/x-python",
      "name": "python",
      "nbconvert_exporter": "python",
      "pygments_lexer": "ipython3",
      "version": "3.8.8"
    },
    "colab": {
      "name": "a2_MLP.ipynb",
      "provenance": [],
      "collapsed_sections": [],
      "machine_shape": "hm"
    },
    "accelerator": "GPU",
    "gpuClass": "standard"
  },
  "nbformat": 4,
  "nbformat_minor": 5
}